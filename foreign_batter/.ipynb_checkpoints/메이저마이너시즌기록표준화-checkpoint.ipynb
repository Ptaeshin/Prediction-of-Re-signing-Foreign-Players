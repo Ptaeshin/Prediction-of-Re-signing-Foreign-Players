{
 "cells": [
  {
   "cell_type": "markdown",
   "id": "06bdbc03-2d20-4ab5-aa71-72dd42251eb1",
   "metadata": {},
   "source": [
    "# 마이너리그 시즌 별 데이터 불러오기"
   ]
  },
  {
   "cell_type": "code",
   "execution_count": 3,
   "id": "a846d1ea-80b3-490e-b59f-a9e700c33b9b",
   "metadata": {
    "ExecuteTime": {
     "end_time": "2023-05-10T05:59:43.058357Z",
     "start_time": "2023-05-10T05:59:43.045365Z"
    },
    "execution": {
     "iopub.execute_input": "2023-05-04T13:37:03.692011Z",
     "iopub.status.busy": "2023-05-04T13:37:03.692011Z",
     "iopub.status.idle": "2023-05-04T13:37:03.780957Z",
     "shell.execute_reply": "2023-05-04T13:37:03.780957Z",
     "shell.execute_reply.started": "2023-05-04T13:37:03.692011Z"
    },
    "tags": []
   },
   "outputs": [],
   "source": [
    "import pandas as pd\n",
    "import numpy as np\n",
    "\n",
    "\n",
    "#minor = pd.read_excel(\"./103_pre.xlsx\", engine = \"openpyxl\")\n",
    "#minor = pd.read_excel(\"./103_pre2.xlsx\", engine = \"openpyxl\")\n",
    "\n",
    "#minor1 = pd.read_csv('./마이너리그시즌데이터/minor1.csv')\n",
    "#minor2 = pd.read_csv('./마이너리그시즌데이터/minor2.csv')\n",
    "#minor3 = pd.read_csv('./마이너리그시즌데이터/minor3.csv')"
   ]
  },
  {
   "cell_type": "code",
   "execution_count": 4,
   "id": "19cd8705-1b35-4336-99b2-e6d9bd5a5a58",
   "metadata": {
    "ExecuteTime": {
     "end_time": "2023-05-10T05:59:45.399666Z",
     "start_time": "2023-05-10T05:59:45.384670Z"
    },
    "execution": {
     "iopub.execute_input": "2023-05-04T13:55:47.249242Z",
     "iopub.status.busy": "2023-05-04T13:55:47.249242Z",
     "iopub.status.idle": "2023-05-04T13:55:47.268079Z",
     "shell.execute_reply": "2023-05-04T13:55:47.266932Z",
     "shell.execute_reply.started": "2023-05-04T13:55:47.249242Z"
    },
    "tags": []
   },
   "outputs": [],
   "source": [
    "import warnings\n",
    "warnings.filterwarnings(action='ignore')"
   ]
  },
  {
   "cell_type": "code",
   "execution_count": 18,
   "id": "79f06e7b-e111-4366-b085-e82baeb429f8",
   "metadata": {
    "execution": {
     "iopub.execute_input": "2023-05-04T13:37:06.043411Z",
     "iopub.status.busy": "2023-05-04T13:37:06.043411Z",
     "iopub.status.idle": "2023-05-04T13:37:06.066571Z",
     "shell.execute_reply": "2023-05-04T13:37:06.066571Z",
     "shell.execute_reply.started": "2023-05-04T13:37:06.043411Z"
    },
    "tags": []
   },
   "outputs": [
    {
     "data": {
      "text/plain": [
       "['Season',\n",
       " 'W',\n",
       " 'L',\n",
       " 'SV',\n",
       " 'G',\n",
       " 'GS',\n",
       " 'IP',\n",
       " 'K/9',\n",
       " 'BB/9',\n",
       " 'HR/9',\n",
       " 'BABIP',\n",
       " 'LOB%',\n",
       " 'GB%',\n",
       " 'HR/FB',\n",
       " 'ERA',\n",
       " 'FIP',\n",
       " 'xFIP',\n",
       " 'K/BB',\n",
       " 'K%',\n",
       " 'BB%',\n",
       " 'K-BB%',\n",
       " 'AVG',\n",
       " 'WHIP',\n",
       " 'GB/FB',\n",
       " 'LD%',\n",
       " 'FB%',\n",
       " 'IFFB%',\n",
       " 'Pull%',\n",
       " 'Cent%',\n",
       " 'Oppo%']"
      ]
     },
     "execution_count": 18,
     "metadata": {},
     "output_type": "execute_result"
    }
   ],
   "source": [
    "columns = list(minor.columns)\n",
    "columns.remove(\"Name\")\n",
    "columns.remove(\"Team\")\n",
    "columns.remove(\"Level\")\n",
    "columns.remove(\"Age\")\n",
    "columns.remove(\"KBO_FIP\")\n",
    "columns.remove(\"재계약\")\n",
    "columns"
   ]
  },
  {
   "cell_type": "code",
   "execution_count": 27,
   "id": "c4b217e0-fbde-4b9f-ab91-3cf6c2049a97",
   "metadata": {
    "execution": {
     "iopub.execute_input": "2023-05-04T13:38:56.930702Z",
     "iopub.status.busy": "2023-05-04T13:38:56.929707Z",
     "iopub.status.idle": "2023-05-04T13:38:56.949318Z",
     "shell.execute_reply": "2023-05-04T13:38:56.947886Z",
     "shell.execute_reply.started": "2023-05-04T13:38:56.930702Z"
    },
    "tags": []
   },
   "outputs": [],
   "source": [
    "columns2 = columns.copy()\n",
    "columns2.remove(\"Season\")"
   ]
  },
  {
   "cell_type": "code",
   "execution_count": 19,
   "id": "b65b78bd-962f-4823-aca0-4fc7231b5235",
   "metadata": {
    "execution": {
     "iopub.execute_input": "2023-05-04T13:37:06.627616Z",
     "iopub.status.busy": "2023-05-04T13:37:06.627616Z",
     "iopub.status.idle": "2023-05-04T13:37:06.661338Z",
     "shell.execute_reply": "2023-05-04T13:37:06.660036Z",
     "shell.execute_reply.started": "2023-05-04T13:37:06.627616Z"
    },
    "tags": []
   },
   "outputs": [
    {
     "name": "stdout",
     "output_type": "stream",
     "text": [
      "Index(['Season', 'Name', 'Team', 'Level', 'Age', 'IP', 'K/9', 'BB/9', 'K/BB',\n",
      "       'HR/9', 'K%', 'BB%', 'K-BB%', 'AVG', 'WHIP', 'BABIP', 'LOB%', 'ERA',\n",
      "       'FIP', 'E-F', 'xFIP', 'PlayerId', 'W', 'L', 'G', 'GS', 'CG', 'ShO',\n",
      "       'SV', 'BS', 'HLD', 'TBF', 'H', 'R', 'ER', 'HR', 'BB', 'IBB', 'HBP',\n",
      "       'WP', 'BK', 'SO', 'GB/FB', 'LD%', 'GB%', 'FB%', 'IFFB%', 'HR/FB',\n",
      "       'Pull%', 'Cent%', 'Oppo%', 'SwStr%', 'Balls', 'Strikes', 'Pitches'],\n",
      "      dtype='object')\n"
     ]
    }
   ],
   "source": [
    "merge_df = pd.merge(minor1, minor2, on = [\"Season\",\"Name\",\"Team\",\"Level\",\"Age\",\"IP\",\"PlayerId\",\"ERA\"] )\n",
    "merge_df = pd.merge(merge_df, minor3, on = [\"Season\",\"Name\",\"Team\",\"Level\",\"Age\",\"IP\",\"PlayerId\",\"BABIP\"] )\n",
    "merge_df.head()\n",
    "print(merge_df.columns)"
   ]
  },
  {
   "cell_type": "code",
   "execution_count": 20,
   "id": "8daa029b-574e-4cc6-9b1d-1cfe54012a3a",
   "metadata": {
    "execution": {
     "iopub.execute_input": "2023-05-04T13:37:08.226537Z",
     "iopub.status.busy": "2023-05-04T13:37:08.226537Z",
     "iopub.status.idle": "2023-05-04T13:37:08.257463Z",
     "shell.execute_reply": "2023-05-04T13:37:08.257463Z",
     "shell.execute_reply.started": "2023-05-04T13:37:08.226537Z"
    },
    "tags": []
   },
   "outputs": [
    {
     "data": {
      "text/html": [
       "<div>\n",
       "<style scoped>\n",
       "    .dataframe tbody tr th:only-of-type {\n",
       "        vertical-align: middle;\n",
       "    }\n",
       "\n",
       "    .dataframe tbody tr th {\n",
       "        vertical-align: top;\n",
       "    }\n",
       "\n",
       "    .dataframe thead th {\n",
       "        text-align: right;\n",
       "    }\n",
       "</style>\n",
       "<table border=\"1\" class=\"dataframe\">\n",
       "  <thead>\n",
       "    <tr style=\"text-align: right;\">\n",
       "      <th></th>\n",
       "      <th>Season</th>\n",
       "      <th>Name</th>\n",
       "      <th>Team</th>\n",
       "      <th>Level</th>\n",
       "      <th>Age</th>\n",
       "      <th>IP</th>\n",
       "      <th>K/9</th>\n",
       "      <th>BB/9</th>\n",
       "      <th>K/BB</th>\n",
       "      <th>HR/9</th>\n",
       "      <th>...</th>\n",
       "      <th>FB%</th>\n",
       "      <th>IFFB%</th>\n",
       "      <th>HR/FB</th>\n",
       "      <th>Pull%</th>\n",
       "      <th>Cent%</th>\n",
       "      <th>Oppo%</th>\n",
       "      <th>SwStr%</th>\n",
       "      <th>Balls</th>\n",
       "      <th>Strikes</th>\n",
       "      <th>Pitches</th>\n",
       "    </tr>\n",
       "  </thead>\n",
       "  <tbody>\n",
       "    <tr>\n",
       "      <th>0</th>\n",
       "      <td>2010</td>\n",
       "      <td>Cesar Carrillo</td>\n",
       "      <td>SDP</td>\n",
       "      <td>AAA</td>\n",
       "      <td>26</td>\n",
       "      <td>151.0</td>\n",
       "      <td>5.662252</td>\n",
       "      <td>3.397351</td>\n",
       "      <td>1.666667</td>\n",
       "      <td>1.192053</td>\n",
       "      <td>...</td>\n",
       "      <td>0.356998</td>\n",
       "      <td>0.176136</td>\n",
       "      <td>0.113636</td>\n",
       "      <td>0.472656</td>\n",
       "      <td>0.246094</td>\n",
       "      <td>0.281250</td>\n",
       "      <td>0.081841</td>\n",
       "      <td>893</td>\n",
       "      <td>1453</td>\n",
       "      <td>2346</td>\n",
       "    </tr>\n",
       "    <tr>\n",
       "      <th>1</th>\n",
       "      <td>2010</td>\n",
       "      <td>Radhames Liz</td>\n",
       "      <td>SDP</td>\n",
       "      <td>AAA</td>\n",
       "      <td>26</td>\n",
       "      <td>123.0</td>\n",
       "      <td>7.975610</td>\n",
       "      <td>2.780488</td>\n",
       "      <td>2.868421</td>\n",
       "      <td>1.463415</td>\n",
       "      <td>...</td>\n",
       "      <td>0.428184</td>\n",
       "      <td>0.202532</td>\n",
       "      <td>0.126582</td>\n",
       "      <td>0.451613</td>\n",
       "      <td>0.271505</td>\n",
       "      <td>0.276882</td>\n",
       "      <td>0.112690</td>\n",
       "      <td>706</td>\n",
       "      <td>1264</td>\n",
       "      <td>1970</td>\n",
       "    </tr>\n",
       "    <tr>\n",
       "      <th>2</th>\n",
       "      <td>2010</td>\n",
       "      <td>Alan Johnson</td>\n",
       "      <td>COL</td>\n",
       "      <td>AAA</td>\n",
       "      <td>26</td>\n",
       "      <td>141.2</td>\n",
       "      <td>6.352942</td>\n",
       "      <td>2.731765</td>\n",
       "      <td>2.325581</td>\n",
       "      <td>0.889412</td>\n",
       "      <td>...</td>\n",
       "      <td>0.329140</td>\n",
       "      <td>0.171975</td>\n",
       "      <td>0.089172</td>\n",
       "      <td>0.435583</td>\n",
       "      <td>0.235174</td>\n",
       "      <td>0.329243</td>\n",
       "      <td>0.065610</td>\n",
       "      <td>819</td>\n",
       "      <td>1452</td>\n",
       "      <td>2271</td>\n",
       "    </tr>\n",
       "    <tr>\n",
       "      <th>3</th>\n",
       "      <td>2010</td>\n",
       "      <td>Evan MacLane</td>\n",
       "      <td>STL</td>\n",
       "      <td>AAA</td>\n",
       "      <td>27</td>\n",
       "      <td>147.2</td>\n",
       "      <td>4.997743</td>\n",
       "      <td>1.279910</td>\n",
       "      <td>3.904762</td>\n",
       "      <td>1.279910</td>\n",
       "      <td>...</td>\n",
       "      <td>0.373469</td>\n",
       "      <td>0.174863</td>\n",
       "      <td>0.114754</td>\n",
       "      <td>0.423459</td>\n",
       "      <td>0.284294</td>\n",
       "      <td>0.292247</td>\n",
       "      <td>0.087268</td>\n",
       "      <td>684</td>\n",
       "      <td>1413</td>\n",
       "      <td>2097</td>\n",
       "    </tr>\n",
       "    <tr>\n",
       "      <th>4</th>\n",
       "      <td>2010</td>\n",
       "      <td>Josh Banks</td>\n",
       "      <td>HOU</td>\n",
       "      <td>AAA</td>\n",
       "      <td>27</td>\n",
       "      <td>171.2</td>\n",
       "      <td>3.774758</td>\n",
       "      <td>1.939806</td>\n",
       "      <td>1.945946</td>\n",
       "      <td>1.310680</td>\n",
       "      <td>...</td>\n",
       "      <td>0.420690</td>\n",
       "      <td>0.245902</td>\n",
       "      <td>0.102459</td>\n",
       "      <td>0.466777</td>\n",
       "      <td>0.250831</td>\n",
       "      <td>0.282392</td>\n",
       "      <td>0.051668</td>\n",
       "      <td>850</td>\n",
       "      <td>1608</td>\n",
       "      <td>2458</td>\n",
       "    </tr>\n",
       "    <tr>\n",
       "      <th>...</th>\n",
       "      <td>...</td>\n",
       "      <td>...</td>\n",
       "      <td>...</td>\n",
       "      <td>...</td>\n",
       "      <td>...</td>\n",
       "      <td>...</td>\n",
       "      <td>...</td>\n",
       "      <td>...</td>\n",
       "      <td>...</td>\n",
       "      <td>...</td>\n",
       "      <td>...</td>\n",
       "      <td>...</td>\n",
       "      <td>...</td>\n",
       "      <td>...</td>\n",
       "      <td>...</td>\n",
       "      <td>...</td>\n",
       "      <td>...</td>\n",
       "      <td>...</td>\n",
       "      <td>...</td>\n",
       "      <td>...</td>\n",
       "      <td>...</td>\n",
       "    </tr>\n",
       "    <tr>\n",
       "      <th>543</th>\n",
       "      <td>2019</td>\n",
       "      <td>Colin Rea</td>\n",
       "      <td>CHC</td>\n",
       "      <td>AAA</td>\n",
       "      <td>28</td>\n",
       "      <td>148.0</td>\n",
       "      <td>7.297297</td>\n",
       "      <td>3.648649</td>\n",
       "      <td>2.000000</td>\n",
       "      <td>1.033784</td>\n",
       "      <td>...</td>\n",
       "      <td>0.331818</td>\n",
       "      <td>0.239726</td>\n",
       "      <td>0.116438</td>\n",
       "      <td>0.468326</td>\n",
       "      <td>0.196833</td>\n",
       "      <td>0.334842</td>\n",
       "      <td>0.082186</td>\n",
       "      <td>933</td>\n",
       "      <td>1537</td>\n",
       "      <td>2470</td>\n",
       "    </tr>\n",
       "    <tr>\n",
       "      <th>544</th>\n",
       "      <td>2019</td>\n",
       "      <td>Bryse Wilson</td>\n",
       "      <td>ATL</td>\n",
       "      <td>AAA</td>\n",
       "      <td>21</td>\n",
       "      <td>121.0</td>\n",
       "      <td>8.776860</td>\n",
       "      <td>1.933884</td>\n",
       "      <td>4.538462</td>\n",
       "      <td>0.892562</td>\n",
       "      <td>...</td>\n",
       "      <td>0.331412</td>\n",
       "      <td>0.234783</td>\n",
       "      <td>0.104348</td>\n",
       "      <td>0.426966</td>\n",
       "      <td>0.230337</td>\n",
       "      <td>0.342697</td>\n",
       "      <td>0.113624</td>\n",
       "      <td>643</td>\n",
       "      <td>1258</td>\n",
       "      <td>1901</td>\n",
       "    </tr>\n",
       "    <tr>\n",
       "      <th>545</th>\n",
       "      <td>2019</td>\n",
       "      <td>Alex McRae</td>\n",
       "      <td>PIT</td>\n",
       "      <td>AAA</td>\n",
       "      <td>26</td>\n",
       "      <td>114.1</td>\n",
       "      <td>7.950438</td>\n",
       "      <td>3.384840</td>\n",
       "      <td>2.348837</td>\n",
       "      <td>1.574344</td>\n",
       "      <td>...</td>\n",
       "      <td>0.298551</td>\n",
       "      <td>0.155340</td>\n",
       "      <td>0.194175</td>\n",
       "      <td>0.467422</td>\n",
       "      <td>0.260623</td>\n",
       "      <td>0.271955</td>\n",
       "      <td>0.112845</td>\n",
       "      <td>715</td>\n",
       "      <td>1208</td>\n",
       "      <td>1923</td>\n",
       "    </tr>\n",
       "    <tr>\n",
       "      <th>546</th>\n",
       "      <td>2019</td>\n",
       "      <td>Ryan Hartman</td>\n",
       "      <td>HOU</td>\n",
       "      <td>AAA</td>\n",
       "      <td>25</td>\n",
       "      <td>115.2</td>\n",
       "      <td>9.103747</td>\n",
       "      <td>3.501441</td>\n",
       "      <td>2.600000</td>\n",
       "      <td>2.100865</td>\n",
       "      <td>...</td>\n",
       "      <td>0.393768</td>\n",
       "      <td>0.208633</td>\n",
       "      <td>0.194245</td>\n",
       "      <td>0.428571</td>\n",
       "      <td>0.268908</td>\n",
       "      <td>0.302521</td>\n",
       "      <td>0.110699</td>\n",
       "      <td>776</td>\n",
       "      <td>1383</td>\n",
       "      <td>2159</td>\n",
       "    </tr>\n",
       "    <tr>\n",
       "      <th>547</th>\n",
       "      <td>2019</td>\n",
       "      <td>Foster Griffin</td>\n",
       "      <td>KCR</td>\n",
       "      <td>AAA</td>\n",
       "      <td>23</td>\n",
       "      <td>130.2</td>\n",
       "      <td>7.645409</td>\n",
       "      <td>4.408164</td>\n",
       "      <td>1.734375</td>\n",
       "      <td>1.377551</td>\n",
       "      <td>...</td>\n",
       "      <td>0.379397</td>\n",
       "      <td>0.125828</td>\n",
       "      <td>0.132450</td>\n",
       "      <td>0.449878</td>\n",
       "      <td>0.232274</td>\n",
       "      <td>0.317848</td>\n",
       "      <td>0.098048</td>\n",
       "      <td>847</td>\n",
       "      <td>1356</td>\n",
       "      <td>2203</td>\n",
       "    </tr>\n",
       "  </tbody>\n",
       "</table>\n",
       "<p>548 rows × 55 columns</p>\n",
       "</div>"
      ],
      "text/plain": [
       "     Season            Name Team Level  Age     IP       K/9      BB/9  \\\n",
       "0      2010  Cesar Carrillo  SDP   AAA   26  151.0  5.662252  3.397351   \n",
       "1      2010    Radhames Liz  SDP   AAA   26  123.0  7.975610  2.780488   \n",
       "2      2010    Alan Johnson  COL   AAA   26  141.2  6.352942  2.731765   \n",
       "3      2010    Evan MacLane  STL   AAA   27  147.2  4.997743  1.279910   \n",
       "4      2010      Josh Banks  HOU   AAA   27  171.2  3.774758  1.939806   \n",
       "..      ...             ...  ...   ...  ...    ...       ...       ...   \n",
       "543    2019       Colin Rea  CHC   AAA   28  148.0  7.297297  3.648649   \n",
       "544    2019    Bryse Wilson  ATL   AAA   21  121.0  8.776860  1.933884   \n",
       "545    2019      Alex McRae  PIT   AAA   26  114.1  7.950438  3.384840   \n",
       "546    2019    Ryan Hartman  HOU   AAA   25  115.2  9.103747  3.501441   \n",
       "547    2019  Foster Griffin  KCR   AAA   23  130.2  7.645409  4.408164   \n",
       "\n",
       "         K/BB      HR/9  ...       FB%     IFFB%     HR/FB     Pull%  \\\n",
       "0    1.666667  1.192053  ...  0.356998  0.176136  0.113636  0.472656   \n",
       "1    2.868421  1.463415  ...  0.428184  0.202532  0.126582  0.451613   \n",
       "2    2.325581  0.889412  ...  0.329140  0.171975  0.089172  0.435583   \n",
       "3    3.904762  1.279910  ...  0.373469  0.174863  0.114754  0.423459   \n",
       "4    1.945946  1.310680  ...  0.420690  0.245902  0.102459  0.466777   \n",
       "..        ...       ...  ...       ...       ...       ...       ...   \n",
       "543  2.000000  1.033784  ...  0.331818  0.239726  0.116438  0.468326   \n",
       "544  4.538462  0.892562  ...  0.331412  0.234783  0.104348  0.426966   \n",
       "545  2.348837  1.574344  ...  0.298551  0.155340  0.194175  0.467422   \n",
       "546  2.600000  2.100865  ...  0.393768  0.208633  0.194245  0.428571   \n",
       "547  1.734375  1.377551  ...  0.379397  0.125828  0.132450  0.449878   \n",
       "\n",
       "        Cent%     Oppo%    SwStr%  Balls  Strikes  Pitches  \n",
       "0    0.246094  0.281250  0.081841    893     1453     2346  \n",
       "1    0.271505  0.276882  0.112690    706     1264     1970  \n",
       "2    0.235174  0.329243  0.065610    819     1452     2271  \n",
       "3    0.284294  0.292247  0.087268    684     1413     2097  \n",
       "4    0.250831  0.282392  0.051668    850     1608     2458  \n",
       "..        ...       ...       ...    ...      ...      ...  \n",
       "543  0.196833  0.334842  0.082186    933     1537     2470  \n",
       "544  0.230337  0.342697  0.113624    643     1258     1901  \n",
       "545  0.260623  0.271955  0.112845    715     1208     1923  \n",
       "546  0.268908  0.302521  0.110699    776     1383     2159  \n",
       "547  0.232274  0.317848  0.098048    847     1356     2203  \n",
       "\n",
       "[548 rows x 55 columns]"
      ]
     },
     "execution_count": 20,
     "metadata": {},
     "output_type": "execute_result"
    }
   ],
   "source": [
    "merge_df = merge_df.sort_values(by = \"Season\").reset_index(drop = True)\n",
    "merge_df"
   ]
  },
  {
   "cell_type": "code",
   "execution_count": 21,
   "id": "d9458f70-1031-414d-9a10-aff5b962efc6",
   "metadata": {
    "execution": {
     "iopub.execute_input": "2023-05-04T13:37:08.492162Z",
     "iopub.status.busy": "2023-05-04T13:37:08.492162Z",
     "iopub.status.idle": "2023-05-04T13:37:08.502129Z",
     "shell.execute_reply": "2023-05-04T13:37:08.502129Z",
     "shell.execute_reply.started": "2023-05-04T13:37:08.492162Z"
    },
    "tags": []
   },
   "outputs": [
    {
     "data": {
      "text/plain": [
       "Index(['Name', 'Season', 'Team', 'Level', 'Age', 'W', 'L', 'SV', 'G', 'GS',\n",
       "       'IP', 'K/9', 'BB/9', 'HR/9', 'BABIP', 'LOB%', 'GB%', 'HR/FB', 'ERA',\n",
       "       'FIP', 'xFIP', 'K/BB', 'K%', 'BB%', 'K-BB%', 'AVG', 'WHIP', 'GB/FB',\n",
       "       'LD%', 'FB%', 'IFFB%', 'Pull%', 'Cent%', 'Oppo%', 'KBO_FIP', '재계약'],\n",
       "      dtype='object')"
      ]
     },
     "execution_count": 21,
     "metadata": {},
     "output_type": "execute_result"
    }
   ],
   "source": [
    "minor.columns"
   ]
  },
  {
   "cell_type": "code",
   "execution_count": 22,
   "id": "b43dc580-47be-4b6e-b530-3c3f41f08013",
   "metadata": {
    "execution": {
     "iopub.execute_input": "2023-05-04T13:37:08.680660Z",
     "iopub.status.busy": "2023-05-04T13:37:08.679663Z",
     "iopub.status.idle": "2023-05-04T13:37:08.714418Z",
     "shell.execute_reply": "2023-05-04T13:37:08.714418Z",
     "shell.execute_reply.started": "2023-05-04T13:37:08.680660Z"
    },
    "tags": []
   },
   "outputs": [
    {
     "data": {
      "text/html": [
       "<div>\n",
       "<style scoped>\n",
       "    .dataframe tbody tr th:only-of-type {\n",
       "        vertical-align: middle;\n",
       "    }\n",
       "\n",
       "    .dataframe tbody tr th {\n",
       "        vertical-align: top;\n",
       "    }\n",
       "\n",
       "    .dataframe thead th {\n",
       "        text-align: right;\n",
       "    }\n",
       "</style>\n",
       "<table border=\"1\" class=\"dataframe\">\n",
       "  <thead>\n",
       "    <tr style=\"text-align: right;\">\n",
       "      <th></th>\n",
       "      <th>Name</th>\n",
       "      <th>Season</th>\n",
       "      <th>Team</th>\n",
       "      <th>Level</th>\n",
       "      <th>Age</th>\n",
       "      <th>W</th>\n",
       "      <th>L</th>\n",
       "      <th>SV</th>\n",
       "      <th>G</th>\n",
       "      <th>GS</th>\n",
       "      <th>...</th>\n",
       "      <th>WHIP</th>\n",
       "      <th>GB/FB</th>\n",
       "      <th>LD%</th>\n",
       "      <th>FB%</th>\n",
       "      <th>IFFB%</th>\n",
       "      <th>Pull%</th>\n",
       "      <th>Cent%</th>\n",
       "      <th>Oppo%</th>\n",
       "      <th>KBO_FIP</th>\n",
       "      <th>재계약</th>\n",
       "    </tr>\n",
       "  </thead>\n",
       "  <tbody>\n",
       "    <tr>\n",
       "      <th>0</th>\n",
       "      <td>페르난도</td>\n",
       "      <td>2010</td>\n",
       "      <td>NYM</td>\n",
       "      <td>AAA</td>\n",
       "      <td>27</td>\n",
       "      <td>2</td>\n",
       "      <td>1</td>\n",
       "      <td>0</td>\n",
       "      <td>8</td>\n",
       "      <td>8</td>\n",
       "      <td>...</td>\n",
       "      <td>1.55</td>\n",
       "      <td>1.30</td>\n",
       "      <td>0.298</td>\n",
       "      <td>0.305</td>\n",
       "      <td>0.375</td>\n",
       "      <td>0.477</td>\n",
       "      <td>0.220</td>\n",
       "      <td>0.303</td>\n",
       "      <td>4.17</td>\n",
       "      <td>0</td>\n",
       "    </tr>\n",
       "    <tr>\n",
       "      <th>1</th>\n",
       "      <td>핸킨스</td>\n",
       "      <td>2012</td>\n",
       "      <td>TEX</td>\n",
       "      <td>AAA</td>\n",
       "      <td>28</td>\n",
       "      <td>6</td>\n",
       "      <td>7</td>\n",
       "      <td>0</td>\n",
       "      <td>35</td>\n",
       "      <td>10</td>\n",
       "      <td>...</td>\n",
       "      <td>1.57</td>\n",
       "      <td>0.84</td>\n",
       "      <td>0.169</td>\n",
       "      <td>0.451</td>\n",
       "      <td>0.227</td>\n",
       "      <td>0.478</td>\n",
       "      <td>0.254</td>\n",
       "      <td>0.268</td>\n",
       "      <td>4.62</td>\n",
       "      <td>0</td>\n",
       "    </tr>\n",
       "    <tr>\n",
       "      <th>2</th>\n",
       "      <td>올슨</td>\n",
       "      <td>2012</td>\n",
       "      <td>NYM</td>\n",
       "      <td>AAA</td>\n",
       "      <td>28</td>\n",
       "      <td>4</td>\n",
       "      <td>7</td>\n",
       "      <td>0</td>\n",
       "      <td>34</td>\n",
       "      <td>21</td>\n",
       "      <td>...</td>\n",
       "      <td>1.52</td>\n",
       "      <td>1.20</td>\n",
       "      <td>0.207</td>\n",
       "      <td>0.360</td>\n",
       "      <td>0.209</td>\n",
       "      <td>0.418</td>\n",
       "      <td>0.286</td>\n",
       "      <td>0.296</td>\n",
       "      <td>4.69</td>\n",
       "      <td>0</td>\n",
       "    </tr>\n",
       "    <tr>\n",
       "      <th>3</th>\n",
       "      <td>볼스테드</td>\n",
       "      <td>2013</td>\n",
       "      <td>COL</td>\n",
       "      <td>AAA</td>\n",
       "      <td>26</td>\n",
       "      <td>7</td>\n",
       "      <td>6</td>\n",
       "      <td>0</td>\n",
       "      <td>23</td>\n",
       "      <td>22</td>\n",
       "      <td>...</td>\n",
       "      <td>1.57</td>\n",
       "      <td>1.83</td>\n",
       "      <td>0.131</td>\n",
       "      <td>0.307</td>\n",
       "      <td>0.110</td>\n",
       "      <td>0.456</td>\n",
       "      <td>0.236</td>\n",
       "      <td>0.308</td>\n",
       "      <td>5.83</td>\n",
       "      <td>0</td>\n",
       "    </tr>\n",
       "    <tr>\n",
       "      <th>4</th>\n",
       "      <td>마야</td>\n",
       "      <td>2013</td>\n",
       "      <td>WSN</td>\n",
       "      <td>AAA</td>\n",
       "      <td>31</td>\n",
       "      <td>8</td>\n",
       "      <td>8</td>\n",
       "      <td>0</td>\n",
       "      <td>24</td>\n",
       "      <td>24</td>\n",
       "      <td>...</td>\n",
       "      <td>1.28</td>\n",
       "      <td>1.61</td>\n",
       "      <td>0.182</td>\n",
       "      <td>0.314</td>\n",
       "      <td>0.197</td>\n",
       "      <td>0.463</td>\n",
       "      <td>0.190</td>\n",
       "      <td>0.347</td>\n",
       "      <td>4.71</td>\n",
       "      <td>1</td>\n",
       "    </tr>\n",
       "  </tbody>\n",
       "</table>\n",
       "<p>5 rows × 36 columns</p>\n",
       "</div>"
      ],
      "text/plain": [
       "   Name  Season Team Level  Age  W  L  SV   G  GS  ...  WHIP  GB/FB    LD%  \\\n",
       "0  페르난도    2010  NYM   AAA   27  2  1   0   8   8  ...  1.55   1.30  0.298   \n",
       "1   핸킨스    2012  TEX   AAA   28  6  7   0  35  10  ...  1.57   0.84  0.169   \n",
       "2    올슨    2012  NYM   AAA   28  4  7   0  34  21  ...  1.52   1.20  0.207   \n",
       "3  볼스테드    2013  COL   AAA   26  7  6   0  23  22  ...  1.57   1.83  0.131   \n",
       "4    마야    2013  WSN   AAA   31  8  8   0  24  24  ...  1.28   1.61  0.182   \n",
       "\n",
       "     FB%  IFFB%  Pull%  Cent%  Oppo%  KBO_FIP  재계약  \n",
       "0  0.305  0.375  0.477  0.220  0.303     4.17    0  \n",
       "1  0.451  0.227  0.478  0.254  0.268     4.62    0  \n",
       "2  0.360  0.209  0.418  0.286  0.296     4.69    0  \n",
       "3  0.307  0.110  0.456  0.236  0.308     5.83    0  \n",
       "4  0.314  0.197  0.463  0.190  0.347     4.71    1  \n",
       "\n",
       "[5 rows x 36 columns]"
      ]
     },
     "execution_count": 22,
     "metadata": {},
     "output_type": "execute_result"
    }
   ],
   "source": [
    "minor.head()"
   ]
  },
  {
   "cell_type": "code",
   "execution_count": 23,
   "id": "1bfed51f-fa92-4050-a1ee-66e2d8c37489",
   "metadata": {
    "execution": {
     "iopub.execute_input": "2023-05-04T13:37:11.221152Z",
     "iopub.status.busy": "2023-05-04T13:37:11.220173Z",
     "iopub.status.idle": "2023-05-04T13:37:11.262499Z",
     "shell.execute_reply": "2023-05-04T13:37:11.262499Z",
     "shell.execute_reply.started": "2023-05-04T13:37:11.221152Z"
    },
    "tags": []
   },
   "outputs": [
    {
     "data": {
      "text/html": [
       "<div>\n",
       "<style scoped>\n",
       "    .dataframe tbody tr th:only-of-type {\n",
       "        vertical-align: middle;\n",
       "    }\n",
       "\n",
       "    .dataframe tbody tr th {\n",
       "        vertical-align: top;\n",
       "    }\n",
       "\n",
       "    .dataframe thead th {\n",
       "        text-align: right;\n",
       "    }\n",
       "</style>\n",
       "<table border=\"1\" class=\"dataframe\">\n",
       "  <thead>\n",
       "    <tr style=\"text-align: right;\">\n",
       "      <th></th>\n",
       "      <th>Season</th>\n",
       "      <th>W</th>\n",
       "      <th>L</th>\n",
       "      <th>SV</th>\n",
       "      <th>G</th>\n",
       "      <th>GS</th>\n",
       "      <th>IP</th>\n",
       "      <th>K/9</th>\n",
       "      <th>BB/9</th>\n",
       "      <th>HR/9</th>\n",
       "      <th>...</th>\n",
       "      <th>K-BB%</th>\n",
       "      <th>AVG</th>\n",
       "      <th>WHIP</th>\n",
       "      <th>GB/FB</th>\n",
       "      <th>LD%</th>\n",
       "      <th>FB%</th>\n",
       "      <th>IFFB%</th>\n",
       "      <th>Pull%</th>\n",
       "      <th>Cent%</th>\n",
       "      <th>Oppo%</th>\n",
       "    </tr>\n",
       "  </thead>\n",
       "  <tbody>\n",
       "    <tr>\n",
       "      <th>0</th>\n",
       "      <td>2010</td>\n",
       "      <td>2</td>\n",
       "      <td>1</td>\n",
       "      <td>0</td>\n",
       "      <td>8</td>\n",
       "      <td>8</td>\n",
       "      <td>40.0</td>\n",
       "      <td>6.98</td>\n",
       "      <td>2.93</td>\n",
       "      <td>0.68</td>\n",
       "      <td>...</td>\n",
       "      <td>0.102</td>\n",
       "      <td>0.301</td>\n",
       "      <td>1.550</td>\n",
       "      <td>1.300</td>\n",
       "      <td>0.298</td>\n",
       "      <td>0.305</td>\n",
       "      <td>0.375</td>\n",
       "      <td>0.477</td>\n",
       "      <td>0.220</td>\n",
       "      <td>0.303</td>\n",
       "    </tr>\n",
       "    <tr>\n",
       "      <th>1</th>\n",
       "      <td>2012</td>\n",
       "      <td>6</td>\n",
       "      <td>7</td>\n",
       "      <td>0</td>\n",
       "      <td>35</td>\n",
       "      <td>10</td>\n",
       "      <td>83.0</td>\n",
       "      <td>5.42</td>\n",
       "      <td>3.14</td>\n",
       "      <td>1.19</td>\n",
       "      <td>...</td>\n",
       "      <td>0.057</td>\n",
       "      <td>0.296</td>\n",
       "      <td>1.570</td>\n",
       "      <td>0.840</td>\n",
       "      <td>0.169</td>\n",
       "      <td>0.451</td>\n",
       "      <td>0.227</td>\n",
       "      <td>0.478</td>\n",
       "      <td>0.254</td>\n",
       "      <td>0.268</td>\n",
       "    </tr>\n",
       "    <tr>\n",
       "      <th>2</th>\n",
       "      <td>2012</td>\n",
       "      <td>4</td>\n",
       "      <td>7</td>\n",
       "      <td>0</td>\n",
       "      <td>34</td>\n",
       "      <td>21</td>\n",
       "      <td>122.1</td>\n",
       "      <td>7.87</td>\n",
       "      <td>3.90</td>\n",
       "      <td>0.81</td>\n",
       "      <td>...</td>\n",
       "      <td>0.098</td>\n",
       "      <td>0.269</td>\n",
       "      <td>1.520</td>\n",
       "      <td>1.200</td>\n",
       "      <td>0.207</td>\n",
       "      <td>0.360</td>\n",
       "      <td>0.209</td>\n",
       "      <td>0.418</td>\n",
       "      <td>0.286</td>\n",
       "      <td>0.296</td>\n",
       "    </tr>\n",
       "    <tr>\n",
       "      <th>3</th>\n",
       "      <td>2013</td>\n",
       "      <td>7</td>\n",
       "      <td>6</td>\n",
       "      <td>0</td>\n",
       "      <td>23</td>\n",
       "      <td>22</td>\n",
       "      <td>127.2</td>\n",
       "      <td>4.02</td>\n",
       "      <td>3.10</td>\n",
       "      <td>0.85</td>\n",
       "      <td>...</td>\n",
       "      <td>0.023</td>\n",
       "      <td>0.303</td>\n",
       "      <td>1.570</td>\n",
       "      <td>1.830</td>\n",
       "      <td>0.131</td>\n",
       "      <td>0.307</td>\n",
       "      <td>0.110</td>\n",
       "      <td>0.456</td>\n",
       "      <td>0.236</td>\n",
       "      <td>0.308</td>\n",
       "    </tr>\n",
       "    <tr>\n",
       "      <th>4</th>\n",
       "      <td>2013</td>\n",
       "      <td>8</td>\n",
       "      <td>8</td>\n",
       "      <td>0</td>\n",
       "      <td>24</td>\n",
       "      <td>24</td>\n",
       "      <td>146.1</td>\n",
       "      <td>6.09</td>\n",
       "      <td>1.91</td>\n",
       "      <td>0.62</td>\n",
       "      <td>...</td>\n",
       "      <td>0.110</td>\n",
       "      <td>0.269</td>\n",
       "      <td>1.280</td>\n",
       "      <td>1.610</td>\n",
       "      <td>0.182</td>\n",
       "      <td>0.314</td>\n",
       "      <td>0.197</td>\n",
       "      <td>0.463</td>\n",
       "      <td>0.190</td>\n",
       "      <td>0.347</td>\n",
       "    </tr>\n",
       "    <tr>\n",
       "      <th>...</th>\n",
       "      <td>...</td>\n",
       "      <td>...</td>\n",
       "      <td>...</td>\n",
       "      <td>...</td>\n",
       "      <td>...</td>\n",
       "      <td>...</td>\n",
       "      <td>...</td>\n",
       "      <td>...</td>\n",
       "      <td>...</td>\n",
       "      <td>...</td>\n",
       "      <td>...</td>\n",
       "      <td>...</td>\n",
       "      <td>...</td>\n",
       "      <td>...</td>\n",
       "      <td>...</td>\n",
       "      <td>...</td>\n",
       "      <td>...</td>\n",
       "      <td>...</td>\n",
       "      <td>...</td>\n",
       "      <td>...</td>\n",
       "      <td>...</td>\n",
       "    </tr>\n",
       "    <tr>\n",
       "      <th>98</th>\n",
       "      <td>2015</td>\n",
       "      <td>13</td>\n",
       "      <td>6</td>\n",
       "      <td>0</td>\n",
       "      <td>23</td>\n",
       "      <td>23</td>\n",
       "      <td>142.2</td>\n",
       "      <td>9.15</td>\n",
       "      <td>2.90</td>\n",
       "      <td>0.69</td>\n",
       "      <td>...</td>\n",
       "      <td>0.163</td>\n",
       "      <td>0.247</td>\n",
       "      <td>1.280</td>\n",
       "      <td>1.940</td>\n",
       "      <td>0.231</td>\n",
       "      <td>0.261</td>\n",
       "      <td>0.350</td>\n",
       "      <td>0.460</td>\n",
       "      <td>0.235</td>\n",
       "      <td>0.306</td>\n",
       "    </tr>\n",
       "    <tr>\n",
       "      <th>99</th>\n",
       "      <td>2015</td>\n",
       "      <td>6</td>\n",
       "      <td>3</td>\n",
       "      <td>0</td>\n",
       "      <td>16</td>\n",
       "      <td>14</td>\n",
       "      <td>78.2</td>\n",
       "      <td>7.89</td>\n",
       "      <td>2.29</td>\n",
       "      <td>1.37</td>\n",
       "      <td>...</td>\n",
       "      <td>0.148</td>\n",
       "      <td>0.267</td>\n",
       "      <td>1.310</td>\n",
       "      <td>0.600</td>\n",
       "      <td>0.194</td>\n",
       "      <td>0.504</td>\n",
       "      <td>0.262</td>\n",
       "      <td>0.436</td>\n",
       "      <td>0.296</td>\n",
       "      <td>0.268</td>\n",
       "    </tr>\n",
       "    <tr>\n",
       "      <th>100</th>\n",
       "      <td>2018</td>\n",
       "      <td>10</td>\n",
       "      <td>7</td>\n",
       "      <td>0</td>\n",
       "      <td>23</td>\n",
       "      <td>23</td>\n",
       "      <td>135.1</td>\n",
       "      <td>8.05</td>\n",
       "      <td>2.53</td>\n",
       "      <td>1.13</td>\n",
       "      <td>...</td>\n",
       "      <td>0.148</td>\n",
       "      <td>0.232</td>\n",
       "      <td>1.170</td>\n",
       "      <td>0.670</td>\n",
       "      <td>0.230</td>\n",
       "      <td>0.462</td>\n",
       "      <td>0.348</td>\n",
       "      <td>0.475</td>\n",
       "      <td>0.192</td>\n",
       "      <td>0.333</td>\n",
       "    </tr>\n",
       "    <tr>\n",
       "      <th>101</th>\n",
       "      <td>2018</td>\n",
       "      <td>5</td>\n",
       "      <td>7</td>\n",
       "      <td>5</td>\n",
       "      <td>32</td>\n",
       "      <td>10</td>\n",
       "      <td>83.1</td>\n",
       "      <td>5.72</td>\n",
       "      <td>1.51</td>\n",
       "      <td>1.08</td>\n",
       "      <td>...</td>\n",
       "      <td>0.107</td>\n",
       "      <td>0.290</td>\n",
       "      <td>1.370</td>\n",
       "      <td>1.170</td>\n",
       "      <td>0.294</td>\n",
       "      <td>0.325</td>\n",
       "      <td>0.191</td>\n",
       "      <td>0.427</td>\n",
       "      <td>0.277</td>\n",
       "      <td>0.297</td>\n",
       "    </tr>\n",
       "    <tr>\n",
       "      <th>102</th>\n",
       "      <td>2019</td>\n",
       "      <td>8</td>\n",
       "      <td>6</td>\n",
       "      <td>0</td>\n",
       "      <td>24</td>\n",
       "      <td>22</td>\n",
       "      <td>124.1</td>\n",
       "      <td>8.91</td>\n",
       "      <td>3.26</td>\n",
       "      <td>0.87</td>\n",
       "      <td>...</td>\n",
       "      <td>0.147</td>\n",
       "      <td>0.256</td>\n",
       "      <td>1.345</td>\n",
       "      <td>1.915</td>\n",
       "      <td>0.215</td>\n",
       "      <td>0.269</td>\n",
       "      <td>0.191</td>\n",
       "      <td>0.405</td>\n",
       "      <td>0.232</td>\n",
       "      <td>0.362</td>\n",
       "    </tr>\n",
       "  </tbody>\n",
       "</table>\n",
       "<p>103 rows × 30 columns</p>\n",
       "</div>"
      ],
      "text/plain": [
       "     Season   W  L  SV   G  GS     IP   K/9  BB/9  HR/9  ...  K-BB%    AVG  \\\n",
       "0      2010   2  1   0   8   8   40.0  6.98  2.93  0.68  ...  0.102  0.301   \n",
       "1      2012   6  7   0  35  10   83.0  5.42  3.14  1.19  ...  0.057  0.296   \n",
       "2      2012   4  7   0  34  21  122.1  7.87  3.90  0.81  ...  0.098  0.269   \n",
       "3      2013   7  6   0  23  22  127.2  4.02  3.10  0.85  ...  0.023  0.303   \n",
       "4      2013   8  8   0  24  24  146.1  6.09  1.91  0.62  ...  0.110  0.269   \n",
       "..      ...  .. ..  ..  ..  ..    ...   ...   ...   ...  ...    ...    ...   \n",
       "98     2015  13  6   0  23  23  142.2  9.15  2.90  0.69  ...  0.163  0.247   \n",
       "99     2015   6  3   0  16  14   78.2  7.89  2.29  1.37  ...  0.148  0.267   \n",
       "100    2018  10  7   0  23  23  135.1  8.05  2.53  1.13  ...  0.148  0.232   \n",
       "101    2018   5  7   5  32  10   83.1  5.72  1.51  1.08  ...  0.107  0.290   \n",
       "102    2019   8  6   0  24  22  124.1  8.91  3.26  0.87  ...  0.147  0.256   \n",
       "\n",
       "      WHIP  GB/FB    LD%    FB%  IFFB%  Pull%  Cent%  Oppo%  \n",
       "0    1.550  1.300  0.298  0.305  0.375  0.477  0.220  0.303  \n",
       "1    1.570  0.840  0.169  0.451  0.227  0.478  0.254  0.268  \n",
       "2    1.520  1.200  0.207  0.360  0.209  0.418  0.286  0.296  \n",
       "3    1.570  1.830  0.131  0.307  0.110  0.456  0.236  0.308  \n",
       "4    1.280  1.610  0.182  0.314  0.197  0.463  0.190  0.347  \n",
       "..     ...    ...    ...    ...    ...    ...    ...    ...  \n",
       "98   1.280  1.940  0.231  0.261  0.350  0.460  0.235  0.306  \n",
       "99   1.310  0.600  0.194  0.504  0.262  0.436  0.296  0.268  \n",
       "100  1.170  0.670  0.230  0.462  0.348  0.475  0.192  0.333  \n",
       "101  1.370  1.170  0.294  0.325  0.191  0.427  0.277  0.297  \n",
       "102  1.345  1.915  0.215  0.269  0.191  0.405  0.232  0.362  \n",
       "\n",
       "[103 rows x 30 columns]"
      ]
     },
     "execution_count": 23,
     "metadata": {},
     "output_type": "execute_result"
    }
   ],
   "source": [
    "minor[columns]"
   ]
  },
  {
   "cell_type": "code",
   "execution_count": 24,
   "id": "d145ef21-ef50-47e7-9f9d-1e38f162c9ff",
   "metadata": {
    "execution": {
     "iopub.execute_input": "2023-05-04T13:37:11.492590Z",
     "iopub.status.busy": "2023-05-04T13:37:11.492590Z",
     "iopub.status.idle": "2023-05-04T13:37:11.535088Z",
     "shell.execute_reply": "2023-05-04T13:37:11.535088Z",
     "shell.execute_reply.started": "2023-05-04T13:37:11.492590Z"
    },
    "tags": []
   },
   "outputs": [
    {
     "data": {
      "text/html": [
       "<div>\n",
       "<style scoped>\n",
       "    .dataframe tbody tr th:only-of-type {\n",
       "        vertical-align: middle;\n",
       "    }\n",
       "\n",
       "    .dataframe tbody tr th {\n",
       "        vertical-align: top;\n",
       "    }\n",
       "\n",
       "    .dataframe thead th {\n",
       "        text-align: right;\n",
       "    }\n",
       "</style>\n",
       "<table border=\"1\" class=\"dataframe\">\n",
       "  <thead>\n",
       "    <tr style=\"text-align: right;\">\n",
       "      <th></th>\n",
       "      <th>Name</th>\n",
       "      <th>Season</th>\n",
       "      <th>Team</th>\n",
       "      <th>Level</th>\n",
       "      <th>Age</th>\n",
       "      <th>W</th>\n",
       "      <th>L</th>\n",
       "      <th>SV</th>\n",
       "      <th>G</th>\n",
       "      <th>GS</th>\n",
       "      <th>...</th>\n",
       "      <th>WHIP</th>\n",
       "      <th>GB/FB</th>\n",
       "      <th>LD%</th>\n",
       "      <th>FB%</th>\n",
       "      <th>IFFB%</th>\n",
       "      <th>Pull%</th>\n",
       "      <th>Cent%</th>\n",
       "      <th>Oppo%</th>\n",
       "      <th>KBO_FIP</th>\n",
       "      <th>재계약</th>\n",
       "    </tr>\n",
       "  </thead>\n",
       "  <tbody>\n",
       "    <tr>\n",
       "      <th>0</th>\n",
       "      <td>페르난도</td>\n",
       "      <td>2010</td>\n",
       "      <td>NYM</td>\n",
       "      <td>AAA</td>\n",
       "      <td>27</td>\n",
       "      <td>2</td>\n",
       "      <td>1</td>\n",
       "      <td>0</td>\n",
       "      <td>8</td>\n",
       "      <td>8</td>\n",
       "      <td>...</td>\n",
       "      <td>1.550</td>\n",
       "      <td>1.300</td>\n",
       "      <td>0.298</td>\n",
       "      <td>0.305</td>\n",
       "      <td>0.375</td>\n",
       "      <td>0.477</td>\n",
       "      <td>0.220</td>\n",
       "      <td>0.303</td>\n",
       "      <td>4.17</td>\n",
       "      <td>0</td>\n",
       "    </tr>\n",
       "    <tr>\n",
       "      <th>1</th>\n",
       "      <td>앤서니</td>\n",
       "      <td>2010</td>\n",
       "      <td>KCR</td>\n",
       "      <td>AAA</td>\n",
       "      <td>27</td>\n",
       "      <td>9</td>\n",
       "      <td>4</td>\n",
       "      <td>0</td>\n",
       "      <td>22</td>\n",
       "      <td>19</td>\n",
       "      <td>...</td>\n",
       "      <td>1.330</td>\n",
       "      <td>1.480</td>\n",
       "      <td>0.170</td>\n",
       "      <td>0.334</td>\n",
       "      <td>0.131</td>\n",
       "      <td>0.439</td>\n",
       "      <td>0.218</td>\n",
       "      <td>0.342</td>\n",
       "      <td>4.40</td>\n",
       "      <td>1</td>\n",
       "    </tr>\n",
       "    <tr>\n",
       "      <th>2</th>\n",
       "      <td>주키치</td>\n",
       "      <td>2010</td>\n",
       "      <td>CIN</td>\n",
       "      <td>AAA</td>\n",
       "      <td>27</td>\n",
       "      <td>7</td>\n",
       "      <td>4</td>\n",
       "      <td>1</td>\n",
       "      <td>29</td>\n",
       "      <td>18</td>\n",
       "      <td>...</td>\n",
       "      <td>1.340</td>\n",
       "      <td>1.650</td>\n",
       "      <td>0.216</td>\n",
       "      <td>0.296</td>\n",
       "      <td>0.292</td>\n",
       "      <td>0.479</td>\n",
       "      <td>0.267</td>\n",
       "      <td>0.255</td>\n",
       "      <td>3.05</td>\n",
       "      <td>1</td>\n",
       "    </tr>\n",
       "    <tr>\n",
       "      <th>3</th>\n",
       "      <td>리즈</td>\n",
       "      <td>2010</td>\n",
       "      <td>SDP</td>\n",
       "      <td>AAA</td>\n",
       "      <td>26</td>\n",
       "      <td>8</td>\n",
       "      <td>8</td>\n",
       "      <td>0</td>\n",
       "      <td>25</td>\n",
       "      <td>22</td>\n",
       "      <td>...</td>\n",
       "      <td>1.350</td>\n",
       "      <td>0.910</td>\n",
       "      <td>0.184</td>\n",
       "      <td>0.428</td>\n",
       "      <td>0.203</td>\n",
       "      <td>0.452</td>\n",
       "      <td>0.272</td>\n",
       "      <td>0.277</td>\n",
       "      <td>4.38</td>\n",
       "      <td>1</td>\n",
       "    </tr>\n",
       "    <tr>\n",
       "      <th>4</th>\n",
       "      <td>매티스</td>\n",
       "      <td>2010</td>\n",
       "      <td>TEX</td>\n",
       "      <td>AAA</td>\n",
       "      <td>27</td>\n",
       "      <td>5</td>\n",
       "      <td>7</td>\n",
       "      <td>0</td>\n",
       "      <td>18</td>\n",
       "      <td>15</td>\n",
       "      <td>...</td>\n",
       "      <td>1.650</td>\n",
       "      <td>2.120</td>\n",
       "      <td>0.238</td>\n",
       "      <td>0.244</td>\n",
       "      <td>0.107</td>\n",
       "      <td>0.434</td>\n",
       "      <td>0.269</td>\n",
       "      <td>0.298</td>\n",
       "      <td>3.94</td>\n",
       "      <td>0</td>\n",
       "    </tr>\n",
       "    <tr>\n",
       "      <th>...</th>\n",
       "      <td>...</td>\n",
       "      <td>...</td>\n",
       "      <td>...</td>\n",
       "      <td>...</td>\n",
       "      <td>...</td>\n",
       "      <td>...</td>\n",
       "      <td>...</td>\n",
       "      <td>...</td>\n",
       "      <td>...</td>\n",
       "      <td>...</td>\n",
       "      <td>...</td>\n",
       "      <td>...</td>\n",
       "      <td>...</td>\n",
       "      <td>...</td>\n",
       "      <td>...</td>\n",
       "      <td>...</td>\n",
       "      <td>...</td>\n",
       "      <td>...</td>\n",
       "      <td>...</td>\n",
       "      <td>...</td>\n",
       "      <td>...</td>\n",
       "    </tr>\n",
       "    <tr>\n",
       "      <th>98</th>\n",
       "      <td>프랑코</td>\n",
       "      <td>2019</td>\n",
       "      <td>SFG</td>\n",
       "      <td>AAA</td>\n",
       "      <td>26</td>\n",
       "      <td>6</td>\n",
       "      <td>5</td>\n",
       "      <td>0</td>\n",
       "      <td>26</td>\n",
       "      <td>22</td>\n",
       "      <td>...</td>\n",
       "      <td>1.550</td>\n",
       "      <td>0.920</td>\n",
       "      <td>0.216</td>\n",
       "      <td>0.409</td>\n",
       "      <td>0.199</td>\n",
       "      <td>0.458</td>\n",
       "      <td>0.232</td>\n",
       "      <td>0.311</td>\n",
       "      <td>5.31</td>\n",
       "      <td>0</td>\n",
       "    </tr>\n",
       "    <tr>\n",
       "      <th>99</th>\n",
       "      <td>아드리안샘슨</td>\n",
       "      <td>2019</td>\n",
       "      <td>TEX</td>\n",
       "      <td>AAA</td>\n",
       "      <td>26</td>\n",
       "      <td>8</td>\n",
       "      <td>4</td>\n",
       "      <td>0</td>\n",
       "      <td>33</td>\n",
       "      <td>19</td>\n",
       "      <td>...</td>\n",
       "      <td>1.270</td>\n",
       "      <td>1.100</td>\n",
       "      <td>0.194</td>\n",
       "      <td>0.383</td>\n",
       "      <td>0.158</td>\n",
       "      <td>0.405</td>\n",
       "      <td>0.242</td>\n",
       "      <td>0.353</td>\n",
       "      <td>4.59</td>\n",
       "      <td>0</td>\n",
       "    </tr>\n",
       "    <tr>\n",
       "      <th>100</th>\n",
       "      <td>스트레일리</td>\n",
       "      <td>2019</td>\n",
       "      <td>PHI</td>\n",
       "      <td>AAA</td>\n",
       "      <td>30</td>\n",
       "      <td>1</td>\n",
       "      <td>4</td>\n",
       "      <td>0</td>\n",
       "      <td>6</td>\n",
       "      <td>6</td>\n",
       "      <td>...</td>\n",
       "      <td>1.165</td>\n",
       "      <td>1.053</td>\n",
       "      <td>0.174</td>\n",
       "      <td>0.405</td>\n",
       "      <td>0.203</td>\n",
       "      <td>0.422</td>\n",
       "      <td>0.335</td>\n",
       "      <td>0.245</td>\n",
       "      <td>3.01</td>\n",
       "      <td>1</td>\n",
       "    </tr>\n",
       "    <tr>\n",
       "      <th>101</th>\n",
       "      <td>가뇽</td>\n",
       "      <td>2019</td>\n",
       "      <td>NYM</td>\n",
       "      <td>AAA</td>\n",
       "      <td>29</td>\n",
       "      <td>6</td>\n",
       "      <td>5</td>\n",
       "      <td>0</td>\n",
       "      <td>15</td>\n",
       "      <td>15</td>\n",
       "      <td>...</td>\n",
       "      <td>1.070</td>\n",
       "      <td>1.220</td>\n",
       "      <td>0.225</td>\n",
       "      <td>0.349</td>\n",
       "      <td>0.200</td>\n",
       "      <td>0.455</td>\n",
       "      <td>0.250</td>\n",
       "      <td>0.295</td>\n",
       "      <td>3.73</td>\n",
       "      <td>0</td>\n",
       "    </tr>\n",
       "    <tr>\n",
       "      <th>102</th>\n",
       "      <td>데스파이네</td>\n",
       "      <td>2019</td>\n",
       "      <td>mean</td>\n",
       "      <td>AAA</td>\n",
       "      <td>32</td>\n",
       "      <td>8</td>\n",
       "      <td>6</td>\n",
       "      <td>0</td>\n",
       "      <td>24</td>\n",
       "      <td>22</td>\n",
       "      <td>...</td>\n",
       "      <td>1.345</td>\n",
       "      <td>1.915</td>\n",
       "      <td>0.215</td>\n",
       "      <td>0.269</td>\n",
       "      <td>0.191</td>\n",
       "      <td>0.405</td>\n",
       "      <td>0.232</td>\n",
       "      <td>0.362</td>\n",
       "      <td>4.30</td>\n",
       "      <td>1</td>\n",
       "    </tr>\n",
       "  </tbody>\n",
       "</table>\n",
       "<p>103 rows × 36 columns</p>\n",
       "</div>"
      ],
      "text/plain": [
       "       Name  Season  Team Level  Age  W  L  SV   G  GS  ...   WHIP  GB/FB  \\\n",
       "0      페르난도    2010   NYM   AAA   27  2  1   0   8   8  ...  1.550  1.300   \n",
       "1       앤서니    2010   KCR   AAA   27  9  4   0  22  19  ...  1.330  1.480   \n",
       "2       주키치    2010   CIN   AAA   27  7  4   1  29  18  ...  1.340  1.650   \n",
       "3        리즈    2010   SDP   AAA   26  8  8   0  25  22  ...  1.350  0.910   \n",
       "4       매티스    2010   TEX   AAA   27  5  7   0  18  15  ...  1.650  2.120   \n",
       "..      ...     ...   ...   ...  ... .. ..  ..  ..  ..  ...    ...    ...   \n",
       "98      프랑코    2019   SFG   AAA   26  6  5   0  26  22  ...  1.550  0.920   \n",
       "99   아드리안샘슨    2019   TEX   AAA   26  8  4   0  33  19  ...  1.270  1.100   \n",
       "100   스트레일리    2019   PHI   AAA   30  1  4   0   6   6  ...  1.165  1.053   \n",
       "101      가뇽    2019   NYM   AAA   29  6  5   0  15  15  ...  1.070  1.220   \n",
       "102   데스파이네    2019  mean   AAA   32  8  6   0  24  22  ...  1.345  1.915   \n",
       "\n",
       "       LD%    FB%  IFFB%  Pull%  Cent%  Oppo%  KBO_FIP  재계약  \n",
       "0    0.298  0.305  0.375  0.477  0.220  0.303     4.17    0  \n",
       "1    0.170  0.334  0.131  0.439  0.218  0.342     4.40    1  \n",
       "2    0.216  0.296  0.292  0.479  0.267  0.255     3.05    1  \n",
       "3    0.184  0.428  0.203  0.452  0.272  0.277     4.38    1  \n",
       "4    0.238  0.244  0.107  0.434  0.269  0.298     3.94    0  \n",
       "..     ...    ...    ...    ...    ...    ...      ...  ...  \n",
       "98   0.216  0.409  0.199  0.458  0.232  0.311     5.31    0  \n",
       "99   0.194  0.383  0.158  0.405  0.242  0.353     4.59    0  \n",
       "100  0.174  0.405  0.203  0.422  0.335  0.245     3.01    1  \n",
       "101  0.225  0.349  0.200  0.455  0.250  0.295     3.73    0  \n",
       "102  0.215  0.269  0.191  0.405  0.232  0.362     4.30    1  \n",
       "\n",
       "[103 rows x 36 columns]"
      ]
     },
     "execution_count": 24,
     "metadata": {},
     "output_type": "execute_result"
    }
   ],
   "source": [
    "minor = minor.sort_values(by = \"Season\").reset_index(drop = True)\n",
    "minor"
   ]
  },
  {
   "cell_type": "code",
   "execution_count": 32,
   "id": "13a14db3-6519-46d6-9a85-000a638abb88",
   "metadata": {
    "execution": {
     "iopub.execute_input": "2023-05-04T13:42:14.122103Z",
     "iopub.status.busy": "2023-05-04T13:42:14.122103Z",
     "iopub.status.idle": "2023-05-04T13:42:14.164465Z",
     "shell.execute_reply": "2023-05-04T13:42:14.161964Z",
     "shell.execute_reply.started": "2023-05-04T13:42:14.122103Z"
    },
    "tags": []
   },
   "outputs": [
    {
     "data": {
      "text/html": [
       "<div>\n",
       "<style scoped>\n",
       "    .dataframe tbody tr th:only-of-type {\n",
       "        vertical-align: middle;\n",
       "    }\n",
       "\n",
       "    .dataframe tbody tr th {\n",
       "        vertical-align: top;\n",
       "    }\n",
       "\n",
       "    .dataframe thead th {\n",
       "        text-align: right;\n",
       "    }\n",
       "</style>\n",
       "<table border=\"1\" class=\"dataframe\">\n",
       "  <thead>\n",
       "    <tr style=\"text-align: right;\">\n",
       "      <th></th>\n",
       "      <th>Season</th>\n",
       "      <th>Name</th>\n",
       "      <th>Team</th>\n",
       "      <th>Level</th>\n",
       "      <th>Age</th>\n",
       "      <th>IP</th>\n",
       "      <th>K/9</th>\n",
       "      <th>BB/9</th>\n",
       "      <th>K/BB</th>\n",
       "      <th>HR/9</th>\n",
       "      <th>...</th>\n",
       "      <th>FB%</th>\n",
       "      <th>IFFB%</th>\n",
       "      <th>HR/FB</th>\n",
       "      <th>Pull%</th>\n",
       "      <th>Cent%</th>\n",
       "      <th>Oppo%</th>\n",
       "      <th>SwStr%</th>\n",
       "      <th>Balls</th>\n",
       "      <th>Strikes</th>\n",
       "      <th>Pitches</th>\n",
       "    </tr>\n",
       "  </thead>\n",
       "  <tbody>\n",
       "    <tr>\n",
       "      <th>0</th>\n",
       "      <td>2010</td>\n",
       "      <td>Cesar Carrillo</td>\n",
       "      <td>SDP</td>\n",
       "      <td>AAA</td>\n",
       "      <td>26</td>\n",
       "      <td>151.0</td>\n",
       "      <td>5.662252</td>\n",
       "      <td>3.397351</td>\n",
       "      <td>1.666667</td>\n",
       "      <td>1.192053</td>\n",
       "      <td>...</td>\n",
       "      <td>0.356998</td>\n",
       "      <td>0.176136</td>\n",
       "      <td>0.113636</td>\n",
       "      <td>0.472656</td>\n",
       "      <td>0.246094</td>\n",
       "      <td>0.281250</td>\n",
       "      <td>0.081841</td>\n",
       "      <td>893</td>\n",
       "      <td>1453</td>\n",
       "      <td>2346</td>\n",
       "    </tr>\n",
       "    <tr>\n",
       "      <th>1</th>\n",
       "      <td>2010</td>\n",
       "      <td>Radhames Liz</td>\n",
       "      <td>SDP</td>\n",
       "      <td>AAA</td>\n",
       "      <td>26</td>\n",
       "      <td>123.0</td>\n",
       "      <td>7.975610</td>\n",
       "      <td>2.780488</td>\n",
       "      <td>2.868421</td>\n",
       "      <td>1.463415</td>\n",
       "      <td>...</td>\n",
       "      <td>0.428184</td>\n",
       "      <td>0.202532</td>\n",
       "      <td>0.126582</td>\n",
       "      <td>0.451613</td>\n",
       "      <td>0.271505</td>\n",
       "      <td>0.276882</td>\n",
       "      <td>0.112690</td>\n",
       "      <td>706</td>\n",
       "      <td>1264</td>\n",
       "      <td>1970</td>\n",
       "    </tr>\n",
       "    <tr>\n",
       "      <th>2</th>\n",
       "      <td>2010</td>\n",
       "      <td>Alan Johnson</td>\n",
       "      <td>COL</td>\n",
       "      <td>AAA</td>\n",
       "      <td>26</td>\n",
       "      <td>141.2</td>\n",
       "      <td>6.352942</td>\n",
       "      <td>2.731765</td>\n",
       "      <td>2.325581</td>\n",
       "      <td>0.889412</td>\n",
       "      <td>...</td>\n",
       "      <td>0.329140</td>\n",
       "      <td>0.171975</td>\n",
       "      <td>0.089172</td>\n",
       "      <td>0.435583</td>\n",
       "      <td>0.235174</td>\n",
       "      <td>0.329243</td>\n",
       "      <td>0.065610</td>\n",
       "      <td>819</td>\n",
       "      <td>1452</td>\n",
       "      <td>2271</td>\n",
       "    </tr>\n",
       "    <tr>\n",
       "      <th>3</th>\n",
       "      <td>2010</td>\n",
       "      <td>Evan MacLane</td>\n",
       "      <td>STL</td>\n",
       "      <td>AAA</td>\n",
       "      <td>27</td>\n",
       "      <td>147.2</td>\n",
       "      <td>4.997743</td>\n",
       "      <td>1.279910</td>\n",
       "      <td>3.904762</td>\n",
       "      <td>1.279910</td>\n",
       "      <td>...</td>\n",
       "      <td>0.373469</td>\n",
       "      <td>0.174863</td>\n",
       "      <td>0.114754</td>\n",
       "      <td>0.423459</td>\n",
       "      <td>0.284294</td>\n",
       "      <td>0.292247</td>\n",
       "      <td>0.087268</td>\n",
       "      <td>684</td>\n",
       "      <td>1413</td>\n",
       "      <td>2097</td>\n",
       "    </tr>\n",
       "    <tr>\n",
       "      <th>4</th>\n",
       "      <td>2010</td>\n",
       "      <td>Josh Banks</td>\n",
       "      <td>HOU</td>\n",
       "      <td>AAA</td>\n",
       "      <td>27</td>\n",
       "      <td>171.2</td>\n",
       "      <td>3.774758</td>\n",
       "      <td>1.939806</td>\n",
       "      <td>1.945946</td>\n",
       "      <td>1.310680</td>\n",
       "      <td>...</td>\n",
       "      <td>0.420690</td>\n",
       "      <td>0.245902</td>\n",
       "      <td>0.102459</td>\n",
       "      <td>0.466777</td>\n",
       "      <td>0.250831</td>\n",
       "      <td>0.282392</td>\n",
       "      <td>0.051668</td>\n",
       "      <td>850</td>\n",
       "      <td>1608</td>\n",
       "      <td>2458</td>\n",
       "    </tr>\n",
       "    <tr>\n",
       "      <th>...</th>\n",
       "      <td>...</td>\n",
       "      <td>...</td>\n",
       "      <td>...</td>\n",
       "      <td>...</td>\n",
       "      <td>...</td>\n",
       "      <td>...</td>\n",
       "      <td>...</td>\n",
       "      <td>...</td>\n",
       "      <td>...</td>\n",
       "      <td>...</td>\n",
       "      <td>...</td>\n",
       "      <td>...</td>\n",
       "      <td>...</td>\n",
       "      <td>...</td>\n",
       "      <td>...</td>\n",
       "      <td>...</td>\n",
       "      <td>...</td>\n",
       "      <td>...</td>\n",
       "      <td>...</td>\n",
       "      <td>...</td>\n",
       "      <td>...</td>\n",
       "    </tr>\n",
       "    <tr>\n",
       "      <th>543</th>\n",
       "      <td>2019</td>\n",
       "      <td>Colin Rea</td>\n",
       "      <td>CHC</td>\n",
       "      <td>AAA</td>\n",
       "      <td>28</td>\n",
       "      <td>148.0</td>\n",
       "      <td>7.297297</td>\n",
       "      <td>3.648649</td>\n",
       "      <td>2.000000</td>\n",
       "      <td>1.033784</td>\n",
       "      <td>...</td>\n",
       "      <td>0.331818</td>\n",
       "      <td>0.239726</td>\n",
       "      <td>0.116438</td>\n",
       "      <td>0.468326</td>\n",
       "      <td>0.196833</td>\n",
       "      <td>0.334842</td>\n",
       "      <td>0.082186</td>\n",
       "      <td>933</td>\n",
       "      <td>1537</td>\n",
       "      <td>2470</td>\n",
       "    </tr>\n",
       "    <tr>\n",
       "      <th>544</th>\n",
       "      <td>2019</td>\n",
       "      <td>Bryse Wilson</td>\n",
       "      <td>ATL</td>\n",
       "      <td>AAA</td>\n",
       "      <td>21</td>\n",
       "      <td>121.0</td>\n",
       "      <td>8.776860</td>\n",
       "      <td>1.933884</td>\n",
       "      <td>4.538462</td>\n",
       "      <td>0.892562</td>\n",
       "      <td>...</td>\n",
       "      <td>0.331412</td>\n",
       "      <td>0.234783</td>\n",
       "      <td>0.104348</td>\n",
       "      <td>0.426966</td>\n",
       "      <td>0.230337</td>\n",
       "      <td>0.342697</td>\n",
       "      <td>0.113624</td>\n",
       "      <td>643</td>\n",
       "      <td>1258</td>\n",
       "      <td>1901</td>\n",
       "    </tr>\n",
       "    <tr>\n",
       "      <th>545</th>\n",
       "      <td>2019</td>\n",
       "      <td>Alex McRae</td>\n",
       "      <td>PIT</td>\n",
       "      <td>AAA</td>\n",
       "      <td>26</td>\n",
       "      <td>114.1</td>\n",
       "      <td>7.950438</td>\n",
       "      <td>3.384840</td>\n",
       "      <td>2.348837</td>\n",
       "      <td>1.574344</td>\n",
       "      <td>...</td>\n",
       "      <td>0.298551</td>\n",
       "      <td>0.155340</td>\n",
       "      <td>0.194175</td>\n",
       "      <td>0.467422</td>\n",
       "      <td>0.260623</td>\n",
       "      <td>0.271955</td>\n",
       "      <td>0.112845</td>\n",
       "      <td>715</td>\n",
       "      <td>1208</td>\n",
       "      <td>1923</td>\n",
       "    </tr>\n",
       "    <tr>\n",
       "      <th>546</th>\n",
       "      <td>2019</td>\n",
       "      <td>Ryan Hartman</td>\n",
       "      <td>HOU</td>\n",
       "      <td>AAA</td>\n",
       "      <td>25</td>\n",
       "      <td>115.2</td>\n",
       "      <td>9.103747</td>\n",
       "      <td>3.501441</td>\n",
       "      <td>2.600000</td>\n",
       "      <td>2.100865</td>\n",
       "      <td>...</td>\n",
       "      <td>0.393768</td>\n",
       "      <td>0.208633</td>\n",
       "      <td>0.194245</td>\n",
       "      <td>0.428571</td>\n",
       "      <td>0.268908</td>\n",
       "      <td>0.302521</td>\n",
       "      <td>0.110699</td>\n",
       "      <td>776</td>\n",
       "      <td>1383</td>\n",
       "      <td>2159</td>\n",
       "    </tr>\n",
       "    <tr>\n",
       "      <th>547</th>\n",
       "      <td>2019</td>\n",
       "      <td>Foster Griffin</td>\n",
       "      <td>KCR</td>\n",
       "      <td>AAA</td>\n",
       "      <td>23</td>\n",
       "      <td>130.2</td>\n",
       "      <td>7.645409</td>\n",
       "      <td>4.408164</td>\n",
       "      <td>1.734375</td>\n",
       "      <td>1.377551</td>\n",
       "      <td>...</td>\n",
       "      <td>0.379397</td>\n",
       "      <td>0.125828</td>\n",
       "      <td>0.132450</td>\n",
       "      <td>0.449878</td>\n",
       "      <td>0.232274</td>\n",
       "      <td>0.317848</td>\n",
       "      <td>0.098048</td>\n",
       "      <td>847</td>\n",
       "      <td>1356</td>\n",
       "      <td>2203</td>\n",
       "    </tr>\n",
       "  </tbody>\n",
       "</table>\n",
       "<p>548 rows × 55 columns</p>\n",
       "</div>"
      ],
      "text/plain": [
       "     Season            Name Team Level  Age     IP       K/9      BB/9  \\\n",
       "0      2010  Cesar Carrillo  SDP   AAA   26  151.0  5.662252  3.397351   \n",
       "1      2010    Radhames Liz  SDP   AAA   26  123.0  7.975610  2.780488   \n",
       "2      2010    Alan Johnson  COL   AAA   26  141.2  6.352942  2.731765   \n",
       "3      2010    Evan MacLane  STL   AAA   27  147.2  4.997743  1.279910   \n",
       "4      2010      Josh Banks  HOU   AAA   27  171.2  3.774758  1.939806   \n",
       "..      ...             ...  ...   ...  ...    ...       ...       ...   \n",
       "543    2019       Colin Rea  CHC   AAA   28  148.0  7.297297  3.648649   \n",
       "544    2019    Bryse Wilson  ATL   AAA   21  121.0  8.776860  1.933884   \n",
       "545    2019      Alex McRae  PIT   AAA   26  114.1  7.950438  3.384840   \n",
       "546    2019    Ryan Hartman  HOU   AAA   25  115.2  9.103747  3.501441   \n",
       "547    2019  Foster Griffin  KCR   AAA   23  130.2  7.645409  4.408164   \n",
       "\n",
       "         K/BB      HR/9  ...       FB%     IFFB%     HR/FB     Pull%  \\\n",
       "0    1.666667  1.192053  ...  0.356998  0.176136  0.113636  0.472656   \n",
       "1    2.868421  1.463415  ...  0.428184  0.202532  0.126582  0.451613   \n",
       "2    2.325581  0.889412  ...  0.329140  0.171975  0.089172  0.435583   \n",
       "3    3.904762  1.279910  ...  0.373469  0.174863  0.114754  0.423459   \n",
       "4    1.945946  1.310680  ...  0.420690  0.245902  0.102459  0.466777   \n",
       "..        ...       ...  ...       ...       ...       ...       ...   \n",
       "543  2.000000  1.033784  ...  0.331818  0.239726  0.116438  0.468326   \n",
       "544  4.538462  0.892562  ...  0.331412  0.234783  0.104348  0.426966   \n",
       "545  2.348837  1.574344  ...  0.298551  0.155340  0.194175  0.467422   \n",
       "546  2.600000  2.100865  ...  0.393768  0.208633  0.194245  0.428571   \n",
       "547  1.734375  1.377551  ...  0.379397  0.125828  0.132450  0.449878   \n",
       "\n",
       "        Cent%     Oppo%    SwStr%  Balls  Strikes  Pitches  \n",
       "0    0.246094  0.281250  0.081841    893     1453     2346  \n",
       "1    0.271505  0.276882  0.112690    706     1264     1970  \n",
       "2    0.235174  0.329243  0.065610    819     1452     2271  \n",
       "3    0.284294  0.292247  0.087268    684     1413     2097  \n",
       "4    0.250831  0.282392  0.051668    850     1608     2458  \n",
       "..        ...       ...       ...    ...      ...      ...  \n",
       "543  0.196833  0.334842  0.082186    933     1537     2470  \n",
       "544  0.230337  0.342697  0.113624    643     1258     1901  \n",
       "545  0.260623  0.271955  0.112845    715     1208     1923  \n",
       "546  0.268908  0.302521  0.110699    776     1383     2159  \n",
       "547  0.232274  0.317848  0.098048    847     1356     2203  \n",
       "\n",
       "[548 rows x 55 columns]"
      ]
     },
     "execution_count": 32,
     "metadata": {},
     "output_type": "execute_result"
    }
   ],
   "source": [
    "merge_df[]"
   ]
  },
  {
   "cell_type": "code",
   "execution_count": 37,
   "id": "b748acbd-5db8-4348-8376-2445e533c13c",
   "metadata": {
    "execution": {
     "iopub.execute_input": "2023-05-04T13:50:48.781559Z",
     "iopub.status.busy": "2023-05-04T13:50:48.780562Z",
     "iopub.status.idle": "2023-05-04T13:50:48.811318Z",
     "shell.execute_reply": "2023-05-04T13:50:48.810992Z",
     "shell.execute_reply.started": "2023-05-04T13:50:48.781559Z"
    },
    "tags": []
   },
   "outputs": [
    {
     "data": {
      "text/html": [
       "<div>\n",
       "<style scoped>\n",
       "    .dataframe tbody tr th:only-of-type {\n",
       "        vertical-align: middle;\n",
       "    }\n",
       "\n",
       "    .dataframe tbody tr th {\n",
       "        vertical-align: top;\n",
       "    }\n",
       "\n",
       "    .dataframe thead th {\n",
       "        text-align: right;\n",
       "    }\n",
       "</style>\n",
       "<table border=\"1\" class=\"dataframe\">\n",
       "  <thead>\n",
       "    <tr style=\"text-align: right;\">\n",
       "      <th></th>\n",
       "      <th>Season</th>\n",
       "      <th>Name</th>\n",
       "      <th>Team</th>\n",
       "      <th>Level</th>\n",
       "      <th>Age</th>\n",
       "      <th>IP</th>\n",
       "      <th>K/9</th>\n",
       "      <th>BB/9</th>\n",
       "      <th>K/BB</th>\n",
       "      <th>HR/9</th>\n",
       "      <th>...</th>\n",
       "      <th>FB%</th>\n",
       "      <th>IFFB%</th>\n",
       "      <th>HR/FB</th>\n",
       "      <th>Pull%</th>\n",
       "      <th>Cent%</th>\n",
       "      <th>Oppo%</th>\n",
       "      <th>SwStr%</th>\n",
       "      <th>Balls</th>\n",
       "      <th>Strikes</th>\n",
       "      <th>Pitches</th>\n",
       "    </tr>\n",
       "  </thead>\n",
       "  <tbody>\n",
       "    <tr>\n",
       "      <th>0</th>\n",
       "      <td>2010</td>\n",
       "      <td>Cesar Carrillo</td>\n",
       "      <td>SDP</td>\n",
       "      <td>AAA</td>\n",
       "      <td>26</td>\n",
       "      <td>151.0</td>\n",
       "      <td>5.662252</td>\n",
       "      <td>3.397351</td>\n",
       "      <td>1.666667</td>\n",
       "      <td>1.192053</td>\n",
       "      <td>...</td>\n",
       "      <td>0.356998</td>\n",
       "      <td>0.176136</td>\n",
       "      <td>0.113636</td>\n",
       "      <td>0.472656</td>\n",
       "      <td>0.246094</td>\n",
       "      <td>0.281250</td>\n",
       "      <td>0.081841</td>\n",
       "      <td>893</td>\n",
       "      <td>1453</td>\n",
       "      <td>2346</td>\n",
       "    </tr>\n",
       "    <tr>\n",
       "      <th>1</th>\n",
       "      <td>2010</td>\n",
       "      <td>Radhames Liz</td>\n",
       "      <td>SDP</td>\n",
       "      <td>AAA</td>\n",
       "      <td>26</td>\n",
       "      <td>123.0</td>\n",
       "      <td>7.975610</td>\n",
       "      <td>2.780488</td>\n",
       "      <td>2.868421</td>\n",
       "      <td>1.463415</td>\n",
       "      <td>...</td>\n",
       "      <td>0.428184</td>\n",
       "      <td>0.202532</td>\n",
       "      <td>0.126582</td>\n",
       "      <td>0.451613</td>\n",
       "      <td>0.271505</td>\n",
       "      <td>0.276882</td>\n",
       "      <td>0.112690</td>\n",
       "      <td>706</td>\n",
       "      <td>1264</td>\n",
       "      <td>1970</td>\n",
       "    </tr>\n",
       "    <tr>\n",
       "      <th>2</th>\n",
       "      <td>2010</td>\n",
       "      <td>Alan Johnson</td>\n",
       "      <td>COL</td>\n",
       "      <td>AAA</td>\n",
       "      <td>26</td>\n",
       "      <td>141.2</td>\n",
       "      <td>6.352942</td>\n",
       "      <td>2.731765</td>\n",
       "      <td>2.325581</td>\n",
       "      <td>0.889412</td>\n",
       "      <td>...</td>\n",
       "      <td>0.329140</td>\n",
       "      <td>0.171975</td>\n",
       "      <td>0.089172</td>\n",
       "      <td>0.435583</td>\n",
       "      <td>0.235174</td>\n",
       "      <td>0.329243</td>\n",
       "      <td>0.065610</td>\n",
       "      <td>819</td>\n",
       "      <td>1452</td>\n",
       "      <td>2271</td>\n",
       "    </tr>\n",
       "    <tr>\n",
       "      <th>3</th>\n",
       "      <td>2010</td>\n",
       "      <td>Evan MacLane</td>\n",
       "      <td>STL</td>\n",
       "      <td>AAA</td>\n",
       "      <td>27</td>\n",
       "      <td>147.2</td>\n",
       "      <td>4.997743</td>\n",
       "      <td>1.279910</td>\n",
       "      <td>3.904762</td>\n",
       "      <td>1.279910</td>\n",
       "      <td>...</td>\n",
       "      <td>0.373469</td>\n",
       "      <td>0.174863</td>\n",
       "      <td>0.114754</td>\n",
       "      <td>0.423459</td>\n",
       "      <td>0.284294</td>\n",
       "      <td>0.292247</td>\n",
       "      <td>0.087268</td>\n",
       "      <td>684</td>\n",
       "      <td>1413</td>\n",
       "      <td>2097</td>\n",
       "    </tr>\n",
       "    <tr>\n",
       "      <th>4</th>\n",
       "      <td>2010</td>\n",
       "      <td>Josh Banks</td>\n",
       "      <td>HOU</td>\n",
       "      <td>AAA</td>\n",
       "      <td>27</td>\n",
       "      <td>171.2</td>\n",
       "      <td>3.774758</td>\n",
       "      <td>1.939806</td>\n",
       "      <td>1.945946</td>\n",
       "      <td>1.310680</td>\n",
       "      <td>...</td>\n",
       "      <td>0.420690</td>\n",
       "      <td>0.245902</td>\n",
       "      <td>0.102459</td>\n",
       "      <td>0.466777</td>\n",
       "      <td>0.250831</td>\n",
       "      <td>0.282392</td>\n",
       "      <td>0.051668</td>\n",
       "      <td>850</td>\n",
       "      <td>1608</td>\n",
       "      <td>2458</td>\n",
       "    </tr>\n",
       "    <tr>\n",
       "      <th>...</th>\n",
       "      <td>...</td>\n",
       "      <td>...</td>\n",
       "      <td>...</td>\n",
       "      <td>...</td>\n",
       "      <td>...</td>\n",
       "      <td>...</td>\n",
       "      <td>...</td>\n",
       "      <td>...</td>\n",
       "      <td>...</td>\n",
       "      <td>...</td>\n",
       "      <td>...</td>\n",
       "      <td>...</td>\n",
       "      <td>...</td>\n",
       "      <td>...</td>\n",
       "      <td>...</td>\n",
       "      <td>...</td>\n",
       "      <td>...</td>\n",
       "      <td>...</td>\n",
       "      <td>...</td>\n",
       "      <td>...</td>\n",
       "      <td>...</td>\n",
       "    </tr>\n",
       "    <tr>\n",
       "      <th>65</th>\n",
       "      <td>2010</td>\n",
       "      <td>Chase Wright</td>\n",
       "      <td>MIL</td>\n",
       "      <td>AAA</td>\n",
       "      <td>27</td>\n",
       "      <td>151.0</td>\n",
       "      <td>5.543046</td>\n",
       "      <td>3.278146</td>\n",
       "      <td>1.690909</td>\n",
       "      <td>1.192053</td>\n",
       "      <td>...</td>\n",
       "      <td>0.281377</td>\n",
       "      <td>0.179856</td>\n",
       "      <td>0.143885</td>\n",
       "      <td>0.470588</td>\n",
       "      <td>0.231373</td>\n",
       "      <td>0.298039</td>\n",
       "      <td>0.078106</td>\n",
       "      <td>979</td>\n",
       "      <td>1428</td>\n",
       "      <td>2407</td>\n",
       "    </tr>\n",
       "    <tr>\n",
       "      <th>66</th>\n",
       "      <td>2010</td>\n",
       "      <td>Matt Zaleski</td>\n",
       "      <td>CHW</td>\n",
       "      <td>AAA</td>\n",
       "      <td>28</td>\n",
       "      <td>139.1</td>\n",
       "      <td>5.490430</td>\n",
       "      <td>2.971292</td>\n",
       "      <td>1.847826</td>\n",
       "      <td>1.485646</td>\n",
       "      <td>...</td>\n",
       "      <td>0.384091</td>\n",
       "      <td>0.242604</td>\n",
       "      <td>0.136095</td>\n",
       "      <td>0.462389</td>\n",
       "      <td>0.267699</td>\n",
       "      <td>0.269912</td>\n",
       "      <td>0.073727</td>\n",
       "      <td>877</td>\n",
       "      <td>1361</td>\n",
       "      <td>2238</td>\n",
       "    </tr>\n",
       "    <tr>\n",
       "      <th>67</th>\n",
       "      <td>2010</td>\n",
       "      <td>Brian Lawrence</td>\n",
       "      <td>FLA</td>\n",
       "      <td>AAA</td>\n",
       "      <td>34</td>\n",
       "      <td>142.2</td>\n",
       "      <td>7.254673</td>\n",
       "      <td>2.460281</td>\n",
       "      <td>2.948718</td>\n",
       "      <td>1.198598</td>\n",
       "      <td>...</td>\n",
       "      <td>0.349451</td>\n",
       "      <td>0.144654</td>\n",
       "      <td>0.119497</td>\n",
       "      <td>0.493562</td>\n",
       "      <td>0.227468</td>\n",
       "      <td>0.278970</td>\n",
       "      <td>0.098118</td>\n",
       "      <td>776</td>\n",
       "      <td>1456</td>\n",
       "      <td>2232</td>\n",
       "    </tr>\n",
       "    <tr>\n",
       "      <th>68</th>\n",
       "      <td>2010</td>\n",
       "      <td>J.R. Mathes</td>\n",
       "      <td>CHC</td>\n",
       "      <td>AAA</td>\n",
       "      <td>28</td>\n",
       "      <td>129.0</td>\n",
       "      <td>4.465116</td>\n",
       "      <td>1.953488</td>\n",
       "      <td>2.285714</td>\n",
       "      <td>1.255814</td>\n",
       "      <td>...</td>\n",
       "      <td>0.308534</td>\n",
       "      <td>0.170213</td>\n",
       "      <td>0.127660</td>\n",
       "      <td>0.458422</td>\n",
       "      <td>0.266525</td>\n",
       "      <td>0.275053</td>\n",
       "      <td>0.057780</td>\n",
       "      <td>684</td>\n",
       "      <td>1289</td>\n",
       "      <td>1973</td>\n",
       "    </tr>\n",
       "    <tr>\n",
       "      <th>69</th>\n",
       "      <td>2010</td>\n",
       "      <td>Luis Mendoza</td>\n",
       "      <td>KCR</td>\n",
       "      <td>AAA</td>\n",
       "      <td>26</td>\n",
       "      <td>132.0</td>\n",
       "      <td>4.022727</td>\n",
       "      <td>2.181818</td>\n",
       "      <td>1.843750</td>\n",
       "      <td>0.886364</td>\n",
       "      <td>...</td>\n",
       "      <td>0.298901</td>\n",
       "      <td>0.242647</td>\n",
       "      <td>0.095588</td>\n",
       "      <td>0.425163</td>\n",
       "      <td>0.245119</td>\n",
       "      <td>0.329718</td>\n",
       "      <td>0.061735</td>\n",
       "      <td>710</td>\n",
       "      <td>1250</td>\n",
       "      <td>1960</td>\n",
       "    </tr>\n",
       "  </tbody>\n",
       "</table>\n",
       "<p>70 rows × 55 columns</p>\n",
       "</div>"
      ],
      "text/plain": [
       "    Season            Name Team Level  Age     IP       K/9      BB/9  \\\n",
       "0     2010  Cesar Carrillo  SDP   AAA   26  151.0  5.662252  3.397351   \n",
       "1     2010    Radhames Liz  SDP   AAA   26  123.0  7.975610  2.780488   \n",
       "2     2010    Alan Johnson  COL   AAA   26  141.2  6.352942  2.731765   \n",
       "3     2010    Evan MacLane  STL   AAA   27  147.2  4.997743  1.279910   \n",
       "4     2010      Josh Banks  HOU   AAA   27  171.2  3.774758  1.939806   \n",
       "..     ...             ...  ...   ...  ...    ...       ...       ...   \n",
       "65    2010    Chase Wright  MIL   AAA   27  151.0  5.543046  3.278146   \n",
       "66    2010    Matt Zaleski  CHW   AAA   28  139.1  5.490430  2.971292   \n",
       "67    2010  Brian Lawrence  FLA   AAA   34  142.2  7.254673  2.460281   \n",
       "68    2010     J.R. Mathes  CHC   AAA   28  129.0  4.465116  1.953488   \n",
       "69    2010    Luis Mendoza  KCR   AAA   26  132.0  4.022727  2.181818   \n",
       "\n",
       "        K/BB      HR/9  ...       FB%     IFFB%     HR/FB     Pull%     Cent%  \\\n",
       "0   1.666667  1.192053  ...  0.356998  0.176136  0.113636  0.472656  0.246094   \n",
       "1   2.868421  1.463415  ...  0.428184  0.202532  0.126582  0.451613  0.271505   \n",
       "2   2.325581  0.889412  ...  0.329140  0.171975  0.089172  0.435583  0.235174   \n",
       "3   3.904762  1.279910  ...  0.373469  0.174863  0.114754  0.423459  0.284294   \n",
       "4   1.945946  1.310680  ...  0.420690  0.245902  0.102459  0.466777  0.250831   \n",
       "..       ...       ...  ...       ...       ...       ...       ...       ...   \n",
       "65  1.690909  1.192053  ...  0.281377  0.179856  0.143885  0.470588  0.231373   \n",
       "66  1.847826  1.485646  ...  0.384091  0.242604  0.136095  0.462389  0.267699   \n",
       "67  2.948718  1.198598  ...  0.349451  0.144654  0.119497  0.493562  0.227468   \n",
       "68  2.285714  1.255814  ...  0.308534  0.170213  0.127660  0.458422  0.266525   \n",
       "69  1.843750  0.886364  ...  0.298901  0.242647  0.095588  0.425163  0.245119   \n",
       "\n",
       "       Oppo%    SwStr%  Balls  Strikes  Pitches  \n",
       "0   0.281250  0.081841    893     1453     2346  \n",
       "1   0.276882  0.112690    706     1264     1970  \n",
       "2   0.329243  0.065610    819     1452     2271  \n",
       "3   0.292247  0.087268    684     1413     2097  \n",
       "4   0.282392  0.051668    850     1608     2458  \n",
       "..       ...       ...    ...      ...      ...  \n",
       "65  0.298039  0.078106    979     1428     2407  \n",
       "66  0.269912  0.073727    877     1361     2238  \n",
       "67  0.278970  0.098118    776     1456     2232  \n",
       "68  0.275053  0.057780    684     1289     1973  \n",
       "69  0.329718  0.061735    710     1250     1960  \n",
       "\n",
       "[70 rows x 55 columns]"
      ]
     },
     "execution_count": 37,
     "metadata": {},
     "output_type": "execute_result"
    }
   ],
   "source": [
    "temp1 = merge_df[merge_df[\"Season\"] == 2010]\n",
    "temp1"
   ]
  },
  {
   "cell_type": "code",
   "execution_count": 51,
   "id": "bffc3115-10ea-4e96-83e5-1ec9f0277470",
   "metadata": {
    "execution": {
     "iopub.execute_input": "2023-05-04T13:57:08.960189Z",
     "iopub.status.busy": "2023-05-04T13:57:08.960189Z",
     "iopub.status.idle": "2023-05-04T13:57:09.046556Z",
     "shell.execute_reply": "2023-05-04T13:57:09.045560Z",
     "shell.execute_reply.started": "2023-05-04T13:57:08.960189Z"
    },
    "tags": []
   },
   "outputs": [
    {
     "data": {
      "text/html": [
       "<div>\n",
       "<style scoped>\n",
       "    .dataframe tbody tr th:only-of-type {\n",
       "        vertical-align: middle;\n",
       "    }\n",
       "\n",
       "    .dataframe tbody tr th {\n",
       "        vertical-align: top;\n",
       "    }\n",
       "\n",
       "    .dataframe thead th {\n",
       "        text-align: right;\n",
       "    }\n",
       "</style>\n",
       "<table border=\"1\" class=\"dataframe\">\n",
       "  <thead>\n",
       "    <tr style=\"text-align: right;\">\n",
       "      <th></th>\n",
       "      <th>W</th>\n",
       "      <th>L</th>\n",
       "      <th>SV</th>\n",
       "      <th>G</th>\n",
       "      <th>GS</th>\n",
       "      <th>IP</th>\n",
       "      <th>K/9</th>\n",
       "      <th>BB/9</th>\n",
       "      <th>HR/9</th>\n",
       "      <th>BABIP</th>\n",
       "      <th>...</th>\n",
       "      <th>K-BB%</th>\n",
       "      <th>AVG</th>\n",
       "      <th>WHIP</th>\n",
       "      <th>GB/FB</th>\n",
       "      <th>LD%</th>\n",
       "      <th>FB%</th>\n",
       "      <th>IFFB%</th>\n",
       "      <th>Pull%</th>\n",
       "      <th>Cent%</th>\n",
       "      <th>Oppo%</th>\n",
       "    </tr>\n",
       "  </thead>\n",
       "  <tbody>\n",
       "    <tr>\n",
       "      <th>0</th>\n",
       "      <td>-1.231308</td>\n",
       "      <td>2.490074</td>\n",
       "      <td>-0.306186</td>\n",
       "      <td>0.306897</td>\n",
       "      <td>1.17362</td>\n",
       "      <td>0.698582</td>\n",
       "      <td>-0.598585</td>\n",
       "      <td>0.694314</td>\n",
       "      <td>0.512169</td>\n",
       "      <td>-0.310615</td>\n",
       "      <td>...</td>\n",
       "      <td>-1.026093</td>\n",
       "      <td>0.110683</td>\n",
       "      <td>0.540241</td>\n",
       "      <td>0.112133</td>\n",
       "      <td>-0.912408</td>\n",
       "      <td>-0.151465</td>\n",
       "      <td>-0.695692</td>\n",
       "      <td>0.527113</td>\n",
       "      <td>-0.166622</td>\n",
       "      <td>-0.494385</td>\n",
       "    </tr>\n",
       "    <tr>\n",
       "      <th>1</th>\n",
       "      <td>-0.158384</td>\n",
       "      <td>-0.048351</td>\n",
       "      <td>-0.306186</td>\n",
       "      <td>-0.334381</td>\n",
       "      <td>-0.509851</td>\n",
       "      <td>-0.924679</td>\n",
       "      <td>1.324053</td>\n",
       "      <td>-0.127129</td>\n",
       "      <td>1.387363</td>\n",
       "      <td>0.021507</td>\n",
       "      <td>...</td>\n",
       "      <td>1.35589</td>\n",
       "      <td>-0.219934</td>\n",
       "      <td>-0.348992</td>\n",
       "      <td>-0.867379</td>\n",
       "      <td>-1.037555</td>\n",
       "      <td>1.066063</td>\n",
       "      <td>-0.011859</td>\n",
       "      <td>-0.048674</td>\n",
       "      <td>0.916714</td>\n",
       "      <td>-0.635021</td>\n",
       "    </tr>\n",
       "    <tr>\n",
       "      <th>2</th>\n",
       "      <td>0.556899</td>\n",
       "      <td>-0.048351</td>\n",
       "      <td>-0.306186</td>\n",
       "      <td>0.627537</td>\n",
       "      <td>0.500231</td>\n",
       "      <td>0.130441</td>\n",
       "      <td>-0.024551</td>\n",
       "      <td>-0.192011</td>\n",
       "      <td>-0.463908</td>\n",
       "      <td>2.234003</td>\n",
       "      <td>...</td>\n",
       "      <td>-0.029639</td>\n",
       "      <td>2.013492</td>\n",
       "      <td>1.564691</td>\n",
       "      <td>0.367638</td>\n",
       "      <td>0.774486</td>\n",
       "      <td>-0.627924</td>\n",
       "      <td>-0.803514</td>\n",
       "      <td>-0.487288</td>\n",
       "      <td>-0.632155</td>\n",
       "      <td>1.050753</td>\n",
       "    </tr>\n",
       "    <tr>\n",
       "      <th>3</th>\n",
       "      <td>-0.158384</td>\n",
       "      <td>-0.471422</td>\n",
       "      <td>-0.306186</td>\n",
       "      <td>-0.65502</td>\n",
       "      <td>-0.173157</td>\n",
       "      <td>0.478282</td>\n",
       "      <td>-1.15086</td>\n",
       "      <td>-2.125369</td>\n",
       "      <td>0.795524</td>\n",
       "      <td>-0.417106</td>\n",
       "      <td>...</td>\n",
       "      <td>0.287561</td>\n",
       "      <td>0.290613</td>\n",
       "      <td>-1.036885</td>\n",
       "      <td>-0.274223</td>\n",
       "      <td>0.025576</td>\n",
       "      <td>0.130252</td>\n",
       "      <td>-0.728671</td>\n",
       "      <td>-0.819012</td>\n",
       "      <td>1.461922</td>\n",
       "      <td>-0.140354</td>\n",
       "    </tr>\n",
       "    <tr>\n",
       "      <th>4</th>\n",
       "      <td>0.199257</td>\n",
       "      <td>1.643932</td>\n",
       "      <td>-0.306186</td>\n",
       "      <td>0.306897</td>\n",
       "      <td>1.17362</td>\n",
       "      <td>1.869649</td>\n",
       "      <td>-2.167287</td>\n",
       "      <td>-1.24662</td>\n",
       "      <td>0.894763</td>\n",
       "      <td>-1.569426</td>\n",
       "      <td>...</td>\n",
       "      <td>-1.27182</td>\n",
       "      <td>-0.39438</td>\n",
       "      <td>-1.033216</td>\n",
       "      <td>-0.73658</td>\n",
       "      <td>-1.397071</td>\n",
       "      <td>0.937879</td>\n",
       "      <td>1.111745</td>\n",
       "      <td>0.366257</td>\n",
       "      <td>0.035315</td>\n",
       "      <td>-0.457617</td>\n",
       "    </tr>\n",
       "    <tr>\n",
       "      <th>...</th>\n",
       "      <td>...</td>\n",
       "      <td>...</td>\n",
       "      <td>...</td>\n",
       "      <td>...</td>\n",
       "      <td>...</td>\n",
       "      <td>...</td>\n",
       "      <td>...</td>\n",
       "      <td>...</td>\n",
       "      <td>...</td>\n",
       "      <td>...</td>\n",
       "      <td>...</td>\n",
       "      <td>...</td>\n",
       "      <td>...</td>\n",
       "      <td>...</td>\n",
       "      <td>...</td>\n",
       "      <td>...</td>\n",
       "      <td>...</td>\n",
       "      <td>...</td>\n",
       "      <td>...</td>\n",
       "      <td>...</td>\n",
       "      <td>...</td>\n",
       "    </tr>\n",
       "    <tr>\n",
       "      <th>65</th>\n",
       "      <td>-0.158384</td>\n",
       "      <td>0.37472</td>\n",
       "      <td>3.265986</td>\n",
       "      <td>0.627537</td>\n",
       "      <td>1.17362</td>\n",
       "      <td>0.698582</td>\n",
       "      <td>-0.697657</td>\n",
       "      <td>0.535575</td>\n",
       "      <td>0.512169</td>\n",
       "      <td>-0.121173</td>\n",
       "      <td>...</td>\n",
       "      <td>-1.026093</td>\n",
       "      <td>0.319417</td>\n",
       "      <td>0.540241</td>\n",
       "      <td>1.514556</td>\n",
       "      <td>0.262925</td>\n",
       "      <td>-1.444849</td>\n",
       "      <td>-0.599322</td>\n",
       "      <td>0.470528</td>\n",
       "      <td>-0.794209</td>\n",
       "      <td>0.046141</td>\n",
       "    </tr>\n",
       "    <tr>\n",
       "      <th>66</th>\n",
       "      <td>-0.516025</td>\n",
       "      <td>-0.048351</td>\n",
       "      <td>3.265986</td>\n",
       "      <td>0.627537</td>\n",
       "      <td>0.163537</td>\n",
       "      <td>0.008696</td>\n",
       "      <td>-0.741387</td>\n",
       "      <td>0.126954</td>\n",
       "      <td>1.459063</td>\n",
       "      <td>-1.414998</td>\n",
       "      <td>...</td>\n",
       "      <td>-0.760212</td>\n",
       "      <td>-0.631081</td>\n",
       "      <td>-0.541783</td>\n",
       "      <td>-0.494108</td>\n",
       "      <td>0.538609</td>\n",
       "      <td>0.311916</td>\n",
       "      <td>1.0263</td>\n",
       "      <td>0.246192</td>\n",
       "      <td>0.754447</td>\n",
       "      <td>-0.859426</td>\n",
       "    </tr>\n",
       "    <tr>\n",
       "      <th>67</th>\n",
       "      <td>0.91454</td>\n",
       "      <td>-0.048351</td>\n",
       "      <td>-0.306186</td>\n",
       "      <td>-0.013742</td>\n",
       "      <td>0.500231</td>\n",
       "      <td>0.188414</td>\n",
       "      <td>0.724881</td>\n",
       "      <td>-0.553532</td>\n",
       "      <td>0.533278</td>\n",
       "      <td>0.840495</td>\n",
       "      <td>...</td>\n",
       "      <td>0.919411</td>\n",
       "      <td>0.60937</td>\n",
       "      <td>0.277701</td>\n",
       "      <td>-0.024279</td>\n",
       "      <td>0.986506</td>\n",
       "      <td>-0.280552</td>\n",
       "      <td>-1.511315</td>\n",
       "      <td>1.099141</td>\n",
       "      <td>-0.960674</td>\n",
       "      <td>-0.56779</td>\n",
       "    </tr>\n",
       "    <tr>\n",
       "      <th>68</th>\n",
       "      <td>0.199257</td>\n",
       "      <td>-0.048351</td>\n",
       "      <td>-0.306186</td>\n",
       "      <td>-0.975659</td>\n",
       "      <td>-0.173157</td>\n",
       "      <td>-0.576837</td>\n",
       "      <td>-1.593528</td>\n",
       "      <td>-1.2284</td>\n",
       "      <td>0.71781</td>\n",
       "      <td>0.101691</td>\n",
       "      <td>...</td>\n",
       "      <td>-0.826711</td>\n",
       "      <td>0.971383</td>\n",
       "      <td>0.263983</td>\n",
       "      <td>1.093553</td>\n",
       "      <td>-1.18052</td>\n",
       "      <td>-0.980365</td>\n",
       "      <td>-0.849156</td>\n",
       "      <td>0.137641</td>\n",
       "      <td>0.704372</td>\n",
       "      <td>-0.693886</td>\n",
       "    </tr>\n",
       "    <tr>\n",
       "      <th>69</th>\n",
       "      <td>0.556899</td>\n",
       "      <td>0.37472</td>\n",
       "      <td>-0.306186</td>\n",
       "      <td>-0.65502</td>\n",
       "      <td>-0.509851</td>\n",
       "      <td>-0.402917</td>\n",
       "      <td>-1.961199</td>\n",
       "      <td>-0.924346</td>\n",
       "      <td>-0.473739</td>\n",
       "      <td>-0.392102</td>\n",
       "      <td>...</td>\n",
       "      <td>-1.287035</td>\n",
       "      <td>0.321235</td>\n",
       "      <td>-0.406687</td>\n",
       "      <td>1.214363</td>\n",
       "      <td>-0.54761</td>\n",
       "      <td>-1.145119</td>\n",
       "      <td>1.027427</td>\n",
       "      <td>-0.772403</td>\n",
       "      <td>-0.208164</td>\n",
       "      <td>1.066034</td>\n",
       "    </tr>\n",
       "  </tbody>\n",
       "</table>\n",
       "<p>70 rows × 29 columns</p>\n",
       "</div>"
      ],
      "text/plain": [
       "           W         L        SV         G        GS        IP       K/9  \\\n",
       "0  -1.231308  2.490074 -0.306186  0.306897   1.17362  0.698582 -0.598585   \n",
       "1  -0.158384 -0.048351 -0.306186 -0.334381 -0.509851 -0.924679  1.324053   \n",
       "2   0.556899 -0.048351 -0.306186  0.627537  0.500231  0.130441 -0.024551   \n",
       "3  -0.158384 -0.471422 -0.306186  -0.65502 -0.173157  0.478282  -1.15086   \n",
       "4   0.199257  1.643932 -0.306186  0.306897   1.17362  1.869649 -2.167287   \n",
       "..       ...       ...       ...       ...       ...       ...       ...   \n",
       "65 -0.158384   0.37472  3.265986  0.627537   1.17362  0.698582 -0.697657   \n",
       "66 -0.516025 -0.048351  3.265986  0.627537  0.163537  0.008696 -0.741387   \n",
       "67   0.91454 -0.048351 -0.306186 -0.013742  0.500231  0.188414  0.724881   \n",
       "68  0.199257 -0.048351 -0.306186 -0.975659 -0.173157 -0.576837 -1.593528   \n",
       "69  0.556899   0.37472 -0.306186  -0.65502 -0.509851 -0.402917 -1.961199   \n",
       "\n",
       "        BB/9      HR/9     BABIP  ...     K-BB%       AVG      WHIP     GB/FB  \\\n",
       "0   0.694314  0.512169 -0.310615  ... -1.026093  0.110683  0.540241  0.112133   \n",
       "1  -0.127129  1.387363  0.021507  ...   1.35589 -0.219934 -0.348992 -0.867379   \n",
       "2  -0.192011 -0.463908  2.234003  ... -0.029639  2.013492  1.564691  0.367638   \n",
       "3  -2.125369  0.795524 -0.417106  ...  0.287561  0.290613 -1.036885 -0.274223   \n",
       "4   -1.24662  0.894763 -1.569426  ...  -1.27182  -0.39438 -1.033216  -0.73658   \n",
       "..       ...       ...       ...  ...       ...       ...       ...       ...   \n",
       "65  0.535575  0.512169 -0.121173  ... -1.026093  0.319417  0.540241  1.514556   \n",
       "66  0.126954  1.459063 -1.414998  ... -0.760212 -0.631081 -0.541783 -0.494108   \n",
       "67 -0.553532  0.533278  0.840495  ...  0.919411   0.60937  0.277701 -0.024279   \n",
       "68   -1.2284   0.71781  0.101691  ... -0.826711  0.971383  0.263983  1.093553   \n",
       "69 -0.924346 -0.473739 -0.392102  ... -1.287035  0.321235 -0.406687  1.214363   \n",
       "\n",
       "         LD%       FB%     IFFB%     Pull%     Cent%     Oppo%  \n",
       "0  -0.912408 -0.151465 -0.695692  0.527113 -0.166622 -0.494385  \n",
       "1  -1.037555  1.066063 -0.011859 -0.048674  0.916714 -0.635021  \n",
       "2   0.774486 -0.627924 -0.803514 -0.487288 -0.632155  1.050753  \n",
       "3   0.025576  0.130252 -0.728671 -0.819012  1.461922 -0.140354  \n",
       "4  -1.397071  0.937879  1.111745  0.366257  0.035315 -0.457617  \n",
       "..       ...       ...       ...       ...       ...       ...  \n",
       "65  0.262925 -1.444849 -0.599322  0.470528 -0.794209  0.046141  \n",
       "66  0.538609  0.311916    1.0263  0.246192  0.754447 -0.859426  \n",
       "67  0.986506 -0.280552 -1.511315  1.099141 -0.960674  -0.56779  \n",
       "68  -1.18052 -0.980365 -0.849156  0.137641  0.704372 -0.693886  \n",
       "69  -0.54761 -1.145119  1.027427 -0.772403 -0.208164  1.066034  \n",
       "\n",
       "[70 rows x 29 columns]"
      ]
     },
     "execution_count": 51,
     "metadata": {},
     "output_type": "execute_result"
    }
   ],
   "source": [
    "temp1 = merge_df[merge_df[\"Season\"] == 2010]\n",
    "temp2 = ss.fit_transform(temp1[columns])\n",
    "temp2 = pd.DataFrame(temp2, columns = columns)\n",
    "temp2[columns2]\n",
    "ss_df.append(temp2[columns2])"
   ]
  },
  {
   "cell_type": "code",
   "execution_count": 58,
   "id": "46319e40-c631-4425-a489-a20796f274fe",
   "metadata": {
    "execution": {
     "iopub.execute_input": "2023-05-04T14:09:23.782406Z",
     "iopub.status.busy": "2023-05-04T14:09:23.781407Z",
     "iopub.status.idle": "2023-05-04T14:09:24.000468Z",
     "shell.execute_reply": "2023-05-04T14:09:23.999378Z",
     "shell.execute_reply.started": "2023-05-04T14:09:23.782406Z"
    },
    "tags": []
   },
   "outputs": [],
   "source": [
    "from sklearn.preprocessing import StandardScaler\n",
    "\n",
    "ss = StandardScaler()\n",
    "\n",
    "ss_df = pd.DataFrame(columns=columns2)\n",
    "\n",
    "for season in range(2010,2019+1):\n",
    "    temp1 = merge_df[merge_df[\"Season\"] == season]\n",
    "    #temp2 = ss.fit_transform(temp1[columns])\n",
    "    ss.fit(temp1[columns])\n",
    "    temp2 = ss.transform(minor[minor[\"Season\"] == season][columns])\n",
    "    temp2 = pd.DataFrame(temp2, columns = columns)\n",
    "    ss_df = ss_df.append(temp2[columns2])\n"
   ]
  },
  {
   "cell_type": "code",
   "execution_count": 59,
   "id": "76c3e144-121f-4ecd-892f-97ca6f7a74ec",
   "metadata": {
    "execution": {
     "iopub.execute_input": "2023-05-04T14:09:25.787440Z",
     "iopub.status.busy": "2023-05-04T14:09:25.787440Z",
     "iopub.status.idle": "2023-05-04T14:09:25.822659Z",
     "shell.execute_reply": "2023-05-04T14:09:25.822659Z",
     "shell.execute_reply.started": "2023-05-04T14:09:25.787440Z"
    },
    "tags": []
   },
   "outputs": [
    {
     "data": {
      "text/html": [
       "<div>\n",
       "<style scoped>\n",
       "    .dataframe tbody tr th:only-of-type {\n",
       "        vertical-align: middle;\n",
       "    }\n",
       "\n",
       "    .dataframe tbody tr th {\n",
       "        vertical-align: top;\n",
       "    }\n",
       "\n",
       "    .dataframe thead th {\n",
       "        text-align: right;\n",
       "    }\n",
       "</style>\n",
       "<table border=\"1\" class=\"dataframe\">\n",
       "  <thead>\n",
       "    <tr style=\"text-align: right;\">\n",
       "      <th></th>\n",
       "      <th>W</th>\n",
       "      <th>L</th>\n",
       "      <th>SV</th>\n",
       "      <th>G</th>\n",
       "      <th>GS</th>\n",
       "      <th>IP</th>\n",
       "      <th>K/9</th>\n",
       "      <th>BB/9</th>\n",
       "      <th>HR/9</th>\n",
       "      <th>BABIP</th>\n",
       "      <th>...</th>\n",
       "      <th>K-BB%</th>\n",
       "      <th>AVG</th>\n",
       "      <th>WHIP</th>\n",
       "      <th>GB/FB</th>\n",
       "      <th>LD%</th>\n",
       "      <th>FB%</th>\n",
       "      <th>IFFB%</th>\n",
       "      <th>Pull%</th>\n",
       "      <th>Cent%</th>\n",
       "      <th>Oppo%</th>\n",
       "    </tr>\n",
       "  </thead>\n",
       "  <tbody>\n",
       "    <tr>\n",
       "      <th>0</th>\n",
       "      <td>-2.304232</td>\n",
       "      <td>-3.009846</td>\n",
       "      <td>-0.306186</td>\n",
       "      <td>-5.785245</td>\n",
       "      <td>-5.223569</td>\n",
       "      <td>-5.736488</td>\n",
       "      <td>0.496599</td>\n",
       "      <td>0.071968</td>\n",
       "      <td>-1.139302</td>\n",
       "      <td>1.82381</td>\n",
       "      <td>...</td>\n",
       "      <td>0.358999</td>\n",
       "      <td>1.202712</td>\n",
       "      <td>0.982407</td>\n",
       "      <td>0.168779</td>\n",
       "      <td>5.068435</td>\n",
       "      <td>-1.040808</td>\n",
       "      <td>4.456346</td>\n",
       "      <td>0.645966</td>\n",
       "      <td>-1.279038</td>\n",
       "      <td>0.205853</td>\n",
       "    </tr>\n",
       "    <tr>\n",
       "      <th>1</th>\n",
       "      <td>0.199257</td>\n",
       "      <td>-1.740634</td>\n",
       "      <td>-0.306186</td>\n",
       "      <td>-1.296298</td>\n",
       "      <td>-1.519934</td>\n",
       "      <td>-0.913084</td>\n",
       "      <td>-0.824854</td>\n",
       "      <td>0.431513</td>\n",
       "      <td>-2.397128</td>\n",
       "      <td>-0.474779</td>\n",
       "      <td>...</td>\n",
       "      <td>-1.0226</td>\n",
       "      <td>-0.713847</td>\n",
       "      <td>-0.479162</td>\n",
       "      <td>0.641028</td>\n",
       "      <td>-1.804405</td>\n",
       "      <td>-0.544809</td>\n",
       "      <td>-1.865057</td>\n",
       "      <td>-0.393787</td>\n",
       "      <td>-1.364301</td>\n",
       "      <td>1.461451</td>\n",
       "    </tr>\n",
       "    <tr>\n",
       "      <th>2</th>\n",
       "      <td>-0.516025</td>\n",
       "      <td>-1.740634</td>\n",
       "      <td>3.265986</td>\n",
       "      <td>0.948176</td>\n",
       "      <td>-1.856628</td>\n",
       "      <td>-1.38267</td>\n",
       "      <td>1.377568</td>\n",
       "      <td>0.950855</td>\n",
       "      <td>-1.332814</td>\n",
       "      <td>-0.115625</td>\n",
       "      <td>...</td>\n",
       "      <td>0.819532</td>\n",
       "      <td>-1.080847</td>\n",
       "      <td>-0.412727</td>\n",
       "      <td>1.087041</td>\n",
       "      <td>0.665522</td>\n",
       "      <td>-1.194738</td>\n",
       "      <td>2.306033</td>\n",
       "      <td>0.70069</td>\n",
       "      <td>0.724643</td>\n",
       "      <td>-1.339499</td>\n",
       "    </tr>\n",
       "    <tr>\n",
       "      <th>3</th>\n",
       "      <td>-0.158384</td>\n",
       "      <td>-0.048351</td>\n",
       "      <td>-0.306186</td>\n",
       "      <td>-0.334381</td>\n",
       "      <td>-0.509851</td>\n",
       "      <td>-0.924679</td>\n",
       "      <td>1.327702</td>\n",
       "      <td>-0.127779</td>\n",
       "      <td>1.37635</td>\n",
       "      <td>0.028037</td>\n",
       "      <td>...</td>\n",
       "      <td>1.341469</td>\n",
       "      <td>-0.224513</td>\n",
       "      <td>-0.346292</td>\n",
       "      <td>-0.854427</td>\n",
       "      <td>-1.052688</td>\n",
       "      <td>1.062911</td>\n",
       "      <td>0.000275</td>\n",
       "      <td>-0.038082</td>\n",
       "      <td>0.9378</td>\n",
       "      <td>-0.631213</td>\n",
       "    </tr>\n",
       "    <tr>\n",
       "      <th>4</th>\n",
       "      <td>-1.231308</td>\n",
       "      <td>-0.471422</td>\n",
       "      <td>-0.306186</td>\n",
       "      <td>-2.578854</td>\n",
       "      <td>-2.86671</td>\n",
       "      <td>-2.895781</td>\n",
       "      <td>-0.766677</td>\n",
       "      <td>0.338297</td>\n",
       "      <td>-1.042546</td>\n",
       "      <td>1.680149</td>\n",
       "      <td>...</td>\n",
       "      <td>-1.0226</td>\n",
       "      <td>1.732824</td>\n",
       "      <td>1.646757</td>\n",
       "      <td>2.320135</td>\n",
       "      <td>1.846791</td>\n",
       "      <td>-2.084115</td>\n",
       "      <td>-2.486834</td>\n",
       "      <td>-0.530597</td>\n",
       "      <td>0.809906</td>\n",
       "      <td>0.044878</td>\n",
       "    </tr>\n",
       "    <tr>\n",
       "      <th>...</th>\n",
       "      <td>...</td>\n",
       "      <td>...</td>\n",
       "      <td>...</td>\n",
       "      <td>...</td>\n",
       "      <td>...</td>\n",
       "      <td>...</td>\n",
       "      <td>...</td>\n",
       "      <td>...</td>\n",
       "      <td>...</td>\n",
       "      <td>...</td>\n",
       "      <td>...</td>\n",
       "      <td>...</td>\n",
       "      <td>...</td>\n",
       "      <td>...</td>\n",
       "      <td>...</td>\n",
       "      <td>...</td>\n",
       "      <td>...</td>\n",
       "      <td>...</td>\n",
       "      <td>...</td>\n",
       "      <td>...</td>\n",
       "      <td>...</td>\n",
       "    </tr>\n",
       "    <tr>\n",
       "      <th>9</th>\n",
       "      <td>-0.95287</td>\n",
       "      <td>-0.878999</td>\n",
       "      <td>-0.348367</td>\n",
       "      <td>0.28987</td>\n",
       "      <td>-0.043398</td>\n",
       "      <td>-1.053341</td>\n",
       "      <td>0.227887</td>\n",
       "      <td>-0.273207</td>\n",
       "      <td>0.826152</td>\n",
       "      <td>1.079146</td>\n",
       "      <td>...</td>\n",
       "      <td>0.325682</td>\n",
       "      <td>1.115642</td>\n",
       "      <td>0.717654</td>\n",
       "      <td>-0.696059</td>\n",
       "      <td>-0.062419</td>\n",
       "      <td>0.697397</td>\n",
       "      <td>0.207073</td>\n",
       "      <td>0.441897</td>\n",
       "      <td>-0.598224</td>\n",
       "      <td>0.084783</td>\n",
       "    </tr>\n",
       "    <tr>\n",
       "      <th>10</th>\n",
       "      <td>-0.067104</td>\n",
       "      <td>-1.299389</td>\n",
       "      <td>-0.348367</td>\n",
       "      <td>2.769873</td>\n",
       "      <td>-0.902677</td>\n",
       "      <td>-0.071245</td>\n",
       "      <td>-1.366671</td>\n",
       "      <td>-1.460894</td>\n",
       "      <td>-1.608693</td>\n",
       "      <td>-0.245479</td>\n",
       "      <td>...</td>\n",
       "      <td>0.011409</td>\n",
       "      <td>-0.192466</td>\n",
       "      <td>-1.209317</td>\n",
       "      <td>-0.339652</td>\n",
       "      <td>-0.76041</td>\n",
       "      <td>0.331482</td>\n",
       "      <td>-0.867625</td>\n",
       "      <td>-1.165536</td>\n",
       "      <td>-0.219255</td>\n",
       "      <td>1.6921</td>\n",
       "    </tr>\n",
       "    <tr>\n",
       "      <th>11</th>\n",
       "      <td>-3.167286</td>\n",
       "      <td>-1.299389</td>\n",
       "      <td>-0.348367</td>\n",
       "      <td>-6.795852</td>\n",
       "      <td>-4.62622</td>\n",
       "      <td>-7.005436</td>\n",
       "      <td>0.561213</td>\n",
       "      <td>-0.703232</td>\n",
       "      <td>-0.437211</td>\n",
       "      <td>-0.618029</td>\n",
       "      <td>...</td>\n",
       "      <td>2.27417</td>\n",
       "      <td>-2.111025</td>\n",
       "      <td>-1.931931</td>\n",
       "      <td>-0.432714</td>\n",
       "      <td>-1.394948</td>\n",
       "      <td>0.641103</td>\n",
       "      <td>0.311922</td>\n",
       "      <td>-0.649944</td>\n",
       "      <td>3.305148</td>\n",
       "      <td>-2.441</td>\n",
       "    </tr>\n",
       "    <tr>\n",
       "      <th>12</th>\n",
       "      <td>-0.95287</td>\n",
       "      <td>-0.878999</td>\n",
       "      <td>-0.348367</td>\n",
       "      <td>-3.607277</td>\n",
       "      <td>-2.048383</td>\n",
       "      <td>-2.89849</td>\n",
       "      <td>-0.222553</td>\n",
       "      <td>-1.440417</td>\n",
       "      <td>-0.758794</td>\n",
       "      <td>-2.149627</td>\n",
       "      <td>...</td>\n",
       "      <td>1.237072</td>\n",
       "      <td>-1.980214</td>\n",
       "      <td>-2.585724</td>\n",
       "      <td>-0.102047</td>\n",
       "      <td>0.223123</td>\n",
       "      <td>-0.147024</td>\n",
       "      <td>0.233285</td>\n",
       "      <td>0.350911</td>\n",
       "      <td>0.083919</td>\n",
       "      <td>-0.527528</td>\n",
       "    </tr>\n",
       "    <tr>\n",
       "      <th>13</th>\n",
       "      <td>-0.067104</td>\n",
       "      <td>-0.458608</td>\n",
       "      <td>-0.348367</td>\n",
       "      <td>-0.418702</td>\n",
       "      <td>-0.043398</td>\n",
       "      <td>-0.227487</td>\n",
       "      <td>1.218855</td>\n",
       "      <td>0.126102</td>\n",
       "      <td>-1.562752</td>\n",
       "      <td>0.478926</td>\n",
       "      <td>...</td>\n",
       "      <td>1.079935</td>\n",
       "      <td>-0.802917</td>\n",
       "      <td>-0.693164</td>\n",
       "      <td>1.274079</td>\n",
       "      <td>-0.094146</td>\n",
       "      <td>-1.272918</td>\n",
       "      <td>-0.002624</td>\n",
       "      <td>-1.165536</td>\n",
       "      <td>-0.598224</td>\n",
       "      <td>2.036525</td>\n",
       "    </tr>\n",
       "  </tbody>\n",
       "</table>\n",
       "<p>103 rows × 29 columns</p>\n",
       "</div>"
      ],
      "text/plain": [
       "           W         L        SV         G        GS        IP       K/9  \\\n",
       "0  -2.304232 -3.009846 -0.306186 -5.785245 -5.223569 -5.736488  0.496599   \n",
       "1   0.199257 -1.740634 -0.306186 -1.296298 -1.519934 -0.913084 -0.824854   \n",
       "2  -0.516025 -1.740634  3.265986  0.948176 -1.856628  -1.38267  1.377568   \n",
       "3  -0.158384 -0.048351 -0.306186 -0.334381 -0.509851 -0.924679  1.327702   \n",
       "4  -1.231308 -0.471422 -0.306186 -2.578854  -2.86671 -2.895781 -0.766677   \n",
       "..       ...       ...       ...       ...       ...       ...       ...   \n",
       "9   -0.95287 -0.878999 -0.348367   0.28987 -0.043398 -1.053341  0.227887   \n",
       "10 -0.067104 -1.299389 -0.348367  2.769873 -0.902677 -0.071245 -1.366671   \n",
       "11 -3.167286 -1.299389 -0.348367 -6.795852  -4.62622 -7.005436  0.561213   \n",
       "12  -0.95287 -0.878999 -0.348367 -3.607277 -2.048383  -2.89849 -0.222553   \n",
       "13 -0.067104 -0.458608 -0.348367 -0.418702 -0.043398 -0.227487  1.218855   \n",
       "\n",
       "        BB/9      HR/9     BABIP  ...     K-BB%       AVG      WHIP     GB/FB  \\\n",
       "0   0.071968 -1.139302   1.82381  ...  0.358999  1.202712  0.982407  0.168779   \n",
       "1   0.431513 -2.397128 -0.474779  ...   -1.0226 -0.713847 -0.479162  0.641028   \n",
       "2   0.950855 -1.332814 -0.115625  ...  0.819532 -1.080847 -0.412727  1.087041   \n",
       "3  -0.127779   1.37635  0.028037  ...  1.341469 -0.224513 -0.346292 -0.854427   \n",
       "4   0.338297 -1.042546  1.680149  ...   -1.0226  1.732824  1.646757  2.320135   \n",
       "..       ...       ...       ...  ...       ...       ...       ...       ...   \n",
       "9  -0.273207  0.826152  1.079146  ...  0.325682  1.115642  0.717654 -0.696059   \n",
       "10 -1.460894 -1.608693 -0.245479  ...  0.011409 -0.192466 -1.209317 -0.339652   \n",
       "11 -0.703232 -0.437211 -0.618029  ...   2.27417 -2.111025 -1.931931 -0.432714   \n",
       "12 -1.440417 -0.758794 -2.149627  ...  1.237072 -1.980214 -2.585724 -0.102047   \n",
       "13  0.126102 -1.562752  0.478926  ...  1.079935 -0.802917 -0.693164  1.274079   \n",
       "\n",
       "         LD%       FB%     IFFB%     Pull%     Cent%     Oppo%  \n",
       "0   5.068435 -1.040808  4.456346  0.645966 -1.279038  0.205853  \n",
       "1  -1.804405 -0.544809 -1.865057 -0.393787 -1.364301  1.461451  \n",
       "2   0.665522 -1.194738  2.306033   0.70069  0.724643 -1.339499  \n",
       "3  -1.052688  1.062911  0.000275 -0.038082    0.9378 -0.631213  \n",
       "4   1.846791 -2.084115 -2.486834 -0.530597  0.809906  0.044878  \n",
       "..       ...       ...       ...       ...       ...       ...  \n",
       "9  -0.062419  0.697397  0.207073  0.441897 -0.598224  0.084783  \n",
       "10  -0.76041  0.331482 -0.867625 -1.165536 -0.219255    1.6921  \n",
       "11 -1.394948  0.641103  0.311922 -0.649944  3.305148    -2.441  \n",
       "12  0.223123 -0.147024  0.233285  0.350911  0.083919 -0.527528  \n",
       "13 -0.094146 -1.272918 -0.002624 -1.165536 -0.598224  2.036525  \n",
       "\n",
       "[103 rows x 29 columns]"
      ]
     },
     "execution_count": 59,
     "metadata": {},
     "output_type": "execute_result"
    }
   ],
   "source": [
    "ss_df"
   ]
  },
  {
   "cell_type": "code",
   "execution_count": 79,
   "id": "69b2c1fe-3024-4853-8f02-26c8d54f9e3b",
   "metadata": {
    "execution": {
     "iopub.execute_input": "2023-05-04T14:22:32.926330Z",
     "iopub.status.busy": "2023-05-04T14:22:32.926330Z",
     "iopub.status.idle": "2023-05-04T14:22:32.936217Z",
     "shell.execute_reply": "2023-05-04T14:22:32.935712Z",
     "shell.execute_reply.started": "2023-05-04T14:22:32.926330Z"
    },
    "tags": []
   },
   "outputs": [],
   "source": [
    "X = ss_df\n",
    "X = X.astype(float)\n",
    "y = minor[\"재계약\"]"
   ]
  },
  {
   "cell_type": "code",
   "execution_count": 61,
   "id": "29c7b162-48fb-4fd9-96ce-06de46a2db01",
   "metadata": {
    "execution": {
     "iopub.execute_input": "2023-05-04T14:12:54.814903Z",
     "iopub.status.busy": "2023-05-04T14:12:54.814903Z",
     "iopub.status.idle": "2023-05-04T14:12:59.014844Z",
     "shell.execute_reply": "2023-05-04T14:12:59.014844Z",
     "shell.execute_reply.started": "2023-05-04T14:12:54.814903Z"
    }
   },
   "outputs": [],
   "source": [
    "# 기본패키지\n",
    "\n",
    "import pandas as pd\n",
    "import numpy as np\n",
    "import matplotlib.pyplot as plt\n",
    "plt.rcParams['font.family'] = 'Malgun Gothic'\n",
    "import seaborn as sns\n",
    "from sklearn.preprocessing import StandardScaler\n",
    "from sklearn.model_selection import train_test_split\n",
    "from collections import Counter\n",
    "\n",
    "# 모델\n",
    "from sklearn.linear_model import LogisticRegression\n",
    "from sklearn.svm import SVC\n",
    "from sklearn.ensemble import RandomForestClassifier\n",
    "from xgboost import XGBClassifier\n",
    "from lightgbm import LGBMClassifier\n",
    "from catboost import CatBoostClassifier\n",
    "\n",
    "# 모델\n",
    "from sklearn.linear_model import LogisticRegression\n",
    "from sklearn.svm import SVC\n",
    "from sklearn.ensemble import RandomForestRegressor\n",
    "from xgboost import XGBRegressor\n",
    "from lightgbm import LGBMRegressor\n",
    "from catboost import CatBoostRegressor\n",
    "\n",
    "# 검증\n",
    "from sklearn.model_selection import cross_val_score\n",
    "from sklearn.model_selection import cross_val_predict\n",
    "from sklearn.model_selection import StratifiedKFold\n",
    "from sklearn.metrics import confusion_matrix, classification_report\n",
    "from sklearn.metrics import accuracy_score, precision_score, recall_score, f1_score, roc_auc_score\n",
    "from sklearn.metrics import roc_curve, auc\n",
    "#pd.set_option('display.max_columns', None) # 컬럼 수가 많으므로 요약되어 표시되지 않게 함\n",
    "import warnings\n",
    "warnings.filterwarnings(action='ignore')"
   ]
  },
  {
   "cell_type": "code",
   "execution_count": 70,
   "id": "f4b8d7e8-0485-4def-8859-19a3c532a79b",
   "metadata": {
    "execution": {
     "iopub.execute_input": "2023-05-04T14:17:02.150058Z",
     "iopub.status.busy": "2023-05-04T14:17:02.150058Z",
     "iopub.status.idle": "2023-05-04T14:17:02.158108Z",
     "shell.execute_reply": "2023-05-04T14:17:02.157604Z",
     "shell.execute_reply.started": "2023-05-04T14:17:02.150058Z"
    },
    "tags": []
   },
   "outputs": [],
   "source": [
    "lr = LogisticRegression()\n",
    "svc = SVC()\n",
    "rf = RandomForestClassifier()\n",
    "xgb = XGBClassifier()\n",
    "lgbm = LGBMClassifier()\n",
    "cat = CatBoostClassifier(verbose=0)"
   ]
  },
  {
   "cell_type": "code",
   "execution_count": 64,
   "id": "820f51a0-97a4-4ec5-8c41-eed2937bd4c3",
   "metadata": {
    "execution": {
     "iopub.execute_input": "2023-05-04T14:15:18.532731Z",
     "iopub.status.busy": "2023-05-04T14:15:18.532731Z",
     "iopub.status.idle": "2023-05-04T14:15:18.627271Z",
     "shell.execute_reply": "2023-05-04T14:15:18.627271Z",
     "shell.execute_reply.started": "2023-05-04T14:15:18.532731Z"
    },
    "tags": []
   },
   "outputs": [
    {
     "data": {
      "text/plain": [
       "0.4666666666666667"
      ]
     },
     "execution_count": 64,
     "metadata": {},
     "output_type": "execute_result"
    }
   ],
   "source": [
    "cross_val_score(lr, X,y, cv=5).mean()"
   ]
  },
  {
   "cell_type": "code",
   "execution_count": 66,
   "id": "d5f31ae6-83c3-4072-a717-df3020271f3f",
   "metadata": {
    "execution": {
     "iopub.execute_input": "2023-05-04T14:15:47.239774Z",
     "iopub.status.busy": "2023-05-04T14:15:47.239774Z",
     "iopub.status.idle": "2023-05-04T14:15:47.291132Z",
     "shell.execute_reply": "2023-05-04T14:15:47.291132Z",
     "shell.execute_reply.started": "2023-05-04T14:15:47.239774Z"
    },
    "tags": []
   },
   "outputs": [
    {
     "data": {
      "text/plain": [
       "0.6023809523809524"
      ]
     },
     "execution_count": 66,
     "metadata": {},
     "output_type": "execute_result"
    }
   ],
   "source": [
    "cross_val_score(svc, X,y, cv=5).mean()"
   ]
  },
  {
   "cell_type": "code",
   "execution_count": 67,
   "id": "fe974402-23e8-4278-900f-98e17641ca08",
   "metadata": {
    "execution": {
     "iopub.execute_input": "2023-05-04T14:15:52.299621Z",
     "iopub.status.busy": "2023-05-04T14:15:52.299621Z",
     "iopub.status.idle": "2023-05-04T14:15:53.175333Z",
     "shell.execute_reply": "2023-05-04T14:15:53.174308Z",
     "shell.execute_reply.started": "2023-05-04T14:15:52.299621Z"
    },
    "tags": []
   },
   "outputs": [
    {
     "data": {
      "text/plain": [
       "0.5252380952380953"
      ]
     },
     "execution_count": 67,
     "metadata": {},
     "output_type": "execute_result"
    }
   ],
   "source": [
    "cross_val_score(rf, X,y, cv=5).mean()"
   ]
  },
  {
   "cell_type": "code",
   "execution_count": 71,
   "id": "2aae789d-00b6-464b-a801-5359f81833a6",
   "metadata": {
    "execution": {
     "iopub.execute_input": "2023-05-04T14:17:05.066164Z",
     "iopub.status.busy": "2023-05-04T14:17:05.066164Z",
     "iopub.status.idle": "2023-05-04T14:17:14.882439Z",
     "shell.execute_reply": "2023-05-04T14:17:14.881225Z",
     "shell.execute_reply.started": "2023-05-04T14:17:05.066164Z"
    },
    "tags": []
   },
   "outputs": [
    {
     "data": {
      "text/plain": [
       "0.5638095238095238"
      ]
     },
     "execution_count": 71,
     "metadata": {},
     "output_type": "execute_result"
    }
   ],
   "source": [
    "cross_val_score(cat, X,y, cv=5).mean()"
   ]
  },
  {
   "cell_type": "code",
   "execution_count": 80,
   "id": "0debe55e-7729-4325-90d8-53db40c26b32",
   "metadata": {
    "execution": {
     "iopub.execute_input": "2023-05-04T14:22:43.751247Z",
     "iopub.status.busy": "2023-05-04T14:22:43.751247Z",
     "iopub.status.idle": "2023-05-04T14:22:43.874633Z",
     "shell.execute_reply": "2023-05-04T14:22:43.874633Z",
     "shell.execute_reply.started": "2023-05-04T14:22:43.751247Z"
    },
    "tags": []
   },
   "outputs": [
    {
     "data": {
      "text/plain": [
       "0.5538095238095239"
      ]
     },
     "execution_count": 80,
     "metadata": {},
     "output_type": "execute_result"
    }
   ],
   "source": [
    "cross_val_score(lgbm, X,y, cv=5).mean()"
   ]
  },
  {
   "cell_type": "code",
   "execution_count": 81,
   "id": "b42d7073-2c65-4aeb-b843-7cc9153031e0",
   "metadata": {
    "execution": {
     "iopub.execute_input": "2023-05-04T14:22:55.354218Z",
     "iopub.status.busy": "2023-05-04T14:22:55.353220Z",
     "iopub.status.idle": "2023-05-04T14:22:55.598146Z",
     "shell.execute_reply": "2023-05-04T14:22:55.598146Z",
     "shell.execute_reply.started": "2023-05-04T14:22:55.354218Z"
    },
    "tags": []
   },
   "outputs": [
    {
     "data": {
      "text/plain": [
       "0.5728571428571428"
      ]
     },
     "execution_count": 81,
     "metadata": {},
     "output_type": "execute_result"
    }
   ],
   "source": [
    "cross_val_score(xgb, X,y, cv=5).mean()"
   ]
  },
  {
   "cell_type": "code",
   "execution_count": 82,
   "id": "9f650e68-82f8-4bee-8f38-2697b6e4a702",
   "metadata": {
    "execution": {
     "iopub.execute_input": "2023-05-04T14:27:45.413641Z",
     "iopub.status.busy": "2023-05-04T14:27:45.412630Z",
     "iopub.status.idle": "2023-05-04T14:27:45.505284Z",
     "shell.execute_reply": "2023-05-04T14:27:45.505284Z",
     "shell.execute_reply.started": "2023-05-04T14:27:45.413641Z"
    },
    "tags": []
   },
   "outputs": [
    {
     "data": {
      "text/plain": [
       "0.42873168498168496"
      ]
     },
     "execution_count": 82,
     "metadata": {},
     "output_type": "execute_result"
    }
   ],
   "source": [
    "cross_val_score(lr, X,y, cv=5,scoring=\"roc_auc\").mean()"
   ]
  },
  {
   "cell_type": "code",
   "execution_count": 83,
   "id": "05b3feb6-919a-4342-8505-44b624536674",
   "metadata": {
    "execution": {
     "iopub.execute_input": "2023-05-04T14:28:04.538243Z",
     "iopub.status.busy": "2023-05-04T14:28:04.537232Z",
     "iopub.status.idle": "2023-05-04T14:28:04.585435Z",
     "shell.execute_reply": "2023-05-04T14:28:04.585435Z",
     "shell.execute_reply.started": "2023-05-04T14:28:04.538243Z"
    },
    "tags": []
   },
   "outputs": [
    {
     "data": {
      "text/plain": [
       "0.3881639194139194"
      ]
     },
     "execution_count": 83,
     "metadata": {},
     "output_type": "execute_result"
    }
   ],
   "source": [
    "cross_val_score(svc, X,y, cv=5,scoring=\"roc_auc\").mean()"
   ]
  },
  {
   "cell_type": "code",
   "execution_count": 84,
   "id": "554f130e-e99d-4e7c-bfac-ef4908d79560",
   "metadata": {
    "execution": {
     "iopub.execute_input": "2023-05-04T14:28:18.175895Z",
     "iopub.status.busy": "2023-05-04T14:28:18.175895Z",
     "iopub.status.idle": "2023-05-04T14:28:19.003536Z",
     "shell.execute_reply": "2023-05-04T14:28:19.002538Z",
     "shell.execute_reply.started": "2023-05-04T14:28:18.175895Z"
    },
    "tags": []
   },
   "outputs": [
    {
     "data": {
      "text/plain": [
       "0.48177655677655673"
      ]
     },
     "execution_count": 84,
     "metadata": {},
     "output_type": "execute_result"
    }
   ],
   "source": [
    "cross_val_score(rf, X,y, cv=5,scoring=\"roc_auc\").mean()"
   ]
  },
  {
   "cell_type": "code",
   "execution_count": 85,
   "id": "cd7e22da-4a83-4b06-aa56-c86708f37143",
   "metadata": {
    "execution": {
     "iopub.execute_input": "2023-05-04T14:28:25.076268Z",
     "iopub.status.busy": "2023-05-04T14:28:25.076268Z",
     "iopub.status.idle": "2023-05-04T14:28:35.140863Z",
     "shell.execute_reply": "2023-05-04T14:28:35.140863Z",
     "shell.execute_reply.started": "2023-05-04T14:28:25.076268Z"
    },
    "tags": []
   },
   "outputs": [
    {
     "data": {
      "text/plain": [
       "0.45776098901098905"
      ]
     },
     "execution_count": 85,
     "metadata": {},
     "output_type": "execute_result"
    }
   ],
   "source": [
    "cross_val_score(cat, X,y, cv=5,scoring=\"roc_auc\").mean()"
   ]
  },
  {
   "cell_type": "code",
   "execution_count": 86,
   "id": "76b340f5-82bb-4331-977c-caf232cc8b26",
   "metadata": {
    "execution": {
     "iopub.execute_input": "2023-05-04T14:28:35.143238Z",
     "iopub.status.busy": "2023-05-04T14:28:35.143238Z",
     "iopub.status.idle": "2023-05-04T14:28:35.249119Z",
     "shell.execute_reply": "2023-05-04T14:28:35.249119Z",
     "shell.execute_reply.started": "2023-05-04T14:28:35.143238Z"
    }
   },
   "outputs": [
    {
     "data": {
      "text/plain": [
       "0.4572802197802198"
      ]
     },
     "execution_count": 86,
     "metadata": {},
     "output_type": "execute_result"
    }
   ],
   "source": [
    "cross_val_score(lgbm, X,y, cv=5,scoring=\"roc_auc\").mean()"
   ]
  },
  {
   "cell_type": "code",
   "execution_count": 87,
   "id": "0d0a55c8-ed4e-4a23-bbf9-0901cc9618d1",
   "metadata": {
    "execution": {
     "iopub.execute_input": "2023-05-04T14:28:42.991254Z",
     "iopub.status.busy": "2023-05-04T14:28:42.991254Z",
     "iopub.status.idle": "2023-05-04T14:28:43.236300Z",
     "shell.execute_reply": "2023-05-04T14:28:43.235718Z",
     "shell.execute_reply.started": "2023-05-04T14:28:42.991254Z"
    },
    "tags": []
   },
   "outputs": [
    {
     "data": {
      "text/plain": [
       "0.4654532967032967"
      ]
     },
     "execution_count": 87,
     "metadata": {},
     "output_type": "execute_result"
    }
   ],
   "source": [
    "cross_val_score(xgb, X,y, cv=5,scoring=\"roc_auc\").mean()"
   ]
  },
  {
   "cell_type": "code",
   "execution_count": 89,
   "id": "ca93aa6a-2755-4371-95c8-2afd0769a07c",
   "metadata": {
    "execution": {
     "iopub.execute_input": "2023-05-04T14:31:06.554919Z",
     "iopub.status.busy": "2023-05-04T14:31:06.553923Z",
     "iopub.status.idle": "2023-05-04T14:31:06.568239Z",
     "shell.execute_reply": "2023-05-04T14:31:06.568239Z",
     "shell.execute_reply.started": "2023-05-04T14:31:06.554919Z"
    },
    "tags": []
   },
   "outputs": [
    {
     "data": {
      "text/plain": [
       "0    64\n",
       "1    39\n",
       "Name: 재계약, dtype: int64"
      ]
     },
     "execution_count": 89,
     "metadata": {},
     "output_type": "execute_result"
    }
   ],
   "source": [
    "y.value_counts()"
   ]
  },
  {
   "cell_type": "code",
   "execution_count": 92,
   "id": "096a8d10-146a-4f70-90b6-95ed784fb553",
   "metadata": {
    "execution": {
     "iopub.execute_input": "2023-05-04T14:32:44.603089Z",
     "iopub.status.busy": "2023-05-04T14:32:44.603089Z",
     "iopub.status.idle": "2023-05-04T14:32:44.864044Z",
     "shell.execute_reply": "2023-05-04T14:32:44.863044Z",
     "shell.execute_reply.started": "2023-05-04T14:32:44.603089Z"
    },
    "tags": []
   },
   "outputs": [
    {
     "data": {
      "text/plain": [
       "0.3539393939393939"
      ]
     },
     "execution_count": 92,
     "metadata": {},
     "output_type": "execute_result"
    }
   ],
   "source": [
    "cross_val_score(xgb, X,y, cv=5,scoring=\"precision\").mean()"
   ]
  },
  {
   "cell_type": "code",
   "execution_count": 93,
   "id": "ca77fce8-c812-482a-b47b-36b362aba2e9",
   "metadata": {
    "execution": {
     "iopub.execute_input": "2023-05-04T14:32:57.226323Z",
     "iopub.status.busy": "2023-05-04T14:32:57.226323Z",
     "iopub.status.idle": "2023-05-04T14:33:07.226619Z",
     "shell.execute_reply": "2023-05-04T14:33:07.226619Z",
     "shell.execute_reply.started": "2023-05-04T14:32:57.226323Z"
    }
   },
   "outputs": [
    {
     "data": {
      "text/plain": [
       "0.2066666666666667"
      ]
     },
     "execution_count": 93,
     "metadata": {},
     "output_type": "execute_result"
    }
   ],
   "source": [
    "cross_val_score(cat, X,y, cv=5,scoring=\"precision\").mean()"
   ]
  },
  {
   "cell_type": "code",
   "execution_count": 95,
   "id": "6e115399-aba2-45ab-a0a1-88823f3cf59a",
   "metadata": {
    "execution": {
     "iopub.execute_input": "2023-05-04T14:33:15.047826Z",
     "iopub.status.busy": "2023-05-04T14:33:15.047826Z",
     "iopub.status.idle": "2023-05-04T14:33:15.100527Z",
     "shell.execute_reply": "2023-05-04T14:33:15.099017Z",
     "shell.execute_reply.started": "2023-05-04T14:33:15.047826Z"
    },
    "tags": []
   },
   "outputs": [
    {
     "data": {
      "text/plain": [
       "0.0"
      ]
     },
     "execution_count": 95,
     "metadata": {},
     "output_type": "execute_result"
    }
   ],
   "source": [
    "cross_val_score(svc, X,y, cv=5,scoring=\"precision\").mean()"
   ]
  },
  {
   "cell_type": "code",
   "execution_count": 96,
   "id": "4a473d1f-bf50-45ea-b5e6-5e8326c8f7eb",
   "metadata": {
    "execution": {
     "iopub.execute_input": "2023-05-04T14:33:21.753444Z",
     "iopub.status.busy": "2023-05-04T14:33:21.753444Z",
     "iopub.status.idle": "2023-05-04T14:33:22.636152Z",
     "shell.execute_reply": "2023-05-04T14:33:22.636152Z",
     "shell.execute_reply.started": "2023-05-04T14:33:21.753444Z"
    }
   },
   "outputs": [
    {
     "data": {
      "text/plain": [
       "0.4455555555555556"
      ]
     },
     "execution_count": 96,
     "metadata": {},
     "output_type": "execute_result"
    }
   ],
   "source": [
    "cross_val_score(rf, X,y, cv=5,scoring=\"precision\").mean()"
   ]
  },
  {
   "cell_type": "code",
   "execution_count": 97,
   "id": "f0537588-92ef-4d8c-8060-99d137efe8ec",
   "metadata": {
    "execution": {
     "iopub.execute_input": "2023-05-04T14:33:30.710186Z",
     "iopub.status.busy": "2023-05-04T14:33:30.709127Z",
     "iopub.status.idle": "2023-05-04T14:33:30.861197Z",
     "shell.execute_reply": "2023-05-04T14:33:30.861197Z",
     "shell.execute_reply.started": "2023-05-04T14:33:30.710186Z"
    }
   },
   "outputs": [
    {
     "data": {
      "text/plain": [
       "0.35"
      ]
     },
     "execution_count": 97,
     "metadata": {},
     "output_type": "execute_result"
    }
   ],
   "source": [
    "cross_val_score(lgbm, X,y, cv=5,scoring=\"precision\").mean()"
   ]
  },
  {
   "cell_type": "code",
   "execution_count": 98,
   "id": "3cb49925-ea45-4b36-ba56-d9a0c2dd844c",
   "metadata": {
    "execution": {
     "iopub.execute_input": "2023-05-04T14:33:45.523603Z",
     "iopub.status.busy": "2023-05-04T14:33:45.523603Z",
     "iopub.status.idle": "2023-05-04T14:33:45.617323Z",
     "shell.execute_reply": "2023-05-04T14:33:45.616231Z",
     "shell.execute_reply.started": "2023-05-04T14:33:45.523603Z"
    }
   },
   "outputs": [
    {
     "data": {
      "text/plain": [
       "0.21214285714285713"
      ]
     },
     "execution_count": 98,
     "metadata": {},
     "output_type": "execute_result"
    }
   ],
   "source": [
    "cross_val_score(lr, X,y, cv=5,scoring=\"precision\").mean()"
   ]
  },
  {
   "cell_type": "code",
   "execution_count": 1,
   "id": "025c82cd-47f3-4717-b92e-0afabaa73403",
   "metadata": {
    "ExecuteTime": {
     "end_time": "2023-05-07T14:55:11.374324Z",
     "start_time": "2023-05-07T14:55:11.366422Z"
    }
   },
   "outputs": [
    {
     "data": {
      "text/plain": [
       "0.6213592233009708"
      ]
     },
     "execution_count": 1,
     "metadata": {},
     "output_type": "execute_result"
    }
   ],
   "source": [
    "64/103"
   ]
  },
  {
   "cell_type": "code",
   "execution_count": 91,
   "id": "bf98bef2-8c6f-42a6-be20-fada6435cd0c",
   "metadata": {
    "execution": {
     "iopub.execute_input": "2023-05-04T14:32:16.953827Z",
     "iopub.status.busy": "2023-05-04T14:32:16.953827Z",
     "iopub.status.idle": "2023-05-04T14:32:16.968893Z",
     "shell.execute_reply": "2023-05-04T14:32:16.968893Z",
     "shell.execute_reply.started": "2023-05-04T14:32:16.953827Z"
    },
    "tags": []
   },
   "outputs": [
    {
     "data": {
      "text/plain": [
       "0.3786407766990291"
      ]
     },
     "execution_count": 91,
     "metadata": {},
     "output_type": "execute_result"
    }
   ],
   "source": [
    "39/103"
   ]
  },
  {
   "cell_type": "code",
   "execution_count": 102,
   "id": "c6146ea0-a305-4a3e-8636-f763ecf32c8d",
   "metadata": {
    "execution": {
     "iopub.execute_input": "2023-05-04T14:39:59.039741Z",
     "iopub.status.busy": "2023-05-04T14:39:59.039741Z",
     "iopub.status.idle": "2023-05-04T14:39:59.053270Z",
     "shell.execute_reply": "2023-05-04T14:39:59.052304Z",
     "shell.execute_reply.started": "2023-05-04T14:39:59.039741Z"
    },
    "tags": []
   },
   "outputs": [],
   "source": [
    "X = minor[columns2]\n",
    "y = minor[\"재계약\"]"
   ]
  },
  {
   "cell_type": "code",
   "execution_count": 104,
   "id": "080a3121-dba5-45ce-aa6f-91acf3694a50",
   "metadata": {
    "execution": {
     "iopub.execute_input": "2023-05-04T14:40:32.151535Z",
     "iopub.status.busy": "2023-05-04T14:40:32.151535Z",
     "iopub.status.idle": "2023-05-04T14:40:41.087892Z",
     "shell.execute_reply": "2023-05-04T14:40:41.087892Z",
     "shell.execute_reply.started": "2023-05-04T14:40:32.151535Z"
    },
    "tags": []
   },
   "outputs": [
    {
     "data": {
      "text/plain": [
       "0.5461904761904762"
      ]
     },
     "execution_count": 104,
     "metadata": {},
     "output_type": "execute_result"
    }
   ],
   "source": [
    "cross_val_score(cat, X, y, cv = 5).mean()"
   ]
  },
  {
   "cell_type": "code",
   "execution_count": 56,
   "id": "b0477153-5326-4b40-9d46-613563872199",
   "metadata": {
    "execution": {
     "iopub.execute_input": "2023-05-04T14:06:06.690465Z",
     "iopub.status.busy": "2023-05-04T14:06:06.690465Z",
     "iopub.status.idle": "2023-05-04T14:06:06.722753Z",
     "shell.execute_reply": "2023-05-04T14:06:06.722753Z",
     "shell.execute_reply.started": "2023-05-04T14:06:06.690465Z"
    },
    "tags": []
   },
   "outputs": [
    {
     "data": {
      "text/html": [
       "<div>\n",
       "<style scoped>\n",
       "    .dataframe tbody tr th:only-of-type {\n",
       "        vertical-align: middle;\n",
       "    }\n",
       "\n",
       "    .dataframe tbody tr th {\n",
       "        vertical-align: top;\n",
       "    }\n",
       "\n",
       "    .dataframe thead th {\n",
       "        text-align: right;\n",
       "    }\n",
       "</style>\n",
       "<table border=\"1\" class=\"dataframe\">\n",
       "  <thead>\n",
       "    <tr style=\"text-align: right;\">\n",
       "      <th></th>\n",
       "      <th>Name</th>\n",
       "      <th>Season</th>\n",
       "      <th>Team</th>\n",
       "      <th>Level</th>\n",
       "      <th>Age</th>\n",
       "      <th>W</th>\n",
       "      <th>L</th>\n",
       "      <th>SV</th>\n",
       "      <th>G</th>\n",
       "      <th>GS</th>\n",
       "      <th>...</th>\n",
       "      <th>WHIP</th>\n",
       "      <th>GB/FB</th>\n",
       "      <th>LD%</th>\n",
       "      <th>FB%</th>\n",
       "      <th>IFFB%</th>\n",
       "      <th>Pull%</th>\n",
       "      <th>Cent%</th>\n",
       "      <th>Oppo%</th>\n",
       "      <th>KBO_FIP</th>\n",
       "      <th>재계약</th>\n",
       "    </tr>\n",
       "  </thead>\n",
       "  <tbody>\n",
       "    <tr>\n",
       "      <th>0</th>\n",
       "      <td>페르난도</td>\n",
       "      <td>2010</td>\n",
       "      <td>NYM</td>\n",
       "      <td>AAA</td>\n",
       "      <td>27</td>\n",
       "      <td>2</td>\n",
       "      <td>1</td>\n",
       "      <td>0</td>\n",
       "      <td>8</td>\n",
       "      <td>8</td>\n",
       "      <td>...</td>\n",
       "      <td>1.55</td>\n",
       "      <td>1.30</td>\n",
       "      <td>0.298</td>\n",
       "      <td>0.305</td>\n",
       "      <td>0.375</td>\n",
       "      <td>0.477</td>\n",
       "      <td>0.220</td>\n",
       "      <td>0.303</td>\n",
       "      <td>4.17</td>\n",
       "      <td>0</td>\n",
       "    </tr>\n",
       "    <tr>\n",
       "      <th>1</th>\n",
       "      <td>앤서니</td>\n",
       "      <td>2010</td>\n",
       "      <td>KCR</td>\n",
       "      <td>AAA</td>\n",
       "      <td>27</td>\n",
       "      <td>9</td>\n",
       "      <td>4</td>\n",
       "      <td>0</td>\n",
       "      <td>22</td>\n",
       "      <td>19</td>\n",
       "      <td>...</td>\n",
       "      <td>1.33</td>\n",
       "      <td>1.48</td>\n",
       "      <td>0.170</td>\n",
       "      <td>0.334</td>\n",
       "      <td>0.131</td>\n",
       "      <td>0.439</td>\n",
       "      <td>0.218</td>\n",
       "      <td>0.342</td>\n",
       "      <td>4.40</td>\n",
       "      <td>1</td>\n",
       "    </tr>\n",
       "  </tbody>\n",
       "</table>\n",
       "<p>2 rows × 36 columns</p>\n",
       "</div>"
      ],
      "text/plain": [
       "   Name  Season Team Level  Age  W  L  SV   G  GS  ...  WHIP  GB/FB    LD%  \\\n",
       "0  페르난도    2010  NYM   AAA   27  2  1   0   8   8  ...  1.55   1.30  0.298   \n",
       "1   앤서니    2010  KCR   AAA   27  9  4   0  22  19  ...  1.33   1.48  0.170   \n",
       "\n",
       "     FB%  IFFB%  Pull%  Cent%  Oppo%  KBO_FIP  재계약  \n",
       "0  0.305  0.375  0.477  0.220  0.303     4.17    0  \n",
       "1  0.334  0.131  0.439  0.218  0.342     4.40    1  \n",
       "\n",
       "[2 rows x 36 columns]"
      ]
     },
     "execution_count": 56,
     "metadata": {},
     "output_type": "execute_result"
    }
   ],
   "source": [
    "minor.head(2)"
   ]
  },
  {
   "cell_type": "code",
   "execution_count": 57,
   "id": "2e24b9ea-d33c-4557-861d-9cbcc551f171",
   "metadata": {
    "execution": {
     "iopub.execute_input": "2023-05-04T14:06:16.057412Z",
     "iopub.status.busy": "2023-05-04T14:06:16.057412Z",
     "iopub.status.idle": "2023-05-04T14:06:16.087361Z",
     "shell.execute_reply": "2023-05-04T14:06:16.087361Z",
     "shell.execute_reply.started": "2023-05-04T14:06:16.057412Z"
    },
    "tags": []
   },
   "outputs": [
    {
     "data": {
      "text/html": [
       "<div>\n",
       "<style scoped>\n",
       "    .dataframe tbody tr th:only-of-type {\n",
       "        vertical-align: middle;\n",
       "    }\n",
       "\n",
       "    .dataframe tbody tr th {\n",
       "        vertical-align: top;\n",
       "    }\n",
       "\n",
       "    .dataframe thead th {\n",
       "        text-align: right;\n",
       "    }\n",
       "</style>\n",
       "<table border=\"1\" class=\"dataframe\">\n",
       "  <thead>\n",
       "    <tr style=\"text-align: right;\">\n",
       "      <th></th>\n",
       "      <th>Season</th>\n",
       "      <th>W</th>\n",
       "      <th>L</th>\n",
       "      <th>SV</th>\n",
       "      <th>G</th>\n",
       "      <th>GS</th>\n",
       "      <th>IP</th>\n",
       "      <th>K/9</th>\n",
       "      <th>BB/9</th>\n",
       "      <th>HR/9</th>\n",
       "      <th>...</th>\n",
       "      <th>K-BB%</th>\n",
       "      <th>AVG</th>\n",
       "      <th>WHIP</th>\n",
       "      <th>GB/FB</th>\n",
       "      <th>LD%</th>\n",
       "      <th>FB%</th>\n",
       "      <th>IFFB%</th>\n",
       "      <th>Pull%</th>\n",
       "      <th>Cent%</th>\n",
       "      <th>Oppo%</th>\n",
       "    </tr>\n",
       "  </thead>\n",
       "  <tbody>\n",
       "    <tr>\n",
       "      <th>0</th>\n",
       "      <td>2010</td>\n",
       "      <td>2</td>\n",
       "      <td>1</td>\n",
       "      <td>0</td>\n",
       "      <td>8</td>\n",
       "      <td>8</td>\n",
       "      <td>40.0</td>\n",
       "      <td>6.98</td>\n",
       "      <td>2.93</td>\n",
       "      <td>0.68</td>\n",
       "      <td>...</td>\n",
       "      <td>0.102</td>\n",
       "      <td>0.301</td>\n",
       "      <td>1.55</td>\n",
       "      <td>1.30</td>\n",
       "      <td>0.298</td>\n",
       "      <td>0.305</td>\n",
       "      <td>0.375</td>\n",
       "      <td>0.477</td>\n",
       "      <td>0.220</td>\n",
       "      <td>0.303</td>\n",
       "    </tr>\n",
       "    <tr>\n",
       "      <th>1</th>\n",
       "      <td>2010</td>\n",
       "      <td>9</td>\n",
       "      <td>4</td>\n",
       "      <td>0</td>\n",
       "      <td>22</td>\n",
       "      <td>19</td>\n",
       "      <td>123.2</td>\n",
       "      <td>5.39</td>\n",
       "      <td>3.20</td>\n",
       "      <td>0.29</td>\n",
       "      <td>...</td>\n",
       "      <td>0.057</td>\n",
       "      <td>0.254</td>\n",
       "      <td>1.33</td>\n",
       "      <td>1.48</td>\n",
       "      <td>0.170</td>\n",
       "      <td>0.334</td>\n",
       "      <td>0.131</td>\n",
       "      <td>0.439</td>\n",
       "      <td>0.218</td>\n",
       "      <td>0.342</td>\n",
       "    </tr>\n",
       "  </tbody>\n",
       "</table>\n",
       "<p>2 rows × 30 columns</p>\n",
       "</div>"
      ],
      "text/plain": [
       "   Season  W  L  SV   G  GS     IP   K/9  BB/9  HR/9  ...  K-BB%    AVG  WHIP  \\\n",
       "0    2010  2  1   0   8   8   40.0  6.98  2.93  0.68  ...  0.102  0.301  1.55   \n",
       "1    2010  9  4   0  22  19  123.2  5.39  3.20  0.29  ...  0.057  0.254  1.33   \n",
       "\n",
       "   GB/FB    LD%    FB%  IFFB%  Pull%  Cent%  Oppo%  \n",
       "0   1.30  0.298  0.305  0.375  0.477  0.220  0.303  \n",
       "1   1.48  0.170  0.334  0.131  0.439  0.218  0.342  \n",
       "\n",
       "[2 rows x 30 columns]"
      ]
     },
     "execution_count": 57,
     "metadata": {},
     "output_type": "execute_result"
    }
   ],
   "source": [
    "minor[columns].head(2)"
   ]
  },
  {
   "cell_type": "code",
   "execution_count": 105,
   "id": "53a2522f-83ff-45e4-83e7-d095d1d2961d",
   "metadata": {
    "execution": {
     "iopub.execute_input": "2023-05-04T16:37:44.046919Z",
     "iopub.status.busy": "2023-05-04T16:37:44.046919Z",
     "iopub.status.idle": "2023-05-04T16:37:44.131294Z",
     "shell.execute_reply": "2023-05-04T16:37:44.130689Z",
     "shell.execute_reply.started": "2023-05-04T16:37:44.046919Z"
    }
   },
   "outputs": [
    {
     "data": {
      "text/html": [
       "<div>\n",
       "<style scoped>\n",
       "    .dataframe tbody tr th:only-of-type {\n",
       "        vertical-align: middle;\n",
       "    }\n",
       "\n",
       "    .dataframe tbody tr th {\n",
       "        vertical-align: top;\n",
       "    }\n",
       "\n",
       "    .dataframe thead th {\n",
       "        text-align: right;\n",
       "    }\n",
       "</style>\n",
       "<table border=\"1\" class=\"dataframe\">\n",
       "  <thead>\n",
       "    <tr style=\"text-align: right;\">\n",
       "      <th></th>\n",
       "      <th>연도</th>\n",
       "      <th>선수명</th>\n",
       "      <th>팀명</th>\n",
       "      <th>MLB시즌</th>\n",
       "      <th>재계약</th>\n",
       "      <th>Age</th>\n",
       "      <th>Pitches</th>\n",
       "      <th>Balls</th>\n",
       "      <th>Barrels</th>\n",
       "      <th>Barrel%</th>\n",
       "      <th>...</th>\n",
       "      <th>XBA</th>\n",
       "      <th>XSLG</th>\n",
       "      <th>WOBA</th>\n",
       "      <th>XWOBA</th>\n",
       "      <th>XWOBACON</th>\n",
       "      <th>HardHit%</th>\n",
       "      <th>K%</th>\n",
       "      <th>BB%</th>\n",
       "      <th>ERA</th>\n",
       "      <th>xERA</th>\n",
       "    </tr>\n",
       "  </thead>\n",
       "  <tbody>\n",
       "    <tr>\n",
       "      <th>0</th>\n",
       "      <td>18</td>\n",
       "      <td>후랭코프</td>\n",
       "      <td>두산</td>\n",
       "      <td>17</td>\n",
       "      <td>1</td>\n",
       "      <td>28</td>\n",
       "      <td>37</td>\n",
       "      <td>7</td>\n",
       "      <td>1</td>\n",
       "      <td>14.3</td>\n",
       "      <td>...</td>\n",
       "      <td>0.219</td>\n",
       "      <td>0.448</td>\n",
       "      <td>0.512</td>\n",
       "      <td>0.271</td>\n",
       "      <td>0.349</td>\n",
       "      <td>28.6</td>\n",
       "      <td>22.2</td>\n",
       "      <td>0.0</td>\n",
       "      <td>9.00</td>\n",
       "      <td>3.10</td>\n",
       "    </tr>\n",
       "    <tr>\n",
       "      <th>1</th>\n",
       "      <td>20</td>\n",
       "      <td>플렉센</td>\n",
       "      <td>두산</td>\n",
       "      <td>19</td>\n",
       "      <td>1</td>\n",
       "      <td>24</td>\n",
       "      <td>274</td>\n",
       "      <td>47</td>\n",
       "      <td>3</td>\n",
       "      <td>6.4</td>\n",
       "      <td>...</td>\n",
       "      <td>0.249</td>\n",
       "      <td>0.404</td>\n",
       "      <td>0.350</td>\n",
       "      <td>0.349</td>\n",
       "      <td>0.343</td>\n",
       "      <td>48.9</td>\n",
       "      <td>14.3</td>\n",
       "      <td>18.6</td>\n",
       "      <td>6.58</td>\n",
       "      <td>5.51</td>\n",
       "    </tr>\n",
       "    <tr>\n",
       "      <th>2</th>\n",
       "      <td>21</td>\n",
       "      <td>미란다</td>\n",
       "      <td>두산</td>\n",
       "      <td>18</td>\n",
       "      <td>1</td>\n",
       "      <td>29</td>\n",
       "      <td>92</td>\n",
       "      <td>15</td>\n",
       "      <td>0</td>\n",
       "      <td>0.0</td>\n",
       "      <td>...</td>\n",
       "      <td>0.284</td>\n",
       "      <td>0.355</td>\n",
       "      <td>0.350</td>\n",
       "      <td>0.351</td>\n",
       "      <td>0.377</td>\n",
       "      <td>20.0</td>\n",
       "      <td>20.8</td>\n",
       "      <td>16.7</td>\n",
       "      <td>1.80</td>\n",
       "      <td>5.37</td>\n",
       "    </tr>\n",
       "    <tr>\n",
       "      <th>3</th>\n",
       "      <td>21</td>\n",
       "      <td>로켓</td>\n",
       "      <td>두산</td>\n",
       "      <td>20</td>\n",
       "      <td>0</td>\n",
       "      <td>26</td>\n",
       "      <td>230</td>\n",
       "      <td>56</td>\n",
       "      <td>2</td>\n",
       "      <td>3.6</td>\n",
       "      <td>...</td>\n",
       "      <td>0.297</td>\n",
       "      <td>0.424</td>\n",
       "      <td>0.362</td>\n",
       "      <td>0.344</td>\n",
       "      <td>0.373</td>\n",
       "      <td>28.6</td>\n",
       "      <td>15.1</td>\n",
       "      <td>5.5</td>\n",
       "      <td>4.96</td>\n",
       "      <td>5.13</td>\n",
       "    </tr>\n",
       "    <tr>\n",
       "      <th>4</th>\n",
       "      <td>18</td>\n",
       "      <td>듀브론트</td>\n",
       "      <td>롯데</td>\n",
       "      <td>15</td>\n",
       "      <td>0</td>\n",
       "      <td>27</td>\n",
       "      <td>1268</td>\n",
       "      <td>245</td>\n",
       "      <td>16</td>\n",
       "      <td>6.5</td>\n",
       "      <td>...</td>\n",
       "      <td>0.273</td>\n",
       "      <td>0.438</td>\n",
       "      <td>0.351</td>\n",
       "      <td>0.338</td>\n",
       "      <td>0.380</td>\n",
       "      <td>33.5</td>\n",
       "      <td>17.1</td>\n",
       "      <td>7.9</td>\n",
       "      <td>5.50</td>\n",
       "      <td>4.80</td>\n",
       "    </tr>\n",
       "  </tbody>\n",
       "</table>\n",
       "<p>5 rows × 25 columns</p>\n",
       "</div>"
      ],
      "text/plain": [
       "   연도   선수명  팀명  MLB시즌  재계약  Age  Pitches  Balls  Barrels  Barrel%  ...  \\\n",
       "0  18  후랭코프  두산     17    1   28       37      7        1     14.3  ...   \n",
       "1  20   플렉센  두산     19    1   24      274     47        3      6.4  ...   \n",
       "2  21   미란다  두산     18    1   29       92     15        0      0.0  ...   \n",
       "3  21    로켓  두산     20    0   26      230     56        2      3.6  ...   \n",
       "4  18  듀브론트  롯데     15    0   27     1268    245       16      6.5  ...   \n",
       "\n",
       "     XBA   XSLG   WOBA  XWOBA  XWOBACON  HardHit%    K%   BB%   ERA  xERA  \n",
       "0  0.219  0.448  0.512  0.271     0.349      28.6  22.2   0.0  9.00  3.10  \n",
       "1  0.249  0.404  0.350  0.349     0.343      48.9  14.3  18.6  6.58  5.51  \n",
       "2  0.284  0.355  0.350  0.351     0.377      20.0  20.8  16.7  1.80  5.37  \n",
       "3  0.297  0.424  0.362  0.344     0.373      28.6  15.1   5.5  4.96  5.13  \n",
       "4  0.273  0.438  0.351  0.338     0.380      33.5  17.1   7.9  5.50  4.80  \n",
       "\n",
       "[5 rows x 25 columns]"
      ]
     },
     "execution_count": 105,
     "metadata": {},
     "output_type": "execute_result"
    }
   ],
   "source": [
    "major = pd.read_csv(\"./메이저트래킹.csv\")\n",
    "major.head()"
   ]
  },
  {
   "cell_type": "code",
   "execution_count": 106,
   "id": "5cb377da-a042-46e4-a62c-699f0ccf8074",
   "metadata": {
    "execution": {
     "iopub.execute_input": "2023-05-04T16:38:15.159789Z",
     "iopub.status.busy": "2023-05-04T16:38:15.159789Z",
     "iopub.status.idle": "2023-05-04T16:38:15.183550Z",
     "shell.execute_reply": "2023-05-04T16:38:15.183550Z",
     "shell.execute_reply.started": "2023-05-04T16:38:15.159789Z"
    }
   },
   "outputs": [],
   "source": [
    "X = major.drop(columns = [\"연도\",\"선수명\",\"팀명\",\"MLB시즌\",\"재계약\"])\n",
    "y = major[\"재계약\"]"
   ]
  },
  {
   "cell_type": "code",
   "execution_count": 132,
   "id": "62f0602b-9adc-4f6e-9b0e-a9a56e8487ec",
   "metadata": {
    "execution": {
     "iopub.execute_input": "2023-05-04T16:55:57.222983Z",
     "iopub.status.busy": "2023-05-04T16:55:57.222023Z",
     "iopub.status.idle": "2023-05-04T16:55:57.235781Z",
     "shell.execute_reply": "2023-05-04T16:55:57.234784Z",
     "shell.execute_reply.started": "2023-05-04T16:55:57.222023Z"
    },
    "tags": []
   },
   "outputs": [
    {
     "data": {
      "text/plain": [
       "0    42\n",
       "1    24\n",
       "Name: 재계약, dtype: int64"
      ]
     },
     "execution_count": 132,
     "metadata": {},
     "output_type": "execute_result"
    }
   ],
   "source": [
    "y.value_counts()"
   ]
  },
  {
   "cell_type": "code",
   "execution_count": 133,
   "id": "25b8e884-efd3-48da-aeb3-4f9e7ea859c9",
   "metadata": {
    "execution": {
     "iopub.execute_input": "2023-05-04T16:56:02.233466Z",
     "iopub.status.busy": "2023-05-04T16:56:02.232468Z",
     "iopub.status.idle": "2023-05-04T16:56:02.252731Z",
     "shell.execute_reply": "2023-05-04T16:56:02.251734Z",
     "shell.execute_reply.started": "2023-05-04T16:56:02.233466Z"
    },
    "tags": []
   },
   "outputs": [
    {
     "data": {
      "text/plain": [
       "0.36363636363636365"
      ]
     },
     "execution_count": 133,
     "metadata": {},
     "output_type": "execute_result"
    }
   ],
   "source": [
    "24/66"
   ]
  },
  {
   "cell_type": "code",
   "execution_count": 134,
   "id": "256537f9-3e79-49a5-b418-7ff6db4a7694",
   "metadata": {
    "execution": {
     "iopub.execute_input": "2023-05-04T16:56:13.753364Z",
     "iopub.status.busy": "2023-05-04T16:56:13.753364Z",
     "iopub.status.idle": "2023-05-04T16:56:13.764740Z",
     "shell.execute_reply": "2023-05-04T16:56:13.763728Z",
     "shell.execute_reply.started": "2023-05-04T16:56:13.753364Z"
    },
    "tags": []
   },
   "outputs": [
    {
     "data": {
      "text/plain": [
       "0.6363636363636364"
      ]
     },
     "execution_count": 134,
     "metadata": {},
     "output_type": "execute_result"
    }
   ],
   "source": [
    "42/66"
   ]
  },
  {
   "cell_type": "code",
   "execution_count": 149,
   "id": "db4184be-369e-43a4-9d44-f2349490b2aa",
   "metadata": {
    "execution": {
     "iopub.execute_input": "2023-05-04T16:58:07.317146Z",
     "iopub.status.busy": "2023-05-04T16:58:07.317146Z",
     "iopub.status.idle": "2023-05-04T16:58:07.419256Z",
     "shell.execute_reply": "2023-05-04T16:58:07.418753Z",
     "shell.execute_reply.started": "2023-05-04T16:58:07.317146Z"
    },
    "tags": []
   },
   "outputs": [
    {
     "data": {
      "text/plain": [
       "0.4714285714285714"
      ]
     },
     "execution_count": 149,
     "metadata": {},
     "output_type": "execute_result"
    }
   ],
   "source": [
    "cross_val_score(lr, X,y, cv=5).mean()"
   ]
  },
  {
   "cell_type": "code",
   "execution_count": 108,
   "id": "8ab897d7-e364-4c9c-856d-91a14c5453c6",
   "metadata": {
    "execution": {
     "iopub.execute_input": "2023-05-04T16:38:41.052967Z",
     "iopub.status.busy": "2023-05-04T16:38:41.052967Z",
     "iopub.status.idle": "2023-05-04T16:38:41.299736Z",
     "shell.execute_reply": "2023-05-04T16:38:41.299736Z",
     "shell.execute_reply.started": "2023-05-04T16:38:41.052967Z"
    }
   },
   "outputs": [
    {
     "data": {
      "text/plain": [
       "0.45604395604395603"
      ]
     },
     "execution_count": 108,
     "metadata": {},
     "output_type": "execute_result"
    }
   ],
   "source": [
    "cross_val_score(xgb, X,y, cv=5).mean()"
   ]
  },
  {
   "cell_type": "code",
   "execution_count": 109,
   "id": "3c2fbe3b-7c2c-4fc5-ac34-98c5d78302a3",
   "metadata": {
    "execution": {
     "iopub.execute_input": "2023-05-04T16:38:47.851018Z",
     "iopub.status.busy": "2023-05-04T16:38:47.851018Z",
     "iopub.status.idle": "2023-05-04T16:38:47.960767Z",
     "shell.execute_reply": "2023-05-04T16:38:47.959710Z",
     "shell.execute_reply.started": "2023-05-04T16:38:47.851018Z"
    }
   },
   "outputs": [
    {
     "data": {
      "text/plain": [
       "0.5593406593406594"
      ]
     },
     "execution_count": 109,
     "metadata": {},
     "output_type": "execute_result"
    }
   ],
   "source": [
    "cross_val_score(lgbm, X,y, cv=5).mean()"
   ]
  },
  {
   "cell_type": "code",
   "execution_count": 112,
   "id": "593705ab-4369-4bb6-a794-e66be64e7392",
   "metadata": {
    "execution": {
     "iopub.execute_input": "2023-05-04T16:39:13.735823Z",
     "iopub.status.busy": "2023-05-04T16:39:13.735823Z",
     "iopub.status.idle": "2023-05-04T16:39:13.771837Z",
     "shell.execute_reply": "2023-05-04T16:39:13.770842Z",
     "shell.execute_reply.started": "2023-05-04T16:39:13.735823Z"
    },
    "tags": []
   },
   "outputs": [
    {
     "data": {
      "text/plain": [
       "0.6362637362637363"
      ]
     },
     "execution_count": 112,
     "metadata": {},
     "output_type": "execute_result"
    }
   ],
   "source": [
    "cross_val_score(svc, X,y, cv=5).mean()"
   ]
  },
  {
   "cell_type": "code",
   "execution_count": 113,
   "id": "c0310c5b-6f67-4d13-96ed-c5ef4998fa48",
   "metadata": {
    "execution": {
     "iopub.execute_input": "2023-05-04T16:39:20.769682Z",
     "iopub.status.busy": "2023-05-04T16:39:20.769682Z",
     "iopub.status.idle": "2023-05-04T16:39:27.500497Z",
     "shell.execute_reply": "2023-05-04T16:39:27.500497Z",
     "shell.execute_reply.started": "2023-05-04T16:39:20.769682Z"
    }
   },
   "outputs": [
    {
     "data": {
      "text/plain": [
       "0.48571428571428565"
      ]
     },
     "execution_count": 113,
     "metadata": {},
     "output_type": "execute_result"
    }
   ],
   "source": [
    "cross_val_score(cat, X,y, cv=5).mean()"
   ]
  },
  {
   "cell_type": "code",
   "execution_count": 114,
   "id": "1e1e0dea-ac62-4cb7-a6f6-d76c99ca46a0",
   "metadata": {
    "execution": {
     "iopub.execute_input": "2023-05-04T16:39:31.782833Z",
     "iopub.status.busy": "2023-05-04T16:39:31.782833Z",
     "iopub.status.idle": "2023-05-04T16:39:32.696922Z",
     "shell.execute_reply": "2023-05-04T16:39:32.695977Z",
     "shell.execute_reply.started": "2023-05-04T16:39:31.782833Z"
    }
   },
   "outputs": [
    {
     "data": {
      "text/plain": [
       "0.5604395604395604"
      ]
     },
     "execution_count": 114,
     "metadata": {},
     "output_type": "execute_result"
    }
   ],
   "source": [
    "cross_val_score(rf, X,y, cv=5).mean()"
   ]
  },
  {
   "cell_type": "code",
   "execution_count": 116,
   "id": "d3c79f11-e2d1-4773-a03e-6349a600d653",
   "metadata": {
    "execution": {
     "iopub.execute_input": "2023-05-04T16:40:02.692886Z",
     "iopub.status.busy": "2023-05-04T16:40:02.692886Z",
     "iopub.status.idle": "2023-05-04T16:40:02.793630Z",
     "shell.execute_reply": "2023-05-04T16:40:02.793128Z",
     "shell.execute_reply.started": "2023-05-04T16:40:02.692886Z"
    },
    "tags": []
   },
   "outputs": [
    {
     "data": {
      "text/plain": [
       "0.38722222222222225"
      ]
     },
     "execution_count": 116,
     "metadata": {},
     "output_type": "execute_result"
    }
   ],
   "source": [
    "cross_val_score(lr, X,y, cv=5, scoring=\"roc_auc\").mean()"
   ]
  },
  {
   "cell_type": "code",
   "execution_count": 117,
   "id": "285fa030-160c-42a3-bfed-a13230890756",
   "metadata": {
    "execution": {
     "iopub.execute_input": "2023-05-04T16:40:17.314373Z",
     "iopub.status.busy": "2023-05-04T16:40:17.314373Z",
     "iopub.status.idle": "2023-05-04T16:40:17.535728Z",
     "shell.execute_reply": "2023-05-04T16:40:17.534387Z",
     "shell.execute_reply.started": "2023-05-04T16:40:17.314373Z"
    }
   },
   "outputs": [
    {
     "data": {
      "text/plain": [
       "0.425"
      ]
     },
     "execution_count": 117,
     "metadata": {},
     "output_type": "execute_result"
    }
   ],
   "source": [
    "cross_val_score(xgb, X,y, cv=5, scoring=\"roc_auc\").mean()"
   ]
  },
  {
   "cell_type": "code",
   "execution_count": 118,
   "id": "eb008b9c-7efd-4283-98a1-b60d59a0c570",
   "metadata": {
    "execution": {
     "iopub.execute_input": "2023-05-04T16:40:24.355505Z",
     "iopub.status.busy": "2023-05-04T16:40:24.354113Z",
     "iopub.status.idle": "2023-05-04T16:40:24.446400Z",
     "shell.execute_reply": "2023-05-04T16:40:24.445403Z",
     "shell.execute_reply.started": "2023-05-04T16:40:24.355505Z"
    }
   },
   "outputs": [
    {
     "data": {
      "text/plain": [
       "0.42666666666666675"
      ]
     },
     "execution_count": 118,
     "metadata": {},
     "output_type": "execute_result"
    }
   ],
   "source": [
    "cross_val_score(lgbm, X,y, cv=5, scoring=\"roc_auc\").mean()"
   ]
  },
  {
   "cell_type": "code",
   "execution_count": 119,
   "id": "48ec88a3-a868-4db5-a27b-2ea98ced530a",
   "metadata": {
    "execution": {
     "iopub.execute_input": "2023-05-04T16:40:29.442492Z",
     "iopub.status.busy": "2023-05-04T16:40:29.442492Z",
     "iopub.status.idle": "2023-05-04T16:40:29.484157Z",
     "shell.execute_reply": "2023-05-04T16:40:29.483157Z",
     "shell.execute_reply.started": "2023-05-04T16:40:29.442492Z"
    }
   },
   "outputs": [
    {
     "data": {
      "text/plain": [
       "0.4072222222222222"
      ]
     },
     "execution_count": 119,
     "metadata": {},
     "output_type": "execute_result"
    }
   ],
   "source": [
    "cross_val_score(svc, X,y, cv=5, scoring=\"roc_auc\").mean()"
   ]
  },
  {
   "cell_type": "code",
   "execution_count": 120,
   "id": "2381af7f-388d-43f0-b299-2c1a0a639fa8",
   "metadata": {
    "execution": {
     "iopub.execute_input": "2023-05-04T16:40:35.204306Z",
     "iopub.status.busy": "2023-05-04T16:40:35.203234Z",
     "iopub.status.idle": "2023-05-04T16:40:42.175070Z",
     "shell.execute_reply": "2023-05-04T16:40:42.175070Z",
     "shell.execute_reply.started": "2023-05-04T16:40:35.204306Z"
    }
   },
   "outputs": [
    {
     "data": {
      "text/plain": [
       "0.5033333333333333"
      ]
     },
     "execution_count": 120,
     "metadata": {},
     "output_type": "execute_result"
    }
   ],
   "source": [
    "cross_val_score(cat, X,y, cv=5, scoring=\"roc_auc\").mean()"
   ]
  },
  {
   "cell_type": "code",
   "execution_count": 121,
   "id": "117a436e-acaf-4921-b9e4-84dc0a53ced8",
   "metadata": {
    "execution": {
     "iopub.execute_input": "2023-05-04T16:40:47.570959Z",
     "iopub.status.busy": "2023-05-04T16:40:47.570959Z",
     "iopub.status.idle": "2023-05-04T16:40:48.388665Z",
     "shell.execute_reply": "2023-05-04T16:40:48.388665Z",
     "shell.execute_reply.started": "2023-05-04T16:40:47.570959Z"
    }
   },
   "outputs": [
    {
     "data": {
      "text/plain": [
       "0.5002777777777778"
      ]
     },
     "execution_count": 121,
     "metadata": {},
     "output_type": "execute_result"
    }
   ],
   "source": [
    "cross_val_score(rf, X,y, cv=5, scoring=\"roc_auc\").mean()"
   ]
  },
  {
   "cell_type": "code",
   "execution_count": 122,
   "id": "bba08f40-fcdf-4d0b-b6d9-15c8e9c5c9c8",
   "metadata": {
    "execution": {
     "iopub.execute_input": "2023-05-04T16:53:05.758479Z",
     "iopub.status.busy": "2023-05-04T16:53:05.758479Z",
     "iopub.status.idle": "2023-05-04T16:53:05.852068Z",
     "shell.execute_reply": "2023-05-04T16:53:05.852068Z",
     "shell.execute_reply.started": "2023-05-04T16:53:05.758479Z"
    },
    "tags": []
   },
   "outputs": [
    {
     "data": {
      "text/plain": [
       "0.2966666666666667"
      ]
     },
     "execution_count": 122,
     "metadata": {},
     "output_type": "execute_result"
    }
   ],
   "source": [
    "cross_val_score(lr, X,y, cv=5, scoring=\"precision\").mean()"
   ]
  },
  {
   "cell_type": "code",
   "execution_count": 123,
   "id": "a45d1f17-ec7c-4200-aefb-71989dad2d41",
   "metadata": {
    "execution": {
     "iopub.execute_input": "2023-05-04T16:53:18.068789Z",
     "iopub.status.busy": "2023-05-04T16:53:18.067650Z",
     "iopub.status.idle": "2023-05-04T16:53:18.272631Z",
     "shell.execute_reply": "2023-05-04T16:53:18.272631Z",
     "shell.execute_reply.started": "2023-05-04T16:53:18.068789Z"
    }
   },
   "outputs": [
    {
     "data": {
      "text/plain": [
       "0.16666666666666666"
      ]
     },
     "execution_count": 123,
     "metadata": {},
     "output_type": "execute_result"
    }
   ],
   "source": [
    "cross_val_score(xgb, X,y, cv=5, scoring=\"precision\").mean()"
   ]
  },
  {
   "cell_type": "code",
   "execution_count": 210,
   "id": "4b0daf3e-d99c-46bf-8c53-b9355a929852",
   "metadata": {
    "execution": {
     "iopub.execute_input": "2023-05-04T16:59:27.389195Z",
     "iopub.status.busy": "2023-05-04T16:59:27.389195Z",
     "iopub.status.idle": "2023-05-04T16:59:27.485844Z",
     "shell.execute_reply": "2023-05-04T16:59:27.485844Z",
     "shell.execute_reply.started": "2023-05-04T16:59:27.389195Z"
    },
    "tags": []
   },
   "outputs": [
    {
     "data": {
      "text/plain": [
       "0.30666666666666664"
      ]
     },
     "execution_count": 210,
     "metadata": {},
     "output_type": "execute_result"
    }
   ],
   "source": [
    "cross_val_score(lgbm, X,y, cv=5, scoring=\"precision\").mean()"
   ]
  },
  {
   "cell_type": "code",
   "execution_count": 125,
   "id": "8b209382-5b58-4d89-815f-48186aa2b73d",
   "metadata": {
    "execution": {
     "iopub.execute_input": "2023-05-04T16:53:27.878755Z",
     "iopub.status.busy": "2023-05-04T16:53:27.877741Z",
     "iopub.status.idle": "2023-05-04T16:53:27.927238Z",
     "shell.execute_reply": "2023-05-04T16:53:27.925731Z",
     "shell.execute_reply.started": "2023-05-04T16:53:27.878755Z"
    }
   },
   "outputs": [
    {
     "data": {
      "text/plain": [
       "0.0"
      ]
     },
     "execution_count": 125,
     "metadata": {},
     "output_type": "execute_result"
    }
   ],
   "source": [
    "cross_val_score(svc, X,y, cv=5, scoring=\"precision\").mean()"
   ]
  },
  {
   "cell_type": "code",
   "execution_count": 211,
   "id": "d35aacc1-1855-4c10-a591-a42bfa904b14",
   "metadata": {
    "execution": {
     "iopub.execute_input": "2023-05-04T16:59:31.832460Z",
     "iopub.status.busy": "2023-05-04T16:59:31.832460Z",
     "iopub.status.idle": "2023-05-04T16:59:38.860559Z",
     "shell.execute_reply": "2023-05-04T16:59:38.859557Z",
     "shell.execute_reply.started": "2023-05-04T16:59:31.832460Z"
    },
    "tags": []
   },
   "outputs": [
    {
     "data": {
      "text/plain": [
       "0.0"
      ]
     },
     "execution_count": 211,
     "metadata": {},
     "output_type": "execute_result"
    }
   ],
   "source": [
    "cross_val_score(cat, X,y, cv=5, scoring=\"precision\").mean()"
   ]
  },
  {
   "cell_type": "code",
   "execution_count": 194,
   "id": "6280a15b-247a-4cfd-871b-1387205afbf2",
   "metadata": {
    "execution": {
     "iopub.execute_input": "2023-05-04T16:59:13.132569Z",
     "iopub.status.busy": "2023-05-04T16:59:13.131572Z",
     "iopub.status.idle": "2023-05-04T16:59:13.858312Z",
     "shell.execute_reply": "2023-05-04T16:59:13.857586Z",
     "shell.execute_reply.started": "2023-05-04T16:59:13.132569Z"
    },
    "tags": []
   },
   "outputs": [
    {
     "data": {
      "text/plain": [
       "0.13333333333333333"
      ]
     },
     "execution_count": 194,
     "metadata": {},
     "output_type": "execute_result"
    }
   ],
   "source": [
    "cross_val_score(rf, X,y, cv=5, scoring=\"precision\").mean()"
   ]
  },
  {
   "cell_type": "code",
   "execution_count": 129,
   "id": "f4fb7a8f-8bc4-4c4d-89a0-7053ca294760",
   "metadata": {
    "execution": {
     "iopub.execute_input": "2023-05-04T16:55:15.638890Z",
     "iopub.status.busy": "2023-05-04T16:55:15.638890Z",
     "iopub.status.idle": "2023-05-04T16:55:15.668734Z",
     "shell.execute_reply": "2023-05-04T16:55:15.668229Z",
     "shell.execute_reply.started": "2023-05-04T16:55:15.638890Z"
    },
    "tags": []
   },
   "outputs": [
    {
     "name": "stdout",
     "output_type": "stream",
     "text": [
      "<class 'pandas.core.frame.DataFrame'>\n",
      "RangeIndex: 66 entries, 0 to 65\n",
      "Data columns (total 20 columns):\n",
      " #   Column     Non-Null Count  Dtype  \n",
      "---  ------     --------------  -----  \n",
      " 0   Age        66 non-null     int64  \n",
      " 1   Pitches    66 non-null     int64  \n",
      " 2   Balls      66 non-null     int64  \n",
      " 3   Barrels    66 non-null     int64  \n",
      " 4   Barrel%    66 non-null     float64\n",
      " 5   Barrel/PA  66 non-null     float64\n",
      " 6   Velocity   66 non-null     float64\n",
      " 7   Max EV     66 non-null     float64\n",
      " 8   Angle      66 non-null     float64\n",
      " 9   Spot %     66 non-null     float64\n",
      " 10  XBA        66 non-null     float64\n",
      " 11  XSLG       66 non-null     float64\n",
      " 12  WOBA       66 non-null     float64\n",
      " 13  XWOBA      66 non-null     float64\n",
      " 14  XWOBACON   66 non-null     float64\n",
      " 15  HardHit%   66 non-null     float64\n",
      " 16  K%         66 non-null     float64\n",
      " 17  BB%        66 non-null     float64\n",
      " 18  ERA        66 non-null     float64\n",
      " 19  xERA       66 non-null     float64\n",
      "dtypes: float64(16), int64(4)\n",
      "memory usage: 10.4 KB\n"
     ]
    }
   ],
   "source": [
    "X.info()"
   ]
  },
  {
   "cell_type": "code",
   "execution_count": 130,
   "id": "0004bcd4-fb99-49f1-9b07-f41ec34cec7a",
   "metadata": {
    "execution": {
     "iopub.execute_input": "2023-05-04T16:55:26.985222Z",
     "iopub.status.busy": "2023-05-04T16:55:26.985222Z",
     "iopub.status.idle": "2023-05-04T16:55:27.034112Z",
     "shell.execute_reply": "2023-05-04T16:55:27.034112Z",
     "shell.execute_reply.started": "2023-05-04T16:55:26.985222Z"
    },
    "tags": []
   },
   "outputs": [
    {
     "data": {
      "text/plain": [
       "0.31277777777777777"
      ]
     },
     "execution_count": 130,
     "metadata": {},
     "output_type": "execute_result"
    }
   ],
   "source": [
    "from sklearn.naive_bayes import GaussianNB\n",
    "\n",
    "nb = GaussianNB()\n",
    "cross_val_score(nb, X,y, cv=5, scoring=\"precision\").mean()"
   ]
  },
  {
   "cell_type": "markdown",
   "id": "ada0fe5b",
   "metadata": {},
   "source": [
    "#  메이저리그 기록 표준화"
   ]
  },
  {
   "cell_type": "code",
   "execution_count": 64,
   "id": "b30f4340",
   "metadata": {
    "ExecuteTime": {
     "end_time": "2023-05-10T10:15:27.461446Z",
     "start_time": "2023-05-10T10:15:27.403916Z"
    }
   },
   "outputs": [],
   "source": [
    "major = pd.read_csv(\"./MiLB_MLB_투수시즌데이터/MLB시즌별선수기록.csv\")\n",
    "\n",
    "xERA_2015 = pd.read_csv(\"./MiLB_MLB_투수시즌데이터/2015xERA.csv\")\n",
    "xERA_2016 = pd.read_csv(\"./MiLB_MLB_투수시즌데이터/2016xERA.csv\")\n",
    "xERA_2017 = pd.read_csv(\"./MiLB_MLB_투수시즌데이터/2017xERA.csv\")\n",
    "xERA_2018 = pd.read_csv(\"./MiLB_MLB_투수시즌데이터/2018xERA.csv\")\n",
    "xERA_2019 = pd.read_csv(\"./MiLB_MLB_투수시즌데이터/2019xERA.csv\")\n",
    "xERA_2020 = pd.read_csv(\"./MiLB_MLB_투수시즌데이터/2020xERA.csv\")\n",
    "#xERA_2021 = pd.read_csv(\"./MiLB_MLB_투수시즌데이터/2021xERA.csv\")\n",
    "\n",
    "maxev_2015 = pd.read_csv(\"./MiLB_MLB_투수시즌데이터/exit_velocity15.csv\")\n",
    "maxev_2016 = pd.read_csv(\"./MiLB_MLB_투수시즌데이터/exit_velocity16.csv\")\n",
    "maxev_2017 = pd.read_csv(\"./MiLB_MLB_투수시즌데이터/exit_velocity17.csv\")\n",
    "maxev_2018 = pd.read_csv(\"./MiLB_MLB_투수시즌데이터/exit_velocity18.csv\")\n",
    "maxev_2019 = pd.read_csv(\"./MiLB_MLB_투수시즌데이터/exit_velocity19.csv\")\n",
    "maxev_2020 = pd.read_csv(\"./MiLB_MLB_투수시즌데이터/exit_velocity20.csv\")\n",
    "#maxev_2021 = pd.read_csv(\"./MiLB_MLB_투수시즌데이터/exit_velocity21.csv\")\n",
    "#maxev_2022 = pd.read_csv(\"./MiLB_MLB_투수시즌데이터/exit_velocity22.csv\")"
   ]
  },
  {
   "cell_type": "code",
   "execution_count": 65,
   "id": "f8c82a60",
   "metadata": {
    "ExecuteTime": {
     "end_time": "2023-05-10T10:15:27.806609Z",
     "start_time": "2023-05-10T10:15:27.783611Z"
    }
   },
   "outputs": [],
   "source": [
    "major_xERA = pd.concat([xERA_2015,xERA_2016], axis = 0)\n",
    "major_xERA = pd.concat([major_xERA,xERA_2017], axis = 0)\n",
    "major_xERA = pd.concat([major_xERA,xERA_2018], axis = 0)\n",
    "major_xERA = pd.concat([major_xERA,xERA_2019], axis = 0)\n",
    "major_xERA = pd.concat([major_xERA,xERA_2020], axis = 0).reset_index(drop = True)\n",
    "#major_xERA = pd.concat([major_xERA,xERA_2021], axis = 0).reset_index(drop = True)\n",
    "\n",
    "major_maxev = pd.concat([maxev_2015,maxev_2016], axis = 0)\n",
    "major_maxev = pd.concat([major_maxev,maxev_2017], axis = 0)\n",
    "major_maxev = pd.concat([major_maxev,maxev_2018], axis = 0)\n",
    "major_maxev = pd.concat([major_maxev,maxev_2019], axis = 0)\n",
    "major_maxev = pd.concat([major_maxev,maxev_2020], axis = 0).reset_index(drop = True)\n",
    "#major_maxev = pd.concat([major_maxev,maxev_2021], axis = 0).reset_index(drop = True)"
   ]
  },
  {
   "cell_type": "code",
   "execution_count": 66,
   "id": "ba216072",
   "metadata": {
    "ExecuteTime": {
     "end_time": "2023-05-10T10:15:28.307141Z",
     "start_time": "2023-05-10T10:15:28.301141Z"
    }
   },
   "outputs": [],
   "source": [
    "major_xERA2 = major_xERA.copy()\n",
    "major_xERA2 = major_xERA2[[\"player_id\",\"year\",\"xera\"]]\n",
    "\n",
    "major_maxev2 = major_maxev.copy()\n",
    "major_maxev2 = major_maxev2[[\"player_id\",\"year\",\"max_hit_speed\"]]"
   ]
  },
  {
   "cell_type": "code",
   "execution_count": 67,
   "id": "bdd078a6",
   "metadata": {
    "ExecuteTime": {
     "end_time": "2023-05-10T10:15:28.904628Z",
     "start_time": "2023-05-10T10:15:28.871631Z"
    }
   },
   "outputs": [
    {
     "data": {
      "text/html": [
       "<div>\n",
       "<style scoped>\n",
       "    .dataframe tbody tr th:only-of-type {\n",
       "        vertical-align: middle;\n",
       "    }\n",
       "\n",
       "    .dataframe tbody tr th {\n",
       "        vertical-align: top;\n",
       "    }\n",
       "\n",
       "    .dataframe thead th {\n",
       "        text-align: right;\n",
       "    }\n",
       "</style>\n",
       "<table border=\"1\" class=\"dataframe\">\n",
       "  <thead>\n",
       "    <tr style=\"text-align: right;\">\n",
       "      <th></th>\n",
       "      <th>last_name</th>\n",
       "      <th>first_name</th>\n",
       "      <th>player_id</th>\n",
       "      <th>year</th>\n",
       "      <th>player_age</th>\n",
       "      <th>p_total_pa</th>\n",
       "      <th>p_k_percent</th>\n",
       "      <th>p_bb_percent</th>\n",
       "      <th>p_era</th>\n",
       "      <th>p_ball</th>\n",
       "      <th>xba</th>\n",
       "      <th>xslg</th>\n",
       "      <th>woba</th>\n",
       "      <th>xwoba</th>\n",
       "      <th>xwobacon</th>\n",
       "      <th>exit_velocity_avg</th>\n",
       "      <th>launch_angle_avg</th>\n",
       "      <th>sweet_spot_percent</th>\n",
       "      <th>barrel</th>\n",
       "      <th>Barrel/PA</th>\n",
       "      <th>barrel_batted_rate</th>\n",
       "      <th>hard_hit_percent</th>\n",
       "      <th>pitch_count</th>\n",
       "      <th>Unnamed: 23</th>\n",
       "      <th>xera</th>\n",
       "      <th>max_hit_speed</th>\n",
       "    </tr>\n",
       "  </thead>\n",
       "  <tbody>\n",
       "    <tr>\n",
       "      <th>0</th>\n",
       "      <td>Wainwright</td>\n",
       "      <td>Adam</td>\n",
       "      <td>425794</td>\n",
       "      <td>2020</td>\n",
       "      <td>38</td>\n",
       "      <td>262</td>\n",
       "      <td>20.6</td>\n",
       "      <td>5.7</td>\n",
       "      <td>3.15</td>\n",
       "      <td>291</td>\n",
       "      <td>0.265</td>\n",
       "      <td>0.436</td>\n",
       "      <td>0.277</td>\n",
       "      <td>0.324</td>\n",
       "      <td>0.403</td>\n",
       "      <td>87.3</td>\n",
       "      <td>12.0</td>\n",
       "      <td>33.0</td>\n",
       "      <td>12</td>\n",
       "      <td>4.580153</td>\n",
       "      <td>6.3</td>\n",
       "      <td>36.6</td>\n",
       "      <td>930</td>\n",
       "      <td>NaN</td>\n",
       "      <td>4.48</td>\n",
       "      <td>113.2</td>\n",
       "    </tr>\n",
       "    <tr>\n",
       "      <th>1</th>\n",
       "      <td>Greinke</td>\n",
       "      <td>Zack</td>\n",
       "      <td>425844</td>\n",
       "      <td>2020</td>\n",
       "      <td>36</td>\n",
       "      <td>273</td>\n",
       "      <td>24.5</td>\n",
       "      <td>3.3</td>\n",
       "      <td>4.03</td>\n",
       "      <td>370</td>\n",
       "      <td>0.249</td>\n",
       "      <td>0.421</td>\n",
       "      <td>0.293</td>\n",
       "      <td>0.299</td>\n",
       "      <td>0.395</td>\n",
       "      <td>86.8</td>\n",
       "      <td>11.7</td>\n",
       "      <td>34.7</td>\n",
       "      <td>16</td>\n",
       "      <td>5.860806</td>\n",
       "      <td>8.2</td>\n",
       "      <td>35.2</td>\n",
       "      <td>1060</td>\n",
       "      <td>NaN</td>\n",
       "      <td>3.76</td>\n",
       "      <td>115.9</td>\n",
       "    </tr>\n",
       "    <tr>\n",
       "      <th>2</th>\n",
       "      <td>Sanchez</td>\n",
       "      <td>Anibal</td>\n",
       "      <td>434671</td>\n",
       "      <td>2020</td>\n",
       "      <td>36</td>\n",
       "      <td>245</td>\n",
       "      <td>17.6</td>\n",
       "      <td>7.3</td>\n",
       "      <td>6.62</td>\n",
       "      <td>338</td>\n",
       "      <td>0.284</td>\n",
       "      <td>0.482</td>\n",
       "      <td>0.383</td>\n",
       "      <td>0.355</td>\n",
       "      <td>0.322</td>\n",
       "      <td>88.9</td>\n",
       "      <td>13.5</td>\n",
       "      <td>37.6</td>\n",
       "      <td>17</td>\n",
       "      <td>6.938776</td>\n",
       "      <td>9.4</td>\n",
       "      <td>37.6</td>\n",
       "      <td>971</td>\n",
       "      <td>NaN</td>\n",
       "      <td>5.52</td>\n",
       "      <td>114.2</td>\n",
       "    </tr>\n",
       "    <tr>\n",
       "      <th>3</th>\n",
       "      <td>Hill</td>\n",
       "      <td>Rich</td>\n",
       "      <td>448179</td>\n",
       "      <td>2020</td>\n",
       "      <td>40</td>\n",
       "      <td>156</td>\n",
       "      <td>19.9</td>\n",
       "      <td>10.9</td>\n",
       "      <td>3.03</td>\n",
       "      <td>221</td>\n",
       "      <td>0.257</td>\n",
       "      <td>0.446</td>\n",
       "      <td>0.272</td>\n",
       "      <td>0.342</td>\n",
       "      <td>0.308</td>\n",
       "      <td>86.8</td>\n",
       "      <td>15.7</td>\n",
       "      <td>34.6</td>\n",
       "      <td>10</td>\n",
       "      <td>6.410256</td>\n",
       "      <td>9.3</td>\n",
       "      <td>29.9</td>\n",
       "      <td>619</td>\n",
       "      <td>NaN</td>\n",
       "      <td>5.06</td>\n",
       "      <td>110.7</td>\n",
       "    </tr>\n",
       "    <tr>\n",
       "      <th>4</th>\n",
       "      <td>Morton</td>\n",
       "      <td>Charlie</td>\n",
       "      <td>450203</td>\n",
       "      <td>2020</td>\n",
       "      <td>36</td>\n",
       "      <td>170</td>\n",
       "      <td>24.7</td>\n",
       "      <td>5.9</td>\n",
       "      <td>4.74</td>\n",
       "      <td>202</td>\n",
       "      <td>0.239</td>\n",
       "      <td>0.384</td>\n",
       "      <td>0.330</td>\n",
       "      <td>0.305</td>\n",
       "      <td>0.360</td>\n",
       "      <td>89.4</td>\n",
       "      <td>11.6</td>\n",
       "      <td>36.0</td>\n",
       "      <td>9</td>\n",
       "      <td>5.294118</td>\n",
       "      <td>7.9</td>\n",
       "      <td>35.1</td>\n",
       "      <td>660</td>\n",
       "      <td>NaN</td>\n",
       "      <td>3.93</td>\n",
       "      <td>109.8</td>\n",
       "    </tr>\n",
       "    <tr>\n",
       "      <th>...</th>\n",
       "      <td>...</td>\n",
       "      <td>...</td>\n",
       "      <td>...</td>\n",
       "      <td>...</td>\n",
       "      <td>...</td>\n",
       "      <td>...</td>\n",
       "      <td>...</td>\n",
       "      <td>...</td>\n",
       "      <td>...</td>\n",
       "      <td>...</td>\n",
       "      <td>...</td>\n",
       "      <td>...</td>\n",
       "      <td>...</td>\n",
       "      <td>...</td>\n",
       "      <td>...</td>\n",
       "      <td>...</td>\n",
       "      <td>...</td>\n",
       "      <td>...</td>\n",
       "      <td>...</td>\n",
       "      <td>...</td>\n",
       "      <td>...</td>\n",
       "      <td>...</td>\n",
       "      <td>...</td>\n",
       "      <td>...</td>\n",
       "      <td>...</td>\n",
       "      <td>...</td>\n",
       "    </tr>\n",
       "    <tr>\n",
       "      <th>1896</th>\n",
       "      <td>Burnes</td>\n",
       "      <td>Corbin</td>\n",
       "      <td>669203</td>\n",
       "      <td>2019</td>\n",
       "      <td>24</td>\n",
       "      <td>235</td>\n",
       "      <td>29.8</td>\n",
       "      <td>8.5</td>\n",
       "      <td>8.82</td>\n",
       "      <td>302</td>\n",
       "      <td>0.275</td>\n",
       "      <td>0.511</td>\n",
       "      <td>0.417</td>\n",
       "      <td>0.358</td>\n",
       "      <td>0.379</td>\n",
       "      <td>90.0</td>\n",
       "      <td>10.5</td>\n",
       "      <td>35.9</td>\n",
       "      <td>17</td>\n",
       "      <td>7.234043</td>\n",
       "      <td>11.7</td>\n",
       "      <td>40.3</td>\n",
       "      <td>903</td>\n",
       "      <td>NaN</td>\n",
       "      <td>5.85</td>\n",
       "      <td>114.4</td>\n",
       "    </tr>\n",
       "    <tr>\n",
       "      <th>1897</th>\n",
       "      <td>Bieber</td>\n",
       "      <td>Shane</td>\n",
       "      <td>669456</td>\n",
       "      <td>2019</td>\n",
       "      <td>24</td>\n",
       "      <td>859</td>\n",
       "      <td>30.2</td>\n",
       "      <td>4.7</td>\n",
       "      <td>3.28</td>\n",
       "      <td>1021</td>\n",
       "      <td>0.236</td>\n",
       "      <td>0.421</td>\n",
       "      <td>0.280</td>\n",
       "      <td>0.296</td>\n",
       "      <td>0.397</td>\n",
       "      <td>90.6</td>\n",
       "      <td>12.6</td>\n",
       "      <td>32.5</td>\n",
       "      <td>47</td>\n",
       "      <td>5.471478</td>\n",
       "      <td>8.5</td>\n",
       "      <td>43.3</td>\n",
       "      <td>3332</td>\n",
       "      <td>NaN</td>\n",
       "      <td>3.83</td>\n",
       "      <td>113.5</td>\n",
       "    </tr>\n",
       "    <tr>\n",
       "      <th>1898</th>\n",
       "      <td>Richards</td>\n",
       "      <td>Trevor</td>\n",
       "      <td>670950</td>\n",
       "      <td>2019</td>\n",
       "      <td>26</td>\n",
       "      <td>580</td>\n",
       "      <td>21.9</td>\n",
       "      <td>9.7</td>\n",
       "      <td>4.06</td>\n",
       "      <td>765</td>\n",
       "      <td>0.235</td>\n",
       "      <td>0.410</td>\n",
       "      <td>0.316</td>\n",
       "      <td>0.312</td>\n",
       "      <td>0.393</td>\n",
       "      <td>88.5</td>\n",
       "      <td>17.8</td>\n",
       "      <td>34.9</td>\n",
       "      <td>25</td>\n",
       "      <td>4.310345</td>\n",
       "      <td>6.4</td>\n",
       "      <td>34.7</td>\n",
       "      <td>2290</td>\n",
       "      <td>NaN</td>\n",
       "      <td>4.29</td>\n",
       "      <td>112.2</td>\n",
       "    </tr>\n",
       "    <tr>\n",
       "      <th>1899</th>\n",
       "      <td>Hirano</td>\n",
       "      <td>Yoshihisa</td>\n",
       "      <td>673633</td>\n",
       "      <td>2019</td>\n",
       "      <td>35</td>\n",
       "      <td>233</td>\n",
       "      <td>26.2</td>\n",
       "      <td>9.4</td>\n",
       "      <td>4.75</td>\n",
       "      <td>275</td>\n",
       "      <td>0.217</td>\n",
       "      <td>0.380</td>\n",
       "      <td>0.308</td>\n",
       "      <td>0.294</td>\n",
       "      <td>0.320</td>\n",
       "      <td>88.2</td>\n",
       "      <td>11.4</td>\n",
       "      <td>32.0</td>\n",
       "      <td>8</td>\n",
       "      <td>3.433476</td>\n",
       "      <td>5.4</td>\n",
       "      <td>29.3</td>\n",
       "      <td>934</td>\n",
       "      <td>NaN</td>\n",
       "      <td>3.78</td>\n",
       "      <td>111.4</td>\n",
       "    </tr>\n",
       "    <tr>\n",
       "      <th>1900</th>\n",
       "      <td>Margevicius</td>\n",
       "      <td>Nick</td>\n",
       "      <td>676606</td>\n",
       "      <td>2019</td>\n",
       "      <td>23</td>\n",
       "      <td>263</td>\n",
       "      <td>16.0</td>\n",
       "      <td>7.2</td>\n",
       "      <td>6.79</td>\n",
       "      <td>323</td>\n",
       "      <td>0.292</td>\n",
       "      <td>0.503</td>\n",
       "      <td>0.379</td>\n",
       "      <td>0.362</td>\n",
       "      <td>0.388</td>\n",
       "      <td>88.5</td>\n",
       "      <td>10.3</td>\n",
       "      <td>35.7</td>\n",
       "      <td>14</td>\n",
       "      <td>5.323194</td>\n",
       "      <td>7.0</td>\n",
       "      <td>34.7</td>\n",
       "      <td>958</td>\n",
       "      <td>NaN</td>\n",
       "      <td>6.00</td>\n",
       "      <td>110.7</td>\n",
       "    </tr>\n",
       "  </tbody>\n",
       "</table>\n",
       "<p>1901 rows × 26 columns</p>\n",
       "</div>"
      ],
      "text/plain": [
       "        last_name  first_name  player_id  year  player_age  p_total_pa  \\\n",
       "0      Wainwright        Adam     425794  2020          38         262   \n",
       "1         Greinke        Zack     425844  2020          36         273   \n",
       "2         Sanchez      Anibal     434671  2020          36         245   \n",
       "3            Hill        Rich     448179  2020          40         156   \n",
       "4          Morton     Charlie     450203  2020          36         170   \n",
       "...           ...         ...        ...   ...         ...         ...   \n",
       "1896       Burnes      Corbin     669203  2019          24         235   \n",
       "1897       Bieber       Shane     669456  2019          24         859   \n",
       "1898     Richards      Trevor     670950  2019          26         580   \n",
       "1899       Hirano   Yoshihisa     673633  2019          35         233   \n",
       "1900  Margevicius        Nick     676606  2019          23         263   \n",
       "\n",
       "      p_k_percent  p_bb_percent  p_era  p_ball    xba   xslg   woba  xwoba  \\\n",
       "0            20.6           5.7   3.15     291  0.265  0.436  0.277  0.324   \n",
       "1            24.5           3.3   4.03     370  0.249  0.421  0.293  0.299   \n",
       "2            17.6           7.3   6.62     338  0.284  0.482  0.383  0.355   \n",
       "3            19.9          10.9   3.03     221  0.257  0.446  0.272  0.342   \n",
       "4            24.7           5.9   4.74     202  0.239  0.384  0.330  0.305   \n",
       "...           ...           ...    ...     ...    ...    ...    ...    ...   \n",
       "1896         29.8           8.5   8.82     302  0.275  0.511  0.417  0.358   \n",
       "1897         30.2           4.7   3.28    1021  0.236  0.421  0.280  0.296   \n",
       "1898         21.9           9.7   4.06     765  0.235  0.410  0.316  0.312   \n",
       "1899         26.2           9.4   4.75     275  0.217  0.380  0.308  0.294   \n",
       "1900         16.0           7.2   6.79     323  0.292  0.503  0.379  0.362   \n",
       "\n",
       "      xwobacon  exit_velocity_avg  launch_angle_avg  sweet_spot_percent  \\\n",
       "0        0.403               87.3              12.0                33.0   \n",
       "1        0.395               86.8              11.7                34.7   \n",
       "2        0.322               88.9              13.5                37.6   \n",
       "3        0.308               86.8              15.7                34.6   \n",
       "4        0.360               89.4              11.6                36.0   \n",
       "...        ...                ...               ...                 ...   \n",
       "1896     0.379               90.0              10.5                35.9   \n",
       "1897     0.397               90.6              12.6                32.5   \n",
       "1898     0.393               88.5              17.8                34.9   \n",
       "1899     0.320               88.2              11.4                32.0   \n",
       "1900     0.388               88.5              10.3                35.7   \n",
       "\n",
       "      barrel  Barrel/PA  barrel_batted_rate  hard_hit_percent  pitch_count  \\\n",
       "0         12   4.580153                 6.3              36.6          930   \n",
       "1         16   5.860806                 8.2              35.2         1060   \n",
       "2         17   6.938776                 9.4              37.6          971   \n",
       "3         10   6.410256                 9.3              29.9          619   \n",
       "4          9   5.294118                 7.9              35.1          660   \n",
       "...      ...        ...                 ...               ...          ...   \n",
       "1896      17   7.234043                11.7              40.3          903   \n",
       "1897      47   5.471478                 8.5              43.3         3332   \n",
       "1898      25   4.310345                 6.4              34.7         2290   \n",
       "1899       8   3.433476                 5.4              29.3          934   \n",
       "1900      14   5.323194                 7.0              34.7          958   \n",
       "\n",
       "      Unnamed: 23  xera  max_hit_speed  \n",
       "0             NaN  4.48          113.2  \n",
       "1             NaN  3.76          115.9  \n",
       "2             NaN  5.52          114.2  \n",
       "3             NaN  5.06          110.7  \n",
       "4             NaN  3.93          109.8  \n",
       "...           ...   ...            ...  \n",
       "1896          NaN  5.85          114.4  \n",
       "1897          NaN  3.83          113.5  \n",
       "1898          NaN  4.29          112.2  \n",
       "1899          NaN  3.78          111.4  \n",
       "1900          NaN  6.00          110.7  \n",
       "\n",
       "[1901 rows x 26 columns]"
      ]
     },
     "execution_count": 67,
     "metadata": {},
     "output_type": "execute_result"
    }
   ],
   "source": [
    "major_df = pd.merge(major, major_xERA2, on = [\"player_id\",\"year\"])\n",
    "major_df = pd.merge(major_df, major_maxev2, on = [\"player_id\",\"year\"])\n",
    "major_df"
   ]
  },
  {
   "cell_type": "code",
   "execution_count": 68,
   "id": "fefd2c95",
   "metadata": {
    "ExecuteTime": {
     "end_time": "2023-05-10T10:15:29.298075Z",
     "start_time": "2023-05-10T10:15:29.291072Z"
    }
   },
   "outputs": [
    {
     "data": {
      "text/plain": [
       "Index(['last_name', ' first_name', 'player_id', 'year', 'player_age',\n",
       "       'p_total_pa', 'p_k_percent', 'p_bb_percent', 'p_era', 'p_ball', 'xba',\n",
       "       'xslg', 'woba', 'xwoba', 'xwobacon', 'exit_velocity_avg',\n",
       "       'launch_angle_avg', 'sweet_spot_percent', 'barrel', 'Barrel/PA',\n",
       "       'barrel_batted_rate', 'hard_hit_percent', 'pitch_count', 'Unnamed: 23',\n",
       "       'xera', 'max_hit_speed'],\n",
       "      dtype='object')"
      ]
     },
     "execution_count": 68,
     "metadata": {},
     "output_type": "execute_result"
    }
   ],
   "source": [
    "major_df.columns"
   ]
  },
  {
   "cell_type": "code",
   "execution_count": 69,
   "id": "d4bb113c",
   "metadata": {
    "ExecuteTime": {
     "end_time": "2023-05-10T10:15:29.911508Z",
     "start_time": "2023-05-10T10:15:29.877515Z"
    }
   },
   "outputs": [
    {
     "data": {
      "text/html": [
       "<div>\n",
       "<style scoped>\n",
       "    .dataframe tbody tr th:only-of-type {\n",
       "        vertical-align: middle;\n",
       "    }\n",
       "\n",
       "    .dataframe tbody tr th {\n",
       "        vertical-align: top;\n",
       "    }\n",
       "\n",
       "    .dataframe thead th {\n",
       "        text-align: right;\n",
       "    }\n",
       "</style>\n",
       "<table border=\"1\" class=\"dataframe\">\n",
       "  <thead>\n",
       "    <tr style=\"text-align: right;\">\n",
       "      <th></th>\n",
       "      <th>last_name</th>\n",
       "      <th>first_name</th>\n",
       "      <th>player_id</th>\n",
       "      <th>year</th>\n",
       "      <th>player_age</th>\n",
       "      <th>p_total_pa</th>\n",
       "      <th>p_k_percent</th>\n",
       "      <th>p_bb_percent</th>\n",
       "      <th>p_era</th>\n",
       "      <th>p_ball</th>\n",
       "      <th>xba</th>\n",
       "      <th>xslg</th>\n",
       "      <th>woba</th>\n",
       "      <th>xwoba</th>\n",
       "      <th>xwobacon</th>\n",
       "      <th>exit_velocity_avg</th>\n",
       "      <th>launch_angle_avg</th>\n",
       "      <th>sweet_spot_percent</th>\n",
       "      <th>barrel</th>\n",
       "      <th>Barrel/PA</th>\n",
       "      <th>barrel_batted_rate</th>\n",
       "      <th>hard_hit_percent</th>\n",
       "      <th>pitch_count</th>\n",
       "      <th>Unnamed: 23</th>\n",
       "      <th>xera</th>\n",
       "      <th>max_hit_speed</th>\n",
       "    </tr>\n",
       "  </thead>\n",
       "  <tbody>\n",
       "    <tr>\n",
       "      <th>594</th>\n",
       "      <td>Doubront</td>\n",
       "      <td>Felix</td>\n",
       "      <td>467094</td>\n",
       "      <td>2015</td>\n",
       "      <td>27</td>\n",
       "      <td>328</td>\n",
       "      <td>17.1</td>\n",
       "      <td>7.9</td>\n",
       "      <td>5.5</td>\n",
       "      <td>449</td>\n",
       "      <td>0.273</td>\n",
       "      <td>0.438</td>\n",
       "      <td>0.351</td>\n",
       "      <td>0.338</td>\n",
       "      <td>0.383</td>\n",
       "      <td>89.6</td>\n",
       "      <td>10.3</td>\n",
       "      <td>29.0</td>\n",
       "      <td>16</td>\n",
       "      <td>4.878049</td>\n",
       "      <td>6.5</td>\n",
       "      <td>33.5</td>\n",
       "      <td>1268</td>\n",
       "      <td>NaN</td>\n",
       "      <td>4.8</td>\n",
       "      <td>115.2</td>\n",
       "    </tr>\n",
       "  </tbody>\n",
       "</table>\n",
       "</div>"
      ],
      "text/plain": [
       "    last_name  first_name  player_id  year  player_age  p_total_pa  \\\n",
       "594  Doubront       Felix     467094  2015          27         328   \n",
       "\n",
       "     p_k_percent  p_bb_percent  p_era  p_ball    xba   xslg   woba  xwoba  \\\n",
       "594         17.1           7.9    5.5     449  0.273  0.438  0.351  0.338   \n",
       "\n",
       "     xwobacon  exit_velocity_avg  launch_angle_avg  sweet_spot_percent  \\\n",
       "594     0.383               89.6              10.3                29.0   \n",
       "\n",
       "     barrel  Barrel/PA  barrel_batted_rate  hard_hit_percent  pitch_count  \\\n",
       "594      16   4.878049                 6.5              33.5         1268   \n",
       "\n",
       "     Unnamed: 23  xera  max_hit_speed  \n",
       "594          NaN   4.8          115.2  "
      ]
     },
     "execution_count": 69,
     "metadata": {},
     "output_type": "execute_result"
    }
   ],
   "source": [
    "pd.set_option('display.max_columns', None) # 컬럼 수가 많으므로 요약되어 표시되지 않게 함\n",
    "major_df[major_df[\"last_name\"] == \"Doubront\"]"
   ]
  },
  {
   "cell_type": "code",
   "execution_count": 70,
   "id": "9774b627",
   "metadata": {
    "ExecuteTime": {
     "end_time": "2023-05-10T10:15:30.401343Z",
     "start_time": "2023-05-10T10:15:30.393342Z"
    }
   },
   "outputs": [],
   "source": [
    "# player_age : Age\n",
    "# pitch_count : pitches\n",
    "# p_ball : Balls\n",
    "# barrel_batted_rate : Barrel%\n",
    "# exit_velocity_avg : Velocity\n",
    "# max_hit_speed : Max EV\n",
    "# launch_angle_avg : Angle\n",
    "# sweet_spot_percent : Spot %\n",
    "# barrel : Barrels\n",
    "# xba : XBA\n",
    "# xslg : XSLG\n",
    "# woba : WOBA\n",
    "# xwoba : XWOBA\n",
    "# xwobacon : XWOBACON\n",
    "# hard_hit_percent : HardHit%\n",
    "# p_k_percent : K%\n",
    "# p_bb_percent : BB%\n",
    "# p_era : ERA\n",
    "# xera :xERA\n",
    "# Barrel/PA \n",
    "\n",
    "columns = [\"year\",\"player_age\",\"pitch_count\",\"p_ball\",\"exit_velocity_avg\",\\\n",
    "          \"max_hit_speed\",\"launch_angle_avg\",\"sweet_spot_percent\",\"barrel\",\"barrel_batted_rate\",\\\n",
    "          \"Barrel/PA\",\"xba\",\"xslg\",\"woba\",\"xwoba\",\"xwobacon\",\"hard_hit_percent\",\"p_k_percent\",\"p_bb_percent\",\"p_era\",\"xera\"]\n",
    "\n",
    "columns2 = columns.copy()\n",
    "columns2.remove(\"year\")"
   ]
  },
  {
   "cell_type": "code",
   "execution_count": 71,
   "id": "b917b007",
   "metadata": {
    "ExecuteTime": {
     "end_time": "2023-05-10T10:15:30.934113Z",
     "start_time": "2023-05-10T10:15:30.915108Z"
    }
   },
   "outputs": [],
   "source": [
    "major_df = major_df[columns].sort_values(by = \"year\", ascending = True).reset_index(drop = True)"
   ]
  },
  {
   "cell_type": "code",
   "execution_count": 72,
   "id": "8df10ea0",
   "metadata": {
    "ExecuteTime": {
     "end_time": "2023-05-10T10:15:31.375843Z",
     "start_time": "2023-05-10T10:15:31.360846Z"
    }
   },
   "outputs": [],
   "source": [
    "major_tracking = pd.read_csv(\"./MiLB_MLB_투수시즌데이터/메이저트래킹.csv\")"
   ]
  },
  {
   "cell_type": "code",
   "execution_count": 73,
   "id": "be9d38e4",
   "metadata": {
    "ExecuteTime": {
     "end_time": "2023-05-10T10:15:31.784485Z",
     "start_time": "2023-05-10T10:15:31.768156Z"
    }
   },
   "outputs": [
    {
     "name": "stdout",
     "output_type": "stream",
     "text": [
      "Index(['연도', '선수명', '팀명', 'MLB시즌', '재계약', 'Age', 'Pitches', 'Balls', 'Barrels',\n",
      "       'Barrel%', 'Barrel/PA', 'Velocity', 'Max EV', 'Angle', 'Spot %', 'XBA',\n",
      "       'XSLG', 'WOBA', 'XWOBA', 'XWOBACON', 'HardHit%', 'K%', 'BB%', 'ERA',\n",
      "       'xERA'],\n",
      "      dtype='object')\n"
     ]
    }
   ],
   "source": [
    "major_tracking = major_tracking.sort_values(by = \"MLB시즌\", ascending = True).reset_index(drop = True)\n",
    "print(major_tracking.columns)"
   ]
  },
  {
   "cell_type": "code",
   "execution_count": 74,
   "id": "a904aa92",
   "metadata": {
    "ExecuteTime": {
     "end_time": "2023-05-10T10:15:32.237934Z",
     "start_time": "2023-05-10T10:15:32.219932Z"
    }
   },
   "outputs": [
    {
     "data": {
      "text/html": [
       "<div>\n",
       "<style scoped>\n",
       "    .dataframe tbody tr th:only-of-type {\n",
       "        vertical-align: middle;\n",
       "    }\n",
       "\n",
       "    .dataframe tbody tr th {\n",
       "        vertical-align: top;\n",
       "    }\n",
       "\n",
       "    .dataframe thead th {\n",
       "        text-align: right;\n",
       "    }\n",
       "</style>\n",
       "<table border=\"1\" class=\"dataframe\">\n",
       "  <thead>\n",
       "    <tr style=\"text-align: right;\">\n",
       "      <th></th>\n",
       "      <th>연도</th>\n",
       "      <th>선수명</th>\n",
       "      <th>팀명</th>\n",
       "      <th>MLB시즌</th>\n",
       "      <th>재계약</th>\n",
       "      <th>Age</th>\n",
       "      <th>Pitches</th>\n",
       "      <th>Balls</th>\n",
       "      <th>Barrels</th>\n",
       "      <th>Barrel%</th>\n",
       "      <th>Barrel/PA</th>\n",
       "      <th>Velocity</th>\n",
       "      <th>Max EV</th>\n",
       "      <th>Angle</th>\n",
       "      <th>Spot %</th>\n",
       "      <th>XBA</th>\n",
       "      <th>XSLG</th>\n",
       "      <th>WOBA</th>\n",
       "      <th>XWOBA</th>\n",
       "      <th>XWOBACON</th>\n",
       "      <th>HardHit%</th>\n",
       "      <th>K%</th>\n",
       "      <th>BB%</th>\n",
       "      <th>ERA</th>\n",
       "      <th>xERA</th>\n",
       "    </tr>\n",
       "  </thead>\n",
       "  <tbody>\n",
       "    <tr>\n",
       "      <th>0</th>\n",
       "      <td>16</td>\n",
       "      <td>헥터</td>\n",
       "      <td>KIA</td>\n",
       "      <td>15</td>\n",
       "      <td>1</td>\n",
       "      <td>28</td>\n",
       "      <td>609</td>\n",
       "      <td>114</td>\n",
       "      <td>7</td>\n",
       "      <td>6.1</td>\n",
       "      <td>4.5</td>\n",
       "      <td>86.3</td>\n",
       "      <td>110.1</td>\n",
       "      <td>17.7</td>\n",
       "      <td>36.0</td>\n",
       "      <td>0.258</td>\n",
       "      <td>0.424</td>\n",
       "      <td>0.393</td>\n",
       "      <td>0.340</td>\n",
       "      <td>0.354</td>\n",
       "      <td>29.8</td>\n",
       "      <td>14.3</td>\n",
       "      <td>11.0</td>\n",
       "      <td>6.89</td>\n",
       "      <td>4.87</td>\n",
       "    </tr>\n",
       "    <tr>\n",
       "      <th>1</th>\n",
       "      <td>16</td>\n",
       "      <td>피노</td>\n",
       "      <td>KT</td>\n",
       "      <td>15</td>\n",
       "      <td>0</td>\n",
       "      <td>31</td>\n",
       "      <td>279</td>\n",
       "      <td>66</td>\n",
       "      <td>5</td>\n",
       "      <td>7.6</td>\n",
       "      <td>6.1</td>\n",
       "      <td>90.5</td>\n",
       "      <td>110.6</td>\n",
       "      <td>15.9</td>\n",
       "      <td>37.9</td>\n",
       "      <td>0.271</td>\n",
       "      <td>0.462</td>\n",
       "      <td>0.319</td>\n",
       "      <td>0.328</td>\n",
       "      <td>0.377</td>\n",
       "      <td>54.5</td>\n",
       "      <td>15.9</td>\n",
       "      <td>3.7</td>\n",
       "      <td>3.26</td>\n",
       "      <td>4.49</td>\n",
       "    </tr>\n",
       "    <tr>\n",
       "      <th>2</th>\n",
       "      <td>16</td>\n",
       "      <td>마리몬</td>\n",
       "      <td>KT</td>\n",
       "      <td>15</td>\n",
       "      <td>0</td>\n",
       "      <td>26</td>\n",
       "      <td>418</td>\n",
       "      <td>89</td>\n",
       "      <td>4</td>\n",
       "      <td>4.5</td>\n",
       "      <td>3.4</td>\n",
       "      <td>88.6</td>\n",
       "      <td>109.5</td>\n",
       "      <td>16.2</td>\n",
       "      <td>31.5</td>\n",
       "      <td>0.248</td>\n",
       "      <td>0.410</td>\n",
       "      <td>0.389</td>\n",
       "      <td>0.330</td>\n",
       "      <td>0.325</td>\n",
       "      <td>32.6</td>\n",
       "      <td>12.0</td>\n",
       "      <td>12.0</td>\n",
       "      <td>7.36</td>\n",
       "      <td>4.55</td>\n",
       "    </tr>\n",
       "    <tr>\n",
       "      <th>3</th>\n",
       "      <td>18</td>\n",
       "      <td>듀브론트</td>\n",
       "      <td>롯데</td>\n",
       "      <td>15</td>\n",
       "      <td>0</td>\n",
       "      <td>27</td>\n",
       "      <td>1268</td>\n",
       "      <td>449</td>\n",
       "      <td>16</td>\n",
       "      <td>6.5</td>\n",
       "      <td>4.9</td>\n",
       "      <td>89.6</td>\n",
       "      <td>115.2</td>\n",
       "      <td>10.3</td>\n",
       "      <td>29.0</td>\n",
       "      <td>0.273</td>\n",
       "      <td>0.438</td>\n",
       "      <td>0.351</td>\n",
       "      <td>0.338</td>\n",
       "      <td>0.380</td>\n",
       "      <td>33.5</td>\n",
       "      <td>17.1</td>\n",
       "      <td>7.9</td>\n",
       "      <td>5.50</td>\n",
       "      <td>4.80</td>\n",
       "    </tr>\n",
       "    <tr>\n",
       "      <th>4</th>\n",
       "      <td>16</td>\n",
       "      <td>허프</td>\n",
       "      <td>LG</td>\n",
       "      <td>15</td>\n",
       "      <td>1</td>\n",
       "      <td>30</td>\n",
       "      <td>94</td>\n",
       "      <td>24</td>\n",
       "      <td>2</td>\n",
       "      <td>8.3</td>\n",
       "      <td>6.7</td>\n",
       "      <td>86.4</td>\n",
       "      <td>107.3</td>\n",
       "      <td>10.6</td>\n",
       "      <td>20.8</td>\n",
       "      <td>0.307</td>\n",
       "      <td>0.496</td>\n",
       "      <td>0.464</td>\n",
       "      <td>0.381</td>\n",
       "      <td>0.427</td>\n",
       "      <td>16.7</td>\n",
       "      <td>13.3</td>\n",
       "      <td>3.3</td>\n",
       "      <td>9.00</td>\n",
       "      <td>6.35</td>\n",
       "    </tr>\n",
       "  </tbody>\n",
       "</table>\n",
       "</div>"
      ],
      "text/plain": [
       "   연도   선수명   팀명  MLB시즌  재계약  Age  Pitches  Balls  Barrels  Barrel%  \\\n",
       "0  16    헥터  KIA     15    1   28      609    114        7      6.1   \n",
       "1  16    피노   KT     15    0   31      279     66        5      7.6   \n",
       "2  16   마리몬   KT     15    0   26      418     89        4      4.5   \n",
       "3  18  듀브론트   롯데     15    0   27     1268    449       16      6.5   \n",
       "4  16    허프   LG     15    1   30       94     24        2      8.3   \n",
       "\n",
       "   Barrel/PA  Velocity  Max EV  Angle  Spot %    XBA   XSLG   WOBA  XWOBA  \\\n",
       "0        4.5      86.3   110.1   17.7    36.0  0.258  0.424  0.393  0.340   \n",
       "1        6.1      90.5   110.6   15.9    37.9  0.271  0.462  0.319  0.328   \n",
       "2        3.4      88.6   109.5   16.2    31.5  0.248  0.410  0.389  0.330   \n",
       "3        4.9      89.6   115.2   10.3    29.0  0.273  0.438  0.351  0.338   \n",
       "4        6.7      86.4   107.3   10.6    20.8  0.307  0.496  0.464  0.381   \n",
       "\n",
       "   XWOBACON  HardHit%    K%   BB%   ERA  xERA  \n",
       "0     0.354      29.8  14.3  11.0  6.89  4.87  \n",
       "1     0.377      54.5  15.9   3.7  3.26  4.49  \n",
       "2     0.325      32.6  12.0  12.0  7.36  4.55  \n",
       "3     0.380      33.5  17.1   7.9  5.50  4.80  \n",
       "4     0.427      16.7  13.3   3.3  9.00  6.35  "
      ]
     },
     "execution_count": 74,
     "metadata": {},
     "output_type": "execute_result"
    }
   ],
   "source": [
    "major_tracking.head()"
   ]
  },
  {
   "cell_type": "code",
   "execution_count": 75,
   "id": "91ebf0ba",
   "metadata": {
    "ExecuteTime": {
     "end_time": "2023-05-10T10:15:32.597131Z",
     "start_time": "2023-05-10T10:15:32.578133Z"
    }
   },
   "outputs": [],
   "source": [
    "major_columns = [\"MLB시즌\",\"Age\", \"Pitches\", \"Balls\", \"Barrels\", \"Barrel%\", \"Barrel/PA\",\"Velocity\",\\\n",
    "                \"Max EV\", \"Angle\", \"Spot %\", \"XBA\", \"XSLG\", \"WOBA\",\"XWOBA\", \"XWOBACON\", \"HardHit%\",\\\n",
    "                \"K%\", \"BB%\", \"ERA\", \"xERA\"]\n",
    "\n",
    "major_columns2 = major_columns.copy()\n",
    "major_columns2.remove(\"MLB시즌\")"
   ]
  },
  {
   "cell_type": "code",
   "execution_count": 76,
   "id": "4d431602",
   "metadata": {
    "ExecuteTime": {
     "end_time": "2023-05-10T10:15:33.034652Z",
     "start_time": "2023-05-10T10:15:33.028650Z"
    }
   },
   "outputs": [],
   "source": [
    "# player_age : Age\n",
    "# pitch_count : pitches\n",
    "# p_ball : Balls\n",
    "# barrel_batted_rate : Barrel%\n",
    "# exit_velocity_avg : Velocity\n",
    "# max_hit_speed : Max EV\n",
    "# launch_angle_avg : Angle\n",
    "# sweet_spot_percent : Spot %\n",
    "# barrel : Barrels\n",
    "# xba : XBA\n",
    "# xslg : XSLG\n",
    "# woba : WOBA\n",
    "# xwoba : XWOBA\n",
    "# xwobacon : XWOBACON\n",
    "# hard_hit_percent : HardHit%\n",
    "# p_k_percent : K%\n",
    "# p_bb_percent : BB%\n",
    "# p_era : ERA\n",
    "# xera :xERA\n",
    "# Barrel/PA\n",
    "column_orders = [\"MLB시즌\", \"Age\", \"Pitches\", \"Balls\", \"Velocity\", \"Max EV\", \"Angle\", \"Spot %\", \\\n",
    "                   \"Barrels\", \"Barrel%\",\"Barrel/PA\", \"XBA\", \"XSLG\", \"WOBA\", \"XWOBA\", \"XWOBACON\", \\\n",
    "                   \"HardHit%\",\"K%\",\"BB%\",\"ERA\",\"xERA\"]\n",
    "\n",
    "column_orders2 = column_orders.copy()\n",
    "column_orders2.remove(\"MLB시즌\")\n",
    "\n",
    "major_df.columns = [\"MLB시즌\", \"Age\", \"Pitches\", \"Balls\", \"Velocity\", \"Max EV\", \"Angle\", \"Spot %\", \\\n",
    "                   \"Barrels\", \"Barrel%\",\"Barrel/PA\", \"XBA\", \"XSLG\", \"WOBA\", \"XWOBA\", \"XWOBACON\", \\\n",
    "                   \"HardHit%\",\"K%\",\"BB%\",\"ERA\",\"xERA\"]"
   ]
  },
  {
   "cell_type": "code",
   "execution_count": 79,
   "id": "f82b9a2a",
   "metadata": {
    "ExecuteTime": {
     "end_time": "2023-05-10T10:15:38.218981Z",
     "start_time": "2023-05-10T10:15:38.204983Z"
    }
   },
   "outputs": [],
   "source": [
    "major_tracking[\"MLB시즌\"] = major_tracking[\"MLB시즌\"] + 2000"
   ]
  },
  {
   "cell_type": "code",
   "execution_count": 80,
   "id": "ce292c2d",
   "metadata": {
    "ExecuteTime": {
     "end_time": "2023-05-10T10:15:38.675885Z",
     "start_time": "2023-05-10T10:15:38.629369Z"
    }
   },
   "outputs": [],
   "source": [
    "from sklearn.preprocessing import StandardScaler\n",
    "\n",
    "ss = StandardScaler()\n",
    "\n",
    "ss_df = pd.DataFrame(columns=column_orders2)\n",
    "\n",
    "for season in range(2015,2020+1):\n",
    "    temp1 = major_df[major_df[\"MLB시즌\"] == season]\n",
    "    #temp2 = ss.fit_transform(temp1[columns])\n",
    "    ss.fit(temp1[column_orders])\n",
    "    #print(ss.transform(temp1[column_orders]))\n",
    "    temp2 = ss.transform(major_tracking[major_tracking[\"MLB시즌\"] == season][column_orders])\n",
    "    temp2 = pd.DataFrame(temp2, columns = column_orders)\n",
    "    ss_df = ss_df.append(temp2[column_orders2])\n"
   ]
  },
  {
   "cell_type": "code",
   "execution_count": 81,
   "id": "15728979",
   "metadata": {
    "ExecuteTime": {
     "end_time": "2023-05-10T10:15:39.820282Z",
     "start_time": "2023-05-10T10:15:39.802286Z"
    }
   },
   "outputs": [],
   "source": [
    "X = ss_df\n",
    "y = major_tracking[\"재계약\"]"
   ]
  },
  {
   "cell_type": "code",
   "execution_count": 82,
   "id": "4ab5ae27",
   "metadata": {
    "ExecuteTime": {
     "end_time": "2023-05-10T10:15:40.260804Z",
     "start_time": "2023-05-10T10:15:40.249806Z"
    }
   },
   "outputs": [],
   "source": [
    "major_pre = pd.DataFrame(X)\n",
    "major_pre[\"재계약\"] = y"
   ]
  },
  {
   "cell_type": "code",
   "execution_count": 83,
   "id": "9a32e8eb",
   "metadata": {
    "ExecuteTime": {
     "end_time": "2023-05-10T10:15:41.955405Z",
     "start_time": "2023-05-10T10:15:41.918403Z"
    }
   },
   "outputs": [
    {
     "data": {
      "text/html": [
       "<div>\n",
       "<style scoped>\n",
       "    .dataframe tbody tr th:only-of-type {\n",
       "        vertical-align: middle;\n",
       "    }\n",
       "\n",
       "    .dataframe tbody tr th {\n",
       "        vertical-align: top;\n",
       "    }\n",
       "\n",
       "    .dataframe thead th {\n",
       "        text-align: right;\n",
       "    }\n",
       "</style>\n",
       "<table border=\"1\" class=\"dataframe\">\n",
       "  <thead>\n",
       "    <tr style=\"text-align: right;\">\n",
       "      <th></th>\n",
       "      <th>Age</th>\n",
       "      <th>Pitches</th>\n",
       "      <th>Balls</th>\n",
       "      <th>Velocity</th>\n",
       "      <th>Max EV</th>\n",
       "      <th>Angle</th>\n",
       "      <th>Spot %</th>\n",
       "      <th>Barrels</th>\n",
       "      <th>Barrel%</th>\n",
       "      <th>Barrel/PA</th>\n",
       "      <th>XBA</th>\n",
       "      <th>XSLG</th>\n",
       "      <th>WOBA</th>\n",
       "      <th>XWOBA</th>\n",
       "      <th>XWOBACON</th>\n",
       "      <th>HardHit%</th>\n",
       "      <th>K%</th>\n",
       "      <th>BB%</th>\n",
       "      <th>ERA</th>\n",
       "      <th>xERA</th>\n",
       "      <th>재계약</th>\n",
       "    </tr>\n",
       "  </thead>\n",
       "  <tbody>\n",
       "    <tr>\n",
       "      <th>0</th>\n",
       "      <td>-0.039952</td>\n",
       "      <td>-1.273612</td>\n",
       "      <td>-1.567593</td>\n",
       "      <td>-1.332860</td>\n",
       "      <td>-1.097398</td>\n",
       "      <td>1.391750</td>\n",
       "      <td>1.315361</td>\n",
       "      <td>-0.973637</td>\n",
       "      <td>0.553677</td>\n",
       "      <td>0.663247</td>\n",
       "      <td>0.571868</td>\n",
       "      <td>0.734170</td>\n",
       "      <td>2.302722</td>\n",
       "      <td>1.097059</td>\n",
       "      <td>-0.047537</td>\n",
       "      <td>-0.714498</td>\n",
       "      <td>-1.154706</td>\n",
       "      <td>1.631764</td>\n",
       "      <td>2.803349</td>\n",
       "      <td>1.119177</td>\n",
       "      <td>1</td>\n",
       "    </tr>\n",
       "    <tr>\n",
       "      <th>1</th>\n",
       "      <td>0.775068</td>\n",
       "      <td>-1.659983</td>\n",
       "      <td>-1.736661</td>\n",
       "      <td>1.859565</td>\n",
       "      <td>-0.871377</td>\n",
       "      <td>1.023090</td>\n",
       "      <td>1.830782</td>\n",
       "      <td>-1.181444</td>\n",
       "      <td>1.438589</td>\n",
       "      <td>1.923478</td>\n",
       "      <td>1.029114</td>\n",
       "      <td>1.426590</td>\n",
       "      <td>0.314374</td>\n",
       "      <td>0.722059</td>\n",
       "      <td>0.598967</td>\n",
       "      <td>5.263142</td>\n",
       "      <td>-0.873926</td>\n",
       "      <td>-1.803383</td>\n",
       "      <td>-0.498265</td>\n",
       "      <td>0.682471</td>\n",
       "      <td>0</td>\n",
       "    </tr>\n",
       "    <tr>\n",
       "      <th>2</th>\n",
       "      <td>-0.583299</td>\n",
       "      <td>-1.497239</td>\n",
       "      <td>-1.655649</td>\n",
       "      <td>0.415373</td>\n",
       "      <td>-1.368623</td>\n",
       "      <td>1.084534</td>\n",
       "      <td>0.094627</td>\n",
       "      <td>-1.285348</td>\n",
       "      <td>-0.390229</td>\n",
       "      <td>-0.203162</td>\n",
       "      <td>0.220140</td>\n",
       "      <td>0.479067</td>\n",
       "      <td>2.195243</td>\n",
       "      <td>0.784559</td>\n",
       "      <td>-0.862694</td>\n",
       "      <td>-0.036871</td>\n",
       "      <td>-1.558326</td>\n",
       "      <td>2.102332</td>\n",
       "      <td>3.230831</td>\n",
       "      <td>0.751425</td>\n",
       "      <td>0</td>\n",
       "    </tr>\n",
       "    <tr>\n",
       "      <th>3</th>\n",
       "      <td>-0.311625</td>\n",
       "      <td>-0.502041</td>\n",
       "      <td>-0.387635</td>\n",
       "      <td>1.175474</td>\n",
       "      <td>1.208015</td>\n",
       "      <td>-0.123850</td>\n",
       "      <td>-0.583559</td>\n",
       "      <td>-0.038505</td>\n",
       "      <td>0.789654</td>\n",
       "      <td>0.978305</td>\n",
       "      <td>1.099459</td>\n",
       "      <td>0.989272</td>\n",
       "      <td>1.174200</td>\n",
       "      <td>1.034559</td>\n",
       "      <td>0.683294</td>\n",
       "      <td>0.180938</td>\n",
       "      <td>-0.663342</td>\n",
       "      <td>0.173003</td>\n",
       "      <td>1.539095</td>\n",
       "      <td>1.038731</td>\n",
       "      <td>0</td>\n",
       "    </tr>\n",
       "    <tr>\n",
       "      <th>4</th>\n",
       "      <td>0.503395</td>\n",
       "      <td>-1.876584</td>\n",
       "      <td>-1.884596</td>\n",
       "      <td>-1.256850</td>\n",
       "      <td>-2.363114</td>\n",
       "      <td>-0.062407</td>\n",
       "      <td>-2.808008</td>\n",
       "      <td>-1.493155</td>\n",
       "      <td>1.851548</td>\n",
       "      <td>2.396065</td>\n",
       "      <td>2.295333</td>\n",
       "      <td>2.046125</td>\n",
       "      <td>4.210461</td>\n",
       "      <td>2.378308</td>\n",
       "      <td>2.004411</td>\n",
       "      <td>-3.884825</td>\n",
       "      <td>-1.330193</td>\n",
       "      <td>-1.991610</td>\n",
       "      <td>4.722469</td>\n",
       "      <td>2.820031</td>\n",
       "      <td>1</td>\n",
       "    </tr>\n",
       "    <tr>\n",
       "      <th>...</th>\n",
       "      <td>...</td>\n",
       "      <td>...</td>\n",
       "      <td>...</td>\n",
       "      <td>...</td>\n",
       "      <td>...</td>\n",
       "      <td>...</td>\n",
       "      <td>...</td>\n",
       "      <td>...</td>\n",
       "      <td>...</td>\n",
       "      <td>...</td>\n",
       "      <td>...</td>\n",
       "      <td>...</td>\n",
       "      <td>...</td>\n",
       "      <td>...</td>\n",
       "      <td>...</td>\n",
       "      <td>...</td>\n",
       "      <td>...</td>\n",
       "      <td>...</td>\n",
       "      <td>...</td>\n",
       "      <td>...</td>\n",
       "      <td>...</td>\n",
       "    </tr>\n",
       "    <tr>\n",
       "      <th>3</th>\n",
       "      <td>-0.317437</td>\n",
       "      <td>-3.638204</td>\n",
       "      <td>-4.030108</td>\n",
       "      <td>2.125613</td>\n",
       "      <td>-2.340936</td>\n",
       "      <td>0.267865</td>\n",
       "      <td>2.773957</td>\n",
       "      <td>-1.472624</td>\n",
       "      <td>4.715445</td>\n",
       "      <td>5.081304</td>\n",
       "      <td>3.282040</td>\n",
       "      <td>4.282120</td>\n",
       "      <td>0.549570</td>\n",
       "      <td>4.034290</td>\n",
       "      <td>4.585229</td>\n",
       "      <td>2.688523</td>\n",
       "      <td>-1.767894</td>\n",
       "      <td>2.486017</td>\n",
       "      <td>-0.389335</td>\n",
       "      <td>5.957182</td>\n",
       "      <td>0</td>\n",
       "    </tr>\n",
       "    <tr>\n",
       "      <th>4</th>\n",
       "      <td>0.461726</td>\n",
       "      <td>-4.010166</td>\n",
       "      <td>-4.226146</td>\n",
       "      <td>1.030355</td>\n",
       "      <td>-0.965039</td>\n",
       "      <td>-0.850345</td>\n",
       "      <td>1.270675</td>\n",
       "      <td>-2.520340</td>\n",
       "      <td>1.377064</td>\n",
       "      <td>1.931209</td>\n",
       "      <td>3.250026</td>\n",
       "      <td>2.901235</td>\n",
       "      <td>0.506233</td>\n",
       "      <td>2.598829</td>\n",
       "      <td>4.227835</td>\n",
       "      <td>0.242790</td>\n",
       "      <td>-0.855183</td>\n",
       "      <td>-1.342988</td>\n",
       "      <td>0.493476</td>\n",
       "      <td>3.184066</td>\n",
       "      <td>1</td>\n",
       "    </tr>\n",
       "    <tr>\n",
       "      <th>5</th>\n",
       "      <td>-0.577158</td>\n",
       "      <td>-3.332482</td>\n",
       "      <td>-3.653113</td>\n",
       "      <td>-1.281858</td>\n",
       "      <td>-0.578068</td>\n",
       "      <td>0.192054</td>\n",
       "      <td>-0.351915</td>\n",
       "      <td>-2.520340</td>\n",
       "      <td>-1.639546</td>\n",
       "      <td>-1.443892</td>\n",
       "      <td>1.457235</td>\n",
       "      <td>-0.023867</td>\n",
       "      <td>1.026270</td>\n",
       "      <td>0.522538</td>\n",
       "      <td>0.296504</td>\n",
       "      <td>-1.740757</td>\n",
       "      <td>-1.236862</td>\n",
       "      <td>-0.883508</td>\n",
       "      <td>0.427595</td>\n",
       "      <td>0.426934</td>\n",
       "      <td>0</td>\n",
       "    </tr>\n",
       "    <tr>\n",
       "      <th>6</th>\n",
       "      <td>-0.317437</td>\n",
       "      <td>-3.327387</td>\n",
       "      <td>-3.894390</td>\n",
       "      <td>2.429852</td>\n",
       "      <td>-2.598917</td>\n",
       "      <td>1.120737</td>\n",
       "      <td>-2.642629</td>\n",
       "      <td>-2.520340</td>\n",
       "      <td>-1.076445</td>\n",
       "      <td>-1.050130</td>\n",
       "      <td>-0.591668</td>\n",
       "      <td>-0.766279</td>\n",
       "      <td>1.242952</td>\n",
       "      <td>-0.143926</td>\n",
       "      <td>-1.281984</td>\n",
       "      <td>2.380399</td>\n",
       "      <td>-0.888372</td>\n",
       "      <td>1.643636</td>\n",
       "      <td>-0.435452</td>\n",
       "      <td>-0.236376</td>\n",
       "      <td>0</td>\n",
       "    </tr>\n",
       "    <tr>\n",
       "      <th>7</th>\n",
       "      <td>0.461726</td>\n",
       "      <td>-2.629322</td>\n",
       "      <td>-3.592794</td>\n",
       "      <td>1.091202</td>\n",
       "      <td>0.023887</td>\n",
       "      <td>0.760636</td>\n",
       "      <td>-0.065575</td>\n",
       "      <td>-1.996482</td>\n",
       "      <td>-0.392681</td>\n",
       "      <td>-0.318858</td>\n",
       "      <td>1.265150</td>\n",
       "      <td>0.748241</td>\n",
       "      <td>2.283026</td>\n",
       "      <td>1.265902</td>\n",
       "      <td>1.487817</td>\n",
       "      <td>1.417512</td>\n",
       "      <td>-0.821993</td>\n",
       "      <td>1.069285</td>\n",
       "      <td>3.695313</td>\n",
       "      <td>1.282044</td>\n",
       "      <td>0</td>\n",
       "    </tr>\n",
       "  </tbody>\n",
       "</table>\n",
       "<p>66 rows × 21 columns</p>\n",
       "</div>"
      ],
      "text/plain": [
       "         Age   Pitches     Balls  Velocity    Max EV     Angle    Spot %  \\\n",
       "0  -0.039952 -1.273612 -1.567593 -1.332860 -1.097398  1.391750  1.315361   \n",
       "1   0.775068 -1.659983 -1.736661  1.859565 -0.871377  1.023090  1.830782   \n",
       "2  -0.583299 -1.497239 -1.655649  0.415373 -1.368623  1.084534  0.094627   \n",
       "3  -0.311625 -0.502041 -0.387635  1.175474  1.208015 -0.123850 -0.583559   \n",
       "4   0.503395 -1.876584 -1.884596 -1.256850 -2.363114 -0.062407 -2.808008   \n",
       "..       ...       ...       ...       ...       ...       ...       ...   \n",
       "3  -0.317437 -3.638204 -4.030108  2.125613 -2.340936  0.267865  2.773957   \n",
       "4   0.461726 -4.010166 -4.226146  1.030355 -0.965039 -0.850345  1.270675   \n",
       "5  -0.577158 -3.332482 -3.653113 -1.281858 -0.578068  0.192054 -0.351915   \n",
       "6  -0.317437 -3.327387 -3.894390  2.429852 -2.598917  1.120737 -2.642629   \n",
       "7   0.461726 -2.629322 -3.592794  1.091202  0.023887  0.760636 -0.065575   \n",
       "\n",
       "     Barrels   Barrel%  Barrel/PA       XBA      XSLG      WOBA     XWOBA  \\\n",
       "0  -0.973637  0.553677   0.663247  0.571868  0.734170  2.302722  1.097059   \n",
       "1  -1.181444  1.438589   1.923478  1.029114  1.426590  0.314374  0.722059   \n",
       "2  -1.285348 -0.390229  -0.203162  0.220140  0.479067  2.195243  0.784559   \n",
       "3  -0.038505  0.789654   0.978305  1.099459  0.989272  1.174200  1.034559   \n",
       "4  -1.493155  1.851548   2.396065  2.295333  2.046125  4.210461  2.378308   \n",
       "..       ...       ...        ...       ...       ...       ...       ...   \n",
       "3  -1.472624  4.715445   5.081304  3.282040  4.282120  0.549570  4.034290   \n",
       "4  -2.520340  1.377064   1.931209  3.250026  2.901235  0.506233  2.598829   \n",
       "5  -2.520340 -1.639546  -1.443892  1.457235 -0.023867  1.026270  0.522538   \n",
       "6  -2.520340 -1.076445  -1.050130 -0.591668 -0.766279  1.242952 -0.143926   \n",
       "7  -1.996482 -0.392681  -0.318858  1.265150  0.748241  2.283026  1.265902   \n",
       "\n",
       "    XWOBACON  HardHit%        K%       BB%       ERA      xERA  재계약  \n",
       "0  -0.047537 -0.714498 -1.154706  1.631764  2.803349  1.119177    1  \n",
       "1   0.598967  5.263142 -0.873926 -1.803383 -0.498265  0.682471    0  \n",
       "2  -0.862694 -0.036871 -1.558326  2.102332  3.230831  0.751425    0  \n",
       "3   0.683294  0.180938 -0.663342  0.173003  1.539095  1.038731    0  \n",
       "4   2.004411 -3.884825 -1.330193 -1.991610  4.722469  2.820031    1  \n",
       "..       ...       ...       ...       ...       ...       ...  ...  \n",
       "3   4.585229  2.688523 -1.767894  2.486017 -0.389335  5.957182    0  \n",
       "4   4.227835  0.242790 -0.855183 -1.342988  0.493476  3.184066    1  \n",
       "5   0.296504 -1.740757 -1.236862 -0.883508  0.427595  0.426934    0  \n",
       "6  -1.281984  2.380399 -0.888372  1.643636 -0.435452 -0.236376    0  \n",
       "7   1.487817  1.417512 -0.821993  1.069285  3.695313  1.282044    0  \n",
       "\n",
       "[66 rows x 21 columns]"
      ]
     },
     "execution_count": 83,
     "metadata": {},
     "output_type": "execute_result"
    }
   ],
   "source": [
    "major_pre"
   ]
  },
  {
   "cell_type": "code",
   "execution_count": 84,
   "id": "cc22c72b",
   "metadata": {
    "ExecuteTime": {
     "end_time": "2023-05-10T10:15:43.978961Z",
     "start_time": "2023-05-10T10:15:43.965445Z"
    }
   },
   "outputs": [
    {
     "name": "stdout",
     "output_type": "stream",
     "text": [
      "<class 'pandas.core.frame.DataFrame'>\n",
      "Int64Index: 66 entries, 0 to 7\n",
      "Data columns (total 21 columns):\n",
      " #   Column     Non-Null Count  Dtype  \n",
      "---  ------     --------------  -----  \n",
      " 0   Age        66 non-null     float64\n",
      " 1   Pitches    66 non-null     float64\n",
      " 2   Balls      66 non-null     float64\n",
      " 3   Velocity   66 non-null     float64\n",
      " 4   Max EV     66 non-null     float64\n",
      " 5   Angle      66 non-null     float64\n",
      " 6   Spot %     66 non-null     float64\n",
      " 7   Barrels    66 non-null     float64\n",
      " 8   Barrel%    66 non-null     float64\n",
      " 9   Barrel/PA  66 non-null     float64\n",
      " 10  XBA        66 non-null     float64\n",
      " 11  XSLG       66 non-null     float64\n",
      " 12  WOBA       66 non-null     float64\n",
      " 13  XWOBA      66 non-null     float64\n",
      " 14  XWOBACON   66 non-null     float64\n",
      " 15  HardHit%   66 non-null     float64\n",
      " 16  K%         66 non-null     float64\n",
      " 17  BB%        66 non-null     float64\n",
      " 18  ERA        66 non-null     float64\n",
      " 19  xERA       66 non-null     float64\n",
      " 20  재계약        66 non-null     int64  \n",
      "dtypes: float64(20), int64(1)\n",
      "memory usage: 11.3 KB\n"
     ]
    }
   ],
   "source": [
    "major_pre.info()"
   ]
  },
  {
   "cell_type": "code",
   "execution_count": 85,
   "id": "80b7fb79",
   "metadata": {
    "ExecuteTime": {
     "end_time": "2023-05-10T10:15:49.585874Z",
     "start_time": "2023-05-10T10:15:49.570384Z"
    }
   },
   "outputs": [],
   "source": [
    "major_pre.to_csv(\"./메이저기록표준화.csv\", index = False)"
   ]
  },
  {
   "cell_type": "code",
   "execution_count": 86,
   "id": "51159014",
   "metadata": {
    "ExecuteTime": {
     "end_time": "2023-05-10T10:16:02.320960Z",
     "start_time": "2023-05-10T10:16:02.301426Z"
    }
   },
   "outputs": [],
   "source": [
    "from sklearn.linear_model import LogisticRegression\n",
    "from sklearn.svm import SVC\n",
    "from sklearn.ensemble import RandomForestClassifier\n",
    "from xgboost import XGBClassifier\n",
    "from lightgbm import LGBMClassifier\n",
    "from catboost import CatBoostClassifier\n",
    "\n",
    "# 모델\n",
    "from sklearn.linear_model import LogisticRegression\n",
    "from sklearn.svm import SVC\n",
    "from sklearn.ensemble import RandomForestRegressor\n",
    "from xgboost import XGBRegressor\n",
    "from lightgbm import LGBMRegressor\n",
    "from catboost import CatBoostRegressor\n",
    "\n",
    "# 검증\n",
    "from sklearn.model_selection import cross_val_score\n",
    "from sklearn.model_selection import cross_val_predict\n",
    "from sklearn.model_selection import StratifiedKFold\n",
    "from sklearn.metrics import confusion_matrix, classification_report\n",
    "from sklearn.metrics import accuracy_score, precision_score, recall_score, f1_score, roc_auc_score\n",
    "from sklearn.metrics import roc_curve, auc\n",
    "#pd.set_option('display.max_columns', None) # 컬럼 수가 많으므로 요약되어 표시되지 않게 함\n",
    "import warnings\n",
    "warnings.filterwarnings(action='ignore')"
   ]
  },
  {
   "cell_type": "code",
   "execution_count": 104,
   "id": "10ba2a36",
   "metadata": {
    "ExecuteTime": {
     "end_time": "2023-05-10T10:18:39.349906Z",
     "start_time": "2023-05-10T10:18:39.336919Z"
    }
   },
   "outputs": [],
   "source": [
    "lr = LogisticRegression()\n",
    "svc = SVC()\n",
    "rf = RandomForestClassifier()\n",
    "xgb = XGBClassifier()\n",
    "lgbm = LGBMClassifier()\n",
    "cat = CatBoostClassifier(verbose=0)"
   ]
  },
  {
   "cell_type": "code",
   "execution_count": 88,
   "id": "11c246a5",
   "metadata": {
    "ExecuteTime": {
     "end_time": "2023-05-10T10:16:06.099029Z",
     "start_time": "2023-05-10T10:16:06.061022Z"
    }
   },
   "outputs": [
    {
     "data": {
      "text/html": [
       "<div>\n",
       "<style scoped>\n",
       "    .dataframe tbody tr th:only-of-type {\n",
       "        vertical-align: middle;\n",
       "    }\n",
       "\n",
       "    .dataframe tbody tr th {\n",
       "        vertical-align: top;\n",
       "    }\n",
       "\n",
       "    .dataframe thead th {\n",
       "        text-align: right;\n",
       "    }\n",
       "</style>\n",
       "<table border=\"1\" class=\"dataframe\">\n",
       "  <thead>\n",
       "    <tr style=\"text-align: right;\">\n",
       "      <th></th>\n",
       "      <th>Age</th>\n",
       "      <th>Pitches</th>\n",
       "      <th>Balls</th>\n",
       "      <th>Velocity</th>\n",
       "      <th>Max EV</th>\n",
       "      <th>Angle</th>\n",
       "      <th>Spot %</th>\n",
       "      <th>Barrels</th>\n",
       "      <th>Barrel%</th>\n",
       "      <th>Barrel/PA</th>\n",
       "      <th>XBA</th>\n",
       "      <th>XSLG</th>\n",
       "      <th>WOBA</th>\n",
       "      <th>XWOBA</th>\n",
       "      <th>XWOBACON</th>\n",
       "      <th>HardHit%</th>\n",
       "      <th>K%</th>\n",
       "      <th>BB%</th>\n",
       "      <th>ERA</th>\n",
       "      <th>xERA</th>\n",
       "      <th>재계약</th>\n",
       "    </tr>\n",
       "  </thead>\n",
       "  <tbody>\n",
       "    <tr>\n",
       "      <th>0</th>\n",
       "      <td>-0.039952</td>\n",
       "      <td>-1.273612</td>\n",
       "      <td>-1.567593</td>\n",
       "      <td>-1.332860</td>\n",
       "      <td>-1.097398</td>\n",
       "      <td>1.391750</td>\n",
       "      <td>1.315361</td>\n",
       "      <td>-0.973637</td>\n",
       "      <td>0.553677</td>\n",
       "      <td>0.663247</td>\n",
       "      <td>0.571868</td>\n",
       "      <td>0.734170</td>\n",
       "      <td>2.302722</td>\n",
       "      <td>1.097059</td>\n",
       "      <td>-0.047537</td>\n",
       "      <td>-0.714498</td>\n",
       "      <td>-1.154706</td>\n",
       "      <td>1.631764</td>\n",
       "      <td>2.803349</td>\n",
       "      <td>1.119177</td>\n",
       "      <td>1</td>\n",
       "    </tr>\n",
       "    <tr>\n",
       "      <th>1</th>\n",
       "      <td>0.775068</td>\n",
       "      <td>-1.659983</td>\n",
       "      <td>-1.736661</td>\n",
       "      <td>1.859565</td>\n",
       "      <td>-0.871377</td>\n",
       "      <td>1.023090</td>\n",
       "      <td>1.830782</td>\n",
       "      <td>-1.181444</td>\n",
       "      <td>1.438589</td>\n",
       "      <td>1.923478</td>\n",
       "      <td>1.029114</td>\n",
       "      <td>1.426590</td>\n",
       "      <td>0.314374</td>\n",
       "      <td>0.722059</td>\n",
       "      <td>0.598967</td>\n",
       "      <td>5.263142</td>\n",
       "      <td>-0.873926</td>\n",
       "      <td>-1.803383</td>\n",
       "      <td>-0.498265</td>\n",
       "      <td>0.682471</td>\n",
       "      <td>0</td>\n",
       "    </tr>\n",
       "    <tr>\n",
       "      <th>2</th>\n",
       "      <td>-0.583299</td>\n",
       "      <td>-1.497239</td>\n",
       "      <td>-1.655649</td>\n",
       "      <td>0.415373</td>\n",
       "      <td>-1.368623</td>\n",
       "      <td>1.084534</td>\n",
       "      <td>0.094627</td>\n",
       "      <td>-1.285348</td>\n",
       "      <td>-0.390229</td>\n",
       "      <td>-0.203162</td>\n",
       "      <td>0.220140</td>\n",
       "      <td>0.479067</td>\n",
       "      <td>2.195243</td>\n",
       "      <td>0.784559</td>\n",
       "      <td>-0.862694</td>\n",
       "      <td>-0.036871</td>\n",
       "      <td>-1.558326</td>\n",
       "      <td>2.102332</td>\n",
       "      <td>3.230831</td>\n",
       "      <td>0.751425</td>\n",
       "      <td>0</td>\n",
       "    </tr>\n",
       "    <tr>\n",
       "      <th>3</th>\n",
       "      <td>-0.311625</td>\n",
       "      <td>-0.502041</td>\n",
       "      <td>-0.387635</td>\n",
       "      <td>1.175474</td>\n",
       "      <td>1.208015</td>\n",
       "      <td>-0.123850</td>\n",
       "      <td>-0.583559</td>\n",
       "      <td>-0.038505</td>\n",
       "      <td>0.789654</td>\n",
       "      <td>0.978305</td>\n",
       "      <td>1.099459</td>\n",
       "      <td>0.989272</td>\n",
       "      <td>1.174200</td>\n",
       "      <td>1.034559</td>\n",
       "      <td>0.683294</td>\n",
       "      <td>0.180938</td>\n",
       "      <td>-0.663342</td>\n",
       "      <td>0.173003</td>\n",
       "      <td>1.539095</td>\n",
       "      <td>1.038731</td>\n",
       "      <td>0</td>\n",
       "    </tr>\n",
       "    <tr>\n",
       "      <th>4</th>\n",
       "      <td>0.503395</td>\n",
       "      <td>-1.876584</td>\n",
       "      <td>-1.884596</td>\n",
       "      <td>-1.256850</td>\n",
       "      <td>-2.363114</td>\n",
       "      <td>-0.062407</td>\n",
       "      <td>-2.808008</td>\n",
       "      <td>-1.493155</td>\n",
       "      <td>1.851548</td>\n",
       "      <td>2.396065</td>\n",
       "      <td>2.295333</td>\n",
       "      <td>2.046125</td>\n",
       "      <td>4.210461</td>\n",
       "      <td>2.378308</td>\n",
       "      <td>2.004411</td>\n",
       "      <td>-3.884825</td>\n",
       "      <td>-1.330193</td>\n",
       "      <td>-1.991610</td>\n",
       "      <td>4.722469</td>\n",
       "      <td>2.820031</td>\n",
       "      <td>1</td>\n",
       "    </tr>\n",
       "  </tbody>\n",
       "</table>\n",
       "</div>"
      ],
      "text/plain": [
       "        Age   Pitches     Balls  Velocity    Max EV     Angle    Spot %  \\\n",
       "0 -0.039952 -1.273612 -1.567593 -1.332860 -1.097398  1.391750  1.315361   \n",
       "1  0.775068 -1.659983 -1.736661  1.859565 -0.871377  1.023090  1.830782   \n",
       "2 -0.583299 -1.497239 -1.655649  0.415373 -1.368623  1.084534  0.094627   \n",
       "3 -0.311625 -0.502041 -0.387635  1.175474  1.208015 -0.123850 -0.583559   \n",
       "4  0.503395 -1.876584 -1.884596 -1.256850 -2.363114 -0.062407 -2.808008   \n",
       "\n",
       "    Barrels   Barrel%  Barrel/PA       XBA      XSLG      WOBA     XWOBA  \\\n",
       "0 -0.973637  0.553677   0.663247  0.571868  0.734170  2.302722  1.097059   \n",
       "1 -1.181444  1.438589   1.923478  1.029114  1.426590  0.314374  0.722059   \n",
       "2 -1.285348 -0.390229  -0.203162  0.220140  0.479067  2.195243  0.784559   \n",
       "3 -0.038505  0.789654   0.978305  1.099459  0.989272  1.174200  1.034559   \n",
       "4 -1.493155  1.851548   2.396065  2.295333  2.046125  4.210461  2.378308   \n",
       "\n",
       "   XWOBACON  HardHit%        K%       BB%       ERA      xERA  재계약  \n",
       "0 -0.047537 -0.714498 -1.154706  1.631764  2.803349  1.119177    1  \n",
       "1  0.598967  5.263142 -0.873926 -1.803383 -0.498265  0.682471    0  \n",
       "2 -0.862694 -0.036871 -1.558326  2.102332  3.230831  0.751425    0  \n",
       "3  0.683294  0.180938 -0.663342  0.173003  1.539095  1.038731    0  \n",
       "4  2.004411 -3.884825 -1.330193 -1.991610  4.722469  2.820031    1  "
      ]
     },
     "execution_count": 88,
     "metadata": {},
     "output_type": "execute_result"
    }
   ],
   "source": [
    "import numpy as np\n",
    "import pandas as pd\n",
    "\n",
    "data = pd.read_csv(\"./메이저기록표준화.csv\")\n",
    "data.head()"
   ]
  },
  {
   "cell_type": "code",
   "execution_count": 89,
   "id": "49f258a7",
   "metadata": {
    "ExecuteTime": {
     "end_time": "2023-05-10T10:16:15.413840Z",
     "start_time": "2023-05-10T10:16:15.399843Z"
    }
   },
   "outputs": [],
   "source": [
    "X = data.drop(columns = \"재계약\")\n",
    "y = data[\"재계약\"]"
   ]
  },
  {
   "cell_type": "code",
   "execution_count": 90,
   "id": "fcbd98cf",
   "metadata": {
    "ExecuteTime": {
     "end_time": "2023-05-10T10:16:15.713088Z",
     "start_time": "2023-05-10T10:16:15.689758Z"
    }
   },
   "outputs": [
    {
     "name": "stdout",
     "output_type": "stream",
     "text": [
      "<class 'pandas.core.frame.DataFrame'>\n",
      "RangeIndex: 66 entries, 0 to 65\n",
      "Data columns (total 20 columns):\n",
      " #   Column     Non-Null Count  Dtype  \n",
      "---  ------     --------------  -----  \n",
      " 0   Age        66 non-null     float64\n",
      " 1   Pitches    66 non-null     float64\n",
      " 2   Balls      66 non-null     float64\n",
      " 3   Velocity   66 non-null     float64\n",
      " 4   Max EV     66 non-null     float64\n",
      " 5   Angle      66 non-null     float64\n",
      " 6   Spot %     66 non-null     float64\n",
      " 7   Barrels    66 non-null     float64\n",
      " 8   Barrel%    66 non-null     float64\n",
      " 9   Barrel/PA  66 non-null     float64\n",
      " 10  XBA        66 non-null     float64\n",
      " 11  XSLG       66 non-null     float64\n",
      " 12  WOBA       66 non-null     float64\n",
      " 13  XWOBA      66 non-null     float64\n",
      " 14  XWOBACON   66 non-null     float64\n",
      " 15  HardHit%   66 non-null     float64\n",
      " 16  K%         66 non-null     float64\n",
      " 17  BB%        66 non-null     float64\n",
      " 18  ERA        66 non-null     float64\n",
      " 19  xERA       66 non-null     float64\n",
      "dtypes: float64(20)\n",
      "memory usage: 10.4 KB\n"
     ]
    }
   ],
   "source": [
    "X.info()"
   ]
  },
  {
   "cell_type": "code",
   "execution_count": 92,
   "id": "6eb600d2",
   "metadata": {
    "ExecuteTime": {
     "end_time": "2023-05-10T10:16:30.143051Z",
     "start_time": "2023-05-10T10:16:30.115318Z"
    }
   },
   "outputs": [
    {
     "data": {
      "text/plain": [
       "0.7428571428571428"
      ]
     },
     "execution_count": 92,
     "metadata": {},
     "output_type": "execute_result"
    }
   ],
   "source": [
    "cross_val_score(svc,X,y, cv = 5).mean()"
   ]
  },
  {
   "cell_type": "code",
   "execution_count": 94,
   "id": "c6aa7422",
   "metadata": {
    "ExecuteTime": {
     "end_time": "2023-05-10T10:17:14.699793Z",
     "start_time": "2023-05-10T10:17:14.666282Z"
    }
   },
   "outputs": [
    {
     "data": {
      "text/plain": [
       "0.575"
      ]
     },
     "execution_count": 94,
     "metadata": {},
     "output_type": "execute_result"
    }
   ],
   "source": [
    "cross_val_score(svc,X,y, cv = 5, scoring=\"roc_auc\").mean()"
   ]
  },
  {
   "cell_type": "code",
   "execution_count": 93,
   "id": "5600cd78",
   "metadata": {
    "ExecuteTime": {
     "end_time": "2023-05-10T10:16:35.746629Z",
     "start_time": "2023-05-10T10:16:35.672109Z"
    }
   },
   "outputs": [
    {
     "data": {
      "text/plain": [
       "0.6824175824175824"
      ]
     },
     "execution_count": 93,
     "metadata": {},
     "output_type": "execute_result"
    }
   ],
   "source": [
    "cross_val_score(lr,X,y, cv = 5).mean()"
   ]
  },
  {
   "cell_type": "code",
   "execution_count": 95,
   "id": "6f0279c2",
   "metadata": {
    "ExecuteTime": {
     "end_time": "2023-05-10T10:17:23.512933Z",
     "start_time": "2023-05-10T10:17:23.442894Z"
    }
   },
   "outputs": [
    {
     "data": {
      "text/plain": [
       "0.5205555555555555"
      ]
     },
     "execution_count": 95,
     "metadata": {},
     "output_type": "execute_result"
    }
   ],
   "source": [
    "cross_val_score(lr,X,y, cv = 5, scoring=\"roc_auc\").mean()"
   ]
  },
  {
   "cell_type": "code",
   "execution_count": 96,
   "id": "71a116b9",
   "metadata": {
    "ExecuteTime": {
     "end_time": "2023-05-10T10:17:30.013688Z",
     "start_time": "2023-05-10T10:17:29.675604Z"
    }
   },
   "outputs": [
    {
     "data": {
      "text/plain": [
       "0.6989010989010989"
      ]
     },
     "execution_count": 96,
     "metadata": {},
     "output_type": "execute_result"
    }
   ],
   "source": [
    "cross_val_score(xgb,X,y, cv = 5).mean()"
   ]
  },
  {
   "cell_type": "code",
   "execution_count": 97,
   "id": "155cb894",
   "metadata": {
    "ExecuteTime": {
     "end_time": "2023-05-10T10:17:37.275630Z",
     "start_time": "2023-05-10T10:17:36.987073Z"
    }
   },
   "outputs": [
    {
     "data": {
      "text/plain": [
       "0.49499999999999994"
      ]
     },
     "execution_count": 97,
     "metadata": {},
     "output_type": "execute_result"
    }
   ],
   "source": [
    "cross_val_score(xgb,X,y, cv = 5, scoring=\"roc_auc\").mean()"
   ]
  },
  {
   "cell_type": "code",
   "execution_count": 98,
   "id": "040addc1",
   "metadata": {
    "ExecuteTime": {
     "end_time": "2023-05-10T10:17:45.279306Z",
     "start_time": "2023-05-10T10:17:45.151788Z"
    }
   },
   "outputs": [
    {
     "data": {
      "text/plain": [
       "0.6527472527472528"
      ]
     },
     "execution_count": 98,
     "metadata": {},
     "output_type": "execute_result"
    }
   ],
   "source": [
    "cross_val_score(lgbm,X,y, cv = 5).mean()"
   ]
  },
  {
   "cell_type": "code",
   "execution_count": 99,
   "id": "53dadcd6",
   "metadata": {
    "ExecuteTime": {
     "end_time": "2023-05-10T10:17:51.726601Z",
     "start_time": "2023-05-10T10:17:51.591078Z"
    }
   },
   "outputs": [
    {
     "data": {
      "text/plain": [
       "0.5061111111111111"
      ]
     },
     "execution_count": 99,
     "metadata": {},
     "output_type": "execute_result"
    }
   ],
   "source": [
    "cross_val_score(lgbm,X,y, cv = 5, scoring=\"roc_auc\").mean()"
   ]
  },
  {
   "cell_type": "code",
   "execution_count": 100,
   "id": "bf7b5c00",
   "metadata": {
    "ExecuteTime": {
     "end_time": "2023-05-10T10:18:01.793247Z",
     "start_time": "2023-05-10T10:18:01.243602Z"
    }
   },
   "outputs": [
    {
     "data": {
      "text/plain": [
       "0.7274725274725274"
      ]
     },
     "execution_count": 100,
     "metadata": {},
     "output_type": "execute_result"
    }
   ],
   "source": [
    "cross_val_score(rf,X,y, cv = 5).mean()"
   ]
  },
  {
   "cell_type": "code",
   "execution_count": 101,
   "id": "5d8f557b",
   "metadata": {
    "ExecuteTime": {
     "end_time": "2023-05-10T10:18:07.670485Z",
     "start_time": "2023-05-10T10:18:07.117409Z"
    }
   },
   "outputs": [
    {
     "data": {
      "text/plain": [
       "0.5747222222222221"
      ]
     },
     "execution_count": 101,
     "metadata": {},
     "output_type": "execute_result"
    }
   ],
   "source": [
    "cross_val_score(rf,X,y, cv = 5, scoring=\"roc_auc\").mean()"
   ]
  },
  {
   "cell_type": "code",
   "execution_count": 105,
   "id": "32ddcf23",
   "metadata": {
    "ExecuteTime": {
     "end_time": "2023-05-10T10:18:51.166536Z",
     "start_time": "2023-05-10T10:18:42.983615Z"
    }
   },
   "outputs": [
    {
     "data": {
      "text/plain": [
       "0.7274725274725276"
      ]
     },
     "execution_count": 105,
     "metadata": {},
     "output_type": "execute_result"
    }
   ],
   "source": [
    "cross_val_score(cat,X,y, cv = 5).mean()"
   ]
  },
  {
   "cell_type": "code",
   "execution_count": 106,
   "id": "c1b263c7",
   "metadata": {
    "ExecuteTime": {
     "end_time": "2023-05-10T10:19:07.207963Z",
     "start_time": "2023-05-10T10:18:59.295853Z"
    }
   },
   "outputs": [
    {
     "data": {
      "text/plain": [
       "0.611111111111111"
      ]
     },
     "execution_count": 106,
     "metadata": {},
     "output_type": "execute_result"
    }
   ],
   "source": [
    "cross_val_score(cat,X,y, cv = 5, scoring=\"roc_auc\").mean()"
   ]
  },
  {
   "cell_type": "code",
   "execution_count": null,
   "id": "6be2a0bf",
   "metadata": {},
   "outputs": [],
   "source": []
  },
  {
   "cell_type": "code",
   "execution_count": null,
   "id": "fb1108d6",
   "metadata": {},
   "outputs": [],
   "source": []
  }
 ],
 "metadata": {
  "kernelspec": {
   "display_name": "Python 3 (ipykernel)",
   "language": "python",
   "name": "python3"
  },
  "language_info": {
   "codemirror_mode": {
    "name": "ipython",
    "version": 3
   },
   "file_extension": ".py",
   "mimetype": "text/x-python",
   "name": "python",
   "nbconvert_exporter": "python",
   "pygments_lexer": "ipython3",
   "version": "3.9.12"
  },
  "toc": {
   "base_numbering": 1,
   "nav_menu": {},
   "number_sections": true,
   "sideBar": true,
   "skip_h1_title": false,
   "title_cell": "Table of Contents",
   "title_sidebar": "Contents",
   "toc_cell": false,
   "toc_position": {
    "height": "calc(100% - 180px)",
    "left": "10px",
    "top": "150px",
    "width": "274.875px"
   },
   "toc_section_display": true,
   "toc_window_display": false
  },
  "varInspector": {
   "cols": {
    "lenName": 16,
    "lenType": 16,
    "lenVar": 40
   },
   "kernels_config": {
    "python": {
     "delete_cmd_postfix": "",
     "delete_cmd_prefix": "del ",
     "library": "var_list.py",
     "varRefreshCmd": "print(var_dic_list())"
    },
    "r": {
     "delete_cmd_postfix": ") ",
     "delete_cmd_prefix": "rm(",
     "library": "var_list.r",
     "varRefreshCmd": "cat(var_dic_list()) "
    }
   },
   "types_to_exclude": [
    "module",
    "function",
    "builtin_function_or_method",
    "instance",
    "_Feature"
   ],
   "window_display": false
  }
 },
 "nbformat": 4,
 "nbformat_minor": 5
}
