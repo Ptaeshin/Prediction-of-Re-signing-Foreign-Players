{
 "cells": [
  {
   "cell_type": "markdown",
   "id": "aa033b8f",
   "metadata": {},
   "source": [
    "# 기본 패키지"
   ]
  },
  {
   "cell_type": "code",
   "execution_count": 22,
   "id": "ebc4486e",
   "metadata": {
    "ExecuteTime": {
     "end_time": "2023-03-13T08:52:57.010997Z",
     "start_time": "2023-03-13T08:52:56.996993Z"
    }
   },
   "outputs": [],
   "source": [
    "# 기본패키지\n",
    "\n",
    "import pandas as pd\n",
    "import numpy as np\n",
    "import matplotlib.pyplot as plt\n",
    "plt.rcParams['font.family'] = 'Malgun Gothic'\n",
    "import seaborn as sns\n",
    "from sklearn.preprocessing import StandardScaler\n",
    "from sklearn.model_selection import train_test_split\n",
    "from collections import Counter\n",
    "\n",
    "# 모델\n",
    "from sklearn.linear_model import LogisticRegression\n",
    "from sklearn.svm import SVC\n",
    "from sklearn.ensemble import RandomForestClassifier\n",
    "from xgboost import XGBClassifier\n",
    "from lightgbm import LGBMClassifier\n",
    "from catboost import CatBoostClassifier\n",
    "\n",
    "# 모델\n",
    "from sklearn.linear_model import LogisticRegression\n",
    "from sklearn.svm import SVC\n",
    "from sklearn.ensemble import RandomForestRegressor\n",
    "from xgboost import XGBRegressor\n",
    "from lightgbm import LGBMRegressor\n",
    "from catboost import CatBoostRegressor\n",
    "\n",
    "# 검증\n",
    "from sklearn.model_selection import cross_val_score\n",
    "from sklearn.model_selection import cross_val_predict\n",
    "from sklearn.model_selection import StratifiedKFold\n",
    "from sklearn.metrics import confusion_matrix, classification_report\n",
    "from sklearn.metrics import accuracy_score, precision_score, recall_score, f1_score, roc_auc_score\n",
    "from sklearn.metrics import roc_curve, auc\n",
    "#pd.set_option('display.max_columns', None) # 컬럼 수가 많으므로 요약되어 표시되지 않게 함\n",
    "import warnings\n",
    "warnings.filterwarnings(action='ignore')"
   ]
  },
  {
   "cell_type": "code",
   "execution_count": 2,
   "id": "f7b3ab05",
   "metadata": {
    "ExecuteTime": {
     "end_time": "2023-03-13T08:49:52.287009Z",
     "start_time": "2023-03-13T08:49:52.274011Z"
    }
   },
   "outputs": [],
   "source": [
    "from catboost import CatBoostClassifier"
   ]
  },
  {
   "cell_type": "markdown",
   "id": "88b44ac1",
   "metadata": {},
   "source": [
    "# 배럴타구로 예측"
   ]
  },
  {
   "cell_type": "code",
   "execution_count": 3,
   "id": "f2228c3b",
   "metadata": {
    "ExecuteTime": {
     "end_time": "2023-03-13T08:49:52.333890Z",
     "start_time": "2023-03-13T08:49:52.290010Z"
    }
   },
   "outputs": [],
   "source": [
    "data = pd.read_csv(\"./외국인타자MLB배럴성적2.csv\")\n",
    "data2 = pd.read_csv(\"./외국인타자MLB배럴성적2_라벨수정.csv\")"
   ]
  },
  {
   "cell_type": "code",
   "execution_count": 4,
   "id": "ff5f713a",
   "metadata": {
    "ExecuteTime": {
     "end_time": "2023-03-13T08:49:52.365927Z",
     "start_time": "2023-03-13T08:49:52.336928Z"
    },
    "scrolled": true
   },
   "outputs": [
    {
     "data": {
      "text/html": [
       "<div>\n",
       "<style scoped>\n",
       "    .dataframe tbody tr th:only-of-type {\n",
       "        vertical-align: middle;\n",
       "    }\n",
       "\n",
       "    .dataframe tbody tr th {\n",
       "        vertical-align: top;\n",
       "    }\n",
       "\n",
       "    .dataframe thead th {\n",
       "        text-align: right;\n",
       "    }\n",
       "</style>\n",
       "<table border=\"1\" class=\"dataframe\">\n",
       "  <thead>\n",
       "    <tr style=\"text-align: right;\">\n",
       "      <th></th>\n",
       "      <th>영문이름</th>\n",
       "      <th>이름</th>\n",
       "      <th>구단</th>\n",
       "      <th>재계약</th>\n",
       "      <th>Season</th>\n",
       "      <th>Age</th>\n",
       "      <th>Pitches</th>\n",
       "      <th>Batted Balls</th>\n",
       "      <th>Barrels</th>\n",
       "      <th>Barrel%</th>\n",
       "      <th>...</th>\n",
       "      <th>Launch Angle</th>\n",
       "      <th>Sweet Spot %</th>\n",
       "      <th>XBA</th>\n",
       "      <th>XSLG</th>\n",
       "      <th>WOBA</th>\n",
       "      <th>XWOBA</th>\n",
       "      <th>XWOBACON</th>\n",
       "      <th>HardHit%</th>\n",
       "      <th>K%</th>\n",
       "      <th>BB%</th>\n",
       "    </tr>\n",
       "  </thead>\n",
       "  <tbody>\n",
       "    <tr>\n",
       "      <th>0</th>\n",
       "      <td>Daniel Casey Dorn</td>\n",
       "      <td>대니 돈</td>\n",
       "      <td>키움</td>\n",
       "      <td>1.0</td>\n",
       "      <td>2015</td>\n",
       "      <td>30</td>\n",
       "      <td>125</td>\n",
       "      <td>20</td>\n",
       "      <td>0</td>\n",
       "      <td>0.0</td>\n",
       "      <td>...</td>\n",
       "      <td>8.6</td>\n",
       "      <td>25.0</td>\n",
       "      <td>0.184</td>\n",
       "      <td>0.234</td>\n",
       "      <td>0.192</td>\n",
       "      <td>0.215</td>\n",
       "      <td>0.279</td>\n",
       "      <td>35.0</td>\n",
       "      <td>31.3</td>\n",
       "      <td>6.3</td>\n",
       "    </tr>\n",
       "    <tr>\n",
       "      <th>1</th>\n",
       "      <td>Hector Alexis Gomez</td>\n",
       "      <td>헥터 고메즈</td>\n",
       "      <td>SSG</td>\n",
       "      <td>0.0</td>\n",
       "      <td>2015</td>\n",
       "      <td>27</td>\n",
       "      <td>488</td>\n",
       "      <td>89</td>\n",
       "      <td>3</td>\n",
       "      <td>3.4</td>\n",
       "      <td>...</td>\n",
       "      <td>14.2</td>\n",
       "      <td>36.0</td>\n",
       "      <td>0.222</td>\n",
       "      <td>0.311</td>\n",
       "      <td>0.231</td>\n",
       "      <td>0.250</td>\n",
       "      <td>0.342</td>\n",
       "      <td>29.2</td>\n",
       "      <td>29.9</td>\n",
       "      <td>2.2</td>\n",
       "    </tr>\n",
       "    <tr>\n",
       "      <th>2</th>\n",
       "      <td>Wilin Arismendy Rosario</td>\n",
       "      <td>윌린 로사리오</td>\n",
       "      <td>한화</td>\n",
       "      <td>1.0</td>\n",
       "      <td>2015</td>\n",
       "      <td>26</td>\n",
       "      <td>859</td>\n",
       "      <td>177</td>\n",
       "      <td>8</td>\n",
       "      <td>4.5</td>\n",
       "      <td>...</td>\n",
       "      <td>5.8</td>\n",
       "      <td>26.0</td>\n",
       "      <td>0.231</td>\n",
       "      <td>0.354</td>\n",
       "      <td>0.303</td>\n",
       "      <td>0.269</td>\n",
       "      <td>0.340</td>\n",
       "      <td>33.9</td>\n",
       "      <td>23.1</td>\n",
       "      <td>3.3</td>\n",
       "    </tr>\n",
       "    <tr>\n",
       "      <th>3</th>\n",
       "      <td>Justin Adam Maxwell</td>\n",
       "      <td>저스틴 맥스웰</td>\n",
       "      <td>롯데</td>\n",
       "      <td>0.0</td>\n",
       "      <td>2015</td>\n",
       "      <td>31</td>\n",
       "      <td>1030</td>\n",
       "      <td>175</td>\n",
       "      <td>9</td>\n",
       "      <td>5.1</td>\n",
       "      <td>...</td>\n",
       "      <td>10.3</td>\n",
       "      <td>30.9</td>\n",
       "      <td>0.213</td>\n",
       "      <td>0.358</td>\n",
       "      <td>0.271</td>\n",
       "      <td>0.283</td>\n",
       "      <td>0.359</td>\n",
       "      <td>32.0</td>\n",
       "      <td>27.7</td>\n",
       "      <td>7.3</td>\n",
       "    </tr>\n",
       "    <tr>\n",
       "      <th>4</th>\n",
       "      <td>Xavier Ladel Scruggs</td>\n",
       "      <td>재비어 스크럭스</td>\n",
       "      <td>NC</td>\n",
       "      <td>1.0</td>\n",
       "      <td>2015</td>\n",
       "      <td>31</td>\n",
       "      <td>1030</td>\n",
       "      <td>175</td>\n",
       "      <td>9</td>\n",
       "      <td>5.1</td>\n",
       "      <td>...</td>\n",
       "      <td>10.3</td>\n",
       "      <td>30.9</td>\n",
       "      <td>0.213</td>\n",
       "      <td>0.358</td>\n",
       "      <td>0.271</td>\n",
       "      <td>0.283</td>\n",
       "      <td>0.359</td>\n",
       "      <td>32.0</td>\n",
       "      <td>27.7</td>\n",
       "      <td>7.3</td>\n",
       "    </tr>\n",
       "  </tbody>\n",
       "</table>\n",
       "<p>5 rows × 23 columns</p>\n",
       "</div>"
      ],
      "text/plain": [
       "                      영문이름        이름   구단  재계약  Season  Age  Pitches  \\\n",
       "0        Daniel Casey Dorn      대니 돈   키움  1.0    2015   30      125   \n",
       "1      Hector Alexis Gomez    헥터 고메즈  SSG  0.0    2015   27      488   \n",
       "2  Wilin Arismendy Rosario   윌린 로사리오   한화  1.0    2015   26      859   \n",
       "3      Justin Adam Maxwell   저스틴 맥스웰   롯데  0.0    2015   31     1030   \n",
       "4     Xavier Ladel Scruggs  재비어 스크럭스   NC  1.0    2015   31     1030   \n",
       "\n",
       "   Batted Balls  Barrels  Barrel%  ...  Launch Angle  Sweet Spot %    XBA  \\\n",
       "0            20        0      0.0  ...           8.6          25.0  0.184   \n",
       "1            89        3      3.4  ...          14.2          36.0  0.222   \n",
       "2           177        8      4.5  ...           5.8          26.0  0.231   \n",
       "3           175        9      5.1  ...          10.3          30.9  0.213   \n",
       "4           175        9      5.1  ...          10.3          30.9  0.213   \n",
       "\n",
       "    XSLG   WOBA  XWOBA  XWOBACON  HardHit%    K%  BB%  \n",
       "0  0.234  0.192  0.215     0.279      35.0  31.3  6.3  \n",
       "1  0.311  0.231  0.250     0.342      29.2  29.9  2.2  \n",
       "2  0.354  0.303  0.269     0.340      33.9  23.1  3.3  \n",
       "3  0.358  0.271  0.283     0.359      32.0  27.7  7.3  \n",
       "4  0.358  0.271  0.283     0.359      32.0  27.7  7.3  \n",
       "\n",
       "[5 rows x 23 columns]"
      ]
     },
     "execution_count": 4,
     "metadata": {},
     "output_type": "execute_result"
    }
   ],
   "source": [
    "data.head()"
   ]
  },
  {
   "cell_type": "code",
   "execution_count": 35,
   "id": "5309cf5a",
   "metadata": {
    "ExecuteTime": {
     "end_time": "2023-03-14T03:56:27.944803Z",
     "start_time": "2023-03-14T03:56:27.932800Z"
    }
   },
   "outputs": [],
   "source": [
    "df_original = data.copy()\n",
    "df = df_original.iloc[:-5]\n",
    "X_train = df.drop(columns = [\"영문이름\",\"이름\",\"Season\",\"재계약\",\"구단\"])\n",
    "y_train = df[\"재계약\"]"
   ]
  },
  {
   "cell_type": "code",
   "execution_count": 6,
   "id": "16e731bf",
   "metadata": {
    "ExecuteTime": {
     "end_time": "2023-03-13T08:49:58.077057Z",
     "start_time": "2023-03-13T08:49:58.068056Z"
    }
   },
   "outputs": [],
   "source": [
    "df_original2 = data2.copy()\n",
    "df2 = df_original2.iloc[:-5]\n",
    "X_train2 = df2.drop(columns = [\"영문이름\",\"이름\",\"Season\",\"재계약\"])\n",
    "y_train2 = df2[\"재계약\"]"
   ]
  },
  {
   "cell_type": "code",
   "execution_count": 7,
   "id": "971496d7",
   "metadata": {
    "ExecuteTime": {
     "end_time": "2023-03-13T08:49:58.202110Z",
     "start_time": "2023-03-13T08:49:58.180108Z"
    }
   },
   "outputs": [
    {
     "data": {
      "text/html": [
       "<div>\n",
       "<style scoped>\n",
       "    .dataframe tbody tr th:only-of-type {\n",
       "        vertical-align: middle;\n",
       "    }\n",
       "\n",
       "    .dataframe tbody tr th {\n",
       "        vertical-align: top;\n",
       "    }\n",
       "\n",
       "    .dataframe thead th {\n",
       "        text-align: right;\n",
       "    }\n",
       "</style>\n",
       "<table border=\"1\" class=\"dataframe\">\n",
       "  <thead>\n",
       "    <tr style=\"text-align: right;\">\n",
       "      <th></th>\n",
       "      <th>영문이름</th>\n",
       "      <th>이름</th>\n",
       "      <th>구단</th>\n",
       "      <th>재계약</th>\n",
       "      <th>Season</th>\n",
       "      <th>Age</th>\n",
       "      <th>Pitches</th>\n",
       "      <th>Batted Balls</th>\n",
       "      <th>Barrels</th>\n",
       "      <th>Barrel%</th>\n",
       "      <th>...</th>\n",
       "      <th>Launch Angle</th>\n",
       "      <th>Sweet Spot %</th>\n",
       "      <th>XBA</th>\n",
       "      <th>XSLG</th>\n",
       "      <th>WOBA</th>\n",
       "      <th>XWOBA</th>\n",
       "      <th>XWOBACON</th>\n",
       "      <th>HardHit%</th>\n",
       "      <th>K%</th>\n",
       "      <th>BB%</th>\n",
       "    </tr>\n",
       "  </thead>\n",
       "  <tbody>\n",
       "    <tr>\n",
       "      <th>43</th>\n",
       "      <td>Zach Reks</td>\n",
       "      <td>잭 렉스</td>\n",
       "      <td>롯데</td>\n",
       "      <td>1.0</td>\n",
       "      <td>2021</td>\n",
       "      <td>28</td>\n",
       "      <td>160</td>\n",
       "      <td>27</td>\n",
       "      <td>0</td>\n",
       "      <td>0.0</td>\n",
       "      <td>...</td>\n",
       "      <td>18.7</td>\n",
       "      <td>33.3</td>\n",
       "      <td>0.187</td>\n",
       "      <td>0.265</td>\n",
       "      <td>0.189</td>\n",
       "      <td>0.194</td>\n",
       "      <td>0.317</td>\n",
       "      <td>40.7</td>\n",
       "      <td>38.6</td>\n",
       "      <td>0.0</td>\n",
       "    </tr>\n",
       "    <tr>\n",
       "      <th>44</th>\n",
       "      <td>Sócrates Brito</td>\n",
       "      <td>소크라테스 브리토</td>\n",
       "      <td>KIA</td>\n",
       "      <td>1.0</td>\n",
       "      <td>2019</td>\n",
       "      <td>26</td>\n",
       "      <td>165</td>\n",
       "      <td>22</td>\n",
       "      <td>1</td>\n",
       "      <td>4.5</td>\n",
       "      <td>...</td>\n",
       "      <td>-2.1</td>\n",
       "      <td>22.7</td>\n",
       "      <td>0.176</td>\n",
       "      <td>0.260</td>\n",
       "      <td>0.140</td>\n",
       "      <td>0.235</td>\n",
       "      <td>0.333</td>\n",
       "      <td>40.9</td>\n",
       "      <td>39.5</td>\n",
       "      <td>9.3</td>\n",
       "    </tr>\n",
       "    <tr>\n",
       "      <th>45</th>\n",
       "      <td>Mike Tauchman</td>\n",
       "      <td>마이크 터크먼</td>\n",
       "      <td>한화</td>\n",
       "      <td>0.0</td>\n",
       "      <td>2021</td>\n",
       "      <td>30</td>\n",
       "      <td>870</td>\n",
       "      <td>109</td>\n",
       "      <td>6</td>\n",
       "      <td>5.5</td>\n",
       "      <td>...</td>\n",
       "      <td>10.0</td>\n",
       "      <td>36.7</td>\n",
       "      <td>0.196</td>\n",
       "      <td>0.304</td>\n",
       "      <td>0.260</td>\n",
       "      <td>0.276</td>\n",
       "      <td>0.331</td>\n",
       "      <td>35.8</td>\n",
       "      <td>30.4</td>\n",
       "      <td>12.0</td>\n",
       "    </tr>\n",
       "  </tbody>\n",
       "</table>\n",
       "<p>3 rows × 23 columns</p>\n",
       "</div>"
      ],
      "text/plain": [
       "              영문이름         이름   구단  재계약  Season  Age  Pitches  Batted Balls  \\\n",
       "43       Zach Reks       잭 렉스   롯데  1.0    2021   28      160            27   \n",
       "44  Sócrates Brito  소크라테스 브리토  KIA  1.0    2019   26      165            22   \n",
       "45   Mike Tauchman    마이크 터크먼   한화  0.0    2021   30      870           109   \n",
       "\n",
       "    Barrels  Barrel%  ...  Launch Angle  Sweet Spot %    XBA   XSLG   WOBA  \\\n",
       "43        0      0.0  ...          18.7          33.3  0.187  0.265  0.189   \n",
       "44        1      4.5  ...          -2.1          22.7  0.176  0.260  0.140   \n",
       "45        6      5.5  ...          10.0          36.7  0.196  0.304  0.260   \n",
       "\n",
       "    XWOBA  XWOBACON  HardHit%    K%   BB%  \n",
       "43  0.194     0.317      40.7  38.6   0.0  \n",
       "44  0.235     0.333      40.9  39.5   9.3  \n",
       "45  0.276     0.331      35.8  30.4  12.0  \n",
       "\n",
       "[3 rows x 23 columns]"
      ]
     },
     "execution_count": 7,
     "metadata": {},
     "output_type": "execute_result"
    }
   ],
   "source": [
    "df.tail(3)"
   ]
  },
  {
   "cell_type": "code",
   "execution_count": 8,
   "id": "81a17324",
   "metadata": {
    "ExecuteTime": {
     "end_time": "2023-03-13T08:49:58.438011Z",
     "start_time": "2023-03-13T08:49:58.427011Z"
    }
   },
   "outputs": [],
   "source": [
    "from sklearn.linear_model import LogisticRegression\n",
    "from sklearn.model_selection import StratifiedKFold\n",
    "\n",
    "lr = LogisticRegression()\n",
    "cat = CatBoostClassifier(verbose=0)\n"
   ]
  },
  {
   "cell_type": "code",
   "execution_count": 9,
   "id": "fbdc3063",
   "metadata": {
    "ExecuteTime": {
     "end_time": "2023-03-13T08:50:07.131123Z",
     "start_time": "2023-03-13T08:50:07.115128Z"
    }
   },
   "outputs": [
    {
     "data": {
      "text/plain": [
       "(46, 18)"
      ]
     },
     "execution_count": 9,
     "metadata": {},
     "output_type": "execute_result"
    }
   ],
   "source": [
    "X_train.shape"
   ]
  },
  {
   "cell_type": "code",
   "execution_count": 10,
   "id": "001ec687",
   "metadata": {
    "ExecuteTime": {
     "end_time": "2023-03-13T08:50:07.287522Z",
     "start_time": "2023-03-13T08:50:07.269526Z"
    }
   },
   "outputs": [
    {
     "data": {
      "text/plain": [
       "(46, 18)"
      ]
     },
     "execution_count": 10,
     "metadata": {},
     "output_type": "execute_result"
    }
   ],
   "source": [
    "X_train2.shape"
   ]
  },
  {
   "cell_type": "code",
   "execution_count": 11,
   "id": "d63eb96a",
   "metadata": {
    "ExecuteTime": {
     "end_time": "2023-03-13T08:50:07.413400Z",
     "start_time": "2023-03-13T08:50:07.405402Z"
    }
   },
   "outputs": [
    {
     "data": {
      "text/plain": [
       "(46,)"
      ]
     },
     "execution_count": 11,
     "metadata": {},
     "output_type": "execute_result"
    }
   ],
   "source": [
    "y_train.shape"
   ]
  },
  {
   "cell_type": "code",
   "execution_count": 12,
   "id": "fe84eaf1",
   "metadata": {
    "ExecuteTime": {
     "end_time": "2023-03-13T08:50:07.523917Z",
     "start_time": "2023-03-13T08:50:07.516920Z"
    }
   },
   "outputs": [
    {
     "data": {
      "text/plain": [
       "0.0    30\n",
       "1.0    16\n",
       "Name: 재계약, dtype: int64"
      ]
     },
     "execution_count": 12,
     "metadata": {},
     "output_type": "execute_result"
    }
   ],
   "source": [
    "y_train.value_counts()"
   ]
  },
  {
   "cell_type": "code",
   "execution_count": 13,
   "id": "3df8d0dd",
   "metadata": {
    "ExecuteTime": {
     "end_time": "2023-03-13T08:50:08.925835Z",
     "start_time": "2023-03-13T08:50:08.915838Z"
    }
   },
   "outputs": [
    {
     "data": {
      "text/plain": [
       "0.0    27\n",
       "1.0    19\n",
       "Name: 재계약, dtype: int64"
      ]
     },
     "execution_count": 13,
     "metadata": {},
     "output_type": "execute_result"
    }
   ],
   "source": [
    "y_train2.value_counts()"
   ]
  },
  {
   "cell_type": "code",
   "execution_count": 14,
   "id": "2b30e62b",
   "metadata": {
    "ExecuteTime": {
     "end_time": "2023-03-13T08:50:09.068224Z",
     "start_time": "2023-03-13T08:50:09.060232Z"
    }
   },
   "outputs": [
    {
     "data": {
      "text/plain": [
       "0.34782608695652173"
      ]
     },
     "execution_count": 14,
     "metadata": {},
     "output_type": "execute_result"
    }
   ],
   "source": [
    "16/46"
   ]
  },
  {
   "cell_type": "code",
   "execution_count": 15,
   "id": "f99ab84e",
   "metadata": {
    "ExecuteTime": {
     "end_time": "2023-03-13T08:50:09.224279Z",
     "start_time": "2023-03-13T08:50:09.204280Z"
    }
   },
   "outputs": [
    {
     "data": {
      "text/plain": [
       "0.41304347826086957"
      ]
     },
     "execution_count": 15,
     "metadata": {},
     "output_type": "execute_result"
    }
   ],
   "source": [
    "19/46"
   ]
  },
  {
   "cell_type": "code",
   "execution_count": 16,
   "id": "d8e5f8f3",
   "metadata": {
    "ExecuteTime": {
     "end_time": "2023-03-13T08:50:17.094611Z",
     "start_time": "2023-03-13T08:50:09.654813Z"
    }
   },
   "outputs": [
    {
     "data": {
      "text/plain": [
       "0.6977777777777777"
      ]
     },
     "execution_count": 16,
     "metadata": {},
     "output_type": "execute_result"
    }
   ],
   "source": [
    "skf = StratifiedKFold(n_splits = 5)\n",
    "\n",
    "cross_val_score(cat, X_train, y_train, cv = skf).mean()"
   ]
  },
  {
   "cell_type": "code",
   "execution_count": 36,
   "id": "e98edaf3",
   "metadata": {
    "ExecuteTime": {
     "end_time": "2023-03-14T03:56:47.911771Z",
     "start_time": "2023-03-14T03:56:47.643778Z"
    }
   },
   "outputs": [
    {
     "data": {
      "text/plain": [
       "0.48"
      ]
     },
     "execution_count": 36,
     "metadata": {},
     "output_type": "execute_result"
    }
   ],
   "source": [
    "xgb = XGBClassifier()\n",
    "skf = StratifiedKFold(n_splits = 5)\n",
    "cat = CatBoostClassifier(verbose=0)\n",
    "lgbm = LGBMClassifier()\n",
    "lr = LogisticRegression()\n",
    "svc = SVC()\n",
    "cross_val_score(xgb, X_train2, y_train2, cv = skf).mean()"
   ]
  },
  {
   "cell_type": "code",
   "execution_count": 37,
   "id": "296c37ee",
   "metadata": {
    "ExecuteTime": {
     "end_time": "2023-03-14T03:57:22.793830Z",
     "start_time": "2023-03-14T03:57:15.454498Z"
    }
   },
   "outputs": [
    {
     "data": {
      "text/plain": [
       "0.36"
      ]
     },
     "execution_count": 37,
     "metadata": {},
     "output_type": "execute_result"
    }
   ],
   "source": [
    "cross_val_score(cat, X_train, y_train, cv = skf, scoring=\"f1\").mean()"
   ]
  },
  {
   "cell_type": "code",
   "execution_count": 41,
   "id": "69bc21b4",
   "metadata": {
    "ExecuteTime": {
     "end_time": "2023-03-14T03:58:12.867526Z",
     "start_time": "2023-03-14T03:58:12.829537Z"
    }
   },
   "outputs": [
    {
     "data": {
      "text/plain": [
       "0.0"
      ]
     },
     "execution_count": 41,
     "metadata": {},
     "output_type": "execute_result"
    }
   ],
   "source": [
    "cross_val_score(svm, X_train, y_train, cv = skf, scoring=\"f1\").mean()"
   ]
  },
  {
   "cell_type": "code",
   "execution_count": 18,
   "id": "584f4601",
   "metadata": {
    "ExecuteTime": {
     "end_time": "2023-03-13T08:50:24.622792Z",
     "start_time": "2023-03-13T08:50:17.382701Z"
    }
   },
   "outputs": [
    {
     "data": {
      "text/plain": [
       "0.6"
      ]
     },
     "execution_count": 18,
     "metadata": {},
     "output_type": "execute_result"
    }
   ],
   "source": [
    "cross_val_score(cat, X_train, y_train, cv = skf, scoring=\"precision\").mean()"
   ]
  },
  {
   "cell_type": "code",
   "execution_count": 33,
   "id": "3afefcb7",
   "metadata": {
    "ExecuteTime": {
     "end_time": "2023-03-13T08:58:12.448055Z",
     "start_time": "2023-03-13T08:58:04.156676Z"
    }
   },
   "outputs": [
    {
     "name": "stdout",
     "output_type": "stream",
     "text": [
      "xgb_마이너리그 5-folds roc_auc : [0.39583333 0.61111111 0.38888889 0.61111111 0.61111111], mean : 0.5236111111111111\n",
      "cat_마이너리그 5-folds roc_auc : [0.3125     0.5        0.33333333 0.55555556 0.77777778], mean : 0.4958333333333333\n",
      "lr_마이너리그 5-folds roc_auc : [0.27083333 0.88888889 0.44444444 0.61111111 0.66666667], mean : 0.576388888888889\n",
      "lgbm_마이너리그 5-folds roc_auc : [0.5 0.5 0.5 0.5 0.5], mean : 0.5\n",
      "svm_마이너리그 5-folds roc_auc : [0.35416667 0.55555556 0.33333333 0.66666667 0.83333333], mean : 0.548611111111111\n"
     ]
    }
   ],
   "source": [
    "roc_auc = \"roc_auc\"\n",
    "\n",
    "\n",
    "cat_auc = cross_val_score(cat, X_train, y_train, cv=skf, scoring = roc_auc)\n",
    "lr_auc = cross_val_score(lr, X_train, y_train, cv = skf, scoring = roc_auc)\n",
    "\n",
    "print(f\"xgb_마이너리그 5-folds roc_auc : {cross_val_score(xgb, X_train, y_train, cv=skf, scoring = roc_auc)}, mean : {cross_val_score(xgb, X_train, y_train, cv=skf, scoring = roc_auc).mean()}\")\n",
    "print(f\"cat_마이너리그 5-folds roc_auc : {cat_auc}, mean : {cat_auc.mean()}\")\n",
    "print(f\"lr_마이너리그 5-folds roc_auc : {lr_auc}, mean : {lr_auc.mean()}\")\n",
    "print(f\"lgbm_마이너리그 5-folds roc_auc : {cross_val_score(lgbm, X_train, y_train, cv=skf, scoring = roc_auc)}, mean : {cross_val_score(lgbm, X_train, y_train, cv=skf, scoring = roc_auc).mean()}\")\n",
    "#print(f\"lr_마이너리그 5-folds roc_auc : {cross_val_score(lr, X_train y_train, cv=kfold, scoring = roc_auc)}, mean : {cross_val_score(lr, X_train, y_train, cv=kfold, scoring = roc_auc).mean()}\")\n",
    "print(f\"svm_마이너리그 5-folds roc_auc : {cross_val_score(svc, X_train, y_train, cv=skf, scoring = roc_auc)}, mean : {cross_val_score(svc, X_train, y_train, cv=skf, scoring = roc_auc).mean()}\")\n",
    "\n"
   ]
  },
  {
   "cell_type": "code",
   "execution_count": 34,
   "id": "5a3af8c2",
   "metadata": {
    "ExecuteTime": {
     "end_time": "2023-03-13T09:00:16.678538Z",
     "start_time": "2023-03-13T09:00:08.718604Z"
    }
   },
   "outputs": [
    {
     "name": "stdout",
     "output_type": "stream",
     "text": [
      "xgb_마이너리그 5-folds roc_auc : [0.5        0.77777778 0.33333333 0.66666667 0.77777778], mean : 0.611111111111111\n",
      "cat_마이너리그 5-folds roc_auc : [0.6        0.77777778 0.77777778 0.66666667 0.66666667], mean : 0.6977777777777777\n",
      "lr_마이너리그 5-folds roc_auc : [0.2        0.77777778 0.66666667 0.55555556 0.55555556], mean : 0.5511111111111111\n",
      "lgbm_마이너리그 5-folds roc_auc : [0.6        0.66666667 0.66666667 0.66666667 0.66666667], mean : 0.6533333333333332\n",
      "svm_마이너리그 5-folds roc_auc : [0.6        0.66666667 0.66666667 0.66666667 0.66666667], mean : 0.6533333333333332\n"
     ]
    }
   ],
   "source": [
    "accuracy = \"accuracy\"\n",
    "\n",
    "\n",
    "cat_accuracy = cross_val_score(cat, X_train, y_train, cv=skf, scoring = accuracy)\n",
    "lr_accuracy = cross_val_score(lr, X_train, y_train, cv = skf, scoring = accuracy)\n",
    "\n",
    "print(f\"xgb_마이너리그 5-folds roc_auc : {cross_val_score(xgb, X_train, y_train, cv=skf, scoring = accuracy)}, mean : {cross_val_score(xgb, X_train, y_train, cv=skf, scoring = accuracy).mean()}\")\n",
    "print(f\"cat_마이너리그 5-folds roc_auc : {cat_accuracy}, mean : {cat_accuracy.mean()}\")\n",
    "print(f\"lr_마이너리그 5-folds roc_auc : {lr_accuracy}, mean : {lr_accuracy.mean()}\")\n",
    "print(f\"lgbm_마이너리그 5-folds roc_auc : {cross_val_score(lgbm, X_train, y_train, cv=skf, scoring = accuracy)}, mean : {cross_val_score(lgbm, X_train, y_train, cv=skf, scoring = accuracy).mean()}\")\n",
    "#print(f\"lr_마이너리그 5-folds roc_auc : {cross_val_score(lr, X_train y_train, cv=kfold, scoring = roc_auc)}, mean : {cross_val_score(lr, X_train, y_train, cv=kfold, scoring = roc_auc).mean()}\")\n",
    "print(f\"svm_마이너리그 5-folds roc_auc : {cross_val_score(svc, X_train, y_train, cv=skf, scoring = accuracy)}, mean : {cross_val_score(svc, X_train, y_train, cv=skf, scoring = accuracy).mean()}\")\n",
    "\n"
   ]
  },
  {
   "cell_type": "code",
   "execution_count": 32,
   "id": "9d16af11",
   "metadata": {
    "ExecuteTime": {
     "end_time": "2023-03-13T08:57:32.714026Z",
     "start_time": "2023-03-13T08:57:32.630520Z"
    }
   },
   "outputs": [
    {
     "data": {
      "text/plain": [
       "array([0.27083333, 0.88888889, 0.44444444, 0.61111111, 0.66666667])"
      ]
     },
     "execution_count": 32,
     "metadata": {},
     "output_type": "execute_result"
    }
   ],
   "source": [
    "lr_auc = cross_val_score(lr, X_train, y_train, cv = skf, scoring = roc_auc)\n",
    "lr_auc"
   ]
  },
  {
   "cell_type": "code",
   "execution_count": null,
   "id": "762c9b1f",
   "metadata": {},
   "outputs": [],
   "source": []
  },
  {
   "cell_type": "code",
   "execution_count": 39,
   "id": "dd5f24f8",
   "metadata": {
    "ExecuteTime": {
     "end_time": "2023-03-08T07:23:08.573935Z",
     "start_time": "2023-03-08T07:23:08.306372Z"
    }
   },
   "outputs": [
    {
     "data": {
      "text/plain": [
       "0.3133333333333333"
      ]
     },
     "execution_count": 39,
     "metadata": {},
     "output_type": "execute_result"
    }
   ],
   "source": [
    "cross_val_score(xgb, X_train2, y_train2, cv = skf, scoring=\"precision\").mean()"
   ]
  },
  {
   "cell_type": "code",
   "execution_count": null,
   "id": "4a84a907",
   "metadata": {},
   "outputs": [],
   "source": []
  },
  {
   "cell_type": "code",
   "execution_count": 106,
   "id": "5b028dfb",
   "metadata": {
    "ExecuteTime": {
     "end_time": "2023-03-03T06:46:50.429895Z",
     "start_time": "2023-03-03T06:46:43.415102Z"
    }
   },
   "outputs": [
    {
     "data": {
      "text/plain": [
       "0.26666666666666666"
      ]
     },
     "execution_count": 106,
     "metadata": {},
     "output_type": "execute_result"
    }
   ],
   "source": [
    "cross_val_score(cat, X_train, y_train, cv = skf, scoring=\"recall\").mean()"
   ]
  },
  {
   "cell_type": "code",
   "execution_count": null,
   "id": "0555d4ea",
   "metadata": {},
   "outputs": [],
   "source": [
    "cross_val_pre"
   ]
  },
  {
   "cell_type": "code",
   "execution_count": 107,
   "id": "53421100",
   "metadata": {
    "ExecuteTime": {
     "end_time": "2023-03-03T06:47:31.548845Z",
     "start_time": "2023-03-03T06:47:24.502413Z"
    }
   },
   "outputs": [
    {
     "data": {
      "text/plain": [
       "0.36"
      ]
     },
     "execution_count": 107,
     "metadata": {},
     "output_type": "execute_result"
    }
   ],
   "source": [
    "cross_val_score(cat, X_train, y_train, cv = skf, scoring=\"f1\").mean()"
   ]
  },
  {
   "cell_type": "code",
   "execution_count": 19,
   "id": "657d58c1",
   "metadata": {
    "ExecuteTime": {
     "end_time": "2023-03-08T07:15:25.833354Z",
     "start_time": "2023-03-08T07:15:18.570864Z"
    }
   },
   "outputs": [],
   "source": [
    "temp = cross_val_predict(cat, X_train2, y_train2, cv=skf)\n",
    "temp2 = df_original2.copy()\n",
    "temp2 = temp2.iloc[:-5]"
   ]
  },
  {
   "cell_type": "code",
   "execution_count": 20,
   "id": "1693459f",
   "metadata": {
    "ExecuteTime": {
     "end_time": "2023-03-08T07:15:27.087773Z",
     "start_time": "2023-03-08T07:15:27.033254Z"
    },
    "scrolled": true
   },
   "outputs": [
    {
     "data": {
      "text/html": [
       "<div>\n",
       "<style scoped>\n",
       "    .dataframe tbody tr th:only-of-type {\n",
       "        vertical-align: middle;\n",
       "    }\n",
       "\n",
       "    .dataframe tbody tr th {\n",
       "        vertical-align: top;\n",
       "    }\n",
       "\n",
       "    .dataframe thead th {\n",
       "        text-align: right;\n",
       "    }\n",
       "</style>\n",
       "<table border=\"1\" class=\"dataframe\">\n",
       "  <thead>\n",
       "    <tr style=\"text-align: right;\">\n",
       "      <th></th>\n",
       "      <th>영문이름</th>\n",
       "      <th>이름</th>\n",
       "      <th>재계약</th>\n",
       "      <th>Season</th>\n",
       "      <th>Age</th>\n",
       "      <th>Pitches</th>\n",
       "      <th>Batted Balls</th>\n",
       "      <th>Barrels</th>\n",
       "      <th>Barrel%</th>\n",
       "      <th>Barrel/PA</th>\n",
       "      <th>...</th>\n",
       "      <th>Launch Angle</th>\n",
       "      <th>Sweet Spot %</th>\n",
       "      <th>XBA</th>\n",
       "      <th>XSLG</th>\n",
       "      <th>WOBA</th>\n",
       "      <th>XWOBACON</th>\n",
       "      <th>HardHit%</th>\n",
       "      <th>HardHit%.1</th>\n",
       "      <th>K%</th>\n",
       "      <th>BB%</th>\n",
       "    </tr>\n",
       "  </thead>\n",
       "  <tbody>\n",
       "    <tr>\n",
       "      <th>0</th>\n",
       "      <td>Daniel Casey Dorn</td>\n",
       "      <td>대니돈</td>\n",
       "      <td>1.0</td>\n",
       "      <td>2015</td>\n",
       "      <td>30</td>\n",
       "      <td>125</td>\n",
       "      <td>20</td>\n",
       "      <td>0</td>\n",
       "      <td>0.0</td>\n",
       "      <td>0.0</td>\n",
       "      <td>...</td>\n",
       "      <td>8.6</td>\n",
       "      <td>25.0</td>\n",
       "      <td>0.184</td>\n",
       "      <td>0.234</td>\n",
       "      <td>0.192</td>\n",
       "      <td>0.215</td>\n",
       "      <td>0.279</td>\n",
       "      <td>35.0</td>\n",
       "      <td>31.3</td>\n",
       "      <td>6.3</td>\n",
       "    </tr>\n",
       "    <tr>\n",
       "      <th>1</th>\n",
       "      <td>Hector Alexis Gomez</td>\n",
       "      <td>헥터 고메즈</td>\n",
       "      <td>0.0</td>\n",
       "      <td>2015</td>\n",
       "      <td>27</td>\n",
       "      <td>488</td>\n",
       "      <td>89</td>\n",
       "      <td>3</td>\n",
       "      <td>3.4</td>\n",
       "      <td>2.2</td>\n",
       "      <td>...</td>\n",
       "      <td>14.2</td>\n",
       "      <td>36.0</td>\n",
       "      <td>0.222</td>\n",
       "      <td>0.311</td>\n",
       "      <td>0.231</td>\n",
       "      <td>0.250</td>\n",
       "      <td>0.342</td>\n",
       "      <td>29.2</td>\n",
       "      <td>29.9</td>\n",
       "      <td>2.2</td>\n",
       "    </tr>\n",
       "    <tr>\n",
       "      <th>2</th>\n",
       "      <td>Wilin Arismendy Rosario</td>\n",
       "      <td>윌린 로사리오</td>\n",
       "      <td>1.0</td>\n",
       "      <td>2015</td>\n",
       "      <td>26</td>\n",
       "      <td>859</td>\n",
       "      <td>177</td>\n",
       "      <td>8</td>\n",
       "      <td>4.5</td>\n",
       "      <td>3.3</td>\n",
       "      <td>...</td>\n",
       "      <td>5.8</td>\n",
       "      <td>26.0</td>\n",
       "      <td>0.231</td>\n",
       "      <td>0.354</td>\n",
       "      <td>0.303</td>\n",
       "      <td>0.269</td>\n",
       "      <td>0.340</td>\n",
       "      <td>33.9</td>\n",
       "      <td>23.1</td>\n",
       "      <td>3.3</td>\n",
       "    </tr>\n",
       "    <tr>\n",
       "      <th>3</th>\n",
       "      <td>Justin Adam Maxwell</td>\n",
       "      <td>저스틴 맥스웰</td>\n",
       "      <td>0.0</td>\n",
       "      <td>2015</td>\n",
       "      <td>31</td>\n",
       "      <td>1030</td>\n",
       "      <td>175</td>\n",
       "      <td>9</td>\n",
       "      <td>5.1</td>\n",
       "      <td>3.3</td>\n",
       "      <td>...</td>\n",
       "      <td>10.3</td>\n",
       "      <td>30.9</td>\n",
       "      <td>0.213</td>\n",
       "      <td>0.358</td>\n",
       "      <td>0.271</td>\n",
       "      <td>0.283</td>\n",
       "      <td>0.359</td>\n",
       "      <td>32.0</td>\n",
       "      <td>27.7</td>\n",
       "      <td>7.3</td>\n",
       "    </tr>\n",
       "    <tr>\n",
       "      <th>4</th>\n",
       "      <td>Xavier Ladel Scruggs</td>\n",
       "      <td>재비어 스크럭스</td>\n",
       "      <td>1.0</td>\n",
       "      <td>2015</td>\n",
       "      <td>31</td>\n",
       "      <td>1030</td>\n",
       "      <td>175</td>\n",
       "      <td>9</td>\n",
       "      <td>5.1</td>\n",
       "      <td>3.3</td>\n",
       "      <td>...</td>\n",
       "      <td>10.3</td>\n",
       "      <td>30.9</td>\n",
       "      <td>0.213</td>\n",
       "      <td>0.358</td>\n",
       "      <td>0.271</td>\n",
       "      <td>0.283</td>\n",
       "      <td>0.359</td>\n",
       "      <td>32.0</td>\n",
       "      <td>27.7</td>\n",
       "      <td>7.3</td>\n",
       "    </tr>\n",
       "    <tr>\n",
       "      <th>5</th>\n",
       "      <td>James Anthony Loney</td>\n",
       "      <td>제임스 로니</td>\n",
       "      <td>0.0</td>\n",
       "      <td>2016</td>\n",
       "      <td>32</td>\n",
       "      <td>1248</td>\n",
       "      <td>308</td>\n",
       "      <td>5</td>\n",
       "      <td>1.6</td>\n",
       "      <td>1.4</td>\n",
       "      <td>...</td>\n",
       "      <td>13.0</td>\n",
       "      <td>34.1</td>\n",
       "      <td>0.271</td>\n",
       "      <td>0.383</td>\n",
       "      <td>0.302</td>\n",
       "      <td>0.302</td>\n",
       "      <td>0.316</td>\n",
       "      <td>31.5</td>\n",
       "      <td>10.1</td>\n",
       "      <td>4.4</td>\n",
       "    </tr>\n",
       "    <tr>\n",
       "      <th>6</th>\n",
       "      <td>Danny Worth</td>\n",
       "      <td>대니 워스</td>\n",
       "      <td>0.0</td>\n",
       "      <td>2016</td>\n",
       "      <td>30</td>\n",
       "      <td>145</td>\n",
       "      <td>33</td>\n",
       "      <td>0</td>\n",
       "      <td>0.0</td>\n",
       "      <td>0.0</td>\n",
       "      <td>...</td>\n",
       "      <td>10.9</td>\n",
       "      <td>30.3</td>\n",
       "      <td>0.248</td>\n",
       "      <td>0.313</td>\n",
       "      <td>0.189</td>\n",
       "      <td>0.253</td>\n",
       "      <td>0.286</td>\n",
       "      <td>30.3</td>\n",
       "      <td>15.0</td>\n",
       "      <td>2.5</td>\n",
       "    </tr>\n",
       "    <tr>\n",
       "      <th>7</th>\n",
       "      <td>James \"Jamie\" Robert Romak</td>\n",
       "      <td>제이미 로맥</td>\n",
       "      <td>1.0</td>\n",
       "      <td>2015</td>\n",
       "      <td>29</td>\n",
       "      <td>68</td>\n",
       "      <td>9</td>\n",
       "      <td>0</td>\n",
       "      <td>0.0</td>\n",
       "      <td>0.0</td>\n",
       "      <td>...</td>\n",
       "      <td>23.8</td>\n",
       "      <td>22.2</td>\n",
       "      <td>0.236</td>\n",
       "      <td>0.306</td>\n",
       "      <td>0.365</td>\n",
       "      <td>0.265</td>\n",
       "      <td>0.395</td>\n",
       "      <td>33.3</td>\n",
       "      <td>37.5</td>\n",
       "      <td>6.3</td>\n",
       "    </tr>\n",
       "    <tr>\n",
       "      <th>8</th>\n",
       "      <td>Darin Cortland Ruf</td>\n",
       "      <td>다린 러프</td>\n",
       "      <td>1.0</td>\n",
       "      <td>2016</td>\n",
       "      <td>29</td>\n",
       "      <td>351</td>\n",
       "      <td>60</td>\n",
       "      <td>5</td>\n",
       "      <td>8.3</td>\n",
       "      <td>5.6</td>\n",
       "      <td>...</td>\n",
       "      <td>15.2</td>\n",
       "      <td>33.3</td>\n",
       "      <td>0.236</td>\n",
       "      <td>0.455</td>\n",
       "      <td>0.245</td>\n",
       "      <td>0.305</td>\n",
       "      <td>0.408</td>\n",
       "      <td>40.0</td>\n",
       "      <td>28.1</td>\n",
       "      <td>4.5</td>\n",
       "    </tr>\n",
       "    <tr>\n",
       "      <th>9</th>\n",
       "      <td>jimmy paredes</td>\n",
       "      <td>지미 파레디스</td>\n",
       "      <td>0.0</td>\n",
       "      <td>2016</td>\n",
       "      <td>27</td>\n",
       "      <td>632</td>\n",
       "      <td>112</td>\n",
       "      <td>11</td>\n",
       "      <td>9.8</td>\n",
       "      <td>6.6</td>\n",
       "      <td>...</td>\n",
       "      <td>6.3</td>\n",
       "      <td>24.1</td>\n",
       "      <td>0.220</td>\n",
       "      <td>0.384</td>\n",
       "      <td>0.266</td>\n",
       "      <td>0.279</td>\n",
       "      <td>0.376</td>\n",
       "      <td>37.5</td>\n",
       "      <td>28.7</td>\n",
       "      <td>4.2</td>\n",
       "    </tr>\n",
       "    <tr>\n",
       "      <th>10</th>\n",
       "      <td>Scott T. Van Slyke</td>\n",
       "      <td>스캇 반 슬라이크</td>\n",
       "      <td>0.0</td>\n",
       "      <td>2017</td>\n",
       "      <td>30</td>\n",
       "      <td>200</td>\n",
       "      <td>26</td>\n",
       "      <td>4</td>\n",
       "      <td>15.4</td>\n",
       "      <td>8.3</td>\n",
       "      <td>...</td>\n",
       "      <td>17.9</td>\n",
       "      <td>38.5</td>\n",
       "      <td>0.200</td>\n",
       "      <td>0.398</td>\n",
       "      <td>0.236</td>\n",
       "      <td>0.304</td>\n",
       "      <td>0.390</td>\n",
       "      <td>42.3</td>\n",
       "      <td>31.3</td>\n",
       "      <td>14.6</td>\n",
       "    </tr>\n",
       "    <tr>\n",
       "      <th>11</th>\n",
       "      <td>Adonis García</td>\n",
       "      <td>아도니스 가르시아</td>\n",
       "      <td>0.0</td>\n",
       "      <td>2017</td>\n",
       "      <td>32</td>\n",
       "      <td>707</td>\n",
       "      <td>151</td>\n",
       "      <td>5</td>\n",
       "      <td>3.3</td>\n",
       "      <td>2.7</td>\n",
       "      <td>...</td>\n",
       "      <td>6.3</td>\n",
       "      <td>23.8</td>\n",
       "      <td>0.253</td>\n",
       "      <td>0.383</td>\n",
       "      <td>0.269</td>\n",
       "      <td>0.295</td>\n",
       "      <td>0.317</td>\n",
       "      <td>34.0</td>\n",
       "      <td>12.6</td>\n",
       "      <td>3.8</td>\n",
       "    </tr>\n",
       "    <tr>\n",
       "      <th>12</th>\n",
       "      <td>Jerry Sands</td>\n",
       "      <td>제리 샌즈</td>\n",
       "      <td>1.0</td>\n",
       "      <td>2016</td>\n",
       "      <td>28</td>\n",
       "      <td>228</td>\n",
       "      <td>31</td>\n",
       "      <td>1</td>\n",
       "      <td>3.2</td>\n",
       "      <td>1.7</td>\n",
       "      <td>...</td>\n",
       "      <td>2.6</td>\n",
       "      <td>22.6</td>\n",
       "      <td>0.204</td>\n",
       "      <td>0.249</td>\n",
       "      <td>0.252</td>\n",
       "      <td>0.223</td>\n",
       "      <td>0.355</td>\n",
       "      <td>25.8</td>\n",
       "      <td>41.4</td>\n",
       "      <td>5.2</td>\n",
       "    </tr>\n",
       "    <tr>\n",
       "      <th>13</th>\n",
       "      <td>Jared Hoying</td>\n",
       "      <td>제라드 호잉</td>\n",
       "      <td>1.0</td>\n",
       "      <td>2017</td>\n",
       "      <td>28</td>\n",
       "      <td>283</td>\n",
       "      <td>50</td>\n",
       "      <td>0</td>\n",
       "      <td>0.0</td>\n",
       "      <td>0.0</td>\n",
       "      <td>...</td>\n",
       "      <td>10.2</td>\n",
       "      <td>28.0</td>\n",
       "      <td>0.212</td>\n",
       "      <td>0.256</td>\n",
       "      <td>0.246</td>\n",
       "      <td>0.225</td>\n",
       "      <td>0.291</td>\n",
       "      <td>20.0</td>\n",
       "      <td>29.9</td>\n",
       "      <td>5.2</td>\n",
       "    </tr>\n",
       "    <tr>\n",
       "      <th>14</th>\n",
       "      <td>José Miguel Fernández</td>\n",
       "      <td>호세 미겔 페르난데스</td>\n",
       "      <td>1.0</td>\n",
       "      <td>2018</td>\n",
       "      <td>30</td>\n",
       "      <td>445</td>\n",
       "      <td>101</td>\n",
       "      <td>3</td>\n",
       "      <td>3.0</td>\n",
       "      <td>2.4</td>\n",
       "      <td>...</td>\n",
       "      <td>11.7</td>\n",
       "      <td>36.6</td>\n",
       "      <td>0.279</td>\n",
       "      <td>0.394</td>\n",
       "      <td>0.304</td>\n",
       "      <td>0.313</td>\n",
       "      <td>0.334</td>\n",
       "      <td>36.6</td>\n",
       "      <td>12.2</td>\n",
       "      <td>4.9</td>\n",
       "    </tr>\n",
       "    <tr>\n",
       "      <th>15</th>\n",
       "      <td>Jeremy Hazelbaker</td>\n",
       "      <td>제레미 헤즐베이커</td>\n",
       "      <td>0.0</td>\n",
       "      <td>2017</td>\n",
       "      <td>29</td>\n",
       "      <td>254</td>\n",
       "      <td>32</td>\n",
       "      <td>0</td>\n",
       "      <td>0.0</td>\n",
       "      <td>0.0</td>\n",
       "      <td>...</td>\n",
       "      <td>13.7</td>\n",
       "      <td>34.4</td>\n",
       "      <td>0.238</td>\n",
       "      <td>0.344</td>\n",
       "      <td>0.422</td>\n",
       "      <td>0.301</td>\n",
       "      <td>0.403</td>\n",
       "      <td>34.4</td>\n",
       "      <td>32.8</td>\n",
       "      <td>14.8</td>\n",
       "    </tr>\n",
       "    <tr>\n",
       "      <th>16</th>\n",
       "      <td>Preston Tucker</td>\n",
       "      <td>프레스톤 터커</td>\n",
       "      <td>1.0</td>\n",
       "      <td>2018</td>\n",
       "      <td>27</td>\n",
       "      <td>716</td>\n",
       "      <td>124</td>\n",
       "      <td>5</td>\n",
       "      <td>4.0</td>\n",
       "      <td>2.7</td>\n",
       "      <td>...</td>\n",
       "      <td>11.7</td>\n",
       "      <td>28.2</td>\n",
       "      <td>0.224</td>\n",
       "      <td>0.344</td>\n",
       "      <td>0.306</td>\n",
       "      <td>0.287</td>\n",
       "      <td>0.330</td>\n",
       "      <td>39.5</td>\n",
       "      <td>23.4</td>\n",
       "      <td>7.1</td>\n",
       "    </tr>\n",
       "    <tr>\n",
       "      <th>17</th>\n",
       "      <td>Mac Williamson</td>\n",
       "      <td>맥 윌리엄슨</td>\n",
       "      <td>0.0</td>\n",
       "      <td>2018</td>\n",
       "      <td>27</td>\n",
       "      <td>428</td>\n",
       "      <td>67</td>\n",
       "      <td>5</td>\n",
       "      <td>7.5</td>\n",
       "      <td>4.8</td>\n",
       "      <td>...</td>\n",
       "      <td>2.0</td>\n",
       "      <td>28.4</td>\n",
       "      <td>0.212</td>\n",
       "      <td>0.387</td>\n",
       "      <td>0.298</td>\n",
       "      <td>0.303</td>\n",
       "      <td>0.362</td>\n",
       "      <td>40.3</td>\n",
       "      <td>25.7</td>\n",
       "      <td>10.5</td>\n",
       "    </tr>\n",
       "    <tr>\n",
       "      <th>18</th>\n",
       "      <td>Carlos Asuaje</td>\n",
       "      <td>카를로스 아수아헤</td>\n",
       "      <td>0.0</td>\n",
       "      <td>2018</td>\n",
       "      <td>26</td>\n",
       "      <td>841</td>\n",
       "      <td>147</td>\n",
       "      <td>6</td>\n",
       "      <td>4.1</td>\n",
       "      <td>2.8</td>\n",
       "      <td>...</td>\n",
       "      <td>15.4</td>\n",
       "      <td>34.7</td>\n",
       "      <td>0.219</td>\n",
       "      <td>0.317</td>\n",
       "      <td>0.255</td>\n",
       "      <td>0.285</td>\n",
       "      <td>0.309</td>\n",
       "      <td>25.9</td>\n",
       "      <td>21.1</td>\n",
       "      <td>11.0</td>\n",
       "    </tr>\n",
       "    <tr>\n",
       "      <th>19</th>\n",
       "      <td>Tommy Joseph</td>\n",
       "      <td>토미 조셉</td>\n",
       "      <td>0.0</td>\n",
       "      <td>2017</td>\n",
       "      <td>25</td>\n",
       "      <td>2026</td>\n",
       "      <td>369</td>\n",
       "      <td>27</td>\n",
       "      <td>7.3</td>\n",
       "      <td>5.1</td>\n",
       "      <td>...</td>\n",
       "      <td>14.1</td>\n",
       "      <td>30.9</td>\n",
       "      <td>0.238</td>\n",
       "      <td>0.401</td>\n",
       "      <td>0.305</td>\n",
       "      <td>0.298</td>\n",
       "      <td>0.366</td>\n",
       "      <td>40.3</td>\n",
       "      <td>24.2</td>\n",
       "      <td>6.2</td>\n",
       "    </tr>\n",
       "    <tr>\n",
       "      <th>20</th>\n",
       "      <td>Jake Smolinski</td>\n",
       "      <td>제이크 스몰린스키</td>\n",
       "      <td>0.0</td>\n",
       "      <td>2018</td>\n",
       "      <td>29</td>\n",
       "      <td>158</td>\n",
       "      <td>29</td>\n",
       "      <td>1</td>\n",
       "      <td>3.4</td>\n",
       "      <td>2.4</td>\n",
       "      <td>...</td>\n",
       "      <td>14.2</td>\n",
       "      <td>17.2</td>\n",
       "      <td>0.187</td>\n",
       "      <td>0.288</td>\n",
       "      <td>0.168</td>\n",
       "      <td>0.228</td>\n",
       "      <td>0.274</td>\n",
       "      <td>34.5</td>\n",
       "      <td>24.4</td>\n",
       "      <td>2.4</td>\n",
       "    </tr>\n",
       "    <tr>\n",
       "      <th>21</th>\n",
       "      <td>Taylor Motter</td>\n",
       "      <td>테일리 모터</td>\n",
       "      <td>0.0</td>\n",
       "      <td>2018</td>\n",
       "      <td>28</td>\n",
       "      <td>150</td>\n",
       "      <td>26</td>\n",
       "      <td>1</td>\n",
       "      <td>3.8</td>\n",
       "      <td>2.6</td>\n",
       "      <td>...</td>\n",
       "      <td>4.5</td>\n",
       "      <td>23.1</td>\n",
       "      <td>0.213</td>\n",
       "      <td>0.356</td>\n",
       "      <td>0.219</td>\n",
       "      <td>0.293</td>\n",
       "      <td>0.322</td>\n",
       "      <td>38.5</td>\n",
       "      <td>21.1</td>\n",
       "      <td>10.5</td>\n",
       "    </tr>\n",
       "    <tr>\n",
       "      <th>22</th>\n",
       "      <td>Addison Russell</td>\n",
       "      <td>에디슨 러셀</td>\n",
       "      <td>0.0</td>\n",
       "      <td>2019</td>\n",
       "      <td>25</td>\n",
       "      <td>944</td>\n",
       "      <td>160</td>\n",
       "      <td>11</td>\n",
       "      <td>6.9</td>\n",
       "      <td>4.6</td>\n",
       "      <td>...</td>\n",
       "      <td>9.1</td>\n",
       "      <td>33.1</td>\n",
       "      <td>0.225</td>\n",
       "      <td>0.357</td>\n",
       "      <td>0.297</td>\n",
       "      <td>0.288</td>\n",
       "      <td>0.340</td>\n",
       "      <td>28.1</td>\n",
       "      <td>24.1</td>\n",
       "      <td>8.3</td>\n",
       "    </tr>\n",
       "    <tr>\n",
       "      <th>23</th>\n",
       "      <td>Tyler White</td>\n",
       "      <td>타일러 화이트</td>\n",
       "      <td>0.0</td>\n",
       "      <td>2019</td>\n",
       "      <td>28</td>\n",
       "      <td>1249</td>\n",
       "      <td>165</td>\n",
       "      <td>6</td>\n",
       "      <td>3.6</td>\n",
       "      <td>2.2</td>\n",
       "      <td>...</td>\n",
       "      <td>12.4</td>\n",
       "      <td>30.9</td>\n",
       "      <td>0.198</td>\n",
       "      <td>0.299</td>\n",
       "      <td>0.274</td>\n",
       "      <td>0.273</td>\n",
       "      <td>0.312</td>\n",
       "      <td>30.4</td>\n",
       "      <td>28.0</td>\n",
       "      <td>12.9</td>\n",
       "    </tr>\n",
       "    <tr>\n",
       "      <th>24</th>\n",
       "      <td>Aaron Altherr</td>\n",
       "      <td>애런 알테어</td>\n",
       "      <td>1.0</td>\n",
       "      <td>2019</td>\n",
       "      <td>28</td>\n",
       "      <td>268</td>\n",
       "      <td>37</td>\n",
       "      <td>2</td>\n",
       "      <td>5.4</td>\n",
       "      <td>3.0</td>\n",
       "      <td>...</td>\n",
       "      <td>16.8</td>\n",
       "      <td>32.4</td>\n",
       "      <td>0.157</td>\n",
       "      <td>0.272</td>\n",
       "      <td>0.135</td>\n",
       "      <td>0.210</td>\n",
       "      <td>0.299</td>\n",
       "      <td>21.6</td>\n",
       "      <td>37.9</td>\n",
       "      <td>4.5</td>\n",
       "    </tr>\n",
       "    <tr>\n",
       "      <th>25</th>\n",
       "      <td>tyler saladino</td>\n",
       "      <td>타일러 살라디노</td>\n",
       "      <td>0.0</td>\n",
       "      <td>2019</td>\n",
       "      <td>29</td>\n",
       "      <td>287</td>\n",
       "      <td>39</td>\n",
       "      <td>2</td>\n",
       "      <td>5.1</td>\n",
       "      <td>2.8</td>\n",
       "      <td>...</td>\n",
       "      <td>4.7</td>\n",
       "      <td>30.8</td>\n",
       "      <td>0.175</td>\n",
       "      <td>0.303</td>\n",
       "      <td>0.187</td>\n",
       "      <td>0.243</td>\n",
       "      <td>0.336</td>\n",
       "      <td>41.0</td>\n",
       "      <td>36.6</td>\n",
       "      <td>7.0</td>\n",
       "    </tr>\n",
       "    <tr>\n",
       "      <th>26</th>\n",
       "      <td>Daniel Palka</td>\n",
       "      <td>다니엘 팔카</td>\n",
       "      <td>0.0</td>\n",
       "      <td>2019</td>\n",
       "      <td>27</td>\n",
       "      <td>383</td>\n",
       "      <td>49</td>\n",
       "      <td>3</td>\n",
       "      <td>6.1</td>\n",
       "      <td>3.2</td>\n",
       "      <td>...</td>\n",
       "      <td>15.0</td>\n",
       "      <td>22.4</td>\n",
       "      <td>0.146</td>\n",
       "      <td>0.229</td>\n",
       "      <td>0.174</td>\n",
       "      <td>0.212</td>\n",
       "      <td>0.274</td>\n",
       "      <td>34.7</td>\n",
       "      <td>37.6</td>\n",
       "      <td>8.6</td>\n",
       "    </tr>\n",
       "    <tr>\n",
       "      <th>27</th>\n",
       "      <td>Brandon Barnes</td>\n",
       "      <td>브랜든 반즈</td>\n",
       "      <td>0.0</td>\n",
       "      <td>2018</td>\n",
       "      <td>32</td>\n",
       "      <td>90</td>\n",
       "      <td>14</td>\n",
       "      <td>0</td>\n",
       "      <td>0.0</td>\n",
       "      <td>0.0</td>\n",
       "      <td>...</td>\n",
       "      <td>11.5</td>\n",
       "      <td>28.6</td>\n",
       "      <td>0.159</td>\n",
       "      <td>0.307</td>\n",
       "      <td>0.330</td>\n",
       "      <td>0.245</td>\n",
       "      <td>0.269</td>\n",
       "      <td>28.6</td>\n",
       "      <td>23.8</td>\n",
       "      <td>9.5</td>\n",
       "    </tr>\n",
       "    <tr>\n",
       "      <th>28</th>\n",
       "      <td>dixon machado</td>\n",
       "      <td>딕슨 마차도</td>\n",
       "      <td>1.0</td>\n",
       "      <td>2018</td>\n",
       "      <td>26</td>\n",
       "      <td>924</td>\n",
       "      <td>175</td>\n",
       "      <td>6</td>\n",
       "      <td>3.4</td>\n",
       "      <td>2.6</td>\n",
       "      <td>...</td>\n",
       "      <td>11.0</td>\n",
       "      <td>34.3</td>\n",
       "      <td>0.237</td>\n",
       "      <td>0.340</td>\n",
       "      <td>0.244</td>\n",
       "      <td>0.280</td>\n",
       "      <td>0.307</td>\n",
       "      <td>25.7</td>\n",
       "      <td>17.6</td>\n",
       "      <td>6.0</td>\n",
       "    </tr>\n",
       "    <tr>\n",
       "      <th>29</th>\n",
       "      <td>Justin Bour</td>\n",
       "      <td>저스틴 보어</td>\n",
       "      <td>0.0</td>\n",
       "      <td>2019</td>\n",
       "      <td>31</td>\n",
       "      <td>725</td>\n",
       "      <td>100</td>\n",
       "      <td>11</td>\n",
       "      <td>11.0</td>\n",
       "      <td>6.5</td>\n",
       "      <td>...</td>\n",
       "      <td>10.4</td>\n",
       "      <td>29.0</td>\n",
       "      <td>0.193</td>\n",
       "      <td>0.383</td>\n",
       "      <td>0.267</td>\n",
       "      <td>0.287</td>\n",
       "      <td>0.366</td>\n",
       "      <td>42.9</td>\n",
       "      <td>30.6</td>\n",
       "      <td>10.0</td>\n",
       "    </tr>\n",
       "    <tr>\n",
       "      <th>30</th>\n",
       "      <td>david freitas</td>\n",
       "      <td>데이비드 프레이타스</td>\n",
       "      <td>0.0</td>\n",
       "      <td>2019</td>\n",
       "      <td>30</td>\n",
       "      <td>88</td>\n",
       "      <td>11</td>\n",
       "      <td>0</td>\n",
       "      <td>0.0</td>\n",
       "      <td>0.0</td>\n",
       "      <td>...</td>\n",
       "      <td>5.5</td>\n",
       "      <td>36.4</td>\n",
       "      <td>0.159</td>\n",
       "      <td>0.274</td>\n",
       "      <td>0.182</td>\n",
       "      <td>0.293</td>\n",
       "      <td>0.281</td>\n",
       "      <td>45.5</td>\n",
       "      <td>25.0</td>\n",
       "      <td>20.0</td>\n",
       "    </tr>\n",
       "    <tr>\n",
       "      <th>31</th>\n",
       "      <td>José Pirela</td>\n",
       "      <td>호세 피렐라</td>\n",
       "      <td>1.0</td>\n",
       "      <td>2019</td>\n",
       "      <td>29</td>\n",
       "      <td>89</td>\n",
       "      <td>15</td>\n",
       "      <td>2</td>\n",
       "      <td>13.3</td>\n",
       "      <td>8.3</td>\n",
       "      <td>...</td>\n",
       "      <td>22.8</td>\n",
       "      <td>26.7</td>\n",
       "      <td>0.181</td>\n",
       "      <td>0.388</td>\n",
       "      <td>0.262</td>\n",
       "      <td>0.272</td>\n",
       "      <td>0.344</td>\n",
       "      <td>33.3</td>\n",
       "      <td>29.2</td>\n",
       "      <td>8.3</td>\n",
       "    </tr>\n",
       "    <tr>\n",
       "      <th>32</th>\n",
       "      <td>Ryon Healy</td>\n",
       "      <td>라이온 힐리</td>\n",
       "      <td>0.0</td>\n",
       "      <td>2019</td>\n",
       "      <td>27</td>\n",
       "      <td>708</td>\n",
       "      <td>133</td>\n",
       "      <td>12</td>\n",
       "      <td>9.0</td>\n",
       "      <td>6.4</td>\n",
       "      <td>...</td>\n",
       "      <td>17.0</td>\n",
       "      <td>33.1</td>\n",
       "      <td>0.240</td>\n",
       "      <td>0.432</td>\n",
       "      <td>0.308</td>\n",
       "      <td>0.317</td>\n",
       "      <td>0.376</td>\n",
       "      <td>39.2</td>\n",
       "      <td>21.4</td>\n",
       "      <td>7.0</td>\n",
       "    </tr>\n",
       "    <tr>\n",
       "      <th>33</th>\n",
       "      <td>hernan perez</td>\n",
       "      <td>에르난 페레즈</td>\n",
       "      <td>0.0</td>\n",
       "      <td>2019</td>\n",
       "      <td>28</td>\n",
       "      <td>932</td>\n",
       "      <td>169</td>\n",
       "      <td>7</td>\n",
       "      <td>4.1</td>\n",
       "      <td>2.8</td>\n",
       "      <td>...</td>\n",
       "      <td>9.3</td>\n",
       "      <td>27.8</td>\n",
       "      <td>0.216</td>\n",
       "      <td>0.334</td>\n",
       "      <td>0.271</td>\n",
       "      <td>0.256</td>\n",
       "      <td>0.329</td>\n",
       "      <td>35.9</td>\n",
       "      <td>26.8</td>\n",
       "      <td>4.5</td>\n",
       "    </tr>\n",
       "    <tr>\n",
       "      <th>34</th>\n",
       "      <td>Henry Ramos</td>\n",
       "      <td>헨리 라모스</td>\n",
       "      <td>1.0</td>\n",
       "      <td>2021</td>\n",
       "      <td>29</td>\n",
       "      <td>209</td>\n",
       "      <td>39</td>\n",
       "      <td>2</td>\n",
       "      <td>5.1</td>\n",
       "      <td>3.6</td>\n",
       "      <td>...</td>\n",
       "      <td>13.7</td>\n",
       "      <td>23.1</td>\n",
       "      <td>0.208</td>\n",
       "      <td>0.314</td>\n",
       "      <td>0.244</td>\n",
       "      <td>0.256</td>\n",
       "      <td>0.291</td>\n",
       "      <td>30.8</td>\n",
       "      <td>21.8</td>\n",
       "      <td>7.3</td>\n",
       "    </tr>\n",
       "    <tr>\n",
       "      <th>35</th>\n",
       "      <td>Anthony Alford</td>\n",
       "      <td>앤서니 알포드</td>\n",
       "      <td>1.0</td>\n",
       "      <td>2021</td>\n",
       "      <td>26</td>\n",
       "      <td>568</td>\n",
       "      <td>75</td>\n",
       "      <td>8</td>\n",
       "      <td>10.7</td>\n",
       "      <td>5.4</td>\n",
       "      <td>...</td>\n",
       "      <td>11.8</td>\n",
       "      <td>36.0</td>\n",
       "      <td>0.199</td>\n",
       "      <td>0.383</td>\n",
       "      <td>0.310</td>\n",
       "      <td>0.289</td>\n",
       "      <td>0.436</td>\n",
       "      <td>42.7</td>\n",
       "      <td>39.2</td>\n",
       "      <td>8.1</td>\n",
       "    </tr>\n",
       "    <tr>\n",
       "      <th>36</th>\n",
       "      <td>José Pirela</td>\n",
       "      <td>호세 피렐라</td>\n",
       "      <td>1.0</td>\n",
       "      <td>2019</td>\n",
       "      <td>29</td>\n",
       "      <td>89</td>\n",
       "      <td>15</td>\n",
       "      <td>2</td>\n",
       "      <td>13.3</td>\n",
       "      <td>8.3</td>\n",
       "      <td>...</td>\n",
       "      <td>22.8</td>\n",
       "      <td>26.7</td>\n",
       "      <td>0.181</td>\n",
       "      <td>0.388</td>\n",
       "      <td>0.262</td>\n",
       "      <td>0.272</td>\n",
       "      <td>0.344</td>\n",
       "      <td>33.3</td>\n",
       "      <td>29.2</td>\n",
       "      <td>8.3</td>\n",
       "    </tr>\n",
       "    <tr>\n",
       "      <th>37</th>\n",
       "      <td>Robel García</td>\n",
       "      <td>로벨 가르시아</td>\n",
       "      <td>0.0</td>\n",
       "      <td>2021</td>\n",
       "      <td>28</td>\n",
       "      <td>453</td>\n",
       "      <td>66</td>\n",
       "      <td>1</td>\n",
       "      <td>1.5</td>\n",
       "      <td>0.9</td>\n",
       "      <td>...</td>\n",
       "      <td>14.3</td>\n",
       "      <td>19.7</td>\n",
       "      <td>0.185</td>\n",
       "      <td>0.238</td>\n",
       "      <td>0.194</td>\n",
       "      <td>0.224</td>\n",
       "      <td>0.303</td>\n",
       "      <td>33.3</td>\n",
       "      <td>35.9</td>\n",
       "      <td>6.8</td>\n",
       "    </tr>\n",
       "    <tr>\n",
       "      <th>38</th>\n",
       "      <td>yasiel puig</td>\n",
       "      <td>야시엘 푸이그</td>\n",
       "      <td>1.0</td>\n",
       "      <td>2019</td>\n",
       "      <td>28</td>\n",
       "      <td>2247</td>\n",
       "      <td>426</td>\n",
       "      <td>39</td>\n",
       "      <td>9.2</td>\n",
       "      <td>6.4</td>\n",
       "      <td>...</td>\n",
       "      <td>13.8</td>\n",
       "      <td>30.0</td>\n",
       "      <td>0.256</td>\n",
       "      <td>0.451</td>\n",
       "      <td>0.330</td>\n",
       "      <td>0.328</td>\n",
       "      <td>0.388</td>\n",
       "      <td>39.1</td>\n",
       "      <td>21.8</td>\n",
       "      <td>7.2</td>\n",
       "    </tr>\n",
       "    <tr>\n",
       "      <th>39</th>\n",
       "      <td>Kevin Cron</td>\n",
       "      <td>케빈 크론</td>\n",
       "      <td>0.0</td>\n",
       "      <td>2020</td>\n",
       "      <td>27</td>\n",
       "      <td>82</td>\n",
       "      <td>10</td>\n",
       "      <td>0</td>\n",
       "      <td>0.0</td>\n",
       "      <td>0.0</td>\n",
       "      <td>...</td>\n",
       "      <td>37.8</td>\n",
       "      <td>20.0</td>\n",
       "      <td>0.109</td>\n",
       "      <td>0.167</td>\n",
       "      <td>0.108</td>\n",
       "      <td>0.206</td>\n",
       "      <td>0.197</td>\n",
       "      <td>20.0</td>\n",
       "      <td>35.0</td>\n",
       "      <td>5.0</td>\n",
       "    </tr>\n",
       "    <tr>\n",
       "      <th>40</th>\n",
       "      <td>Juan Lagares</td>\n",
       "      <td>후안 라가레스</td>\n",
       "      <td>0.0</td>\n",
       "      <td>2021</td>\n",
       "      <td>32</td>\n",
       "      <td>1237</td>\n",
       "      <td>238</td>\n",
       "      <td>16</td>\n",
       "      <td>6.7</td>\n",
       "      <td>4.9</td>\n",
       "      <td>...</td>\n",
       "      <td>8.8</td>\n",
       "      <td>34.9</td>\n",
       "      <td>0.244</td>\n",
       "      <td>0.373</td>\n",
       "      <td>0.274</td>\n",
       "      <td>0.282</td>\n",
       "      <td>0.351</td>\n",
       "      <td>42.9</td>\n",
       "      <td>23.2</td>\n",
       "      <td>3.7</td>\n",
       "    </tr>\n",
       "    <tr>\n",
       "      <th>41</th>\n",
       "      <td>Nick Martini</td>\n",
       "      <td>닉 마티니</td>\n",
       "      <td>0.0</td>\n",
       "      <td>2021</td>\n",
       "      <td>31</td>\n",
       "      <td>193</td>\n",
       "      <td>29</td>\n",
       "      <td>2</td>\n",
       "      <td>6.9</td>\n",
       "      <td>4.4</td>\n",
       "      <td>...</td>\n",
       "      <td>19.5</td>\n",
       "      <td>44.8</td>\n",
       "      <td>0.270</td>\n",
       "      <td>0.407</td>\n",
       "      <td>0.287</td>\n",
       "      <td>0.326</td>\n",
       "      <td>0.376</td>\n",
       "      <td>41.4</td>\n",
       "      <td>22.2</td>\n",
       "      <td>13.3</td>\n",
       "    </tr>\n",
       "    <tr>\n",
       "      <th>42</th>\n",
       "      <td>DJ Peters</td>\n",
       "      <td>DJ 피터스</td>\n",
       "      <td>0.0</td>\n",
       "      <td>2021</td>\n",
       "      <td>25</td>\n",
       "      <td>902</td>\n",
       "      <td>144</td>\n",
       "      <td>16</td>\n",
       "      <td>11.1</td>\n",
       "      <td>6.7</td>\n",
       "      <td>...</td>\n",
       "      <td>16.4</td>\n",
       "      <td>30.6</td>\n",
       "      <td>0.199</td>\n",
       "      <td>0.376</td>\n",
       "      <td>0.272</td>\n",
       "      <td>0.273</td>\n",
       "      <td>0.400</td>\n",
       "      <td>38.9</td>\n",
       "      <td>34.2</td>\n",
       "      <td>5.0</td>\n",
       "    </tr>\n",
       "    <tr>\n",
       "      <th>43</th>\n",
       "      <td>Zach Reks</td>\n",
       "      <td>잭 레스</td>\n",
       "      <td>1.0</td>\n",
       "      <td>2021</td>\n",
       "      <td>28</td>\n",
       "      <td>160</td>\n",
       "      <td>27</td>\n",
       "      <td>0</td>\n",
       "      <td>0.0</td>\n",
       "      <td>0.0</td>\n",
       "      <td>...</td>\n",
       "      <td>18.7</td>\n",
       "      <td>33.3</td>\n",
       "      <td>0.187</td>\n",
       "      <td>0.265</td>\n",
       "      <td>0.189</td>\n",
       "      <td>0.194</td>\n",
       "      <td>0.317</td>\n",
       "      <td>40.7</td>\n",
       "      <td>38.6</td>\n",
       "      <td>0.0</td>\n",
       "    </tr>\n",
       "    <tr>\n",
       "      <th>44</th>\n",
       "      <td>Sócrates Brito</td>\n",
       "      <td>소크라테스 브리토</td>\n",
       "      <td>1.0</td>\n",
       "      <td>2019</td>\n",
       "      <td>26</td>\n",
       "      <td>165</td>\n",
       "      <td>22</td>\n",
       "      <td>1</td>\n",
       "      <td>4.5</td>\n",
       "      <td>2.3</td>\n",
       "      <td>...</td>\n",
       "      <td>-2.1</td>\n",
       "      <td>22.7</td>\n",
       "      <td>0.176</td>\n",
       "      <td>0.260</td>\n",
       "      <td>0.140</td>\n",
       "      <td>0.235</td>\n",
       "      <td>0.333</td>\n",
       "      <td>40.9</td>\n",
       "      <td>39.5</td>\n",
       "      <td>9.3</td>\n",
       "    </tr>\n",
       "    <tr>\n",
       "      <th>45</th>\n",
       "      <td>Mike Tauchman</td>\n",
       "      <td>마이크 터크먼</td>\n",
       "      <td>1.0</td>\n",
       "      <td>2021</td>\n",
       "      <td>30</td>\n",
       "      <td>870</td>\n",
       "      <td>109</td>\n",
       "      <td>6</td>\n",
       "      <td>5.5</td>\n",
       "      <td>3.1</td>\n",
       "      <td>...</td>\n",
       "      <td>10.0</td>\n",
       "      <td>36.7</td>\n",
       "      <td>0.196</td>\n",
       "      <td>0.304</td>\n",
       "      <td>0.260</td>\n",
       "      <td>0.276</td>\n",
       "      <td>0.331</td>\n",
       "      <td>35.8</td>\n",
       "      <td>30.4</td>\n",
       "      <td>12.0</td>\n",
       "    </tr>\n",
       "  </tbody>\n",
       "</table>\n",
       "<p>46 rows × 22 columns</p>\n",
       "</div>"
      ],
      "text/plain": [
       "                          영문이름           이름  재계약  Season  Age  Pitches  \\\n",
       "0            Daniel Casey Dorn          대니돈  1.0    2015   30      125   \n",
       "1          Hector Alexis Gomez       헥터 고메즈  0.0    2015   27      488   \n",
       "2      Wilin Arismendy Rosario      윌린 로사리오  1.0    2015   26      859   \n",
       "3          Justin Adam Maxwell      저스틴 맥스웰  0.0    2015   31     1030   \n",
       "4         Xavier Ladel Scruggs     재비어 스크럭스  1.0    2015   31     1030   \n",
       "5          James Anthony Loney       제임스 로니  0.0    2016   32     1248   \n",
       "6                  Danny Worth        대니 워스  0.0    2016   30      145   \n",
       "7   James \"Jamie\" Robert Romak       제이미 로맥  1.0    2015   29       68   \n",
       "8           Darin Cortland Ruf        다린 러프  1.0    2016   29      351   \n",
       "9                jimmy paredes      지미 파레디스  0.0    2016   27      632   \n",
       "10          Scott T. Van Slyke    스캇 반 슬라이크  0.0    2017   30      200   \n",
       "11               Adonis García    아도니스 가르시아  0.0    2017   32      707   \n",
       "12                 Jerry Sands        제리 샌즈  1.0    2016   28      228   \n",
       "13                Jared Hoying       제라드 호잉  1.0    2017   28      283   \n",
       "14       José Miguel Fernández  호세 미겔 페르난데스  1.0    2018   30      445   \n",
       "15           Jeremy Hazelbaker    제레미 헤즐베이커  0.0    2017   29      254   \n",
       "16              Preston Tucker      프레스톤 터커  1.0    2018   27      716   \n",
       "17              Mac Williamson       맥 윌리엄슨  0.0    2018   27      428   \n",
       "18               Carlos Asuaje    카를로스 아수아헤  0.0    2018   26      841   \n",
       "19                Tommy Joseph        토미 조셉  0.0    2017   25     2026   \n",
       "20              Jake Smolinski    제이크 스몰린스키  0.0    2018   29      158   \n",
       "21               Taylor Motter       테일리 모터  0.0    2018   28      150   \n",
       "22             Addison Russell       에디슨 러셀  0.0    2019   25      944   \n",
       "23                 Tyler White      타일러 화이트  0.0    2019   28     1249   \n",
       "24               Aaron Altherr       애런 알테어  1.0    2019   28      268   \n",
       "25              tyler saladino     타일러 살라디노  0.0    2019   29      287   \n",
       "26                Daniel Palka       다니엘 팔카  0.0    2019   27      383   \n",
       "27              Brandon Barnes       브랜든 반즈  0.0    2018   32       90   \n",
       "28               dixon machado       딕슨 마차도  1.0    2018   26      924   \n",
       "29                 Justin Bour       저스틴 보어  0.0    2019   31      725   \n",
       "30               david freitas   데이비드 프레이타스  0.0    2019   30       88   \n",
       "31                 José Pirela       호세 피렐라  1.0    2019   29       89   \n",
       "32                  Ryon Healy       라이온 힐리  0.0    2019   27      708   \n",
       "33                hernan perez      에르난 페레즈  0.0    2019   28      932   \n",
       "34                 Henry Ramos       헨리 라모스  1.0    2021   29      209   \n",
       "35              Anthony Alford      앤서니 알포드  1.0    2021   26      568   \n",
       "36                 José Pirela       호세 피렐라  1.0    2019   29       89   \n",
       "37                Robel García      로벨 가르시아  0.0    2021   28      453   \n",
       "38                 yasiel puig      야시엘 푸이그  1.0    2019   28     2247   \n",
       "39                  Kevin Cron        케빈 크론  0.0    2020   27       82   \n",
       "40                Juan Lagares      후안 라가레스  0.0    2021   32     1237   \n",
       "41                Nick Martini        닉 마티니  0.0    2021   31      193   \n",
       "42                   DJ Peters       DJ 피터스  0.0    2021   25      902   \n",
       "43                   Zach Reks         잭 레스  1.0    2021   28      160   \n",
       "44              Sócrates Brito    소크라테스 브리토  1.0    2019   26      165   \n",
       "45               Mike Tauchman      마이크 터크먼  1.0    2021   30      870   \n",
       "\n",
       "    Batted Balls  Barrels  Barrel%  Barrel/PA  ...  Launch Angle  \\\n",
       "0             20        0      0.0        0.0  ...           8.6   \n",
       "1             89        3      3.4        2.2  ...          14.2   \n",
       "2            177        8      4.5        3.3  ...           5.8   \n",
       "3            175        9      5.1        3.3  ...          10.3   \n",
       "4            175        9      5.1        3.3  ...          10.3   \n",
       "5            308        5      1.6        1.4  ...          13.0   \n",
       "6             33        0      0.0        0.0  ...          10.9   \n",
       "7              9        0      0.0        0.0  ...          23.8   \n",
       "8             60        5      8.3        5.6  ...          15.2   \n",
       "9            112       11      9.8        6.6  ...           6.3   \n",
       "10            26        4     15.4        8.3  ...          17.9   \n",
       "11           151        5      3.3        2.7  ...           6.3   \n",
       "12            31        1      3.2        1.7  ...           2.6   \n",
       "13            50        0      0.0        0.0  ...          10.2   \n",
       "14           101        3      3.0        2.4  ...          11.7   \n",
       "15            32        0      0.0        0.0  ...          13.7   \n",
       "16           124        5      4.0        2.7  ...          11.7   \n",
       "17            67        5      7.5        4.8  ...           2.0   \n",
       "18           147        6      4.1        2.8  ...          15.4   \n",
       "19           369       27      7.3        5.1  ...          14.1   \n",
       "20            29        1      3.4        2.4  ...          14.2   \n",
       "21            26        1      3.8        2.6  ...           4.5   \n",
       "22           160       11      6.9        4.6  ...           9.1   \n",
       "23           165        6      3.6        2.2  ...          12.4   \n",
       "24            37        2      5.4        3.0  ...          16.8   \n",
       "25            39        2      5.1        2.8  ...           4.7   \n",
       "26            49        3      6.1        3.2  ...          15.0   \n",
       "27            14        0      0.0        0.0  ...          11.5   \n",
       "28           175        6      3.4        2.6  ...          11.0   \n",
       "29           100       11     11.0        6.5  ...          10.4   \n",
       "30            11        0      0.0        0.0  ...           5.5   \n",
       "31            15        2     13.3        8.3  ...          22.8   \n",
       "32           133       12      9.0        6.4  ...          17.0   \n",
       "33           169        7      4.1        2.8  ...           9.3   \n",
       "34            39        2      5.1        3.6  ...          13.7   \n",
       "35            75        8     10.7        5.4  ...          11.8   \n",
       "36            15        2     13.3        8.3  ...          22.8   \n",
       "37            66        1      1.5        0.9  ...          14.3   \n",
       "38           426       39      9.2        6.4  ...          13.8   \n",
       "39            10        0      0.0        0.0  ...          37.8   \n",
       "40           238       16      6.7        4.9  ...           8.8   \n",
       "41            29        2      6.9        4.4  ...          19.5   \n",
       "42           144       16     11.1        6.7  ...          16.4   \n",
       "43            27        0      0.0        0.0  ...          18.7   \n",
       "44            22        1      4.5        2.3  ...          -2.1   \n",
       "45           109        6      5.5        3.1  ...          10.0   \n",
       "\n",
       "    Sweet Spot %    XBA   XSLG   WOBA  XWOBACON  HardHit%  HardHit%.1    K%  \\\n",
       "0           25.0  0.184  0.234  0.192     0.215     0.279        35.0  31.3   \n",
       "1           36.0  0.222  0.311  0.231     0.250     0.342        29.2  29.9   \n",
       "2           26.0  0.231  0.354  0.303     0.269     0.340        33.9  23.1   \n",
       "3           30.9  0.213  0.358  0.271     0.283     0.359        32.0  27.7   \n",
       "4           30.9  0.213  0.358  0.271     0.283     0.359        32.0  27.7   \n",
       "5           34.1  0.271  0.383  0.302     0.302     0.316        31.5  10.1   \n",
       "6           30.3  0.248  0.313  0.189     0.253     0.286        30.3  15.0   \n",
       "7           22.2  0.236  0.306  0.365     0.265     0.395        33.3  37.5   \n",
       "8           33.3  0.236  0.455  0.245     0.305     0.408        40.0  28.1   \n",
       "9           24.1  0.220  0.384  0.266     0.279     0.376        37.5  28.7   \n",
       "10          38.5  0.200  0.398  0.236     0.304     0.390        42.3  31.3   \n",
       "11          23.8  0.253  0.383  0.269     0.295     0.317        34.0  12.6   \n",
       "12          22.6  0.204  0.249  0.252     0.223     0.355        25.8  41.4   \n",
       "13          28.0  0.212  0.256  0.246     0.225     0.291        20.0  29.9   \n",
       "14          36.6  0.279  0.394  0.304     0.313     0.334        36.6  12.2   \n",
       "15          34.4  0.238  0.344  0.422     0.301     0.403        34.4  32.8   \n",
       "16          28.2  0.224  0.344  0.306     0.287     0.330        39.5  23.4   \n",
       "17          28.4  0.212  0.387  0.298     0.303     0.362        40.3  25.7   \n",
       "18          34.7  0.219  0.317  0.255     0.285     0.309        25.9  21.1   \n",
       "19          30.9  0.238  0.401  0.305     0.298     0.366        40.3  24.2   \n",
       "20          17.2  0.187  0.288  0.168     0.228     0.274        34.5  24.4   \n",
       "21          23.1  0.213  0.356  0.219     0.293     0.322        38.5  21.1   \n",
       "22          33.1  0.225  0.357  0.297     0.288     0.340        28.1  24.1   \n",
       "23          30.9  0.198  0.299  0.274     0.273     0.312        30.4  28.0   \n",
       "24          32.4  0.157  0.272  0.135     0.210     0.299        21.6  37.9   \n",
       "25          30.8  0.175  0.303  0.187     0.243     0.336        41.0  36.6   \n",
       "26          22.4  0.146  0.229  0.174     0.212     0.274        34.7  37.6   \n",
       "27          28.6  0.159  0.307  0.330     0.245     0.269        28.6  23.8   \n",
       "28          34.3  0.237  0.340  0.244     0.280     0.307        25.7  17.6   \n",
       "29          29.0  0.193  0.383  0.267     0.287     0.366        42.9  30.6   \n",
       "30          36.4  0.159  0.274  0.182     0.293     0.281        45.5  25.0   \n",
       "31          26.7  0.181  0.388  0.262     0.272     0.344        33.3  29.2   \n",
       "32          33.1  0.240  0.432  0.308     0.317     0.376        39.2  21.4   \n",
       "33          27.8  0.216  0.334  0.271     0.256     0.329        35.9  26.8   \n",
       "34          23.1  0.208  0.314  0.244     0.256     0.291        30.8  21.8   \n",
       "35          36.0  0.199  0.383  0.310     0.289     0.436        42.7  39.2   \n",
       "36          26.7  0.181  0.388  0.262     0.272     0.344        33.3  29.2   \n",
       "37          19.7  0.185  0.238  0.194     0.224     0.303        33.3  35.9   \n",
       "38          30.0  0.256  0.451  0.330     0.328     0.388        39.1  21.8   \n",
       "39          20.0  0.109  0.167  0.108     0.206     0.197        20.0  35.0   \n",
       "40          34.9  0.244  0.373  0.274     0.282     0.351        42.9  23.2   \n",
       "41          44.8  0.270  0.407  0.287     0.326     0.376        41.4  22.2   \n",
       "42          30.6  0.199  0.376  0.272     0.273     0.400        38.9  34.2   \n",
       "43          33.3  0.187  0.265  0.189     0.194     0.317        40.7  38.6   \n",
       "44          22.7  0.176  0.260  0.140     0.235     0.333        40.9  39.5   \n",
       "45          36.7  0.196  0.304  0.260     0.276     0.331        35.8  30.4   \n",
       "\n",
       "     BB%  \n",
       "0    6.3  \n",
       "1    2.2  \n",
       "2    3.3  \n",
       "3    7.3  \n",
       "4    7.3  \n",
       "5    4.4  \n",
       "6    2.5  \n",
       "7    6.3  \n",
       "8    4.5  \n",
       "9    4.2  \n",
       "10  14.6  \n",
       "11   3.8  \n",
       "12   5.2  \n",
       "13   5.2  \n",
       "14   4.9  \n",
       "15  14.8  \n",
       "16   7.1  \n",
       "17  10.5  \n",
       "18  11.0  \n",
       "19   6.2  \n",
       "20   2.4  \n",
       "21  10.5  \n",
       "22   8.3  \n",
       "23  12.9  \n",
       "24   4.5  \n",
       "25   7.0  \n",
       "26   8.6  \n",
       "27   9.5  \n",
       "28   6.0  \n",
       "29  10.0  \n",
       "30  20.0  \n",
       "31   8.3  \n",
       "32   7.0  \n",
       "33   4.5  \n",
       "34   7.3  \n",
       "35   8.1  \n",
       "36   8.3  \n",
       "37   6.8  \n",
       "38   7.2  \n",
       "39   5.0  \n",
       "40   3.7  \n",
       "41  13.3  \n",
       "42   5.0  \n",
       "43   0.0  \n",
       "44   9.3  \n",
       "45  12.0  \n",
       "\n",
       "[46 rows x 22 columns]"
      ]
     },
     "execution_count": 20,
     "metadata": {},
     "output_type": "execute_result"
    }
   ],
   "source": [
    "temp2"
   ]
  },
  {
   "cell_type": "code",
   "execution_count": 21,
   "id": "7f0d331a",
   "metadata": {
    "ExecuteTime": {
     "end_time": "2023-03-08T07:15:28.491807Z",
     "start_time": "2023-03-08T07:15:28.483286Z"
    }
   },
   "outputs": [],
   "source": [
    "temp2[\"predict\"] = temp"
   ]
  },
  {
   "cell_type": "code",
   "execution_count": 22,
   "id": "44d45f32",
   "metadata": {
    "ExecuteTime": {
     "end_time": "2023-03-08T07:15:36.924956Z",
     "start_time": "2023-03-08T07:15:36.899423Z"
    }
   },
   "outputs": [
    {
     "data": {
      "text/html": [
       "<div>\n",
       "<style scoped>\n",
       "    .dataframe tbody tr th:only-of-type {\n",
       "        vertical-align: middle;\n",
       "    }\n",
       "\n",
       "    .dataframe tbody tr th {\n",
       "        vertical-align: top;\n",
       "    }\n",
       "\n",
       "    .dataframe thead th {\n",
       "        text-align: right;\n",
       "    }\n",
       "</style>\n",
       "<table border=\"1\" class=\"dataframe\">\n",
       "  <thead>\n",
       "    <tr style=\"text-align: right;\">\n",
       "      <th></th>\n",
       "      <th>이름</th>\n",
       "      <th>재계약</th>\n",
       "      <th>predict</th>\n",
       "    </tr>\n",
       "  </thead>\n",
       "  <tbody>\n",
       "    <tr>\n",
       "      <th>0</th>\n",
       "      <td>대니돈</td>\n",
       "      <td>1.0</td>\n",
       "      <td>0.0</td>\n",
       "    </tr>\n",
       "    <tr>\n",
       "      <th>1</th>\n",
       "      <td>헥터 고메즈</td>\n",
       "      <td>0.0</td>\n",
       "      <td>1.0</td>\n",
       "    </tr>\n",
       "    <tr>\n",
       "      <th>2</th>\n",
       "      <td>윌린 로사리오</td>\n",
       "      <td>1.0</td>\n",
       "      <td>0.0</td>\n",
       "    </tr>\n",
       "    <tr>\n",
       "      <th>3</th>\n",
       "      <td>저스틴 맥스웰</td>\n",
       "      <td>0.0</td>\n",
       "      <td>0.0</td>\n",
       "    </tr>\n",
       "    <tr>\n",
       "      <th>4</th>\n",
       "      <td>재비어 스크럭스</td>\n",
       "      <td>1.0</td>\n",
       "      <td>0.0</td>\n",
       "    </tr>\n",
       "    <tr>\n",
       "      <th>5</th>\n",
       "      <td>제임스 로니</td>\n",
       "      <td>0.0</td>\n",
       "      <td>0.0</td>\n",
       "    </tr>\n",
       "    <tr>\n",
       "      <th>6</th>\n",
       "      <td>대니 워스</td>\n",
       "      <td>0.0</td>\n",
       "      <td>0.0</td>\n",
       "    </tr>\n",
       "    <tr>\n",
       "      <th>7</th>\n",
       "      <td>제이미 로맥</td>\n",
       "      <td>1.0</td>\n",
       "      <td>0.0</td>\n",
       "    </tr>\n",
       "    <tr>\n",
       "      <th>8</th>\n",
       "      <td>다린 러프</td>\n",
       "      <td>1.0</td>\n",
       "      <td>0.0</td>\n",
       "    </tr>\n",
       "    <tr>\n",
       "      <th>9</th>\n",
       "      <td>지미 파레디스</td>\n",
       "      <td>0.0</td>\n",
       "      <td>0.0</td>\n",
       "    </tr>\n",
       "    <tr>\n",
       "      <th>10</th>\n",
       "      <td>스캇 반 슬라이크</td>\n",
       "      <td>0.0</td>\n",
       "      <td>0.0</td>\n",
       "    </tr>\n",
       "    <tr>\n",
       "      <th>11</th>\n",
       "      <td>아도니스 가르시아</td>\n",
       "      <td>0.0</td>\n",
       "      <td>0.0</td>\n",
       "    </tr>\n",
       "    <tr>\n",
       "      <th>12</th>\n",
       "      <td>제리 샌즈</td>\n",
       "      <td>1.0</td>\n",
       "      <td>1.0</td>\n",
       "    </tr>\n",
       "    <tr>\n",
       "      <th>13</th>\n",
       "      <td>제라드 호잉</td>\n",
       "      <td>1.0</td>\n",
       "      <td>0.0</td>\n",
       "    </tr>\n",
       "    <tr>\n",
       "      <th>14</th>\n",
       "      <td>호세 미겔 페르난데스</td>\n",
       "      <td>1.0</td>\n",
       "      <td>0.0</td>\n",
       "    </tr>\n",
       "    <tr>\n",
       "      <th>15</th>\n",
       "      <td>제레미 헤즐베이커</td>\n",
       "      <td>0.0</td>\n",
       "      <td>0.0</td>\n",
       "    </tr>\n",
       "    <tr>\n",
       "      <th>16</th>\n",
       "      <td>프레스톤 터커</td>\n",
       "      <td>1.0</td>\n",
       "      <td>0.0</td>\n",
       "    </tr>\n",
       "    <tr>\n",
       "      <th>17</th>\n",
       "      <td>맥 윌리엄슨</td>\n",
       "      <td>0.0</td>\n",
       "      <td>0.0</td>\n",
       "    </tr>\n",
       "    <tr>\n",
       "      <th>18</th>\n",
       "      <td>카를로스 아수아헤</td>\n",
       "      <td>0.0</td>\n",
       "      <td>1.0</td>\n",
       "    </tr>\n",
       "    <tr>\n",
       "      <th>19</th>\n",
       "      <td>토미 조셉</td>\n",
       "      <td>0.0</td>\n",
       "      <td>0.0</td>\n",
       "    </tr>\n",
       "    <tr>\n",
       "      <th>20</th>\n",
       "      <td>제이크 스몰린스키</td>\n",
       "      <td>0.0</td>\n",
       "      <td>1.0</td>\n",
       "    </tr>\n",
       "    <tr>\n",
       "      <th>21</th>\n",
       "      <td>테일리 모터</td>\n",
       "      <td>0.0</td>\n",
       "      <td>0.0</td>\n",
       "    </tr>\n",
       "    <tr>\n",
       "      <th>22</th>\n",
       "      <td>에디슨 러셀</td>\n",
       "      <td>0.0</td>\n",
       "      <td>0.0</td>\n",
       "    </tr>\n",
       "    <tr>\n",
       "      <th>23</th>\n",
       "      <td>타일러 화이트</td>\n",
       "      <td>0.0</td>\n",
       "      <td>0.0</td>\n",
       "    </tr>\n",
       "    <tr>\n",
       "      <th>24</th>\n",
       "      <td>애런 알테어</td>\n",
       "      <td>1.0</td>\n",
       "      <td>0.0</td>\n",
       "    </tr>\n",
       "    <tr>\n",
       "      <th>25</th>\n",
       "      <td>타일러 살라디노</td>\n",
       "      <td>0.0</td>\n",
       "      <td>1.0</td>\n",
       "    </tr>\n",
       "    <tr>\n",
       "      <th>26</th>\n",
       "      <td>다니엘 팔카</td>\n",
       "      <td>0.0</td>\n",
       "      <td>1.0</td>\n",
       "    </tr>\n",
       "    <tr>\n",
       "      <th>27</th>\n",
       "      <td>브랜든 반즈</td>\n",
       "      <td>0.0</td>\n",
       "      <td>1.0</td>\n",
       "    </tr>\n",
       "    <tr>\n",
       "      <th>28</th>\n",
       "      <td>딕슨 마차도</td>\n",
       "      <td>1.0</td>\n",
       "      <td>0.0</td>\n",
       "    </tr>\n",
       "    <tr>\n",
       "      <th>29</th>\n",
       "      <td>저스틴 보어</td>\n",
       "      <td>0.0</td>\n",
       "      <td>0.0</td>\n",
       "    </tr>\n",
       "    <tr>\n",
       "      <th>30</th>\n",
       "      <td>데이비드 프레이타스</td>\n",
       "      <td>0.0</td>\n",
       "      <td>0.0</td>\n",
       "    </tr>\n",
       "    <tr>\n",
       "      <th>31</th>\n",
       "      <td>호세 피렐라</td>\n",
       "      <td>1.0</td>\n",
       "      <td>1.0</td>\n",
       "    </tr>\n",
       "    <tr>\n",
       "      <th>32</th>\n",
       "      <td>라이온 힐리</td>\n",
       "      <td>0.0</td>\n",
       "      <td>0.0</td>\n",
       "    </tr>\n",
       "    <tr>\n",
       "      <th>33</th>\n",
       "      <td>에르난 페레즈</td>\n",
       "      <td>0.0</td>\n",
       "      <td>1.0</td>\n",
       "    </tr>\n",
       "    <tr>\n",
       "      <th>34</th>\n",
       "      <td>헨리 라모스</td>\n",
       "      <td>1.0</td>\n",
       "      <td>0.0</td>\n",
       "    </tr>\n",
       "    <tr>\n",
       "      <th>35</th>\n",
       "      <td>앤서니 알포드</td>\n",
       "      <td>1.0</td>\n",
       "      <td>0.0</td>\n",
       "    </tr>\n",
       "    <tr>\n",
       "      <th>36</th>\n",
       "      <td>호세 피렐라</td>\n",
       "      <td>1.0</td>\n",
       "      <td>1.0</td>\n",
       "    </tr>\n",
       "    <tr>\n",
       "      <th>37</th>\n",
       "      <td>로벨 가르시아</td>\n",
       "      <td>0.0</td>\n",
       "      <td>1.0</td>\n",
       "    </tr>\n",
       "    <tr>\n",
       "      <th>38</th>\n",
       "      <td>야시엘 푸이그</td>\n",
       "      <td>1.0</td>\n",
       "      <td>0.0</td>\n",
       "    </tr>\n",
       "    <tr>\n",
       "      <th>39</th>\n",
       "      <td>케빈 크론</td>\n",
       "      <td>0.0</td>\n",
       "      <td>1.0</td>\n",
       "    </tr>\n",
       "    <tr>\n",
       "      <th>40</th>\n",
       "      <td>후안 라가레스</td>\n",
       "      <td>0.0</td>\n",
       "      <td>0.0</td>\n",
       "    </tr>\n",
       "    <tr>\n",
       "      <th>41</th>\n",
       "      <td>닉 마티니</td>\n",
       "      <td>0.0</td>\n",
       "      <td>0.0</td>\n",
       "    </tr>\n",
       "    <tr>\n",
       "      <th>42</th>\n",
       "      <td>DJ 피터스</td>\n",
       "      <td>0.0</td>\n",
       "      <td>0.0</td>\n",
       "    </tr>\n",
       "    <tr>\n",
       "      <th>43</th>\n",
       "      <td>잭 레스</td>\n",
       "      <td>1.0</td>\n",
       "      <td>0.0</td>\n",
       "    </tr>\n",
       "    <tr>\n",
       "      <th>44</th>\n",
       "      <td>소크라테스 브리토</td>\n",
       "      <td>1.0</td>\n",
       "      <td>0.0</td>\n",
       "    </tr>\n",
       "    <tr>\n",
       "      <th>45</th>\n",
       "      <td>마이크 터크먼</td>\n",
       "      <td>1.0</td>\n",
       "      <td>0.0</td>\n",
       "    </tr>\n",
       "  </tbody>\n",
       "</table>\n",
       "</div>"
      ],
      "text/plain": [
       "             이름  재계약  predict\n",
       "0           대니돈  1.0      0.0\n",
       "1        헥터 고메즈  0.0      1.0\n",
       "2       윌린 로사리오  1.0      0.0\n",
       "3       저스틴 맥스웰  0.0      0.0\n",
       "4      재비어 스크럭스  1.0      0.0\n",
       "5        제임스 로니  0.0      0.0\n",
       "6         대니 워스  0.0      0.0\n",
       "7        제이미 로맥  1.0      0.0\n",
       "8         다린 러프  1.0      0.0\n",
       "9       지미 파레디스  0.0      0.0\n",
       "10    스캇 반 슬라이크  0.0      0.0\n",
       "11    아도니스 가르시아  0.0      0.0\n",
       "12        제리 샌즈  1.0      1.0\n",
       "13       제라드 호잉  1.0      0.0\n",
       "14  호세 미겔 페르난데스  1.0      0.0\n",
       "15    제레미 헤즐베이커  0.0      0.0\n",
       "16      프레스톤 터커  1.0      0.0\n",
       "17       맥 윌리엄슨  0.0      0.0\n",
       "18    카를로스 아수아헤  0.0      1.0\n",
       "19        토미 조셉  0.0      0.0\n",
       "20    제이크 스몰린스키  0.0      1.0\n",
       "21       테일리 모터  0.0      0.0\n",
       "22       에디슨 러셀  0.0      0.0\n",
       "23      타일러 화이트  0.0      0.0\n",
       "24       애런 알테어  1.0      0.0\n",
       "25     타일러 살라디노  0.0      1.0\n",
       "26       다니엘 팔카  0.0      1.0\n",
       "27       브랜든 반즈  0.0      1.0\n",
       "28       딕슨 마차도  1.0      0.0\n",
       "29       저스틴 보어  0.0      0.0\n",
       "30   데이비드 프레이타스  0.0      0.0\n",
       "31       호세 피렐라  1.0      1.0\n",
       "32       라이온 힐리  0.0      0.0\n",
       "33      에르난 페레즈  0.0      1.0\n",
       "34       헨리 라모스  1.0      0.0\n",
       "35      앤서니 알포드  1.0      0.0\n",
       "36       호세 피렐라  1.0      1.0\n",
       "37      로벨 가르시아  0.0      1.0\n",
       "38      야시엘 푸이그  1.0      0.0\n",
       "39        케빈 크론  0.0      1.0\n",
       "40      후안 라가레스  0.0      0.0\n",
       "41        닉 마티니  0.0      0.0\n",
       "42       DJ 피터스  0.0      0.0\n",
       "43         잭 레스  1.0      0.0\n",
       "44    소크라테스 브리토  1.0      0.0\n",
       "45      마이크 터크먼  1.0      0.0"
      ]
     },
     "execution_count": 22,
     "metadata": {},
     "output_type": "execute_result"
    }
   ],
   "source": [
    "temp2[[\"이름\",\"재계약\",\"predict\"]]"
   ]
  },
  {
   "cell_type": "code",
   "execution_count": null,
   "id": "f652fc30",
   "metadata": {},
   "outputs": [],
   "source": []
  },
  {
   "cell_type": "code",
   "execution_count": 13,
   "id": "34e4347f",
   "metadata": {
    "ExecuteTime": {
     "end_time": "2023-03-03T01:45:10.081104Z",
     "start_time": "2023-03-03T01:45:10.066076Z"
    }
   },
   "outputs": [],
   "source": [
    "def plot_feature_importances(model,X,y):\n",
    "    model.fit(X,y)\n",
    "    ftr_importances_values = model.feature_importances_\n",
    "    ftr_importances = pd.Series(ftr_importances_values, index = X.columns)\n",
    "    ftr_top20 = ftr_importances.sort_values(ascending = False)[:20]\n",
    "    \n",
    "    plt.figure(figsize = (8,6))\n",
    "    #plt.title(\"Feature importances Top 20\")\n",
    "    plt.title(\"인공지능이 생각하는 지표 중요도\")\n",
    "    sns.barplot(x=ftr_top20, y = ftr_top20.index)\n",
    "    plt.show()"
   ]
  },
  {
   "cell_type": "code",
   "execution_count": 148,
   "id": "f724dfc8",
   "metadata": {
    "ExecuteTime": {
     "end_time": "2023-02-28T06:22:16.743988Z",
     "start_time": "2023-02-28T06:22:16.731655Z"
    }
   },
   "outputs": [],
   "source": [
    "from sklearn.linear_model import LogisticRegression\n",
    "import matplotlib.pyplot as plt\n",
    "\n",
    "def feature_importances_graph(X,y):\n",
    "    model = LogisticRegression()\n",
    "    model.fit(X,y)\n",
    "    importances = pd.DataFrame(data = {\"Attribute\" : X.columns,\n",
    "                                      \"Importance\" : abs(model.coef_[0])})\n",
    "    importances = importances.sort_values(by = \"Importance\", ascending = False)\n",
    "    \n",
    "    plt.bar(x = importances[\"Attribute\"], height = importances[\"Importance\"])\n",
    "    plt.title(\"Feature importances\", size = 15)\n",
    "    plt.xticks(rotation = 'vertical')\n",
    "    plt.show()"
   ]
  },
  {
   "cell_type": "code",
   "execution_count": 149,
   "id": "fcd50631",
   "metadata": {
    "ExecuteTime": {
     "end_time": "2023-02-28T06:22:30.826585Z",
     "start_time": "2023-02-28T06:22:30.636388Z"
    }
   },
   "outputs": [
    {
     "data": {
      "image/png": "[encoded data removed]",
      "text/plain": [
       "<Figure size 640x480 with 1 Axes>"
      ]
     },
     "metadata": {},
     "output_type": "display_data"
    }
   ],
   "source": [
    "feature_importances_graph(X_train, y_train)"
   ]
  },
  {
   "cell_type": "code",
   "execution_count": 30,
   "id": "1ebc051f",
   "metadata": {
    "ExecuteTime": {
     "end_time": "2023-03-03T01:48:18.642326Z",
     "start_time": "2023-03-03T01:48:16.851237Z"
    }
   },
   "outputs": [
    {
     "data": {
      "image/png": "[encoded data removed]",
      "text/plain": [
       "<Figure size 800x600 with 1 Axes>"
      ]
     },
     "metadata": {},
     "output_type": "display_data"
    }
   ],
   "source": [
    "plot_feature_importances(cat,X_train,y_train)"
   ]
  },
  {
   "cell_type": "code",
   "execution_count": 33,
   "id": "2ae4bf84",
   "metadata": {
    "ExecuteTime": {
     "end_time": "2023-03-03T01:52:27.510207Z",
     "start_time": "2023-03-03T01:52:26.022635Z"
    }
   },
   "outputs": [],
   "source": [
    "cat.fit(X_train,y_train)\n",
    "ftr_importances_values = cat.feature_importances_\n",
    "ftr_importances = pd.Series(ftr_importances_values, index = X_train.columns)\n",
    "ftr_top20 = ftr_importances.sort_values(ascending = False)[:20]"
   ]
  },
  {
   "cell_type": "code",
   "execution_count": 34,
   "id": "9681e754",
   "metadata": {
    "ExecuteTime": {
     "end_time": "2023-03-03T01:52:31.706046Z",
     "start_time": "2023-03-03T01:52:31.693499Z"
    }
   },
   "outputs": [
    {
     "data": {
      "text/plain": [
       "BB%              11.683520\n",
       "K%               10.726065\n",
       "Launch Angle      6.689760\n",
       "Pitches           6.239050\n",
       "Barrels           5.824610\n",
       "HardHit%          5.631071\n",
       "XSLG              5.437022\n",
       "Exit Velocity     5.354125\n",
       "Sweet Spot %      5.231808\n",
       "WOBA              4.954387\n",
       "XWOBACON          4.940307\n",
       "Batted Balls      4.314418\n",
       "XWOBA             4.270920\n",
       "Age               4.268149\n",
       "XBA               4.050653\n",
       "Barrel/PA         3.769380\n",
       "Max EV            3.367314\n",
       "Barrel%           3.247444\n",
       "dtype: float64"
      ]
     },
     "execution_count": 34,
     "metadata": {},
     "output_type": "execute_result"
    }
   ],
   "source": [
    "ftr_top20"
   ]
  },
  {
   "cell_type": "code",
   "execution_count": 120,
   "id": "0fdf5750",
   "metadata": {
    "ExecuteTime": {
     "end_time": "2023-03-03T07:00:51.653195Z",
     "start_time": "2023-03-03T07:00:44.562819Z"
    }
   },
   "outputs": [
    {
     "data": {
      "text/plain": [
       "array([0., 0., 0., 0., 0., 0., 0., 0., 0., 0., 0., 0., 1., 0., 0., 0., 0.,\n",
       "       0., 0., 0., 0., 0., 0., 0., 1., 0., 0., 0., 0., 0., 0., 1., 0., 0.,\n",
       "       0., 0., 1., 1., 0., 1., 0., 0., 0., 0., 0., 0.])"
      ]
     },
     "execution_count": 120,
     "metadata": {},
     "output_type": "execute_result"
    }
   ],
   "source": [
    "from sklearn.preprocessing import StandardScaler\n",
    "ss = StandardScaler()\n",
    "ss.fit(X_train)\n",
    "X_scaled = ss.transform(X_train)\n",
    "cross_predict = cross_val_predict(cat, X_scaled,y_train, cv=skf)\n",
    "cross_predict"
   ]
  },
  {
   "cell_type": "code",
   "execution_count": 121,
   "id": "7172fcdb",
   "metadata": {
    "ExecuteTime": {
     "end_time": "2023-03-03T07:01:01.500891Z",
     "start_time": "2023-03-03T07:01:01.482889Z"
    }
   },
   "outputs": [],
   "source": [
    "xgb = XGBClassifier()\n",
    "svm = SVC()"
   ]
  },
  {
   "cell_type": "code",
   "execution_count": 122,
   "id": "a9827326",
   "metadata": {
    "ExecuteTime": {
     "end_time": "2023-03-03T07:01:08.765894Z",
     "start_time": "2023-03-03T07:01:01.727409Z"
    }
   },
   "outputs": [],
   "source": [
    "temp = cross_val_predict(cat, X_scaled,y_train, cv=skf)"
   ]
  },
  {
   "cell_type": "code",
   "execution_count": 123,
   "id": "d5651717",
   "metadata": {
    "ExecuteTime": {
     "end_time": "2023-03-03T07:01:15.763323Z",
     "start_time": "2023-03-03T07:01:08.769894Z"
    }
   },
   "outputs": [
    {
     "data": {
      "text/plain": [
       "array([[0.70822159, 0.29177841],\n",
       "       [0.54745821, 0.45254179],\n",
       "       [0.8305181 , 0.1694819 ],\n",
       "       [0.86787474, 0.13212526],\n",
       "       [0.86787474, 0.13212526],\n",
       "       [0.69700017, 0.30299983],\n",
       "       [0.6903891 , 0.3096109 ],\n",
       "       [0.63607714, 0.36392286],\n",
       "       [0.7898188 , 0.2101812 ],\n",
       "       [0.76381267, 0.23618733],\n",
       "       [0.61498239, 0.38501761],\n",
       "       [0.6825499 , 0.3174501 ],\n",
       "       [0.46992652, 0.53007348],\n",
       "       [0.70708646, 0.29291354],\n",
       "       [0.7728829 , 0.2271171 ],\n",
       "       [0.61607232, 0.38392768],\n",
       "       [0.77559517, 0.22440483],\n",
       "       [0.74962027, 0.25037973],\n",
       "       [0.61503148, 0.38496852],\n",
       "       [0.82920635, 0.17079365],\n",
       "       [0.65914187, 0.34085813],\n",
       "       [0.69164815, 0.30835185],\n",
       "       [0.63062679, 0.36937321],\n",
       "       [0.71738332, 0.28261668],\n",
       "       [0.45491689, 0.54508311],\n",
       "       [0.52581997, 0.47418003],\n",
       "       [0.56758997, 0.43241003],\n",
       "       [0.52531641, 0.47468359],\n",
       "       [0.7407708 , 0.2592292 ],\n",
       "       [0.79901961, 0.20098039],\n",
       "       [0.6502746 , 0.3497254 ],\n",
       "       [0.19517577, 0.80482423],\n",
       "       [0.75315331, 0.24684669],\n",
       "       [0.51928964, 0.48071036],\n",
       "       [0.65486376, 0.34513624],\n",
       "       [0.66648071, 0.33351929],\n",
       "       [0.21982814, 0.78017186],\n",
       "       [0.44658561, 0.55341439],\n",
       "       [0.77894275, 0.22105725],\n",
       "       [0.38347941, 0.61652059],\n",
       "       [0.69132796, 0.30867204],\n",
       "       [0.70844474, 0.29155526],\n",
       "       [0.68338424, 0.31661576],\n",
       "       [0.56981033, 0.43018967],\n",
       "       [0.69833803, 0.30166197],\n",
       "       [0.81501415, 0.18498585]])"
      ]
     },
     "execution_count": 123,
     "metadata": {},
     "output_type": "execute_result"
    }
   ],
   "source": [
    "cross_val_predict(cat, X_scaled,y_train, cv=skf, method=\"predict_proba\")"
   ]
  },
  {
   "cell_type": "code",
   "execution_count": 124,
   "id": "39a01e67",
   "metadata": {
    "ExecuteTime": {
     "end_time": "2023-03-03T07:01:15.779323Z",
     "start_time": "2023-03-03T07:01:15.767325Z"
    }
   },
   "outputs": [],
   "source": [
    "temp_df = pd.DataFrame({\"name\" : df[\"이름\"],\n",
    "                        \"label\" : df[\"재계약\"],\n",
    "                       \"predict\" : temp})"
   ]
  },
  {
   "cell_type": "code",
   "execution_count": 125,
   "id": "a0fa5681",
   "metadata": {
    "ExecuteTime": {
     "end_time": "2023-03-03T07:01:15.811328Z",
     "start_time": "2023-03-03T07:01:15.783323Z"
    }
   },
   "outputs": [
    {
     "data": {
      "text/html": [
       "<div>\n",
       "<style scoped>\n",
       "    .dataframe tbody tr th:only-of-type {\n",
       "        vertical-align: middle;\n",
       "    }\n",
       "\n",
       "    .dataframe tbody tr th {\n",
       "        vertical-align: top;\n",
       "    }\n",
       "\n",
       "    .dataframe thead th {\n",
       "        text-align: right;\n",
       "    }\n",
       "</style>\n",
       "<table border=\"1\" class=\"dataframe\">\n",
       "  <thead>\n",
       "    <tr style=\"text-align: right;\">\n",
       "      <th></th>\n",
       "      <th>name</th>\n",
       "      <th>label</th>\n",
       "      <th>predict</th>\n",
       "    </tr>\n",
       "  </thead>\n",
       "  <tbody>\n",
       "    <tr>\n",
       "      <th>0</th>\n",
       "      <td>대니 돈</td>\n",
       "      <td>1.0</td>\n",
       "      <td>0.0</td>\n",
       "    </tr>\n",
       "    <tr>\n",
       "      <th>1</th>\n",
       "      <td>헥터 고메즈</td>\n",
       "      <td>0.0</td>\n",
       "      <td>0.0</td>\n",
       "    </tr>\n",
       "    <tr>\n",
       "      <th>2</th>\n",
       "      <td>윌린 로사리오</td>\n",
       "      <td>1.0</td>\n",
       "      <td>0.0</td>\n",
       "    </tr>\n",
       "    <tr>\n",
       "      <th>3</th>\n",
       "      <td>저스틴 맥스웰</td>\n",
       "      <td>0.0</td>\n",
       "      <td>0.0</td>\n",
       "    </tr>\n",
       "    <tr>\n",
       "      <th>4</th>\n",
       "      <td>재비어 스크럭스</td>\n",
       "      <td>1.0</td>\n",
       "      <td>0.0</td>\n",
       "    </tr>\n",
       "    <tr>\n",
       "      <th>5</th>\n",
       "      <td>제임스 로니</td>\n",
       "      <td>0.0</td>\n",
       "      <td>0.0</td>\n",
       "    </tr>\n",
       "    <tr>\n",
       "      <th>6</th>\n",
       "      <td>대니 워스</td>\n",
       "      <td>0.0</td>\n",
       "      <td>0.0</td>\n",
       "    </tr>\n",
       "    <tr>\n",
       "      <th>7</th>\n",
       "      <td>제이미 로맥</td>\n",
       "      <td>1.0</td>\n",
       "      <td>0.0</td>\n",
       "    </tr>\n",
       "    <tr>\n",
       "      <th>8</th>\n",
       "      <td>다린 러프</td>\n",
       "      <td>1.0</td>\n",
       "      <td>0.0</td>\n",
       "    </tr>\n",
       "    <tr>\n",
       "      <th>9</th>\n",
       "      <td>지미 파레디스</td>\n",
       "      <td>0.0</td>\n",
       "      <td>0.0</td>\n",
       "    </tr>\n",
       "    <tr>\n",
       "      <th>10</th>\n",
       "      <td>스캇 반 슬라이크</td>\n",
       "      <td>0.0</td>\n",
       "      <td>0.0</td>\n",
       "    </tr>\n",
       "    <tr>\n",
       "      <th>11</th>\n",
       "      <td>아도니스 가르시아</td>\n",
       "      <td>0.0</td>\n",
       "      <td>0.0</td>\n",
       "    </tr>\n",
       "    <tr>\n",
       "      <th>12</th>\n",
       "      <td>제리 샌즈</td>\n",
       "      <td>1.0</td>\n",
       "      <td>1.0</td>\n",
       "    </tr>\n",
       "    <tr>\n",
       "      <th>13</th>\n",
       "      <td>제라드 호잉</td>\n",
       "      <td>1.0</td>\n",
       "      <td>0.0</td>\n",
       "    </tr>\n",
       "    <tr>\n",
       "      <th>14</th>\n",
       "      <td>호세 미겔 페르난데스</td>\n",
       "      <td>1.0</td>\n",
       "      <td>0.0</td>\n",
       "    </tr>\n",
       "    <tr>\n",
       "      <th>15</th>\n",
       "      <td>제레미 헤즐베이커</td>\n",
       "      <td>0.0</td>\n",
       "      <td>0.0</td>\n",
       "    </tr>\n",
       "    <tr>\n",
       "      <th>16</th>\n",
       "      <td>프레스톤 터커</td>\n",
       "      <td>1.0</td>\n",
       "      <td>0.0</td>\n",
       "    </tr>\n",
       "    <tr>\n",
       "      <th>17</th>\n",
       "      <td>맥 윌리엄슨</td>\n",
       "      <td>0.0</td>\n",
       "      <td>0.0</td>\n",
       "    </tr>\n",
       "    <tr>\n",
       "      <th>18</th>\n",
       "      <td>카를로스 아수아헤</td>\n",
       "      <td>0.0</td>\n",
       "      <td>0.0</td>\n",
       "    </tr>\n",
       "    <tr>\n",
       "      <th>19</th>\n",
       "      <td>토미 조셉</td>\n",
       "      <td>0.0</td>\n",
       "      <td>0.0</td>\n",
       "    </tr>\n",
       "    <tr>\n",
       "      <th>20</th>\n",
       "      <td>제이크 스몰린스키</td>\n",
       "      <td>0.0</td>\n",
       "      <td>0.0</td>\n",
       "    </tr>\n",
       "    <tr>\n",
       "      <th>21</th>\n",
       "      <td>테일리 모터</td>\n",
       "      <td>0.0</td>\n",
       "      <td>0.0</td>\n",
       "    </tr>\n",
       "    <tr>\n",
       "      <th>22</th>\n",
       "      <td>에디슨 러셀</td>\n",
       "      <td>0.0</td>\n",
       "      <td>0.0</td>\n",
       "    </tr>\n",
       "    <tr>\n",
       "      <th>23</th>\n",
       "      <td>타일러 화이트</td>\n",
       "      <td>0.0</td>\n",
       "      <td>0.0</td>\n",
       "    </tr>\n",
       "    <tr>\n",
       "      <th>24</th>\n",
       "      <td>애런 알테어</td>\n",
       "      <td>1.0</td>\n",
       "      <td>1.0</td>\n",
       "    </tr>\n",
       "    <tr>\n",
       "      <th>25</th>\n",
       "      <td>타일러 살라디노</td>\n",
       "      <td>0.0</td>\n",
       "      <td>0.0</td>\n",
       "    </tr>\n",
       "    <tr>\n",
       "      <th>26</th>\n",
       "      <td>다니엘 팔카</td>\n",
       "      <td>0.0</td>\n",
       "      <td>0.0</td>\n",
       "    </tr>\n",
       "    <tr>\n",
       "      <th>27</th>\n",
       "      <td>브랜든 반즈</td>\n",
       "      <td>0.0</td>\n",
       "      <td>0.0</td>\n",
       "    </tr>\n",
       "    <tr>\n",
       "      <th>28</th>\n",
       "      <td>딕슨 마차도</td>\n",
       "      <td>1.0</td>\n",
       "      <td>0.0</td>\n",
       "    </tr>\n",
       "    <tr>\n",
       "      <th>29</th>\n",
       "      <td>저스틴 보어</td>\n",
       "      <td>0.0</td>\n",
       "      <td>0.0</td>\n",
       "    </tr>\n",
       "    <tr>\n",
       "      <th>30</th>\n",
       "      <td>데이비드 프레이타스</td>\n",
       "      <td>0.0</td>\n",
       "      <td>0.0</td>\n",
       "    </tr>\n",
       "    <tr>\n",
       "      <th>31</th>\n",
       "      <td>호세 피렐라</td>\n",
       "      <td>1.0</td>\n",
       "      <td>1.0</td>\n",
       "    </tr>\n",
       "    <tr>\n",
       "      <th>32</th>\n",
       "      <td>라이온 힐리</td>\n",
       "      <td>0.0</td>\n",
       "      <td>0.0</td>\n",
       "    </tr>\n",
       "    <tr>\n",
       "      <th>33</th>\n",
       "      <td>에르난 페레즈</td>\n",
       "      <td>0.0</td>\n",
       "      <td>0.0</td>\n",
       "    </tr>\n",
       "    <tr>\n",
       "      <th>34</th>\n",
       "      <td>헨리 라모스</td>\n",
       "      <td>0.0</td>\n",
       "      <td>0.0</td>\n",
       "    </tr>\n",
       "    <tr>\n",
       "      <th>35</th>\n",
       "      <td>앤서니 알포드</td>\n",
       "      <td>1.0</td>\n",
       "      <td>0.0</td>\n",
       "    </tr>\n",
       "    <tr>\n",
       "      <th>36</th>\n",
       "      <td>호세 피렐라</td>\n",
       "      <td>1.0</td>\n",
       "      <td>1.0</td>\n",
       "    </tr>\n",
       "    <tr>\n",
       "      <th>37</th>\n",
       "      <td>로벨 가르시아</td>\n",
       "      <td>0.0</td>\n",
       "      <td>1.0</td>\n",
       "    </tr>\n",
       "    <tr>\n",
       "      <th>38</th>\n",
       "      <td>야시엘 푸이그</td>\n",
       "      <td>0.0</td>\n",
       "      <td>0.0</td>\n",
       "    </tr>\n",
       "    <tr>\n",
       "      <th>39</th>\n",
       "      <td>케빈 크론</td>\n",
       "      <td>0.0</td>\n",
       "      <td>1.0</td>\n",
       "    </tr>\n",
       "    <tr>\n",
       "      <th>40</th>\n",
       "      <td>후안 라가레스</td>\n",
       "      <td>0.0</td>\n",
       "      <td>0.0</td>\n",
       "    </tr>\n",
       "    <tr>\n",
       "      <th>41</th>\n",
       "      <td>닉 마티니</td>\n",
       "      <td>0.0</td>\n",
       "      <td>0.0</td>\n",
       "    </tr>\n",
       "    <tr>\n",
       "      <th>42</th>\n",
       "      <td>DJ 피터스</td>\n",
       "      <td>0.0</td>\n",
       "      <td>0.0</td>\n",
       "    </tr>\n",
       "    <tr>\n",
       "      <th>43</th>\n",
       "      <td>잭 렉스</td>\n",
       "      <td>1.0</td>\n",
       "      <td>0.0</td>\n",
       "    </tr>\n",
       "    <tr>\n",
       "      <th>44</th>\n",
       "      <td>소크라테스 브리토</td>\n",
       "      <td>1.0</td>\n",
       "      <td>0.0</td>\n",
       "    </tr>\n",
       "    <tr>\n",
       "      <th>45</th>\n",
       "      <td>마이크 터크먼</td>\n",
       "      <td>0.0</td>\n",
       "      <td>0.0</td>\n",
       "    </tr>\n",
       "  </tbody>\n",
       "</table>\n",
       "</div>"
      ],
      "text/plain": [
       "           name  label  predict\n",
       "0          대니 돈    1.0      0.0\n",
       "1        헥터 고메즈    0.0      0.0\n",
       "2       윌린 로사리오    1.0      0.0\n",
       "3       저스틴 맥스웰    0.0      0.0\n",
       "4      재비어 스크럭스    1.0      0.0\n",
       "5        제임스 로니    0.0      0.0\n",
       "6         대니 워스    0.0      0.0\n",
       "7        제이미 로맥    1.0      0.0\n",
       "8         다린 러프    1.0      0.0\n",
       "9       지미 파레디스    0.0      0.0\n",
       "10    스캇 반 슬라이크    0.0      0.0\n",
       "11    아도니스 가르시아    0.0      0.0\n",
       "12        제리 샌즈    1.0      1.0\n",
       "13       제라드 호잉    1.0      0.0\n",
       "14  호세 미겔 페르난데스    1.0      0.0\n",
       "15    제레미 헤즐베이커    0.0      0.0\n",
       "16      프레스톤 터커    1.0      0.0\n",
       "17       맥 윌리엄슨    0.0      0.0\n",
       "18    카를로스 아수아헤    0.0      0.0\n",
       "19        토미 조셉    0.0      0.0\n",
       "20    제이크 스몰린스키    0.0      0.0\n",
       "21       테일리 모터    0.0      0.0\n",
       "22       에디슨 러셀    0.0      0.0\n",
       "23      타일러 화이트    0.0      0.0\n",
       "24       애런 알테어    1.0      1.0\n",
       "25     타일러 살라디노    0.0      0.0\n",
       "26       다니엘 팔카    0.0      0.0\n",
       "27       브랜든 반즈    0.0      0.0\n",
       "28       딕슨 마차도    1.0      0.0\n",
       "29       저스틴 보어    0.0      0.0\n",
       "30   데이비드 프레이타스    0.0      0.0\n",
       "31       호세 피렐라    1.0      1.0\n",
       "32       라이온 힐리    0.0      0.0\n",
       "33      에르난 페레즈    0.0      0.0\n",
       "34       헨리 라모스    0.0      0.0\n",
       "35      앤서니 알포드    1.0      0.0\n",
       "36       호세 피렐라    1.0      1.0\n",
       "37      로벨 가르시아    0.0      1.0\n",
       "38      야시엘 푸이그    0.0      0.0\n",
       "39        케빈 크론    0.0      1.0\n",
       "40      후안 라가레스    0.0      0.0\n",
       "41        닉 마티니    0.0      0.0\n",
       "42       DJ 피터스    0.0      0.0\n",
       "43         잭 렉스    1.0      0.0\n",
       "44    소크라테스 브리토    1.0      0.0\n",
       "45      마이크 터크먼    0.0      0.0"
      ]
     },
     "execution_count": 125,
     "metadata": {},
     "output_type": "execute_result"
    }
   ],
   "source": [
    "temp_df"
   ]
  },
  {
   "cell_type": "code",
   "execution_count": 115,
   "id": "595d8eea",
   "metadata": {
    "ExecuteTime": {
     "end_time": "2023-03-03T06:55:53.630294Z",
     "start_time": "2023-03-03T06:55:53.612286Z"
    }
   },
   "outputs": [
    {
     "data": {
      "text/plain": [
       "0.0    30\n",
       "1.0    16\n",
       "Name: label, dtype: int64"
      ]
     },
     "execution_count": 115,
     "metadata": {},
     "output_type": "execute_result"
    }
   ],
   "source": [
    "temp_df[\"label\"].value_counts()"
   ]
  },
  {
   "cell_type": "code",
   "execution_count": 116,
   "id": "fb0b0ed3",
   "metadata": {
    "ExecuteTime": {
     "end_time": "2023-03-03T06:55:58.746421Z",
     "start_time": "2023-03-03T06:55:58.731909Z"
    }
   },
   "outputs": [
    {
     "data": {
      "text/plain": [
       "0.6521739130434783"
      ]
     },
     "execution_count": 116,
     "metadata": {},
     "output_type": "execute_result"
    }
   ],
   "source": [
    "30/46"
   ]
  },
  {
   "cell_type": "code",
   "execution_count": 76,
   "id": "a9fc183c",
   "metadata": {
    "ExecuteTime": {
     "end_time": "2023-03-03T06:25:32.128281Z",
     "start_time": "2023-03-03T06:25:32.120274Z"
    }
   },
   "outputs": [],
   "source": [
    "from sklearn.model_selection import cross_val_predict"
   ]
  },
  {
   "cell_type": "code",
   "execution_count": 83,
   "id": "30c57b89",
   "metadata": {
    "ExecuteTime": {
     "end_time": "2023-03-03T06:26:13.330215Z",
     "start_time": "2023-03-03T06:26:13.295217Z"
    }
   },
   "outputs": [],
   "source": [
    "temp = cross_val_predict(svm, X_train,y_train, cv=skf)"
   ]
  },
  {
   "cell_type": "code",
   "execution_count": 84,
   "id": "42f68bcb",
   "metadata": {
    "ExecuteTime": {
     "end_time": "2023-03-03T06:26:13.773492Z",
     "start_time": "2023-03-03T06:26:13.766305Z"
    }
   },
   "outputs": [
    {
     "data": {
      "text/plain": [
       "46"
      ]
     },
     "execution_count": 84,
     "metadata": {},
     "output_type": "execute_result"
    }
   ],
   "source": [
    "len(temp)"
   ]
  },
  {
   "cell_type": "code",
   "execution_count": 85,
   "id": "d1b76322",
   "metadata": {
    "ExecuteTime": {
     "end_time": "2023-03-03T06:26:14.168201Z",
     "start_time": "2023-03-03T06:26:14.148197Z"
    }
   },
   "outputs": [
    {
     "data": {
      "text/plain": [
       "array([0., 0., 0., 0., 0., 0., 0., 0., 0., 0., 0., 0., 0., 0., 0., 0., 0.,\n",
       "       0., 0., 0., 0., 0., 0., 0., 0., 0., 0., 0., 0., 0., 0., 0., 0., 0.,\n",
       "       0., 0., 0., 0., 0., 0., 0., 0., 0., 0., 0., 0.])"
      ]
     },
     "execution_count": 85,
     "metadata": {},
     "output_type": "execute_result"
    }
   ],
   "source": [
    "temp"
   ]
  },
  {
   "cell_type": "code",
   "execution_count": 80,
   "id": "3311a414",
   "metadata": {
    "ExecuteTime": {
     "end_time": "2023-03-03T06:25:33.458182Z",
     "start_time": "2023-03-03T06:25:33.445177Z"
    }
   },
   "outputs": [],
   "source": [
    "temp_df = pd.DataFrame({\"name\" : df[\"이름\"],\n",
    "                        \"label\" : df[\"재계약\"],\n",
    "                       \"predict\" : temp})"
   ]
  },
  {
   "cell_type": "code",
   "execution_count": 81,
   "id": "ea5ebd21",
   "metadata": {
    "ExecuteTime": {
     "end_time": "2023-03-03T06:25:34.176195Z",
     "start_time": "2023-03-03T06:25:34.145652Z"
    }
   },
   "outputs": [
    {
     "data": {
      "text/html": [
       "<div>\n",
       "<style scoped>\n",
       "    .dataframe tbody tr th:only-of-type {\n",
       "        vertical-align: middle;\n",
       "    }\n",
       "\n",
       "    .dataframe tbody tr th {\n",
       "        vertical-align: top;\n",
       "    }\n",
       "\n",
       "    .dataframe thead th {\n",
       "        text-align: right;\n",
       "    }\n",
       "</style>\n",
       "<table border=\"1\" class=\"dataframe\">\n",
       "  <thead>\n",
       "    <tr style=\"text-align: right;\">\n",
       "      <th></th>\n",
       "      <th>name</th>\n",
       "      <th>label</th>\n",
       "      <th>predict</th>\n",
       "    </tr>\n",
       "  </thead>\n",
       "  <tbody>\n",
       "    <tr>\n",
       "      <th>0</th>\n",
       "      <td>대니 돈</td>\n",
       "      <td>1.0</td>\n",
       "      <td>0.0</td>\n",
       "    </tr>\n",
       "    <tr>\n",
       "      <th>1</th>\n",
       "      <td>헥터 고메즈</td>\n",
       "      <td>0.0</td>\n",
       "      <td>1.0</td>\n",
       "    </tr>\n",
       "    <tr>\n",
       "      <th>2</th>\n",
       "      <td>윌린 로사리오</td>\n",
       "      <td>1.0</td>\n",
       "      <td>1.0</td>\n",
       "    </tr>\n",
       "    <tr>\n",
       "      <th>3</th>\n",
       "      <td>저스틴 맥스웰</td>\n",
       "      <td>0.0</td>\n",
       "      <td>0.0</td>\n",
       "    </tr>\n",
       "    <tr>\n",
       "      <th>4</th>\n",
       "      <td>재비어 스크럭스</td>\n",
       "      <td>1.0</td>\n",
       "      <td>0.0</td>\n",
       "    </tr>\n",
       "    <tr>\n",
       "      <th>5</th>\n",
       "      <td>제임스 로니</td>\n",
       "      <td>0.0</td>\n",
       "      <td>1.0</td>\n",
       "    </tr>\n",
       "    <tr>\n",
       "      <th>6</th>\n",
       "      <td>대니 워스</td>\n",
       "      <td>0.0</td>\n",
       "      <td>1.0</td>\n",
       "    </tr>\n",
       "    <tr>\n",
       "      <th>7</th>\n",
       "      <td>제이미 로맥</td>\n",
       "      <td>1.0</td>\n",
       "      <td>0.0</td>\n",
       "    </tr>\n",
       "    <tr>\n",
       "      <th>8</th>\n",
       "      <td>다린 러프</td>\n",
       "      <td>1.0</td>\n",
       "      <td>1.0</td>\n",
       "    </tr>\n",
       "    <tr>\n",
       "      <th>9</th>\n",
       "      <td>지미 파레디스</td>\n",
       "      <td>0.0</td>\n",
       "      <td>1.0</td>\n",
       "    </tr>\n",
       "    <tr>\n",
       "      <th>10</th>\n",
       "      <td>스캇 반 슬라이크</td>\n",
       "      <td>0.0</td>\n",
       "      <td>1.0</td>\n",
       "    </tr>\n",
       "    <tr>\n",
       "      <th>11</th>\n",
       "      <td>아도니스 가르시아</td>\n",
       "      <td>0.0</td>\n",
       "      <td>0.0</td>\n",
       "    </tr>\n",
       "    <tr>\n",
       "      <th>12</th>\n",
       "      <td>제리 샌즈</td>\n",
       "      <td>1.0</td>\n",
       "      <td>1.0</td>\n",
       "    </tr>\n",
       "    <tr>\n",
       "      <th>13</th>\n",
       "      <td>제라드 호잉</td>\n",
       "      <td>1.0</td>\n",
       "      <td>0.0</td>\n",
       "    </tr>\n",
       "    <tr>\n",
       "      <th>14</th>\n",
       "      <td>호세 미겔 페르난데스</td>\n",
       "      <td>1.0</td>\n",
       "      <td>0.0</td>\n",
       "    </tr>\n",
       "    <tr>\n",
       "      <th>15</th>\n",
       "      <td>제레미 헤즐베이커</td>\n",
       "      <td>0.0</td>\n",
       "      <td>0.0</td>\n",
       "    </tr>\n",
       "    <tr>\n",
       "      <th>16</th>\n",
       "      <td>프레스톤 터커</td>\n",
       "      <td>1.0</td>\n",
       "      <td>0.0</td>\n",
       "    </tr>\n",
       "    <tr>\n",
       "      <th>17</th>\n",
       "      <td>맥 윌리엄슨</td>\n",
       "      <td>0.0</td>\n",
       "      <td>0.0</td>\n",
       "    </tr>\n",
       "    <tr>\n",
       "      <th>18</th>\n",
       "      <td>카를로스 아수아헤</td>\n",
       "      <td>0.0</td>\n",
       "      <td>0.0</td>\n",
       "    </tr>\n",
       "    <tr>\n",
       "      <th>19</th>\n",
       "      <td>토미 조셉</td>\n",
       "      <td>0.0</td>\n",
       "      <td>0.0</td>\n",
       "    </tr>\n",
       "    <tr>\n",
       "      <th>20</th>\n",
       "      <td>제이크 스몰린스키</td>\n",
       "      <td>0.0</td>\n",
       "      <td>1.0</td>\n",
       "    </tr>\n",
       "    <tr>\n",
       "      <th>21</th>\n",
       "      <td>테일리 모터</td>\n",
       "      <td>0.0</td>\n",
       "      <td>0.0</td>\n",
       "    </tr>\n",
       "    <tr>\n",
       "      <th>22</th>\n",
       "      <td>에디슨 러셀</td>\n",
       "      <td>0.0</td>\n",
       "      <td>0.0</td>\n",
       "    </tr>\n",
       "    <tr>\n",
       "      <th>23</th>\n",
       "      <td>타일러 화이트</td>\n",
       "      <td>0.0</td>\n",
       "      <td>0.0</td>\n",
       "    </tr>\n",
       "    <tr>\n",
       "      <th>24</th>\n",
       "      <td>애런 알테어</td>\n",
       "      <td>1.0</td>\n",
       "      <td>1.0</td>\n",
       "    </tr>\n",
       "    <tr>\n",
       "      <th>25</th>\n",
       "      <td>타일러 살라디노</td>\n",
       "      <td>0.0</td>\n",
       "      <td>1.0</td>\n",
       "    </tr>\n",
       "    <tr>\n",
       "      <th>26</th>\n",
       "      <td>다니엘 팔카</td>\n",
       "      <td>0.0</td>\n",
       "      <td>0.0</td>\n",
       "    </tr>\n",
       "    <tr>\n",
       "      <th>27</th>\n",
       "      <td>브랜든 반즈</td>\n",
       "      <td>0.0</td>\n",
       "      <td>0.0</td>\n",
       "    </tr>\n",
       "    <tr>\n",
       "      <th>28</th>\n",
       "      <td>딕슨 마차도</td>\n",
       "      <td>1.0</td>\n",
       "      <td>0.0</td>\n",
       "    </tr>\n",
       "    <tr>\n",
       "      <th>29</th>\n",
       "      <td>저스틴 보어</td>\n",
       "      <td>0.0</td>\n",
       "      <td>0.0</td>\n",
       "    </tr>\n",
       "    <tr>\n",
       "      <th>30</th>\n",
       "      <td>데이비드 프레이타스</td>\n",
       "      <td>0.0</td>\n",
       "      <td>0.0</td>\n",
       "    </tr>\n",
       "    <tr>\n",
       "      <th>31</th>\n",
       "      <td>호세 피렐라</td>\n",
       "      <td>1.0</td>\n",
       "      <td>0.0</td>\n",
       "    </tr>\n",
       "    <tr>\n",
       "      <th>32</th>\n",
       "      <td>라이온 힐리</td>\n",
       "      <td>0.0</td>\n",
       "      <td>0.0</td>\n",
       "    </tr>\n",
       "    <tr>\n",
       "      <th>33</th>\n",
       "      <td>에르난 페레즈</td>\n",
       "      <td>0.0</td>\n",
       "      <td>0.0</td>\n",
       "    </tr>\n",
       "    <tr>\n",
       "      <th>34</th>\n",
       "      <td>헨리 라모스</td>\n",
       "      <td>0.0</td>\n",
       "      <td>0.0</td>\n",
       "    </tr>\n",
       "    <tr>\n",
       "      <th>35</th>\n",
       "      <td>앤서니 알포드</td>\n",
       "      <td>1.0</td>\n",
       "      <td>0.0</td>\n",
       "    </tr>\n",
       "    <tr>\n",
       "      <th>36</th>\n",
       "      <td>호세 피렐라</td>\n",
       "      <td>1.0</td>\n",
       "      <td>0.0</td>\n",
       "    </tr>\n",
       "    <tr>\n",
       "      <th>37</th>\n",
       "      <td>로벨 가르시아</td>\n",
       "      <td>0.0</td>\n",
       "      <td>1.0</td>\n",
       "    </tr>\n",
       "    <tr>\n",
       "      <th>38</th>\n",
       "      <td>야시엘 푸이그</td>\n",
       "      <td>0.0</td>\n",
       "      <td>0.0</td>\n",
       "    </tr>\n",
       "    <tr>\n",
       "      <th>39</th>\n",
       "      <td>케빈 크론</td>\n",
       "      <td>0.0</td>\n",
       "      <td>1.0</td>\n",
       "    </tr>\n",
       "    <tr>\n",
       "      <th>40</th>\n",
       "      <td>후안 라가레스</td>\n",
       "      <td>0.0</td>\n",
       "      <td>0.0</td>\n",
       "    </tr>\n",
       "    <tr>\n",
       "      <th>41</th>\n",
       "      <td>닉 마티니</td>\n",
       "      <td>0.0</td>\n",
       "      <td>0.0</td>\n",
       "    </tr>\n",
       "    <tr>\n",
       "      <th>42</th>\n",
       "      <td>DJ 피터스</td>\n",
       "      <td>0.0</td>\n",
       "      <td>1.0</td>\n",
       "    </tr>\n",
       "    <tr>\n",
       "      <th>43</th>\n",
       "      <td>잭 렉스</td>\n",
       "      <td>1.0</td>\n",
       "      <td>1.0</td>\n",
       "    </tr>\n",
       "    <tr>\n",
       "      <th>44</th>\n",
       "      <td>소크라테스 브리토</td>\n",
       "      <td>1.0</td>\n",
       "      <td>0.0</td>\n",
       "    </tr>\n",
       "    <tr>\n",
       "      <th>45</th>\n",
       "      <td>마이크 터크먼</td>\n",
       "      <td>0.0</td>\n",
       "      <td>0.0</td>\n",
       "    </tr>\n",
       "  </tbody>\n",
       "</table>\n",
       "</div>"
      ],
      "text/plain": [
       "           name  label  predict\n",
       "0          대니 돈    1.0      0.0\n",
       "1        헥터 고메즈    0.0      1.0\n",
       "2       윌린 로사리오    1.0      1.0\n",
       "3       저스틴 맥스웰    0.0      0.0\n",
       "4      재비어 스크럭스    1.0      0.0\n",
       "5        제임스 로니    0.0      1.0\n",
       "6         대니 워스    0.0      1.0\n",
       "7        제이미 로맥    1.0      0.0\n",
       "8         다린 러프    1.0      1.0\n",
       "9       지미 파레디스    0.0      1.0\n",
       "10    스캇 반 슬라이크    0.0      1.0\n",
       "11    아도니스 가르시아    0.0      0.0\n",
       "12        제리 샌즈    1.0      1.0\n",
       "13       제라드 호잉    1.0      0.0\n",
       "14  호세 미겔 페르난데스    1.0      0.0\n",
       "15    제레미 헤즐베이커    0.0      0.0\n",
       "16      프레스톤 터커    1.0      0.0\n",
       "17       맥 윌리엄슨    0.0      0.0\n",
       "18    카를로스 아수아헤    0.0      0.0\n",
       "19        토미 조셉    0.0      0.0\n",
       "20    제이크 스몰린스키    0.0      1.0\n",
       "21       테일리 모터    0.0      0.0\n",
       "22       에디슨 러셀    0.0      0.0\n",
       "23      타일러 화이트    0.0      0.0\n",
       "24       애런 알테어    1.0      1.0\n",
       "25     타일러 살라디노    0.0      1.0\n",
       "26       다니엘 팔카    0.0      0.0\n",
       "27       브랜든 반즈    0.0      0.0\n",
       "28       딕슨 마차도    1.0      0.0\n",
       "29       저스틴 보어    0.0      0.0\n",
       "30   데이비드 프레이타스    0.0      0.0\n",
       "31       호세 피렐라    1.0      0.0\n",
       "32       라이온 힐리    0.0      0.0\n",
       "33      에르난 페레즈    0.0      0.0\n",
       "34       헨리 라모스    0.0      0.0\n",
       "35      앤서니 알포드    1.0      0.0\n",
       "36       호세 피렐라    1.0      0.0\n",
       "37      로벨 가르시아    0.0      1.0\n",
       "38      야시엘 푸이그    0.0      0.0\n",
       "39        케빈 크론    0.0      1.0\n",
       "40      후안 라가레스    0.0      0.0\n",
       "41        닉 마티니    0.0      0.0\n",
       "42       DJ 피터스    0.0      1.0\n",
       "43         잭 렉스    1.0      1.0\n",
       "44    소크라테스 브리토    1.0      0.0\n",
       "45      마이크 터크먼    0.0      0.0"
      ]
     },
     "execution_count": 81,
     "metadata": {},
     "output_type": "execute_result"
    }
   ],
   "source": [
    "temp_df"
   ]
  },
  {
   "cell_type": "code",
   "execution_count": null,
   "id": "00571a7c",
   "metadata": {},
   "outputs": [],
   "source": []
  },
  {
   "cell_type": "code",
   "execution_count": null,
   "id": "22c5fda9",
   "metadata": {},
   "outputs": [],
   "source": []
  },
  {
   "cell_type": "code",
   "execution_count": 11,
   "id": "a85bb09d",
   "metadata": {
    "ExecuteTime": {
     "end_time": "2023-02-27T03:41:31.422556Z",
     "start_time": "2023-02-27T03:41:24.122583Z"
    }
   },
   "outputs": [
    {
     "data": {
      "text/plain": [
       "0.36"
      ]
     },
     "execution_count": 11,
     "metadata": {},
     "output_type": "execute_result"
    }
   ],
   "source": [
    "cross_val_score(cat, X_train, y_train, cv=skf, scoring = \"f1\" ).mean()"
   ]
  },
  {
   "cell_type": "code",
   "execution_count": 12,
   "id": "a0e866f6",
   "metadata": {
    "ExecuteTime": {
     "end_time": "2023-02-27T03:41:38.662413Z",
     "start_time": "2023-02-27T03:41:31.427560Z"
    }
   },
   "outputs": [
    {
     "data": {
      "text/plain": [
       "0.26666666666666666"
      ]
     },
     "execution_count": 12,
     "metadata": {},
     "output_type": "execute_result"
    }
   ],
   "source": [
    "cross_val_score(cat, X_train, y_train, cv=skf, scoring = \"recall\" ).mean()"
   ]
  },
  {
   "cell_type": "code",
   "execution_count": 152,
   "id": "4b0be6c4",
   "metadata": {
    "ExecuteTime": {
     "end_time": "2023-02-28T06:25:04.293603Z",
     "start_time": "2023-02-28T06:24:57.049410Z"
    }
   },
   "outputs": [
    {
     "data": {
      "text/plain": [
       "0.6"
      ]
     },
     "execution_count": 152,
     "metadata": {},
     "output_type": "execute_result"
    }
   ],
   "source": [
    "cross_val_score(cat, X_train, y_train, cv=skf, scoring = \"precision\" ).mean()"
   ]
  },
  {
   "cell_type": "code",
   "execution_count": 14,
   "id": "9d20464c",
   "metadata": {
    "ExecuteTime": {
     "end_time": "2023-02-27T03:41:52.830637Z",
     "start_time": "2023-02-27T03:41:45.748314Z"
    }
   },
   "outputs": [
    {
     "data": {
      "text/plain": [
       "0.4958333333333333"
      ]
     },
     "execution_count": 14,
     "metadata": {},
     "output_type": "execute_result"
    }
   ],
   "source": [
    "cross_val_score(cat, X_train, y_train, cv=skf, scoring = \"roc_auc\" ).mean()"
   ]
  },
  {
   "cell_type": "code",
   "execution_count": 129,
   "id": "a75a5710",
   "metadata": {
    "ExecuteTime": {
     "end_time": "2023-02-28T04:40:53.455140Z",
     "start_time": "2023-02-28T04:40:45.730346Z"
    }
   },
   "outputs": [
    {
     "data": {
      "text/plain": [
       "0.6977777777777777"
      ]
     },
     "execution_count": 129,
     "metadata": {},
     "output_type": "execute_result"
    }
   ],
   "source": [
    "cross_val_score(cat, X_train, y_train, cv=skf, scoring = \"accuracy\" ).mean()"
   ]
  },
  {
   "cell_type": "code",
   "execution_count": 150,
   "id": "398b53c8",
   "metadata": {
    "ExecuteTime": {
     "end_time": "2023-02-28T06:23:03.093616Z",
     "start_time": "2023-02-28T06:23:02.993101Z"
    }
   },
   "outputs": [
    {
     "data": {
      "text/plain": [
       "0.5511111111111111"
      ]
     },
     "execution_count": 150,
     "metadata": {},
     "output_type": "execute_result"
    }
   ],
   "source": [
    "cross_val_score(lr, X_train, y_train, cv=skf, scoring = \"accuracy\" ).mean()"
   ]
  },
  {
   "cell_type": "code",
   "execution_count": 151,
   "id": "17cc72eb",
   "metadata": {
    "ExecuteTime": {
     "end_time": "2023-02-28T06:23:12.614404Z",
     "start_time": "2023-02-28T06:23:12.532394Z"
    }
   },
   "outputs": [
    {
     "data": {
      "text/plain": [
       "0.3333333333333333"
      ]
     },
     "execution_count": 151,
     "metadata": {},
     "output_type": "execute_result"
    }
   ],
   "source": [
    "cross_val_score(lr, X_train, y_train, cv=skf, scoring = \"precision\" ).mean()"
   ]
  },
  {
   "cell_type": "code",
   "execution_count": 31,
   "id": "c55e8c44",
   "metadata": {},
   "outputs": [
    {
     "data": {
      "text/plain": [
       "0.0    30\n",
       "1.0    16\n",
       "Name: 재계약, dtype: int64"
      ]
     },
     "execution_count": 31,
     "metadata": {},
     "output_type": "execute_result"
    }
   ],
   "source": [
    "y_train.value_counts()"
   ]
  },
  {
   "cell_type": "markdown",
   "id": "9ff8deaf",
   "metadata": {},
   "source": [
    "## 2023 예측"
   ]
  },
  {
   "cell_type": "code",
   "execution_count": 169,
   "id": "79e1210e",
   "metadata": {
    "ExecuteTime": {
     "end_time": "2023-02-28T07:35:09.987683Z",
     "start_time": "2023-02-28T07:35:09.978688Z"
    }
   },
   "outputs": [],
   "source": [
    "df_original = data.copy()\n",
    "df = df_original.iloc[-5:]\n",
    "X_test = df.drop(columns = [\"영문이름\",\"이름\",\"Season\",\"재계약\"])\n",
    "y_test = df[\"재계약\"]"
   ]
  },
  {
   "cell_type": "code",
   "execution_count": 171,
   "id": "c69195b9",
   "metadata": {
    "ExecuteTime": {
     "end_time": "2023-02-28T07:38:53.960694Z",
     "start_time": "2023-02-28T07:38:52.467543Z"
    }
   },
   "outputs": [
    {
     "data": {
      "text/plain": [
       "<catboost.core.CatBoostClassifier at 0x1e20b854f40>"
      ]
     },
     "execution_count": 171,
     "metadata": {},
     "output_type": "execute_result"
    }
   ],
   "source": [
    "cat.fit(X_train, y_train)"
   ]
  },
  {
   "cell_type": "code",
   "execution_count": 173,
   "id": "c22d7567",
   "metadata": {
    "ExecuteTime": {
     "end_time": "2023-02-28T07:55:04.541250Z",
     "start_time": "2023-02-28T07:55:04.521249Z"
    }
   },
   "outputs": [
    {
     "data": {
      "text/html": [
       "<div>\n",
       "<style scoped>\n",
       "    .dataframe tbody tr th:only-of-type {\n",
       "        vertical-align: middle;\n",
       "    }\n",
       "\n",
       "    .dataframe tbody tr th {\n",
       "        vertical-align: top;\n",
       "    }\n",
       "\n",
       "    .dataframe thead th {\n",
       "        text-align: right;\n",
       "    }\n",
       "</style>\n",
       "<table border=\"1\" class=\"dataframe\">\n",
       "  <thead>\n",
       "    <tr style=\"text-align: right;\">\n",
       "      <th></th>\n",
       "      <th>Age</th>\n",
       "      <th>Pitches</th>\n",
       "      <th>Batted Balls</th>\n",
       "      <th>Barrels</th>\n",
       "      <th>Barrel%</th>\n",
       "      <th>Barrel/PA</th>\n",
       "      <th>Exit Velocity</th>\n",
       "      <th>Max EV</th>\n",
       "      <th>Launch Angle</th>\n",
       "      <th>Sweet Spot %</th>\n",
       "      <th>XBA</th>\n",
       "      <th>XSLG</th>\n",
       "      <th>WOBA</th>\n",
       "      <th>XWOBA</th>\n",
       "      <th>XWOBACON</th>\n",
       "      <th>HardHit%</th>\n",
       "      <th>K%</th>\n",
       "      <th>BB%</th>\n",
       "    </tr>\n",
       "  </thead>\n",
       "  <tbody>\n",
       "    <tr>\n",
       "      <th>46</th>\n",
       "      <td>31</td>\n",
       "      <td>347</td>\n",
       "      <td>44</td>\n",
       "      <td>5</td>\n",
       "      <td>11.4</td>\n",
       "      <td>6.1</td>\n",
       "      <td>86.0</td>\n",
       "      <td>107.3</td>\n",
       "      <td>14.6</td>\n",
       "      <td>38.6</td>\n",
       "      <td>0.160</td>\n",
       "      <td>0.289</td>\n",
       "      <td>0.246</td>\n",
       "      <td>0.228</td>\n",
       "      <td>0.331</td>\n",
       "      <td>31.8</td>\n",
       "      <td>39.0</td>\n",
       "      <td>7.3</td>\n",
       "    </tr>\n",
       "    <tr>\n",
       "      <th>47</th>\n",
       "      <td>27</td>\n",
       "      <td>170</td>\n",
       "      <td>21</td>\n",
       "      <td>1</td>\n",
       "      <td>4.8</td>\n",
       "      <td>2.6</td>\n",
       "      <td>87.4</td>\n",
       "      <td>107.1</td>\n",
       "      <td>5.1</td>\n",
       "      <td>33.3</td>\n",
       "      <td>0.193</td>\n",
       "      <td>0.311</td>\n",
       "      <td>0.320</td>\n",
       "      <td>0.290</td>\n",
       "      <td>0.327</td>\n",
       "      <td>33.3</td>\n",
       "      <td>28.9</td>\n",
       "      <td>15.8</td>\n",
       "    </tr>\n",
       "    <tr>\n",
       "      <th>48</th>\n",
       "      <td>25</td>\n",
       "      <td>608</td>\n",
       "      <td>105</td>\n",
       "      <td>8</td>\n",
       "      <td>7.6</td>\n",
       "      <td>5.2</td>\n",
       "      <td>87.5</td>\n",
       "      <td>108.1</td>\n",
       "      <td>11.4</td>\n",
       "      <td>33.3</td>\n",
       "      <td>0.226</td>\n",
       "      <td>0.380</td>\n",
       "      <td>0.260</td>\n",
       "      <td>0.280</td>\n",
       "      <td>0.359</td>\n",
       "      <td>33.3</td>\n",
       "      <td>26.6</td>\n",
       "      <td>5.2</td>\n",
       "    </tr>\n",
       "    <tr>\n",
       "      <th>49</th>\n",
       "      <td>29</td>\n",
       "      <td>228</td>\n",
       "      <td>37</td>\n",
       "      <td>1</td>\n",
       "      <td>2.7</td>\n",
       "      <td>1.8</td>\n",
       "      <td>84.8</td>\n",
       "      <td>107.0</td>\n",
       "      <td>27.9</td>\n",
       "      <td>21.6</td>\n",
       "      <td>0.167</td>\n",
       "      <td>0.231</td>\n",
       "      <td>0.134</td>\n",
       "      <td>0.182</td>\n",
       "      <td>0.264</td>\n",
       "      <td>32.4</td>\n",
       "      <td>33.3</td>\n",
       "      <td>0.0</td>\n",
       "    </tr>\n",
       "    <tr>\n",
       "      <th>50</th>\n",
       "      <td>29</td>\n",
       "      <td>272</td>\n",
       "      <td>36</td>\n",
       "      <td>2</td>\n",
       "      <td>5.6</td>\n",
       "      <td>3.3</td>\n",
       "      <td>89.6</td>\n",
       "      <td>106.0</td>\n",
       "      <td>21.5</td>\n",
       "      <td>22.2</td>\n",
       "      <td>0.197</td>\n",
       "      <td>0.344</td>\n",
       "      <td>0.265</td>\n",
       "      <td>0.293</td>\n",
       "      <td>0.344</td>\n",
       "      <td>44.4</td>\n",
       "      <td>27.9</td>\n",
       "      <td>13.1</td>\n",
       "    </tr>\n",
       "  </tbody>\n",
       "</table>\n",
       "</div>"
      ],
      "text/plain": [
       "    Age  Pitches  Batted Balls  Barrels  Barrel%  Barrel/PA  Exit Velocity  \\\n",
       "46   31      347            44        5     11.4        6.1           86.0   \n",
       "47   27      170            21        1      4.8        2.6           87.4   \n",
       "48   25      608           105        8      7.6        5.2           87.5   \n",
       "49   29      228            37        1      2.7        1.8           84.8   \n",
       "50   29      272            36        2      5.6        3.3           89.6   \n",
       "\n",
       "    Max EV  Launch Angle  Sweet Spot %    XBA   XSLG   WOBA  XWOBA  XWOBACON  \\\n",
       "46   107.3          14.6          38.6  0.160  0.289  0.246  0.228     0.331   \n",
       "47   107.1           5.1          33.3  0.193  0.311  0.320  0.290     0.327   \n",
       "48   108.1          11.4          33.3  0.226  0.380  0.260  0.280     0.359   \n",
       "49   107.0          27.9          21.6  0.167  0.231  0.134  0.182     0.264   \n",
       "50   106.0          21.5          22.2  0.197  0.344  0.265  0.293     0.344   \n",
       "\n",
       "    HardHit%    K%   BB%  \n",
       "46      31.8  39.0   7.3  \n",
       "47      33.3  28.9  15.8  \n",
       "48      33.3  26.6   5.2  \n",
       "49      32.4  33.3   0.0  \n",
       "50      44.4  27.9  13.1  "
      ]
     },
     "execution_count": 173,
     "metadata": {},
     "output_type": "execute_result"
    }
   ],
   "source": [
    "X_test"
   ]
  },
  {
   "cell_type": "code",
   "execution_count": 172,
   "id": "b235cc7b",
   "metadata": {
    "ExecuteTime": {
     "end_time": "2023-02-28T07:39:12.257276Z",
     "start_time": "2023-02-28T07:39:12.244755Z"
    }
   },
   "outputs": [
    {
     "data": {
      "text/plain": [
       "array([[0.43913406, 0.56086594],\n",
       "       [0.78404867, 0.21595133],\n",
       "       [0.66560205, 0.33439795],\n",
       "       [0.63242286, 0.36757714],\n",
       "       [0.7711966 , 0.2288034 ]])"
      ]
     },
     "execution_count": 172,
     "metadata": {},
     "output_type": "execute_result"
    }
   ],
   "source": [
    "cat.predict_proba(X_test)"
   ]
  },
  {
   "cell_type": "code",
   "execution_count": null,
   "id": "10913477",
   "metadata": {},
   "outputs": [],
   "source": []
  },
  {
   "cell_type": "code",
   "execution_count": 38,
   "id": "f1ddb9c5",
   "metadata": {},
   "outputs": [],
   "source": [
    "drop_indexes = X_train[X_train[\"Batted Balls\"] < 30].index"
   ]
  },
  {
   "cell_type": "code",
   "execution_count": 51,
   "id": "26de8f06",
   "metadata": {},
   "outputs": [
    {
     "data": {
      "text/plain": [
       "Int64Index([0, 7, 10, 20, 21, 27, 30, 31, 36, 39, 41, 43, 44], dtype='int64')"
      ]
     },
     "execution_count": 51,
     "metadata": {},
     "output_type": "execute_result"
    }
   ],
   "source": [
    "drop_indexes"
   ]
  },
  {
   "cell_type": "code",
   "execution_count": 43,
   "id": "a7692e2e",
   "metadata": {},
   "outputs": [],
   "source": [
    "X_train2 = X_train.drop(index = drop_indexes).reset_index(drop = True)\n",
    "y_train2 = y_train.drop(index = drop_indexes).reset_index(drop = True)"
   ]
  },
  {
   "cell_type": "code",
   "execution_count": 44,
   "id": "7bd08ff5",
   "metadata": {},
   "outputs": [
    {
     "data": {
      "text/plain": [
       "0.0    23\n",
       "1.0    10\n",
       "Name: 재계약, dtype: int64"
      ]
     },
     "execution_count": 44,
     "metadata": {},
     "output_type": "execute_result"
    }
   ],
   "source": [
    "y_train2.value_counts()"
   ]
  },
  {
   "cell_type": "code",
   "execution_count": 45,
   "id": "cd66dd5f",
   "metadata": {},
   "outputs": [
    {
     "data": {
      "text/plain": [
       "array([0.71428571, 0.71428571, 0.71428571, 0.66666667, 0.66666667])"
      ]
     },
     "execution_count": 45,
     "metadata": {},
     "output_type": "execute_result"
    }
   ],
   "source": [
    "cross_val_score(cat, X_train2, y_train2, cv=skf, scoring = \"accuracy\" )"
   ]
  },
  {
   "cell_type": "code",
   "execution_count": 50,
   "id": "7e30c7fa",
   "metadata": {},
   "outputs": [
    {
     "data": {
      "text/plain": [
       "array([0., 0., 0., 0., 0.])"
      ]
     },
     "execution_count": 50,
     "metadata": {},
     "output_type": "execute_result"
    }
   ],
   "source": [
    "cross_val_score(cat, X_train2, y_train2, cv=skf, scoring = \"f1\" )"
   ]
  },
  {
   "cell_type": "code",
   "execution_count": 47,
   "id": "04e17385",
   "metadata": {},
   "outputs": [
    {
     "data": {
      "text/plain": [
       "array([0., 0., 0., 0., 0.])"
      ]
     },
     "execution_count": 47,
     "metadata": {},
     "output_type": "execute_result"
    }
   ],
   "source": [
    "cross_val_score(cat, X_train2, y_train2, cv=skf, scoring = \"recall\" )"
   ]
  },
  {
   "cell_type": "code",
   "execution_count": 48,
   "id": "c4d7977a",
   "metadata": {},
   "outputs": [
    {
     "data": {
      "text/plain": [
       "array([0., 0., 0., 0., 0.])"
      ]
     },
     "execution_count": 48,
     "metadata": {},
     "output_type": "execute_result"
    }
   ],
   "source": [
    "cross_val_score(cat, X_train2, y_train2, cv=skf, scoring = \"precision\" )"
   ]
  },
  {
   "cell_type": "code",
   "execution_count": 49,
   "id": "a8e379af",
   "metadata": {},
   "outputs": [
    {
     "data": {
      "text/plain": [
       "array([0.15 , 0.4  , 0.6  , 0.875, 0.875])"
      ]
     },
     "execution_count": 49,
     "metadata": {},
     "output_type": "execute_result"
    }
   ],
   "source": [
    "cross_val_score(cat, X_train2, y_train2, cv=skf, scoring = \"roc_auc\" )"
   ]
  },
  {
   "cell_type": "code",
   "execution_count": 101,
   "id": "9fc2454a",
   "metadata": {},
   "outputs": [
    {
     "data": {
      "text/plain": [
       "array([0.28571429, 0.57142857, 0.71428571, 0.66666667, 0.66666667])"
      ]
     },
     "execution_count": 101,
     "metadata": {},
     "output_type": "execute_result"
    }
   ],
   "source": [
    "cross_val_score(xgb, X_train2, y_train2, cv=skf, scoring = \"accuracy\" )"
   ]
  },
  {
   "cell_type": "code",
   "execution_count": 102,
   "id": "ca41203a",
   "metadata": {},
   "outputs": [
    {
     "data": {
      "text/plain": [
       "array([0. , 0. , 0.5, 0.5, 0. ])"
      ]
     },
     "execution_count": 102,
     "metadata": {},
     "output_type": "execute_result"
    }
   ],
   "source": [
    "cross_val_score(xgb, X_train2, y_train2, cv=skf, scoring = \"f1\" )"
   ]
  },
  {
   "cell_type": "markdown",
   "id": "0cdcf59c",
   "metadata": {},
   "source": [
    "# 마이너성적 + 배럴타구"
   ]
  },
  {
   "cell_type": "code",
   "execution_count": 155,
   "id": "68b7fc6c",
   "metadata": {
    "ExecuteTime": {
     "end_time": "2023-02-28T06:30:16.406350Z",
     "start_time": "2023-02-28T06:30:16.380810Z"
    }
   },
   "outputs": [],
   "source": [
    "minor = pd.read_csv(\"./외국인타자_마이너성적.csv\")"
   ]
  },
  {
   "cell_type": "code",
   "execution_count": 156,
   "id": "9cd2c94e",
   "metadata": {
    "ExecuteTime": {
     "end_time": "2023-02-28T06:30:16.640719Z",
     "start_time": "2023-02-28T06:30:16.625723Z"
    }
   },
   "outputs": [
    {
     "data": {
      "text/plain": [
       "{'야시엘 푸이그', '제레미 헤즐베이커', '후안 라가레스'}"
      ]
     },
     "execution_count": 156,
     "metadata": {},
     "output_type": "execute_result"
    }
   ],
   "source": [
    "# 메이저에만 있는 선수들\n",
    "set(df[\"이름\"]) - set(minor[\"이름\"])"
   ]
  },
  {
   "cell_type": "code",
   "execution_count": 157,
   "id": "b4918903",
   "metadata": {
    "ExecuteTime": {
     "end_time": "2023-02-28T06:30:16.877999Z",
     "start_time": "2023-02-28T06:30:16.869996Z"
    }
   },
   "outputs": [],
   "source": [
    "df2 = pd.merge(df, minor, on = \"이름\")\n",
    "df2 = df2.drop(columns = [\"영문이름\",\"이름\"])"
   ]
  },
  {
   "cell_type": "code",
   "execution_count": 158,
   "id": "2c6ceb42",
   "metadata": {
    "ExecuteTime": {
     "end_time": "2023-02-28T06:30:17.084834Z",
     "start_time": "2023-02-28T06:30:17.074830Z"
    }
   },
   "outputs": [],
   "source": [
    "X_train3 = df2.drop(columns = [\"재계약\",\"Season\",\"구단\",\"재계약여부\"])\n",
    "y_train3 = df2[\"재계약\"]"
   ]
  },
  {
   "cell_type": "code",
   "execution_count": 159,
   "id": "332ecce0",
   "metadata": {
    "ExecuteTime": {
     "end_time": "2023-02-28T06:30:17.291641Z",
     "start_time": "2023-02-28T06:30:17.275640Z"
    },
    "scrolled": true
   },
   "outputs": [
    {
     "data": {
      "text/plain": [
       "0.0    27\n",
       "1.0    18\n",
       "Name: 재계약, dtype: int64"
      ]
     },
     "execution_count": 159,
     "metadata": {},
     "output_type": "execute_result"
    }
   ],
   "source": [
    "y_train3.value_counts()"
   ]
  },
  {
   "cell_type": "code",
   "execution_count": 168,
   "id": "fdfaebd8",
   "metadata": {
    "ExecuteTime": {
     "end_time": "2023-02-28T06:37:13.058975Z",
     "start_time": "2023-02-28T06:37:13.046990Z"
    }
   },
   "outputs": [
    {
     "data": {
      "text/plain": [
       "0.4"
      ]
     },
     "execution_count": 168,
     "metadata": {},
     "output_type": "execute_result"
    }
   ],
   "source": [
    "18/45"
   ]
  },
  {
   "cell_type": "code",
   "execution_count": 160,
   "id": "546c734d",
   "metadata": {
    "ExecuteTime": {
     "end_time": "2023-02-28T06:30:17.479086Z",
     "start_time": "2023-02-28T06:30:17.464090Z"
    }
   },
   "outputs": [
    {
     "data": {
      "text/html": [
       "<div>\n",
       "<style scoped>\n",
       "    .dataframe tbody tr th:only-of-type {\n",
       "        vertical-align: middle;\n",
       "    }\n",
       "\n",
       "    .dataframe tbody tr th {\n",
       "        vertical-align: top;\n",
       "    }\n",
       "\n",
       "    .dataframe thead th {\n",
       "        text-align: right;\n",
       "    }\n",
       "</style>\n",
       "<table border=\"1\" class=\"dataframe\">\n",
       "  <thead>\n",
       "    <tr style=\"text-align: right;\">\n",
       "      <th></th>\n",
       "      <th>Age</th>\n",
       "      <th>Pitches</th>\n",
       "      <th>Batted Balls</th>\n",
       "      <th>Barrels</th>\n",
       "      <th>Barrel%</th>\n",
       "      <th>Barrel/PA</th>\n",
       "      <th>Exit Velocity</th>\n",
       "      <th>Max EV</th>\n",
       "      <th>Launch Angle</th>\n",
       "      <th>Sweet Spot %</th>\n",
       "      <th>...</th>\n",
       "      <th>BA</th>\n",
       "      <th>OBP</th>\n",
       "      <th>SLG</th>\n",
       "      <th>OPS</th>\n",
       "      <th>TB</th>\n",
       "      <th>GDP</th>\n",
       "      <th>HBP</th>\n",
       "      <th>SH</th>\n",
       "      <th>SF</th>\n",
       "      <th>IBB</th>\n",
       "    </tr>\n",
       "  </thead>\n",
       "  <tbody>\n",
       "  </tbody>\n",
       "</table>\n",
       "<p>0 rows × 42 columns</p>\n",
       "</div>"
      ],
      "text/plain": [
       "Empty DataFrame\n",
       "Columns: [Age, Pitches, Batted Balls, Barrels, Barrel%, Barrel/PA, Exit Velocity, Max EV, Launch Angle, Sweet Spot %, XBA, XSLG, WOBA, XWOBA, XWOBACON, HardHit%, K%, BB%, 연도, G, PA, AB, R, H, 2B, 3B, HR, RBI, SB, CS, BB, SO, BA, OBP, SLG, OPS, TB, GDP, HBP, SH, SF, IBB]\n",
       "Index: []\n",
       "\n",
       "[0 rows x 42 columns]"
      ]
     },
     "execution_count": 160,
     "metadata": {},
     "output_type": "execute_result"
    }
   ],
   "source": [
    "# 야시엘 푸이그, 후안 라가레스 마이너 성적 없으므로 drop\n",
    "X_train3[X_train3[\"G\"].isnull()]"
   ]
  },
  {
   "cell_type": "code",
   "execution_count": 161,
   "id": "46f69dde",
   "metadata": {
    "ExecuteTime": {
     "end_time": "2023-02-28T06:30:17.981762Z",
     "start_time": "2023-02-28T06:30:17.973426Z"
    }
   },
   "outputs": [],
   "source": [
    "#y_train3[X_train3[\"G\"].notnull()].reset_index(drop = True)"
   ]
  },
  {
   "cell_type": "code",
   "execution_count": 162,
   "id": "92111059",
   "metadata": {
    "ExecuteTime": {
     "end_time": "2023-02-28T06:30:20.572527Z",
     "start_time": "2023-02-28T06:30:20.563529Z"
    }
   },
   "outputs": [],
   "source": [
    "y_train3 = y_train3[X_train3[\"G\"].notnull()].reset_index(drop = True)\n",
    "X_train3 = X_train3.dropna(axis=0).reset_index(drop = True)\n",
    "\n"
   ]
  },
  {
   "cell_type": "code",
   "execution_count": 163,
   "id": "c38388e5",
   "metadata": {
    "ExecuteTime": {
     "end_time": "2023-02-28T06:30:32.054777Z",
     "start_time": "2023-02-28T06:30:23.397940Z"
    }
   },
   "outputs": [
    {
     "data": {
      "text/plain": [
       "0.6444444444444444"
      ]
     },
     "execution_count": 163,
     "metadata": {},
     "output_type": "execute_result"
    }
   ],
   "source": [
    "cross_val_score(cat, X_train3, y_train3, cv=skf, scoring = \"accuracy\" ).mean()"
   ]
  },
  {
   "cell_type": "code",
   "execution_count": 164,
   "id": "e96c67c9",
   "metadata": {
    "ExecuteTime": {
     "end_time": "2023-02-28T06:30:40.827499Z",
     "start_time": "2023-02-28T06:30:32.056777Z"
    }
   },
   "outputs": [
    {
     "data": {
      "text/plain": [
       "0.5333333333333333"
      ]
     },
     "execution_count": 164,
     "metadata": {},
     "output_type": "execute_result"
    }
   ],
   "source": [
    "cross_val_score(cat, X_train3, y_train3, cv=skf, scoring = \"precision\" ).mean()"
   ]
  },
  {
   "cell_type": "code",
   "execution_count": 165,
   "id": "296d4770",
   "metadata": {
    "ExecuteTime": {
     "end_time": "2023-02-28T06:30:40.907533Z",
     "start_time": "2023-02-28T06:30:40.830514Z"
    }
   },
   "outputs": [
    {
     "data": {
      "text/plain": [
       "0.6444444444444445"
      ]
     },
     "execution_count": 165,
     "metadata": {},
     "output_type": "execute_result"
    }
   ],
   "source": [
    "cross_val_score(lr, X_train3, y_train3, cv=skf, scoring = \"accuracy\" ).mean()"
   ]
  },
  {
   "cell_type": "code",
   "execution_count": 166,
   "id": "71b6d4c9",
   "metadata": {
    "ExecuteTime": {
     "end_time": "2023-02-28T06:30:47.026625Z",
     "start_time": "2023-02-28T06:30:46.935629Z"
    }
   },
   "outputs": [
    {
     "data": {
      "text/plain": [
       "0.47000000000000003"
      ]
     },
     "execution_count": 166,
     "metadata": {},
     "output_type": "execute_result"
    }
   ],
   "source": [
    "cross_val_score(lr, X_train3, y_train3, cv=skf, scoring = \"precision\" ).mean()"
   ]
  },
  {
   "cell_type": "code",
   "execution_count": 114,
   "id": "8b20f79f",
   "metadata": {
    "ExecuteTime": {
     "end_time": "2023-02-28T02:33:11.633273Z",
     "start_time": "2023-02-28T02:33:11.624386Z"
    }
   },
   "outputs": [],
   "source": [
    "svc = SVC()\n",
    "xgb = XGBClassifier()\n"
   ]
  },
  {
   "cell_type": "code",
   "execution_count": 115,
   "id": "a89a83d3",
   "metadata": {
    "ExecuteTime": {
     "end_time": "2023-02-28T02:33:12.375343Z",
     "start_time": "2023-02-28T02:33:11.980271Z"
    }
   },
   "outputs": [
    {
     "data": {
      "text/plain": [
       "0.6444444444444445"
      ]
     },
     "execution_count": 115,
     "metadata": {},
     "output_type": "execute_result"
    }
   ],
   "source": [
    "cross_val_score(xgb, X_train3, y_train3, cv=skf, scoring = \"accuracy\" ).mean()"
   ]
  },
  {
   "cell_type": "code",
   "execution_count": 116,
   "id": "2aede434",
   "metadata": {
    "ExecuteTime": {
     "end_time": "2023-02-28T02:33:15.221097Z",
     "start_time": "2023-02-28T02:33:14.841989Z"
    }
   },
   "outputs": [
    {
     "data": {
      "text/plain": [
       "0.48"
      ]
     },
     "execution_count": 116,
     "metadata": {},
     "output_type": "execute_result"
    }
   ],
   "source": [
    "cross_val_score(xgb, X_train3, y_train3, cv=skf, scoring = \"f1\" ).mean()"
   ]
  },
  {
   "cell_type": "code",
   "execution_count": 117,
   "id": "b2dd7d90",
   "metadata": {
    "ExecuteTime": {
     "end_time": "2023-02-28T02:33:19.295423Z",
     "start_time": "2023-02-28T02:33:19.252420Z"
    }
   },
   "outputs": [
    {
     "data": {
      "text/plain": [
       "array([0., 0., 0., 0., 0.])"
      ]
     },
     "execution_count": 117,
     "metadata": {},
     "output_type": "execute_result"
    }
   ],
   "source": [
    "cross_val_score(svc, X_train3, y_train3, cv=skf, scoring = \"f1\" )"
   ]
  },
  {
   "cell_type": "code",
   "execution_count": 119,
   "id": "b7ed6eeb",
   "metadata": {
    "ExecuteTime": {
     "end_time": "2023-02-28T02:33:36.372137Z",
     "start_time": "2023-02-28T02:33:36.284626Z"
    }
   },
   "outputs": [
    {
     "data": {
      "text/plain": [
       "0.4833333333333333"
      ]
     },
     "execution_count": 119,
     "metadata": {},
     "output_type": "execute_result"
    }
   ],
   "source": [
    "cross_val_score(lr, X_train3, y_train3, cv=skf, scoring = \"f1\" ).mean()"
   ]
  },
  {
   "cell_type": "code",
   "execution_count": 141,
   "id": "1f618c7f",
   "metadata": {
    "ExecuteTime": {
     "end_time": "2023-02-28T04:42:11.301066Z",
     "start_time": "2023-02-28T04:42:09.319486Z"
    }
   },
   "outputs": [
    {
     "data": {
      "image/png": "[encoded data removed]",
      "text/plain": [
       "<Figure size 800x600 with 1 Axes>"
      ]
     },
     "metadata": {},
     "output_type": "display_data"
    }
   ],
   "source": [
    "plot_feature_importances(cat,X_train3,y_train3)"
   ]
  },
  {
   "cell_type": "code",
   "execution_count": null,
   "id": "31266975",
   "metadata": {},
   "outputs": [],
   "source": []
  },
  {
   "cell_type": "code",
   "execution_count": 100,
   "id": "f1b3545e",
   "metadata": {},
   "outputs": [
    {
     "data": {
      "image/png": "[encoded data removed]",
      "text/plain": [
       "<Figure size 800x600 with 1 Axes>"
      ]
     },
     "metadata": {},
     "output_type": "display_data"
    }
   ],
   "source": [
    "plot_feature_importances(cat,X_train,y_train)"
   ]
  },
  {
   "cell_type": "code",
   "execution_count": 104,
   "id": "dceea91c",
   "metadata": {},
   "outputs": [
    {
     "data": {
      "text/plain": [
       "(32, 43)"
      ]
     },
     "execution_count": 104,
     "metadata": {},
     "output_type": "execute_result"
    }
   ],
   "source": [
    "X_train3.shape"
   ]
  },
  {
   "cell_type": "code",
   "execution_count": 107,
   "id": "7a9c4f81",
   "metadata": {},
   "outputs": [
    {
     "data": {
      "text/plain": [
       "0.5809523809523809"
      ]
     },
     "execution_count": 107,
     "metadata": {},
     "output_type": "execute_result"
    }
   ],
   "source": [
    "cross_val_score(xgb, X_train2, y_train2, cv=skf, scoring = \"accuracy\" ).mean()"
   ]
  },
  {
   "cell_type": "code",
   "execution_count": 108,
   "id": "8a2eeac0",
   "metadata": {},
   "outputs": [
    {
     "data": {
      "text/plain": [
       "0.696969696969697"
      ]
     },
     "execution_count": 108,
     "metadata": {},
     "output_type": "execute_result"
    }
   ],
   "source": [
    "23/33"
   ]
  },
  {
   "cell_type": "code",
   "execution_count": 109,
   "id": "f07eb6bb",
   "metadata": {
    "scrolled": true
   },
   "outputs": [
    {
     "data": {
      "text/html": [
       "<div>\n",
       "<style scoped>\n",
       "    .dataframe tbody tr th:only-of-type {\n",
       "        vertical-align: middle;\n",
       "    }\n",
       "\n",
       "    .dataframe tbody tr th {\n",
       "        vertical-align: top;\n",
       "    }\n",
       "\n",
       "    .dataframe thead th {\n",
       "        text-align: right;\n",
       "    }\n",
       "</style>\n",
       "<table border=\"1\" class=\"dataframe\">\n",
       "  <thead>\n",
       "    <tr style=\"text-align: right;\">\n",
       "      <th></th>\n",
       "      <th>Age</th>\n",
       "      <th>Pitches</th>\n",
       "      <th>Batted Balls</th>\n",
       "      <th>Barrels</th>\n",
       "      <th>Barrel%</th>\n",
       "      <th>Barrel/PA</th>\n",
       "      <th>Exit Velocity</th>\n",
       "      <th>Max EV</th>\n",
       "      <th>Launch Angle</th>\n",
       "      <th>Sweet Spot %</th>\n",
       "      <th>...</th>\n",
       "      <th>BA</th>\n",
       "      <th>OBP</th>\n",
       "      <th>SLG</th>\n",
       "      <th>OPS</th>\n",
       "      <th>TB</th>\n",
       "      <th>GDP</th>\n",
       "      <th>HBP</th>\n",
       "      <th>SH</th>\n",
       "      <th>SF</th>\n",
       "      <th>IBB</th>\n",
       "    </tr>\n",
       "  </thead>\n",
       "  <tbody>\n",
       "    <tr>\n",
       "      <th>0</th>\n",
       "      <td>27</td>\n",
       "      <td>488</td>\n",
       "      <td>89</td>\n",
       "      <td>3</td>\n",
       "      <td>3.4</td>\n",
       "      <td>2.2</td>\n",
       "      <td>86.2</td>\n",
       "      <td>111.8</td>\n",
       "      <td>14.2</td>\n",
       "      <td>36.0</td>\n",
       "      <td>...</td>\n",
       "      <td>0.358</td>\n",
       "      <td>0.400</td>\n",
       "      <td>0.623</td>\n",
       "      <td>1.023</td>\n",
       "      <td>66</td>\n",
       "      <td>3</td>\n",
       "      <td>1</td>\n",
       "      <td>0</td>\n",
       "      <td>1</td>\n",
       "      <td>2</td>\n",
       "    </tr>\n",
       "    <tr>\n",
       "      <th>1</th>\n",
       "      <td>26</td>\n",
       "      <td>859</td>\n",
       "      <td>177</td>\n",
       "      <td>8</td>\n",
       "      <td>4.5</td>\n",
       "      <td>3.3</td>\n",
       "      <td>88.3</td>\n",
       "      <td>113.8</td>\n",
       "      <td>5.8</td>\n",
       "      <td>26.0</td>\n",
       "      <td>...</td>\n",
       "      <td>0.297</td>\n",
       "      <td>0.329</td>\n",
       "      <td>0.534</td>\n",
       "      <td>0.863</td>\n",
       "      <td>79</td>\n",
       "      <td>7</td>\n",
       "      <td>2</td>\n",
       "      <td>0</td>\n",
       "      <td>0</td>\n",
       "      <td>0</td>\n",
       "    </tr>\n",
       "    <tr>\n",
       "      <th>2</th>\n",
       "      <td>31</td>\n",
       "      <td>1030</td>\n",
       "      <td>175</td>\n",
       "      <td>9</td>\n",
       "      <td>5.1</td>\n",
       "      <td>3.3</td>\n",
       "      <td>88.3</td>\n",
       "      <td>110.7</td>\n",
       "      <td>10.3</td>\n",
       "      <td>30.9</td>\n",
       "      <td>...</td>\n",
       "      <td>0.285</td>\n",
       "      <td>0.352</td>\n",
       "      <td>0.464</td>\n",
       "      <td>0.816</td>\n",
       "      <td>96</td>\n",
       "      <td>6</td>\n",
       "      <td>3</td>\n",
       "      <td>0</td>\n",
       "      <td>3</td>\n",
       "      <td>0</td>\n",
       "    </tr>\n",
       "    <tr>\n",
       "      <th>3</th>\n",
       "      <td>31</td>\n",
       "      <td>1030</td>\n",
       "      <td>175</td>\n",
       "      <td>9</td>\n",
       "      <td>5.1</td>\n",
       "      <td>3.3</td>\n",
       "      <td>88.3</td>\n",
       "      <td>110.7</td>\n",
       "      <td>10.3</td>\n",
       "      <td>30.9</td>\n",
       "      <td>...</td>\n",
       "      <td>0.290</td>\n",
       "      <td>0.408</td>\n",
       "      <td>0.565</td>\n",
       "      <td>0.973</td>\n",
       "      <td>179</td>\n",
       "      <td>10</td>\n",
       "      <td>6</td>\n",
       "      <td>0</td>\n",
       "      <td>1</td>\n",
       "      <td>4</td>\n",
       "    </tr>\n",
       "    <tr>\n",
       "      <th>4</th>\n",
       "      <td>32</td>\n",
       "      <td>1248</td>\n",
       "      <td>308</td>\n",
       "      <td>5</td>\n",
       "      <td>1.6</td>\n",
       "      <td>1.4</td>\n",
       "      <td>87.5</td>\n",
       "      <td>108.9</td>\n",
       "      <td>13.0</td>\n",
       "      <td>34.1</td>\n",
       "      <td>...</td>\n",
       "      <td>0.342</td>\n",
       "      <td>0.373</td>\n",
       "      <td>0.424</td>\n",
       "      <td>0.797</td>\n",
       "      <td>67</td>\n",
       "      <td>9</td>\n",
       "      <td>0</td>\n",
       "      <td>0</td>\n",
       "      <td>2</td>\n",
       "      <td>0</td>\n",
       "    </tr>\n",
       "    <tr>\n",
       "      <th>5</th>\n",
       "      <td>30</td>\n",
       "      <td>145</td>\n",
       "      <td>33</td>\n",
       "      <td>0</td>\n",
       "      <td>0.0</td>\n",
       "      <td>0.0</td>\n",
       "      <td>86.8</td>\n",
       "      <td>103.8</td>\n",
       "      <td>10.9</td>\n",
       "      <td>30.3</td>\n",
       "      <td>...</td>\n",
       "      <td>0.330</td>\n",
       "      <td>0.431</td>\n",
       "      <td>0.525</td>\n",
       "      <td>0.955</td>\n",
       "      <td>159</td>\n",
       "      <td>5</td>\n",
       "      <td>4</td>\n",
       "      <td>1</td>\n",
       "      <td>6</td>\n",
       "      <td>1</td>\n",
       "    </tr>\n",
       "    <tr>\n",
       "      <th>6</th>\n",
       "      <td>29</td>\n",
       "      <td>68</td>\n",
       "      <td>9</td>\n",
       "      <td>0</td>\n",
       "      <td>0.0</td>\n",
       "      <td>0.0</td>\n",
       "      <td>87.4</td>\n",
       "      <td>112.2</td>\n",
       "      <td>23.8</td>\n",
       "      <td>22.2</td>\n",
       "      <td>...</td>\n",
       "      <td>0.284</td>\n",
       "      <td>0.363</td>\n",
       "      <td>0.549</td>\n",
       "      <td>0.912</td>\n",
       "      <td>267</td>\n",
       "      <td>11</td>\n",
       "      <td>4</td>\n",
       "      <td>0</td>\n",
       "      <td>7</td>\n",
       "      <td>0</td>\n",
       "    </tr>\n",
       "    <tr>\n",
       "      <th>7</th>\n",
       "      <td>29</td>\n",
       "      <td>351</td>\n",
       "      <td>60</td>\n",
       "      <td>5</td>\n",
       "      <td>8.3</td>\n",
       "      <td>5.6</td>\n",
       "      <td>89.2</td>\n",
       "      <td>109.9</td>\n",
       "      <td>15.2</td>\n",
       "      <td>33.3</td>\n",
       "      <td>...</td>\n",
       "      <td>0.294</td>\n",
       "      <td>0.356</td>\n",
       "      <td>0.529</td>\n",
       "      <td>0.885</td>\n",
       "      <td>185</td>\n",
       "      <td>7</td>\n",
       "      <td>7</td>\n",
       "      <td>0</td>\n",
       "      <td>4</td>\n",
       "      <td>1</td>\n",
       "    </tr>\n",
       "    <tr>\n",
       "      <th>8</th>\n",
       "      <td>27</td>\n",
       "      <td>632</td>\n",
       "      <td>112</td>\n",
       "      <td>11</td>\n",
       "      <td>9.8</td>\n",
       "      <td>6.6</td>\n",
       "      <td>89.9</td>\n",
       "      <td>110.4</td>\n",
       "      <td>6.3</td>\n",
       "      <td>24.1</td>\n",
       "      <td>...</td>\n",
       "      <td>0.309</td>\n",
       "      <td>0.377</td>\n",
       "      <td>0.471</td>\n",
       "      <td>0.847</td>\n",
       "      <td>32</td>\n",
       "      <td>1</td>\n",
       "      <td>2</td>\n",
       "      <td>0</td>\n",
       "      <td>1</td>\n",
       "      <td>1</td>\n",
       "    </tr>\n",
       "    <tr>\n",
       "      <th>9</th>\n",
       "      <td>30</td>\n",
       "      <td>200</td>\n",
       "      <td>26</td>\n",
       "      <td>4</td>\n",
       "      <td>15.4</td>\n",
       "      <td>8.3</td>\n",
       "      <td>86.5</td>\n",
       "      <td>107.7</td>\n",
       "      <td>17.9</td>\n",
       "      <td>38.5</td>\n",
       "      <td>...</td>\n",
       "      <td>0.222</td>\n",
       "      <td>0.317</td>\n",
       "      <td>0.365</td>\n",
       "      <td>0.682</td>\n",
       "      <td>84</td>\n",
       "      <td>4</td>\n",
       "      <td>7</td>\n",
       "      <td>0</td>\n",
       "      <td>2</td>\n",
       "      <td>0</td>\n",
       "    </tr>\n",
       "    <tr>\n",
       "      <th>10</th>\n",
       "      <td>32</td>\n",
       "      <td>707</td>\n",
       "      <td>151</td>\n",
       "      <td>5</td>\n",
       "      <td>3.3</td>\n",
       "      <td>2.7</td>\n",
       "      <td>87.4</td>\n",
       "      <td>107.8</td>\n",
       "      <td>6.3</td>\n",
       "      <td>23.8</td>\n",
       "      <td>...</td>\n",
       "      <td>0.280</td>\n",
       "      <td>0.296</td>\n",
       "      <td>0.400</td>\n",
       "      <td>0.696</td>\n",
       "      <td>10</td>\n",
       "      <td>1</td>\n",
       "      <td>1</td>\n",
       "      <td>0</td>\n",
       "      <td>1</td>\n",
       "      <td>0</td>\n",
       "    </tr>\n",
       "    <tr>\n",
       "      <th>11</th>\n",
       "      <td>28</td>\n",
       "      <td>228</td>\n",
       "      <td>31</td>\n",
       "      <td>1</td>\n",
       "      <td>3.2</td>\n",
       "      <td>1.7</td>\n",
       "      <td>86.2</td>\n",
       "      <td>109.1</td>\n",
       "      <td>2.6</td>\n",
       "      <td>22.6</td>\n",
       "      <td>...</td>\n",
       "      <td>0.298</td>\n",
       "      <td>0.402</td>\n",
       "      <td>0.484</td>\n",
       "      <td>0.885</td>\n",
       "      <td>104</td>\n",
       "      <td>4</td>\n",
       "      <td>0</td>\n",
       "      <td>0</td>\n",
       "      <td>1</td>\n",
       "      <td>2</td>\n",
       "    </tr>\n",
       "    <tr>\n",
       "      <th>12</th>\n",
       "      <td>28</td>\n",
       "      <td>283</td>\n",
       "      <td>50</td>\n",
       "      <td>0</td>\n",
       "      <td>0.0</td>\n",
       "      <td>0.0</td>\n",
       "      <td>82.7</td>\n",
       "      <td>111.5</td>\n",
       "      <td>10.2</td>\n",
       "      <td>28.0</td>\n",
       "      <td>...</td>\n",
       "      <td>0.262</td>\n",
       "      <td>0.323</td>\n",
       "      <td>0.421</td>\n",
       "      <td>0.744</td>\n",
       "      <td>154</td>\n",
       "      <td>5</td>\n",
       "      <td>2</td>\n",
       "      <td>0</td>\n",
       "      <td>0</td>\n",
       "      <td>1</td>\n",
       "    </tr>\n",
       "    <tr>\n",
       "      <th>13</th>\n",
       "      <td>30</td>\n",
       "      <td>445</td>\n",
       "      <td>101</td>\n",
       "      <td>3</td>\n",
       "      <td>3.0</td>\n",
       "      <td>2.4</td>\n",
       "      <td>85.4</td>\n",
       "      <td>106.9</td>\n",
       "      <td>11.7</td>\n",
       "      <td>36.6</td>\n",
       "      <td>...</td>\n",
       "      <td>0.333</td>\n",
       "      <td>0.396</td>\n",
       "      <td>0.535</td>\n",
       "      <td>0.931</td>\n",
       "      <td>191</td>\n",
       "      <td>11</td>\n",
       "      <td>4</td>\n",
       "      <td>0</td>\n",
       "      <td>0</td>\n",
       "      <td>3</td>\n",
       "    </tr>\n",
       "    <tr>\n",
       "      <th>14</th>\n",
       "      <td>27</td>\n",
       "      <td>428</td>\n",
       "      <td>67</td>\n",
       "      <td>5</td>\n",
       "      <td>7.5</td>\n",
       "      <td>4.8</td>\n",
       "      <td>87.3</td>\n",
       "      <td>114.2</td>\n",
       "      <td>2.0</td>\n",
       "      <td>28.4</td>\n",
       "      <td>...</td>\n",
       "      <td>0.269</td>\n",
       "      <td>0.372</td>\n",
       "      <td>0.533</td>\n",
       "      <td>0.905</td>\n",
       "      <td>97</td>\n",
       "      <td>4</td>\n",
       "      <td>8</td>\n",
       "      <td>0</td>\n",
       "      <td>2</td>\n",
       "      <td>1</td>\n",
       "    </tr>\n",
       "    <tr>\n",
       "      <th>15</th>\n",
       "      <td>26</td>\n",
       "      <td>841</td>\n",
       "      <td>147</td>\n",
       "      <td>6</td>\n",
       "      <td>4.1</td>\n",
       "      <td>2.8</td>\n",
       "      <td>87.0</td>\n",
       "      <td>104.0</td>\n",
       "      <td>15.4</td>\n",
       "      <td>34.7</td>\n",
       "      <td>...</td>\n",
       "      <td>0.314</td>\n",
       "      <td>0.386</td>\n",
       "      <td>0.463</td>\n",
       "      <td>0.849</td>\n",
       "      <td>81</td>\n",
       "      <td>2</td>\n",
       "      <td>5</td>\n",
       "      <td>2</td>\n",
       "      <td>1</td>\n",
       "      <td>1</td>\n",
       "    </tr>\n",
       "    <tr>\n",
       "      <th>16</th>\n",
       "      <td>25</td>\n",
       "      <td>2026</td>\n",
       "      <td>369</td>\n",
       "      <td>27</td>\n",
       "      <td>7.3</td>\n",
       "      <td>5.1</td>\n",
       "      <td>89.3</td>\n",
       "      <td>112.8</td>\n",
       "      <td>14.1</td>\n",
       "      <td>30.9</td>\n",
       "      <td>...</td>\n",
       "      <td>0.284</td>\n",
       "      <td>0.351</td>\n",
       "      <td>0.533</td>\n",
       "      <td>0.884</td>\n",
       "      <td>184</td>\n",
       "      <td>5</td>\n",
       "      <td>8</td>\n",
       "      <td>0</td>\n",
       "      <td>5</td>\n",
       "      <td>1</td>\n",
       "    </tr>\n",
       "    <tr>\n",
       "      <th>17</th>\n",
       "      <td>29</td>\n",
       "      <td>158</td>\n",
       "      <td>29</td>\n",
       "      <td>1</td>\n",
       "      <td>3.4</td>\n",
       "      <td>2.4</td>\n",
       "      <td>88.9</td>\n",
       "      <td>104.8</td>\n",
       "      <td>14.2</td>\n",
       "      <td>17.2</td>\n",
       "      <td>...</td>\n",
       "      <td>0.278</td>\n",
       "      <td>0.372</td>\n",
       "      <td>0.548</td>\n",
       "      <td>0.920</td>\n",
       "      <td>69</td>\n",
       "      <td>2</td>\n",
       "      <td>1</td>\n",
       "      <td>0</td>\n",
       "      <td>0</td>\n",
       "      <td>0</td>\n",
       "    </tr>\n",
       "    <tr>\n",
       "      <th>18</th>\n",
       "      <td>28</td>\n",
       "      <td>150</td>\n",
       "      <td>26</td>\n",
       "      <td>1</td>\n",
       "      <td>3.8</td>\n",
       "      <td>2.6</td>\n",
       "      <td>80.8</td>\n",
       "      <td>106.1</td>\n",
       "      <td>4.5</td>\n",
       "      <td>23.1</td>\n",
       "      <td>...</td>\n",
       "      <td>0.206</td>\n",
       "      <td>0.298</td>\n",
       "      <td>0.343</td>\n",
       "      <td>0.641</td>\n",
       "      <td>85</td>\n",
       "      <td>8</td>\n",
       "      <td>3</td>\n",
       "      <td>0</td>\n",
       "      <td>3</td>\n",
       "      <td>0</td>\n",
       "    </tr>\n",
       "    <tr>\n",
       "      <th>19</th>\n",
       "      <td>25</td>\n",
       "      <td>944</td>\n",
       "      <td>160</td>\n",
       "      <td>11</td>\n",
       "      <td>6.9</td>\n",
       "      <td>4.6</td>\n",
       "      <td>86.9</td>\n",
       "      <td>107.2</td>\n",
       "      <td>9.1</td>\n",
       "      <td>33.1</td>\n",
       "      <td>...</td>\n",
       "      <td>0.281</td>\n",
       "      <td>0.387</td>\n",
       "      <td>0.563</td>\n",
       "      <td>0.949</td>\n",
       "      <td>54</td>\n",
       "      <td>3</td>\n",
       "      <td>5</td>\n",
       "      <td>0</td>\n",
       "      <td>4</td>\n",
       "      <td>0</td>\n",
       "    </tr>\n",
       "    <tr>\n",
       "      <th>20</th>\n",
       "      <td>28</td>\n",
       "      <td>1249</td>\n",
       "      <td>165</td>\n",
       "      <td>6</td>\n",
       "      <td>3.6</td>\n",
       "      <td>2.2</td>\n",
       "      <td>86.0</td>\n",
       "      <td>111.4</td>\n",
       "      <td>12.4</td>\n",
       "      <td>30.9</td>\n",
       "      <td>...</td>\n",
       "      <td>0.333</td>\n",
       "      <td>0.444</td>\n",
       "      <td>0.569</td>\n",
       "      <td>1.013</td>\n",
       "      <td>145</td>\n",
       "      <td>7</td>\n",
       "      <td>8</td>\n",
       "      <td>0</td>\n",
       "      <td>4</td>\n",
       "      <td>1</td>\n",
       "    </tr>\n",
       "    <tr>\n",
       "      <th>21</th>\n",
       "      <td>28</td>\n",
       "      <td>268</td>\n",
       "      <td>37</td>\n",
       "      <td>2</td>\n",
       "      <td>5.4</td>\n",
       "      <td>3.0</td>\n",
       "      <td>85.3</td>\n",
       "      <td>113.5</td>\n",
       "      <td>16.8</td>\n",
       "      <td>32.4</td>\n",
       "      <td>...</td>\n",
       "      <td>0.270</td>\n",
       "      <td>0.375</td>\n",
       "      <td>0.527</td>\n",
       "      <td>0.902</td>\n",
       "      <td>39</td>\n",
       "      <td>4</td>\n",
       "      <td>3</td>\n",
       "      <td>0</td>\n",
       "      <td>1</td>\n",
       "      <td>0</td>\n",
       "    </tr>\n",
       "    <tr>\n",
       "      <th>22</th>\n",
       "      <td>29</td>\n",
       "      <td>287</td>\n",
       "      <td>39</td>\n",
       "      <td>2</td>\n",
       "      <td>5.1</td>\n",
       "      <td>2.8</td>\n",
       "      <td>88.2</td>\n",
       "      <td>109.4</td>\n",
       "      <td>4.7</td>\n",
       "      <td>30.8</td>\n",
       "      <td>...</td>\n",
       "      <td>0.287</td>\n",
       "      <td>0.384</td>\n",
       "      <td>0.566</td>\n",
       "      <td>0.950</td>\n",
       "      <td>150</td>\n",
       "      <td>10</td>\n",
       "      <td>2</td>\n",
       "      <td>0</td>\n",
       "      <td>2</td>\n",
       "      <td>0</td>\n",
       "    </tr>\n",
       "    <tr>\n",
       "      <th>23</th>\n",
       "      <td>27</td>\n",
       "      <td>383</td>\n",
       "      <td>49</td>\n",
       "      <td>3</td>\n",
       "      <td>6.1</td>\n",
       "      <td>3.2</td>\n",
       "      <td>87.4</td>\n",
       "      <td>115.2</td>\n",
       "      <td>15.0</td>\n",
       "      <td>22.4</td>\n",
       "      <td>...</td>\n",
       "      <td>0.263</td>\n",
       "      <td>0.374</td>\n",
       "      <td>0.527</td>\n",
       "      <td>0.900</td>\n",
       "      <td>208</td>\n",
       "      <td>8</td>\n",
       "      <td>0</td>\n",
       "      <td>0</td>\n",
       "      <td>4</td>\n",
       "      <td>4</td>\n",
       "    </tr>\n",
       "    <tr>\n",
       "      <th>24</th>\n",
       "      <td>32</td>\n",
       "      <td>90</td>\n",
       "      <td>14</td>\n",
       "      <td>0</td>\n",
       "      <td>0.0</td>\n",
       "      <td>0.0</td>\n",
       "      <td>85.2</td>\n",
       "      <td>108.6</td>\n",
       "      <td>11.5</td>\n",
       "      <td>28.6</td>\n",
       "      <td>...</td>\n",
       "      <td>0.253</td>\n",
       "      <td>0.320</td>\n",
       "      <td>0.504</td>\n",
       "      <td>0.824</td>\n",
       "      <td>241</td>\n",
       "      <td>11</td>\n",
       "      <td>7</td>\n",
       "      <td>0</td>\n",
       "      <td>5</td>\n",
       "      <td>1</td>\n",
       "    </tr>\n",
       "    <tr>\n",
       "      <th>25</th>\n",
       "      <td>26</td>\n",
       "      <td>924</td>\n",
       "      <td>175</td>\n",
       "      <td>6</td>\n",
       "      <td>3.4</td>\n",
       "      <td>2.6</td>\n",
       "      <td>85.7</td>\n",
       "      <td>106.6</td>\n",
       "      <td>11.0</td>\n",
       "      <td>34.3</td>\n",
       "      <td>...</td>\n",
       "      <td>0.261</td>\n",
       "      <td>0.371</td>\n",
       "      <td>0.480</td>\n",
       "      <td>0.851</td>\n",
       "      <td>158</td>\n",
       "      <td>8</td>\n",
       "      <td>4</td>\n",
       "      <td>5</td>\n",
       "      <td>1</td>\n",
       "      <td>2</td>\n",
       "    </tr>\n",
       "    <tr>\n",
       "      <th>26</th>\n",
       "      <td>31</td>\n",
       "      <td>725</td>\n",
       "      <td>100</td>\n",
       "      <td>11</td>\n",
       "      <td>11.0</td>\n",
       "      <td>6.5</td>\n",
       "      <td>89.3</td>\n",
       "      <td>115.0</td>\n",
       "      <td>10.4</td>\n",
       "      <td>29.0</td>\n",
       "      <td>...</td>\n",
       "      <td>0.316</td>\n",
       "      <td>0.441</td>\n",
       "      <td>0.663</td>\n",
       "      <td>1.104</td>\n",
       "      <td>124</td>\n",
       "      <td>5</td>\n",
       "      <td>1</td>\n",
       "      <td>0</td>\n",
       "      <td>0</td>\n",
       "      <td>1</td>\n",
       "    </tr>\n",
       "    <tr>\n",
       "      <th>27</th>\n",
       "      <td>30</td>\n",
       "      <td>88</td>\n",
       "      <td>11</td>\n",
       "      <td>0</td>\n",
       "      <td>0.0</td>\n",
       "      <td>0.0</td>\n",
       "      <td>85.5</td>\n",
       "      <td>102.0</td>\n",
       "      <td>5.5</td>\n",
       "      <td>36.4</td>\n",
       "      <td>...</td>\n",
       "      <td>0.212</td>\n",
       "      <td>0.341</td>\n",
       "      <td>0.364</td>\n",
       "      <td>0.705</td>\n",
       "      <td>24</td>\n",
       "      <td>1</td>\n",
       "      <td>1</td>\n",
       "      <td>0</td>\n",
       "      <td>2</td>\n",
       "      <td>0</td>\n",
       "    </tr>\n",
       "    <tr>\n",
       "      <th>28</th>\n",
       "      <td>29</td>\n",
       "      <td>89</td>\n",
       "      <td>15</td>\n",
       "      <td>2</td>\n",
       "      <td>13.3</td>\n",
       "      <td>8.3</td>\n",
       "      <td>86.5</td>\n",
       "      <td>105.5</td>\n",
       "      <td>22.8</td>\n",
       "      <td>26.7</td>\n",
       "      <td>...</td>\n",
       "      <td>0.327</td>\n",
       "      <td>0.376</td>\n",
       "      <td>0.596</td>\n",
       "      <td>0.973</td>\n",
       "      <td>204</td>\n",
       "      <td>2</td>\n",
       "      <td>3</td>\n",
       "      <td>0</td>\n",
       "      <td>2</td>\n",
       "      <td>4</td>\n",
       "    </tr>\n",
       "    <tr>\n",
       "      <th>29</th>\n",
       "      <td>29</td>\n",
       "      <td>89</td>\n",
       "      <td>15</td>\n",
       "      <td>2</td>\n",
       "      <td>13.3</td>\n",
       "      <td>8.3</td>\n",
       "      <td>86.5</td>\n",
       "      <td>105.5</td>\n",
       "      <td>22.8</td>\n",
       "      <td>26.7</td>\n",
       "      <td>...</td>\n",
       "      <td>0.327</td>\n",
       "      <td>0.376</td>\n",
       "      <td>0.596</td>\n",
       "      <td>0.973</td>\n",
       "      <td>204</td>\n",
       "      <td>2</td>\n",
       "      <td>3</td>\n",
       "      <td>0</td>\n",
       "      <td>2</td>\n",
       "      <td>4</td>\n",
       "    </tr>\n",
       "    <tr>\n",
       "      <th>30</th>\n",
       "      <td>27</td>\n",
       "      <td>708</td>\n",
       "      <td>133</td>\n",
       "      <td>12</td>\n",
       "      <td>9.0</td>\n",
       "      <td>6.4</td>\n",
       "      <td>89.6</td>\n",
       "      <td>109.9</td>\n",
       "      <td>17.0</td>\n",
       "      <td>33.1</td>\n",
       "      <td>...</td>\n",
       "      <td>0.327</td>\n",
       "      <td>0.376</td>\n",
       "      <td>0.596</td>\n",
       "      <td>0.973</td>\n",
       "      <td>204</td>\n",
       "      <td>2</td>\n",
       "      <td>3</td>\n",
       "      <td>0</td>\n",
       "      <td>2</td>\n",
       "      <td>4</td>\n",
       "    </tr>\n",
       "    <tr>\n",
       "      <th>31</th>\n",
       "      <td>28</td>\n",
       "      <td>932</td>\n",
       "      <td>169</td>\n",
       "      <td>7</td>\n",
       "      <td>4.1</td>\n",
       "      <td>2.8</td>\n",
       "      <td>88.5</td>\n",
       "      <td>111.8</td>\n",
       "      <td>9.3</td>\n",
       "      <td>27.8</td>\n",
       "      <td>...</td>\n",
       "      <td>0.290</td>\n",
       "      <td>0.372</td>\n",
       "      <td>0.523</td>\n",
       "      <td>0.895</td>\n",
       "      <td>56</td>\n",
       "      <td>4</td>\n",
       "      <td>0</td>\n",
       "      <td>0</td>\n",
       "      <td>0</td>\n",
       "      <td>0</td>\n",
       "    </tr>\n",
       "  </tbody>\n",
       "</table>\n",
       "<p>32 rows × 43 columns</p>\n",
       "</div>"
      ],
      "text/plain": [
       "    Age  Pitches  Batted Balls  Barrels  Barrel%  Barrel/PA  Exit Velocity  \\\n",
       "0    27      488            89        3      3.4        2.2           86.2   \n",
       "1    26      859           177        8      4.5        3.3           88.3   \n",
       "2    31     1030           175        9      5.1        3.3           88.3   \n",
       "3    31     1030           175        9      5.1        3.3           88.3   \n",
       "4    32     1248           308        5      1.6        1.4           87.5   \n",
       "5    30      145            33        0      0.0        0.0           86.8   \n",
       "6    29       68             9        0      0.0        0.0           87.4   \n",
       "7    29      351            60        5      8.3        5.6           89.2   \n",
       "8    27      632           112       11      9.8        6.6           89.9   \n",
       "9    30      200            26        4     15.4        8.3           86.5   \n",
       "10   32      707           151        5      3.3        2.7           87.4   \n",
       "11   28      228            31        1      3.2        1.7           86.2   \n",
       "12   28      283            50        0      0.0        0.0           82.7   \n",
       "13   30      445           101        3      3.0        2.4           85.4   \n",
       "14   27      428            67        5      7.5        4.8           87.3   \n",
       "15   26      841           147        6      4.1        2.8           87.0   \n",
       "16   25     2026           369       27      7.3        5.1           89.3   \n",
       "17   29      158            29        1      3.4        2.4           88.9   \n",
       "18   28      150            26        1      3.8        2.6           80.8   \n",
       "19   25      944           160       11      6.9        4.6           86.9   \n",
       "20   28     1249           165        6      3.6        2.2           86.0   \n",
       "21   28      268            37        2      5.4        3.0           85.3   \n",
       "22   29      287            39        2      5.1        2.8           88.2   \n",
       "23   27      383            49        3      6.1        3.2           87.4   \n",
       "24   32       90            14        0      0.0        0.0           85.2   \n",
       "25   26      924           175        6      3.4        2.6           85.7   \n",
       "26   31      725           100       11     11.0        6.5           89.3   \n",
       "27   30       88            11        0      0.0        0.0           85.5   \n",
       "28   29       89            15        2     13.3        8.3           86.5   \n",
       "29   29       89            15        2     13.3        8.3           86.5   \n",
       "30   27      708           133       12      9.0        6.4           89.6   \n",
       "31   28      932           169        7      4.1        2.8           88.5   \n",
       "\n",
       "    Max EV  Launch Angle  Sweet Spot %  ...     BA    OBP    SLG    OPS   TB  \\\n",
       "0    111.8          14.2          36.0  ...  0.358  0.400  0.623  1.023   66   \n",
       "1    113.8           5.8          26.0  ...  0.297  0.329  0.534  0.863   79   \n",
       "2    110.7          10.3          30.9  ...  0.285  0.352  0.464  0.816   96   \n",
       "3    110.7          10.3          30.9  ...  0.290  0.408  0.565  0.973  179   \n",
       "4    108.9          13.0          34.1  ...  0.342  0.373  0.424  0.797   67   \n",
       "5    103.8          10.9          30.3  ...  0.330  0.431  0.525  0.955  159   \n",
       "6    112.2          23.8          22.2  ...  0.284  0.363  0.549  0.912  267   \n",
       "7    109.9          15.2          33.3  ...  0.294  0.356  0.529  0.885  185   \n",
       "8    110.4           6.3          24.1  ...  0.309  0.377  0.471  0.847   32   \n",
       "9    107.7          17.9          38.5  ...  0.222  0.317  0.365  0.682   84   \n",
       "10   107.8           6.3          23.8  ...  0.280  0.296  0.400  0.696   10   \n",
       "11   109.1           2.6          22.6  ...  0.298  0.402  0.484  0.885  104   \n",
       "12   111.5          10.2          28.0  ...  0.262  0.323  0.421  0.744  154   \n",
       "13   106.9          11.7          36.6  ...  0.333  0.396  0.535  0.931  191   \n",
       "14   114.2           2.0          28.4  ...  0.269  0.372  0.533  0.905   97   \n",
       "15   104.0          15.4          34.7  ...  0.314  0.386  0.463  0.849   81   \n",
       "16   112.8          14.1          30.9  ...  0.284  0.351  0.533  0.884  184   \n",
       "17   104.8          14.2          17.2  ...  0.278  0.372  0.548  0.920   69   \n",
       "18   106.1           4.5          23.1  ...  0.206  0.298  0.343  0.641   85   \n",
       "19   107.2           9.1          33.1  ...  0.281  0.387  0.563  0.949   54   \n",
       "20   111.4          12.4          30.9  ...  0.333  0.444  0.569  1.013  145   \n",
       "21   113.5          16.8          32.4  ...  0.270  0.375  0.527  0.902   39   \n",
       "22   109.4           4.7          30.8  ...  0.287  0.384  0.566  0.950  150   \n",
       "23   115.2          15.0          22.4  ...  0.263  0.374  0.527  0.900  208   \n",
       "24   108.6          11.5          28.6  ...  0.253  0.320  0.504  0.824  241   \n",
       "25   106.6          11.0          34.3  ...  0.261  0.371  0.480  0.851  158   \n",
       "26   115.0          10.4          29.0  ...  0.316  0.441  0.663  1.104  124   \n",
       "27   102.0           5.5          36.4  ...  0.212  0.341  0.364  0.705   24   \n",
       "28   105.5          22.8          26.7  ...  0.327  0.376  0.596  0.973  204   \n",
       "29   105.5          22.8          26.7  ...  0.327  0.376  0.596  0.973  204   \n",
       "30   109.9          17.0          33.1  ...  0.327  0.376  0.596  0.973  204   \n",
       "31   111.8           9.3          27.8  ...  0.290  0.372  0.523  0.895   56   \n",
       "\n",
       "    GDP  HBP  SH  SF  IBB  \n",
       "0     3    1   0   1    2  \n",
       "1     7    2   0   0    0  \n",
       "2     6    3   0   3    0  \n",
       "3    10    6   0   1    4  \n",
       "4     9    0   0   2    0  \n",
       "5     5    4   1   6    1  \n",
       "6    11    4   0   7    0  \n",
       "7     7    7   0   4    1  \n",
       "8     1    2   0   1    1  \n",
       "9     4    7   0   2    0  \n",
       "10    1    1   0   1    0  \n",
       "11    4    0   0   1    2  \n",
       "12    5    2   0   0    1  \n",
       "13   11    4   0   0    3  \n",
       "14    4    8   0   2    1  \n",
       "15    2    5   2   1    1  \n",
       "16    5    8   0   5    1  \n",
       "17    2    1   0   0    0  \n",
       "18    8    3   0   3    0  \n",
       "19    3    5   0   4    0  \n",
       "20    7    8   0   4    1  \n",
       "21    4    3   0   1    0  \n",
       "22   10    2   0   2    0  \n",
       "23    8    0   0   4    4  \n",
       "24   11    7   0   5    1  \n",
       "25    8    4   5   1    2  \n",
       "26    5    1   0   0    1  \n",
       "27    1    1   0   2    0  \n",
       "28    2    3   0   2    4  \n",
       "29    2    3   0   2    4  \n",
       "30    2    3   0   2    4  \n",
       "31    4    0   0   0    0  \n",
       "\n",
       "[32 rows x 43 columns]"
      ]
     },
     "execution_count": 109,
     "metadata": {},
     "output_type": "execute_result"
    }
   ],
   "source": [
    "X_train3"
   ]
  },
  {
   "cell_type": "code",
   "execution_count": null,
   "id": "c97e4058",
   "metadata": {},
   "outputs": [],
   "source": []
  }
 ],
 "metadata": {
  "kernelspec": {
   "display_name": "Python 3 (ipykernel)",
   "language": "python",
   "name": "python3"
  },
  "language_info": {
   "codemirror_mode": {
    "name": "ipython",
    "version": 3
   },
   "file_extension": ".py",
   "mimetype": "text/x-python",
   "name": "python",
   "nbconvert_exporter": "python",
   "pygments_lexer": "ipython3",
   "version": "3.9.13"
  },
  "toc": {
   "base_numbering": 1,
   "nav_menu": {},
   "number_sections": true,
   "sideBar": true,
   "skip_h1_title": false,
   "title_cell": "Table of Contents",
   "title_sidebar": "Contents",
   "toc_cell": false,
   "toc_position": {
    "height": "982.713px",
    "left": "32px",
    "top": "220px",
    "width": "165px"
   },
   "toc_section_display": true,
   "toc_window_display": true
  }
 },
 "nbformat": 4,
 "nbformat_minor": 5
}
