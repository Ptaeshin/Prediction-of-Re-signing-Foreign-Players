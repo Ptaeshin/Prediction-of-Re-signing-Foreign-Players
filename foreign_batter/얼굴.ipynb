{
 "cells": [
  {
   "cell_type": "code",
   "execution_count": 18,
   "id": "0746bf5e",
   "metadata": {
    "ExecuteTime": {
     "end_time": "2023-03-13T06:24:30.264198Z",
     "start_time": "2023-03-13T06:24:30.059747Z"
    }
   },
   "outputs": [
    {
     "data": {
      "text/html": [
       "<div>\n",
       "<style scoped>\n",
       "    .dataframe tbody tr th:only-of-type {\n",
       "        vertical-align: middle;\n",
       "    }\n",
       "\n",
       "    .dataframe tbody tr th {\n",
       "        vertical-align: top;\n",
       "    }\n",
       "\n",
       "    .dataframe thead th {\n",
       "        text-align: right;\n",
       "    }\n",
       "</style>\n",
       "<table border=\"1\" class=\"dataframe\">\n",
       "  <thead>\n",
       "    <tr style=\"text-align: right;\">\n",
       "      <th></th>\n",
       "      <th>재계약</th>\n",
       "      <th>이름</th>\n",
       "      <th>Unnamed: 2</th>\n",
       "      <th>size</th>\n",
       "      <th>width</th>\n",
       "      <th>height</th>\n",
       "      <th>Unnamed: 6</th>\n",
       "      <th>Unnamed: 7</th>\n",
       "      <th>Unnamed: 8</th>\n",
       "      <th>Unnamed: 9</th>\n",
       "      <th>...</th>\n",
       "      <th>Unnamed: 2044</th>\n",
       "      <th>Unnamed: 2045</th>\n",
       "      <th>Unnamed: 2046</th>\n",
       "      <th>Unnamed: 2047</th>\n",
       "      <th>Unnamed: 2048</th>\n",
       "      <th>Unnamed: 2049</th>\n",
       "      <th>Unnamed: 2050</th>\n",
       "      <th>Unnamed: 2051</th>\n",
       "      <th>Unnamed: 2052</th>\n",
       "      <th>Unnamed: 2053</th>\n",
       "    </tr>\n",
       "  </thead>\n",
       "  <tbody>\n",
       "    <tr>\n",
       "      <th>0</th>\n",
       "      <td>0</td>\n",
       "      <td>DJ 피터스</td>\n",
       "      <td>0\\DJ 피터스.jpg</td>\n",
       "      <td>6504</td>\n",
       "      <td>120</td>\n",
       "      <td>180</td>\n",
       "      <td>0.144235</td>\n",
       "      <td>0.214922</td>\n",
       "      <td>0.000507</td>\n",
       "      <td>0.230852</td>\n",
       "      <td>...</td>\n",
       "      <td>0.110022</td>\n",
       "      <td>0.019359</td>\n",
       "      <td>0.097470</td>\n",
       "      <td>1.398580</td>\n",
       "      <td>1.140330</td>\n",
       "      <td>1.470890</td>\n",
       "      <td>0.131892</td>\n",
       "      <td>0.002172</td>\n",
       "      <td>0.000000</td>\n",
       "      <td>0.087585</td>\n",
       "    </tr>\n",
       "    <tr>\n",
       "      <th>1</th>\n",
       "      <td>0</td>\n",
       "      <td>나이저 모건</td>\n",
       "      <td>0\\나이저 모건.jpg</td>\n",
       "      <td>6274</td>\n",
       "      <td>120</td>\n",
       "      <td>180</td>\n",
       "      <td>0.375483</td>\n",
       "      <td>0.186434</td>\n",
       "      <td>0.038951</td>\n",
       "      <td>0.376486</td>\n",
       "      <td>...</td>\n",
       "      <td>0.391663</td>\n",
       "      <td>0.469408</td>\n",
       "      <td>0.059494</td>\n",
       "      <td>1.241490</td>\n",
       "      <td>0.561510</td>\n",
       "      <td>0.789311</td>\n",
       "      <td>0.089493</td>\n",
       "      <td>0.020344</td>\n",
       "      <td>0.089230</td>\n",
       "      <td>0.080406</td>\n",
       "    </tr>\n",
       "    <tr>\n",
       "      <th>2</th>\n",
       "      <td>0</td>\n",
       "      <td>닉 마티니</td>\n",
       "      <td>0\\닉 마티니.jpg</td>\n",
       "      <td>7134</td>\n",
       "      <td>120</td>\n",
       "      <td>180</td>\n",
       "      <td>0.206742</td>\n",
       "      <td>0.352354</td>\n",
       "      <td>0.000000</td>\n",
       "      <td>0.319393</td>\n",
       "      <td>...</td>\n",
       "      <td>0.438406</td>\n",
       "      <td>0.191309</td>\n",
       "      <td>0.273648</td>\n",
       "      <td>0.632021</td>\n",
       "      <td>0.341713</td>\n",
       "      <td>0.978627</td>\n",
       "      <td>0.189920</td>\n",
       "      <td>0.062408</td>\n",
       "      <td>0.004243</td>\n",
       "      <td>0.184213</td>\n",
       "    </tr>\n",
       "    <tr>\n",
       "      <th>3</th>\n",
       "      <td>0</td>\n",
       "      <td>다니엘 팔카</td>\n",
       "      <td>0\\다니엘 팔카.jpg</td>\n",
       "      <td>7535</td>\n",
       "      <td>120</td>\n",
       "      <td>180</td>\n",
       "      <td>0.178468</td>\n",
       "      <td>0.242643</td>\n",
       "      <td>0.003908</td>\n",
       "      <td>0.319384</td>\n",
       "      <td>...</td>\n",
       "      <td>0.888367</td>\n",
       "      <td>0.226742</td>\n",
       "      <td>0.372235</td>\n",
       "      <td>1.203300</td>\n",
       "      <td>0.862949</td>\n",
       "      <td>0.618488</td>\n",
       "      <td>0.034147</td>\n",
       "      <td>0.183850</td>\n",
       "      <td>0.000000</td>\n",
       "      <td>0.088913</td>\n",
       "    </tr>\n",
       "    <tr>\n",
       "      <th>4</th>\n",
       "      <td>0</td>\n",
       "      <td>대니 워스</td>\n",
       "      <td>0\\대니 워스.jpg</td>\n",
       "      <td>6894</td>\n",
       "      <td>120</td>\n",
       "      <td>180</td>\n",
       "      <td>0.279750</td>\n",
       "      <td>0.123999</td>\n",
       "      <td>0.066130</td>\n",
       "      <td>0.330183</td>\n",
       "      <td>...</td>\n",
       "      <td>0.529637</td>\n",
       "      <td>0.382231</td>\n",
       "      <td>0.240935</td>\n",
       "      <td>1.352470</td>\n",
       "      <td>0.483653</td>\n",
       "      <td>0.957445</td>\n",
       "      <td>0.001848</td>\n",
       "      <td>0.094242</td>\n",
       "      <td>0.019609</td>\n",
       "      <td>0.374478</td>\n",
       "    </tr>\n",
       "  </tbody>\n",
       "</table>\n",
       "<p>5 rows × 2054 columns</p>\n",
       "</div>"
      ],
      "text/plain": [
       "   재계약      이름    Unnamed: 2  size  width  height  Unnamed: 6  Unnamed: 7  \\\n",
       "0    0  DJ 피터스  0\\DJ 피터스.jpg  6504    120     180    0.144235    0.214922   \n",
       "1    0  나이저 모건  0\\나이저 모건.jpg  6274    120     180    0.375483    0.186434   \n",
       "2    0   닉 마티니   0\\닉 마티니.jpg  7134    120     180    0.206742    0.352354   \n",
       "3    0  다니엘 팔카  0\\다니엘 팔카.jpg  7535    120     180    0.178468    0.242643   \n",
       "4    0   대니 워스   0\\대니 워스.jpg  6894    120     180    0.279750    0.123999   \n",
       "\n",
       "   Unnamed: 8  Unnamed: 9  ...  Unnamed: 2044  Unnamed: 2045  Unnamed: 2046  \\\n",
       "0    0.000507    0.230852  ...       0.110022       0.019359       0.097470   \n",
       "1    0.038951    0.376486  ...       0.391663       0.469408       0.059494   \n",
       "2    0.000000    0.319393  ...       0.438406       0.191309       0.273648   \n",
       "3    0.003908    0.319384  ...       0.888367       0.226742       0.372235   \n",
       "4    0.066130    0.330183  ...       0.529637       0.382231       0.240935   \n",
       "\n",
       "   Unnamed: 2047  Unnamed: 2048  Unnamed: 2049  Unnamed: 2050  Unnamed: 2051  \\\n",
       "0       1.398580       1.140330       1.470890       0.131892       0.002172   \n",
       "1       1.241490       0.561510       0.789311       0.089493       0.020344   \n",
       "2       0.632021       0.341713       0.978627       0.189920       0.062408   \n",
       "3       1.203300       0.862949       0.618488       0.034147       0.183850   \n",
       "4       1.352470       0.483653       0.957445       0.001848       0.094242   \n",
       "\n",
       "   Unnamed: 2052  Unnamed: 2053  \n",
       "0       0.000000       0.087585  \n",
       "1       0.089230       0.080406  \n",
       "2       0.004243       0.184213  \n",
       "3       0.000000       0.088913  \n",
       "4       0.019609       0.374478  \n",
       "\n",
       "[5 rows x 2054 columns]"
      ]
     },
     "execution_count": 18,
     "metadata": {},
     "output_type": "execute_result"
    }
   ],
   "source": [
    "import pandas as pd\n",
    "\n",
    "face_dataset = pd.read_csv(\"./타자얼굴사진_오렌지임베딩.csv\")\n",
    "face_dataset2 = pd.read_csv(\"./타자얼굴사진_오렌지임베딩_라벨수정.csv\")\n",
    "face_dataset.head()"
   ]
  },
  {
   "cell_type": "code",
   "execution_count": 19,
   "id": "83b44402",
   "metadata": {
    "ExecuteTime": {
     "end_time": "2023-03-13T06:24:43.509596Z",
     "start_time": "2023-03-13T06:24:43.470616Z"
    }
   },
   "outputs": [
    {
     "data": {
      "text/html": [
       "<div>\n",
       "<style scoped>\n",
       "    .dataframe tbody tr th:only-of-type {\n",
       "        vertical-align: middle;\n",
       "    }\n",
       "\n",
       "    .dataframe tbody tr th {\n",
       "        vertical-align: top;\n",
       "    }\n",
       "\n",
       "    .dataframe thead th {\n",
       "        text-align: right;\n",
       "    }\n",
       "</style>\n",
       "<table border=\"1\" class=\"dataframe\">\n",
       "  <thead>\n",
       "    <tr style=\"text-align: right;\">\n",
       "      <th></th>\n",
       "      <th>재계약</th>\n",
       "      <th>이름</th>\n",
       "      <th>Unnamed: 6</th>\n",
       "      <th>Unnamed: 7</th>\n",
       "      <th>Unnamed: 8</th>\n",
       "      <th>Unnamed: 9</th>\n",
       "      <th>Unnamed: 10</th>\n",
       "      <th>Unnamed: 11</th>\n",
       "      <th>Unnamed: 12</th>\n",
       "      <th>Unnamed: 13</th>\n",
       "      <th>...</th>\n",
       "      <th>Unnamed: 2044</th>\n",
       "      <th>Unnamed: 2045</th>\n",
       "      <th>Unnamed: 2046</th>\n",
       "      <th>Unnamed: 2047</th>\n",
       "      <th>Unnamed: 2048</th>\n",
       "      <th>Unnamed: 2049</th>\n",
       "      <th>Unnamed: 2050</th>\n",
       "      <th>Unnamed: 2051</th>\n",
       "      <th>Unnamed: 2052</th>\n",
       "      <th>Unnamed: 2053</th>\n",
       "    </tr>\n",
       "  </thead>\n",
       "  <tbody>\n",
       "    <tr>\n",
       "      <th>0</th>\n",
       "      <td>0</td>\n",
       "      <td>DJ 피터스</td>\n",
       "      <td>0.144235</td>\n",
       "      <td>0.214922</td>\n",
       "      <td>0.000507</td>\n",
       "      <td>0.230852</td>\n",
       "      <td>0.055338</td>\n",
       "      <td>0.190327</td>\n",
       "      <td>0.422432</td>\n",
       "      <td>0.323068</td>\n",
       "      <td>...</td>\n",
       "      <td>0.110022</td>\n",
       "      <td>0.019359</td>\n",
       "      <td>0.097470</td>\n",
       "      <td>1.398580</td>\n",
       "      <td>1.140330</td>\n",
       "      <td>1.470890</td>\n",
       "      <td>0.131892</td>\n",
       "      <td>0.002172</td>\n",
       "      <td>0.000000</td>\n",
       "      <td>0.087585</td>\n",
       "    </tr>\n",
       "    <tr>\n",
       "      <th>1</th>\n",
       "      <td>0</td>\n",
       "      <td>나이저 모건</td>\n",
       "      <td>0.375483</td>\n",
       "      <td>0.186434</td>\n",
       "      <td>0.038951</td>\n",
       "      <td>0.376486</td>\n",
       "      <td>0.048386</td>\n",
       "      <td>0.078989</td>\n",
       "      <td>0.587438</td>\n",
       "      <td>0.203096</td>\n",
       "      <td>...</td>\n",
       "      <td>0.391663</td>\n",
       "      <td>0.469408</td>\n",
       "      <td>0.059494</td>\n",
       "      <td>1.241490</td>\n",
       "      <td>0.561510</td>\n",
       "      <td>0.789311</td>\n",
       "      <td>0.089493</td>\n",
       "      <td>0.020344</td>\n",
       "      <td>0.089230</td>\n",
       "      <td>0.080406</td>\n",
       "    </tr>\n",
       "    <tr>\n",
       "      <th>2</th>\n",
       "      <td>0</td>\n",
       "      <td>닉 마티니</td>\n",
       "      <td>0.206742</td>\n",
       "      <td>0.352354</td>\n",
       "      <td>0.000000</td>\n",
       "      <td>0.319393</td>\n",
       "      <td>0.129964</td>\n",
       "      <td>0.226437</td>\n",
       "      <td>0.528457</td>\n",
       "      <td>0.230924</td>\n",
       "      <td>...</td>\n",
       "      <td>0.438406</td>\n",
       "      <td>0.191309</td>\n",
       "      <td>0.273648</td>\n",
       "      <td>0.632021</td>\n",
       "      <td>0.341713</td>\n",
       "      <td>0.978627</td>\n",
       "      <td>0.189920</td>\n",
       "      <td>0.062408</td>\n",
       "      <td>0.004243</td>\n",
       "      <td>0.184213</td>\n",
       "    </tr>\n",
       "    <tr>\n",
       "      <th>3</th>\n",
       "      <td>0</td>\n",
       "      <td>다니엘 팔카</td>\n",
       "      <td>0.178468</td>\n",
       "      <td>0.242643</td>\n",
       "      <td>0.003908</td>\n",
       "      <td>0.319384</td>\n",
       "      <td>0.162789</td>\n",
       "      <td>0.703334</td>\n",
       "      <td>0.492763</td>\n",
       "      <td>0.239284</td>\n",
       "      <td>...</td>\n",
       "      <td>0.888367</td>\n",
       "      <td>0.226742</td>\n",
       "      <td>0.372235</td>\n",
       "      <td>1.203300</td>\n",
       "      <td>0.862949</td>\n",
       "      <td>0.618488</td>\n",
       "      <td>0.034147</td>\n",
       "      <td>0.183850</td>\n",
       "      <td>0.000000</td>\n",
       "      <td>0.088913</td>\n",
       "    </tr>\n",
       "    <tr>\n",
       "      <th>4</th>\n",
       "      <td>0</td>\n",
       "      <td>대니 워스</td>\n",
       "      <td>0.279750</td>\n",
       "      <td>0.123999</td>\n",
       "      <td>0.066130</td>\n",
       "      <td>0.330183</td>\n",
       "      <td>0.089147</td>\n",
       "      <td>0.239294</td>\n",
       "      <td>0.818451</td>\n",
       "      <td>0.541217</td>\n",
       "      <td>...</td>\n",
       "      <td>0.529637</td>\n",
       "      <td>0.382231</td>\n",
       "      <td>0.240935</td>\n",
       "      <td>1.352470</td>\n",
       "      <td>0.483653</td>\n",
       "      <td>0.957445</td>\n",
       "      <td>0.001848</td>\n",
       "      <td>0.094242</td>\n",
       "      <td>0.019609</td>\n",
       "      <td>0.374478</td>\n",
       "    </tr>\n",
       "  </tbody>\n",
       "</table>\n",
       "<p>5 rows × 2050 columns</p>\n",
       "</div>"
      ],
      "text/plain": [
       "   재계약      이름  Unnamed: 6  Unnamed: 7  Unnamed: 8  Unnamed: 9  Unnamed: 10  \\\n",
       "0    0  DJ 피터스    0.144235    0.214922    0.000507    0.230852     0.055338   \n",
       "1    0  나이저 모건    0.375483    0.186434    0.038951    0.376486     0.048386   \n",
       "2    0   닉 마티니    0.206742    0.352354    0.000000    0.319393     0.129964   \n",
       "3    0  다니엘 팔카    0.178468    0.242643    0.003908    0.319384     0.162789   \n",
       "4    0   대니 워스    0.279750    0.123999    0.066130    0.330183     0.089147   \n",
       "\n",
       "   Unnamed: 11  Unnamed: 12  Unnamed: 13  ...  Unnamed: 2044  Unnamed: 2045  \\\n",
       "0     0.190327     0.422432     0.323068  ...       0.110022       0.019359   \n",
       "1     0.078989     0.587438     0.203096  ...       0.391663       0.469408   \n",
       "2     0.226437     0.528457     0.230924  ...       0.438406       0.191309   \n",
       "3     0.703334     0.492763     0.239284  ...       0.888367       0.226742   \n",
       "4     0.239294     0.818451     0.541217  ...       0.529637       0.382231   \n",
       "\n",
       "   Unnamed: 2046  Unnamed: 2047  Unnamed: 2048  Unnamed: 2049  Unnamed: 2050  \\\n",
       "0       0.097470       1.398580       1.140330       1.470890       0.131892   \n",
       "1       0.059494       1.241490       0.561510       0.789311       0.089493   \n",
       "2       0.273648       0.632021       0.341713       0.978627       0.189920   \n",
       "3       0.372235       1.203300       0.862949       0.618488       0.034147   \n",
       "4       0.240935       1.352470       0.483653       0.957445       0.001848   \n",
       "\n",
       "   Unnamed: 2051  Unnamed: 2052  Unnamed: 2053  \n",
       "0       0.002172       0.000000       0.087585  \n",
       "1       0.020344       0.089230       0.080406  \n",
       "2       0.062408       0.004243       0.184213  \n",
       "3       0.183850       0.000000       0.088913  \n",
       "4       0.094242       0.019609       0.374478  \n",
       "\n",
       "[5 rows x 2050 columns]"
      ]
     },
     "execution_count": 19,
     "metadata": {},
     "output_type": "execute_result"
    }
   ],
   "source": [
    "data = face_dataset.drop(columns = [\"Unnamed: 2\", \"size\", \"width\", \"height\"])\n",
    "data2 = face_dataset2.drop(columns = [\"Unnamed: 2\", \"size\", \"width\", \"height\"])\n",
    "data.head()"
   ]
  },
  {
   "cell_type": "code",
   "execution_count": 26,
   "id": "13ef59c1",
   "metadata": {
    "ExecuteTime": {
     "end_time": "2023-03-13T06:36:15.909997Z",
     "start_time": "2023-03-13T06:36:15.886961Z"
    }
   },
   "outputs": [],
   "source": [
    "X_data = data.drop(columns = [\"재계약\",\"이름\"])\n",
    "y_data = data[\"재계약\"]\n",
    "\n",
    "import re\n",
    "X_data = X_data.rename(columns = lambda x:re.sub('[^A-Za-z0-9_]+', '', x))"
   ]
  },
  {
   "cell_type": "code",
   "execution_count": 28,
   "id": "f93111bb",
   "metadata": {
    "ExecuteTime": {
     "end_time": "2023-03-13T06:41:59.252778Z",
     "start_time": "2023-03-13T06:41:59.226464Z"
    }
   },
   "outputs": [],
   "source": [
    "X_data = data2.drop(columns = [\"재계약\",\"이름\"])\n",
    "y_data = data2[\"재계약\"]\n",
    "\n",
    "import re\n",
    "X_data = X_data.rename(columns = lambda x:re.sub('[^A-Za-z0-9_]+', '', x))"
   ]
  },
  {
   "cell_type": "code",
   "execution_count": 22,
   "id": "f7934b1d",
   "metadata": {
    "ExecuteTime": {
     "end_time": "2023-03-13T06:25:32.747637Z",
     "start_time": "2023-03-13T06:25:32.730599Z"
    }
   },
   "outputs": [],
   "source": [
    "from xgboost import XGBClassifier\n",
    "from sklearn.linear_model import LogisticRegression\n",
    "from sklearn.svm import SVC\n",
    "from catboost import CatBoostClassifier\n",
    "from lightgbm import LGBMClassifier\n",
    "from sklearn.model_selection import cross_val_predict\n",
    "from sklearn.model_selection import cross_val_score\n",
    "from sklearn.metrics import classification_report\n",
    "from sklearn.metrics import roc_auc_score\n",
    "from sklearn.model_selection import KFold\n",
    "import warnings\n",
    "warnings.filterwarnings(action='ignore')\n",
    "\n",
    "kfold = KFold(n_splits=5, shuffle=True,random_state=2732)\n",
    "xgb = XGBClassifier(tree_method = \"gpu_hist\")\n",
    "cat = CatBoostClassifier(verbose = 0,task_type=\"GPU\")\n",
    "lgbm = LGBMClassifier()\n",
    "lr = LogisticRegression()\n",
    "svc = SVC()"
   ]
  },
  {
   "cell_type": "code",
   "execution_count": 5,
   "id": "d7932d8c",
   "metadata": {
    "ExecuteTime": {
     "end_time": "2023-03-13T05:12:13.594942Z",
     "start_time": "2023-03-13T05:07:42.168153Z"
    }
   },
   "outputs": [
    {
     "name": "stdout",
     "output_type": "stream",
     "text": [
      "xgb_kbo_입단시즌 5-folds accuracy : [0.6875     0.5625     0.4        0.6        0.46666667], mean : 0.5433333333333333\n",
      "cat_kbo_입단시즌 5-folds accuracy : [0.6875     0.625      0.4        0.6        0.46666667], mean : 0.5558333333333334\n",
      "lgbm_kbo_입단시즌 5-folds accuracy : [0.625      0.375      0.33333333 0.6        0.33333333], mean : 0.4533333333333333\n",
      "lr_kbo_입단시즌 5-folds accuracy : [0.5625     0.4375     0.4        0.53333333 0.33333333], mean : 0.4533333333333333\n",
      "svm_kbo_입단시즌 5-folds accuracy : [0.6875     0.875      0.53333333 0.66666667 0.46666667], mean : 0.6458333333333333\n"
     ]
    }
   ],
   "source": [
    "cat = cross_val_score(cat, X_data, y_data, cv=kfold, scoring = \"accuracy\")\n",
    "\n",
    "print(f\"xgb_kbo_입단시즌 5-folds accuracy : {cross_val_score(xgb, X_data, y_data, cv=kfold)}, mean : {cross_val_score(xgb, X_data, y_data, cv=kfold).mean()}\")\n",
    "print(f\"cat_kbo_입단시즌 5-folds accuracy : {cat}, mean : {cat.mean()}\")\n",
    "print(f\"lgbm_kbo_입단시즌 5-folds accuracy : {cross_val_score(lgbm, X_data, y_data, cv=kfold)}, mean : {cross_val_score(lgbm, X_data, y_data, cv=kfold).mean()}\")\n",
    "print(f\"lr_kbo_입단시즌 5-folds accuracy : {cross_val_score(lr, X_data, y_data, cv=kfold)}, mean : {cross_val_score(lr, X_data, y_data, cv=kfold).mean()}\")\n",
    "print(f\"svm_kbo_입단시즌 5-folds accuracy : {cross_val_score(svc, X_data, y_data, cv=kfold)}, mean : {cross_val_score(svc, X_data, y_data, cv=kfold).mean()}\")\n",
    "\n"
   ]
  },
  {
   "cell_type": "code",
   "execution_count": 12,
   "id": "75e77cb2",
   "metadata": {
    "ExecuteTime": {
     "end_time": "2023-03-13T05:20:23.875042Z",
     "start_time": "2023-03-13T05:15:48.905702Z"
    }
   },
   "outputs": [
    {
     "name": "stdout",
     "output_type": "stream",
     "text": [
      "xgb_마이너리그 5-folds f1 : [0.         0.22222222 0.18181818 0.25       0.33333333], mean : 0.1974747474747475\n",
      "cat_마이너리그 5-folds f1 : [0. 0. 0. 0. 0.], mean : 0.0\n",
      "lgbm_마이너리그 5-folds f1 : [0. 0. 0. 0. 0.], mean : 0.0\n",
      "lr_마이너리그 5-folds f1 : [0.         0.         0.18181818 0.22222222 0.        ], mean : 0.08080808080808081\n",
      "svm_마이너리그 5-folds f1 : [0. 0. 0. 0. 0.], mean : 0.0\n"
     ]
    }
   ],
   "source": [
    "f1 = \"f1\"\n",
    "\n",
    "cat = cross_val_score(cat, X_data, y_data, cv=kfold, scoring = \"f1\")\n",
    "\n",
    "print(f\"xgb_마이너리그 5-folds f1 : {cross_val_score(xgb, X_data, y_data, cv=kfold, scoring = f1)}, mean : {cross_val_score(xgb, X_data, y_data, cv=kfold, scoring = f1).mean()}\")\n",
    "print(f\"cat_마이너리그 5-folds f1 : {cat}, mean : {cat.mean()}\")\n",
    "print(f\"lgbm_마이너리그 5-folds f1 : {cross_val_score(lgbm, X_data, y_data, cv=kfold, scoring = f1)}, mean : {cross_val_score(lgbm, X_data, y_data, cv=kfold, scoring = f1).mean()}\")\n",
    "print(f\"lr_마이너리그 5-folds f1 : {cross_val_score(lr, X_data, y_data, cv=kfold, scoring = f1)}, mean : {cross_val_score(lr, X_data, y_data, cv=kfold, scoring = f1).mean()}\")\n",
    "print(f\"svm_마이너리그 5-folds f1 : {cross_val_score(svc, X_data, y_data, cv=kfold, scoring = f1)}, mean : {cross_val_score(svc, X_data, y_data, cv=kfold, scoring = f1).mean()}\")\n",
    "\n"
   ]
  },
  {
   "cell_type": "code",
   "execution_count": 27,
   "id": "d663fb97",
   "metadata": {
    "ExecuteTime": {
     "end_time": "2023-03-13T06:40:50.713499Z",
     "start_time": "2023-03-13T06:36:23.649574Z"
    }
   },
   "outputs": [
    {
     "name": "stdout",
     "output_type": "stream",
     "text": [
      "xgb_마이너리그 5-folds roc_auc : [0.56363636 0.42857143 0.25       0.6        0.64285714], mean : 0.497012987012987\n",
      "cat_마이너리그 5-folds roc_auc : [0.45454545 0.17857143 0.51785714 0.52       0.46428571], mean : 0.427051948051948\n",
      "lgbm_마이너리그 5-folds roc_auc : [0.65454545 0.21428571 0.25       0.52       0.55357143], mean : 0.4384805194805194\n",
      "lr_마이너리그 5-folds roc_auc : [0.43636364 0.17857143 0.44642857 0.52       0.48214286], mean : 0.4127012987012987\n",
      "svm_마이너리그 5-folds roc_auc : [0.49090909 0.28571429 0.42857143 0.4        0.41071429], mean : 0.40318181818181814\n"
     ]
    }
   ],
   "source": [
    "# 수정 전\n",
    "\n",
    "roc_auc = \"roc_auc\"\n",
    "\n",
    "cat_auc = cross_val_score(cat, X_data, y_data, cv=kfold, scoring = roc_auc)\n",
    "\n",
    "print(f\"xgb_마이너리그 5-folds roc_auc : {cross_val_score(xgb, X_data, y_data, cv=kfold, scoring = roc_auc)}, mean : {cross_val_score(xgb, X_data, y_data, cv=kfold, scoring = roc_auc).mean()}\")\n",
    "print(f\"cat_마이너리그 5-folds roc_auc : {cat_auc}, mean : {cat_auc.mean()}\")\n",
    "print(f\"lgbm_마이너리그 5-folds roc_auc : {cross_val_score(lgbm, X_data, y_data, cv=kfold, scoring = roc_auc)}, mean : {cross_val_score(lgbm, X_data, y_data, cv=kfold, scoring = roc_auc).mean()}\")\n",
    "print(f\"lr_마이너리그 5-folds roc_auc : {cross_val_score(lr, X_data, y_data, cv=kfold, scoring = roc_auc)}, mean : {cross_val_score(lr, X_data, y_data, cv=kfold, scoring = roc_auc).mean()}\")\n",
    "print(f\"svm_마이너리그 5-folds roc_auc : {cross_val_score(svc, X_data, y_data, cv=kfold, scoring = roc_auc)}, mean : {cross_val_score(svc, X_data, y_data, cv=kfold, scoring = roc_auc).mean()}\")\n",
    "\n"
   ]
  },
  {
   "cell_type": "code",
   "execution_count": 29,
   "id": "6d004c4c",
   "metadata": {
    "ExecuteTime": {
     "end_time": "2023-03-13T06:46:45.051736Z",
     "start_time": "2023-03-13T06:42:12.907596Z"
    }
   },
   "outputs": [
    {
     "name": "stdout",
     "output_type": "stream",
     "text": [
      "xgb_마이너리그 5-folds roc_auc : [0.56363636 0.42857143 0.25       0.6        0.64285714], mean : 0.497012987012987\n",
      "cat_마이너리그 5-folds roc_auc : [0.45454545 0.17857143 0.51785714 0.52       0.46428571], mean : 0.427051948051948\n",
      "lgbm_마이너리그 5-folds roc_auc : [0.65454545 0.21428571 0.25       0.52       0.55357143], mean : 0.4384805194805194\n",
      "lr_마이너리그 5-folds roc_auc : [0.43636364 0.17857143 0.44642857 0.52       0.48214286], mean : 0.4127012987012987\n",
      "svm_마이너리그 5-folds roc_auc : [0.49090909 0.28571429 0.42857143 0.4        0.41071429], mean : 0.40318181818181814\n"
     ]
    }
   ],
   "source": [
    "# 수정 후\n",
    "\n",
    "roc_auc = \"roc_auc\"\n",
    "\n",
    "cat_auc = cross_val_score(cat, X_data, y_data, cv=kfold, scoring = roc_auc)\n",
    "\n",
    "print(f\"xgb_마이너리그 5-folds roc_auc : {cross_val_score(xgb, X_data, y_data, cv=kfold, scoring = roc_auc)}, mean : {cross_val_score(xgb, X_data, y_data, cv=kfold, scoring = roc_auc).mean()}\")\n",
    "print(f\"cat_마이너리그 5-folds roc_auc : {cat_auc}, mean : {cat_auc.mean()}\")\n",
    "print(f\"lgbm_마이너리그 5-folds roc_auc : {cross_val_score(lgbm, X_data, y_data, cv=kfold, scoring = roc_auc)}, mean : {cross_val_score(lgbm, X_data, y_data, cv=kfold, scoring = roc_auc).mean()}\")\n",
    "print(f\"lr_마이너리그 5-folds roc_auc : {cross_val_score(lr, X_data, y_data, cv=kfold, scoring = roc_auc)}, mean : {cross_val_score(lr, X_data, y_data, cv=kfold, scoring = roc_auc).mean()}\")\n",
    "print(f\"svm_마이너리그 5-folds roc_auc : {cross_val_score(svc, X_data, y_data, cv=kfold, scoring = roc_auc)}, mean : {cross_val_score(svc, X_data, y_data, cv=kfold, scoring = roc_auc).mean()}\")\n",
    "\n"
   ]
  },
  {
   "cell_type": "code",
   "execution_count": 15,
   "id": "396406ce",
   "metadata": {
    "ExecuteTime": {
     "end_time": "2023-03-13T05:31:11.016403Z",
     "start_time": "2023-03-13T05:26:42.813661Z"
    }
   },
   "outputs": [
    {
     "name": "stdout",
     "output_type": "stream",
     "text": [
      "xgb_마이너리그 5-folds roc_auc : [0.         0.14285714 0.         0.25       0.66666667], mean : 0.2119047619047619\n",
      "cat_마이너리그 5-folds roc_auc : [0. 0. 0. 0. 0.], mean : 0.0\n",
      "lgbm_마이너리그 5-folds roc_auc : [0.65454545 0.21428571 0.25       0.52       0.55357143], mean : 0.4384805194805194\n",
      "lr_마이너리그 5-folds roc_auc : [0.43636364 0.17857143 0.44642857 0.52       0.48214286], mean : 0.4127012987012987\n",
      "svm_마이너리그 5-folds roc_auc : [0.49090909 0.28571429 0.42857143 0.4        0.41071429], mean : 0.40318181818181814\n"
     ]
    }
   ],
   "source": [
    "precision = \"precision\"\n",
    "\n",
    "cat = cross_val_score(cat, X_data, y_data, cv=kfold, scoring = precision)\n",
    "xgb = cross_val_score(xgb, X_data, y_data, cv=kfold, scoring = precision)\n",
    "\n",
    "print(f\"xgb_마이너리그 5-folds roc_auc : {xgb}, mean : {xgb.mean()}\")\n",
    "print(f\"cat_마이너리그 5-folds roc_auc : {cat}, mean : {cat.mean()}\")\n",
    "print(f\"lgbm_마이너리그 5-folds roc_auc : {cross_val_score(lgbm, X_data, y_data, cv=kfold, scoring = roc_auc)}, mean : {cross_val_score(lgbm, X_data, y_data, cv=kfold, scoring = roc_auc).mean()}\")\n",
    "print(f\"lr_마이너리그 5-folds roc_auc : {cross_val_score(lr, X_data, y_data, cv=kfold, scoring = roc_auc)}, mean : {cross_val_score(lr, X_data, y_data, cv=kfold, scoring = roc_auc).mean()}\")\n",
    "print(f\"svm_마이너리그 5-folds roc_auc : {cross_val_score(svc, X_data, y_data, cv=kfold, scoring = roc_auc)}, mean : {cross_val_score(svc, X_data, y_data, cv=kfold, scoring = roc_auc).mean()}\")\n",
    "\n"
   ]
  },
  {
   "cell_type": "code",
   "execution_count": 53,
   "id": "ddbc8d44",
   "metadata": {},
   "outputs": [
    {
     "name": "stdout",
     "output_type": "stream",
     "text": [
      "cat_마이너리그 5-folds roc_auc : [0.48888889 0.83333333 0.575      0.45238095 0.36363636], mean : 0.5426479076479077\n"
     ]
    }
   ],
   "source": [
    "cat_auc = cross_val_score(cat, X_data, y_data, cv=kfold, scoring = roc_auc)\n",
    "print(f\"cat_마이너리그 5-folds roc_auc : {cat_auc}, mean : {cat_auc.mean()}\")"
   ]
  },
  {
   "cell_type": "markdown",
   "id": "14a89ffe",
   "metadata": {},
   "source": [
    "# smote"
   ]
  },
  {
   "cell_type": "code",
   "execution_count": 31,
   "id": "eb3bd3f1",
   "metadata": {},
   "outputs": [],
   "source": [
    "from sklearn.preprocessing import StandardScaler\n",
    "from imblearn.over_sampling import SMOTE\n",
    "ss = StandardScaler()\n",
    "smote = SMOTE()"
   ]
  },
  {
   "cell_type": "code",
   "execution_count": 32,
   "id": "2ac6a39a",
   "metadata": {},
   "outputs": [],
   "source": [
    "X_data_over, y_data_over = smote.fit_resample(X_data, y_data)"
   ]
  },
  {
   "cell_type": "code",
   "execution_count": 33,
   "id": "59735671",
   "metadata": {},
   "outputs": [
    {
     "name": "stdout",
     "output_type": "stream",
     "text": [
      "xgb_kbo_입단시즌 5-folds : [0.88235294 0.64705882 0.70588235 0.58823529 0.75      ], mean : 0.7147058823529412\n",
      "lgbm_kbo_입단시즌 5-folds : [0.82352941 0.70588235 0.76470588 0.70588235 0.9375    ], mean : 0.7875\n",
      "lr_kbo_입단시즌 5-folds : [0.82352941 0.88235294 0.58823529 0.58823529 0.9375    ], mean : 0.7639705882352941\n",
      "svm_kbo_입단시즌 5-folds : [0.64705882 0.58823529 0.35294118 0.47058824 0.5       ], mean : 0.511764705882353\n"
     ]
    }
   ],
   "source": [
    "print(f\"xgb_kbo_입단시즌 5-folds : {cross_val_score(xgb, X_data_over, y_data_over, cv=kfold)}, mean : {cross_val_score(xgb, X_data_over, y_data_over, cv=kfold).mean()}\")\n",
    "#print(f\"cat_kbo_입단시즌 5-folds : {cross_val_score(cat, X_data_over, y_data_over, cv=kfold)}, mean : {cross_val_score(cat, X_data_over, y_data_over, cv=kfold).mean()}\")\n",
    "print(f\"lgbm_kbo_입단시즌 5-folds : {cross_val_score(lgbm, X_data_over, y_data_over, cv=kfold)}, mean : {cross_val_score(lgbm, X_data_over, y_data_over, cv=kfold).mean()}\")\n",
    "print(f\"lr_kbo_입단시즌 5-folds : {cross_val_score(lr, X_data_over, y_data_over, cv=kfold)}, mean : {cross_val_score(lr, X_data_over, y_data_over, cv=kfold).mean()}\")\n",
    "print(f\"svm_kbo_입단시즌 5-folds : {cross_val_score(svc, X_data_over, y_data_over, cv=kfold)}, mean : {cross_val_score(svc, X_data_over, y_data_over, cv=kfold).mean()}\")\n",
    "\n"
   ]
  },
  {
   "cell_type": "code",
   "execution_count": 47,
   "id": "27f7bd75",
   "metadata": {},
   "outputs": [
    {
     "data": {
      "text/plain": [
       "array([0.82352941, 0.64705882, 0.76470588, 0.58823529, 0.75      ])"
      ]
     },
     "execution_count": 47,
     "metadata": {},
     "output_type": "execute_result"
    }
   ],
   "source": [
    "cross_val_score(cat, X_data_over, y_data_over, cv=kfold)"
   ]
  },
  {
   "cell_type": "code",
   "execution_count": 49,
   "id": "01eb58bf",
   "metadata": {},
   "outputs": [
    {
     "data": {
      "text/plain": [
       "0.71"
      ]
     },
     "execution_count": 49,
     "metadata": {},
     "output_type": "execute_result"
    }
   ],
   "source": [
    "(0.82 + 0.64 + 0.76 + 0.58 + 0.75)/5"
   ]
  },
  {
   "cell_type": "code",
   "execution_count": 34,
   "id": "0a22c52f",
   "metadata": {},
   "outputs": [
    {
     "name": "stdout",
     "output_type": "stream",
     "text": [
      "xgb_kbo_입단시즌 5-folds f1 : [0.875      0.625      0.76190476 0.58823529 0.81818182], mean : 0.7336643748408455\n",
      "lgbm_kbo_입단시즌 5-folds f1 : [0.82352941 0.66666667 0.8        0.66666667 0.95238095], mean : 0.7818487394957984\n",
      "lr_kbo_입단시즌 5-folds f1 : [0.82352941 0.83333333 0.66666667 0.58823529 0.95652174], mean : 0.7736572890025576\n",
      "svm_kbo_입단시즌 5-folds f1 : [0.5        0.63157895 0.26666667 0.52631579 0.42857143], mean : 0.47062656641604006\n"
     ]
    }
   ],
   "source": [
    "f1 = \"f1\"\n",
    "\n",
    "print(f\"xgb_kbo_입단시즌 5-folds f1 : {cross_val_score(xgb, X_data_over, y_data_over, cv=kfold, scoring = f1)}, mean : {cross_val_score(xgb, X_data_over, y_data_over, cv=kfold, scoring = f1).mean()}\")\n",
    "#print(f\"cat_kbo_입단시즌 5-folds f1 : {cross_val_score(cat, X_data_over, y_data_over, cv=kfold, scoring = f1)}, mean : {cross_val_score(cat, X_data_over, y_data_over, cv=kfold, scoring = f1).mean()}\")\n",
    "print(f\"lgbm_kbo_입단시즌 5-folds f1 : {cross_val_score(lgbm, X_data_over, y_data_over, cv=kfold, scoring = f1)}, mean : {cross_val_score(lgbm, X_data_over, y_data_over, cv=kfold, scoring = f1).mean()}\")\n",
    "print(f\"lr_kbo_입단시즌 5-folds f1 : {cross_val_score(lr, X_data_over, y_data_over, cv=kfold, scoring = f1)}, mean : {cross_val_score(lr, X_data_over, y_data_over, cv=kfold, scoring = f1).mean()}\")\n",
    "print(f\"svm_kbo_입단시즌 5-folds f1 : {cross_val_score(svc, X_data_over, y_data_over, cv=kfold, scoring = f1)}, mean : {cross_val_score(svc, X_data_over, y_data_over, cv=kfold, scoring = f1).mean()}\")\n"
   ]
  },
  {
   "cell_type": "code",
   "execution_count": 50,
   "id": "e420f259",
   "metadata": {},
   "outputs": [
    {
     "name": "stdout",
     "output_type": "stream",
     "text": [
      "[0.82352941 0.66666667 0.81818182 0.53333333 0.81818182] 0.7319786096256685\n"
     ]
    }
   ],
   "source": [
    "cat_f1 = cross_val_score(cat, X_data_over, y_data_over, cv=kfold, scoring = f1)\n",
    "print(cat_f1, cat_f1.mean())"
   ]
  },
  {
   "cell_type": "code",
   "execution_count": 35,
   "id": "36ccc196",
   "metadata": {},
   "outputs": [
    {
     "name": "stdout",
     "output_type": "stream",
     "text": [
      "xgb_kbo_입단시즌 5-folds roc_auc : [0.84722222 0.8030303  0.78787879 0.78787879 0.90909091], mean : 0.8270202020202021\n",
      "lgbm_kbo_입단시즌 5-folds roc_auc : [0.88888889 0.81818182 0.84848485 0.84848485 0.96363636], mean : 0.8735353535353536\n",
      "lr_kbo_입단시즌 5-folds roc_auc : [0.81944444 0.92424242 0.63636364 0.78787879 0.96363636], mean : 0.8263131313131312\n",
      "svm_kbo_입단시즌 5-folds roc_auc : [0.79166667 0.77272727 0.53030303 0.71212121 0.92727273], mean : 0.7468181818181818\n"
     ]
    }
   ],
   "source": [
    "roc_auc = \"roc_auc\"\n",
    "\n",
    "print(f\"xgb_kbo_입단시즌 5-folds roc_auc : {cross_val_score(xgb, X_data_over, y_data_over, cv=kfold, scoring = roc_auc)}, mean : {cross_val_score(xgb, X_data_over, y_data_over, cv=kfold, scoring = roc_auc).mean()}\")\n",
    "#print(f\"cat_kbo_입단시즌 5-folds roc_auc : {cross_val_score(cat, X_data_over, y_data_over, cv=kfold, scoring = roc_auc)}, mean : {cross_val_score(cat, X_data_over, y_data_over, cv=kfold, scoring = roc_auc).mean()}\")\n",
    "print(f\"lgbm_kbo_입단시즌 5-folds roc_auc : {cross_val_score(lgbm, X_data_over, y_data_over, cv=kfold, scoring = roc_auc)}, mean : {cross_val_score(lgbm, X_data_over, y_data_over, cv=kfold, scoring = roc_auc).mean()}\")\n",
    "print(f\"lr_kbo_입단시즌 5-folds roc_auc : {cross_val_score(lr, X_data_over, y_data_over, cv=kfold, scoring = roc_auc)}, mean : {cross_val_score(lr, X_data_over, y_data_over, cv=kfold, scoring = roc_auc).mean()}\")\n",
    "print(f\"svm_kbo_입단시즌 5-folds roc_auc : {cross_val_score(svc, X_data_over, y_data_over, cv=kfold, scoring = roc_auc)}, mean : {cross_val_score(svc, X_data_over, y_data_over, cv=kfold, scoring = roc_auc).mean()}\")\n"
   ]
  },
  {
   "cell_type": "code",
   "execution_count": 51,
   "id": "75ae2764",
   "metadata": {},
   "outputs": [
    {
     "name": "stdout",
     "output_type": "stream",
     "text": [
      "[0.84722222 0.96969697 0.89393939 0.77272727 0.89090909] 0.8748989898989897\n"
     ]
    }
   ],
   "source": [
    "cat_auc = cross_val_score(cat, X_data_over, y_data_over, cv=kfold, scoring = roc_auc)\n",
    "print(cat_auc, cat_auc.mean())"
   ]
  },
  {
   "cell_type": "code",
   "execution_count": null,
   "id": "cb353746",
   "metadata": {},
   "outputs": [],
   "source": []
  },
  {
   "cell_type": "code",
   "execution_count": null,
   "id": "404fd2a9",
   "metadata": {},
   "outputs": [],
   "source": []
  },
  {
   "cell_type": "code",
   "execution_count": null,
   "id": "d74ce62b",
   "metadata": {},
   "outputs": [],
   "source": []
  },
  {
   "cell_type": "code",
   "execution_count": 16,
   "id": "b73daffc",
   "metadata": {
    "ExecuteTime": {
     "end_time": "2023-03-13T05:32:03.461248Z",
     "start_time": "2023-03-13T05:32:03.437872Z"
    }
   },
   "outputs": [
    {
     "ename": "ModuleNotFoundError",
     "evalue": "No module named 'tensorflow'",
     "output_type": "error",
     "traceback": [
      "\u001b[1;31m---------------------------------------------------------------------------\u001b[0m",
      "\u001b[1;31mModuleNotFoundError\u001b[0m                       Traceback (most recent call last)",
      "\u001b[1;32m~\\AppData\\Local\\Temp\\ipykernel_48020\\597958611.py\u001b[0m in \u001b[0;36m<module>\u001b[1;34m\u001b[0m\n\u001b[1;32m----> 1\u001b[1;33m \u001b[1;32mfrom\u001b[0m \u001b[0mtensorflow\u001b[0m \u001b[1;32mimport\u001b[0m \u001b[0mkeras\u001b[0m\u001b[1;33m\u001b[0m\u001b[1;33m\u001b[0m\u001b[0m\n\u001b[0m\u001b[0;32m      2\u001b[0m \u001b[1;32mfrom\u001b[0m \u001b[0mtensorflow\u001b[0m\u001b[1;33m.\u001b[0m\u001b[0mkeras\u001b[0m \u001b[1;32mimport\u001b[0m \u001b[0mlayers\u001b[0m\u001b[1;33m\u001b[0m\u001b[1;33m\u001b[0m\u001b[0m\n\u001b[0;32m      3\u001b[0m \u001b[1;33m\u001b[0m\u001b[0m\n",
      "\u001b[1;31mModuleNotFoundError\u001b[0m: No module named 'tensorflow'"
     ]
    }
   ],
   "source": [
    "from tensorflow import keras\n",
    "from tensorflow.keras import layers\n",
    "\n"
   ]
  },
  {
   "cell_type": "code",
   "execution_count": 7,
   "id": "623d319d",
   "metadata": {},
   "outputs": [],
   "source": [
    "inputs = keras.Input(shape = (28,28,1))\n",
    "x = layers.Conv2D(filters = 32, kernel_size = 3, activation = \"relu\")(inputs)\n",
    "x = layers.MaxPooling2D(pool_size = 2)(x)\n",
    "x = layers.Conv2D(filters = 64, kernel_size = 3, activation = \"relu\")(x)\n",
    "x = layers.MaxPooling2D(pool_size = 2)(x)\n",
    "x = layers.Conv2D(filters = 128, kernel_size = 3, activation = \"relu\")(x)\n",
    "x = layers.Flatten()(x)\n",
    "outputs = layers.Dense(10, activation = \"softmax\")(x)\n",
    "model = keras.Model(inputs = inputs, outputs = outputs)\n",
    "\n"
   ]
  },
  {
   "cell_type": "code",
   "execution_count": 8,
   "id": "3f6d1946",
   "metadata": {},
   "outputs": [
    {
     "name": "stdout",
     "output_type": "stream",
     "text": [
      "Model: \"model_1\"\n",
      "_________________________________________________________________\n",
      " Layer (type)                Output Shape              Param #   \n",
      "=================================================================\n",
      " input_5 (InputLayer)        [(None, 28, 28, 1)]       0         \n",
      "                                                                 \n",
      " conv2d_10 (Conv2D)          (None, 26, 26, 32)        320       \n",
      "                                                                 \n",
      " max_pooling2d_7 (MaxPooling  (None, 13, 13, 32)       0         \n",
      " 2D)                                                             \n",
      "                                                                 \n",
      " conv2d_11 (Conv2D)          (None, 11, 11, 64)        18496     \n",
      "                                                                 \n",
      " max_pooling2d_8 (MaxPooling  (None, 5, 5, 64)         0         \n",
      " 2D)                                                             \n",
      "                                                                 \n",
      " conv2d_12 (Conv2D)          (None, 3, 3, 128)         73856     \n",
      "                                                                 \n",
      " flatten_2 (Flatten)         (None, 1152)              0         \n",
      "                                                                 \n",
      " dense_2 (Dense)             (None, 10)                11530     \n",
      "                                                                 \n",
      "=================================================================\n",
      "Total params: 104,202\n",
      "Trainable params: 104,202\n",
      "Non-trainable params: 0\n",
      "_________________________________________________________________\n"
     ]
    }
   ],
   "source": [
    "model.summary()"
   ]
  },
  {
   "cell_type": "code",
   "execution_count": 11,
   "id": "0364fa5e",
   "metadata": {},
   "outputs": [],
   "source": [
    "from tensorflow.keras.datasets import mnist\n",
    "\n",
    "(train_images, train_labels), (test_images, test_labels) = mnist.load_data()"
   ]
  },
  {
   "cell_type": "code",
   "execution_count": 13,
   "id": "d1212cc8",
   "metadata": {},
   "outputs": [
    {
     "data": {
      "text/plain": [
       "(60000, 28, 28)"
      ]
     },
     "execution_count": 13,
     "metadata": {},
     "output_type": "execute_result"
    }
   ],
   "source": [
    "train_images.shape"
   ]
  },
  {
   "cell_type": "code",
   "execution_count": 14,
   "id": "cbc20827",
   "metadata": {},
   "outputs": [],
   "source": [
    "train_images = train_images.reshape((60000, 28, 28, 1))\n",
    "train_images = train_images.astype(\"float32\")/255\n",
    "test_images = test_images.reshape((10000, 28, 28, 1))\n",
    "test_images = test_images.astype(\"float32\")/255"
   ]
  },
  {
   "cell_type": "code",
   "execution_count": 15,
   "id": "7640a9df",
   "metadata": {},
   "outputs": [
    {
     "name": "stdout",
     "output_type": "stream",
     "text": [
      "Epoch 1/5\n",
      "938/938 [==============================] - 40s 6ms/step - loss: 0.1626 - accuracy: 0.9489\n",
      "Epoch 2/5\n",
      "938/938 [==============================] - 6s 7ms/step - loss: 0.0457 - accuracy: 0.9862\n",
      "Epoch 3/5\n",
      "938/938 [==============================] - 8s 8ms/step - loss: 0.0310 - accuracy: 0.9901\n",
      "Epoch 4/5\n",
      "938/938 [==============================] - 7s 8ms/step - loss: 0.0230 - accuracy: 0.9930\n",
      "Epoch 5/5\n",
      "938/938 [==============================] - 8s 9ms/step - loss: 0.0187 - accuracy: 0.9944\n"
     ]
    },
    {
     "data": {
      "text/plain": [
       "<keras.callbacks.History at 0x266e487cee0>"
      ]
     },
     "execution_count": 15,
     "metadata": {},
     "output_type": "execute_result"
    }
   ],
   "source": [
    "model.compile(optimizer = \"rmsprop\", loss = \"sparse_categorical_crossentropy\", metrics = [\"accuracy\"])\n",
    "model.fit(train_images, train_labels, epochs = 5, batch_size = 64)"
   ]
  },
  {
   "cell_type": "code",
   "execution_count": 16,
   "id": "49cb5fa9",
   "metadata": {},
   "outputs": [
    {
     "name": "stdout",
     "output_type": "stream",
     "text": [
      "313/313 [==============================] - 2s 4ms/step - loss: 0.0221 - accuracy: 0.9915\n",
      "테스트 정확도 : 0.992\n"
     ]
    }
   ],
   "source": [
    "test_loss, test_acc = model.evaluate(test_images, test_labels)\n",
    "print(f\"테스트 정확도 : {test_acc:.3f}\")"
   ]
  },
  {
   "cell_type": "code",
   "execution_count": 23,
   "id": "34a60336",
   "metadata": {},
   "outputs": [],
   "source": [
    "from tensorflow import keras\n",
    "from tensorflow.keras import layers\n",
    "\n",
    "inputs = keras.Input(shape = (120, 180, 3))\n",
    "x = layers.Rescaling(1./255)(inputs)\n",
    "x = layers.Conv2D(filters = 32, kernel_size = 3, activation = \"relu\")(x)\n",
    "x = layers.MaxPooling2D(pool_size = 2)(x)\n",
    "x = layers.Conv2D(filters = 64, kernel_size = 3, activation = \"relu\")(x)\n",
    "x = layers.MaxPooling2D(pool_size = 2)(x)\n",
    "x = layers.Conv2D(filters = 128, kernel_size = 3, activation = \"relu\")(x)\n",
    "x = layers.MaxPooling2D(pool_size = 2)(x)\n",
    "x = layers.Conv2D(filters = 256, kernel_size = 3 , activation = \"relu\")(x)\n",
    "x = layers.MaxPool2D(pool_size = 2)(x)\n",
    "x = layers.Conv2D(filters = 256, kernel_size = 3, activation = \"relu\")(x)\n",
    "x = layers.Flatten()(x)\n",
    "outputs = layers.Dense(1, activation = \"sigmoid\")(x)\n",
    "model = keras.Model(inputs = inputs, outputs = outputs)"
   ]
  },
  {
   "cell_type": "code",
   "execution_count": 24,
   "id": "d3c24f82",
   "metadata": {},
   "outputs": [
    {
     "name": "stdout",
     "output_type": "stream",
     "text": [
      "Model: \"model_3\"\n",
      "_________________________________________________________________\n",
      " Layer (type)                Output Shape              Param #   \n",
      "=================================================================\n",
      " input_9 (InputLayer)        [(None, 120, 180, 3)]     0         \n",
      "                                                                 \n",
      " rescaling_3 (Rescaling)     (None, 120, 180, 3)       0         \n",
      "                                                                 \n",
      " conv2d_23 (Conv2D)          (None, 118, 178, 32)      896       \n",
      "                                                                 \n",
      " max_pooling2d_17 (MaxPoolin  (None, 59, 89, 32)       0         \n",
      " g2D)                                                            \n",
      "                                                                 \n",
      " conv2d_24 (Conv2D)          (None, 57, 87, 64)        18496     \n",
      "                                                                 \n",
      " max_pooling2d_18 (MaxPoolin  (None, 28, 43, 64)       0         \n",
      " g2D)                                                            \n",
      "                                                                 \n",
      " conv2d_25 (Conv2D)          (None, 26, 41, 128)       73856     \n",
      "                                                                 \n",
      " max_pooling2d_19 (MaxPoolin  (None, 13, 20, 128)      0         \n",
      " g2D)                                                            \n",
      "                                                                 \n",
      " conv2d_26 (Conv2D)          (None, 11, 18, 256)       295168    \n",
      "                                                                 \n",
      " max_pooling2d_20 (MaxPoolin  (None, 5, 9, 256)        0         \n",
      " g2D)                                                            \n",
      "                                                                 \n",
      " conv2d_27 (Conv2D)          (None, 3, 7, 256)         590080    \n",
      "                                                                 \n",
      " flatten_5 (Flatten)         (None, 5376)              0         \n",
      "                                                                 \n",
      " dense_5 (Dense)             (None, 1)                 5377      \n",
      "                                                                 \n",
      "=================================================================\n",
      "Total params: 983,873\n",
      "Trainable params: 983,873\n",
      "Non-trainable params: 0\n",
      "_________________________________________________________________\n"
     ]
    }
   ],
   "source": [
    "model.summary()"
   ]
  },
  {
   "cell_type": "code",
   "execution_count": 25,
   "id": "89e06223",
   "metadata": {},
   "outputs": [],
   "source": [
    "model.compile(loss = \"binary_crossentropy\", optimizer = \"rmsprop\", metrics = [\"accuracy\"])"
   ]
  },
  {
   "cell_type": "code",
   "execution_count": 36,
   "id": "c3d5c258",
   "metadata": {},
   "outputs": [
    {
     "name": "stdout",
     "output_type": "stream",
     "text": [
      "Found 66 files belonging to 2 classes.\n"
     ]
    }
   ],
   "source": [
    "from tensorflow.keras.utils import image_dataset_from_directory\n",
    "\n",
    "train_dataset = image_dataset_from_directory(\n",
    "    \"C:\\P_data\\외국인타자\\타자얼굴사진\",\n",
    "    image_size = (120,180),\n",
    "    batch_size = 32\n",
    "    )"
   ]
  },
  {
   "cell_type": "code",
   "execution_count": 38,
   "id": "87dfed12",
   "metadata": {},
   "outputs": [
    {
     "name": "stdout",
     "output_type": "stream",
     "text": [
      "데이터 배치 크기 :  (32, 120, 180, 3)\n",
      "레이블 배치 크기 :  (32,)\n"
     ]
    }
   ],
   "source": [
    "for data_batch, labels_batch in train_dataset :\n",
    "    print(\"데이터 배치 크기 : \", data_batch.shape)\n",
    "    print(\"레이블 배치 크기 : \", labels_batch.shape)\n",
    "    break"
   ]
  },
  {
   "cell_type": "code",
   "execution_count": 41,
   "id": "271bff77",
   "metadata": {},
   "outputs": [
    {
     "name": "stdout",
     "output_type": "stream",
     "text": [
      "Epoch 1/100\n",
      "3/3 [==============================] - 0s 100ms/step - loss: 0.6593 - accuracy: 0.6364\n",
      "Epoch 2/100\n",
      "3/3 [==============================] - 0s 11ms/step - loss: 0.6850 - accuracy: 0.6364\n",
      "Epoch 3/100\n",
      "3/3 [==============================] - 0s 13ms/step - loss: 0.6873 - accuracy: 0.7424\n",
      "Epoch 4/100\n",
      "3/3 [==============================] - 0s 11ms/step - loss: 0.6824 - accuracy: 0.6364\n",
      "Epoch 5/100\n",
      "3/3 [==============================] - 0s 14ms/step - loss: 0.6671 - accuracy: 0.6364\n",
      "Epoch 6/100\n",
      "3/3 [==============================] - 0s 11ms/step - loss: 0.6846 - accuracy: 0.6364\n",
      "Epoch 7/100\n",
      "3/3 [==============================] - 0s 13ms/step - loss: 0.6689 - accuracy: 0.6364\n",
      "Epoch 8/100\n",
      "3/3 [==============================] - 0s 11ms/step - loss: 0.6724 - accuracy: 0.6364\n",
      "Epoch 9/100\n",
      "3/3 [==============================] - 0s 11ms/step - loss: 0.6415 - accuracy: 0.6364\n",
      "Epoch 10/100\n",
      "3/3 [==============================] - 0s 11ms/step - loss: 1.0157 - accuracy: 0.6364\n",
      "Epoch 11/100\n",
      "3/3 [==============================] - 0s 12ms/step - loss: 0.6578 - accuracy: 0.6364\n",
      "Epoch 12/100\n",
      "3/3 [==============================] - 0s 12ms/step - loss: 0.6450 - accuracy: 0.6364\n",
      "Epoch 13/100\n",
      "3/3 [==============================] - 0s 11ms/step - loss: 0.6325 - accuracy: 0.6364\n",
      "Epoch 14/100\n",
      "3/3 [==============================] - 0s 11ms/step - loss: 0.6155 - accuracy: 0.6364\n",
      "Epoch 15/100\n",
      "3/3 [==============================] - 0s 11ms/step - loss: 0.9487 - accuracy: 0.6364\n",
      "Epoch 16/100\n",
      "3/3 [==============================] - 0s 11ms/step - loss: 0.6146 - accuracy: 0.6364\n",
      "Epoch 17/100\n",
      "3/3 [==============================] - 0s 11ms/step - loss: 0.6225 - accuracy: 0.6667\n",
      "Epoch 18/100\n",
      "3/3 [==============================] - 0s 11ms/step - loss: 0.5435 - accuracy: 0.7879\n",
      "Epoch 19/100\n",
      "3/3 [==============================] - 0s 12ms/step - loss: 0.8510 - accuracy: 0.6818\n",
      "Epoch 20/100\n",
      "3/3 [==============================] - 0s 11ms/step - loss: 0.5236 - accuracy: 0.8939\n",
      "Epoch 21/100\n",
      "3/3 [==============================] - 0s 11ms/step - loss: 0.4015 - accuracy: 0.8333\n",
      "Epoch 22/100\n",
      "3/3 [==============================] - 0s 11ms/step - loss: 0.5545 - accuracy: 0.7121\n",
      "Epoch 23/100\n",
      "3/3 [==============================] - 0s 10ms/step - loss: 0.5574 - accuracy: 0.6667\n",
      "Epoch 24/100\n",
      "3/3 [==============================] - 0s 11ms/step - loss: 0.4560 - accuracy: 0.7273\n",
      "Epoch 25/100\n",
      "3/3 [==============================] - 0s 11ms/step - loss: 0.3727 - accuracy: 0.8636\n",
      "Epoch 26/100\n",
      "3/3 [==============================] - 0s 11ms/step - loss: 0.2793 - accuracy: 0.9091\n",
      "Epoch 27/100\n",
      "3/3 [==============================] - 0s 12ms/step - loss: 0.4261 - accuracy: 0.8182\n",
      "Epoch 28/100\n",
      "3/3 [==============================] - 0s 12ms/step - loss: 0.3162 - accuracy: 0.8939\n",
      "Epoch 29/100\n",
      "3/3 [==============================] - 0s 12ms/step - loss: 0.2899 - accuracy: 0.8485\n",
      "Epoch 30/100\n",
      "3/3 [==============================] - 0s 11ms/step - loss: 0.3440 - accuracy: 0.8485\n",
      "Epoch 31/100\n",
      "3/3 [==============================] - 0s 11ms/step - loss: 0.3877 - accuracy: 0.8636\n",
      "Epoch 32/100\n",
      "3/3 [==============================] - 0s 11ms/step - loss: 0.1888 - accuracy: 0.9545\n",
      "Epoch 33/100\n",
      "3/3 [==============================] - 0s 11ms/step - loss: 0.1024 - accuracy: 0.9848\n",
      "Epoch 34/100\n",
      "3/3 [==============================] - 0s 12ms/step - loss: 0.6305 - accuracy: 0.8636\n",
      "Epoch 35/100\n",
      "3/3 [==============================] - 0s 11ms/step - loss: 0.1448 - accuracy: 0.9697\n",
      "Epoch 36/100\n",
      "3/3 [==============================] - 0s 13ms/step - loss: 0.0820 - accuracy: 0.9848\n",
      "Epoch 37/100\n",
      "3/3 [==============================] - 0s 11ms/step - loss: 0.0607 - accuracy: 1.0000\n",
      "Epoch 38/100\n",
      "3/3 [==============================] - 0s 12ms/step - loss: 0.0595 - accuracy: 0.9848\n",
      "Epoch 39/100\n",
      "3/3 [==============================] - 0s 13ms/step - loss: 0.0237 - accuracy: 1.0000\n",
      "Epoch 40/100\n",
      "3/3 [==============================] - 0s 13ms/step - loss: 0.0153 - accuracy: 1.0000\n",
      "Epoch 41/100\n",
      "3/3 [==============================] - 0s 14ms/step - loss: 0.1982 - accuracy: 0.9242\n",
      "Epoch 42/100\n",
      "3/3 [==============================] - 0s 12ms/step - loss: 0.1885 - accuracy: 0.9091\n",
      "Epoch 43/100\n",
      "3/3 [==============================] - 0s 13ms/step - loss: 0.0175 - accuracy: 1.0000\n",
      "Epoch 44/100\n",
      "3/3 [==============================] - 0s 13ms/step - loss: 0.0082 - accuracy: 1.0000\n",
      "Epoch 45/100\n",
      "3/3 [==============================] - 0s 13ms/step - loss: 0.0054 - accuracy: 1.0000\n",
      "Epoch 46/100\n",
      "3/3 [==============================] - 0s 11ms/step - loss: 0.0038 - accuracy: 1.0000\n",
      "Epoch 47/100\n",
      "3/3 [==============================] - 0s 10ms/step - loss: 0.0123 - accuracy: 1.0000\n",
      "Epoch 48/100\n",
      "3/3 [==============================] - 0s 10ms/step - loss: 0.0017 - accuracy: 1.0000\n",
      "Epoch 49/100\n",
      "3/3 [==============================] - 0s 11ms/step - loss: 0.0015 - accuracy: 1.0000\n",
      "Epoch 50/100\n",
      "3/3 [==============================] - 0s 12ms/step - loss: 0.0010 - accuracy: 1.0000\n",
      "Epoch 51/100\n",
      "3/3 [==============================] - 0s 11ms/step - loss: 7.6975e-04 - accuracy: 1.0000\n",
      "Epoch 52/100\n",
      "3/3 [==============================] - 0s 10ms/step - loss: 6.2990e-04 - accuracy: 1.0000\n",
      "Epoch 53/100\n",
      "3/3 [==============================] - 0s 11ms/step - loss: 5.2736e-04 - accuracy: 1.0000\n",
      "Epoch 54/100\n",
      "3/3 [==============================] - 0s 11ms/step - loss: 4.3564e-04 - accuracy: 1.0000\n",
      "Epoch 55/100\n",
      "3/3 [==============================] - 0s 11ms/step - loss: 3.6661e-04 - accuracy: 1.0000\n",
      "Epoch 56/100\n",
      "3/3 [==============================] - 0s 11ms/step - loss: 3.1208e-04 - accuracy: 1.0000\n",
      "Epoch 57/100\n",
      "3/3 [==============================] - 0s 9ms/step - loss: 2.6665e-04 - accuracy: 1.0000\n",
      "Epoch 58/100\n",
      "3/3 [==============================] - 0s 12ms/step - loss: 2.3103e-04 - accuracy: 1.0000\n",
      "Epoch 59/100\n",
      "3/3 [==============================] - 0s 13ms/step - loss: 2.2947e-04 - accuracy: 1.0000\n",
      "Epoch 60/100\n",
      "3/3 [==============================] - 0s 10ms/step - loss: 1.4834e-04 - accuracy: 1.0000\n",
      "Epoch 61/100\n",
      "3/3 [==============================] - 0s 12ms/step - loss: 1.4823e-04 - accuracy: 1.0000\n",
      "Epoch 62/100\n",
      "3/3 [==============================] - 0s 10ms/step - loss: 1.0043e-04 - accuracy: 1.0000\n",
      "Epoch 63/100\n",
      "3/3 [==============================] - 0s 15ms/step - loss: 6.9980e-05 - accuracy: 1.0000\n",
      "Epoch 64/100\n",
      "3/3 [==============================] - 0s 11ms/step - loss: 6.2882e-05 - accuracy: 1.0000\n",
      "Epoch 65/100\n",
      "3/3 [==============================] - 0s 11ms/step - loss: 4.8793e-05 - accuracy: 1.0000\n",
      "Epoch 66/100\n",
      "3/3 [==============================] - 0s 11ms/step - loss: 3.7093e-05 - accuracy: 1.0000\n",
      "Epoch 67/100\n",
      "3/3 [==============================] - 0s 12ms/step - loss: 3.7638e-05 - accuracy: 1.0000\n",
      "Epoch 68/100\n",
      "3/3 [==============================] - 0s 13ms/step - loss: 2.9031e-05 - accuracy: 1.0000\n",
      "Epoch 69/100\n",
      "3/3 [==============================] - 0s 11ms/step - loss: 9.6183e-05 - accuracy: 1.0000\n",
      "Epoch 70/100\n",
      "3/3 [==============================] - 0s 12ms/step - loss: 3.3916e-05 - accuracy: 1.0000\n",
      "Epoch 71/100\n",
      "3/3 [==============================] - 0s 12ms/step - loss: 1.1477e-05 - accuracy: 1.0000\n",
      "Epoch 72/100\n",
      "3/3 [==============================] - 0s 14ms/step - loss: 1.0732e-05 - accuracy: 1.0000\n",
      "Epoch 73/100\n",
      "3/3 [==============================] - 0s 12ms/step - loss: 1.3754e-05 - accuracy: 1.0000\n",
      "Epoch 74/100\n",
      "3/3 [==============================] - 0s 14ms/step - loss: 5.9192e-06 - accuracy: 1.0000\n",
      "Epoch 75/100\n",
      "3/3 [==============================] - 0s 13ms/step - loss: 5.3275e-06 - accuracy: 1.0000\n",
      "Epoch 76/100\n",
      "3/3 [==============================] - 0s 12ms/step - loss: 4.7661e-06 - accuracy: 1.0000\n",
      "Epoch 77/100\n",
      "3/3 [==============================] - 0s 14ms/step - loss: 4.2331e-06 - accuracy: 1.0000\n",
      "Epoch 78/100\n",
      "3/3 [==============================] - 0s 13ms/step - loss: 3.7961e-06 - accuracy: 1.0000\n",
      "Epoch 79/100\n",
      "3/3 [==============================] - 0s 13ms/step - loss: 3.2733e-06 - accuracy: 1.0000\n",
      "Epoch 80/100\n",
      "3/3 [==============================] - 0s 12ms/step - loss: 3.6313e-06 - accuracy: 1.0000\n",
      "Epoch 81/100\n",
      "3/3 [==============================] - 0s 14ms/step - loss: 2.2638e-06 - accuracy: 1.0000\n",
      "Epoch 82/100\n",
      "3/3 [==============================] - 0s 12ms/step - loss: 2.8236e-06 - accuracy: 1.0000\n",
      "Epoch 83/100\n",
      "3/3 [==============================] - 0s 14ms/step - loss: 1.6645e-06 - accuracy: 1.0000\n",
      "Epoch 84/100\n",
      "3/3 [==============================] - 0s 12ms/step - loss: 1.5616e-06 - accuracy: 1.0000\n",
      "Epoch 85/100\n",
      "3/3 [==============================] - 0s 13ms/step - loss: 2.7493e-06 - accuracy: 1.0000\n",
      "Epoch 86/100\n",
      "3/3 [==============================] - 0s 13ms/step - loss: 1.0606e-06 - accuracy: 1.0000\n",
      "Epoch 87/100\n",
      "3/3 [==============================] - 0s 13ms/step - loss: 1.0010e-06 - accuracy: 1.0000\n",
      "Epoch 88/100\n",
      "3/3 [==============================] - 0s 13ms/step - loss: 6.2971e-07 - accuracy: 1.0000\n",
      "Epoch 89/100\n",
      "3/3 [==============================] - 0s 13ms/step - loss: 5.2263e-07 - accuracy: 1.0000\n",
      "Epoch 90/100\n",
      "3/3 [==============================] - 0s 13ms/step - loss: 4.1990e-07 - accuracy: 1.0000\n",
      "Epoch 91/100\n",
      "3/3 [==============================] - 0s 12ms/step - loss: 3.7542e-07 - accuracy: 1.0000\n",
      "Epoch 92/100\n",
      "3/3 [==============================] - 0s 13ms/step - loss: 3.5438e-07 - accuracy: 1.0000\n",
      "Epoch 93/100\n",
      "3/3 [==============================] - 0s 13ms/step - loss: 2.8857e-07 - accuracy: 1.0000\n",
      "Epoch 94/100\n",
      "3/3 [==============================] - 0s 14ms/step - loss: 3.1963e-07 - accuracy: 1.0000\n",
      "Epoch 95/100\n",
      "3/3 [==============================] - 0s 15ms/step - loss: 2.0108e-07 - accuracy: 1.0000\n",
      "Epoch 96/100\n",
      "3/3 [==============================] - 0s 13ms/step - loss: 1.8090e-07 - accuracy: 1.0000\n",
      "Epoch 97/100\n",
      "3/3 [==============================] - 0s 12ms/step - loss: 1.6189e-07 - accuracy: 1.0000\n",
      "Epoch 98/100\n",
      "3/3 [==============================] - 0s 13ms/step - loss: 1.6250e-07 - accuracy: 1.0000\n",
      "Epoch 99/100\n",
      "3/3 [==============================] - 0s 13ms/step - loss: 1.2619e-07 - accuracy: 1.0000\n",
      "Epoch 100/100\n",
      "3/3 [==============================] - 0s 12ms/step - loss: 1.1007e-07 - accuracy: 1.0000\n"
     ]
    }
   ],
   "source": [
    "history = model.fit(train_dataset, epochs = 100)"
   ]
  }
 ],
 "metadata": {
  "kernelspec": {
   "display_name": "Python 3 (ipykernel)",
   "language": "python",
   "name": "python3"
  },
  "language_info": {
   "codemirror_mode": {
    "name": "ipython",
    "version": 3
   },
   "file_extension": ".py",
   "mimetype": "text/x-python",
   "name": "python",
   "nbconvert_exporter": "python",
   "pygments_lexer": "ipython3",
   "version": "3.9.13"
  },
  "toc": {
   "base_numbering": 1,
   "nav_menu": {},
   "number_sections": true,
   "sideBar": true,
   "skip_h1_title": false,
   "title_cell": "Table of Contents",
   "title_sidebar": "Contents",
   "toc_cell": false,
   "toc_position": {},
   "toc_section_display": true,
   "toc_window_display": false
  }
 },
 "nbformat": 4,
 "nbformat_minor": 5
}
