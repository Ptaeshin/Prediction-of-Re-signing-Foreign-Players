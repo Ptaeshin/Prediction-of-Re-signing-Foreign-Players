{
 "cells": [
  {
   "cell_type": "code",
   "execution_count": 31,
   "id": "803b521a",
   "metadata": {
    "ExecuteTime": {
     "end_time": "2023-03-13T05:46:48.654636Z",
     "start_time": "2023-03-13T05:46:48.640828Z"
    }
   },
   "outputs": [],
   "source": [
    "# 기본패키지\n",
    "\n",
    "import pandas as pd\n",
    "import numpy as np\n",
    "import matplotlib.pyplot as plt\n",
    "plt.rcParams['font.family'] = 'Malgun Gothic'\n",
    "import seaborn as sns\n",
    "from sklearn.preprocessing import StandardScaler\n",
    "from sklearn.model_selection import train_test_split\n",
    "from collections import Counter\n",
    "\n",
    "# 모델\n",
    "from sklearn.linear_model import LogisticRegression\n",
    "from sklearn.svm import SVC\n",
    "from sklearn.ensemble import RandomForestClassifier\n",
    "from xgboost import XGBClassifier\n",
    "from lightgbm import LGBMClassifier\n",
    "from catboost import CatBoostClassifier\n",
    "\n",
    "# 모델\n",
    "from sklearn.linear_model import LogisticRegression\n",
    "from sklearn.svm import SVC\n",
    "from sklearn.ensemble import RandomForestRegressor\n",
    "from xgboost import XGBRegressor\n",
    "from lightgbm import LGBMRegressor\n",
    "from catboost import CatBoostRegressor\n",
    "\n",
    "# 검증\n",
    "from sklearn.model_selection import cross_val_score\n",
    "from sklearn.model_selection import cross_val_predict\n",
    "from sklearn.model_selection import StratifiedKFold\n",
    "from sklearn.metrics import confusion_matrix, classification_report\n",
    "from sklearn.metrics import accuracy_score, precision_score, recall_score, f1_score, roc_auc_score\n",
    "from sklearn.metrics import roc_curve, auc\n",
    "#pd.set_option('display.max_columns', None) # 컬럼 수가 많으므로 요약되어 표시되지 않게 함\n",
    "import warnings\n",
    "warnings.filterwarnings(action='ignore')"
   ]
  },
  {
   "cell_type": "code",
   "execution_count": 32,
   "id": "5d88aa1b",
   "metadata": {
    "ExecuteTime": {
     "end_time": "2023-03-13T05:48:12.719906Z",
     "start_time": "2023-03-13T05:48:12.702864Z"
    }
   },
   "outputs": [],
   "source": [
    "rf_rg = RandomForestRegressor()\n",
    "xgb_rg = XGBRegressor()\n",
    "lgbm_rg = LGBMRegressor()\n",
    "cat_rg = CatBoostRegressor(verbose=0)"
   ]
  },
  {
   "cell_type": "code",
   "execution_count": 298,
   "id": "1a3916f4",
   "metadata": {
    "ExecuteTime": {
     "end_time": "2023-03-14T04:23:00.655270Z",
     "start_time": "2023-03-14T04:23:00.605272Z"
    }
   },
   "outputs": [],
   "source": [
    "barrel_df = pd.read_csv(\"./외국인타자MLB배럴성적2.csv\")\n",
    "minor_df = pd.read_csv(\"./외국인타자_마이너성적.csv\")\n",
    "kbo_df = pd.read_csv(\"./외국인타자_국내성적.csv\")\n",
    "kbo_df = kbo_df[[\"이름\",\"재계약\",\"타율\",\"OPS\",\"WAR\"]]\n",
    "kbo_df = kbo_df.rename(columns = {\"OPS\" : \"KBO_OPS\", \"WAR\" : \"KBO_WAR\"})\n"
   ]
  },
  {
   "cell_type": "markdown",
   "id": "ecfc7aba",
   "metadata": {},
   "source": [
    "# 배럴타구로 예측"
   ]
  },
  {
   "cell_type": "code",
   "execution_count": 299,
   "id": "3783e222",
   "metadata": {
    "ExecuteTime": {
     "end_time": "2023-03-14T04:23:02.073767Z",
     "start_time": "2023-03-14T04:23:02.041424Z"
    }
   },
   "outputs": [
    {
     "data": {
      "text/html": [
       "<div>\n",
       "<style scoped>\n",
       "    .dataframe tbody tr th:only-of-type {\n",
       "        vertical-align: middle;\n",
       "    }\n",
       "\n",
       "    .dataframe tbody tr th {\n",
       "        vertical-align: top;\n",
       "    }\n",
       "\n",
       "    .dataframe thead th {\n",
       "        text-align: right;\n",
       "    }\n",
       "</style>\n",
       "<table border=\"1\" class=\"dataframe\">\n",
       "  <thead>\n",
       "    <tr style=\"text-align: right;\">\n",
       "      <th></th>\n",
       "      <th>영문이름</th>\n",
       "      <th>이름</th>\n",
       "      <th>구단</th>\n",
       "      <th>재계약</th>\n",
       "      <th>Season</th>\n",
       "      <th>Age</th>\n",
       "      <th>Pitches</th>\n",
       "      <th>Batted Balls</th>\n",
       "      <th>Barrels</th>\n",
       "      <th>Barrel%</th>\n",
       "      <th>...</th>\n",
       "      <th>Launch Angle</th>\n",
       "      <th>Sweet Spot %</th>\n",
       "      <th>XBA</th>\n",
       "      <th>XSLG</th>\n",
       "      <th>WOBA</th>\n",
       "      <th>XWOBA</th>\n",
       "      <th>XWOBACON</th>\n",
       "      <th>HardHit%</th>\n",
       "      <th>K%</th>\n",
       "      <th>BB%</th>\n",
       "    </tr>\n",
       "  </thead>\n",
       "  <tbody>\n",
       "    <tr>\n",
       "      <th>0</th>\n",
       "      <td>Daniel Casey Dorn</td>\n",
       "      <td>대니 돈</td>\n",
       "      <td>키움</td>\n",
       "      <td>1.0</td>\n",
       "      <td>2015</td>\n",
       "      <td>30</td>\n",
       "      <td>125</td>\n",
       "      <td>20</td>\n",
       "      <td>0</td>\n",
       "      <td>0.0</td>\n",
       "      <td>...</td>\n",
       "      <td>8.6</td>\n",
       "      <td>25.0</td>\n",
       "      <td>0.184</td>\n",
       "      <td>0.234</td>\n",
       "      <td>0.192</td>\n",
       "      <td>0.215</td>\n",
       "      <td>0.279</td>\n",
       "      <td>35.0</td>\n",
       "      <td>31.3</td>\n",
       "      <td>6.3</td>\n",
       "    </tr>\n",
       "  </tbody>\n",
       "</table>\n",
       "<p>1 rows × 23 columns</p>\n",
       "</div>"
      ],
      "text/plain": [
       "                영문이름    이름  구단  재계약  Season  Age  Pitches  Batted Balls  \\\n",
       "0  Daniel Casey Dorn  대니 돈  키움  1.0    2015   30      125            20   \n",
       "\n",
       "   Barrels  Barrel%  ...  Launch Angle  Sweet Spot %    XBA   XSLG   WOBA  \\\n",
       "0        0      0.0  ...           8.6          25.0  0.184  0.234  0.192   \n",
       "\n",
       "   XWOBA  XWOBACON  HardHit%    K%  BB%  \n",
       "0  0.215     0.279      35.0  31.3  6.3  \n",
       "\n",
       "[1 rows x 23 columns]"
      ]
     },
     "execution_count": 299,
     "metadata": {},
     "output_type": "execute_result"
    }
   ],
   "source": [
    "barrel_df.head(1)"
   ]
  },
  {
   "cell_type": "code",
   "execution_count": 300,
   "id": "c86e5739",
   "metadata": {
    "ExecuteTime": {
     "end_time": "2023-03-14T04:23:02.264467Z",
     "start_time": "2023-03-14T04:23:02.242471Z"
    }
   },
   "outputs": [],
   "source": [
    "merge_df = pd.merge(barrel_df,kbo_df,on=[\"이름\"])\n",
    "merge_df = merge_df.rename(columns={\"재계약_x\" : \"재계약\"})"
   ]
  },
  {
   "cell_type": "code",
   "execution_count": 301,
   "id": "476fed52",
   "metadata": {
    "ExecuteTime": {
     "end_time": "2023-03-14T04:23:02.565772Z",
     "start_time": "2023-03-14T04:23:02.534774Z"
    }
   },
   "outputs": [
    {
     "data": {
      "text/html": [
       "<div>\n",
       "<style scoped>\n",
       "    .dataframe tbody tr th:only-of-type {\n",
       "        vertical-align: middle;\n",
       "    }\n",
       "\n",
       "    .dataframe tbody tr th {\n",
       "        vertical-align: top;\n",
       "    }\n",
       "\n",
       "    .dataframe thead th {\n",
       "        text-align: right;\n",
       "    }\n",
       "</style>\n",
       "<table border=\"1\" class=\"dataframe\">\n",
       "  <thead>\n",
       "    <tr style=\"text-align: right;\">\n",
       "      <th></th>\n",
       "      <th>영문이름</th>\n",
       "      <th>이름</th>\n",
       "      <th>구단</th>\n",
       "      <th>재계약</th>\n",
       "      <th>Season</th>\n",
       "      <th>Age</th>\n",
       "      <th>Pitches</th>\n",
       "      <th>Batted Balls</th>\n",
       "      <th>Barrels</th>\n",
       "      <th>Barrel%</th>\n",
       "      <th>...</th>\n",
       "      <th>WOBA</th>\n",
       "      <th>XWOBA</th>\n",
       "      <th>XWOBACON</th>\n",
       "      <th>HardHit%</th>\n",
       "      <th>K%</th>\n",
       "      <th>BB%</th>\n",
       "      <th>재계약_y</th>\n",
       "      <th>타율</th>\n",
       "      <th>KBO_OPS</th>\n",
       "      <th>KBO_WAR</th>\n",
       "    </tr>\n",
       "  </thead>\n",
       "  <tbody>\n",
       "    <tr>\n",
       "      <th>0</th>\n",
       "      <td>Daniel Casey Dorn</td>\n",
       "      <td>대니 돈</td>\n",
       "      <td>키움</td>\n",
       "      <td>1.0</td>\n",
       "      <td>2015</td>\n",
       "      <td>30</td>\n",
       "      <td>125</td>\n",
       "      <td>20</td>\n",
       "      <td>0</td>\n",
       "      <td>0.0</td>\n",
       "      <td>...</td>\n",
       "      <td>0.192</td>\n",
       "      <td>0.215</td>\n",
       "      <td>0.279</td>\n",
       "      <td>35.0</td>\n",
       "      <td>31.3</td>\n",
       "      <td>6.3</td>\n",
       "      <td>1</td>\n",
       "      <td>0.295</td>\n",
       "      <td>0.893</td>\n",
       "      <td>3.03</td>\n",
       "    </tr>\n",
       "  </tbody>\n",
       "</table>\n",
       "<p>1 rows × 27 columns</p>\n",
       "</div>"
      ],
      "text/plain": [
       "                영문이름    이름  구단  재계약  Season  Age  Pitches  Batted Balls  \\\n",
       "0  Daniel Casey Dorn  대니 돈  키움  1.0    2015   30      125            20   \n",
       "\n",
       "   Barrels  Barrel%  ...   WOBA  XWOBA  XWOBACON  HardHit%    K%  BB%  재계약_y  \\\n",
       "0        0      0.0  ...  0.192  0.215     0.279      35.0  31.3  6.3      1   \n",
       "\n",
       "      타율  KBO_OPS  KBO_WAR  \n",
       "0  0.295    0.893     3.03  \n",
       "\n",
       "[1 rows x 27 columns]"
      ]
     },
     "execution_count": 301,
     "metadata": {},
     "output_type": "execute_result"
    }
   ],
   "source": [
    "merge_df.head(1)"
   ]
  },
  {
   "cell_type": "code",
   "execution_count": 302,
   "id": "887967f8",
   "metadata": {
    "ExecuteTime": {
     "end_time": "2023-03-14T04:23:02.849902Z",
     "start_time": "2023-03-14T04:23:02.832900Z"
    }
   },
   "outputs": [
    {
     "data": {
      "text/plain": [
       "(45, 27)"
      ]
     },
     "execution_count": 302,
     "metadata": {},
     "output_type": "execute_result"
    }
   ],
   "source": [
    "merge_df.shape"
   ]
  },
  {
   "cell_type": "code",
   "execution_count": 303,
   "id": "a8943db1",
   "metadata": {
    "ExecuteTime": {
     "end_time": "2023-03-14T04:23:06.808591Z",
     "start_time": "2023-03-14T04:23:03.254429Z"
    }
   },
   "outputs": [
    {
     "data": {
      "text/plain": [
       "-0.05318290712994898"
      ]
     },
     "execution_count": 303,
     "metadata": {},
     "output_type": "execute_result"
    }
   ],
   "source": [
    "columns = barrel_df.columns\n",
    "columns\n",
    "X_data = merge_df[columns].drop(columns = [\"영문이름\",\"이름\",\"구단\",\"Season\",\"재계약\"])\n",
    "y_data = merge_df[\"타율\"]\n",
    "\n",
    "cross_val_score(cat_rg,X_data,y_data,scoring=\"neg_mean_absolute_error\").mean()"
   ]
  },
  {
   "cell_type": "code",
   "execution_count": 304,
   "id": "f3011302",
   "metadata": {
    "ExecuteTime": {
     "end_time": "2023-03-14T04:23:10.488817Z",
     "start_time": "2023-03-14T04:23:06.810590Z"
    }
   },
   "outputs": [
    {
     "data": {
      "text/plain": [
       "array([0.25790139, 0.27303013, 0.26867593, 0.26404124, 0.26404124,\n",
       "       0.30737647, 0.2822558 , 0.25655216, 0.25722186, 0.26333055,\n",
       "       0.28269746, 0.23444463, 0.27108092, 0.25245513, 0.25570653,\n",
       "       0.26201492, 0.23454896, 0.24005208, 0.2873909 , 0.2655583 ,\n",
       "       0.2885132 , 0.28628814, 0.27325434, 0.26617392, 0.29444813,\n",
       "       0.25448691, 0.26724151, 0.25397276, 0.23531712, 0.23248805,\n",
       "       0.21123356, 0.21123356, 0.28412165, 0.28860561, 0.24071083,\n",
       "       0.25349275, 0.2639905 , 0.26590084, 0.26183992, 0.27025116,\n",
       "       0.23687551, 0.223969  , 0.25557896, 0.24102812, 0.20791387])"
      ]
     },
     "execution_count": 304,
     "metadata": {},
     "output_type": "execute_result"
    }
   ],
   "source": [
    "cross_val_predict(cat_rg,X_data,y_data)"
   ]
  },
  {
   "cell_type": "code",
   "execution_count": 307,
   "id": "35ee6a0b",
   "metadata": {
    "ExecuteTime": {
     "end_time": "2023-03-14T04:52:21.653956Z",
     "start_time": "2023-03-14T04:52:21.359968Z"
    },
    "scrolled": true
   },
   "outputs": [
    {
     "data": {
      "text/html": [
       "<div>\n",
       "<style scoped>\n",
       "    .dataframe tbody tr th:only-of-type {\n",
       "        vertical-align: middle;\n",
       "    }\n",
       "\n",
       "    .dataframe tbody tr th {\n",
       "        vertical-align: top;\n",
       "    }\n",
       "\n",
       "    .dataframe thead th {\n",
       "        text-align: right;\n",
       "    }\n",
       "</style>\n",
       "<table border=\"1\" class=\"dataframe\">\n",
       "  <thead>\n",
       "    <tr style=\"text-align: right;\">\n",
       "      <th></th>\n",
       "      <th>이름</th>\n",
       "      <th>구단</th>\n",
       "      <th>재계약</th>\n",
       "      <th>타율</th>\n",
       "      <th>predict</th>\n",
       "      <th>차이</th>\n",
       "    </tr>\n",
       "  </thead>\n",
       "  <tbody>\n",
       "    <tr>\n",
       "      <th>0</th>\n",
       "      <td>대니 돈</td>\n",
       "      <td>키움</td>\n",
       "      <td>1.0</td>\n",
       "      <td>0.295</td>\n",
       "      <td>0.251646</td>\n",
       "      <td>0.043354</td>\n",
       "    </tr>\n",
       "    <tr>\n",
       "      <th>1</th>\n",
       "      <td>헥터 고메즈</td>\n",
       "      <td>SSG</td>\n",
       "      <td>0.0</td>\n",
       "      <td>0.283</td>\n",
       "      <td>0.299749</td>\n",
       "      <td>0.016749</td>\n",
       "    </tr>\n",
       "    <tr>\n",
       "      <th>2</th>\n",
       "      <td>윌린 로사리오</td>\n",
       "      <td>한화</td>\n",
       "      <td>1.0</td>\n",
       "      <td>0.339</td>\n",
       "      <td>0.283144</td>\n",
       "      <td>0.055856</td>\n",
       "    </tr>\n",
       "    <tr>\n",
       "      <th>3</th>\n",
       "      <td>저스틴 맥스웰</td>\n",
       "      <td>롯데</td>\n",
       "      <td>0.0</td>\n",
       "      <td>0.288</td>\n",
       "      <td>0.222788</td>\n",
       "      <td>0.065212</td>\n",
       "    </tr>\n",
       "    <tr>\n",
       "      <th>4</th>\n",
       "      <td>재비어 스크럭스</td>\n",
       "      <td>NC</td>\n",
       "      <td>1.0</td>\n",
       "      <td>0.300</td>\n",
       "      <td>0.222788</td>\n",
       "      <td>0.077212</td>\n",
       "    </tr>\n",
       "    <tr>\n",
       "      <th>5</th>\n",
       "      <td>제임스 로니</td>\n",
       "      <td>LG</td>\n",
       "      <td>0.0</td>\n",
       "      <td>0.278</td>\n",
       "      <td>0.338326</td>\n",
       "      <td>0.060326</td>\n",
       "    </tr>\n",
       "    <tr>\n",
       "      <th>6</th>\n",
       "      <td>대니 워스</td>\n",
       "      <td>SSG</td>\n",
       "      <td>0.0</td>\n",
       "      <td>0.111</td>\n",
       "      <td>0.335501</td>\n",
       "      <td>0.224501</td>\n",
       "    </tr>\n",
       "    <tr>\n",
       "      <th>7</th>\n",
       "      <td>제이미 로맥</td>\n",
       "      <td>SSG</td>\n",
       "      <td>1.0</td>\n",
       "      <td>0.242</td>\n",
       "      <td>0.258052</td>\n",
       "      <td>0.016052</td>\n",
       "    </tr>\n",
       "    <tr>\n",
       "      <th>8</th>\n",
       "      <td>다린 러프</td>\n",
       "      <td>삼성</td>\n",
       "      <td>1.0</td>\n",
       "      <td>0.315</td>\n",
       "      <td>0.204909</td>\n",
       "      <td>0.110091</td>\n",
       "    </tr>\n",
       "    <tr>\n",
       "      <th>9</th>\n",
       "      <td>지미 파레디스</td>\n",
       "      <td>두산</td>\n",
       "      <td>0.0</td>\n",
       "      <td>0.138</td>\n",
       "      <td>0.291606</td>\n",
       "      <td>0.153606</td>\n",
       "    </tr>\n",
       "    <tr>\n",
       "      <th>10</th>\n",
       "      <td>스캇 반 슬라이크</td>\n",
       "      <td>두산</td>\n",
       "      <td>0.0</td>\n",
       "      <td>0.128</td>\n",
       "      <td>0.292382</td>\n",
       "      <td>0.164382</td>\n",
       "    </tr>\n",
       "    <tr>\n",
       "      <th>11</th>\n",
       "      <td>아도니스 가르시아</td>\n",
       "      <td>LG</td>\n",
       "      <td>0.0</td>\n",
       "      <td>0.339</td>\n",
       "      <td>0.234355</td>\n",
       "      <td>0.104645</td>\n",
       "    </tr>\n",
       "    <tr>\n",
       "      <th>12</th>\n",
       "      <td>제리 샌즈</td>\n",
       "      <td>키움</td>\n",
       "      <td>1.0</td>\n",
       "      <td>0.314</td>\n",
       "      <td>0.284580</td>\n",
       "      <td>0.029420</td>\n",
       "    </tr>\n",
       "    <tr>\n",
       "      <th>13</th>\n",
       "      <td>제라드 호잉</td>\n",
       "      <td>한화</td>\n",
       "      <td>1.0</td>\n",
       "      <td>0.306</td>\n",
       "      <td>0.252452</td>\n",
       "      <td>0.053548</td>\n",
       "    </tr>\n",
       "    <tr>\n",
       "      <th>14</th>\n",
       "      <td>호세 미겔 페르난데스</td>\n",
       "      <td>두산</td>\n",
       "      <td>1.0</td>\n",
       "      <td>0.344</td>\n",
       "      <td>0.196966</td>\n",
       "      <td>0.147034</td>\n",
       "    </tr>\n",
       "    <tr>\n",
       "      <th>15</th>\n",
       "      <td>프레스톤 터커</td>\n",
       "      <td>KIA</td>\n",
       "      <td>1.0</td>\n",
       "      <td>0.311</td>\n",
       "      <td>0.257277</td>\n",
       "      <td>0.053723</td>\n",
       "    </tr>\n",
       "    <tr>\n",
       "      <th>16</th>\n",
       "      <td>맥 윌리엄슨</td>\n",
       "      <td>삼성</td>\n",
       "      <td>0.0</td>\n",
       "      <td>0.273</td>\n",
       "      <td>0.206644</td>\n",
       "      <td>0.066356</td>\n",
       "    </tr>\n",
       "    <tr>\n",
       "      <th>17</th>\n",
       "      <td>카를로스 아수아헤</td>\n",
       "      <td>롯데</td>\n",
       "      <td>0.0</td>\n",
       "      <td>0.252</td>\n",
       "      <td>0.281246</td>\n",
       "      <td>0.029246</td>\n",
       "    </tr>\n",
       "    <tr>\n",
       "      <th>18</th>\n",
       "      <td>토미 조셉</td>\n",
       "      <td>LG</td>\n",
       "      <td>0.0</td>\n",
       "      <td>0.274</td>\n",
       "      <td>0.294820</td>\n",
       "      <td>0.020820</td>\n",
       "    </tr>\n",
       "    <tr>\n",
       "      <th>19</th>\n",
       "      <td>제이크 스몰린스키</td>\n",
       "      <td>NC</td>\n",
       "      <td>0.0</td>\n",
       "      <td>0.229</td>\n",
       "      <td>0.251905</td>\n",
       "      <td>0.022905</td>\n",
       "    </tr>\n",
       "    <tr>\n",
       "      <th>20</th>\n",
       "      <td>테일리 모터</td>\n",
       "      <td>키움</td>\n",
       "      <td>0.0</td>\n",
       "      <td>0.114</td>\n",
       "      <td>0.220937</td>\n",
       "      <td>0.106937</td>\n",
       "    </tr>\n",
       "    <tr>\n",
       "      <th>21</th>\n",
       "      <td>에디슨 러셀</td>\n",
       "      <td>키움</td>\n",
       "      <td>0.0</td>\n",
       "      <td>0.254</td>\n",
       "      <td>0.293813</td>\n",
       "      <td>0.039813</td>\n",
       "    </tr>\n",
       "    <tr>\n",
       "      <th>22</th>\n",
       "      <td>타일러 화이트</td>\n",
       "      <td>SSG</td>\n",
       "      <td>0.0</td>\n",
       "      <td>0.136</td>\n",
       "      <td>0.271678</td>\n",
       "      <td>0.135678</td>\n",
       "    </tr>\n",
       "    <tr>\n",
       "      <th>23</th>\n",
       "      <td>애런 알테어</td>\n",
       "      <td>NC</td>\n",
       "      <td>1.0</td>\n",
       "      <td>0.278</td>\n",
       "      <td>0.270878</td>\n",
       "      <td>0.007122</td>\n",
       "    </tr>\n",
       "    <tr>\n",
       "      <th>24</th>\n",
       "      <td>타일러 살라디노</td>\n",
       "      <td>삼성</td>\n",
       "      <td>0.0</td>\n",
       "      <td>0.280</td>\n",
       "      <td>0.293116</td>\n",
       "      <td>0.013116</td>\n",
       "    </tr>\n",
       "    <tr>\n",
       "      <th>25</th>\n",
       "      <td>다니엘 팔카</td>\n",
       "      <td>삼성</td>\n",
       "      <td>0.0</td>\n",
       "      <td>0.209</td>\n",
       "      <td>0.255486</td>\n",
       "      <td>0.046486</td>\n",
       "    </tr>\n",
       "    <tr>\n",
       "      <th>26</th>\n",
       "      <td>브랜든 반즈</td>\n",
       "      <td>한화</td>\n",
       "      <td>0.0</td>\n",
       "      <td>0.265</td>\n",
       "      <td>0.297075</td>\n",
       "      <td>0.032075</td>\n",
       "    </tr>\n",
       "    <tr>\n",
       "      <th>27</th>\n",
       "      <td>딕슨 마차도</td>\n",
       "      <td>롯데</td>\n",
       "      <td>1.0</td>\n",
       "      <td>0.280</td>\n",
       "      <td>0.253008</td>\n",
       "      <td>0.026992</td>\n",
       "    </tr>\n",
       "    <tr>\n",
       "      <th>28</th>\n",
       "      <td>저스틴 보어</td>\n",
       "      <td>LG</td>\n",
       "      <td>0.0</td>\n",
       "      <td>0.170</td>\n",
       "      <td>0.215742</td>\n",
       "      <td>0.045742</td>\n",
       "    </tr>\n",
       "    <tr>\n",
       "      <th>29</th>\n",
       "      <td>데이비드 프레이타스</td>\n",
       "      <td>키움</td>\n",
       "      <td>0.0</td>\n",
       "      <td>0.259</td>\n",
       "      <td>0.213849</td>\n",
       "      <td>0.045151</td>\n",
       "    </tr>\n",
       "    <tr>\n",
       "      <th>30</th>\n",
       "      <td>호세 피렐라</td>\n",
       "      <td>삼성</td>\n",
       "      <td>1.0</td>\n",
       "      <td>0.286</td>\n",
       "      <td>0.153875</td>\n",
       "      <td>0.132125</td>\n",
       "    </tr>\n",
       "    <tr>\n",
       "      <th>31</th>\n",
       "      <td>호세 피렐라</td>\n",
       "      <td>삼성</td>\n",
       "      <td>1.0</td>\n",
       "      <td>0.286</td>\n",
       "      <td>0.153875</td>\n",
       "      <td>0.132125</td>\n",
       "    </tr>\n",
       "    <tr>\n",
       "      <th>32</th>\n",
       "      <td>라이온 힐리</td>\n",
       "      <td>한화</td>\n",
       "      <td>0.0</td>\n",
       "      <td>0.257</td>\n",
       "      <td>0.269153</td>\n",
       "      <td>0.012153</td>\n",
       "    </tr>\n",
       "    <tr>\n",
       "      <th>33</th>\n",
       "      <td>에르난 페레즈</td>\n",
       "      <td>한화</td>\n",
       "      <td>0.0</td>\n",
       "      <td>0.267</td>\n",
       "      <td>0.259574</td>\n",
       "      <td>0.007426</td>\n",
       "    </tr>\n",
       "    <tr>\n",
       "      <th>34</th>\n",
       "      <td>헨리 라모스</td>\n",
       "      <td>KT</td>\n",
       "      <td>0.0</td>\n",
       "      <td>0.250</td>\n",
       "      <td>0.223834</td>\n",
       "      <td>0.026166</td>\n",
       "    </tr>\n",
       "    <tr>\n",
       "      <th>35</th>\n",
       "      <td>앤서니 알포드</td>\n",
       "      <td>KT</td>\n",
       "      <td>1.0</td>\n",
       "      <td>0.286</td>\n",
       "      <td>0.219629</td>\n",
       "      <td>0.066371</td>\n",
       "    </tr>\n",
       "    <tr>\n",
       "      <th>36</th>\n",
       "      <td>로벨 가르시아</td>\n",
       "      <td>LG</td>\n",
       "      <td>0.0</td>\n",
       "      <td>0.206</td>\n",
       "      <td>0.277864</td>\n",
       "      <td>0.071864</td>\n",
       "    </tr>\n",
       "    <tr>\n",
       "      <th>37</th>\n",
       "      <td>야시엘 푸이그</td>\n",
       "      <td>키움</td>\n",
       "      <td>0.0</td>\n",
       "      <td>0.277</td>\n",
       "      <td>0.315237</td>\n",
       "      <td>0.038237</td>\n",
       "    </tr>\n",
       "    <tr>\n",
       "      <th>38</th>\n",
       "      <td>케빈 크론</td>\n",
       "      <td>SSG</td>\n",
       "      <td>0.0</td>\n",
       "      <td>0.222</td>\n",
       "      <td>0.254948</td>\n",
       "      <td>0.032948</td>\n",
       "    </tr>\n",
       "    <tr>\n",
       "      <th>39</th>\n",
       "      <td>후안 라가레스</td>\n",
       "      <td>SSG</td>\n",
       "      <td>0.0</td>\n",
       "      <td>0.317</td>\n",
       "      <td>0.282807</td>\n",
       "      <td>0.034193</td>\n",
       "    </tr>\n",
       "    <tr>\n",
       "      <th>40</th>\n",
       "      <td>닉 마티니</td>\n",
       "      <td>NC</td>\n",
       "      <td>0.0</td>\n",
       "      <td>0.300</td>\n",
       "      <td>0.173033</td>\n",
       "      <td>0.126967</td>\n",
       "    </tr>\n",
       "    <tr>\n",
       "      <th>41</th>\n",
       "      <td>DJ 피터스</td>\n",
       "      <td>롯데</td>\n",
       "      <td>0.0</td>\n",
       "      <td>0.228</td>\n",
       "      <td>0.247786</td>\n",
       "      <td>0.019786</td>\n",
       "    </tr>\n",
       "    <tr>\n",
       "      <th>42</th>\n",
       "      <td>잭 렉스</td>\n",
       "      <td>롯데</td>\n",
       "      <td>1.0</td>\n",
       "      <td>0.330</td>\n",
       "      <td>0.230442</td>\n",
       "      <td>0.099558</td>\n",
       "    </tr>\n",
       "    <tr>\n",
       "      <th>43</th>\n",
       "      <td>소크라테스 브리토</td>\n",
       "      <td>KIA</td>\n",
       "      <td>1.0</td>\n",
       "      <td>0.311</td>\n",
       "      <td>0.269620</td>\n",
       "      <td>0.041380</td>\n",
       "    </tr>\n",
       "    <tr>\n",
       "      <th>44</th>\n",
       "      <td>마이크 터크먼</td>\n",
       "      <td>한화</td>\n",
       "      <td>0.0</td>\n",
       "      <td>0.289</td>\n",
       "      <td>0.149054</td>\n",
       "      <td>0.139946</td>\n",
       "    </tr>\n",
       "  </tbody>\n",
       "</table>\n",
       "</div>"
      ],
      "text/plain": [
       "             이름   구단  재계약     타율   predict        차이\n",
       "0          대니 돈   키움  1.0  0.295  0.251646  0.043354\n",
       "1        헥터 고메즈  SSG  0.0  0.283  0.299749  0.016749\n",
       "2       윌린 로사리오   한화  1.0  0.339  0.283144  0.055856\n",
       "3       저스틴 맥스웰   롯데  0.0  0.288  0.222788  0.065212\n",
       "4      재비어 스크럭스   NC  1.0  0.300  0.222788  0.077212\n",
       "5        제임스 로니   LG  0.0  0.278  0.338326  0.060326\n",
       "6         대니 워스  SSG  0.0  0.111  0.335501  0.224501\n",
       "7        제이미 로맥  SSG  1.0  0.242  0.258052  0.016052\n",
       "8         다린 러프   삼성  1.0  0.315  0.204909  0.110091\n",
       "9       지미 파레디스   두산  0.0  0.138  0.291606  0.153606\n",
       "10    스캇 반 슬라이크   두산  0.0  0.128  0.292382  0.164382\n",
       "11    아도니스 가르시아   LG  0.0  0.339  0.234355  0.104645\n",
       "12        제리 샌즈   키움  1.0  0.314  0.284580  0.029420\n",
       "13       제라드 호잉   한화  1.0  0.306  0.252452  0.053548\n",
       "14  호세 미겔 페르난데스   두산  1.0  0.344  0.196966  0.147034\n",
       "15      프레스톤 터커  KIA  1.0  0.311  0.257277  0.053723\n",
       "16       맥 윌리엄슨   삼성  0.0  0.273  0.206644  0.066356\n",
       "17    카를로스 아수아헤   롯데  0.0  0.252  0.281246  0.029246\n",
       "18        토미 조셉   LG  0.0  0.274  0.294820  0.020820\n",
       "19    제이크 스몰린스키   NC  0.0  0.229  0.251905  0.022905\n",
       "20       테일리 모터   키움  0.0  0.114  0.220937  0.106937\n",
       "21       에디슨 러셀   키움  0.0  0.254  0.293813  0.039813\n",
       "22      타일러 화이트  SSG  0.0  0.136  0.271678  0.135678\n",
       "23       애런 알테어   NC  1.0  0.278  0.270878  0.007122\n",
       "24     타일러 살라디노   삼성  0.0  0.280  0.293116  0.013116\n",
       "25       다니엘 팔카   삼성  0.0  0.209  0.255486  0.046486\n",
       "26       브랜든 반즈   한화  0.0  0.265  0.297075  0.032075\n",
       "27       딕슨 마차도   롯데  1.0  0.280  0.253008  0.026992\n",
       "28       저스틴 보어   LG  0.0  0.170  0.215742  0.045742\n",
       "29   데이비드 프레이타스   키움  0.0  0.259  0.213849  0.045151\n",
       "30       호세 피렐라   삼성  1.0  0.286  0.153875  0.132125\n",
       "31       호세 피렐라   삼성  1.0  0.286  0.153875  0.132125\n",
       "32       라이온 힐리   한화  0.0  0.257  0.269153  0.012153\n",
       "33      에르난 페레즈   한화  0.0  0.267  0.259574  0.007426\n",
       "34       헨리 라모스   KT  0.0  0.250  0.223834  0.026166\n",
       "35      앤서니 알포드   KT  1.0  0.286  0.219629  0.066371\n",
       "36      로벨 가르시아   LG  0.0  0.206  0.277864  0.071864\n",
       "37      야시엘 푸이그   키움  0.0  0.277  0.315237  0.038237\n",
       "38        케빈 크론  SSG  0.0  0.222  0.254948  0.032948\n",
       "39      후안 라가레스  SSG  0.0  0.317  0.282807  0.034193\n",
       "40        닉 마티니   NC  0.0  0.300  0.173033  0.126967\n",
       "41       DJ 피터스   롯데  0.0  0.228  0.247786  0.019786\n",
       "42         잭 렉스   롯데  1.0  0.330  0.230442  0.099558\n",
       "43    소크라테스 브리토  KIA  1.0  0.311  0.269620  0.041380\n",
       "44      마이크 터크먼   한화  0.0  0.289  0.149054  0.139946"
      ]
     },
     "execution_count": 307,
     "metadata": {},
     "output_type": "execute_result"
    }
   ],
   "source": [
    "temp = merge_df[[\"이름\",\"구단\",\"재계약\",\"타율\"]]\n",
    "temp[\"predict\"] = cross_val_predict(xgb_rg,X_data,y_data)\n",
    "temp[\"차이\"] = abs(temp[\"타율\"] - temp[\"predict\"])\n",
    "temp"
   ]
  },
  {
   "cell_type": "code",
   "execution_count": 310,
   "id": "40db14a9",
   "metadata": {
    "ExecuteTime": {
     "end_time": "2023-03-14T05:18:33.171674Z",
     "start_time": "2023-03-14T05:18:33.154675Z"
    }
   },
   "outputs": [
    {
     "data": {
      "text/html": [
       "<div>\n",
       "<style scoped>\n",
       "    .dataframe tbody tr th:only-of-type {\n",
       "        vertical-align: middle;\n",
       "    }\n",
       "\n",
       "    .dataframe tbody tr th {\n",
       "        vertical-align: top;\n",
       "    }\n",
       "\n",
       "    .dataframe thead th {\n",
       "        text-align: right;\n",
       "    }\n",
       "</style>\n",
       "<table border=\"1\" class=\"dataframe\">\n",
       "  <thead>\n",
       "    <tr style=\"text-align: right;\">\n",
       "      <th></th>\n",
       "      <th>Age</th>\n",
       "      <th>Pitches</th>\n",
       "      <th>Batted Balls</th>\n",
       "      <th>Barrels</th>\n",
       "      <th>Barrel%</th>\n",
       "      <th>Barrel/PA</th>\n",
       "      <th>Exit Velocity</th>\n",
       "      <th>Max EV</th>\n",
       "      <th>Launch Angle</th>\n",
       "      <th>Sweet Spot %</th>\n",
       "      <th>XBA</th>\n",
       "      <th>XSLG</th>\n",
       "      <th>WOBA</th>\n",
       "      <th>XWOBA</th>\n",
       "      <th>XWOBACON</th>\n",
       "      <th>HardHit%</th>\n",
       "      <th>K%</th>\n",
       "      <th>BB%</th>\n",
       "    </tr>\n",
       "  </thead>\n",
       "  <tbody>\n",
       "    <tr>\n",
       "      <th>0</th>\n",
       "      <td>30</td>\n",
       "      <td>125</td>\n",
       "      <td>20</td>\n",
       "      <td>0</td>\n",
       "      <td>0.0</td>\n",
       "      <td>0.0</td>\n",
       "      <td>86.2</td>\n",
       "      <td>104.7</td>\n",
       "      <td>8.6</td>\n",
       "      <td>25.0</td>\n",
       "      <td>0.184</td>\n",
       "      <td>0.234</td>\n",
       "      <td>0.192</td>\n",
       "      <td>0.215</td>\n",
       "      <td>0.279</td>\n",
       "      <td>35.0</td>\n",
       "      <td>31.3</td>\n",
       "      <td>6.3</td>\n",
       "    </tr>\n",
       "  </tbody>\n",
       "</table>\n",
       "</div>"
      ],
      "text/plain": [
       "   Age  Pitches  Batted Balls  Barrels  Barrel%  Barrel/PA  Exit Velocity  \\\n",
       "0   30      125            20        0      0.0        0.0           86.2   \n",
       "\n",
       "   Max EV  Launch Angle  Sweet Spot %    XBA   XSLG   WOBA  XWOBA  XWOBACON  \\\n",
       "0   104.7           8.6          25.0  0.184  0.234  0.192  0.215     0.279   \n",
       "\n",
       "   HardHit%    K%  BB%  \n",
       "0      35.0  31.3  6.3  "
      ]
     },
     "execution_count": 310,
     "metadata": {},
     "output_type": "execute_result"
    }
   ],
   "source": [
    "X_data.head(1)"
   ]
  },
  {
   "cell_type": "code",
   "execution_count": 313,
   "id": "b31151c7",
   "metadata": {
    "ExecuteTime": {
     "end_time": "2023-03-14T05:24:48.953528Z",
     "start_time": "2023-03-14T05:24:48.935524Z"
    }
   },
   "outputs": [
    {
     "data": {
      "text/html": [
       "<div>\n",
       "<style scoped>\n",
       "    .dataframe tbody tr th:only-of-type {\n",
       "        vertical-align: middle;\n",
       "    }\n",
       "\n",
       "    .dataframe tbody tr th {\n",
       "        vertical-align: top;\n",
       "    }\n",
       "\n",
       "    .dataframe thead th {\n",
       "        text-align: right;\n",
       "    }\n",
       "</style>\n",
       "<table border=\"1\" class=\"dataframe\">\n",
       "  <thead>\n",
       "    <tr style=\"text-align: right;\">\n",
       "      <th></th>\n",
       "      <th>이름</th>\n",
       "      <th>재계약</th>\n",
       "      <th>타율</th>\n",
       "      <th>KBO_OPS</th>\n",
       "      <th>KBO_WAR</th>\n",
       "    </tr>\n",
       "  </thead>\n",
       "  <tbody>\n",
       "    <tr>\n",
       "      <th>0</th>\n",
       "      <td>야마이코 나바로</td>\n",
       "      <td>1</td>\n",
       "      <td>0.308</td>\n",
       "      <td>0.969</td>\n",
       "      <td>6.23</td>\n",
       "    </tr>\n",
       "    <tr>\n",
       "      <th>1</th>\n",
       "      <td>호르헤 칸투</td>\n",
       "      <td>0</td>\n",
       "      <td>0.309</td>\n",
       "      <td>0.899</td>\n",
       "      <td>3.10</td>\n",
       "    </tr>\n",
       "    <tr>\n",
       "      <th>2</th>\n",
       "      <td>조쉬 벨</td>\n",
       "      <td>0</td>\n",
       "      <td>0.267</td>\n",
       "      <td>0.779</td>\n",
       "      <td>1.47</td>\n",
       "    </tr>\n",
       "    <tr>\n",
       "      <th>3</th>\n",
       "      <td>브래드 스나이더</td>\n",
       "      <td>0</td>\n",
       "      <td>0.210</td>\n",
       "      <td>0.692</td>\n",
       "      <td>0.14</td>\n",
       "    </tr>\n",
       "    <tr>\n",
       "      <th>4</th>\n",
       "      <td>비니 로티노</td>\n",
       "      <td>0</td>\n",
       "      <td>0.306</td>\n",
       "      <td>0.805</td>\n",
       "      <td>1.11</td>\n",
       "    </tr>\n",
       "    <tr>\n",
       "      <th>...</th>\n",
       "      <td>...</td>\n",
       "      <td>...</td>\n",
       "      <td>...</td>\n",
       "      <td>...</td>\n",
       "      <td>...</td>\n",
       "    </tr>\n",
       "    <tr>\n",
       "      <th>72</th>\n",
       "      <td>닉 마티니</td>\n",
       "      <td>0</td>\n",
       "      <td>0.300</td>\n",
       "      <td>0.833</td>\n",
       "      <td>3.96</td>\n",
       "    </tr>\n",
       "    <tr>\n",
       "      <th>73</th>\n",
       "      <td>DJ 피터스</td>\n",
       "      <td>0</td>\n",
       "      <td>0.228</td>\n",
       "      <td>0.701</td>\n",
       "      <td>1.18</td>\n",
       "    </tr>\n",
       "    <tr>\n",
       "      <th>74</th>\n",
       "      <td>잭 렉스</td>\n",
       "      <td>1</td>\n",
       "      <td>0.330</td>\n",
       "      <td>0.906</td>\n",
       "      <td>2.30</td>\n",
       "    </tr>\n",
       "    <tr>\n",
       "      <th>75</th>\n",
       "      <td>소크라테스 브리토</td>\n",
       "      <td>1</td>\n",
       "      <td>0.311</td>\n",
       "      <td>0.848</td>\n",
       "      <td>4.97</td>\n",
       "    </tr>\n",
       "    <tr>\n",
       "      <th>76</th>\n",
       "      <td>마이크 터크먼</td>\n",
       "      <td>0</td>\n",
       "      <td>0.289</td>\n",
       "      <td>0.795</td>\n",
       "      <td>4.98</td>\n",
       "    </tr>\n",
       "  </tbody>\n",
       "</table>\n",
       "<p>77 rows × 5 columns</p>\n",
       "</div>"
      ],
      "text/plain": [
       "           이름  재계약     타율  KBO_OPS  KBO_WAR\n",
       "0    야마이코 나바로    1  0.308    0.969     6.23\n",
       "1      호르헤 칸투    0  0.309    0.899     3.10\n",
       "2        조쉬 벨    0  0.267    0.779     1.47\n",
       "3    브래드 스나이더    0  0.210    0.692     0.14\n",
       "4      비니 로티노    0  0.306    0.805     1.11\n",
       "..        ...  ...    ...      ...      ...\n",
       "72      닉 마티니    0  0.300    0.833     3.96\n",
       "73     DJ 피터스    0  0.228    0.701     1.18\n",
       "74       잭 렉스    1  0.330    0.906     2.30\n",
       "75  소크라테스 브리토    1  0.311    0.848     4.97\n",
       "76    마이크 터크먼    0  0.289    0.795     4.98\n",
       "\n",
       "[77 rows x 5 columns]"
      ]
     },
     "execution_count": 313,
     "metadata": {},
     "output_type": "execute_result"
    }
   ],
   "source": [
    "kbo_df"
   ]
  },
  {
   "cell_type": "code",
   "execution_count": 325,
   "id": "de14b62b",
   "metadata": {
    "ExecuteTime": {
     "end_time": "2023-03-14T05:30:54.590847Z",
     "start_time": "2023-03-14T05:30:54.507847Z"
    }
   },
   "outputs": [
    {
     "data": {
      "text/html": [
       "<style>#sk-container-id-4 {color: black;background-color: white;}#sk-container-id-4 pre{padding: 0;}#sk-container-id-4 div.sk-toggleable {background-color: white;}#sk-container-id-4 label.sk-toggleable__label {cursor: pointer;display: block;width: 100%;margin-bottom: 0;padding: 0.3em;box-sizing: border-box;text-align: center;}#sk-container-id-4 label.sk-toggleable__label-arrow:before {content: \"▸\";float: left;margin-right: 0.25em;color: #696969;}#sk-container-id-4 label.sk-toggleable__label-arrow:hover:before {color: black;}#sk-container-id-4 div.sk-estimator:hover label.sk-toggleable__label-arrow:before {color: black;}#sk-container-id-4 div.sk-toggleable__content {max-height: 0;max-width: 0;overflow: hidden;text-align: left;background-color: #f0f8ff;}#sk-container-id-4 div.sk-toggleable__content pre {margin: 0.2em;color: black;border-radius: 0.25em;background-color: #f0f8ff;}#sk-container-id-4 input.sk-toggleable__control:checked~div.sk-toggleable__content {max-height: 200px;max-width: 100%;overflow: auto;}#sk-container-id-4 input.sk-toggleable__control:checked~label.sk-toggleable__label-arrow:before {content: \"▾\";}#sk-container-id-4 div.sk-estimator input.sk-toggleable__control:checked~label.sk-toggleable__label {background-color: #d4ebff;}#sk-container-id-4 div.sk-label input.sk-toggleable__control:checked~label.sk-toggleable__label {background-color: #d4ebff;}#sk-container-id-4 input.sk-hidden--visually {border: 0;clip: rect(1px 1px 1px 1px);clip: rect(1px, 1px, 1px, 1px);height: 1px;margin: -1px;overflow: hidden;padding: 0;position: absolute;width: 1px;}#sk-container-id-4 div.sk-estimator {font-family: monospace;background-color: #f0f8ff;border: 1px dotted black;border-radius: 0.25em;box-sizing: border-box;margin-bottom: 0.5em;}#sk-container-id-4 div.sk-estimator:hover {background-color: #d4ebff;}#sk-container-id-4 div.sk-parallel-item::after {content: \"\";width: 100%;border-bottom: 1px solid gray;flex-grow: 1;}#sk-container-id-4 div.sk-label:hover label.sk-toggleable__label {background-color: #d4ebff;}#sk-container-id-4 div.sk-serial::before {content: \"\";position: absolute;border-left: 1px solid gray;box-sizing: border-box;top: 0;bottom: 0;left: 50%;z-index: 0;}#sk-container-id-4 div.sk-serial {display: flex;flex-direction: column;align-items: center;background-color: white;padding-right: 0.2em;padding-left: 0.2em;position: relative;}#sk-container-id-4 div.sk-item {position: relative;z-index: 1;}#sk-container-id-4 div.sk-parallel {display: flex;align-items: stretch;justify-content: center;background-color: white;position: relative;}#sk-container-id-4 div.sk-item::before, #sk-container-id-4 div.sk-parallel-item::before {content: \"\";position: absolute;border-left: 1px solid gray;box-sizing: border-box;top: 0;bottom: 0;left: 50%;z-index: -1;}#sk-container-id-4 div.sk-parallel-item {display: flex;flex-direction: column;z-index: 1;position: relative;background-color: white;}#sk-container-id-4 div.sk-parallel-item:first-child::after {align-self: flex-end;width: 50%;}#sk-container-id-4 div.sk-parallel-item:last-child::after {align-self: flex-start;width: 50%;}#sk-container-id-4 div.sk-parallel-item:only-child::after {width: 0;}#sk-container-id-4 div.sk-dashed-wrapped {border: 1px dashed gray;margin: 0 0.4em 0.5em 0.4em;box-sizing: border-box;padding-bottom: 0.4em;background-color: white;}#sk-container-id-4 div.sk-label label {font-family: monospace;font-weight: bold;display: inline-block;line-height: 1.2em;}#sk-container-id-4 div.sk-label-container {text-align: center;}#sk-container-id-4 div.sk-container {/* jupyter's `normalize.less` sets `[hidden] { display: none; }` but bootstrap.min.css set `[hidden] { display: none !important; }` so we also need the `!important` here to be able to override the default hidden behavior on the sphinx rendered scikit-learn.org. See: https://github.com/scikit-learn/scikit-learn/issues/21755 */display: inline-block !important;position: relative;}#sk-container-id-4 div.sk-text-repr-fallback {display: none;}</style><div id=\"sk-container-id-4\" class=\"sk-top-container\"><div class=\"sk-text-repr-fallback\"><pre>XGBRegressor(base_score=0.5, booster=&#x27;gbtree&#x27;, callbacks=None,\n",
       "             colsample_bylevel=1, colsample_bynode=1, colsample_bytree=1,\n",
       "             early_stopping_rounds=None, enable_categorical=False,\n",
       "             eval_metric=None, feature_types=None, gamma=0, gpu_id=-1,\n",
       "             grow_policy=&#x27;depthwise&#x27;, importance_type=None,\n",
       "             interaction_constraints=&#x27;&#x27;, learning_rate=0.300000012, max_bin=256,\n",
       "             max_cat_threshold=64, max_cat_to_onehot=4, max_delta_step=0,\n",
       "             max_depth=6, max_leaves=0, min_child_weight=1, missing=nan,\n",
       "             monotone_constraints=&#x27;()&#x27;, n_estimators=100, n_jobs=0,\n",
       "             num_parallel_tree=1, predictor=&#x27;auto&#x27;, random_state=0, ...)</pre><b>In a Jupyter environment, please rerun this cell to show the HTML representation or trust the notebook. <br />On GitHub, the HTML representation is unable to render, please try loading this page with nbviewer.org.</b></div><div class=\"sk-container\" hidden><div class=\"sk-item\"><div class=\"sk-estimator sk-toggleable\"><input class=\"sk-toggleable__control sk-hidden--visually\" id=\"sk-estimator-id-4\" type=\"checkbox\" checked><label for=\"sk-estimator-id-4\" class=\"sk-toggleable__label sk-toggleable__label-arrow\">XGBRegressor</label><div class=\"sk-toggleable__content\"><pre>XGBRegressor(base_score=0.5, booster=&#x27;gbtree&#x27;, callbacks=None,\n",
       "             colsample_bylevel=1, colsample_bynode=1, colsample_bytree=1,\n",
       "             early_stopping_rounds=None, enable_categorical=False,\n",
       "             eval_metric=None, feature_types=None, gamma=0, gpu_id=-1,\n",
       "             grow_policy=&#x27;depthwise&#x27;, importance_type=None,\n",
       "             interaction_constraints=&#x27;&#x27;, learning_rate=0.300000012, max_bin=256,\n",
       "             max_cat_threshold=64, max_cat_to_onehot=4, max_delta_step=0,\n",
       "             max_depth=6, max_leaves=0, min_child_weight=1, missing=nan,\n",
       "             monotone_constraints=&#x27;()&#x27;, n_estimators=100, n_jobs=0,\n",
       "             num_parallel_tree=1, predictor=&#x27;auto&#x27;, random_state=0, ...)</pre></div></div></div></div></div>"
      ],
      "text/plain": [
       "XGBRegressor(base_score=0.5, booster='gbtree', callbacks=None,\n",
       "             colsample_bylevel=1, colsample_bynode=1, colsample_bytree=1,\n",
       "             early_stopping_rounds=None, enable_categorical=False,\n",
       "             eval_metric=None, feature_types=None, gamma=0, gpu_id=-1,\n",
       "             grow_policy='depthwise', importance_type=None,\n",
       "             interaction_constraints='', learning_rate=0.300000012, max_bin=256,\n",
       "             max_cat_threshold=64, max_cat_to_onehot=4, max_delta_step=0,\n",
       "             max_depth=6, max_leaves=0, min_child_weight=1, missing=nan,\n",
       "             monotone_constraints='()', n_estimators=100, n_jobs=0,\n",
       "             num_parallel_tree=1, predictor='auto', random_state=0, ...)"
      ]
     },
     "execution_count": 325,
     "metadata": {},
     "output_type": "execute_result"
    }
   ],
   "source": [
    "xgb_rg = XGBRegressor()\n",
    "\n",
    "avg_df = pd.merge(barrel_df, kbo_df, on = [\"이름\"])\n",
    "#avg_df.head(1)\n",
    "X_train = avg_df.drop(columns = [\"영문이름\",\"이름\",\"구단\",\"재계약_x\",\"Season\",\"재계약_y\",\"타율\",\"KBO_OPS\",\"KBO_WAR\"])\n",
    "y_train = avg_df[\"타율\"]\n",
    "\n",
    "xgb_rg.fit(X_train,y_train)"
   ]
  },
  {
   "cell_type": "code",
   "execution_count": 326,
   "id": "a3a469c0",
   "metadata": {
    "ExecuteTime": {
     "end_time": "2023-03-14T05:30:55.527831Z",
     "start_time": "2023-03-14T05:30:55.515877Z"
    }
   },
   "outputs": [
    {
     "data": {
      "text/plain": [
       "(45, 18)"
      ]
     },
     "execution_count": 326,
     "metadata": {},
     "output_type": "execute_result"
    }
   ],
   "source": [
    "X_train.shape"
   ]
  },
  {
   "cell_type": "code",
   "execution_count": 327,
   "id": "4ea5b18f",
   "metadata": {
    "ExecuteTime": {
     "end_time": "2023-03-14T05:31:02.532019Z",
     "start_time": "2023-03-14T05:31:02.516022Z"
    }
   },
   "outputs": [
    {
     "data": {
      "text/plain": [
       "array([0.2934329 , 0.27012524, 0.26750162, 0.23705831, 0.22310537],\n",
       "      dtype=float32)"
      ]
     },
     "execution_count": 327,
     "metadata": {},
     "output_type": "execute_result"
    }
   ],
   "source": [
    "\n",
    "X_test = barrel_df.iloc[-5:]\n",
    "X_test = X_test.drop(columns=[\"영문이름\",\"이름\",\"구단\",\"재계약\",\"Season\"])\n",
    "\n",
    "xgb_rg.predict(X_test)"
   ]
  },
  {
   "cell_type": "code",
   "execution_count": 328,
   "id": "2cc6b19d",
   "metadata": {
    "ExecuteTime": {
     "end_time": "2023-03-14T05:33:08.462561Z",
     "start_time": "2023-03-14T05:33:08.384564Z"
    }
   },
   "outputs": [
    {
     "data": {
      "text/plain": [
       "array([0.92127967, 0.82926595, 0.84734744, 0.83148515, 0.81477886],\n",
       "      dtype=float32)"
      ]
     },
     "execution_count": 328,
     "metadata": {},
     "output_type": "execute_result"
    }
   ],
   "source": [
    "xgb_rg = XGBRegressor()\n",
    "\n",
    "avg_df = pd.merge(barrel_df, kbo_df, on = [\"이름\"])\n",
    "#avg_df.head(1)\n",
    "X_train = avg_df.drop(columns = [\"영문이름\",\"이름\",\"구단\",\"재계약_x\",\"Season\",\"재계약_y\",\"타율\",\"KBO_OPS\",\"KBO_WAR\"])\n",
    "y_train = avg_df[\"KBO_OPS\"]\n",
    "\n",
    "xgb_rg.fit(X_train,y_train)\n",
    "X_test = barrel_df.iloc[-5:]\n",
    "X_test = X_test.drop(columns=[\"영문이름\",\"이름\",\"구단\",\"재계약\",\"Season\"])\n",
    "\n",
    "xgb_rg.predict(X_test)"
   ]
  },
  {
   "cell_type": "code",
   "execution_count": 329,
   "id": "585330b6",
   "metadata": {
    "ExecuteTime": {
     "end_time": "2023-03-14T05:33:18.999616Z",
     "start_time": "2023-03-14T05:33:18.914655Z"
    }
   },
   "outputs": [
    {
     "data": {
      "text/plain": [
       "array([2.90986   , 0.15578642, 2.835956  , 0.72054744, 1.3467414 ],\n",
       "      dtype=float32)"
      ]
     },
     "execution_count": 329,
     "metadata": {},
     "output_type": "execute_result"
    }
   ],
   "source": [
    "xgb_rg = XGBRegressor()\n",
    "\n",
    "avg_df = pd.merge(barrel_df, kbo_df, on = [\"이름\"])\n",
    "#avg_df.head(1)\n",
    "X_train = avg_df.drop(columns = [\"영문이름\",\"이름\",\"구단\",\"재계약_x\",\"Season\",\"재계약_y\",\"타율\",\"KBO_OPS\",\"KBO_WAR\"])\n",
    "y_train = avg_df[\"KBO_WAR\"]\n",
    "\n",
    "xgb_rg.fit(X_train,y_train)\n",
    "X_test = barrel_df.iloc[-5:]\n",
    "X_test = X_test.drop(columns=[\"영문이름\",\"이름\",\"구단\",\"재계약\",\"Season\"])\n",
    "\n",
    "xgb_rg.predict(X_test)"
   ]
  },
  {
   "cell_type": "code",
   "execution_count": 335,
   "id": "fd4df971",
   "metadata": {
    "ExecuteTime": {
     "end_time": "2023-03-14T05:48:12.893813Z",
     "start_time": "2023-03-14T05:48:12.871829Z"
    }
   },
   "outputs": [
    {
     "data": {
      "text/html": [
       "<div>\n",
       "<style scoped>\n",
       "    .dataframe tbody tr th:only-of-type {\n",
       "        vertical-align: middle;\n",
       "    }\n",
       "\n",
       "    .dataframe tbody tr th {\n",
       "        vertical-align: top;\n",
       "    }\n",
       "\n",
       "    .dataframe thead th {\n",
       "        text-align: right;\n",
       "    }\n",
       "</style>\n",
       "<table border=\"1\" class=\"dataframe\">\n",
       "  <thead>\n",
       "    <tr style=\"text-align: right;\">\n",
       "      <th></th>\n",
       "      <th>재계약</th>\n",
       "      <th>타율</th>\n",
       "      <th>KBO_OPS</th>\n",
       "      <th>KBO_WAR</th>\n",
       "    </tr>\n",
       "  </thead>\n",
       "  <tbody>\n",
       "    <tr>\n",
       "      <th>count</th>\n",
       "      <td>27.0</td>\n",
       "      <td>27.000000</td>\n",
       "      <td>27.000000</td>\n",
       "      <td>27.000000</td>\n",
       "    </tr>\n",
       "    <tr>\n",
       "      <th>mean</th>\n",
       "      <td>1.0</td>\n",
       "      <td>0.308370</td>\n",
       "      <td>0.939778</td>\n",
       "      <td>3.834444</td>\n",
       "    </tr>\n",
       "    <tr>\n",
       "      <th>std</th>\n",
       "      <td>0.0</td>\n",
       "      <td>0.026448</td>\n",
       "      <td>0.102218</td>\n",
       "      <td>1.867961</td>\n",
       "    </tr>\n",
       "    <tr>\n",
       "      <th>min</th>\n",
       "      <td>1.0</td>\n",
       "      <td>0.242000</td>\n",
       "      <td>0.778000</td>\n",
       "      <td>1.050000</td>\n",
       "    </tr>\n",
       "    <tr>\n",
       "      <th>25%</th>\n",
       "      <td>1.0</td>\n",
       "      <td>0.297500</td>\n",
       "      <td>0.881500</td>\n",
       "      <td>2.500000</td>\n",
       "    </tr>\n",
       "    <tr>\n",
       "      <th>50%</th>\n",
       "      <td>1.0</td>\n",
       "      <td>0.308000</td>\n",
       "      <td>0.911000</td>\n",
       "      <td>3.720000</td>\n",
       "    </tr>\n",
       "    <tr>\n",
       "      <th>75%</th>\n",
       "      <td>1.0</td>\n",
       "      <td>0.314500</td>\n",
       "      <td>0.972000</td>\n",
       "      <td>4.770000</td>\n",
       "    </tr>\n",
       "    <tr>\n",
       "      <th>max</th>\n",
       "      <td>1.0</td>\n",
       "      <td>0.381000</td>\n",
       "      <td>1.288000</td>\n",
       "      <td>10.710000</td>\n",
       "    </tr>\n",
       "  </tbody>\n",
       "</table>\n",
       "</div>"
      ],
      "text/plain": [
       "        재계약         타율    KBO_OPS    KBO_WAR\n",
       "count  27.0  27.000000  27.000000  27.000000\n",
       "mean    1.0   0.308370   0.939778   3.834444\n",
       "std     0.0   0.026448   0.102218   1.867961\n",
       "min     1.0   0.242000   0.778000   1.050000\n",
       "25%     1.0   0.297500   0.881500   2.500000\n",
       "50%     1.0   0.308000   0.911000   3.720000\n",
       "75%     1.0   0.314500   0.972000   4.770000\n",
       "max     1.0   0.381000   1.288000  10.710000"
      ]
     },
     "execution_count": 335,
     "metadata": {},
     "output_type": "execute_result"
    }
   ],
   "source": [
    "kbo_df[kbo_df[\"재계약\"] == 1].describe()"
   ]
  },
  {
   "cell_type": "code",
   "execution_count": 142,
   "id": "b54ab9c2",
   "metadata": {
    "ExecuteTime": {
     "end_time": "2023-03-13T06:48:21.136757Z",
     "start_time": "2023-03-13T06:48:21.111419Z"
    }
   },
   "outputs": [
    {
     "data": {
      "text/html": [
       "<div>\n",
       "<style scoped>\n",
       "    .dataframe tbody tr th:only-of-type {\n",
       "        vertical-align: middle;\n",
       "    }\n",
       "\n",
       "    .dataframe tbody tr th {\n",
       "        vertical-align: top;\n",
       "    }\n",
       "\n",
       "    .dataframe thead th {\n",
       "        text-align: right;\n",
       "    }\n",
       "</style>\n",
       "<table border=\"1\" class=\"dataframe\">\n",
       "  <thead>\n",
       "    <tr style=\"text-align: right;\">\n",
       "      <th></th>\n",
       "      <th>영문이름</th>\n",
       "      <th>이름</th>\n",
       "      <th>구단</th>\n",
       "      <th>재계약</th>\n",
       "      <th>Season</th>\n",
       "      <th>Age</th>\n",
       "      <th>Pitches</th>\n",
       "      <th>Batted Balls</th>\n",
       "      <th>Barrels</th>\n",
       "      <th>Barrel%</th>\n",
       "      <th>...</th>\n",
       "      <th>WOBA</th>\n",
       "      <th>XWOBA</th>\n",
       "      <th>XWOBACON</th>\n",
       "      <th>HardHit%</th>\n",
       "      <th>K%</th>\n",
       "      <th>BB%</th>\n",
       "      <th>재계약_y</th>\n",
       "      <th>타율</th>\n",
       "      <th>KBO_OPS</th>\n",
       "      <th>KBO_WAR</th>\n",
       "    </tr>\n",
       "  </thead>\n",
       "  <tbody>\n",
       "    <tr>\n",
       "      <th>0</th>\n",
       "      <td>Daniel Casey Dorn</td>\n",
       "      <td>대니 돈</td>\n",
       "      <td>키움</td>\n",
       "      <td>1.0</td>\n",
       "      <td>2015</td>\n",
       "      <td>30</td>\n",
       "      <td>125</td>\n",
       "      <td>20</td>\n",
       "      <td>0</td>\n",
       "      <td>0.0</td>\n",
       "      <td>...</td>\n",
       "      <td>0.192</td>\n",
       "      <td>0.215</td>\n",
       "      <td>0.279</td>\n",
       "      <td>35.0</td>\n",
       "      <td>31.3</td>\n",
       "      <td>6.3</td>\n",
       "      <td>1.0</td>\n",
       "      <td>0.295</td>\n",
       "      <td>0.893</td>\n",
       "      <td>3.03</td>\n",
       "    </tr>\n",
       "  </tbody>\n",
       "</table>\n",
       "<p>1 rows × 27 columns</p>\n",
       "</div>"
      ],
      "text/plain": [
       "                영문이름    이름  구단  재계약  Season  Age  Pitches  Batted Balls  \\\n",
       "0  Daniel Casey Dorn  대니 돈  키움  1.0    2015   30      125            20   \n",
       "\n",
       "   Barrels  Barrel%  ...   WOBA  XWOBA  XWOBACON  HardHit%    K%  BB%  재계약_y  \\\n",
       "0        0      0.0  ...  0.192  0.215     0.279      35.0  31.3  6.3    1.0   \n",
       "\n",
       "      타율  KBO_OPS  KBO_WAR  \n",
       "0  0.295    0.893     3.03  \n",
       "\n",
       "[1 rows x 27 columns]"
      ]
     },
     "execution_count": 142,
     "metadata": {},
     "output_type": "execute_result"
    }
   ],
   "source": [
    "merge_df.head(1)"
   ]
  },
  {
   "cell_type": "code",
   "execution_count": 73,
   "id": "0a0fd2cb",
   "metadata": {
    "ExecuteTime": {
     "end_time": "2023-03-13T06:13:55.570109Z",
     "start_time": "2023-03-13T06:13:55.492307Z"
    }
   },
   "outputs": [
    {
     "data": {
      "text/plain": [
       "-0.1476371300116842"
      ]
     },
     "execution_count": 73,
     "metadata": {},
     "output_type": "execute_result"
    }
   ],
   "source": [
    "columns = barrel_df.columns\n",
    "\n",
    "X_data = merge_df[columns].drop(columns = [\"영문이름\",\"이름\",\"구단\",\"재계약\",\"Season\"])\n",
    "y_data = merge_df[\"OPS\"]\n",
    "\n",
    "cross_val_score(lgbm_rg,X_data,y_data,scoring=\"neg_mean_absolute_error\").mean()"
   ]
  },
  {
   "cell_type": "code",
   "execution_count": 74,
   "id": "4ff41d62",
   "metadata": {
    "ExecuteTime": {
     "end_time": "2023-03-13T06:13:56.005005Z",
     "start_time": "2023-03-13T06:13:55.938205Z"
    }
   },
   "outputs": [
    {
     "data": {
      "text/plain": [
       "-1.5125110822040038"
      ]
     },
     "execution_count": 74,
     "metadata": {},
     "output_type": "execute_result"
    }
   ],
   "source": [
    "columns = barrel_df.columns\n",
    "\n",
    "X_data = merge_df[columns].drop(columns = [\"영문이름\",\"이름\",\"구단\",\"재계약\",\"Season\"])\n",
    "y_data = merge_df[\"WAR\"]\n",
    "\n",
    "cross_val_score(lgbm_rg,X_data,y_data,scoring=\"neg_mean_absolute_error\").mean()"
   ]
  },
  {
   "cell_type": "code",
   "execution_count": 75,
   "id": "c00b8666",
   "metadata": {
    "ExecuteTime": {
     "end_time": "2023-03-13T06:13:56.410090Z",
     "start_time": "2023-03-13T06:13:56.388067Z"
    }
   },
   "outputs": [
    {
     "data": {
      "text/html": [
       "<div>\n",
       "<style scoped>\n",
       "    .dataframe tbody tr th:only-of-type {\n",
       "        vertical-align: middle;\n",
       "    }\n",
       "\n",
       "    .dataframe tbody tr th {\n",
       "        vertical-align: top;\n",
       "    }\n",
       "\n",
       "    .dataframe thead th {\n",
       "        text-align: right;\n",
       "    }\n",
       "</style>\n",
       "<table border=\"1\" class=\"dataframe\">\n",
       "  <thead>\n",
       "    <tr style=\"text-align: right;\">\n",
       "      <th></th>\n",
       "      <th>연도</th>\n",
       "      <th>구단</th>\n",
       "      <th>이름</th>\n",
       "      <th>재계약</th>\n",
       "      <th>G</th>\n",
       "      <th>PA</th>\n",
       "      <th>AB</th>\n",
       "      <th>R</th>\n",
       "      <th>H</th>\n",
       "      <th>2B</th>\n",
       "      <th>...</th>\n",
       "      <th>BA</th>\n",
       "      <th>OBP</th>\n",
       "      <th>SLG</th>\n",
       "      <th>OPS</th>\n",
       "      <th>TB</th>\n",
       "      <th>GDP</th>\n",
       "      <th>HBP</th>\n",
       "      <th>SH</th>\n",
       "      <th>SF</th>\n",
       "      <th>IBB</th>\n",
       "    </tr>\n",
       "  </thead>\n",
       "  <tbody>\n",
       "    <tr>\n",
       "      <th>0</th>\n",
       "      <td>2014</td>\n",
       "      <td>삼성</td>\n",
       "      <td>야마이코 나바로</td>\n",
       "      <td>1</td>\n",
       "      <td>108</td>\n",
       "      <td>452</td>\n",
       "      <td>390</td>\n",
       "      <td>59</td>\n",
       "      <td>104</td>\n",
       "      <td>21</td>\n",
       "      <td>...</td>\n",
       "      <td>0.267</td>\n",
       "      <td>0.354</td>\n",
       "      <td>0.418</td>\n",
       "      <td>0.772</td>\n",
       "      <td>163</td>\n",
       "      <td>7</td>\n",
       "      <td>3</td>\n",
       "      <td>0</td>\n",
       "      <td>6</td>\n",
       "      <td>0</td>\n",
       "    </tr>\n",
       "    <tr>\n",
       "      <th>1</th>\n",
       "      <td>2014</td>\n",
       "      <td>두산</td>\n",
       "      <td>호르헤 칸투</td>\n",
       "      <td>0</td>\n",
       "      <td>21</td>\n",
       "      <td>90</td>\n",
       "      <td>86</td>\n",
       "      <td>12</td>\n",
       "      <td>25</td>\n",
       "      <td>5</td>\n",
       "      <td>...</td>\n",
       "      <td>0.291</td>\n",
       "      <td>0.300</td>\n",
       "      <td>0.488</td>\n",
       "      <td>0.788</td>\n",
       "      <td>42</td>\n",
       "      <td>5</td>\n",
       "      <td>0</td>\n",
       "      <td>0</td>\n",
       "      <td>2</td>\n",
       "      <td>0</td>\n",
       "    </tr>\n",
       "    <tr>\n",
       "      <th>2</th>\n",
       "      <td>2014</td>\n",
       "      <td>LG</td>\n",
       "      <td>조쉬 벨</td>\n",
       "      <td>0</td>\n",
       "      <td>52</td>\n",
       "      <td>210</td>\n",
       "      <td>177</td>\n",
       "      <td>25</td>\n",
       "      <td>40</td>\n",
       "      <td>8</td>\n",
       "      <td>...</td>\n",
       "      <td>0.226</td>\n",
       "      <td>0.324</td>\n",
       "      <td>0.356</td>\n",
       "      <td>0.680</td>\n",
       "      <td>63</td>\n",
       "      <td>6</td>\n",
       "      <td>0</td>\n",
       "      <td>0</td>\n",
       "      <td>5</td>\n",
       "      <td>1</td>\n",
       "    </tr>\n",
       "    <tr>\n",
       "      <th>3</th>\n",
       "      <td>2014</td>\n",
       "      <td>LG</td>\n",
       "      <td>브래드 스나이더</td>\n",
       "      <td>0</td>\n",
       "      <td>116</td>\n",
       "      <td>458</td>\n",
       "      <td>411</td>\n",
       "      <td>77</td>\n",
       "      <td>128</td>\n",
       "      <td>29</td>\n",
       "      <td>...</td>\n",
       "      <td>0.311</td>\n",
       "      <td>0.370</td>\n",
       "      <td>0.494</td>\n",
       "      <td>0.864</td>\n",
       "      <td>203</td>\n",
       "      <td>6</td>\n",
       "      <td>1</td>\n",
       "      <td>1</td>\n",
       "      <td>5</td>\n",
       "      <td>2</td>\n",
       "    </tr>\n",
       "    <tr>\n",
       "      <th>4</th>\n",
       "      <td>2014</td>\n",
       "      <td>넥센</td>\n",
       "      <td>비니 로티노</td>\n",
       "      <td>0</td>\n",
       "      <td>96</td>\n",
       "      <td>420</td>\n",
       "      <td>374</td>\n",
       "      <td>60</td>\n",
       "      <td>111</td>\n",
       "      <td>28</td>\n",
       "      <td>...</td>\n",
       "      <td>0.297</td>\n",
       "      <td>0.355</td>\n",
       "      <td>0.455</td>\n",
       "      <td>0.809</td>\n",
       "      <td>170</td>\n",
       "      <td>5</td>\n",
       "      <td>4</td>\n",
       "      <td>0</td>\n",
       "      <td>8</td>\n",
       "      <td>5</td>\n",
       "    </tr>\n",
       "    <tr>\n",
       "      <th>...</th>\n",
       "      <td>...</td>\n",
       "      <td>...</td>\n",
       "      <td>...</td>\n",
       "      <td>...</td>\n",
       "      <td>...</td>\n",
       "      <td>...</td>\n",
       "      <td>...</td>\n",
       "      <td>...</td>\n",
       "      <td>...</td>\n",
       "      <td>...</td>\n",
       "      <td>...</td>\n",
       "      <td>...</td>\n",
       "      <td>...</td>\n",
       "      <td>...</td>\n",
       "      <td>...</td>\n",
       "      <td>...</td>\n",
       "      <td>...</td>\n",
       "      <td>...</td>\n",
       "      <td>...</td>\n",
       "      <td>...</td>\n",
       "      <td>...</td>\n",
       "    </tr>\n",
       "    <tr>\n",
       "      <th>71</th>\n",
       "      <td>2022</td>\n",
       "      <td>NC</td>\n",
       "      <td>닉 마티니</td>\n",
       "      <td>0</td>\n",
       "      <td>78</td>\n",
       "      <td>323</td>\n",
       "      <td>270</td>\n",
       "      <td>56</td>\n",
       "      <td>72</td>\n",
       "      <td>9</td>\n",
       "      <td>...</td>\n",
       "      <td>0.267</td>\n",
       "      <td>0.387</td>\n",
       "      <td>0.444</td>\n",
       "      <td>0.831</td>\n",
       "      <td>120</td>\n",
       "      <td>6</td>\n",
       "      <td>11</td>\n",
       "      <td>0</td>\n",
       "      <td>0</td>\n",
       "      <td>1</td>\n",
       "    </tr>\n",
       "    <tr>\n",
       "      <th>72</th>\n",
       "      <td>2022</td>\n",
       "      <td>롯데</td>\n",
       "      <td>DJ 피터스</td>\n",
       "      <td>0</td>\n",
       "      <td>50</td>\n",
       "      <td>204</td>\n",
       "      <td>180</td>\n",
       "      <td>24</td>\n",
       "      <td>42</td>\n",
       "      <td>9</td>\n",
       "      <td>...</td>\n",
       "      <td>0.233</td>\n",
       "      <td>0.319</td>\n",
       "      <td>0.372</td>\n",
       "      <td>0.691</td>\n",
       "      <td>67</td>\n",
       "      <td>2</td>\n",
       "      <td>3</td>\n",
       "      <td>0</td>\n",
       "      <td>1</td>\n",
       "      <td>0</td>\n",
       "    </tr>\n",
       "    <tr>\n",
       "      <th>73</th>\n",
       "      <td>2022</td>\n",
       "      <td>롯데</td>\n",
       "      <td>잭 렉스</td>\n",
       "      <td>1</td>\n",
       "      <td>87</td>\n",
       "      <td>377</td>\n",
       "      <td>321</td>\n",
       "      <td>69</td>\n",
       "      <td>90</td>\n",
       "      <td>24</td>\n",
       "      <td>...</td>\n",
       "      <td>0.280</td>\n",
       "      <td>0.382</td>\n",
       "      <td>0.539</td>\n",
       "      <td>0.921</td>\n",
       "      <td>173</td>\n",
       "      <td>8</td>\n",
       "      <td>8</td>\n",
       "      <td>0</td>\n",
       "      <td>2</td>\n",
       "      <td>0</td>\n",
       "    </tr>\n",
       "    <tr>\n",
       "      <th>74</th>\n",
       "      <td>2022</td>\n",
       "      <td>KIA</td>\n",
       "      <td>소크라테스 브리토</td>\n",
       "      <td>1</td>\n",
       "      <td>107</td>\n",
       "      <td>419</td>\n",
       "      <td>375</td>\n",
       "      <td>57</td>\n",
       "      <td>94</td>\n",
       "      <td>16</td>\n",
       "      <td>...</td>\n",
       "      <td>0.251</td>\n",
       "      <td>0.315</td>\n",
       "      <td>0.376</td>\n",
       "      <td>0.691</td>\n",
       "      <td>141</td>\n",
       "      <td>5</td>\n",
       "      <td>6</td>\n",
       "      <td>0</td>\n",
       "      <td>6</td>\n",
       "      <td>0</td>\n",
       "    </tr>\n",
       "    <tr>\n",
       "      <th>75</th>\n",
       "      <td>2022</td>\n",
       "      <td>한화</td>\n",
       "      <td>마이크 터크먼</td>\n",
       "      <td>0</td>\n",
       "      <td>42</td>\n",
       "      <td>154</td>\n",
       "      <td>128</td>\n",
       "      <td>25</td>\n",
       "      <td>34</td>\n",
       "      <td>9</td>\n",
       "      <td>...</td>\n",
       "      <td>0.266</td>\n",
       "      <td>0.370</td>\n",
       "      <td>0.438</td>\n",
       "      <td>0.808</td>\n",
       "      <td>56</td>\n",
       "      <td>3</td>\n",
       "      <td>3</td>\n",
       "      <td>0</td>\n",
       "      <td>3</td>\n",
       "      <td>0</td>\n",
       "    </tr>\n",
       "  </tbody>\n",
       "</table>\n",
       "<p>76 rows × 27 columns</p>\n",
       "</div>"
      ],
      "text/plain": [
       "      연도   구단         이름  재계약    G   PA   AB   R    H  2B  ...     BA    OBP  \\\n",
       "0   2014   삼성   야마이코 나바로    1  108  452  390  59  104  21  ...  0.267  0.354   \n",
       "1   2014   두산     호르헤 칸투    0   21   90   86  12   25   5  ...  0.291  0.300   \n",
       "2   2014   LG       조쉬 벨    0   52  210  177  25   40   8  ...  0.226  0.324   \n",
       "3   2014   LG   브래드 스나이더    0  116  458  411  77  128  29  ...  0.311  0.370   \n",
       "4   2014   넥센     비니 로티노    0   96  420  374  60  111  28  ...  0.297  0.355   \n",
       "..   ...  ...        ...  ...  ...  ...  ...  ..  ...  ..  ...    ...    ...   \n",
       "71  2022   NC      닉 마티니    0   78  323  270  56   72   9  ...  0.267  0.387   \n",
       "72  2022   롯데     DJ 피터스    0   50  204  180  24   42   9  ...  0.233  0.319   \n",
       "73  2022   롯데       잭 렉스    1   87  377  321  69   90  24  ...  0.280  0.382   \n",
       "74  2022  KIA  소크라테스 브리토    1  107  419  375  57   94  16  ...  0.251  0.315   \n",
       "75  2022   한화    마이크 터크먼    0   42  154  128  25   34   9  ...  0.266  0.370   \n",
       "\n",
       "      SLG    OPS   TB  GDP  HBP  SH  SF  IBB  \n",
       "0   0.418  0.772  163    7    3   0   6    0  \n",
       "1   0.488  0.788   42    5    0   0   2    0  \n",
       "2   0.356  0.680   63    6    0   0   5    1  \n",
       "3   0.494  0.864  203    6    1   1   5    2  \n",
       "4   0.455  0.809  170    5    4   0   8    5  \n",
       "..    ...    ...  ...  ...  ...  ..  ..  ...  \n",
       "71  0.444  0.831  120    6   11   0   0    1  \n",
       "72  0.372  0.691   67    2    3   0   1    0  \n",
       "73  0.539  0.921  173    8    8   0   2    0  \n",
       "74  0.376  0.691  141    5    6   0   6    0  \n",
       "75  0.438  0.808   56    3    3   0   3    0  \n",
       "\n",
       "[76 rows x 27 columns]"
      ]
     },
     "execution_count": 75,
     "metadata": {},
     "output_type": "execute_result"
    }
   ],
   "source": [
    "minor_df"
   ]
  },
  {
   "cell_type": "markdown",
   "id": "fbc29dee",
   "metadata": {
    "ExecuteTime": {
     "end_time": "2023-03-13T06:03:04.993974Z",
     "start_time": "2023-03-13T06:03:04.978914Z"
    }
   },
   "source": [
    "# minor 성적으로 예측"
   ]
  },
  {
   "cell_type": "code",
   "execution_count": 79,
   "id": "c8da807e",
   "metadata": {
    "ExecuteTime": {
     "end_time": "2023-03-13T06:14:25.399239Z",
     "start_time": "2023-03-13T06:14:25.374625Z"
    }
   },
   "outputs": [
    {
     "data": {
      "text/html": [
       "<div>\n",
       "<style scoped>\n",
       "    .dataframe tbody tr th:only-of-type {\n",
       "        vertical-align: middle;\n",
       "    }\n",
       "\n",
       "    .dataframe tbody tr th {\n",
       "        vertical-align: top;\n",
       "    }\n",
       "\n",
       "    .dataframe thead th {\n",
       "        text-align: right;\n",
       "    }\n",
       "</style>\n",
       "<table border=\"1\" class=\"dataframe\">\n",
       "  <thead>\n",
       "    <tr style=\"text-align: right;\">\n",
       "      <th></th>\n",
       "      <th>연도</th>\n",
       "      <th>구단</th>\n",
       "      <th>이름</th>\n",
       "      <th>재계약</th>\n",
       "      <th>G</th>\n",
       "      <th>PA</th>\n",
       "      <th>AB</th>\n",
       "      <th>R</th>\n",
       "      <th>H</th>\n",
       "      <th>2B</th>\n",
       "      <th>...</th>\n",
       "      <th>OPS</th>\n",
       "      <th>TB</th>\n",
       "      <th>GDP</th>\n",
       "      <th>HBP</th>\n",
       "      <th>SH</th>\n",
       "      <th>SF</th>\n",
       "      <th>IBB</th>\n",
       "      <th>타율</th>\n",
       "      <th>KBO_OPS</th>\n",
       "      <th>KBO_WAR</th>\n",
       "    </tr>\n",
       "  </thead>\n",
       "  <tbody>\n",
       "    <tr>\n",
       "      <th>0</th>\n",
       "      <td>2014</td>\n",
       "      <td>삼성</td>\n",
       "      <td>야마이코 나바로</td>\n",
       "      <td>1</td>\n",
       "      <td>108</td>\n",
       "      <td>452</td>\n",
       "      <td>390</td>\n",
       "      <td>59</td>\n",
       "      <td>104</td>\n",
       "      <td>21</td>\n",
       "      <td>...</td>\n",
       "      <td>0.772</td>\n",
       "      <td>163</td>\n",
       "      <td>7</td>\n",
       "      <td>3</td>\n",
       "      <td>0</td>\n",
       "      <td>6</td>\n",
       "      <td>0</td>\n",
       "      <td>0.308</td>\n",
       "      <td>0.969</td>\n",
       "      <td>6.23</td>\n",
       "    </tr>\n",
       "    <tr>\n",
       "      <th>1</th>\n",
       "      <td>2014</td>\n",
       "      <td>두산</td>\n",
       "      <td>호르헤 칸투</td>\n",
       "      <td>0</td>\n",
       "      <td>21</td>\n",
       "      <td>90</td>\n",
       "      <td>86</td>\n",
       "      <td>12</td>\n",
       "      <td>25</td>\n",
       "      <td>5</td>\n",
       "      <td>...</td>\n",
       "      <td>0.788</td>\n",
       "      <td>42</td>\n",
       "      <td>5</td>\n",
       "      <td>0</td>\n",
       "      <td>0</td>\n",
       "      <td>2</td>\n",
       "      <td>0</td>\n",
       "      <td>0.309</td>\n",
       "      <td>0.899</td>\n",
       "      <td>3.10</td>\n",
       "    </tr>\n",
       "    <tr>\n",
       "      <th>2</th>\n",
       "      <td>2014</td>\n",
       "      <td>LG</td>\n",
       "      <td>조쉬 벨</td>\n",
       "      <td>0</td>\n",
       "      <td>52</td>\n",
       "      <td>210</td>\n",
       "      <td>177</td>\n",
       "      <td>25</td>\n",
       "      <td>40</td>\n",
       "      <td>8</td>\n",
       "      <td>...</td>\n",
       "      <td>0.680</td>\n",
       "      <td>63</td>\n",
       "      <td>6</td>\n",
       "      <td>0</td>\n",
       "      <td>0</td>\n",
       "      <td>5</td>\n",
       "      <td>1</td>\n",
       "      <td>0.267</td>\n",
       "      <td>0.779</td>\n",
       "      <td>1.47</td>\n",
       "    </tr>\n",
       "    <tr>\n",
       "      <th>3</th>\n",
       "      <td>2014</td>\n",
       "      <td>LG</td>\n",
       "      <td>브래드 스나이더</td>\n",
       "      <td>0</td>\n",
       "      <td>116</td>\n",
       "      <td>458</td>\n",
       "      <td>411</td>\n",
       "      <td>77</td>\n",
       "      <td>128</td>\n",
       "      <td>29</td>\n",
       "      <td>...</td>\n",
       "      <td>0.864</td>\n",
       "      <td>203</td>\n",
       "      <td>6</td>\n",
       "      <td>1</td>\n",
       "      <td>1</td>\n",
       "      <td>5</td>\n",
       "      <td>2</td>\n",
       "      <td>0.210</td>\n",
       "      <td>0.692</td>\n",
       "      <td>0.14</td>\n",
       "    </tr>\n",
       "    <tr>\n",
       "      <th>4</th>\n",
       "      <td>2014</td>\n",
       "      <td>넥센</td>\n",
       "      <td>비니 로티노</td>\n",
       "      <td>0</td>\n",
       "      <td>96</td>\n",
       "      <td>420</td>\n",
       "      <td>374</td>\n",
       "      <td>60</td>\n",
       "      <td>111</td>\n",
       "      <td>28</td>\n",
       "      <td>...</td>\n",
       "      <td>0.809</td>\n",
       "      <td>170</td>\n",
       "      <td>5</td>\n",
       "      <td>4</td>\n",
       "      <td>0</td>\n",
       "      <td>8</td>\n",
       "      <td>5</td>\n",
       "      <td>0.306</td>\n",
       "      <td>0.805</td>\n",
       "      <td>1.11</td>\n",
       "    </tr>\n",
       "    <tr>\n",
       "      <th>...</th>\n",
       "      <td>...</td>\n",
       "      <td>...</td>\n",
       "      <td>...</td>\n",
       "      <td>...</td>\n",
       "      <td>...</td>\n",
       "      <td>...</td>\n",
       "      <td>...</td>\n",
       "      <td>...</td>\n",
       "      <td>...</td>\n",
       "      <td>...</td>\n",
       "      <td>...</td>\n",
       "      <td>...</td>\n",
       "      <td>...</td>\n",
       "      <td>...</td>\n",
       "      <td>...</td>\n",
       "      <td>...</td>\n",
       "      <td>...</td>\n",
       "      <td>...</td>\n",
       "      <td>...</td>\n",
       "      <td>...</td>\n",
       "      <td>...</td>\n",
       "    </tr>\n",
       "    <tr>\n",
       "      <th>64</th>\n",
       "      <td>2022</td>\n",
       "      <td>삼성</td>\n",
       "      <td>호세 피렐라</td>\n",
       "      <td>1</td>\n",
       "      <td>88</td>\n",
       "      <td>372</td>\n",
       "      <td>342</td>\n",
       "      <td>69</td>\n",
       "      <td>112</td>\n",
       "      <td>22</td>\n",
       "      <td>...</td>\n",
       "      <td>0.973</td>\n",
       "      <td>204</td>\n",
       "      <td>2</td>\n",
       "      <td>3</td>\n",
       "      <td>0</td>\n",
       "      <td>2</td>\n",
       "      <td>4</td>\n",
       "      <td>0.286</td>\n",
       "      <td>0.855</td>\n",
       "      <td>3.26</td>\n",
       "    </tr>\n",
       "    <tr>\n",
       "      <th>65</th>\n",
       "      <td>2021</td>\n",
       "      <td>한화</td>\n",
       "      <td>라이온 힐리</td>\n",
       "      <td>0</td>\n",
       "      <td>88</td>\n",
       "      <td>372</td>\n",
       "      <td>342</td>\n",
       "      <td>69</td>\n",
       "      <td>112</td>\n",
       "      <td>22</td>\n",
       "      <td>...</td>\n",
       "      <td>0.973</td>\n",
       "      <td>204</td>\n",
       "      <td>2</td>\n",
       "      <td>3</td>\n",
       "      <td>0</td>\n",
       "      <td>2</td>\n",
       "      <td>4</td>\n",
       "      <td>0.257</td>\n",
       "      <td>0.700</td>\n",
       "      <td>0.35</td>\n",
       "    </tr>\n",
       "    <tr>\n",
       "      <th>66</th>\n",
       "      <td>2021</td>\n",
       "      <td>한화</td>\n",
       "      <td>에르난 페레즈</td>\n",
       "      <td>0</td>\n",
       "      <td>27</td>\n",
       "      <td>121</td>\n",
       "      <td>107</td>\n",
       "      <td>18</td>\n",
       "      <td>31</td>\n",
       "      <td>10</td>\n",
       "      <td>...</td>\n",
       "      <td>0.895</td>\n",
       "      <td>56</td>\n",
       "      <td>4</td>\n",
       "      <td>0</td>\n",
       "      <td>0</td>\n",
       "      <td>0</td>\n",
       "      <td>0</td>\n",
       "      <td>0.267</td>\n",
       "      <td>0.730</td>\n",
       "      <td>0.69</td>\n",
       "    </tr>\n",
       "    <tr>\n",
       "      <th>67</th>\n",
       "      <td>2022</td>\n",
       "      <td>롯데</td>\n",
       "      <td>DJ 피터스</td>\n",
       "      <td>0</td>\n",
       "      <td>50</td>\n",
       "      <td>204</td>\n",
       "      <td>180</td>\n",
       "      <td>24</td>\n",
       "      <td>42</td>\n",
       "      <td>9</td>\n",
       "      <td>...</td>\n",
       "      <td>0.691</td>\n",
       "      <td>67</td>\n",
       "      <td>2</td>\n",
       "      <td>3</td>\n",
       "      <td>0</td>\n",
       "      <td>1</td>\n",
       "      <td>0</td>\n",
       "      <td>0.228</td>\n",
       "      <td>0.701</td>\n",
       "      <td>1.18</td>\n",
       "    </tr>\n",
       "    <tr>\n",
       "      <th>68</th>\n",
       "      <td>2022</td>\n",
       "      <td>롯데</td>\n",
       "      <td>잭 렉스</td>\n",
       "      <td>1</td>\n",
       "      <td>87</td>\n",
       "      <td>377</td>\n",
       "      <td>321</td>\n",
       "      <td>69</td>\n",
       "      <td>90</td>\n",
       "      <td>24</td>\n",
       "      <td>...</td>\n",
       "      <td>0.921</td>\n",
       "      <td>173</td>\n",
       "      <td>8</td>\n",
       "      <td>8</td>\n",
       "      <td>0</td>\n",
       "      <td>2</td>\n",
       "      <td>0</td>\n",
       "      <td>0.330</td>\n",
       "      <td>0.906</td>\n",
       "      <td>2.30</td>\n",
       "    </tr>\n",
       "  </tbody>\n",
       "</table>\n",
       "<p>69 rows × 30 columns</p>\n",
       "</div>"
      ],
      "text/plain": [
       "      연도  구단        이름  재계약    G   PA   AB   R    H  2B  ...    OPS   TB  GDP  \\\n",
       "0   2014  삼성  야마이코 나바로    1  108  452  390  59  104  21  ...  0.772  163    7   \n",
       "1   2014  두산    호르헤 칸투    0   21   90   86  12   25   5  ...  0.788   42    5   \n",
       "2   2014  LG      조쉬 벨    0   52  210  177  25   40   8  ...  0.680   63    6   \n",
       "3   2014  LG  브래드 스나이더    0  116  458  411  77  128  29  ...  0.864  203    6   \n",
       "4   2014  넥센    비니 로티노    0   96  420  374  60  111  28  ...  0.809  170    5   \n",
       "..   ...  ..       ...  ...  ...  ...  ...  ..  ...  ..  ...    ...  ...  ...   \n",
       "64  2022  삼성    호세 피렐라    1   88  372  342  69  112  22  ...  0.973  204    2   \n",
       "65  2021  한화    라이온 힐리    0   88  372  342  69  112  22  ...  0.973  204    2   \n",
       "66  2021  한화   에르난 페레즈    0   27  121  107  18   31  10  ...  0.895   56    4   \n",
       "67  2022  롯데    DJ 피터스    0   50  204  180  24   42   9  ...  0.691   67    2   \n",
       "68  2022  롯데      잭 렉스    1   87  377  321  69   90  24  ...  0.921  173    8   \n",
       "\n",
       "    HBP  SH  SF  IBB     타율  KBO_OPS  KBO_WAR  \n",
       "0     3   0   6    0  0.308    0.969     6.23  \n",
       "1     0   0   2    0  0.309    0.899     3.10  \n",
       "2     0   0   5    1  0.267    0.779     1.47  \n",
       "3     1   1   5    2  0.210    0.692     0.14  \n",
       "4     4   0   8    5  0.306    0.805     1.11  \n",
       "..  ...  ..  ..  ...    ...      ...      ...  \n",
       "64    3   0   2    4  0.286    0.855     3.26  \n",
       "65    3   0   2    4  0.257    0.700     0.35  \n",
       "66    0   0   0    0  0.267    0.730     0.69  \n",
       "67    3   0   1    0  0.228    0.701     1.18  \n",
       "68    8   0   2    0  0.330    0.906     2.30  \n",
       "\n",
       "[69 rows x 30 columns]"
      ]
     },
     "execution_count": 79,
     "metadata": {},
     "output_type": "execute_result"
    }
   ],
   "source": [
    "merge_df = pd.merge(minor_df,kbo_df,on=[\"이름\",\"재계약\"])\n",
    "merge_df"
   ]
  },
  {
   "cell_type": "code",
   "execution_count": 81,
   "id": "d38607d8",
   "metadata": {
    "ExecuteTime": {
     "end_time": "2023-03-13T06:16:38.861855Z",
     "start_time": "2023-03-13T06:16:38.759060Z"
    }
   },
   "outputs": [
    {
     "data": {
      "text/plain": [
       "-0.048268716483224436"
      ]
     },
     "execution_count": 81,
     "metadata": {},
     "output_type": "execute_result"
    }
   ],
   "source": [
    "columns = minor_df.columns\n",
    "\n",
    "X_data = merge_df[columns].drop(columns = [\"이름\",\"구단\",\"재계약\"])\n",
    "y_data = merge_df[\"타율\"]\n",
    "\n",
    "cross_val_score(lgbm_rg,X_data,y_data,scoring=\"neg_mean_absolute_error\").mean()"
   ]
  },
  {
   "cell_type": "code",
   "execution_count": 85,
   "id": "8c071642",
   "metadata": {
    "ExecuteTime": {
     "end_time": "2023-03-13T06:18:00.106396Z",
     "start_time": "2023-03-13T06:17:55.755035Z"
    }
   },
   "outputs": [
    {
     "data": {
      "text/plain": [
       "-0.12767322408693083"
      ]
     },
     "execution_count": 85,
     "metadata": {},
     "output_type": "execute_result"
    }
   ],
   "source": [
    "columns = minor_df.columns\n",
    "\n",
    "X_data = merge_df[columns].drop(columns = [\"이름\",\"구단\",\"재계약\"])\n",
    "y_data = merge_df[\"KBO_OPS\"]\n",
    "\n",
    "cross_val_score(cat_rg,X_data,y_data,scoring=\"neg_mean_absolute_error\").mean()"
   ]
  },
  {
   "cell_type": "code",
   "execution_count": 88,
   "id": "08aaa32d",
   "metadata": {
    "ExecuteTime": {
     "end_time": "2023-03-13T06:18:47.824161Z",
     "start_time": "2023-03-13T06:18:47.708780Z"
    }
   },
   "outputs": [
    {
     "data": {
      "text/plain": [
       "-1.4328171620038315"
      ]
     },
     "execution_count": 88,
     "metadata": {},
     "output_type": "execute_result"
    }
   ],
   "source": [
    "columns = minor_df.columns\n",
    "\n",
    "X_data = merge_df[columns].drop(columns = [\"이름\",\"구단\",\"재계약\"])\n",
    "y_data = merge_df[\"KBO_WAR\"]\n",
    "\n",
    "cross_val_score(lgbm_rg,X_data,y_data,scoring=\"neg_mean_absolute_error\").mean()"
   ]
  },
  {
   "cell_type": "markdown",
   "id": "13ba4ee3",
   "metadata": {},
   "source": [
    "# 얼굴 PCA"
   ]
  },
  {
   "cell_type": "code",
   "execution_count": 155,
   "id": "69d6345b",
   "metadata": {
    "ExecuteTime": {
     "end_time": "2023-03-13T08:10:57.713950Z",
     "start_time": "2023-03-13T08:10:57.693955Z"
    }
   },
   "outputs": [],
   "source": [
    "from sklearn.decomposition import PCA\n",
    "pca = PCA(n_components=4) # 주성분을 몇개로 할지 결정\n",
    "\n"
   ]
  },
  {
   "cell_type": "code",
   "execution_count": 156,
   "id": "f2868065",
   "metadata": {
    "ExecuteTime": {
     "end_time": "2023-03-13T08:10:58.204271Z",
     "start_time": "2023-03-13T08:10:58.007102Z"
    }
   },
   "outputs": [],
   "source": [
    "face_dataset = pd.read_csv(\"./타자얼굴사진_오렌지임베딩.csv\")\n",
    "face_dataset2 = pd.read_csv(\"./타자얼굴사진_오렌지임베딩_라벨수정.csv\")"
   ]
  },
  {
   "cell_type": "code",
   "execution_count": 157,
   "id": "8c54e63c",
   "metadata": {
    "ExecuteTime": {
     "end_time": "2023-03-13T08:10:58.298529Z",
     "start_time": "2023-03-13T08:10:58.275529Z"
    }
   },
   "outputs": [],
   "source": [
    "data = face_dataset.drop(columns = [\"Unnamed: 2\", \"size\", \"width\", \"height\",\"재계약\",\"이름\"])\n",
    "data2 = face_dataset2.drop(columns = [\"Unnamed: 2\", \"size\", \"width\", \"height\",\"재계약\",\"이름\"])"
   ]
  },
  {
   "cell_type": "code",
   "execution_count": 158,
   "id": "9ddf9439",
   "metadata": {
    "ExecuteTime": {
     "end_time": "2023-03-13T08:10:58.597710Z",
     "start_time": "2023-03-13T08:10:58.571193Z"
    }
   },
   "outputs": [
    {
     "data": {
      "text/html": [
       "<div>\n",
       "<style scoped>\n",
       "    .dataframe tbody tr th:only-of-type {\n",
       "        vertical-align: middle;\n",
       "    }\n",
       "\n",
       "    .dataframe tbody tr th {\n",
       "        vertical-align: top;\n",
       "    }\n",
       "\n",
       "    .dataframe thead th {\n",
       "        text-align: right;\n",
       "    }\n",
       "</style>\n",
       "<table border=\"1\" class=\"dataframe\">\n",
       "  <thead>\n",
       "    <tr style=\"text-align: right;\">\n",
       "      <th></th>\n",
       "      <th>Unnamed: 6</th>\n",
       "      <th>Unnamed: 7</th>\n",
       "      <th>Unnamed: 8</th>\n",
       "      <th>Unnamed: 9</th>\n",
       "      <th>Unnamed: 10</th>\n",
       "      <th>Unnamed: 11</th>\n",
       "      <th>Unnamed: 12</th>\n",
       "      <th>Unnamed: 13</th>\n",
       "      <th>Unnamed: 14</th>\n",
       "      <th>Unnamed: 15</th>\n",
       "      <th>...</th>\n",
       "      <th>Unnamed: 2044</th>\n",
       "      <th>Unnamed: 2045</th>\n",
       "      <th>Unnamed: 2046</th>\n",
       "      <th>Unnamed: 2047</th>\n",
       "      <th>Unnamed: 2048</th>\n",
       "      <th>Unnamed: 2049</th>\n",
       "      <th>Unnamed: 2050</th>\n",
       "      <th>Unnamed: 2051</th>\n",
       "      <th>Unnamed: 2052</th>\n",
       "      <th>Unnamed: 2053</th>\n",
       "    </tr>\n",
       "  </thead>\n",
       "  <tbody>\n",
       "    <tr>\n",
       "      <th>0</th>\n",
       "      <td>0.144235</td>\n",
       "      <td>0.214922</td>\n",
       "      <td>0.000507</td>\n",
       "      <td>0.230852</td>\n",
       "      <td>0.055338</td>\n",
       "      <td>0.190327</td>\n",
       "      <td>0.422432</td>\n",
       "      <td>0.323068</td>\n",
       "      <td>0.632708</td>\n",
       "      <td>0.540388</td>\n",
       "      <td>...</td>\n",
       "      <td>0.110022</td>\n",
       "      <td>0.019359</td>\n",
       "      <td>0.097470</td>\n",
       "      <td>1.398580</td>\n",
       "      <td>1.140330</td>\n",
       "      <td>1.470890</td>\n",
       "      <td>0.131892</td>\n",
       "      <td>0.002172</td>\n",
       "      <td>0.000000</td>\n",
       "      <td>0.087585</td>\n",
       "    </tr>\n",
       "    <tr>\n",
       "      <th>1</th>\n",
       "      <td>0.375483</td>\n",
       "      <td>0.186434</td>\n",
       "      <td>0.038951</td>\n",
       "      <td>0.376486</td>\n",
       "      <td>0.048386</td>\n",
       "      <td>0.078989</td>\n",
       "      <td>0.587438</td>\n",
       "      <td>0.203096</td>\n",
       "      <td>0.480619</td>\n",
       "      <td>0.377400</td>\n",
       "      <td>...</td>\n",
       "      <td>0.391663</td>\n",
       "      <td>0.469408</td>\n",
       "      <td>0.059494</td>\n",
       "      <td>1.241490</td>\n",
       "      <td>0.561510</td>\n",
       "      <td>0.789311</td>\n",
       "      <td>0.089493</td>\n",
       "      <td>0.020344</td>\n",
       "      <td>0.089230</td>\n",
       "      <td>0.080406</td>\n",
       "    </tr>\n",
       "    <tr>\n",
       "      <th>2</th>\n",
       "      <td>0.206742</td>\n",
       "      <td>0.352354</td>\n",
       "      <td>0.000000</td>\n",
       "      <td>0.319393</td>\n",
       "      <td>0.129964</td>\n",
       "      <td>0.226437</td>\n",
       "      <td>0.528457</td>\n",
       "      <td>0.230924</td>\n",
       "      <td>0.253103</td>\n",
       "      <td>0.857314</td>\n",
       "      <td>...</td>\n",
       "      <td>0.438406</td>\n",
       "      <td>0.191309</td>\n",
       "      <td>0.273648</td>\n",
       "      <td>0.632021</td>\n",
       "      <td>0.341713</td>\n",
       "      <td>0.978627</td>\n",
       "      <td>0.189920</td>\n",
       "      <td>0.062408</td>\n",
       "      <td>0.004243</td>\n",
       "      <td>0.184213</td>\n",
       "    </tr>\n",
       "    <tr>\n",
       "      <th>3</th>\n",
       "      <td>0.178468</td>\n",
       "      <td>0.242643</td>\n",
       "      <td>0.003908</td>\n",
       "      <td>0.319384</td>\n",
       "      <td>0.162789</td>\n",
       "      <td>0.703334</td>\n",
       "      <td>0.492763</td>\n",
       "      <td>0.239284</td>\n",
       "      <td>0.608889</td>\n",
       "      <td>0.693923</td>\n",
       "      <td>...</td>\n",
       "      <td>0.888367</td>\n",
       "      <td>0.226742</td>\n",
       "      <td>0.372235</td>\n",
       "      <td>1.203300</td>\n",
       "      <td>0.862949</td>\n",
       "      <td>0.618488</td>\n",
       "      <td>0.034147</td>\n",
       "      <td>0.183850</td>\n",
       "      <td>0.000000</td>\n",
       "      <td>0.088913</td>\n",
       "    </tr>\n",
       "    <tr>\n",
       "      <th>4</th>\n",
       "      <td>0.279750</td>\n",
       "      <td>0.123999</td>\n",
       "      <td>0.066130</td>\n",
       "      <td>0.330183</td>\n",
       "      <td>0.089147</td>\n",
       "      <td>0.239294</td>\n",
       "      <td>0.818451</td>\n",
       "      <td>0.541217</td>\n",
       "      <td>0.174553</td>\n",
       "      <td>0.296911</td>\n",
       "      <td>...</td>\n",
       "      <td>0.529637</td>\n",
       "      <td>0.382231</td>\n",
       "      <td>0.240935</td>\n",
       "      <td>1.352470</td>\n",
       "      <td>0.483653</td>\n",
       "      <td>0.957445</td>\n",
       "      <td>0.001848</td>\n",
       "      <td>0.094242</td>\n",
       "      <td>0.019609</td>\n",
       "      <td>0.374478</td>\n",
       "    </tr>\n",
       "    <tr>\n",
       "      <th>...</th>\n",
       "      <td>...</td>\n",
       "      <td>...</td>\n",
       "      <td>...</td>\n",
       "      <td>...</td>\n",
       "      <td>...</td>\n",
       "      <td>...</td>\n",
       "      <td>...</td>\n",
       "      <td>...</td>\n",
       "      <td>...</td>\n",
       "      <td>...</td>\n",
       "      <td>...</td>\n",
       "      <td>...</td>\n",
       "      <td>...</td>\n",
       "      <td>...</td>\n",
       "      <td>...</td>\n",
       "      <td>...</td>\n",
       "      <td>...</td>\n",
       "      <td>...</td>\n",
       "      <td>...</td>\n",
       "      <td>...</td>\n",
       "      <td>...</td>\n",
       "    </tr>\n",
       "    <tr>\n",
       "      <th>72</th>\n",
       "      <td>0.279966</td>\n",
       "      <td>0.245019</td>\n",
       "      <td>0.034286</td>\n",
       "      <td>0.242645</td>\n",
       "      <td>0.023046</td>\n",
       "      <td>0.089658</td>\n",
       "      <td>0.617326</td>\n",
       "      <td>0.177323</td>\n",
       "      <td>0.406420</td>\n",
       "      <td>0.547843</td>\n",
       "      <td>...</td>\n",
       "      <td>0.127100</td>\n",
       "      <td>0.478069</td>\n",
       "      <td>0.196349</td>\n",
       "      <td>1.074790</td>\n",
       "      <td>0.871169</td>\n",
       "      <td>1.217630</td>\n",
       "      <td>0.412305</td>\n",
       "      <td>0.000000</td>\n",
       "      <td>0.000000</td>\n",
       "      <td>0.227275</td>\n",
       "    </tr>\n",
       "    <tr>\n",
       "      <th>73</th>\n",
       "      <td>0.295471</td>\n",
       "      <td>0.207789</td>\n",
       "      <td>0.043837</td>\n",
       "      <td>0.179706</td>\n",
       "      <td>0.181316</td>\n",
       "      <td>0.459203</td>\n",
       "      <td>0.629376</td>\n",
       "      <td>0.434749</td>\n",
       "      <td>0.251177</td>\n",
       "      <td>0.703419</td>\n",
       "      <td>...</td>\n",
       "      <td>0.544242</td>\n",
       "      <td>0.304189</td>\n",
       "      <td>0.310420</td>\n",
       "      <td>1.079540</td>\n",
       "      <td>0.470909</td>\n",
       "      <td>0.947180</td>\n",
       "      <td>0.114960</td>\n",
       "      <td>0.012160</td>\n",
       "      <td>0.000000</td>\n",
       "      <td>0.310165</td>\n",
       "    </tr>\n",
       "    <tr>\n",
       "      <th>74</th>\n",
       "      <td>0.127145</td>\n",
       "      <td>0.068625</td>\n",
       "      <td>0.059579</td>\n",
       "      <td>0.570567</td>\n",
       "      <td>0.146204</td>\n",
       "      <td>0.341086</td>\n",
       "      <td>1.112030</td>\n",
       "      <td>0.411414</td>\n",
       "      <td>0.824074</td>\n",
       "      <td>1.016550</td>\n",
       "      <td>...</td>\n",
       "      <td>0.241656</td>\n",
       "      <td>0.856658</td>\n",
       "      <td>0.281153</td>\n",
       "      <td>1.242930</td>\n",
       "      <td>0.226189</td>\n",
       "      <td>0.855392</td>\n",
       "      <td>0.067820</td>\n",
       "      <td>0.329389</td>\n",
       "      <td>0.087977</td>\n",
       "      <td>0.227984</td>\n",
       "    </tr>\n",
       "    <tr>\n",
       "      <th>75</th>\n",
       "      <td>0.139360</td>\n",
       "      <td>0.094605</td>\n",
       "      <td>0.000000</td>\n",
       "      <td>0.178610</td>\n",
       "      <td>0.180731</td>\n",
       "      <td>0.394039</td>\n",
       "      <td>0.370310</td>\n",
       "      <td>0.288621</td>\n",
       "      <td>0.539865</td>\n",
       "      <td>0.657078</td>\n",
       "      <td>...</td>\n",
       "      <td>0.161003</td>\n",
       "      <td>0.071225</td>\n",
       "      <td>0.051891</td>\n",
       "      <td>0.840497</td>\n",
       "      <td>1.358740</td>\n",
       "      <td>1.130330</td>\n",
       "      <td>0.096857</td>\n",
       "      <td>0.054398</td>\n",
       "      <td>0.000035</td>\n",
       "      <td>0.616415</td>\n",
       "    </tr>\n",
       "    <tr>\n",
       "      <th>76</th>\n",
       "      <td>0.281401</td>\n",
       "      <td>0.112436</td>\n",
       "      <td>0.009605</td>\n",
       "      <td>0.349773</td>\n",
       "      <td>0.125078</td>\n",
       "      <td>0.380694</td>\n",
       "      <td>0.458595</td>\n",
       "      <td>0.161813</td>\n",
       "      <td>0.540534</td>\n",
       "      <td>0.601521</td>\n",
       "      <td>...</td>\n",
       "      <td>0.092136</td>\n",
       "      <td>0.195988</td>\n",
       "      <td>0.261399</td>\n",
       "      <td>0.741194</td>\n",
       "      <td>0.553980</td>\n",
       "      <td>0.593670</td>\n",
       "      <td>0.131086</td>\n",
       "      <td>0.191955</td>\n",
       "      <td>0.005850</td>\n",
       "      <td>0.186347</td>\n",
       "    </tr>\n",
       "  </tbody>\n",
       "</table>\n",
       "<p>77 rows × 2048 columns</p>\n",
       "</div>"
      ],
      "text/plain": [
       "    Unnamed: 6  Unnamed: 7  Unnamed: 8  Unnamed: 9  Unnamed: 10  Unnamed: 11  \\\n",
       "0     0.144235    0.214922    0.000507    0.230852     0.055338     0.190327   \n",
       "1     0.375483    0.186434    0.038951    0.376486     0.048386     0.078989   \n",
       "2     0.206742    0.352354    0.000000    0.319393     0.129964     0.226437   \n",
       "3     0.178468    0.242643    0.003908    0.319384     0.162789     0.703334   \n",
       "4     0.279750    0.123999    0.066130    0.330183     0.089147     0.239294   \n",
       "..         ...         ...         ...         ...          ...          ...   \n",
       "72    0.279966    0.245019    0.034286    0.242645     0.023046     0.089658   \n",
       "73    0.295471    0.207789    0.043837    0.179706     0.181316     0.459203   \n",
       "74    0.127145    0.068625    0.059579    0.570567     0.146204     0.341086   \n",
       "75    0.139360    0.094605    0.000000    0.178610     0.180731     0.394039   \n",
       "76    0.281401    0.112436    0.009605    0.349773     0.125078     0.380694   \n",
       "\n",
       "    Unnamed: 12  Unnamed: 13  Unnamed: 14  Unnamed: 15  ...  Unnamed: 2044  \\\n",
       "0      0.422432     0.323068     0.632708     0.540388  ...       0.110022   \n",
       "1      0.587438     0.203096     0.480619     0.377400  ...       0.391663   \n",
       "2      0.528457     0.230924     0.253103     0.857314  ...       0.438406   \n",
       "3      0.492763     0.239284     0.608889     0.693923  ...       0.888367   \n",
       "4      0.818451     0.541217     0.174553     0.296911  ...       0.529637   \n",
       "..          ...          ...          ...          ...  ...            ...   \n",
       "72     0.617326     0.177323     0.406420     0.547843  ...       0.127100   \n",
       "73     0.629376     0.434749     0.251177     0.703419  ...       0.544242   \n",
       "74     1.112030     0.411414     0.824074     1.016550  ...       0.241656   \n",
       "75     0.370310     0.288621     0.539865     0.657078  ...       0.161003   \n",
       "76     0.458595     0.161813     0.540534     0.601521  ...       0.092136   \n",
       "\n",
       "    Unnamed: 2045  Unnamed: 2046  Unnamed: 2047  Unnamed: 2048  Unnamed: 2049  \\\n",
       "0        0.019359       0.097470       1.398580       1.140330       1.470890   \n",
       "1        0.469408       0.059494       1.241490       0.561510       0.789311   \n",
       "2        0.191309       0.273648       0.632021       0.341713       0.978627   \n",
       "3        0.226742       0.372235       1.203300       0.862949       0.618488   \n",
       "4        0.382231       0.240935       1.352470       0.483653       0.957445   \n",
       "..            ...            ...            ...            ...            ...   \n",
       "72       0.478069       0.196349       1.074790       0.871169       1.217630   \n",
       "73       0.304189       0.310420       1.079540       0.470909       0.947180   \n",
       "74       0.856658       0.281153       1.242930       0.226189       0.855392   \n",
       "75       0.071225       0.051891       0.840497       1.358740       1.130330   \n",
       "76       0.195988       0.261399       0.741194       0.553980       0.593670   \n",
       "\n",
       "    Unnamed: 2050  Unnamed: 2051  Unnamed: 2052  Unnamed: 2053  \n",
       "0        0.131892       0.002172       0.000000       0.087585  \n",
       "1        0.089493       0.020344       0.089230       0.080406  \n",
       "2        0.189920       0.062408       0.004243       0.184213  \n",
       "3        0.034147       0.183850       0.000000       0.088913  \n",
       "4        0.001848       0.094242       0.019609       0.374478  \n",
       "..            ...            ...            ...            ...  \n",
       "72       0.412305       0.000000       0.000000       0.227275  \n",
       "73       0.114960       0.012160       0.000000       0.310165  \n",
       "74       0.067820       0.329389       0.087977       0.227984  \n",
       "75       0.096857       0.054398       0.000035       0.616415  \n",
       "76       0.131086       0.191955       0.005850       0.186347  \n",
       "\n",
       "[77 rows x 2048 columns]"
      ]
     },
     "execution_count": 158,
     "metadata": {},
     "output_type": "execute_result"
    }
   ],
   "source": [
    "data"
   ]
  },
  {
   "cell_type": "code",
   "execution_count": 173,
   "id": "d87e5cdb",
   "metadata": {
    "ExecuteTime": {
     "end_time": "2023-03-13T08:15:17.852804Z",
     "start_time": "2023-03-13T08:15:17.805263Z"
    }
   },
   "outputs": [
    {
     "data": {
      "text/html": [
       "<div>\n",
       "<style scoped>\n",
       "    .dataframe tbody tr th:only-of-type {\n",
       "        vertical-align: middle;\n",
       "    }\n",
       "\n",
       "    .dataframe tbody tr th {\n",
       "        vertical-align: top;\n",
       "    }\n",
       "\n",
       "    .dataframe thead th {\n",
       "        text-align: right;\n",
       "    }\n",
       "</style>\n",
       "<table border=\"1\" class=\"dataframe\">\n",
       "  <thead>\n",
       "    <tr style=\"text-align: right;\">\n",
       "      <th></th>\n",
       "      <th>PCA1</th>\n",
       "      <th>PCA2</th>\n",
       "      <th>PCA3</th>\n",
       "      <th>PCA4</th>\n",
       "    </tr>\n",
       "  </thead>\n",
       "  <tbody>\n",
       "    <tr>\n",
       "      <th>0</th>\n",
       "      <td>1.284872</td>\n",
       "      <td>-0.336774</td>\n",
       "      <td>0.393235</td>\n",
       "      <td>-1.273952</td>\n",
       "    </tr>\n",
       "    <tr>\n",
       "      <th>1</th>\n",
       "      <td>-2.844535</td>\n",
       "      <td>0.771240</td>\n",
       "      <td>0.357858</td>\n",
       "      <td>-3.278572</td>\n",
       "    </tr>\n",
       "    <tr>\n",
       "      <th>2</th>\n",
       "      <td>1.460736</td>\n",
       "      <td>1.700855</td>\n",
       "      <td>0.040147</td>\n",
       "      <td>-1.209631</td>\n",
       "    </tr>\n",
       "    <tr>\n",
       "      <th>3</th>\n",
       "      <td>2.655309</td>\n",
       "      <td>3.578816</td>\n",
       "      <td>-0.855950</td>\n",
       "      <td>-0.005881</td>\n",
       "    </tr>\n",
       "    <tr>\n",
       "      <th>4</th>\n",
       "      <td>0.008052</td>\n",
       "      <td>-0.672386</td>\n",
       "      <td>-1.412765</td>\n",
       "      <td>0.307356</td>\n",
       "    </tr>\n",
       "    <tr>\n",
       "      <th>...</th>\n",
       "      <td>...</td>\n",
       "      <td>...</td>\n",
       "      <td>...</td>\n",
       "      <td>...</td>\n",
       "    </tr>\n",
       "    <tr>\n",
       "      <th>72</th>\n",
       "      <td>-0.173532</td>\n",
       "      <td>0.519327</td>\n",
       "      <td>-1.018806</td>\n",
       "      <td>-0.670637</td>\n",
       "    </tr>\n",
       "    <tr>\n",
       "      <th>73</th>\n",
       "      <td>3.361797</td>\n",
       "      <td>3.820105</td>\n",
       "      <td>-0.203604</td>\n",
       "      <td>2.385811</td>\n",
       "    </tr>\n",
       "    <tr>\n",
       "      <th>74</th>\n",
       "      <td>2.681150</td>\n",
       "      <td>2.303731</td>\n",
       "      <td>-1.455868</td>\n",
       "      <td>3.116756</td>\n",
       "    </tr>\n",
       "    <tr>\n",
       "      <th>75</th>\n",
       "      <td>3.926896</td>\n",
       "      <td>-4.533700</td>\n",
       "      <td>0.384252</td>\n",
       "      <td>-1.636684</td>\n",
       "    </tr>\n",
       "    <tr>\n",
       "      <th>76</th>\n",
       "      <td>0.292886</td>\n",
       "      <td>1.079589</td>\n",
       "      <td>1.808628</td>\n",
       "      <td>-3.794696</td>\n",
       "    </tr>\n",
       "  </tbody>\n",
       "</table>\n",
       "<p>77 rows × 4 columns</p>\n",
       "</div>"
      ],
      "text/plain": [
       "        PCA1      PCA2      PCA3      PCA4\n",
       "0   1.284872 -0.336774  0.393235 -1.273952\n",
       "1  -2.844535  0.771240  0.357858 -3.278572\n",
       "2   1.460736  1.700855  0.040147 -1.209631\n",
       "3   2.655309  3.578816 -0.855950 -0.005881\n",
       "4   0.008052 -0.672386 -1.412765  0.307356\n",
       "..       ...       ...       ...       ...\n",
       "72 -0.173532  0.519327 -1.018806 -0.670637\n",
       "73  3.361797  3.820105 -0.203604  2.385811\n",
       "74  2.681150  2.303731 -1.455868  3.116756\n",
       "75  3.926896 -4.533700  0.384252 -1.636684\n",
       "76  0.292886  1.079589  1.808628 -3.794696\n",
       "\n",
       "[77 rows x 4 columns]"
      ]
     },
     "execution_count": 173,
     "metadata": {},
     "output_type": "execute_result"
    }
   ],
   "source": [
    "pca_df = pd.DataFrame(pca.fit_transform(data), columns=[\"PCA1\",\"PCA2\",\"PCA3\",\"PCA4\"])\n",
    "pca_df"
   ]
  },
  {
   "cell_type": "code",
   "execution_count": 168,
   "id": "26366684",
   "metadata": {
    "ExecuteTime": {
     "end_time": "2023-03-13T08:14:00.116650Z",
     "start_time": "2023-03-13T08:14:00.104655Z"
    }
   },
   "outputs": [
    {
     "data": {
      "text/plain": [
       "array([0.10449618, 0.09533372, 0.06565112, 0.0616345 ])"
      ]
     },
     "execution_count": 168,
     "metadata": {},
     "output_type": "execute_result"
    }
   ],
   "source": [
    "pca.explained_variance_ratio_"
   ]
  },
  {
   "cell_type": "code",
   "execution_count": 174,
   "id": "6edfa4bc",
   "metadata": {
    "ExecuteTime": {
     "end_time": "2023-03-13T08:15:24.046315Z",
     "start_time": "2023-03-13T08:15:24.036779Z"
    }
   },
   "outputs": [],
   "source": [
    "pca_df[\"이름\"] = face_dataset[\"이름\"]\n",
    "pca_df[\"재계약\"] = face_dataset[\"재계약\"]"
   ]
  },
  {
   "cell_type": "code",
   "execution_count": 175,
   "id": "ec368405",
   "metadata": {
    "ExecuteTime": {
     "end_time": "2023-03-13T08:15:25.785579Z",
     "start_time": "2023-03-13T08:15:25.770584Z"
    }
   },
   "outputs": [
    {
     "data": {
      "text/html": [
       "<div>\n",
       "<style scoped>\n",
       "    .dataframe tbody tr th:only-of-type {\n",
       "        vertical-align: middle;\n",
       "    }\n",
       "\n",
       "    .dataframe tbody tr th {\n",
       "        vertical-align: top;\n",
       "    }\n",
       "\n",
       "    .dataframe thead th {\n",
       "        text-align: right;\n",
       "    }\n",
       "</style>\n",
       "<table border=\"1\" class=\"dataframe\">\n",
       "  <thead>\n",
       "    <tr style=\"text-align: right;\">\n",
       "      <th></th>\n",
       "      <th>PCA1</th>\n",
       "      <th>PCA2</th>\n",
       "      <th>PCA3</th>\n",
       "      <th>PCA4</th>\n",
       "      <th>이름</th>\n",
       "      <th>재계약</th>\n",
       "    </tr>\n",
       "  </thead>\n",
       "  <tbody>\n",
       "    <tr>\n",
       "      <th>0</th>\n",
       "      <td>1.284872</td>\n",
       "      <td>-0.336774</td>\n",
       "      <td>0.393235</td>\n",
       "      <td>-1.273952</td>\n",
       "      <td>DJ 피터스</td>\n",
       "      <td>0</td>\n",
       "    </tr>\n",
       "    <tr>\n",
       "      <th>1</th>\n",
       "      <td>-2.844535</td>\n",
       "      <td>0.771240</td>\n",
       "      <td>0.357858</td>\n",
       "      <td>-3.278572</td>\n",
       "      <td>나이저 모건</td>\n",
       "      <td>0</td>\n",
       "    </tr>\n",
       "    <tr>\n",
       "      <th>2</th>\n",
       "      <td>1.460736</td>\n",
       "      <td>1.700855</td>\n",
       "      <td>0.040147</td>\n",
       "      <td>-1.209631</td>\n",
       "      <td>닉 마티니</td>\n",
       "      <td>0</td>\n",
       "    </tr>\n",
       "    <tr>\n",
       "      <th>3</th>\n",
       "      <td>2.655309</td>\n",
       "      <td>3.578816</td>\n",
       "      <td>-0.855950</td>\n",
       "      <td>-0.005881</td>\n",
       "      <td>다니엘 팔카</td>\n",
       "      <td>0</td>\n",
       "    </tr>\n",
       "    <tr>\n",
       "      <th>4</th>\n",
       "      <td>0.008052</td>\n",
       "      <td>-0.672386</td>\n",
       "      <td>-1.412765</td>\n",
       "      <td>0.307356</td>\n",
       "      <td>대니 워스</td>\n",
       "      <td>0</td>\n",
       "    </tr>\n",
       "    <tr>\n",
       "      <th>...</th>\n",
       "      <td>...</td>\n",
       "      <td>...</td>\n",
       "      <td>...</td>\n",
       "      <td>...</td>\n",
       "      <td>...</td>\n",
       "      <td>...</td>\n",
       "    </tr>\n",
       "    <tr>\n",
       "      <th>72</th>\n",
       "      <td>-0.173532</td>\n",
       "      <td>0.519327</td>\n",
       "      <td>-1.018806</td>\n",
       "      <td>-0.670637</td>\n",
       "      <td>제이미 로맥</td>\n",
       "      <td>1</td>\n",
       "    </tr>\n",
       "    <tr>\n",
       "      <th>73</th>\n",
       "      <td>3.361797</td>\n",
       "      <td>3.820105</td>\n",
       "      <td>-0.203604</td>\n",
       "      <td>2.385811</td>\n",
       "      <td>짐 아두치</td>\n",
       "      <td>1</td>\n",
       "    </tr>\n",
       "    <tr>\n",
       "      <th>74</th>\n",
       "      <td>2.681150</td>\n",
       "      <td>2.303731</td>\n",
       "      <td>-1.455868</td>\n",
       "      <td>3.116756</td>\n",
       "      <td>프레스턴 터커</td>\n",
       "      <td>1</td>\n",
       "    </tr>\n",
       "    <tr>\n",
       "      <th>75</th>\n",
       "      <td>3.926896</td>\n",
       "      <td>-4.533700</td>\n",
       "      <td>0.384252</td>\n",
       "      <td>-1.636684</td>\n",
       "      <td>호세 미겔 페르난데스</td>\n",
       "      <td>1</td>\n",
       "    </tr>\n",
       "    <tr>\n",
       "      <th>76</th>\n",
       "      <td>0.292886</td>\n",
       "      <td>1.079589</td>\n",
       "      <td>1.808628</td>\n",
       "      <td>-3.794696</td>\n",
       "      <td>호세 피렐라</td>\n",
       "      <td>1</td>\n",
       "    </tr>\n",
       "  </tbody>\n",
       "</table>\n",
       "<p>77 rows × 6 columns</p>\n",
       "</div>"
      ],
      "text/plain": [
       "        PCA1      PCA2      PCA3      PCA4           이름  재계약\n",
       "0   1.284872 -0.336774  0.393235 -1.273952       DJ 피터스    0\n",
       "1  -2.844535  0.771240  0.357858 -3.278572       나이저 모건    0\n",
       "2   1.460736  1.700855  0.040147 -1.209631        닉 마티니    0\n",
       "3   2.655309  3.578816 -0.855950 -0.005881       다니엘 팔카    0\n",
       "4   0.008052 -0.672386 -1.412765  0.307356        대니 워스    0\n",
       "..       ...       ...       ...       ...          ...  ...\n",
       "72 -0.173532  0.519327 -1.018806 -0.670637       제이미 로맥    1\n",
       "73  3.361797  3.820105 -0.203604  2.385811        짐 아두치    1\n",
       "74  2.681150  2.303731 -1.455868  3.116756      프레스턴 터커    1\n",
       "75  3.926896 -4.533700  0.384252 -1.636684  호세 미겔 페르난데스    1\n",
       "76  0.292886  1.079589  1.808628 -3.794696       호세 피렐라    1\n",
       "\n",
       "[77 rows x 6 columns]"
      ]
     },
     "execution_count": 175,
     "metadata": {},
     "output_type": "execute_result"
    }
   ],
   "source": [
    "pca_df"
   ]
  },
  {
   "cell_type": "code",
   "execution_count": 179,
   "id": "38cb858d",
   "metadata": {
    "ExecuteTime": {
     "end_time": "2023-03-13T08:17:46.420417Z",
     "start_time": "2023-03-13T08:17:46.399424Z"
    }
   },
   "outputs": [],
   "source": [
    "face_pca_df = pd.merge(pca_df, barrel_df, on = [\"이름\"])"
   ]
  },
  {
   "cell_type": "code",
   "execution_count": 181,
   "id": "c6ca2391",
   "metadata": {
    "ExecuteTime": {
     "end_time": "2023-03-13T08:18:19.475486Z",
     "start_time": "2023-03-13T08:18:19.459493Z"
    }
   },
   "outputs": [
    {
     "data": {
      "text/plain": [
       "Index(['PCA1', 'PCA2', 'PCA3', 'PCA4', '이름', '재계약_x', '영문이름', '구단', '재계약_y',\n",
       "       'Season', 'Age', 'Pitches', 'Batted Balls', 'Barrels', 'Barrel%',\n",
       "       'Barrel/PA', 'Exit Velocity', 'Max EV', 'Launch Angle', 'Sweet Spot %',\n",
       "       'XBA', 'XSLG', 'WOBA', 'XWOBA', 'XWOBACON', 'HardHit%', 'K%', 'BB%'],\n",
       "      dtype='object')"
      ]
     },
     "execution_count": 181,
     "metadata": {},
     "output_type": "execute_result"
    }
   ],
   "source": [
    "face_pca_df.columns"
   ]
  },
  {
   "cell_type": "code",
   "execution_count": 275,
   "id": "c25c9f75",
   "metadata": {
    "ExecuteTime": {
     "end_time": "2023-03-14T03:50:07.494417Z",
     "start_time": "2023-03-14T03:50:07.488643Z"
    }
   },
   "outputs": [],
   "source": [
    "X_data = face_pca_df.drop(columns = [\"이름\",\"재계약_x\",\"영문이름\",\"구단\",\"재계약_y\",\"Season\"])\n",
    "y_data = face_pca_df[\"재계약_y\"]"
   ]
  },
  {
   "cell_type": "code",
   "execution_count": 276,
   "id": "73c939dc",
   "metadata": {
    "ExecuteTime": {
     "end_time": "2023-03-14T03:50:07.731199Z",
     "start_time": "2023-03-14T03:50:07.709203Z"
    }
   },
   "outputs": [],
   "source": [
    "X_ss = ss.fit_transform(X_data)"
   ]
  },
  {
   "cell_type": "code",
   "execution_count": 186,
   "id": "96ca390a",
   "metadata": {
    "ExecuteTime": {
     "end_time": "2023-03-13T08:22:05.371991Z",
     "start_time": "2023-03-13T08:22:05.349003Z"
    }
   },
   "outputs": [],
   "source": [
    "from xgboost import XGBClassifier\n",
    "from sklearn.linear_model import LogisticRegression\n",
    "from sklearn.svm import SVC\n",
    "from catboost import CatBoostClassifier\n",
    "from lightgbm import LGBMClassifier\n",
    "from sklearn.model_selection import cross_val_predict\n",
    "from sklearn.model_selection import cross_val_score\n",
    "from sklearn.metrics import classification_report\n",
    "from sklearn.metrics import roc_auc_score\n",
    "from sklearn.model_selection import KFold\n",
    "import warnings\n",
    "warnings.filterwarnings(action='ignore')\n",
    "\n",
    "kfold = KFold(n_splits=5, shuffle=True,random_state=2732)\n",
    "xgb = XGBClassifier(tree_method = \"gpu_hist\")\n",
    "cat = CatBoostClassifier(verbose = 0,task_type=\"GPU\")\n",
    "lgbm = LGBMClassifier()\n",
    "lr = LogisticRegression()\n",
    "svc = SVC()\n"
   ]
  },
  {
   "cell_type": "code",
   "execution_count": 232,
   "id": "98d94ad4",
   "metadata": {
    "ExecuteTime": {
     "end_time": "2023-03-13T11:01:36.196477Z",
     "start_time": "2023-03-13T11:01:36.181131Z"
    }
   },
   "outputs": [
    {
     "data": {
      "text/plain": [
       "0.5980000000000001"
      ]
     },
     "execution_count": 232,
     "metadata": {},
     "output_type": "execute_result"
    }
   ],
   "source": [
    "(0.56+0.56+0.45+0.67+0.75)/5"
   ]
  },
  {
   "cell_type": "code",
   "execution_count": 264,
   "id": "56ae76a0",
   "metadata": {
    "ExecuteTime": {
     "end_time": "2023-03-14T03:45:12.084118Z",
     "start_time": "2023-03-14T03:43:03.529058Z"
    }
   },
   "outputs": [
    {
     "data": {
      "text/plain": [
       "0.13333333333333333"
      ]
     },
     "execution_count": 264,
     "metadata": {},
     "output_type": "execute_result"
    }
   ],
   "source": [
    "cross_val_score(cat, X_data, y_data, cv=kfold, scoring = \"f1\").mean()"
   ]
  },
  {
   "cell_type": "code",
   "execution_count": 281,
   "id": "bf631bbd",
   "metadata": {
    "ExecuteTime": {
     "end_time": "2023-03-14T03:50:58.236408Z",
     "start_time": "2023-03-14T03:50:58.204409Z"
    }
   },
   "outputs": [
    {
     "data": {
      "text/plain": [
       "0.4776190476190476"
      ]
     },
     "execution_count": 281,
     "metadata": {},
     "output_type": "execute_result"
    }
   ],
   "source": [
    "cross_val_score(svc, X_ss, y_data, cv=kfold, scoring = \"roc_auc\").mean()"
   ]
  },
  {
   "cell_type": "code",
   "execution_count": 274,
   "id": "9348398a",
   "metadata": {
    "ExecuteTime": {
     "end_time": "2023-03-14T03:48:09.912982Z",
     "start_time": "2023-03-14T03:48:09.874982Z"
    }
   },
   "outputs": [
    {
     "data": {
      "text/plain": [
       "0.0"
      ]
     },
     "execution_count": 274,
     "metadata": {},
     "output_type": "execute_result"
    }
   ],
   "source": [
    "cross_val_score(svc, X_data, y_data, cv=kfold, scoring = \"f1\").mean()"
   ]
  },
  {
   "cell_type": "code",
   "execution_count": 187,
   "id": "fbd699e6",
   "metadata": {
    "ExecuteTime": {
     "end_time": "2023-03-13T08:24:18.877030Z",
     "start_time": "2023-03-13T08:22:06.372543Z"
    }
   },
   "outputs": [
    {
     "data": {
      "text/plain": [
       "array([0.55555556, 0.55555556, 0.44444444, 0.66666667, 0.75      ])"
      ]
     },
     "execution_count": 187,
     "metadata": {},
     "output_type": "execute_result"
    }
   ],
   "source": [
    "cross_val_score(cat, X_data, y_data, cv=kfold, scoring = \"accuracy\").mean()"
   ]
  },
  {
   "cell_type": "code",
   "execution_count": 224,
   "id": "2878991b",
   "metadata": {
    "ExecuteTime": {
     "end_time": "2023-03-13T10:59:10.935108Z",
     "start_time": "2023-03-13T10:59:10.845532Z"
    }
   },
   "outputs": [
    {
     "data": {
      "text/plain": [
       "0.55"
      ]
     },
     "execution_count": 224,
     "metadata": {},
     "output_type": "execute_result"
    }
   ],
   "source": [
    "cross_val_score(lr, X_data, y_data, cv=kfold, scoring = \"accuracy\").mean()"
   ]
  },
  {
   "cell_type": "code",
   "execution_count": 225,
   "id": "6ccd3232",
   "metadata": {
    "ExecuteTime": {
     "end_time": "2023-03-13T10:59:16.863536Z",
     "start_time": "2023-03-13T10:59:16.787008Z"
    }
   },
   "outputs": [
    {
     "data": {
      "text/plain": [
       "0.6611111111111112"
      ]
     },
     "execution_count": 225,
     "metadata": {},
     "output_type": "execute_result"
    }
   ],
   "source": [
    "cross_val_score(lgbm, X_data, y_data, cv=kfold, scoring = \"accuracy\").mean()"
   ]
  },
  {
   "cell_type": "code",
   "execution_count": 226,
   "id": "2617b1fa",
   "metadata": {
    "ExecuteTime": {
     "end_time": "2023-03-13T10:59:28.590572Z",
     "start_time": "2023-03-13T10:59:28.556581Z"
    }
   },
   "outputs": [
    {
     "data": {
      "text/plain": [
       "0.6611111111111112"
      ]
     },
     "execution_count": 226,
     "metadata": {},
     "output_type": "execute_result"
    }
   ],
   "source": [
    "cross_val_score(svc, X_data, y_data, cv=kfold, scoring = \"accuracy\").mean()"
   ]
  },
  {
   "cell_type": "code",
   "execution_count": 233,
   "id": "d9a82b40",
   "metadata": {
    "ExecuteTime": {
     "end_time": "2023-03-13T11:02:36.743914Z",
     "start_time": "2023-03-13T11:02:35.627616Z"
    }
   },
   "outputs": [
    {
     "data": {
      "text/plain": [
       "0.5027777777777778"
      ]
     },
     "execution_count": 233,
     "metadata": {},
     "output_type": "execute_result"
    }
   ],
   "source": [
    "cross_val_score(xgb, X_data, y_data, cv=kfold, scoring = \"accuracy\").mean()"
   ]
  },
  {
   "cell_type": "code",
   "execution_count": 188,
   "id": "3bf2749d",
   "metadata": {
    "ExecuteTime": {
     "end_time": "2023-03-13T08:26:31.647356Z",
     "start_time": "2023-03-13T08:24:18.881028Z"
    }
   },
   "outputs": [
    {
     "data": {
      "text/plain": [
       "array([0.28571429, 0.4       , 0.05      , 0.71428571, 0.83333333])"
      ]
     },
     "execution_count": 188,
     "metadata": {},
     "output_type": "execute_result"
    }
   ],
   "source": [
    "cross_val_score(cat, X_data, y_data, cv=kfold, scoring = \"roc_auc\").mean()"
   ]
  },
  {
   "cell_type": "code",
   "execution_count": 227,
   "id": "7303e132",
   "metadata": {
    "ExecuteTime": {
     "end_time": "2023-03-13T10:59:50.847748Z",
     "start_time": "2023-03-13T10:59:49.482670Z"
    }
   },
   "outputs": [
    {
     "data": {
      "text/plain": [
       "0.27904761904761904"
      ]
     },
     "execution_count": 227,
     "metadata": {},
     "output_type": "execute_result"
    }
   ],
   "source": [
    "cross_val_score(xgb, X_data, y_data, cv=kfold, scoring = \"roc_auc\").mean()"
   ]
  },
  {
   "cell_type": "code",
   "execution_count": 228,
   "id": "ecd37a21",
   "metadata": {
    "ExecuteTime": {
     "end_time": "2023-03-13T10:59:55.811189Z",
     "start_time": "2023-03-13T10:59:55.716025Z"
    }
   },
   "outputs": [
    {
     "data": {
      "text/plain": [
       "0.5"
      ]
     },
     "execution_count": 228,
     "metadata": {},
     "output_type": "execute_result"
    }
   ],
   "source": [
    "cross_val_score(lgbm, X_data, y_data, cv=kfold, scoring = \"roc_auc\").mean()"
   ]
  },
  {
   "cell_type": "code",
   "execution_count": 229,
   "id": "90ce4649",
   "metadata": {
    "ExecuteTime": {
     "end_time": "2023-03-13T11:00:03.699629Z",
     "start_time": "2023-03-13T11:00:03.591106Z"
    }
   },
   "outputs": [
    {
     "data": {
      "text/plain": [
       "0.5723809523809524"
      ]
     },
     "execution_count": 229,
     "metadata": {},
     "output_type": "execute_result"
    }
   ],
   "source": [
    "cross_val_score(lr, X_data, y_data, cv=kfold, scoring = \"roc_auc\").mean()"
   ]
  },
  {
   "cell_type": "code",
   "execution_count": 231,
   "id": "bb394456",
   "metadata": {
    "ExecuteTime": {
     "end_time": "2023-03-13T11:00:11.665163Z",
     "start_time": "2023-03-13T11:00:11.622997Z"
    }
   },
   "outputs": [
    {
     "data": {
      "text/plain": [
       "0.5219047619047619"
      ]
     },
     "execution_count": 231,
     "metadata": {},
     "output_type": "execute_result"
    }
   ],
   "source": [
    "cross_val_score(svc, X_data, y_data, cv=kfold, scoring = \"roc_auc\").mean()"
   ]
  },
  {
   "cell_type": "code",
   "execution_count": null,
   "id": "1b1b1c0c",
   "metadata": {},
   "outputs": [],
   "source": []
  },
  {
   "cell_type": "code",
   "execution_count": null,
   "id": "0ce1ab06",
   "metadata": {},
   "outputs": [],
   "source": []
  },
  {
   "cell_type": "code",
   "execution_count": 189,
   "id": "6fe03a71",
   "metadata": {
    "ExecuteTime": {
     "end_time": "2023-03-13T08:26:51.501867Z",
     "start_time": "2023-03-13T08:26:51.480847Z"
    }
   },
   "outputs": [
    {
     "data": {
      "text/plain": [
       "0.45599999999999996"
      ]
     },
     "execution_count": 189,
     "metadata": {},
     "output_type": "execute_result"
    }
   ],
   "source": [
    "(0.29+0.4+0.05+0.71+0.83)/5"
   ]
  },
  {
   "cell_type": "markdown",
   "id": "7f9238af",
   "metadata": {},
   "source": [
    "# KBO + 얼굴"
   ]
  },
  {
   "cell_type": "code",
   "execution_count": 288,
   "id": "ab5a3cfb",
   "metadata": {
    "ExecuteTime": {
     "end_time": "2023-03-14T04:09:03.998128Z",
     "start_time": "2023-03-14T04:09:03.980159Z"
    }
   },
   "outputs": [],
   "source": [
    "kbo_df = pd.read_csv(\"./외국인타자_국내성적.csv\")\n",
    "#kbo_df = kbo_df[[\"이름\",\"재계약\",\"타율\",\"OPS\",\"WAR\"]]\n",
    "kbo_df = kbo_df.rename(columns = {\"OPS\" : \"KBO_OPS\", \"WAR\" : \"KBO_WAR\"})"
   ]
  },
  {
   "cell_type": "code",
   "execution_count": 289,
   "id": "b1b5d9e2",
   "metadata": {
    "ExecuteTime": {
     "end_time": "2023-03-14T04:09:04.251234Z",
     "start_time": "2023-03-14T04:09:04.223238Z"
    }
   },
   "outputs": [
    {
     "data": {
      "text/html": [
       "<div>\n",
       "<style scoped>\n",
       "    .dataframe tbody tr th:only-of-type {\n",
       "        vertical-align: middle;\n",
       "    }\n",
       "\n",
       "    .dataframe tbody tr th {\n",
       "        vertical-align: top;\n",
       "    }\n",
       "\n",
       "    .dataframe thead th {\n",
       "        text-align: right;\n",
       "    }\n",
       "</style>\n",
       "<table border=\"1\" class=\"dataframe\">\n",
       "  <thead>\n",
       "    <tr style=\"text-align: right;\">\n",
       "      <th></th>\n",
       "      <th>연도</th>\n",
       "      <th>구단</th>\n",
       "      <th>KBO_팀순위</th>\n",
       "      <th>이름</th>\n",
       "      <th>수비율</th>\n",
       "      <th>연봉</th>\n",
       "      <th>재계약</th>\n",
       "      <th>나이</th>\n",
       "      <th>P</th>\n",
       "      <th>G</th>\n",
       "      <th>...</th>\n",
       "      <th>병살</th>\n",
       "      <th>희타</th>\n",
       "      <th>희비</th>\n",
       "      <th>타율</th>\n",
       "      <th>출루</th>\n",
       "      <th>장타</th>\n",
       "      <th>KBO_OPS</th>\n",
       "      <th>wOBA</th>\n",
       "      <th>wRC+</th>\n",
       "      <th>KBO_WAR</th>\n",
       "    </tr>\n",
       "  </thead>\n",
       "  <tbody>\n",
       "    <tr>\n",
       "      <th>0</th>\n",
       "      <td>2014</td>\n",
       "      <td>삼성</td>\n",
       "      <td>1.0</td>\n",
       "      <td>야마이코 나바로</td>\n",
       "      <td>0.987</td>\n",
       "      <td>25000.0</td>\n",
       "      <td>1</td>\n",
       "      <td>27</td>\n",
       "      <td>2B</td>\n",
       "      <td>125</td>\n",
       "      <td>...</td>\n",
       "      <td>7</td>\n",
       "      <td>0</td>\n",
       "      <td>5</td>\n",
       "      <td>0.308</td>\n",
       "      <td>0.417</td>\n",
       "      <td>0.552</td>\n",
       "      <td>0.969</td>\n",
       "      <td>0.424</td>\n",
       "      <td>139.2</td>\n",
       "      <td>6.23</td>\n",
       "    </tr>\n",
       "  </tbody>\n",
       "</table>\n",
       "<p>1 rows × 35 columns</p>\n",
       "</div>"
      ],
      "text/plain": [
       "     연도  구단  KBO_팀순위        이름    수비율       연봉  재계약  나이   P    G  ...  병살  희타  \\\n",
       "0  2014  삼성      1.0  야마이코 나바로  0.987  25000.0    1  27  2B  125  ...   7   0   \n",
       "\n",
       "   희비     타율     출루     장타  KBO_OPS   wOBA   wRC+  KBO_WAR  \n",
       "0   5  0.308  0.417  0.552    0.969  0.424  139.2     6.23  \n",
       "\n",
       "[1 rows x 35 columns]"
      ]
     },
     "execution_count": 289,
     "metadata": {},
     "output_type": "execute_result"
    }
   ],
   "source": [
    "kbo_df.head(1)"
   ]
  },
  {
   "cell_type": "code",
   "execution_count": 290,
   "id": "49f4a8a3",
   "metadata": {
    "ExecuteTime": {
     "end_time": "2023-03-14T04:09:04.456087Z",
     "start_time": "2023-03-14T04:09:04.447087Z"
    }
   },
   "outputs": [],
   "source": [
    "temp = kbo_df.copy()\n",
    "temp_data = temp.drop(columns = [\"연도\",\"구단\",\"KBO_팀순위\",\"이름\",\"수비율\",\"연봉\",\"재계약\",\"P\"])\n",
    "temp_y = temp[\"재계약\"]"
   ]
  },
  {
   "cell_type": "code",
   "execution_count": 291,
   "id": "d32c63cc",
   "metadata": {
    "ExecuteTime": {
     "end_time": "2023-03-14T04:09:04.972464Z",
     "start_time": "2023-03-14T04:09:04.965465Z"
    }
   },
   "outputs": [
    {
     "data": {
      "text/plain": [
       "0     1\n",
       "1     0\n",
       "2     0\n",
       "3     0\n",
       "4     0\n",
       "     ..\n",
       "72    0\n",
       "73    0\n",
       "74    1\n",
       "75    1\n",
       "76    0\n",
       "Name: 재계약, Length: 77, dtype: int64"
      ]
     },
     "execution_count": 291,
     "metadata": {},
     "output_type": "execute_result"
    }
   ],
   "source": [
    "temp_y"
   ]
  },
  {
   "cell_type": "code",
   "execution_count": 292,
   "id": "f5e88fb5",
   "metadata": {
    "ExecuteTime": {
     "end_time": "2023-03-14T04:09:08.222348Z",
     "start_time": "2023-03-14T04:09:08.208344Z"
    }
   },
   "outputs": [
    {
     "name": "stdout",
     "output_type": "stream",
     "text": [
      "<class 'pandas.core.frame.DataFrame'>\n",
      "RangeIndex: 77 entries, 0 to 76\n",
      "Data columns (total 27 columns):\n",
      " #   Column   Non-Null Count  Dtype  \n",
      "---  ------   --------------  -----  \n",
      " 0   나이       77 non-null     int64  \n",
      " 1   G        77 non-null     int64  \n",
      " 2   타석       77 non-null     int64  \n",
      " 3   타수       77 non-null     int64  \n",
      " 4   득점       77 non-null     int64  \n",
      " 5   안타       77 non-null     int64  \n",
      " 6   2타       77 non-null     int64  \n",
      " 7   3타       77 non-null     int64  \n",
      " 8   홈런       77 non-null     int64  \n",
      " 9   루타       77 non-null     int64  \n",
      " 10  타점       77 non-null     int64  \n",
      " 11  도루       77 non-null     int64  \n",
      " 12  도실       77 non-null     int64  \n",
      " 13  볼넷       77 non-null     int64  \n",
      " 14  사구       77 non-null     int64  \n",
      " 15  고4       77 non-null     int64  \n",
      " 16  삼진       77 non-null     int64  \n",
      " 17  병살       77 non-null     int64  \n",
      " 18  희타       77 non-null     int64  \n",
      " 19  희비       77 non-null     int64  \n",
      " 20  타율       77 non-null     float64\n",
      " 21  출루       77 non-null     float64\n",
      " 22  장타       77 non-null     float64\n",
      " 23  KBO_OPS  77 non-null     float64\n",
      " 24  wOBA     77 non-null     float64\n",
      " 25  wRC+     77 non-null     float64\n",
      " 26  KBO_WAR  77 non-null     float64\n",
      "dtypes: float64(7), int64(20)\n",
      "memory usage: 16.4 KB\n"
     ]
    }
   ],
   "source": [
    "temp_data.info()"
   ]
  },
  {
   "cell_type": "code",
   "execution_count": 293,
   "id": "4781a425",
   "metadata": {
    "ExecuteTime": {
     "end_time": "2023-03-14T04:11:41.510965Z",
     "start_time": "2023-03-14T04:09:10.121236Z"
    }
   },
   "outputs": [
    {
     "data": {
      "text/plain": [
       "0.5587114845938375"
      ]
     },
     "execution_count": 293,
     "metadata": {},
     "output_type": "execute_result"
    }
   ],
   "source": [
    "cross_val_score(cat, temp_data, temp_y, cv=kfold, scoring = \"f1\").mean()"
   ]
  },
  {
   "cell_type": "code",
   "execution_count": 294,
   "id": "c9791ef7",
   "metadata": {
    "ExecuteTime": {
     "end_time": "2023-03-14T04:11:42.302972Z",
     "start_time": "2023-03-14T04:11:41.514972Z"
    }
   },
   "outputs": [
    {
     "data": {
      "text/plain": [
       "0.6927807486631016"
      ]
     },
     "execution_count": 294,
     "metadata": {},
     "output_type": "execute_result"
    }
   ],
   "source": [
    "cross_val_score(xgb, temp_data, temp_y, cv=kfold, scoring = \"f1\").mean()"
   ]
  },
  {
   "cell_type": "code",
   "execution_count": 295,
   "id": "097e390c",
   "metadata": {
    "ExecuteTime": {
     "end_time": "2023-03-14T04:11:42.428969Z",
     "start_time": "2023-03-14T04:11:42.304968Z"
    }
   },
   "outputs": [
    {
     "data": {
      "text/plain": [
       "0.6524364524364524"
      ]
     },
     "execution_count": 295,
     "metadata": {},
     "output_type": "execute_result"
    }
   ],
   "source": [
    "cross_val_score(lgbm, temp_data, temp_y, cv=kfold, scoring = \"f1\").mean()"
   ]
  },
  {
   "cell_type": "code",
   "execution_count": 296,
   "id": "a6fc6a82",
   "metadata": {
    "ExecuteTime": {
     "end_time": "2023-03-14T04:11:42.508966Z",
     "start_time": "2023-03-14T04:11:42.431969Z"
    }
   },
   "outputs": [
    {
     "data": {
      "text/plain": [
       "0.7406162464985994"
      ]
     },
     "execution_count": 296,
     "metadata": {},
     "output_type": "execute_result"
    }
   ],
   "source": [
    "cross_val_score(lr, temp_data, temp_y, cv=kfold, scoring = \"f1\").mean()"
   ]
  },
  {
   "cell_type": "code",
   "execution_count": 297,
   "id": "db2ef5b4",
   "metadata": {
    "ExecuteTime": {
     "end_time": "2023-03-14T04:11:42.555976Z",
     "start_time": "2023-03-14T04:11:42.510967Z"
    }
   },
   "outputs": [
    {
     "data": {
      "text/plain": [
       "0.7268270944741533"
      ]
     },
     "execution_count": 297,
     "metadata": {},
     "output_type": "execute_result"
    }
   ],
   "source": [
    "cross_val_score(svc, temp_data, temp_y, cv=kfold, scoring = \"f1\").mean()"
   ]
  },
  {
   "cell_type": "code",
   "execution_count": 246,
   "id": "895d9e6d",
   "metadata": {
    "ExecuteTime": {
     "end_time": "2023-03-14T03:37:17.583969Z",
     "start_time": "2023-03-14T03:37:17.573974Z"
    }
   },
   "outputs": [],
   "source": [
    "kbo_face = pd.merge(kbo_df, pca_df, on = \"이름\")"
   ]
  },
  {
   "cell_type": "code",
   "execution_count": 247,
   "id": "2a91746f",
   "metadata": {
    "ExecuteTime": {
     "end_time": "2023-03-14T03:37:17.884810Z",
     "start_time": "2023-03-14T03:37:17.867815Z"
    }
   },
   "outputs": [
    {
     "data": {
      "text/plain": [
       "Index(['연도', '구단', 'KBO_팀순위', '이름', '수비율', '연봉', '재계약_x', '나이', 'P', 'G', '타석',\n",
       "       '타수', '득점', '안타', '2타', '3타', '홈런', '루타', '타점', '도루', '도실', '볼넷', '사구',\n",
       "       '고4', '삼진', '병살', '희타', '희비', '타율', '출루', '장타', 'KBO_OPS', 'wOBA',\n",
       "       'wRC+', 'KBO_WAR', 'PCA1', 'PCA2', 'PCA3', 'PCA4', '재계약_y'],\n",
       "      dtype='object')"
      ]
     },
     "execution_count": 247,
     "metadata": {},
     "output_type": "execute_result"
    }
   ],
   "source": [
    "kbo_face.columns"
   ]
  },
  {
   "cell_type": "code",
   "execution_count": 248,
   "id": "d5ab6e50",
   "metadata": {
    "ExecuteTime": {
     "end_time": "2023-03-14T03:37:20.640618Z",
     "start_time": "2023-03-14T03:37:20.612613Z"
    }
   },
   "outputs": [
    {
     "data": {
      "text/html": [
       "<div>\n",
       "<style scoped>\n",
       "    .dataframe tbody tr th:only-of-type {\n",
       "        vertical-align: middle;\n",
       "    }\n",
       "\n",
       "    .dataframe tbody tr th {\n",
       "        vertical-align: top;\n",
       "    }\n",
       "\n",
       "    .dataframe thead th {\n",
       "        text-align: right;\n",
       "    }\n",
       "</style>\n",
       "<table border=\"1\" class=\"dataframe\">\n",
       "  <thead>\n",
       "    <tr style=\"text-align: right;\">\n",
       "      <th></th>\n",
       "      <th>나이</th>\n",
       "      <th>G</th>\n",
       "      <th>타석</th>\n",
       "      <th>타수</th>\n",
       "      <th>득점</th>\n",
       "      <th>안타</th>\n",
       "      <th>2타</th>\n",
       "      <th>3타</th>\n",
       "      <th>홈런</th>\n",
       "      <th>루타</th>\n",
       "      <th>...</th>\n",
       "      <th>장타</th>\n",
       "      <th>KBO_OPS</th>\n",
       "      <th>wOBA</th>\n",
       "      <th>wRC+</th>\n",
       "      <th>KBO_WAR</th>\n",
       "      <th>PCA1</th>\n",
       "      <th>PCA2</th>\n",
       "      <th>PCA3</th>\n",
       "      <th>PCA4</th>\n",
       "      <th>재계약_y</th>\n",
       "    </tr>\n",
       "  </thead>\n",
       "  <tbody>\n",
       "    <tr>\n",
       "      <th>0</th>\n",
       "      <td>27</td>\n",
       "      <td>125</td>\n",
       "      <td>602</td>\n",
       "      <td>500</td>\n",
       "      <td>118</td>\n",
       "      <td>154</td>\n",
       "      <td>27</td>\n",
       "      <td>1</td>\n",
       "      <td>31</td>\n",
       "      <td>276</td>\n",
       "      <td>...</td>\n",
       "      <td>0.552</td>\n",
       "      <td>0.969</td>\n",
       "      <td>0.424</td>\n",
       "      <td>139.2</td>\n",
       "      <td>6.23</td>\n",
       "      <td>-2.991404</td>\n",
       "      <td>1.397617</td>\n",
       "      <td>-0.645810</td>\n",
       "      <td>1.118868</td>\n",
       "      <td>1</td>\n",
       "    </tr>\n",
       "    <tr>\n",
       "      <th>1</th>\n",
       "      <td>32</td>\n",
       "      <td>111</td>\n",
       "      <td>419</td>\n",
       "      <td>376</td>\n",
       "      <td>56</td>\n",
       "      <td>116</td>\n",
       "      <td>25</td>\n",
       "      <td>1</td>\n",
       "      <td>18</td>\n",
       "      <td>197</td>\n",
       "      <td>...</td>\n",
       "      <td>0.524</td>\n",
       "      <td>0.899</td>\n",
       "      <td>0.395</td>\n",
       "      <td>134.8</td>\n",
       "      <td>3.10</td>\n",
       "      <td>-0.201155</td>\n",
       "      <td>1.617601</td>\n",
       "      <td>-1.449454</td>\n",
       "      <td>0.591825</td>\n",
       "      <td>0</td>\n",
       "    </tr>\n",
       "    <tr>\n",
       "      <th>2</th>\n",
       "      <td>28</td>\n",
       "      <td>63</td>\n",
       "      <td>275</td>\n",
       "      <td>240</td>\n",
       "      <td>33</td>\n",
       "      <td>64</td>\n",
       "      <td>8</td>\n",
       "      <td>1</td>\n",
       "      <td>10</td>\n",
       "      <td>104</td>\n",
       "      <td>...</td>\n",
       "      <td>0.433</td>\n",
       "      <td>0.779</td>\n",
       "      <td>0.347</td>\n",
       "      <td>101.6</td>\n",
       "      <td>1.47</td>\n",
       "      <td>-4.085174</td>\n",
       "      <td>0.437642</td>\n",
       "      <td>-0.733083</td>\n",
       "      <td>-0.409265</td>\n",
       "      <td>0</td>\n",
       "    </tr>\n",
       "    <tr>\n",
       "      <th>3</th>\n",
       "      <td>32</td>\n",
       "      <td>37</td>\n",
       "      <td>113</td>\n",
       "      <td>100</td>\n",
       "      <td>17</td>\n",
       "      <td>21</td>\n",
       "      <td>7</td>\n",
       "      <td>0</td>\n",
       "      <td>4</td>\n",
       "      <td>40</td>\n",
       "      <td>...</td>\n",
       "      <td>0.400</td>\n",
       "      <td>0.692</td>\n",
       "      <td>0.308</td>\n",
       "      <td>76.2</td>\n",
       "      <td>0.14</td>\n",
       "      <td>1.356951</td>\n",
       "      <td>-0.080244</td>\n",
       "      <td>-0.573521</td>\n",
       "      <td>0.349969</td>\n",
       "      <td>0</td>\n",
       "    </tr>\n",
       "    <tr>\n",
       "      <th>4</th>\n",
       "      <td>34</td>\n",
       "      <td>79</td>\n",
       "      <td>247</td>\n",
       "      <td>216</td>\n",
       "      <td>30</td>\n",
       "      <td>66</td>\n",
       "      <td>18</td>\n",
       "      <td>0</td>\n",
       "      <td>2</td>\n",
       "      <td>90</td>\n",
       "      <td>...</td>\n",
       "      <td>0.417</td>\n",
       "      <td>0.805</td>\n",
       "      <td>0.368</td>\n",
       "      <td>104.1</td>\n",
       "      <td>1.11</td>\n",
       "      <td>2.283241</td>\n",
       "      <td>4.732939</td>\n",
       "      <td>-0.738762</td>\n",
       "      <td>0.741525</td>\n",
       "      <td>0</td>\n",
       "    </tr>\n",
       "    <tr>\n",
       "      <th>...</th>\n",
       "      <td>...</td>\n",
       "      <td>...</td>\n",
       "      <td>...</td>\n",
       "      <td>...</td>\n",
       "      <td>...</td>\n",
       "      <td>...</td>\n",
       "      <td>...</td>\n",
       "      <td>...</td>\n",
       "      <td>...</td>\n",
       "      <td>...</td>\n",
       "      <td>...</td>\n",
       "      <td>...</td>\n",
       "      <td>...</td>\n",
       "      <td>...</td>\n",
       "      <td>...</td>\n",
       "      <td>...</td>\n",
       "      <td>...</td>\n",
       "      <td>...</td>\n",
       "      <td>...</td>\n",
       "      <td>...</td>\n",
       "      <td>...</td>\n",
       "    </tr>\n",
       "    <tr>\n",
       "      <th>71</th>\n",
       "      <td>32</td>\n",
       "      <td>139</td>\n",
       "      <td>576</td>\n",
       "      <td>510</td>\n",
       "      <td>67</td>\n",
       "      <td>153</td>\n",
       "      <td>34</td>\n",
       "      <td>1</td>\n",
       "      <td>16</td>\n",
       "      <td>237</td>\n",
       "      <td>...</td>\n",
       "      <td>0.465</td>\n",
       "      <td>0.833</td>\n",
       "      <td>0.376</td>\n",
       "      <td>134.9</td>\n",
       "      <td>3.96</td>\n",
       "      <td>1.460736</td>\n",
       "      <td>1.700855</td>\n",
       "      <td>0.040147</td>\n",
       "      <td>-1.209631</td>\n",
       "      <td>0</td>\n",
       "    </tr>\n",
       "    <tr>\n",
       "      <th>72</th>\n",
       "      <td>26</td>\n",
       "      <td>85</td>\n",
       "      <td>354</td>\n",
       "      <td>316</td>\n",
       "      <td>32</td>\n",
       "      <td>72</td>\n",
       "      <td>16</td>\n",
       "      <td>0</td>\n",
       "      <td>13</td>\n",
       "      <td>127</td>\n",
       "      <td>...</td>\n",
       "      <td>0.402</td>\n",
       "      <td>0.701</td>\n",
       "      <td>0.319</td>\n",
       "      <td>93.7</td>\n",
       "      <td>1.18</td>\n",
       "      <td>1.284872</td>\n",
       "      <td>-0.336774</td>\n",
       "      <td>0.393235</td>\n",
       "      <td>-1.273952</td>\n",
       "      <td>0</td>\n",
       "    </tr>\n",
       "    <tr>\n",
       "      <th>73</th>\n",
       "      <td>29</td>\n",
       "      <td>56</td>\n",
       "      <td>251</td>\n",
       "      <td>218</td>\n",
       "      <td>32</td>\n",
       "      <td>72</td>\n",
       "      <td>10</td>\n",
       "      <td>1</td>\n",
       "      <td>8</td>\n",
       "      <td>108</td>\n",
       "      <td>...</td>\n",
       "      <td>0.495</td>\n",
       "      <td>0.906</td>\n",
       "      <td>0.411</td>\n",
       "      <td>156.3</td>\n",
       "      <td>2.30</td>\n",
       "      <td>1.011088</td>\n",
       "      <td>0.236652</td>\n",
       "      <td>1.328121</td>\n",
       "      <td>-2.532381</td>\n",
       "      <td>1</td>\n",
       "    </tr>\n",
       "    <tr>\n",
       "      <th>74</th>\n",
       "      <td>30</td>\n",
       "      <td>127</td>\n",
       "      <td>554</td>\n",
       "      <td>514</td>\n",
       "      <td>83</td>\n",
       "      <td>160</td>\n",
       "      <td>29</td>\n",
       "      <td>7</td>\n",
       "      <td>17</td>\n",
       "      <td>254</td>\n",
       "      <td>...</td>\n",
       "      <td>0.494</td>\n",
       "      <td>0.848</td>\n",
       "      <td>0.380</td>\n",
       "      <td>137.0</td>\n",
       "      <td>4.97</td>\n",
       "      <td>1.717370</td>\n",
       "      <td>1.666663</td>\n",
       "      <td>-2.849031</td>\n",
       "      <td>-2.173165</td>\n",
       "      <td>1</td>\n",
       "    </tr>\n",
       "    <tr>\n",
       "      <th>75</th>\n",
       "      <td>32</td>\n",
       "      <td>144</td>\n",
       "      <td>648</td>\n",
       "      <td>575</td>\n",
       "      <td>88</td>\n",
       "      <td>166</td>\n",
       "      <td>37</td>\n",
       "      <td>4</td>\n",
       "      <td>12</td>\n",
       "      <td>247</td>\n",
       "      <td>...</td>\n",
       "      <td>0.430</td>\n",
       "      <td>0.795</td>\n",
       "      <td>0.365</td>\n",
       "      <td>126.8</td>\n",
       "      <td>4.98</td>\n",
       "      <td>-1.129446</td>\n",
       "      <td>2.187891</td>\n",
       "      <td>0.441762</td>\n",
       "      <td>2.229524</td>\n",
       "      <td>0</td>\n",
       "    </tr>\n",
       "  </tbody>\n",
       "</table>\n",
       "<p>76 rows × 32 columns</p>\n",
       "</div>"
      ],
      "text/plain": [
       "    나이    G   타석   타수   득점   안타  2타  3타  홈런   루타  ...     장타  KBO_OPS   wOBA  \\\n",
       "0   27  125  602  500  118  154  27   1  31  276  ...  0.552    0.969  0.424   \n",
       "1   32  111  419  376   56  116  25   1  18  197  ...  0.524    0.899  0.395   \n",
       "2   28   63  275  240   33   64   8   1  10  104  ...  0.433    0.779  0.347   \n",
       "3   32   37  113  100   17   21   7   0   4   40  ...  0.400    0.692  0.308   \n",
       "4   34   79  247  216   30   66  18   0   2   90  ...  0.417    0.805  0.368   \n",
       "..  ..  ...  ...  ...  ...  ...  ..  ..  ..  ...  ...    ...      ...    ...   \n",
       "71  32  139  576  510   67  153  34   1  16  237  ...  0.465    0.833  0.376   \n",
       "72  26   85  354  316   32   72  16   0  13  127  ...  0.402    0.701  0.319   \n",
       "73  29   56  251  218   32   72  10   1   8  108  ...  0.495    0.906  0.411   \n",
       "74  30  127  554  514   83  160  29   7  17  254  ...  0.494    0.848  0.380   \n",
       "75  32  144  648  575   88  166  37   4  12  247  ...  0.430    0.795  0.365   \n",
       "\n",
       "     wRC+  KBO_WAR      PCA1      PCA2      PCA3      PCA4  재계약_y  \n",
       "0   139.2     6.23 -2.991404  1.397617 -0.645810  1.118868      1  \n",
       "1   134.8     3.10 -0.201155  1.617601 -1.449454  0.591825      0  \n",
       "2   101.6     1.47 -4.085174  0.437642 -0.733083 -0.409265      0  \n",
       "3    76.2     0.14  1.356951 -0.080244 -0.573521  0.349969      0  \n",
       "4   104.1     1.11  2.283241  4.732939 -0.738762  0.741525      0  \n",
       "..    ...      ...       ...       ...       ...       ...    ...  \n",
       "71  134.9     3.96  1.460736  1.700855  0.040147 -1.209631      0  \n",
       "72   93.7     1.18  1.284872 -0.336774  0.393235 -1.273952      0  \n",
       "73  156.3     2.30  1.011088  0.236652  1.328121 -2.532381      1  \n",
       "74  137.0     4.97  1.717370  1.666663 -2.849031 -2.173165      1  \n",
       "75  126.8     4.98 -1.129446  2.187891  0.441762  2.229524      0  \n",
       "\n",
       "[76 rows x 32 columns]"
      ]
     },
     "execution_count": 248,
     "metadata": {},
     "output_type": "execute_result"
    }
   ],
   "source": [
    "kbo_face_df = kbo_face.drop(columns = [\"연도\",\"구단\",\"KBO_팀순위\",\"이름\",\"수비율\",\"연봉\",\"재계약_x\",\"P\"])\n",
    "kbo_face_df"
   ]
  },
  {
   "cell_type": "code",
   "execution_count": 249,
   "id": "d1bb49d3",
   "metadata": {
    "ExecuteTime": {
     "end_time": "2023-03-14T03:37:24.183130Z",
     "start_time": "2023-03-14T03:37:24.169148Z"
    }
   },
   "outputs": [],
   "source": [
    "X_data = kbo_face_df.drop(columns = [\"재계약_y\"])\n",
    "y_data = kbo_face_df[\"재계약_y\"]"
   ]
  },
  {
   "cell_type": "code",
   "execution_count": 251,
   "id": "2a37f1d3",
   "metadata": {
    "ExecuteTime": {
     "end_time": "2023-03-14T03:41:08.784866Z",
     "start_time": "2023-03-14T03:41:08.774870Z"
    }
   },
   "outputs": [],
   "source": [
    "ss = StandardScaler()\n",
    "ss.fit(X_data)\n",
    "X_ss = ss.transform(X_data)"
   ]
  },
  {
   "cell_type": "code",
   "execution_count": 250,
   "id": "91303852",
   "metadata": {
    "ExecuteTime": {
     "end_time": "2023-03-14T03:40:01.526856Z",
     "start_time": "2023-03-14T03:37:33.103834Z"
    }
   },
   "outputs": [
    {
     "data": {
      "text/plain": [
       "0.6946608946608948"
      ]
     },
     "execution_count": 250,
     "metadata": {},
     "output_type": "execute_result"
    }
   ],
   "source": [
    "cross_val_score(cat, X_data, y_data, cv=kfold, scoring = \"f1\").mean()"
   ]
  },
  {
   "cell_type": "code",
   "execution_count": 254,
   "id": "101db068",
   "metadata": {
    "ExecuteTime": {
     "end_time": "2023-03-14T03:41:31.419070Z",
     "start_time": "2023-03-14T03:41:30.194082Z"
    }
   },
   "outputs": [
    {
     "data": {
      "text/plain": [
       "0.6577777777777778"
      ]
     },
     "execution_count": 254,
     "metadata": {},
     "output_type": "execute_result"
    }
   ],
   "source": [
    "cross_val_score(xgb, X_data, y_data, cv=kfold, scoring = \"f1\").mean()"
   ]
  },
  {
   "cell_type": "code",
   "execution_count": 255,
   "id": "d061d630",
   "metadata": {
    "ExecuteTime": {
     "end_time": "2023-03-14T03:41:46.736414Z",
     "start_time": "2023-03-14T03:41:46.597417Z"
    }
   },
   "outputs": [
    {
     "data": {
      "text/plain": [
       "0.655600539811066"
      ]
     },
     "execution_count": 255,
     "metadata": {},
     "output_type": "execute_result"
    }
   ],
   "source": [
    "cross_val_score(lgbm, X_data, y_data, cv=kfold, scoring = \"f1\").mean()"
   ]
  },
  {
   "cell_type": "code",
   "execution_count": 258,
   "id": "ad8dea0c",
   "metadata": {
    "ExecuteTime": {
     "end_time": "2023-03-14T03:42:03.627073Z",
     "start_time": "2023-03-14T03:42:03.540041Z"
    }
   },
   "outputs": [
    {
     "data": {
      "text/plain": [
       "0.7008547008547008"
      ]
     },
     "execution_count": 258,
     "metadata": {},
     "output_type": "execute_result"
    }
   ],
   "source": [
    "cross_val_score(lr, X_data, y_data, cv=kfold, scoring = \"f1\").mean()"
   ]
  },
  {
   "cell_type": "code",
   "execution_count": 262,
   "id": "23fd0b40",
   "metadata": {
    "ExecuteTime": {
     "end_time": "2023-03-14T03:42:21.765238Z",
     "start_time": "2023-03-14T03:42:21.721248Z"
    }
   },
   "outputs": [
    {
     "data": {
      "text/plain": [
       "0.6248313090418354"
      ]
     },
     "execution_count": 262,
     "metadata": {},
     "output_type": "execute_result"
    }
   ],
   "source": [
    "cross_val_score(svc, X_data, y_data, cv=kfold, scoring = \"f1\").mean()"
   ]
  },
  {
   "cell_type": "code",
   "execution_count": 221,
   "id": "10048e55",
   "metadata": {
    "ExecuteTime": {
     "end_time": "2023-03-13T08:43:02.290912Z",
     "start_time": "2023-03-13T08:40:29.110966Z"
    }
   },
   "outputs": [
    {
     "data": {
      "text/plain": [
       "0.8944083694083694"
      ]
     },
     "execution_count": 221,
     "metadata": {},
     "output_type": "execute_result"
    }
   ],
   "source": [
    "cross_val_score(cat, X_data, y_data, cv=kfold, scoring = \"roc_auc\").mean()"
   ]
  },
  {
   "cell_type": "code",
   "execution_count": 222,
   "id": "beca08a3",
   "metadata": {
    "ExecuteTime": {
     "end_time": "2023-03-13T08:45:29.697473Z",
     "start_time": "2023-03-13T08:43:02.295571Z"
    }
   },
   "outputs": [
    {
     "data": {
      "text/plain": [
       "0.8666666666666668"
      ]
     },
     "execution_count": 222,
     "metadata": {},
     "output_type": "execute_result"
    }
   ],
   "source": [
    "cross_val_score(cat, X_data, y_data, cv=kfold, scoring = \"accuracy\").mean()"
   ]
  },
  {
   "cell_type": "code",
   "execution_count": 236,
   "id": "dc3e40db",
   "metadata": {
    "ExecuteTime": {
     "end_time": "2023-03-13T11:04:47.458190Z",
     "start_time": "2023-03-13T11:04:46.244165Z"
    }
   },
   "outputs": [
    {
     "data": {
      "text/plain": [
       "0.8666666666666666"
      ]
     },
     "execution_count": 236,
     "metadata": {},
     "output_type": "execute_result"
    }
   ],
   "source": [
    "cross_val_score(xgb, X_data, y_data, cv=kfold, scoring = \"accuracy\").mean()"
   ]
  },
  {
   "cell_type": "code",
   "execution_count": 237,
   "id": "695fb53c",
   "metadata": {
    "ExecuteTime": {
     "end_time": "2023-03-13T11:04:55.066857Z",
     "start_time": "2023-03-13T11:04:54.930342Z"
    }
   },
   "outputs": [
    {
     "data": {
      "text/plain": [
       "0.8666666666666666"
      ]
     },
     "execution_count": 237,
     "metadata": {},
     "output_type": "execute_result"
    }
   ],
   "source": [
    "cross_val_score(lgbm, X_data, y_data, cv=kfold, scoring = \"accuracy\").mean()"
   ]
  },
  {
   "cell_type": "code",
   "execution_count": 238,
   "id": "2ed9e56f",
   "metadata": {
    "ExecuteTime": {
     "end_time": "2023-03-13T11:05:03.962561Z",
     "start_time": "2023-03-13T11:05:03.841006Z"
    }
   },
   "outputs": [
    {
     "data": {
      "text/plain": [
       "0.8133333333333332"
      ]
     },
     "execution_count": 238,
     "metadata": {},
     "output_type": "execute_result"
    }
   ],
   "source": [
    "cross_val_score(lr, X_data, y_data, cv=kfold, scoring = \"accuracy\").mean()"
   ]
  },
  {
   "cell_type": "code",
   "execution_count": 239,
   "id": "ed0b0d02",
   "metadata": {
    "ExecuteTime": {
     "end_time": "2023-03-13T11:05:07.292642Z",
     "start_time": "2023-03-13T11:05:07.261647Z"
    }
   },
   "outputs": [
    {
     "data": {
      "text/plain": [
       "0.8266666666666665"
      ]
     },
     "execution_count": 239,
     "metadata": {},
     "output_type": "execute_result"
    }
   ],
   "source": [
    "cross_val_score(svc, X_data, y_data, cv=kfold, scoring = \"accuracy\").mean()"
   ]
  },
  {
   "cell_type": "code",
   "execution_count": 240,
   "id": "a59f37c0",
   "metadata": {
    "ExecuteTime": {
     "end_time": "2023-03-13T11:05:28.391587Z",
     "start_time": "2023-03-13T11:05:27.107339Z"
    }
   },
   "outputs": [
    {
     "data": {
      "text/plain": [
       "0.9340187590187592"
      ]
     },
     "execution_count": 240,
     "metadata": {},
     "output_type": "execute_result"
    }
   ],
   "source": [
    "cross_val_score(xgb, X_data, y_data, cv=kfold, scoring = \"roc_auc\").mean()"
   ]
  },
  {
   "cell_type": "code",
   "execution_count": 241,
   "id": "e3acc1e6",
   "metadata": {
    "ExecuteTime": {
     "end_time": "2023-03-13T11:05:36.924444Z",
     "start_time": "2023-03-13T11:05:36.779922Z"
    }
   },
   "outputs": [
    {
     "data": {
      "text/plain": [
       "0.9315536315536315"
      ]
     },
     "execution_count": 241,
     "metadata": {},
     "output_type": "execute_result"
    }
   ],
   "source": [
    "cross_val_score(lgbm, X_data, y_data, cv=kfold, scoring = \"roc_auc\").mean()"
   ]
  },
  {
   "cell_type": "code",
   "execution_count": 242,
   "id": "c4366cc3",
   "metadata": {
    "ExecuteTime": {
     "end_time": "2023-03-13T11:05:43.547849Z",
     "start_time": "2023-03-13T11:05:43.420307Z"
    }
   },
   "outputs": [
    {
     "data": {
      "text/plain": [
       "0.9310966810966811"
      ]
     },
     "execution_count": 242,
     "metadata": {},
     "output_type": "execute_result"
    }
   ],
   "source": [
    "cross_val_score(lr, X_data, y_data, cv=kfold, scoring = \"roc_auc\").mean()"
   ]
  },
  {
   "cell_type": "code",
   "execution_count": 244,
   "id": "15257a42",
   "metadata": {
    "ExecuteTime": {
     "end_time": "2023-03-13T11:05:56.381013Z",
     "start_time": "2023-03-13T11:05:56.336115Z"
    }
   },
   "outputs": [
    {
     "data": {
      "text/plain": [
       "0.7522607022607023"
      ]
     },
     "execution_count": 244,
     "metadata": {},
     "output_type": "execute_result"
    }
   ],
   "source": [
    "cross_val_score(svc, X_data, y_data, cv=kfold, scoring = \"roc_auc\").mean()"
   ]
  },
  {
   "cell_type": "code",
   "execution_count": null,
   "id": "1f02ac2d",
   "metadata": {},
   "outputs": [],
   "source": []
  },
  {
   "cell_type": "code",
   "execution_count": null,
   "id": "aa4ee7d3",
   "metadata": {},
   "outputs": [],
   "source": []
  }
 ],
 "metadata": {
  "kernelspec": {
   "display_name": "Python 3 (ipykernel)",
   "language": "python",
   "name": "python3"
  },
  "language_info": {
   "codemirror_mode": {
    "name": "ipython",
    "version": 3
   },
   "file_extension": ".py",
   "mimetype": "text/x-python",
   "name": "python",
   "nbconvert_exporter": "python",
   "pygments_lexer": "ipython3",
   "version": "3.9.13"
  },
  "toc": {
   "base_numbering": 1,
   "nav_menu": {},
   "number_sections": true,
   "sideBar": true,
   "skip_h1_title": false,
   "title_cell": "Table of Contents",
   "title_sidebar": "Contents",
   "toc_cell": false,
   "toc_position": {},
   "toc_section_display": true,
   "toc_window_display": false
  }
 },
 "nbformat": 4,
 "nbformat_minor": 5
}
