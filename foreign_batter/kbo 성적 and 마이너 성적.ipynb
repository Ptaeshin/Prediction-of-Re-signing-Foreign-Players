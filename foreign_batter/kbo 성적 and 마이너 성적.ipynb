{
 "cells": [
  {
   "cell_type": "code",
   "execution_count": 1,
   "id": "1ba39282",
   "metadata": {
    "ExecuteTime": {
     "end_time": "2023-03-02T07:03:21.188631Z",
     "start_time": "2023-03-02T07:03:20.348317Z"
    }
   },
   "outputs": [],
   "source": [
    "import pandas as pd\n",
    "import numpy as np\n",
    "pd.set_option('display.max_columns', None)"
   ]
  },
  {
   "cell_type": "code",
   "execution_count": 2,
   "id": "b9b440c6",
   "metadata": {
    "ExecuteTime": {
     "end_time": "2023-03-02T07:03:21.250534Z",
     "start_time": "2023-03-02T07:03:21.191641Z"
    }
   },
   "outputs": [],
   "source": [
    "minor_original = pd.read_csv(\"./외국인타자_마이너성적.csv\")\n",
    "kbo_original = pd.read_csv(\"./외국인타자_국내성적.csv\")"
   ]
  },
  {
   "cell_type": "code",
   "execution_count": 3,
   "id": "7eb228de",
   "metadata": {
    "ExecuteTime": {
     "end_time": "2023-03-02T07:03:21.312922Z",
     "start_time": "2023-03-02T07:03:21.257077Z"
    }
   },
   "outputs": [
    {
     "data": {
      "text/html": [
       "<div>\n",
       "<style scoped>\n",
       "    .dataframe tbody tr th:only-of-type {\n",
       "        vertical-align: middle;\n",
       "    }\n",
       "\n",
       "    .dataframe tbody tr th {\n",
       "        vertical-align: top;\n",
       "    }\n",
       "\n",
       "    .dataframe thead th {\n",
       "        text-align: right;\n",
       "    }\n",
       "</style>\n",
       "<table border=\"1\" class=\"dataframe\">\n",
       "  <thead>\n",
       "    <tr style=\"text-align: right;\">\n",
       "      <th></th>\n",
       "      <th>연도</th>\n",
       "      <th>구단</th>\n",
       "      <th>이름</th>\n",
       "      <th>재계약여부</th>\n",
       "      <th>G</th>\n",
       "      <th>PA</th>\n",
       "      <th>AB</th>\n",
       "      <th>R</th>\n",
       "      <th>H</th>\n",
       "      <th>2B</th>\n",
       "      <th>3B</th>\n",
       "      <th>HR</th>\n",
       "      <th>RBI</th>\n",
       "      <th>SB</th>\n",
       "      <th>CS</th>\n",
       "      <th>BB</th>\n",
       "      <th>SO</th>\n",
       "      <th>BA</th>\n",
       "      <th>OBP</th>\n",
       "      <th>SLG</th>\n",
       "      <th>OPS</th>\n",
       "      <th>TB</th>\n",
       "      <th>GDP</th>\n",
       "      <th>HBP</th>\n",
       "      <th>SH</th>\n",
       "      <th>SF</th>\n",
       "      <th>IBB</th>\n",
       "    </tr>\n",
       "  </thead>\n",
       "  <tbody>\n",
       "    <tr>\n",
       "      <th>0</th>\n",
       "      <td>2014</td>\n",
       "      <td>삼성</td>\n",
       "      <td>야마이코 나바로</td>\n",
       "      <td>1</td>\n",
       "      <td>108</td>\n",
       "      <td>452</td>\n",
       "      <td>390</td>\n",
       "      <td>59</td>\n",
       "      <td>104</td>\n",
       "      <td>21</td>\n",
       "      <td>1</td>\n",
       "      <td>12</td>\n",
       "      <td>53</td>\n",
       "      <td>9</td>\n",
       "      <td>2</td>\n",
       "      <td>53</td>\n",
       "      <td>73</td>\n",
       "      <td>0.267</td>\n",
       "      <td>0.354</td>\n",
       "      <td>0.418</td>\n",
       "      <td>0.772</td>\n",
       "      <td>163</td>\n",
       "      <td>7</td>\n",
       "      <td>3</td>\n",
       "      <td>0</td>\n",
       "      <td>6</td>\n",
       "      <td>0</td>\n",
       "    </tr>\n",
       "    <tr>\n",
       "      <th>1</th>\n",
       "      <td>2014</td>\n",
       "      <td>두산</td>\n",
       "      <td>호르헤 칸투</td>\n",
       "      <td>0</td>\n",
       "      <td>21</td>\n",
       "      <td>90</td>\n",
       "      <td>86</td>\n",
       "      <td>12</td>\n",
       "      <td>25</td>\n",
       "      <td>5</td>\n",
       "      <td>0</td>\n",
       "      <td>4</td>\n",
       "      <td>22</td>\n",
       "      <td>0</td>\n",
       "      <td>0</td>\n",
       "      <td>2</td>\n",
       "      <td>11</td>\n",
       "      <td>0.291</td>\n",
       "      <td>0.300</td>\n",
       "      <td>0.488</td>\n",
       "      <td>0.788</td>\n",
       "      <td>42</td>\n",
       "      <td>5</td>\n",
       "      <td>0</td>\n",
       "      <td>0</td>\n",
       "      <td>2</td>\n",
       "      <td>0</td>\n",
       "    </tr>\n",
       "    <tr>\n",
       "      <th>2</th>\n",
       "      <td>2014</td>\n",
       "      <td>LG</td>\n",
       "      <td>조쉬 벨</td>\n",
       "      <td>0</td>\n",
       "      <td>52</td>\n",
       "      <td>210</td>\n",
       "      <td>177</td>\n",
       "      <td>25</td>\n",
       "      <td>40</td>\n",
       "      <td>8</td>\n",
       "      <td>0</td>\n",
       "      <td>5</td>\n",
       "      <td>21</td>\n",
       "      <td>0</td>\n",
       "      <td>0</td>\n",
       "      <td>28</td>\n",
       "      <td>45</td>\n",
       "      <td>0.226</td>\n",
       "      <td>0.324</td>\n",
       "      <td>0.356</td>\n",
       "      <td>0.680</td>\n",
       "      <td>63</td>\n",
       "      <td>6</td>\n",
       "      <td>0</td>\n",
       "      <td>0</td>\n",
       "      <td>5</td>\n",
       "      <td>1</td>\n",
       "    </tr>\n",
       "    <tr>\n",
       "      <th>3</th>\n",
       "      <td>2014</td>\n",
       "      <td>LG</td>\n",
       "      <td>브래드 스나이더</td>\n",
       "      <td>0</td>\n",
       "      <td>116</td>\n",
       "      <td>458</td>\n",
       "      <td>411</td>\n",
       "      <td>77</td>\n",
       "      <td>128</td>\n",
       "      <td>29</td>\n",
       "      <td>5</td>\n",
       "      <td>12</td>\n",
       "      <td>60</td>\n",
       "      <td>7</td>\n",
       "      <td>11</td>\n",
       "      <td>40</td>\n",
       "      <td>118</td>\n",
       "      <td>0.311</td>\n",
       "      <td>0.370</td>\n",
       "      <td>0.494</td>\n",
       "      <td>0.864</td>\n",
       "      <td>203</td>\n",
       "      <td>6</td>\n",
       "      <td>1</td>\n",
       "      <td>1</td>\n",
       "      <td>5</td>\n",
       "      <td>2</td>\n",
       "    </tr>\n",
       "    <tr>\n",
       "      <th>4</th>\n",
       "      <td>2014</td>\n",
       "      <td>넥센</td>\n",
       "      <td>비니 로티노</td>\n",
       "      <td>0</td>\n",
       "      <td>96</td>\n",
       "      <td>420</td>\n",
       "      <td>374</td>\n",
       "      <td>60</td>\n",
       "      <td>111</td>\n",
       "      <td>28</td>\n",
       "      <td>2</td>\n",
       "      <td>9</td>\n",
       "      <td>66</td>\n",
       "      <td>14</td>\n",
       "      <td>6</td>\n",
       "      <td>34</td>\n",
       "      <td>53</td>\n",
       "      <td>0.297</td>\n",
       "      <td>0.355</td>\n",
       "      <td>0.455</td>\n",
       "      <td>0.809</td>\n",
       "      <td>170</td>\n",
       "      <td>5</td>\n",
       "      <td>4</td>\n",
       "      <td>0</td>\n",
       "      <td>8</td>\n",
       "      <td>5</td>\n",
       "    </tr>\n",
       "  </tbody>\n",
       "</table>\n",
       "</div>"
      ],
      "text/plain": [
       "     연도  구단        이름  재계약여부    G   PA   AB   R    H  2B  3B  HR  RBI  SB  CS  \\\n",
       "0  2014  삼성  야마이코 나바로      1  108  452  390  59  104  21   1  12   53   9   2   \n",
       "1  2014  두산    호르헤 칸투      0   21   90   86  12   25   5   0   4   22   0   0   \n",
       "2  2014  LG      조쉬 벨      0   52  210  177  25   40   8   0   5   21   0   0   \n",
       "3  2014  LG  브래드 스나이더      0  116  458  411  77  128  29   5  12   60   7  11   \n",
       "4  2014  넥센    비니 로티노      0   96  420  374  60  111  28   2   9   66  14   6   \n",
       "\n",
       "   BB   SO     BA    OBP    SLG    OPS   TB  GDP  HBP  SH  SF  IBB  \n",
       "0  53   73  0.267  0.354  0.418  0.772  163    7    3   0   6    0  \n",
       "1   2   11  0.291  0.300  0.488  0.788   42    5    0   0   2    0  \n",
       "2  28   45  0.226  0.324  0.356  0.680   63    6    0   0   5    1  \n",
       "3  40  118  0.311  0.370  0.494  0.864  203    6    1   1   5    2  \n",
       "4  34   53  0.297  0.355  0.455  0.809  170    5    4   0   8    5  "
      ]
     },
     "execution_count": 3,
     "metadata": {},
     "output_type": "execute_result"
    }
   ],
   "source": [
    "minor_original.head()"
   ]
  },
  {
   "cell_type": "code",
   "execution_count": 4,
   "id": "8b08c4a3",
   "metadata": {
    "ExecuteTime": {
     "end_time": "2023-03-02T07:03:23.031349Z",
     "start_time": "2023-03-02T07:03:23.023115Z"
    }
   },
   "outputs": [
    {
     "data": {
      "text/plain": [
       "(78, 36)"
      ]
     },
     "execution_count": 4,
     "metadata": {},
     "output_type": "execute_result"
    }
   ],
   "source": [
    "kbo_original.shape"
   ]
  },
  {
   "cell_type": "code",
   "execution_count": 5,
   "id": "5bcba840",
   "metadata": {
    "ExecuteTime": {
     "end_time": "2023-03-02T07:03:23.330334Z",
     "start_time": "2023-03-02T07:03:23.292287Z"
    }
   },
   "outputs": [
    {
     "data": {
      "text/html": [
       "<div>\n",
       "<style scoped>\n",
       "    .dataframe tbody tr th:only-of-type {\n",
       "        vertical-align: middle;\n",
       "    }\n",
       "\n",
       "    .dataframe tbody tr th {\n",
       "        vertical-align: top;\n",
       "    }\n",
       "\n",
       "    .dataframe thead th {\n",
       "        text-align: right;\n",
       "    }\n",
       "</style>\n",
       "<table border=\"1\" class=\"dataframe\">\n",
       "  <thead>\n",
       "    <tr style=\"text-align: right;\">\n",
       "      <th></th>\n",
       "      <th>연도</th>\n",
       "      <th>구단</th>\n",
       "      <th>KBO_팀순위</th>\n",
       "      <th>이름</th>\n",
       "      <th>수비율</th>\n",
       "      <th>연봉</th>\n",
       "      <th>재계약여부</th>\n",
       "      <th>나이</th>\n",
       "      <th>P</th>\n",
       "      <th>G</th>\n",
       "      <th>타석</th>\n",
       "      <th>타수</th>\n",
       "      <th>득점</th>\n",
       "      <th>안타</th>\n",
       "      <th>2타</th>\n",
       "      <th>3타</th>\n",
       "      <th>홈런</th>\n",
       "      <th>루타</th>\n",
       "      <th>타점</th>\n",
       "      <th>도루</th>\n",
       "      <th>도실</th>\n",
       "      <th>볼넷</th>\n",
       "      <th>사구</th>\n",
       "      <th>고4</th>\n",
       "      <th>삼진</th>\n",
       "      <th>병살</th>\n",
       "      <th>희타</th>\n",
       "      <th>희비</th>\n",
       "      <th>타율</th>\n",
       "      <th>출루</th>\n",
       "      <th>장타</th>\n",
       "      <th>OPS</th>\n",
       "      <th>wOBA</th>\n",
       "      <th>wRC+</th>\n",
       "      <th>WAR</th>\n",
       "      <th>Unnamed: 35</th>\n",
       "    </tr>\n",
       "  </thead>\n",
       "  <tbody>\n",
       "    <tr>\n",
       "      <th>0</th>\n",
       "      <td>2014</td>\n",
       "      <td>삼성</td>\n",
       "      <td>1.0</td>\n",
       "      <td>야마이코 나바로</td>\n",
       "      <td>0.987</td>\n",
       "      <td>25000.0</td>\n",
       "      <td>1.0</td>\n",
       "      <td>27.0</td>\n",
       "      <td>2B</td>\n",
       "      <td>125.0</td>\n",
       "      <td>602.0</td>\n",
       "      <td>500.0</td>\n",
       "      <td>118.0</td>\n",
       "      <td>154.0</td>\n",
       "      <td>27.0</td>\n",
       "      <td>1.0</td>\n",
       "      <td>31.0</td>\n",
       "      <td>276.0</td>\n",
       "      <td>98.0</td>\n",
       "      <td>25.0</td>\n",
       "      <td>9.0</td>\n",
       "      <td>96.0</td>\n",
       "      <td>1.0</td>\n",
       "      <td>1.0</td>\n",
       "      <td>71.0</td>\n",
       "      <td>7.0</td>\n",
       "      <td>0.0</td>\n",
       "      <td>5.0</td>\n",
       "      <td>0.308</td>\n",
       "      <td>0.417</td>\n",
       "      <td>0.552</td>\n",
       "      <td>0.969</td>\n",
       "      <td>0.424</td>\n",
       "      <td>139.2</td>\n",
       "      <td>6.23</td>\n",
       "      <td>NaN</td>\n",
       "    </tr>\n",
       "    <tr>\n",
       "      <th>1</th>\n",
       "      <td>2014</td>\n",
       "      <td>두산</td>\n",
       "      <td>6.0</td>\n",
       "      <td>호르헤 칸투</td>\n",
       "      <td>0.994</td>\n",
       "      <td>30000.0</td>\n",
       "      <td>0.0</td>\n",
       "      <td>32.0</td>\n",
       "      <td>1B</td>\n",
       "      <td>111.0</td>\n",
       "      <td>419.0</td>\n",
       "      <td>376.0</td>\n",
       "      <td>56.0</td>\n",
       "      <td>116.0</td>\n",
       "      <td>25.0</td>\n",
       "      <td>1.0</td>\n",
       "      <td>18.0</td>\n",
       "      <td>197.0</td>\n",
       "      <td>72.0</td>\n",
       "      <td>1.0</td>\n",
       "      <td>0.0</td>\n",
       "      <td>34.0</td>\n",
       "      <td>7.0</td>\n",
       "      <td>0.0</td>\n",
       "      <td>85.0</td>\n",
       "      <td>11.0</td>\n",
       "      <td>0.0</td>\n",
       "      <td>2.0</td>\n",
       "      <td>0.309</td>\n",
       "      <td>0.375</td>\n",
       "      <td>0.524</td>\n",
       "      <td>0.899</td>\n",
       "      <td>0.395</td>\n",
       "      <td>134.8</td>\n",
       "      <td>3.10</td>\n",
       "      <td>NaN</td>\n",
       "    </tr>\n",
       "    <tr>\n",
       "      <th>2</th>\n",
       "      <td>2014</td>\n",
       "      <td>LG</td>\n",
       "      <td>4.0</td>\n",
       "      <td>조쉬 벨</td>\n",
       "      <td>0.981</td>\n",
       "      <td>25000.0</td>\n",
       "      <td>0.0</td>\n",
       "      <td>28.0</td>\n",
       "      <td>3B</td>\n",
       "      <td>63.0</td>\n",
       "      <td>275.0</td>\n",
       "      <td>240.0</td>\n",
       "      <td>33.0</td>\n",
       "      <td>64.0</td>\n",
       "      <td>8.0</td>\n",
       "      <td>1.0</td>\n",
       "      <td>10.0</td>\n",
       "      <td>104.0</td>\n",
       "      <td>39.0</td>\n",
       "      <td>3.0</td>\n",
       "      <td>0.0</td>\n",
       "      <td>30.0</td>\n",
       "      <td>1.0</td>\n",
       "      <td>1.0</td>\n",
       "      <td>56.0</td>\n",
       "      <td>10.0</td>\n",
       "      <td>0.0</td>\n",
       "      <td>4.0</td>\n",
       "      <td>0.267</td>\n",
       "      <td>0.346</td>\n",
       "      <td>0.433</td>\n",
       "      <td>0.779</td>\n",
       "      <td>0.347</td>\n",
       "      <td>101.6</td>\n",
       "      <td>1.47</td>\n",
       "      <td>NaN</td>\n",
       "    </tr>\n",
       "    <tr>\n",
       "      <th>3</th>\n",
       "      <td>2014</td>\n",
       "      <td>LG</td>\n",
       "      <td>4.0</td>\n",
       "      <td>브래드 스나이더</td>\n",
       "      <td>1.000</td>\n",
       "      <td>15000.0</td>\n",
       "      <td>0.0</td>\n",
       "      <td>32.0</td>\n",
       "      <td>CF</td>\n",
       "      <td>37.0</td>\n",
       "      <td>113.0</td>\n",
       "      <td>100.0</td>\n",
       "      <td>17.0</td>\n",
       "      <td>21.0</td>\n",
       "      <td>7.0</td>\n",
       "      <td>0.0</td>\n",
       "      <td>4.0</td>\n",
       "      <td>40.0</td>\n",
       "      <td>17.0</td>\n",
       "      <td>0.0</td>\n",
       "      <td>2.0</td>\n",
       "      <td>9.0</td>\n",
       "      <td>3.0</td>\n",
       "      <td>0.0</td>\n",
       "      <td>31.0</td>\n",
       "      <td>0.0</td>\n",
       "      <td>0.0</td>\n",
       "      <td>1.0</td>\n",
       "      <td>0.210</td>\n",
       "      <td>0.292</td>\n",
       "      <td>0.400</td>\n",
       "      <td>0.692</td>\n",
       "      <td>0.308</td>\n",
       "      <td>76.2</td>\n",
       "      <td>0.14</td>\n",
       "      <td>NaN</td>\n",
       "    </tr>\n",
       "    <tr>\n",
       "      <th>4</th>\n",
       "      <td>2014</td>\n",
       "      <td>넥센</td>\n",
       "      <td>2.0</td>\n",
       "      <td>비니 로티노</td>\n",
       "      <td>0.987</td>\n",
       "      <td>27000.0</td>\n",
       "      <td>0.0</td>\n",
       "      <td>34.0</td>\n",
       "      <td>LF</td>\n",
       "      <td>79.0</td>\n",
       "      <td>247.0</td>\n",
       "      <td>216.0</td>\n",
       "      <td>30.0</td>\n",
       "      <td>66.0</td>\n",
       "      <td>18.0</td>\n",
       "      <td>0.0</td>\n",
       "      <td>2.0</td>\n",
       "      <td>90.0</td>\n",
       "      <td>22.0</td>\n",
       "      <td>2.0</td>\n",
       "      <td>0.0</td>\n",
       "      <td>29.0</td>\n",
       "      <td>1.0</td>\n",
       "      <td>3.0</td>\n",
       "      <td>22.0</td>\n",
       "      <td>7.0</td>\n",
       "      <td>0.0</td>\n",
       "      <td>1.0</td>\n",
       "      <td>0.306</td>\n",
       "      <td>0.389</td>\n",
       "      <td>0.417</td>\n",
       "      <td>0.805</td>\n",
       "      <td>0.368</td>\n",
       "      <td>104.1</td>\n",
       "      <td>1.11</td>\n",
       "      <td>NaN</td>\n",
       "    </tr>\n",
       "  </tbody>\n",
       "</table>\n",
       "</div>"
      ],
      "text/plain": [
       "     연도  구단  KBO_팀순위        이름    수비율       연봉  재계약여부    나이   P      G     타석  \\\n",
       "0  2014  삼성      1.0  야마이코 나바로  0.987  25000.0    1.0  27.0  2B  125.0  602.0   \n",
       "1  2014  두산      6.0    호르헤 칸투  0.994  30000.0    0.0  32.0  1B  111.0  419.0   \n",
       "2  2014  LG      4.0      조쉬 벨  0.981  25000.0    0.0  28.0  3B   63.0  275.0   \n",
       "3  2014  LG      4.0  브래드 스나이더  1.000  15000.0    0.0  32.0  CF   37.0  113.0   \n",
       "4  2014  넥센      2.0    비니 로티노  0.987  27000.0    0.0  34.0  LF   79.0  247.0   \n",
       "\n",
       "      타수     득점     안타    2타   3타    홈런     루타    타점    도루   도실    볼넷   사구  \\\n",
       "0  500.0  118.0  154.0  27.0  1.0  31.0  276.0  98.0  25.0  9.0  96.0  1.0   \n",
       "1  376.0   56.0  116.0  25.0  1.0  18.0  197.0  72.0   1.0  0.0  34.0  7.0   \n",
       "2  240.0   33.0   64.0   8.0  1.0  10.0  104.0  39.0   3.0  0.0  30.0  1.0   \n",
       "3  100.0   17.0   21.0   7.0  0.0   4.0   40.0  17.0   0.0  2.0   9.0  3.0   \n",
       "4  216.0   30.0   66.0  18.0  0.0   2.0   90.0  22.0   2.0  0.0  29.0  1.0   \n",
       "\n",
       "    고4    삼진    병살   희타   희비     타율     출루     장타    OPS   wOBA   wRC+   WAR  \\\n",
       "0  1.0  71.0   7.0  0.0  5.0  0.308  0.417  0.552  0.969  0.424  139.2  6.23   \n",
       "1  0.0  85.0  11.0  0.0  2.0  0.309  0.375  0.524  0.899  0.395  134.8  3.10   \n",
       "2  1.0  56.0  10.0  0.0  4.0  0.267  0.346  0.433  0.779  0.347  101.6  1.47   \n",
       "3  0.0  31.0   0.0  0.0  1.0  0.210  0.292  0.400  0.692  0.308   76.2  0.14   \n",
       "4  3.0  22.0   7.0  0.0  1.0  0.306  0.389  0.417  0.805  0.368  104.1  1.11   \n",
       "\n",
       "   Unnamed: 35  \n",
       "0          NaN  \n",
       "1          NaN  \n",
       "2          NaN  \n",
       "3          NaN  \n",
       "4          NaN  "
      ]
     },
     "execution_count": 5,
     "metadata": {},
     "output_type": "execute_result"
    }
   ],
   "source": [
    "kbo_original.head()"
   ]
  },
  {
   "cell_type": "code",
   "execution_count": 6,
   "id": "2b64cb63",
   "metadata": {
    "ExecuteTime": {
     "end_time": "2023-03-02T07:03:23.536122Z",
     "start_time": "2023-03-02T07:03:23.515074Z"
    }
   },
   "outputs": [],
   "source": [
    "minor = minor_original.drop(columns=[\"연도\",\"구단\"])"
   ]
  },
  {
   "cell_type": "code",
   "execution_count": 7,
   "id": "ce057ad7",
   "metadata": {
    "ExecuteTime": {
     "end_time": "2023-03-02T07:03:23.771911Z",
     "start_time": "2023-03-02T07:03:23.761390Z"
    }
   },
   "outputs": [],
   "source": [
    "kbo = kbo_original.drop(columns = [\"연도\",\"구단\"])"
   ]
  },
  {
   "cell_type": "code",
   "execution_count": 8,
   "id": "eebf08d6",
   "metadata": {
    "ExecuteTime": {
     "end_time": "2023-03-02T07:03:24.183129Z",
     "start_time": "2023-03-02T07:03:24.170040Z"
    }
   },
   "outputs": [
    {
     "data": {
      "text/html": [
       "<div>\n",
       "<style scoped>\n",
       "    .dataframe tbody tr th:only-of-type {\n",
       "        vertical-align: middle;\n",
       "    }\n",
       "\n",
       "    .dataframe tbody tr th {\n",
       "        vertical-align: top;\n",
       "    }\n",
       "\n",
       "    .dataframe thead th {\n",
       "        text-align: right;\n",
       "    }\n",
       "</style>\n",
       "<table border=\"1\" class=\"dataframe\">\n",
       "  <thead>\n",
       "    <tr style=\"text-align: right;\">\n",
       "      <th></th>\n",
       "      <th>이름</th>\n",
       "      <th>재계약여부</th>\n",
       "      <th>G</th>\n",
       "      <th>PA</th>\n",
       "      <th>AB</th>\n",
       "      <th>R</th>\n",
       "      <th>H</th>\n",
       "      <th>2B</th>\n",
       "      <th>3B</th>\n",
       "      <th>HR</th>\n",
       "      <th>RBI</th>\n",
       "      <th>SB</th>\n",
       "      <th>CS</th>\n",
       "      <th>BB</th>\n",
       "      <th>SO</th>\n",
       "      <th>BA</th>\n",
       "      <th>OBP</th>\n",
       "      <th>SLG</th>\n",
       "      <th>OPS</th>\n",
       "      <th>TB</th>\n",
       "      <th>GDP</th>\n",
       "      <th>HBP</th>\n",
       "      <th>SH</th>\n",
       "      <th>SF</th>\n",
       "      <th>IBB</th>\n",
       "    </tr>\n",
       "  </thead>\n",
       "  <tbody>\n",
       "    <tr>\n",
       "      <th>0</th>\n",
       "      <td>야마이코 나바로</td>\n",
       "      <td>1</td>\n",
       "      <td>108</td>\n",
       "      <td>452</td>\n",
       "      <td>390</td>\n",
       "      <td>59</td>\n",
       "      <td>104</td>\n",
       "      <td>21</td>\n",
       "      <td>1</td>\n",
       "      <td>12</td>\n",
       "      <td>53</td>\n",
       "      <td>9</td>\n",
       "      <td>2</td>\n",
       "      <td>53</td>\n",
       "      <td>73</td>\n",
       "      <td>0.267</td>\n",
       "      <td>0.354</td>\n",
       "      <td>0.418</td>\n",
       "      <td>0.772</td>\n",
       "      <td>163</td>\n",
       "      <td>7</td>\n",
       "      <td>3</td>\n",
       "      <td>0</td>\n",
       "      <td>6</td>\n",
       "      <td>0</td>\n",
       "    </tr>\n",
       "    <tr>\n",
       "      <th>1</th>\n",
       "      <td>호르헤 칸투</td>\n",
       "      <td>0</td>\n",
       "      <td>21</td>\n",
       "      <td>90</td>\n",
       "      <td>86</td>\n",
       "      <td>12</td>\n",
       "      <td>25</td>\n",
       "      <td>5</td>\n",
       "      <td>0</td>\n",
       "      <td>4</td>\n",
       "      <td>22</td>\n",
       "      <td>0</td>\n",
       "      <td>0</td>\n",
       "      <td>2</td>\n",
       "      <td>11</td>\n",
       "      <td>0.291</td>\n",
       "      <td>0.300</td>\n",
       "      <td>0.488</td>\n",
       "      <td>0.788</td>\n",
       "      <td>42</td>\n",
       "      <td>5</td>\n",
       "      <td>0</td>\n",
       "      <td>0</td>\n",
       "      <td>2</td>\n",
       "      <td>0</td>\n",
       "    </tr>\n",
       "    <tr>\n",
       "      <th>2</th>\n",
       "      <td>조쉬 벨</td>\n",
       "      <td>0</td>\n",
       "      <td>52</td>\n",
       "      <td>210</td>\n",
       "      <td>177</td>\n",
       "      <td>25</td>\n",
       "      <td>40</td>\n",
       "      <td>8</td>\n",
       "      <td>0</td>\n",
       "      <td>5</td>\n",
       "      <td>21</td>\n",
       "      <td>0</td>\n",
       "      <td>0</td>\n",
       "      <td>28</td>\n",
       "      <td>45</td>\n",
       "      <td>0.226</td>\n",
       "      <td>0.324</td>\n",
       "      <td>0.356</td>\n",
       "      <td>0.680</td>\n",
       "      <td>63</td>\n",
       "      <td>6</td>\n",
       "      <td>0</td>\n",
       "      <td>0</td>\n",
       "      <td>5</td>\n",
       "      <td>1</td>\n",
       "    </tr>\n",
       "    <tr>\n",
       "      <th>3</th>\n",
       "      <td>브래드 스나이더</td>\n",
       "      <td>0</td>\n",
       "      <td>116</td>\n",
       "      <td>458</td>\n",
       "      <td>411</td>\n",
       "      <td>77</td>\n",
       "      <td>128</td>\n",
       "      <td>29</td>\n",
       "      <td>5</td>\n",
       "      <td>12</td>\n",
       "      <td>60</td>\n",
       "      <td>7</td>\n",
       "      <td>11</td>\n",
       "      <td>40</td>\n",
       "      <td>118</td>\n",
       "      <td>0.311</td>\n",
       "      <td>0.370</td>\n",
       "      <td>0.494</td>\n",
       "      <td>0.864</td>\n",
       "      <td>203</td>\n",
       "      <td>6</td>\n",
       "      <td>1</td>\n",
       "      <td>1</td>\n",
       "      <td>5</td>\n",
       "      <td>2</td>\n",
       "    </tr>\n",
       "    <tr>\n",
       "      <th>4</th>\n",
       "      <td>비니 로티노</td>\n",
       "      <td>0</td>\n",
       "      <td>96</td>\n",
       "      <td>420</td>\n",
       "      <td>374</td>\n",
       "      <td>60</td>\n",
       "      <td>111</td>\n",
       "      <td>28</td>\n",
       "      <td>2</td>\n",
       "      <td>9</td>\n",
       "      <td>66</td>\n",
       "      <td>14</td>\n",
       "      <td>6</td>\n",
       "      <td>34</td>\n",
       "      <td>53</td>\n",
       "      <td>0.297</td>\n",
       "      <td>0.355</td>\n",
       "      <td>0.455</td>\n",
       "      <td>0.809</td>\n",
       "      <td>170</td>\n",
       "      <td>5</td>\n",
       "      <td>4</td>\n",
       "      <td>0</td>\n",
       "      <td>8</td>\n",
       "      <td>5</td>\n",
       "    </tr>\n",
       "  </tbody>\n",
       "</table>\n",
       "</div>"
      ],
      "text/plain": [
       "         이름  재계약여부    G   PA   AB   R    H  2B  3B  HR  RBI  SB  CS  BB   SO  \\\n",
       "0  야마이코 나바로      1  108  452  390  59  104  21   1  12   53   9   2  53   73   \n",
       "1    호르헤 칸투      0   21   90   86  12   25   5   0   4   22   0   0   2   11   \n",
       "2      조쉬 벨      0   52  210  177  25   40   8   0   5   21   0   0  28   45   \n",
       "3  브래드 스나이더      0  116  458  411  77  128  29   5  12   60   7  11  40  118   \n",
       "4    비니 로티노      0   96  420  374  60  111  28   2   9   66  14   6  34   53   \n",
       "\n",
       "      BA    OBP    SLG    OPS   TB  GDP  HBP  SH  SF  IBB  \n",
       "0  0.267  0.354  0.418  0.772  163    7    3   0   6    0  \n",
       "1  0.291  0.300  0.488  0.788   42    5    0   0   2    0  \n",
       "2  0.226  0.324  0.356  0.680   63    6    0   0   5    1  \n",
       "3  0.311  0.370  0.494  0.864  203    6    1   1   5    2  \n",
       "4  0.297  0.355  0.455  0.809  170    5    4   0   8    5  "
      ]
     },
     "execution_count": 8,
     "metadata": {},
     "output_type": "execute_result"
    }
   ],
   "source": [
    "minor.head()"
   ]
  },
  {
   "cell_type": "code",
   "execution_count": 9,
   "id": "6eb304f0",
   "metadata": {
    "ExecuteTime": {
     "end_time": "2023-03-02T07:03:26.222119Z",
     "start_time": "2023-03-02T07:03:26.173194Z"
    }
   },
   "outputs": [
    {
     "data": {
      "text/html": [
       "<div>\n",
       "<style scoped>\n",
       "    .dataframe tbody tr th:only-of-type {\n",
       "        vertical-align: middle;\n",
       "    }\n",
       "\n",
       "    .dataframe tbody tr th {\n",
       "        vertical-align: top;\n",
       "    }\n",
       "\n",
       "    .dataframe thead th {\n",
       "        text-align: right;\n",
       "    }\n",
       "</style>\n",
       "<table border=\"1\" class=\"dataframe\">\n",
       "  <thead>\n",
       "    <tr style=\"text-align: right;\">\n",
       "      <th></th>\n",
       "      <th>KBO_팀순위</th>\n",
       "      <th>이름</th>\n",
       "      <th>수비율</th>\n",
       "      <th>연봉</th>\n",
       "      <th>재계약여부</th>\n",
       "      <th>나이</th>\n",
       "      <th>P</th>\n",
       "      <th>G</th>\n",
       "      <th>타석</th>\n",
       "      <th>타수</th>\n",
       "      <th>득점</th>\n",
       "      <th>안타</th>\n",
       "      <th>2타</th>\n",
       "      <th>3타</th>\n",
       "      <th>홈런</th>\n",
       "      <th>루타</th>\n",
       "      <th>타점</th>\n",
       "      <th>도루</th>\n",
       "      <th>도실</th>\n",
       "      <th>볼넷</th>\n",
       "      <th>사구</th>\n",
       "      <th>고4</th>\n",
       "      <th>삼진</th>\n",
       "      <th>병살</th>\n",
       "      <th>희타</th>\n",
       "      <th>희비</th>\n",
       "      <th>타율</th>\n",
       "      <th>출루</th>\n",
       "      <th>장타</th>\n",
       "      <th>OPS</th>\n",
       "      <th>wOBA</th>\n",
       "      <th>wRC+</th>\n",
       "      <th>WAR</th>\n",
       "      <th>Unnamed: 35</th>\n",
       "    </tr>\n",
       "  </thead>\n",
       "  <tbody>\n",
       "    <tr>\n",
       "      <th>0</th>\n",
       "      <td>1.0</td>\n",
       "      <td>야마이코 나바로</td>\n",
       "      <td>0.987</td>\n",
       "      <td>25000.0</td>\n",
       "      <td>1.0</td>\n",
       "      <td>27.0</td>\n",
       "      <td>2B</td>\n",
       "      <td>125.0</td>\n",
       "      <td>602.0</td>\n",
       "      <td>500.0</td>\n",
       "      <td>118.0</td>\n",
       "      <td>154.0</td>\n",
       "      <td>27.0</td>\n",
       "      <td>1.0</td>\n",
       "      <td>31.0</td>\n",
       "      <td>276.0</td>\n",
       "      <td>98.0</td>\n",
       "      <td>25.0</td>\n",
       "      <td>9.0</td>\n",
       "      <td>96.0</td>\n",
       "      <td>1.0</td>\n",
       "      <td>1.0</td>\n",
       "      <td>71.0</td>\n",
       "      <td>7.0</td>\n",
       "      <td>0.0</td>\n",
       "      <td>5.0</td>\n",
       "      <td>0.308</td>\n",
       "      <td>0.417</td>\n",
       "      <td>0.552</td>\n",
       "      <td>0.969</td>\n",
       "      <td>0.424</td>\n",
       "      <td>139.2</td>\n",
       "      <td>6.23</td>\n",
       "      <td>NaN</td>\n",
       "    </tr>\n",
       "    <tr>\n",
       "      <th>1</th>\n",
       "      <td>6.0</td>\n",
       "      <td>호르헤 칸투</td>\n",
       "      <td>0.994</td>\n",
       "      <td>30000.0</td>\n",
       "      <td>0.0</td>\n",
       "      <td>32.0</td>\n",
       "      <td>1B</td>\n",
       "      <td>111.0</td>\n",
       "      <td>419.0</td>\n",
       "      <td>376.0</td>\n",
       "      <td>56.0</td>\n",
       "      <td>116.0</td>\n",
       "      <td>25.0</td>\n",
       "      <td>1.0</td>\n",
       "      <td>18.0</td>\n",
       "      <td>197.0</td>\n",
       "      <td>72.0</td>\n",
       "      <td>1.0</td>\n",
       "      <td>0.0</td>\n",
       "      <td>34.0</td>\n",
       "      <td>7.0</td>\n",
       "      <td>0.0</td>\n",
       "      <td>85.0</td>\n",
       "      <td>11.0</td>\n",
       "      <td>0.0</td>\n",
       "      <td>2.0</td>\n",
       "      <td>0.309</td>\n",
       "      <td>0.375</td>\n",
       "      <td>0.524</td>\n",
       "      <td>0.899</td>\n",
       "      <td>0.395</td>\n",
       "      <td>134.8</td>\n",
       "      <td>3.10</td>\n",
       "      <td>NaN</td>\n",
       "    </tr>\n",
       "    <tr>\n",
       "      <th>2</th>\n",
       "      <td>4.0</td>\n",
       "      <td>조쉬 벨</td>\n",
       "      <td>0.981</td>\n",
       "      <td>25000.0</td>\n",
       "      <td>0.0</td>\n",
       "      <td>28.0</td>\n",
       "      <td>3B</td>\n",
       "      <td>63.0</td>\n",
       "      <td>275.0</td>\n",
       "      <td>240.0</td>\n",
       "      <td>33.0</td>\n",
       "      <td>64.0</td>\n",
       "      <td>8.0</td>\n",
       "      <td>1.0</td>\n",
       "      <td>10.0</td>\n",
       "      <td>104.0</td>\n",
       "      <td>39.0</td>\n",
       "      <td>3.0</td>\n",
       "      <td>0.0</td>\n",
       "      <td>30.0</td>\n",
       "      <td>1.0</td>\n",
       "      <td>1.0</td>\n",
       "      <td>56.0</td>\n",
       "      <td>10.0</td>\n",
       "      <td>0.0</td>\n",
       "      <td>4.0</td>\n",
       "      <td>0.267</td>\n",
       "      <td>0.346</td>\n",
       "      <td>0.433</td>\n",
       "      <td>0.779</td>\n",
       "      <td>0.347</td>\n",
       "      <td>101.6</td>\n",
       "      <td>1.47</td>\n",
       "      <td>NaN</td>\n",
       "    </tr>\n",
       "    <tr>\n",
       "      <th>3</th>\n",
       "      <td>4.0</td>\n",
       "      <td>브래드 스나이더</td>\n",
       "      <td>1.000</td>\n",
       "      <td>15000.0</td>\n",
       "      <td>0.0</td>\n",
       "      <td>32.0</td>\n",
       "      <td>CF</td>\n",
       "      <td>37.0</td>\n",
       "      <td>113.0</td>\n",
       "      <td>100.0</td>\n",
       "      <td>17.0</td>\n",
       "      <td>21.0</td>\n",
       "      <td>7.0</td>\n",
       "      <td>0.0</td>\n",
       "      <td>4.0</td>\n",
       "      <td>40.0</td>\n",
       "      <td>17.0</td>\n",
       "      <td>0.0</td>\n",
       "      <td>2.0</td>\n",
       "      <td>9.0</td>\n",
       "      <td>3.0</td>\n",
       "      <td>0.0</td>\n",
       "      <td>31.0</td>\n",
       "      <td>0.0</td>\n",
       "      <td>0.0</td>\n",
       "      <td>1.0</td>\n",
       "      <td>0.210</td>\n",
       "      <td>0.292</td>\n",
       "      <td>0.400</td>\n",
       "      <td>0.692</td>\n",
       "      <td>0.308</td>\n",
       "      <td>76.2</td>\n",
       "      <td>0.14</td>\n",
       "      <td>NaN</td>\n",
       "    </tr>\n",
       "    <tr>\n",
       "      <th>4</th>\n",
       "      <td>2.0</td>\n",
       "      <td>비니 로티노</td>\n",
       "      <td>0.987</td>\n",
       "      <td>27000.0</td>\n",
       "      <td>0.0</td>\n",
       "      <td>34.0</td>\n",
       "      <td>LF</td>\n",
       "      <td>79.0</td>\n",
       "      <td>247.0</td>\n",
       "      <td>216.0</td>\n",
       "      <td>30.0</td>\n",
       "      <td>66.0</td>\n",
       "      <td>18.0</td>\n",
       "      <td>0.0</td>\n",
       "      <td>2.0</td>\n",
       "      <td>90.0</td>\n",
       "      <td>22.0</td>\n",
       "      <td>2.0</td>\n",
       "      <td>0.0</td>\n",
       "      <td>29.0</td>\n",
       "      <td>1.0</td>\n",
       "      <td>3.0</td>\n",
       "      <td>22.0</td>\n",
       "      <td>7.0</td>\n",
       "      <td>0.0</td>\n",
       "      <td>1.0</td>\n",
       "      <td>0.306</td>\n",
       "      <td>0.389</td>\n",
       "      <td>0.417</td>\n",
       "      <td>0.805</td>\n",
       "      <td>0.368</td>\n",
       "      <td>104.1</td>\n",
       "      <td>1.11</td>\n",
       "      <td>NaN</td>\n",
       "    </tr>\n",
       "  </tbody>\n",
       "</table>\n",
       "</div>"
      ],
      "text/plain": [
       "   KBO_팀순위        이름    수비율       연봉  재계약여부    나이   P      G     타석     타수  \\\n",
       "0      1.0  야마이코 나바로  0.987  25000.0    1.0  27.0  2B  125.0  602.0  500.0   \n",
       "1      6.0    호르헤 칸투  0.994  30000.0    0.0  32.0  1B  111.0  419.0  376.0   \n",
       "2      4.0      조쉬 벨  0.981  25000.0    0.0  28.0  3B   63.0  275.0  240.0   \n",
       "3      4.0  브래드 스나이더  1.000  15000.0    0.0  32.0  CF   37.0  113.0  100.0   \n",
       "4      2.0    비니 로티노  0.987  27000.0    0.0  34.0  LF   79.0  247.0  216.0   \n",
       "\n",
       "      득점     안타    2타   3타    홈런     루타    타점    도루   도실    볼넷   사구   고4  \\\n",
       "0  118.0  154.0  27.0  1.0  31.0  276.0  98.0  25.0  9.0  96.0  1.0  1.0   \n",
       "1   56.0  116.0  25.0  1.0  18.0  197.0  72.0   1.0  0.0  34.0  7.0  0.0   \n",
       "2   33.0   64.0   8.0  1.0  10.0  104.0  39.0   3.0  0.0  30.0  1.0  1.0   \n",
       "3   17.0   21.0   7.0  0.0   4.0   40.0  17.0   0.0  2.0   9.0  3.0  0.0   \n",
       "4   30.0   66.0  18.0  0.0   2.0   90.0  22.0   2.0  0.0  29.0  1.0  3.0   \n",
       "\n",
       "     삼진    병살   희타   희비     타율     출루     장타    OPS   wOBA   wRC+   WAR  \\\n",
       "0  71.0   7.0  0.0  5.0  0.308  0.417  0.552  0.969  0.424  139.2  6.23   \n",
       "1  85.0  11.0  0.0  2.0  0.309  0.375  0.524  0.899  0.395  134.8  3.10   \n",
       "2  56.0  10.0  0.0  4.0  0.267  0.346  0.433  0.779  0.347  101.6  1.47   \n",
       "3  31.0   0.0  0.0  1.0  0.210  0.292  0.400  0.692  0.308   76.2  0.14   \n",
       "4  22.0   7.0  0.0  1.0  0.306  0.389  0.417  0.805  0.368  104.1  1.11   \n",
       "\n",
       "   Unnamed: 35  \n",
       "0          NaN  \n",
       "1          NaN  \n",
       "2          NaN  \n",
       "3          NaN  \n",
       "4          NaN  "
      ]
     },
     "execution_count": 9,
     "metadata": {},
     "output_type": "execute_result"
    }
   ],
   "source": [
    "kbo.head()"
   ]
  },
  {
   "cell_type": "code",
   "execution_count": 10,
   "id": "85ca1bbc",
   "metadata": {
    "ExecuteTime": {
     "end_time": "2023-03-02T07:03:26.365021Z",
     "start_time": "2023-03-02T07:03:26.349967Z"
    }
   },
   "outputs": [
    {
     "data": {
      "text/plain": [
       "(78, 34)"
      ]
     },
     "execution_count": 10,
     "metadata": {},
     "output_type": "execute_result"
    }
   ],
   "source": [
    "kbo.shape"
   ]
  },
  {
   "cell_type": "code",
   "execution_count": 11,
   "id": "9f7e8026",
   "metadata": {
    "ExecuteTime": {
     "end_time": "2023-03-02T07:03:26.520777Z",
     "start_time": "2023-03-02T07:03:26.507263Z"
    }
   },
   "outputs": [
    {
     "data": {
      "text/plain": [
       "(76, 25)"
      ]
     },
     "execution_count": 11,
     "metadata": {},
     "output_type": "execute_result"
    }
   ],
   "source": [
    "minor.shape"
   ]
  },
  {
   "cell_type": "code",
   "execution_count": 12,
   "id": "e8b7f271",
   "metadata": {
    "ExecuteTime": {
     "end_time": "2023-03-02T07:03:29.179093Z",
     "start_time": "2023-03-02T07:03:29.163545Z"
    }
   },
   "outputs": [],
   "source": [
    "#minor[\"age\"] = kbo[\"나이\"]"
   ]
  },
  {
   "cell_type": "code",
   "execution_count": 13,
   "id": "0babddb1",
   "metadata": {
    "ExecuteTime": {
     "end_time": "2023-03-02T07:03:29.706699Z",
     "start_time": "2023-03-02T07:03:29.658408Z"
    }
   },
   "outputs": [
    {
     "data": {
      "text/html": [
       "<div>\n",
       "<style scoped>\n",
       "    .dataframe tbody tr th:only-of-type {\n",
       "        vertical-align: middle;\n",
       "    }\n",
       "\n",
       "    .dataframe tbody tr th {\n",
       "        vertical-align: top;\n",
       "    }\n",
       "\n",
       "    .dataframe thead th {\n",
       "        text-align: right;\n",
       "    }\n",
       "</style>\n",
       "<table border=\"1\" class=\"dataframe\">\n",
       "  <thead>\n",
       "    <tr style=\"text-align: right;\">\n",
       "      <th></th>\n",
       "      <th>KBO_팀순위</th>\n",
       "      <th>이름</th>\n",
       "      <th>수비율</th>\n",
       "      <th>연봉</th>\n",
       "      <th>재계약여부</th>\n",
       "      <th>나이</th>\n",
       "      <th>P</th>\n",
       "      <th>G</th>\n",
       "      <th>타석</th>\n",
       "      <th>타수</th>\n",
       "      <th>득점</th>\n",
       "      <th>안타</th>\n",
       "      <th>2타</th>\n",
       "      <th>3타</th>\n",
       "      <th>홈런</th>\n",
       "      <th>루타</th>\n",
       "      <th>타점</th>\n",
       "      <th>도루</th>\n",
       "      <th>도실</th>\n",
       "      <th>볼넷</th>\n",
       "      <th>사구</th>\n",
       "      <th>고4</th>\n",
       "      <th>삼진</th>\n",
       "      <th>병살</th>\n",
       "      <th>희타</th>\n",
       "      <th>희비</th>\n",
       "      <th>타율</th>\n",
       "      <th>출루</th>\n",
       "      <th>장타</th>\n",
       "      <th>OPS</th>\n",
       "      <th>wOBA</th>\n",
       "      <th>wRC+</th>\n",
       "      <th>WAR</th>\n",
       "      <th>Unnamed: 35</th>\n",
       "    </tr>\n",
       "  </thead>\n",
       "  <tbody>\n",
       "    <tr>\n",
       "      <th>0</th>\n",
       "      <td>1.0</td>\n",
       "      <td>야마이코 나바로</td>\n",
       "      <td>0.987</td>\n",
       "      <td>25000.0</td>\n",
       "      <td>1.0</td>\n",
       "      <td>27.0</td>\n",
       "      <td>2B</td>\n",
       "      <td>125.0</td>\n",
       "      <td>602.0</td>\n",
       "      <td>500.0</td>\n",
       "      <td>118.0</td>\n",
       "      <td>154.0</td>\n",
       "      <td>27.0</td>\n",
       "      <td>1.0</td>\n",
       "      <td>31.0</td>\n",
       "      <td>276.0</td>\n",
       "      <td>98.0</td>\n",
       "      <td>25.0</td>\n",
       "      <td>9.0</td>\n",
       "      <td>96.0</td>\n",
       "      <td>1.0</td>\n",
       "      <td>1.0</td>\n",
       "      <td>71.0</td>\n",
       "      <td>7.0</td>\n",
       "      <td>0.0</td>\n",
       "      <td>5.0</td>\n",
       "      <td>0.308</td>\n",
       "      <td>0.417</td>\n",
       "      <td>0.552</td>\n",
       "      <td>0.969</td>\n",
       "      <td>0.424</td>\n",
       "      <td>139.2</td>\n",
       "      <td>6.23</td>\n",
       "      <td>NaN</td>\n",
       "    </tr>\n",
       "    <tr>\n",
       "      <th>1</th>\n",
       "      <td>6.0</td>\n",
       "      <td>호르헤 칸투</td>\n",
       "      <td>0.994</td>\n",
       "      <td>30000.0</td>\n",
       "      <td>0.0</td>\n",
       "      <td>32.0</td>\n",
       "      <td>1B</td>\n",
       "      <td>111.0</td>\n",
       "      <td>419.0</td>\n",
       "      <td>376.0</td>\n",
       "      <td>56.0</td>\n",
       "      <td>116.0</td>\n",
       "      <td>25.0</td>\n",
       "      <td>1.0</td>\n",
       "      <td>18.0</td>\n",
       "      <td>197.0</td>\n",
       "      <td>72.0</td>\n",
       "      <td>1.0</td>\n",
       "      <td>0.0</td>\n",
       "      <td>34.0</td>\n",
       "      <td>7.0</td>\n",
       "      <td>0.0</td>\n",
       "      <td>85.0</td>\n",
       "      <td>11.0</td>\n",
       "      <td>0.0</td>\n",
       "      <td>2.0</td>\n",
       "      <td>0.309</td>\n",
       "      <td>0.375</td>\n",
       "      <td>0.524</td>\n",
       "      <td>0.899</td>\n",
       "      <td>0.395</td>\n",
       "      <td>134.8</td>\n",
       "      <td>3.10</td>\n",
       "      <td>NaN</td>\n",
       "    </tr>\n",
       "    <tr>\n",
       "      <th>2</th>\n",
       "      <td>4.0</td>\n",
       "      <td>조쉬 벨</td>\n",
       "      <td>0.981</td>\n",
       "      <td>25000.0</td>\n",
       "      <td>0.0</td>\n",
       "      <td>28.0</td>\n",
       "      <td>3B</td>\n",
       "      <td>63.0</td>\n",
       "      <td>275.0</td>\n",
       "      <td>240.0</td>\n",
       "      <td>33.0</td>\n",
       "      <td>64.0</td>\n",
       "      <td>8.0</td>\n",
       "      <td>1.0</td>\n",
       "      <td>10.0</td>\n",
       "      <td>104.0</td>\n",
       "      <td>39.0</td>\n",
       "      <td>3.0</td>\n",
       "      <td>0.0</td>\n",
       "      <td>30.0</td>\n",
       "      <td>1.0</td>\n",
       "      <td>1.0</td>\n",
       "      <td>56.0</td>\n",
       "      <td>10.0</td>\n",
       "      <td>0.0</td>\n",
       "      <td>4.0</td>\n",
       "      <td>0.267</td>\n",
       "      <td>0.346</td>\n",
       "      <td>0.433</td>\n",
       "      <td>0.779</td>\n",
       "      <td>0.347</td>\n",
       "      <td>101.6</td>\n",
       "      <td>1.47</td>\n",
       "      <td>NaN</td>\n",
       "    </tr>\n",
       "    <tr>\n",
       "      <th>3</th>\n",
       "      <td>4.0</td>\n",
       "      <td>브래드 스나이더</td>\n",
       "      <td>1.000</td>\n",
       "      <td>15000.0</td>\n",
       "      <td>0.0</td>\n",
       "      <td>32.0</td>\n",
       "      <td>CF</td>\n",
       "      <td>37.0</td>\n",
       "      <td>113.0</td>\n",
       "      <td>100.0</td>\n",
       "      <td>17.0</td>\n",
       "      <td>21.0</td>\n",
       "      <td>7.0</td>\n",
       "      <td>0.0</td>\n",
       "      <td>4.0</td>\n",
       "      <td>40.0</td>\n",
       "      <td>17.0</td>\n",
       "      <td>0.0</td>\n",
       "      <td>2.0</td>\n",
       "      <td>9.0</td>\n",
       "      <td>3.0</td>\n",
       "      <td>0.0</td>\n",
       "      <td>31.0</td>\n",
       "      <td>0.0</td>\n",
       "      <td>0.0</td>\n",
       "      <td>1.0</td>\n",
       "      <td>0.210</td>\n",
       "      <td>0.292</td>\n",
       "      <td>0.400</td>\n",
       "      <td>0.692</td>\n",
       "      <td>0.308</td>\n",
       "      <td>76.2</td>\n",
       "      <td>0.14</td>\n",
       "      <td>NaN</td>\n",
       "    </tr>\n",
       "    <tr>\n",
       "      <th>4</th>\n",
       "      <td>2.0</td>\n",
       "      <td>비니 로티노</td>\n",
       "      <td>0.987</td>\n",
       "      <td>27000.0</td>\n",
       "      <td>0.0</td>\n",
       "      <td>34.0</td>\n",
       "      <td>LF</td>\n",
       "      <td>79.0</td>\n",
       "      <td>247.0</td>\n",
       "      <td>216.0</td>\n",
       "      <td>30.0</td>\n",
       "      <td>66.0</td>\n",
       "      <td>18.0</td>\n",
       "      <td>0.0</td>\n",
       "      <td>2.0</td>\n",
       "      <td>90.0</td>\n",
       "      <td>22.0</td>\n",
       "      <td>2.0</td>\n",
       "      <td>0.0</td>\n",
       "      <td>29.0</td>\n",
       "      <td>1.0</td>\n",
       "      <td>3.0</td>\n",
       "      <td>22.0</td>\n",
       "      <td>7.0</td>\n",
       "      <td>0.0</td>\n",
       "      <td>1.0</td>\n",
       "      <td>0.306</td>\n",
       "      <td>0.389</td>\n",
       "      <td>0.417</td>\n",
       "      <td>0.805</td>\n",
       "      <td>0.368</td>\n",
       "      <td>104.1</td>\n",
       "      <td>1.11</td>\n",
       "      <td>NaN</td>\n",
       "    </tr>\n",
       "  </tbody>\n",
       "</table>\n",
       "</div>"
      ],
      "text/plain": [
       "   KBO_팀순위        이름    수비율       연봉  재계약여부    나이   P      G     타석     타수  \\\n",
       "0      1.0  야마이코 나바로  0.987  25000.0    1.0  27.0  2B  125.0  602.0  500.0   \n",
       "1      6.0    호르헤 칸투  0.994  30000.0    0.0  32.0  1B  111.0  419.0  376.0   \n",
       "2      4.0      조쉬 벨  0.981  25000.0    0.0  28.0  3B   63.0  275.0  240.0   \n",
       "3      4.0  브래드 스나이더  1.000  15000.0    0.0  32.0  CF   37.0  113.0  100.0   \n",
       "4      2.0    비니 로티노  0.987  27000.0    0.0  34.0  LF   79.0  247.0  216.0   \n",
       "\n",
       "      득점     안타    2타   3타    홈런     루타    타점    도루   도실    볼넷   사구   고4  \\\n",
       "0  118.0  154.0  27.0  1.0  31.0  276.0  98.0  25.0  9.0  96.0  1.0  1.0   \n",
       "1   56.0  116.0  25.0  1.0  18.0  197.0  72.0   1.0  0.0  34.0  7.0  0.0   \n",
       "2   33.0   64.0   8.0  1.0  10.0  104.0  39.0   3.0  0.0  30.0  1.0  1.0   \n",
       "3   17.0   21.0   7.0  0.0   4.0   40.0  17.0   0.0  2.0   9.0  3.0  0.0   \n",
       "4   30.0   66.0  18.0  0.0   2.0   90.0  22.0   2.0  0.0  29.0  1.0  3.0   \n",
       "\n",
       "     삼진    병살   희타   희비     타율     출루     장타    OPS   wOBA   wRC+   WAR  \\\n",
       "0  71.0   7.0  0.0  5.0  0.308  0.417  0.552  0.969  0.424  139.2  6.23   \n",
       "1  85.0  11.0  0.0  2.0  0.309  0.375  0.524  0.899  0.395  134.8  3.10   \n",
       "2  56.0  10.0  0.0  4.0  0.267  0.346  0.433  0.779  0.347  101.6  1.47   \n",
       "3  31.0   0.0  0.0  1.0  0.210  0.292  0.400  0.692  0.308   76.2  0.14   \n",
       "4  22.0   7.0  0.0  1.0  0.306  0.389  0.417  0.805  0.368  104.1  1.11   \n",
       "\n",
       "   Unnamed: 35  \n",
       "0          NaN  \n",
       "1          NaN  \n",
       "2          NaN  \n",
       "3          NaN  \n",
       "4          NaN  "
      ]
     },
     "execution_count": 13,
     "metadata": {},
     "output_type": "execute_result"
    }
   ],
   "source": [
    "kbo.head()"
   ]
  },
  {
   "cell_type": "markdown",
   "id": "c82e7381",
   "metadata": {},
   "source": [
    "# kbo 입단 시즌 성적으로 재계약 여부 확인"
   ]
  },
  {
   "cell_type": "code",
   "execution_count": 13,
   "id": "60c8d4f8",
   "metadata": {
    "ExecuteTime": {
     "end_time": "2023-02-28T04:21:32.312502Z",
     "start_time": "2023-02-28T04:21:32.293507Z"
    }
   },
   "outputs": [],
   "source": [
    "X_data = kbo.drop(columns = [\"이름\",\"P\",\"재계약여부\"])\n",
    "y_data = kbo[\"재계약여부\"]"
   ]
  },
  {
   "cell_type": "code",
   "execution_count": 14,
   "id": "f18e6933",
   "metadata": {
    "ExecuteTime": {
     "end_time": "2023-02-28T04:21:35.815738Z",
     "start_time": "2023-02-28T04:21:32.879343Z"
    }
   },
   "outputs": [],
   "source": [
    "from xgboost import XGBClassifier\n",
    "from sklearn.linear_model import LogisticRegression\n",
    "from sklearn.svm import SVC\n",
    "from catboost import CatBoostClassifier\n",
    "from lightgbm import LGBMClassifier\n",
    "from sklearn.model_selection import cross_val_predict\n",
    "from sklearn.model_selection import cross_val_score\n",
    "from sklearn.metrics import classification_report\n",
    "from sklearn.metrics import roc_auc_score\n",
    "from sklearn.model_selection import KFold\n",
    "import warnings\n",
    "warnings.filterwarnings(action='ignore')\n",
    "\n",
    "kfold = KFold(n_splits=5, shuffle=True,random_state=2732)\n",
    "xgb = XGBClassifier()\n",
    "cat = CatBoostClassifier(verbose = 0)\n",
    "lgbm = LGBMClassifier()\n",
    "lr = LogisticRegression()\n",
    "svc = SVC()"
   ]
  },
  {
   "cell_type": "code",
   "execution_count": 135,
   "id": "c0534812",
   "metadata": {},
   "outputs": [
    {
     "name": "stdout",
     "output_type": "stream",
     "text": [
      "xgb_kbo_입단시즌 5-folds accuracy : [0.78571429 0.92307692 0.92307692 0.92307692 0.61538462], mean : 0.8340659340659343\n",
      "cat_kbo_입단시즌 5-folds accuracy : [0.78571429 0.84615385 0.92307692 1.         0.61538462], mean : 0.834065934065934\n",
      "lgbm_kbo_입단시즌 5-folds accuracy : [0.78571429 0.84615385 0.92307692 0.92307692 0.69230769], mean : 0.8340659340659341\n",
      "lr_kbo_입단시즌 5-folds accuracy : [0.71428571 0.84615385 1.         0.92307692 0.76923077], mean : 0.8505494505494505\n",
      "svm_kbo_입단시즌 5-folds accuracy : [0.57142857 0.76923077 0.61538462 0.69230769 0.53846154], mean : 0.6373626373626374\n"
     ]
    }
   ],
   "source": [
    "print(f\"xgb_kbo_입단시즌 5-folds accuracy : {cross_val_score(xgb, X_data, y_data, cv=kfold)}, mean : {cross_val_score(xgb, X_data, y_data, cv=kfold).mean()}\")\n",
    "print(f\"cat_kbo_입단시즌 5-folds accuracy : {cross_val_score(cat, X_data, y_data, cv=kfold)}, mean : {cross_val_score(cat, X_data, y_data, cv=kfold).mean()}\")\n",
    "print(f\"lgbm_kbo_입단시즌 5-folds accuracy : {cross_val_score(lgbm, X_data, y_data, cv=kfold)}, mean : {cross_val_score(lgbm, X_data, y_data, cv=kfold).mean()}\")\n",
    "print(f\"lr_kbo_입단시즌 5-folds accuracy : {cross_val_score(lr, X_data, y_data, cv=kfold)}, mean : {cross_val_score(lr, X_data, y_data, cv=kfold).mean()}\")\n",
    "print(f\"svm_kbo_입단시즌 5-folds accuracy : {cross_val_score(svc, X_data, y_data, cv=kfold)}, mean : {cross_val_score(svc, X_data, y_data, cv=kfold).mean()}\")\n",
    "\n"
   ]
  },
  {
   "cell_type": "code",
   "execution_count": 15,
   "id": "91318e71",
   "metadata": {
    "ExecuteTime": {
     "end_time": "2023-02-28T04:24:12.166971Z",
     "start_time": "2023-02-28T04:23:54.005437Z"
    }
   },
   "outputs": [
    {
     "name": "stdout",
     "output_type": "stream",
     "text": [
      "xgb_kbo_입단시즌 5-folds precision : [0.8        1.         1.         1.         0.55555556], mean : 0.8711111111111111\n",
      "cat_kbo_입단시즌 5-folds precision : [0.8        0.66666667 1.         1.         0.55555556], mean : 0.8044444444444444\n",
      "lgbm_kbo_입단시즌 5-folds precision : [0.8        0.66666667 1.         1.         0.625     ], mean : 0.8183333333333334\n",
      "lr_kbo_입단시즌 5-folds precision : [0.75       1.         1.         1.         0.71428571], mean : 0.8928571428571429\n",
      "svm_kbo_입단시즌 5-folds precision : [0. 0. 0. 0. 0.], mean : 0.0\n"
     ]
    }
   ],
   "source": [
    "precision = \"precision\"\n",
    "\n",
    "print(f\"xgb_kbo_입단시즌 5-folds precision : {cross_val_score(xgb, X_data, y_data, cv=kfold, scoring=precision)}, mean : {cross_val_score(xgb, X_data, y_data, cv=kfold, scoring=precision).mean()}\")\n",
    "print(f\"cat_kbo_입단시즌 5-folds precision : {cross_val_score(cat, X_data, y_data, cv=kfold, scoring=precision)}, mean : {cross_val_score(cat, X_data, y_data, cv=kfold, scoring=precision).mean()}\")\n",
    "print(f\"lgbm_kbo_입단시즌 5-folds precision : {cross_val_score(lgbm, X_data, y_data, cv=kfold, scoring=precision)}, mean : {cross_val_score(lgbm, X_data, y_data, cv=kfold, scoring=precision).mean()}\")\n",
    "print(f\"lr_kbo_입단시즌 5-folds precision : {cross_val_score(lr, X_data, y_data, cv=kfold, scoring=precision)}, mean : {cross_val_score(lr, X_data, y_data, cv=kfold, scoring=precision).mean()}\")\n",
    "print(f\"svm_kbo_입단시즌 5-folds precision : {cross_val_score(svc, X_data, y_data, cv=kfold, scoring=precision)}, mean : {cross_val_score(svc, X_data, y_data, cv=kfold, scoring=precision).mean()}\")\n",
    "\n"
   ]
  },
  {
   "cell_type": "code",
   "execution_count": 136,
   "id": "e59e78cf",
   "metadata": {},
   "outputs": [
    {
     "name": "stdout",
     "output_type": "stream",
     "text": [
      "xgb_kbo_입단시즌 5-folds f1 : [0.72727273 0.8        0.88888889 0.85714286 0.66666667], mean : 0.787994227994228\n",
      "cat_kbo_입단시즌 5-folds f1 : [0.72727273 0.66666667 0.88888889 1.         0.66666667], mean : 0.78989898989899\n",
      "lgbm_kbo_입단시즌 5-folds f1 : [0.72727273 0.66666667 0.88888889 0.85714286 0.71428571], mean : 0.7708513708513709\n",
      "lr_kbo_입단시즌 5-folds f1 : [0.6        0.5        1.         0.85714286 0.76923077], mean : 0.7452747252747253\n",
      "svm_kbo_입단시즌 5-folds f1 : [0. 0. 0. 0. 0.], mean : 0.0\n"
     ]
    }
   ],
   "source": [
    "f1 = \"f1\"\n",
    "\n",
    "print(f\"xgb_kbo_입단시즌 5-folds f1 : {cross_val_score(xgb, X_data, y_data, cv=kfold, scoring = f1)}, mean : {cross_val_score(xgb, X_data, y_data, cv=kfold, scoring = f1).mean()}\")\n",
    "print(f\"cat_kbo_입단시즌 5-folds f1 : {cross_val_score(cat, X_data, y_data, cv=kfold, scoring = f1)}, mean : {cross_val_score(cat, X_data, y_data, cv=kfold, scoring = f1).mean()}\")\n",
    "print(f\"lgbm_kbo_입단시즌 5-folds f1 : {cross_val_score(lgbm, X_data, y_data, cv=kfold, scoring = f1)}, mean : {cross_val_score(lgbm, X_data, y_data, cv=kfold, scoring = f1).mean()}\")\n",
    "print(f\"lr_kbo_입단시즌 5-folds f1 : {cross_val_score(lr, X_data, y_data, cv=kfold, scoring = f1)}, mean : {cross_val_score(lr, X_data, y_data, cv=kfold, scoring = f1).mean()}\")\n",
    "print(f\"svm_kbo_입단시즌 5-folds f1 : {cross_val_score(svc, X_data, y_data, cv=kfold, scoring = f1)}, mean : {cross_val_score(svc, X_data, y_data, cv=kfold, scoring = f1).mean()}\")\n",
    "\n"
   ]
  },
  {
   "cell_type": "code",
   "execution_count": 137,
   "id": "99055506",
   "metadata": {},
   "outputs": [
    {
     "name": "stdout",
     "output_type": "stream",
     "text": [
      "xgb_kbo_입단시즌 5-folds roc_auc : [0.95833333 0.9        1.         1.         0.79761905], mean : 0.9311904761904761\n",
      "cat_kbo_입단시즌 5-folds roc_auc : [0.91666667 0.93333333 1.         1.         0.73809524], mean : 0.9176190476190478\n",
      "lgbm_kbo_입단시즌 5-folds roc_auc : [0.95833333 0.93333333 1.         1.         0.85714286], mean : 0.9497619047619047\n",
      "lr_kbo_입단시즌 5-folds roc_auc : [0.8125     0.9        1.         1.         0.83333333], mean : 0.9091666666666667\n",
      "svm_kbo_입단시즌 5-folds roc_auc : [0.64583333 0.8        0.7        0.75       0.45238095], mean : 0.6696428571428571\n"
     ]
    }
   ],
   "source": [
    "roc_auc = \"roc_auc\"\n",
    "\n",
    "print(f\"xgb_kbo_입단시즌 5-folds roc_auc : {cross_val_score(xgb, X_data, y_data, cv=kfold, scoring = roc_auc)}, mean : {cross_val_score(xgb, X_data, y_data, cv=kfold, scoring = roc_auc).mean()}\")\n",
    "print(f\"cat_kbo_입단시즌 5-folds roc_auc : {cross_val_score(cat, X_data, y_data, cv=kfold, scoring = roc_auc)}, mean : {cross_val_score(cat, X_data, y_data, cv=kfold, scoring = roc_auc).mean()}\")\n",
    "print(f\"lgbm_kbo_입단시즌 5-folds roc_auc : {cross_val_score(lgbm, X_data, y_data, cv=kfold, scoring = roc_auc)}, mean : {cross_val_score(lgbm, X_data, y_data, cv=kfold, scoring = roc_auc).mean()}\")\n",
    "print(f\"lr_kbo_입단시즌 5-folds roc_auc : {cross_val_score(lr, X_data, y_data, cv=kfold, scoring = roc_auc)}, mean : {cross_val_score(lr, X_data, y_data, cv=kfold, scoring = roc_auc).mean()}\")\n",
    "print(f\"svm_kbo_입단시즌 5-folds roc_auc : {cross_val_score(svc, X_data, y_data, cv=kfold, scoring = roc_auc)}, mean : {cross_val_score(svc, X_data, y_data, cv=kfold, scoring = roc_auc).mean()}\")\n"
   ]
  },
  {
   "cell_type": "markdown",
   "id": "50e5a4d8",
   "metadata": {},
   "source": [
    "# 마이너리그 성적으로 재계약 여부 확인"
   ]
  },
  {
   "cell_type": "code",
   "execution_count": 14,
   "id": "8c3539c4",
   "metadata": {
    "ExecuteTime": {
     "end_time": "2023-03-02T07:03:34.467889Z",
     "start_time": "2023-03-02T07:03:34.454379Z"
    }
   },
   "outputs": [],
   "source": [
    "X_data = minor.drop(columns = [\"이름\",\"재계약여부\"])\n",
    "y_data = minor[\"재계약여부\"]"
   ]
  },
  {
   "cell_type": "code",
   "execution_count": 15,
   "id": "486dfff1",
   "metadata": {
    "ExecuteTime": {
     "end_time": "2023-03-02T07:03:34.984560Z",
     "start_time": "2023-03-02T07:03:34.968511Z"
    }
   },
   "outputs": [],
   "source": [
    "y_data = y_data[X_data[\"G\"].notnull()].reset_index(drop = True)\n",
    "X_data = X_data.dropna(axis=0).reset_index(drop = True)"
   ]
  },
  {
   "cell_type": "code",
   "execution_count": 16,
   "id": "1dbb3ead",
   "metadata": {
    "ExecuteTime": {
     "end_time": "2023-03-02T07:03:35.575560Z",
     "start_time": "2023-03-02T07:03:35.555522Z"
    }
   },
   "outputs": [
    {
     "data": {
      "text/plain": [
       "0    48\n",
       "1    28\n",
       "Name: 재계약여부, dtype: int64"
      ]
     },
     "execution_count": 16,
     "metadata": {},
     "output_type": "execute_result"
    }
   ],
   "source": [
    "y_data.value_counts()"
   ]
  },
  {
   "cell_type": "code",
   "execution_count": 17,
   "id": "e03f8119",
   "metadata": {
    "ExecuteTime": {
     "end_time": "2023-03-02T07:03:50.174074Z",
     "start_time": "2023-03-02T07:03:50.159489Z"
    }
   },
   "outputs": [
    {
     "data": {
      "text/plain": [
       "65.45"
      ]
     },
     "execution_count": 17,
     "metadata": {},
     "output_type": "execute_result"
    }
   ],
   "source": [
    "77*0.85"
   ]
  },
  {
   "cell_type": "code",
   "execution_count": 18,
   "id": "4994d1ad",
   "metadata": {
    "ExecuteTime": {
     "end_time": "2023-03-02T07:04:07.408652Z",
     "start_time": "2023-03-02T07:04:03.861906Z"
    }
   },
   "outputs": [],
   "source": [
    "from xgboost import XGBClassifier\n",
    "from sklearn.linear_model import LogisticRegression\n",
    "from sklearn.svm import SVC\n",
    "from catboost import CatBoostClassifier\n",
    "from lightgbm import LGBMClassifier\n",
    "from sklearn.model_selection import cross_val_predict\n",
    "from sklearn.model_selection import cross_val_score\n",
    "from sklearn.metrics import classification_report\n",
    "from sklearn.model_selection import KFold\n",
    "import warnings\n",
    "warnings.filterwarnings(action='ignore')\n",
    "\n",
    "kfold = KFold(n_splits=5, shuffle=True,random_state=2732)\n",
    "xgb = XGBClassifier()\n",
    "cat = CatBoostClassifier(verbose = 0)\n",
    "lgbm = LGBMClassifier()\n",
    "lr = LogisticRegression()\n",
    "svc = SVC()"
   ]
  },
  {
   "cell_type": "code",
   "execution_count": 20,
   "id": "6a656222",
   "metadata": {
    "ExecuteTime": {
     "end_time": "2023-03-02T07:05:35.364874Z",
     "start_time": "2023-03-02T07:05:35.262112Z"
    }
   },
   "outputs": [
    {
     "data": {
      "text/html": [
       "<div>\n",
       "<style scoped>\n",
       "    .dataframe tbody tr th:only-of-type {\n",
       "        vertical-align: middle;\n",
       "    }\n",
       "\n",
       "    .dataframe tbody tr th {\n",
       "        vertical-align: top;\n",
       "    }\n",
       "\n",
       "    .dataframe thead th {\n",
       "        text-align: right;\n",
       "    }\n",
       "</style>\n",
       "<table border=\"1\" class=\"dataframe\">\n",
       "  <thead>\n",
       "    <tr style=\"text-align: right;\">\n",
       "      <th></th>\n",
       "      <th>label</th>\n",
       "      <th>predict</th>\n",
       "    </tr>\n",
       "  </thead>\n",
       "  <tbody>\n",
       "    <tr>\n",
       "      <th>0</th>\n",
       "      <td>1</td>\n",
       "      <td>0</td>\n",
       "    </tr>\n",
       "    <tr>\n",
       "      <th>1</th>\n",
       "      <td>0</td>\n",
       "      <td>0</td>\n",
       "    </tr>\n",
       "    <tr>\n",
       "      <th>2</th>\n",
       "      <td>0</td>\n",
       "      <td>0</td>\n",
       "    </tr>\n",
       "    <tr>\n",
       "      <th>3</th>\n",
       "      <td>0</td>\n",
       "      <td>1</td>\n",
       "    </tr>\n",
       "    <tr>\n",
       "      <th>4</th>\n",
       "      <td>0</td>\n",
       "      <td>0</td>\n",
       "    </tr>\n",
       "    <tr>\n",
       "      <th>...</th>\n",
       "      <td>...</td>\n",
       "      <td>...</td>\n",
       "    </tr>\n",
       "    <tr>\n",
       "      <th>71</th>\n",
       "      <td>0</td>\n",
       "      <td>0</td>\n",
       "    </tr>\n",
       "    <tr>\n",
       "      <th>72</th>\n",
       "      <td>0</td>\n",
       "      <td>0</td>\n",
       "    </tr>\n",
       "    <tr>\n",
       "      <th>73</th>\n",
       "      <td>1</td>\n",
       "      <td>0</td>\n",
       "    </tr>\n",
       "    <tr>\n",
       "      <th>74</th>\n",
       "      <td>1</td>\n",
       "      <td>0</td>\n",
       "    </tr>\n",
       "    <tr>\n",
       "      <th>75</th>\n",
       "      <td>0</td>\n",
       "      <td>0</td>\n",
       "    </tr>\n",
       "  </tbody>\n",
       "</table>\n",
       "<p>76 rows × 2 columns</p>\n",
       "</div>"
      ],
      "text/plain": [
       "    label  predict\n",
       "0       1        0\n",
       "1       0        0\n",
       "2       0        0\n",
       "3       0        1\n",
       "4       0        0\n",
       "..    ...      ...\n",
       "71      0        0\n",
       "72      0        0\n",
       "73      1        0\n",
       "74      1        0\n",
       "75      0        0\n",
       "\n",
       "[76 rows x 2 columns]"
      ]
     },
     "execution_count": 20,
     "metadata": {},
     "output_type": "execute_result"
    }
   ],
   "source": [
    "temp = pd.DataFrame({\"label\" : y_data,\n",
    "                    \"predict\": cross_val_predict(lr,X_data,y_data)})\n",
    "temp"
   ]
  },
  {
   "cell_type": "code",
   "execution_count": 25,
   "id": "820d974d",
   "metadata": {
    "ExecuteTime": {
     "end_time": "2023-03-02T07:06:51.399372Z",
     "start_time": "2023-03-02T07:06:51.380288Z"
    }
   },
   "outputs": [
    {
     "data": {
      "text/plain": [
       "0    43\n",
       "1    33\n",
       "Name: predict, dtype: int64"
      ]
     },
     "execution_count": 25,
     "metadata": {},
     "output_type": "execute_result"
    }
   ],
   "source": [
    "temp[\"predict\"].value_counts()"
   ]
  },
  {
   "cell_type": "code",
   "execution_count": 29,
   "id": "30a1eb57",
   "metadata": {
    "ExecuteTime": {
     "end_time": "2023-03-02T07:08:29.856122Z",
     "start_time": "2023-03-02T07:08:29.844590Z"
    }
   },
   "outputs": [
    {
     "data": {
      "text/plain": [
       "15"
      ]
     },
     "execution_count": 29,
     "metadata": {},
     "output_type": "execute_result"
    }
   ],
   "source": [
    "len(temp[(temp[\"predict\"] == 1) &\n",
    "    (temp[\"label\"] == temp[\"predict\"])])"
   ]
  },
  {
   "cell_type": "code",
   "execution_count": 32,
   "id": "6699c716",
   "metadata": {
    "ExecuteTime": {
     "end_time": "2023-03-02T07:13:31.633233Z",
     "start_time": "2023-03-02T07:13:31.625227Z"
    }
   },
   "outputs": [
    {
     "data": {
      "text/plain": [
       "0.36363636363636365"
      ]
     },
     "execution_count": 32,
     "metadata": {},
     "output_type": "execute_result"
    }
   ],
   "source": [
    "28/77"
   ]
  },
  {
   "cell_type": "code",
   "execution_count": 24,
   "id": "12461203",
   "metadata": {
    "ExecuteTime": {
     "end_time": "2023-03-02T07:06:16.654282Z",
     "start_time": "2023-03-02T07:06:16.639867Z"
    }
   },
   "outputs": [
    {
     "data": {
      "text/plain": [
       "45"
      ]
     },
     "execution_count": 24,
     "metadata": {},
     "output_type": "execute_result"
    }
   ],
   "source": [
    "(temp[\"label\"] == temp[\"predict\"]).sum()"
   ]
  },
  {
   "cell_type": "code",
   "execution_count": 50,
   "id": "1366413d",
   "metadata": {
    "ExecuteTime": {
     "end_time": "2023-02-28T05:05:04.461296Z",
     "start_time": "2023-02-28T05:04:47.689766Z"
    }
   },
   "outputs": [
    {
     "name": "stdout",
     "output_type": "stream",
     "text": [
      "xgb_마이너리그 5-folds accuracy : [0.625      0.46666667 0.6        0.53333333 0.6       ], mean : 0.5650000000000001\n",
      "cat_마이너리그 5-folds accuracy : [0.625      0.53333333 0.53333333 0.4        0.53333333], mean : 0.5249999999999999\n",
      "lgbm_마이너리그 5-folds accuracy : [0.625      0.46666667 0.53333333 0.46666667 0.73333333], mean : 0.5650000000000001\n",
      "lr_마이너리그 5-folds accuracy : [0.6875     0.66666667 0.46666667 0.46666667 0.66666667], mean : 0.5908333333333333\n",
      "svm_마이너리그 5-folds accuracy : [0.6875     0.66666667 0.46666667 0.4        0.66666667], mean : 0.5774999999999999\n"
     ]
    }
   ],
   "source": [
    "print(f\"xgb_마이너리그 5-folds accuracy : {cross_val_score(xgb, X_data, y_data, cv=kfold)}, mean : {cross_val_score(xgb, X_data, y_data, cv=kfold).mean()}\")\n",
    "print(f\"cat_마이너리그 5-folds accuracy : {cross_val_score(cat, X_data, y_data, cv=kfold)}, mean : {cross_val_score(cat, X_data, y_data, cv=kfold).mean()}\")\n",
    "print(f\"lgbm_마이너리그 5-folds accuracy : {cross_val_score(lgbm, X_data, y_data, cv=kfold)}, mean : {cross_val_score(lgbm, X_data, y_data, cv=kfold).mean()}\")\n",
    "print(f\"lr_마이너리그 5-folds accuracy : {cross_val_score(lr, X_data, y_data, cv=kfold)}, mean : {cross_val_score(lr, X_data, y_data, cv=kfold).mean()}\")\n",
    "print(f\"svm_마이너리그 5-folds accuracy : {cross_val_score(svc, X_data, y_data, cv=kfold)}, mean : {cross_val_score(svc, X_data, y_data, cv=kfold).mean()}\")\n",
    "\n"
   ]
  },
  {
   "cell_type": "code",
   "execution_count": 51,
   "id": "94929cec",
   "metadata": {
    "ExecuteTime": {
     "end_time": "2023-02-28T05:05:21.052441Z",
     "start_time": "2023-02-28T05:05:04.463286Z"
    }
   },
   "outputs": [
    {
     "name": "stdout",
     "output_type": "stream",
     "text": [
      "xgb_kbo_입단시즌 5-folds precision : [0.42857143 0.2        0.25       1.         0.4       ], mean : 0.4557142857142857\n",
      "cat_kbo_입단시즌 5-folds precision : [0.4  0.25 0.2  0.   0.25], mean : 0.22000000000000003\n",
      "lgbm_kbo_입단시즌 5-folds precision : [0.42857143 0.         0.2        1.         0.6       ], mean : 0.44571428571428573\n",
      "lr_kbo_입단시즌 5-folds precision : [0.5        0.5        0.25       0.66666667 0.5       ], mean : 0.4833333333333333\n",
      "svm_kbo_입단시즌 5-folds precision : [0. 0. 0. 0. 0.], mean : 0.0\n"
     ]
    }
   ],
   "source": [
    "precision = \"precision\"\n",
    "\n",
    "print(f\"xgb_kbo_입단시즌 5-folds precision : {cross_val_score(xgb, X_data, y_data, cv=kfold, scoring=precision)}, mean : {cross_val_score(xgb, X_data, y_data, cv=kfold, scoring=precision).mean()}\")\n",
    "print(f\"cat_kbo_입단시즌 5-folds precision : {cross_val_score(cat, X_data, y_data, cv=kfold, scoring=precision)}, mean : {cross_val_score(cat, X_data, y_data, cv=kfold, scoring=precision).mean()}\")\n",
    "print(f\"lgbm_kbo_입단시즌 5-folds precision : {cross_val_score(lgbm, X_data, y_data, cv=kfold, scoring=precision)}, mean : {cross_val_score(lgbm, X_data, y_data, cv=kfold, scoring=precision).mean()}\")\n",
    "print(f\"lr_kbo_입단시즌 5-folds precision : {cross_val_score(lr, X_data, y_data, cv=kfold, scoring=precision)}, mean : {cross_val_score(lr, X_data, y_data, cv=kfold, scoring=precision).mean()}\")\n",
    "print(f\"svm_kbo_입단시즌 5-folds precision : {cross_val_score(svc, X_data, y_data, cv=kfold, scoring=precision)}, mean : {cross_val_score(svc, X_data, y_data, cv=kfold, scoring=precision).mean()}\")\n",
    "\n"
   ]
  },
  {
   "cell_type": "code",
   "execution_count": 58,
   "id": "43fc020a",
   "metadata": {
    "ExecuteTime": {
     "end_time": "2023-02-28T05:13:49.565333Z",
     "start_time": "2023-02-28T05:13:32.747933Z"
    }
   },
   "outputs": [
    {
     "name": "stdout",
     "output_type": "stream",
     "text": [
      "xgb_kbo_입단시즌 5-folds precision : [0.6        0.2        0.25       0.22222222 0.4       ], mean : 0.33444444444444443\n",
      "cat_kbo_입단시즌 5-folds precision : [0.4  0.2  0.25 0.   0.2 ], mean : 0.21000000000000002\n",
      "lgbm_kbo_입단시즌 5-folds precision : [0.6        0.         0.25       0.11111111 0.6       ], mean : 0.3122222222222222\n",
      "lr_kbo_입단시즌 5-folds precision : [1.         0.8        0.5        0.22222222 0.2       ], mean : 0.5444444444444445\n",
      "svm_kbo_입단시즌 5-folds precision : [0. 0. 0. 0. 0.], mean : 0.0\n"
     ]
    }
   ],
   "source": [
    "recall = \"recall\"\n",
    "\n",
    "print(f\"xgb_kbo_입단시즌 5-folds precision : {cross_val_score(xgb, X_data, y_data, cv=kfold, scoring=recall)}, mean : {cross_val_score(xgb, X_data, y_data, cv=kfold, scoring=recall).mean()}\")\n",
    "print(f\"cat_kbo_입단시즌 5-folds precision : {cross_val_score(cat, X_data, y_data, cv=kfold, scoring=recall)}, mean : {cross_val_score(cat, X_data, y_data, cv=kfold, scoring=recall).mean()}\")\n",
    "print(f\"lgbm_kbo_입단시즌 5-folds precision : {cross_val_score(lgbm, X_data, y_data, cv=kfold, scoring=recall)}, mean : {cross_val_score(lgbm, X_data, y_data, cv=kfold, scoring=recall).mean()}\")\n",
    "print(f\"lr_kbo_입단시즌 5-folds precision : {cross_val_score(lr, X_data, y_data, cv=kfold, scoring=recall)}, mean : {cross_val_score(lr, X_data, y_data, cv=kfold, scoring=recall).mean()}\")\n",
    "print(f\"svm_kbo_입단시즌 5-folds precision : {cross_val_score(svc, X_data, y_data, cv=kfold, scoring=recall)}, mean : {cross_val_score(svc, X_data, y_data, cv=kfold, scoring=recall).mean()}\")\n",
    "\n"
   ]
  },
  {
   "cell_type": "code",
   "execution_count": 65,
   "id": "7b59a352",
   "metadata": {
    "ExecuteTime": {
     "end_time": "2023-02-28T06:12:36.297570Z",
     "start_time": "2023-02-28T06:12:36.278574Z"
    }
   },
   "outputs": [],
   "source": [
    "from sklearn.linear_model import LogisticRegression\n",
    "import matplotlib.pyplot as plt\n",
    "\n",
    "def feature_importances_graph(X,y):\n",
    "    model = LogisticRegression()\n",
    "    model.fit(X,y)\n",
    "    importances = pd.DataFrame(data = {\"Attribute\" : X.columns,\n",
    "                                      \"Importance\" : abs(model.coef_[0])})\n",
    "    importances = importances.sort_values(by = \"Importance\", ascending = False)\n",
    "    \n",
    "    plt.bar(x = importances[\"Attribute\"], height = importances[\"Importance\"])\n",
    "    plt.title(\"Feature importances\", size = 15)\n",
    "    plt.xticks(rotation = 'vertical')\n",
    "    plt.show()"
   ]
  },
  {
   "cell_type": "code",
   "execution_count": 66,
   "id": "df1577eb",
   "metadata": {
    "ExecuteTime": {
     "end_time": "2023-02-28T06:12:38.217203Z",
     "start_time": "2023-02-28T06:12:37.986078Z"
    }
   },
   "outputs": [
    {
     "data": {
      "image/png": "[encoded data removed]",
      "text/plain": [
       "<Figure size 640x480 with 1 Axes>"
      ]
     },
     "metadata": {},
     "output_type": "display_data"
    }
   ],
   "source": [
    "feature_importances_graph(X_data, y_data)"
   ]
  },
  {
   "cell_type": "code",
   "execution_count": 141,
   "id": "3422552a",
   "metadata": {},
   "outputs": [
    {
     "name": "stdout",
     "output_type": "stream",
     "text": [
      "xgb_마이너리그 5-folds f1 : [0.4        0.         0.28571429 0.2        0.36363636], mean : 0.24987012987012985\n",
      "cat_마이너리그 5-folds f1 : [0.44444444 0.         0.33333333 0.66666667 0.4       ], mean : 0.3688888888888888\n",
      "lgbm_마이너리그 5-folds f1 : [0.72727273 0.         0.         0.44444444 0.        ], mean : 0.23434343434343435\n",
      "lr_마이너리그 5-folds f1 : [0.         0.33333333 0.44444444 0.22222222 0.25      ], mean : 0.25\n",
      "svm_마이너리그 5-folds f1 : [0. 0. 0. 0. 0.], mean : 0.0\n"
     ]
    }
   ],
   "source": [
    "f1 = \"f1\"\n",
    "\n",
    "print(f\"xgb_마이너리그 5-folds f1 : {cross_val_score(xgb, X_data, y_data, cv=kfold, scoring = f1)}, mean : {cross_val_score(xgb, X_data, y_data, cv=kfold, scoring = f1).mean()}\")\n",
    "print(f\"cat_마이너리그 5-folds f1 : {cross_val_score(cat, X_data, y_data, cv=kfold, scoring = f1)}, mean : {cross_val_score(cat, X_data, y_data, cv=kfold, scoring = f1).mean()}\")\n",
    "print(f\"lgbm_마이너리그 5-folds f1 : {cross_val_score(lgbm, X_data, y_data, cv=kfold, scoring = f1)}, mean : {cross_val_score(lgbm, X_data, y_data, cv=kfold, scoring = f1).mean()}\")\n",
    "print(f\"lr_마이너리그 5-folds f1 : {cross_val_score(lr, X_data, y_data, cv=kfold, scoring = f1)}, mean : {cross_val_score(lr, X_data, y_data, cv=kfold, scoring = f1).mean()}\")\n",
    "print(f\"svm_마이너리그 5-folds f1 : {cross_val_score(svc, X_data, y_data, cv=kfold, scoring = f1)}, mean : {cross_val_score(svc, X_data, y_data, cv=kfold, scoring = f1).mean()}\")\n",
    "\n"
   ]
  },
  {
   "cell_type": "code",
   "execution_count": 142,
   "id": "bb4abd0d",
   "metadata": {},
   "outputs": [
    {
     "name": "stdout",
     "output_type": "stream",
     "text": [
      "xgb_마이너리그 5-folds roc_auc : [0.58333333 0.23333333 0.55       0.55555556 0.42857143], mean : 0.47015873015873016\n",
      "cat_마이너리그 5-folds roc_auc : [0.66666667 0.26666667 0.625      0.69444444 0.54761905], mean : 0.5600793650793652\n",
      "lgbm_마이너리그 5-folds roc_auc : [0.77083333 0.4        0.575      0.63888889 0.52380952], mean : 0.5817063492063491\n",
      "lr_마이너리그 5-folds roc_auc : [0.35416667 0.53333333 0.55       0.5        0.5       ], mean : 0.4875\n",
      "svm_마이너리그 5-folds roc_auc : [0.4375     0.23333333 0.6        0.66666667 0.33333333], mean : 0.4541666666666667\n"
     ]
    }
   ],
   "source": [
    "roc_auc = \"roc_auc\"\n",
    "\n",
    "print(f\"xgb_마이너리그 5-folds roc_auc : {cross_val_score(xgb, X_data, y_data, cv=kfold, scoring = roc_auc)}, mean : {cross_val_score(xgb, X_data, y_data, cv=kfold, scoring = roc_auc).mean()}\")\n",
    "print(f\"cat_마이너리그 5-folds roc_auc : {cross_val_score(cat, X_data, y_data, cv=kfold, scoring = roc_auc)}, mean : {cross_val_score(cat, X_data, y_data, cv=kfold, scoring = roc_auc).mean()}\")\n",
    "print(f\"lgbm_마이너리그 5-folds roc_auc : {cross_val_score(lgbm, X_data, y_data, cv=kfold, scoring = roc_auc)}, mean : {cross_val_score(lgbm, X_data, y_data, cv=kfold, scoring = roc_auc).mean()}\")\n",
    "print(f\"lr_마이너리그 5-folds roc_auc : {cross_val_score(lr, X_data, y_data, cv=kfold, scoring = roc_auc)}, mean : {cross_val_score(lr, X_data, y_data, cv=kfold, scoring = roc_auc).mean()}\")\n",
    "print(f\"svm_마이너리그 5-folds roc_auc : {cross_val_score(svc, X_data, y_data, cv=kfold, scoring = roc_auc)}, mean : {cross_val_score(svc, X_data, y_data, cv=kfold, scoring = roc_auc).mean()}\")\n"
   ]
  },
  {
   "cell_type": "markdown",
   "id": "3f8fd0a7",
   "metadata": {},
   "source": [
    "# smote 오버샘플링"
   ]
  },
  {
   "cell_type": "code",
   "execution_count": 111,
   "id": "133cce15",
   "metadata": {},
   "outputs": [],
   "source": [
    "from sklearn.preprocessing import StandardScaler\n",
    "from imblearn.over_sampling import SMOTE\n",
    "ss = StandardScaler()\n",
    "smote = SMOTE()"
   ]
  },
  {
   "cell_type": "code",
   "execution_count": 143,
   "id": "a404f70f",
   "metadata": {},
   "outputs": [],
   "source": [
    "X_data = kbo.drop(columns = [\"이름\",\"P\",\"재계약여부\"])\n",
    "y_data = kbo[\"재계약여부\"]\n",
    "\n",
    "X_data_pre = X_data.copy()\n",
    "\n",
    "X_data_pre = ss.fit_transform(X_data_pre)\n",
    "X_data_over, y_data_over = smote.fit_resample(X_data_pre, y_data)"
   ]
  },
  {
   "cell_type": "code",
   "execution_count": 144,
   "id": "1821f5a3",
   "metadata": {},
   "outputs": [
    {
     "name": "stdout",
     "output_type": "stream",
     "text": [
      "xgb_kbo_입단시즌 5-folds : [0.88235294 0.88235294 0.88235294 0.94117647 0.8125    ], mean : 0.8801470588235294\n",
      "cat_kbo_입단시즌 5-folds : [0.88235294 0.88235294 0.94117647 0.88235294 0.875     ], mean : 0.8926470588235293\n",
      "lgbm_kbo_입단시즌 5-folds : [0.82352941 0.88235294 0.88235294 0.88235294 0.75      ], mean : 0.8441176470588235\n",
      "lr_kbo_입단시즌 5-folds : [0.82352941 0.88235294 1.         0.94117647 0.8125    ], mean : 0.8919117647058824\n",
      "svm_kbo_입단시즌 5-folds : [0.88235294 0.88235294 1.         0.88235294 0.875     ], mean : 0.9044117647058822\n"
     ]
    }
   ],
   "source": [
    "print(f\"xgb_kbo_입단시즌 5-folds : {cross_val_score(xgb, X_data_over, y_data_over, cv=kfold)}, mean : {cross_val_score(xgb, X_data_over, y_data_over, cv=kfold).mean()}\")\n",
    "print(f\"cat_kbo_입단시즌 5-folds : {cross_val_score(cat, X_data_over, y_data_over, cv=kfold)}, mean : {cross_val_score(cat, X_data_over, y_data_over, cv=kfold).mean()}\")\n",
    "print(f\"lgbm_kbo_입단시즌 5-folds : {cross_val_score(lgbm, X_data_over, y_data_over, cv=kfold)}, mean : {cross_val_score(lgbm, X_data_over, y_data_over, cv=kfold).mean()}\")\n",
    "print(f\"lr_kbo_입단시즌 5-folds : {cross_val_score(lr, X_data_over, y_data_over, cv=kfold)}, mean : {cross_val_score(lr, X_data_over, y_data_over, cv=kfold).mean()}\")\n",
    "print(f\"svm_kbo_입단시즌 5-folds : {cross_val_score(svc, X_data_over, y_data_over, cv=kfold)}, mean : {cross_val_score(svc, X_data_over, y_data_over, cv=kfold).mean()}\")\n",
    "\n"
   ]
  },
  {
   "cell_type": "code",
   "execution_count": 145,
   "id": "3514bfb2",
   "metadata": {},
   "outputs": [
    {
     "name": "stdout",
     "output_type": "stream",
     "text": [
      "xgb_kbo_입단시즌 5-folds f1 : [0.88888889 0.875      0.8        0.95238095 0.84210526], mean : 0.8716750208855473\n",
      "cat_kbo_입단시즌 5-folds f1 : [0.88888889 0.875      0.90909091 0.9        0.90909091], mean : 0.8964141414141414\n",
      "lgbm_kbo_입단시즌 5-folds f1 : [0.82352941 0.875      0.8        0.9        0.8       ], mean : 0.8397058823529413\n",
      "lr_kbo_입단시즌 5-folds f1 : [0.84210526 0.875      1.         0.95238095 0.85714286], mean : 0.9053258145363408\n",
      "svm_kbo_입단시즌 5-folds f1 : [0.88888889 0.875      1.         0.9        0.90909091], mean : 0.9145959595959596\n"
     ]
    }
   ],
   "source": [
    "f1 = \"f1\"\n",
    "\n",
    "print(f\"xgb_kbo_입단시즌 5-folds f1 : {cross_val_score(xgb, X_data_over, y_data_over, cv=kfold, scoring = f1)}, mean : {cross_val_score(xgb, X_data_over, y_data_over, cv=kfold, scoring = f1).mean()}\")\n",
    "print(f\"cat_kbo_입단시즌 5-folds f1 : {cross_val_score(cat, X_data_over, y_data_over, cv=kfold, scoring = f1)}, mean : {cross_val_score(cat, X_data_over, y_data_over, cv=kfold, scoring = f1).mean()}\")\n",
    "print(f\"lgbm_kbo_입단시즌 5-folds f1 : {cross_val_score(lgbm, X_data_over, y_data_over, cv=kfold, scoring = f1)}, mean : {cross_val_score(lgbm, X_data_over, y_data_over, cv=kfold, scoring = f1).mean()}\")\n",
    "print(f\"lr_kbo_입단시즌 5-folds f1 : {cross_val_score(lr, X_data_over, y_data_over, cv=kfold, scoring = f1)}, mean : {cross_val_score(lr, X_data_over, y_data_over, cv=kfold, scoring = f1).mean()}\")\n",
    "print(f\"svm_kbo_입단시즌 5-folds f1 : {cross_val_score(svc, X_data_over, y_data_over, cv=kfold, scoring = f1)}, mean : {cross_val_score(svc, X_data_over, y_data_over, cv=kfold, scoring = f1).mean()}\")\n"
   ]
  },
  {
   "cell_type": "code",
   "execution_count": 146,
   "id": "e2362f39",
   "metadata": {},
   "outputs": [
    {
     "name": "stdout",
     "output_type": "stream",
     "text": [
      "xgb_kbo_입단시즌 5-folds roc_auc : [0.97222222 0.97222222 0.96666667 0.94285714 0.91666667], mean : 0.9541269841269842\n",
      "cat_kbo_입단시즌 5-folds roc_auc : [0.97222222 0.97222222 1.         0.97142857 0.9       ], mean : 0.9631746031746033\n",
      "lgbm_kbo_입단시즌 5-folds roc_auc : [0.97222222 0.98611111 0.98333333 0.98571429 0.93333333], mean : 0.9721428571428572\n",
      "lr_kbo_입단시즌 5-folds roc_auc : [0.88888889 0.93055556 1.         0.95714286 0.85      ], mean : 0.9253174603174603\n",
      "svm_kbo_입단시즌 5-folds roc_auc : [0.93055556 0.97222222 1.         0.92857143 0.91666667], mean : 0.9496031746031747\n"
     ]
    }
   ],
   "source": [
    "roc_auc = \"roc_auc\"\n",
    "\n",
    "print(f\"xgb_kbo_입단시즌 5-folds roc_auc : {cross_val_score(xgb, X_data_over, y_data_over, cv=kfold, scoring = roc_auc)}, mean : {cross_val_score(xgb, X_data_over, y_data_over, cv=kfold, scoring = roc_auc).mean()}\")\n",
    "print(f\"cat_kbo_입단시즌 5-folds roc_auc : {cross_val_score(cat, X_data_over, y_data_over, cv=kfold, scoring = roc_auc)}, mean : {cross_val_score(cat, X_data_over, y_data_over, cv=kfold, scoring = roc_auc).mean()}\")\n",
    "print(f\"lgbm_kbo_입단시즌 5-folds roc_auc : {cross_val_score(lgbm, X_data_over, y_data_over, cv=kfold, scoring = roc_auc)}, mean : {cross_val_score(lgbm, X_data_over, y_data_over, cv=kfold, scoring = roc_auc).mean()}\")\n",
    "print(f\"lr_kbo_입단시즌 5-folds roc_auc : {cross_val_score(lr, X_data_over, y_data_over, cv=kfold, scoring = roc_auc)}, mean : {cross_val_score(lr, X_data_over, y_data_over, cv=kfold, scoring = roc_auc).mean()}\")\n",
    "print(f\"svm_kbo_입단시즌 5-folds roc_auc : {cross_val_score(svc, X_data_over, y_data_over, cv=kfold, scoring = roc_auc)}, mean : {cross_val_score(svc, X_data_over, y_data_over, cv=kfold, scoring = roc_auc).mean()}\")\n"
   ]
  },
  {
   "cell_type": "markdown",
   "id": "de38e23d",
   "metadata": {},
   "source": [
    "## 마이너리그"
   ]
  },
  {
   "cell_type": "code",
   "execution_count": 147,
   "id": "13344b28",
   "metadata": {},
   "outputs": [],
   "source": [
    "X_data = minor.drop(columns = [\"이름\",\"재계약여부\"])\n",
    "y_data = minor[\"재계약여부\"]\n",
    "\n",
    "X_data_pre = X_data.copy()\n",
    "\n",
    "X_data_pre = ss.fit_transform(X_data_pre)\n",
    "X_data_over, y_data_over = smote.fit_resample(X_data_pre, y_data)"
   ]
  },
  {
   "cell_type": "code",
   "execution_count": 151,
   "id": "6591dd2e",
   "metadata": {},
   "outputs": [
    {
     "name": "stdout",
     "output_type": "stream",
     "text": [
      "xgb_마이너리그 5-folds : [0.70588235 0.58823529 0.64705882 0.76470588 0.625     ], mean : 0.6661764705882354\n",
      "cat_마이너리그 5-folds : [0.76470588 0.58823529 0.70588235 0.88235294 0.6875    ], mean : 0.7257352941176471\n",
      "lgbm_마이너리그 5-folds : [0.82352941 0.41176471 0.64705882 0.70588235 0.6875    ], mean : 0.6551470588235294\n",
      "lr_마이너리그 5-folds : [0.70588235 0.47058824 0.76470588 0.76470588 0.625     ], mean : 0.6661764705882354\n",
      "svm_마이너리그 5-folds : [0.70588235 0.58823529 0.64705882 0.76470588 0.6875    ], mean : 0.6786764705882353\n"
     ]
    }
   ],
   "source": [
    "print(f\"xgb_마이너리그 5-folds : {cross_val_score(xgb, X_data_over, y_data_over, cv=kfold)}, mean : {cross_val_score(xgb, X_data_over, y_data_over, cv=kfold).mean()}\")\n",
    "print(f\"cat_마이너리그 5-folds : {cross_val_score(cat, X_data_over, y_data_over, cv=kfold)}, mean : {cross_val_score(cat, X_data_over, y_data_over, cv=kfold).mean()}\")\n",
    "print(f\"lgbm_마이너리그 5-folds : {cross_val_score(lgbm, X_data_over, y_data_over, cv=kfold)}, mean : {cross_val_score(lgbm, X_data_over, y_data_over, cv=kfold).mean()}\")\n",
    "print(f\"lr_마이너리그 5-folds : {cross_val_score(lr, X_data_over, y_data_over, cv=kfold)}, mean : {cross_val_score(lr, X_data_over, y_data_over, cv=kfold).mean()}\")\n",
    "print(f\"svm_마이너리그 5-folds : {cross_val_score(svc, X_data_over, y_data_over, cv=kfold)}, mean : {cross_val_score(svc, X_data_over, y_data_over, cv=kfold).mean()}\")\n",
    "\n"
   ]
  },
  {
   "cell_type": "code",
   "execution_count": 149,
   "id": "fb6316cc",
   "metadata": {},
   "outputs": [
    {
     "name": "stdout",
     "output_type": "stream",
     "text": [
      "xgb_마이너리그 5-folds f1 : [0.70588235 0.63157895 0.57142857 0.77777778 0.7       ], mean : 0.6773335299031894\n",
      "cat_마이너리그 5-folds f1 : [0.75       0.63157895 0.61538462 0.9        0.73684211], mean : 0.7267611336032388\n",
      "lgbm_마이너리그 5-folds f1 : [0.84210526 0.44444444 0.625      0.70588235 0.7826087 ], mean : 0.6800081512391379\n",
      "lr_마이너리그 5-folds f1 : [0.70588235 0.4        0.66666667 0.77777778 0.625     ], mean : 0.6350653594771242\n",
      "svm_마이너리그 5-folds f1 : [0.66666667 0.58823529 0.57142857 0.77777778 0.73684211], mean : 0.668190083050764\n"
     ]
    }
   ],
   "source": [
    "f1 = \"f1\"\n",
    "\n",
    "print(f\"xgb_마이너리그 5-folds f1 : {cross_val_score(xgb, X_data_over, y_data_over, cv=kfold, scoring = f1)}, mean : {cross_val_score(xgb, X_data_over, y_data_over, cv=kfold, scoring = f1).mean()}\")\n",
    "print(f\"cat_마이너리그 5-folds f1 : {cross_val_score(cat, X_data_over, y_data_over, cv=kfold, scoring = f1)}, mean : {cross_val_score(cat, X_data_over, y_data_over, cv=kfold, scoring = f1).mean()}\")\n",
    "print(f\"lgbm_마이너리그 5-folds f1 : {cross_val_score(lgbm, X_data_over, y_data_over, cv=kfold, scoring = f1)}, mean : {cross_val_score(lgbm, X_data_over, y_data_over, cv=kfold, scoring = f1).mean()}\")\n",
    "print(f\"lr_마이너리그 5-folds f1 : {cross_val_score(lr, X_data_over, y_data_over, cv=kfold, scoring = f1)}, mean : {cross_val_score(lr, X_data_over, y_data_over, cv=kfold, scoring = f1).mean()}\")\n",
    "print(f\"svm_마이너리그 5-folds f1 : {cross_val_score(svc, X_data_over, y_data_over, cv=kfold, scoring = f1)}, mean : {cross_val_score(svc, X_data_over, y_data_over, cv=kfold, scoring = f1).mean()}\")\n"
   ]
  },
  {
   "cell_type": "code",
   "execution_count": 150,
   "id": "2d971fd6",
   "metadata": {},
   "outputs": [
    {
     "name": "stdout",
     "output_type": "stream",
     "text": [
      "xgb_마이너리그 5-folds roc_auc : [0.84722222 0.73611111 0.73333333 0.85714286 0.76666667], mean : 0.7880952380952382\n",
      "cat_마이너리그 5-folds roc_auc : [0.88888889 0.77777778 0.86666667 0.87142857 0.83333333], mean : 0.8476190476190476\n",
      "lgbm_마이너리그 5-folds roc_auc : [0.94444444 0.55555556 0.75       0.84285714 0.7       ], mean : 0.7585714285714286\n",
      "lr_마이너리그 5-folds roc_auc : [0.56944444 0.59722222 0.68333333 0.81428571 0.81666667], mean : 0.6961904761904762\n",
      "svm_마이너리그 5-folds roc_auc : [0.80555556 0.73611111 0.78333333 0.8        0.81666667], mean : 0.7883333333333333\n"
     ]
    }
   ],
   "source": [
    "roc_auc = \"roc_auc\"\n",
    "\n",
    "print(f\"xgb_마이너리그 5-folds roc_auc : {cross_val_score(xgb, X_data_over, y_data_over, cv=kfold, scoring = roc_auc)}, mean : {cross_val_score(xgb, X_data_over, y_data_over, cv=kfold, scoring = roc_auc).mean()}\")\n",
    "print(f\"cat_마이너리그 5-folds roc_auc : {cross_val_score(cat, X_data_over, y_data_over, cv=kfold, scoring = roc_auc)}, mean : {cross_val_score(cat, X_data_over, y_data_over, cv=kfold, scoring = roc_auc).mean()}\")\n",
    "print(f\"lgbm_마이너리그 5-folds roc_auc : {cross_val_score(lgbm, X_data_over, y_data_over, cv=kfold, scoring = roc_auc)}, mean : {cross_val_score(lgbm, X_data_over, y_data_over, cv=kfold, scoring = roc_auc).mean()}\")\n",
    "print(f\"lr_마이너리그 5-folds roc_auc : {cross_val_score(lr, X_data_over, y_data_over, cv=kfold, scoring = roc_auc)}, mean : {cross_val_score(lr, X_data_over, y_data_over, cv=kfold, scoring = roc_auc).mean()}\")\n",
    "print(f\"svm_마이너리그 5-folds roc_auc : {cross_val_score(svc, X_data_over, y_data_over, cv=kfold, scoring = roc_auc)}, mean : {cross_val_score(svc, X_data_over, y_data_over, cv=kfold, scoring = roc_auc).mean()}\")\n"
   ]
  },
  {
   "cell_type": "code",
   "execution_count": 127,
   "id": "a5fa481a",
   "metadata": {},
   "outputs": [
    {
     "data": {
      "text/plain": [
       "array([[ 0.95873286,  0.99813813,  0.93582124, ...,  1.36391694,\n",
       "        -0.85803697, -1.45988811],\n",
       "       [-1.35820488, -1.32323987, -1.27654089, ..., -0.29541058,\n",
       "        -0.85803697,  0.70048443],\n",
       "       [-0.53262936, -0.5537223 , -0.61428775, ...,  0.94908506,\n",
       "        -0.14119596, -1.0278136 ],\n",
       "       ...,\n",
       "       [ 0.42610349,  0.48512642,  0.58650091, ..., -0.29541058,\n",
       "         2.00932708,  0.70048443],\n",
       "       [ 0.42610349,  0.48512642,  0.58650091, ..., -0.29541058,\n",
       "         2.00932708, -0.5957391 ],\n",
       "       [-1.19841607, -1.12444783, -1.12371324, ..., -1.12507434,\n",
       "        -0.85803697, -0.16366459]])"
      ]
     },
     "execution_count": 127,
     "metadata": {},
     "output_type": "execute_result"
    }
   ],
   "source": [
    "X_data_pre"
   ]
  }
 ],
 "metadata": {
  "kernelspec": {
   "display_name": "Python 3 (ipykernel)",
   "language": "python",
   "name": "python3"
  },
  "language_info": {
   "codemirror_mode": {
    "name": "ipython",
    "version": 3
   },
   "file_extension": ".py",
   "mimetype": "text/x-python",
   "name": "python",
   "nbconvert_exporter": "python",
   "pygments_lexer": "ipython3",
   "version": "3.9.13"
  },
  "toc": {
   "base_numbering": 1,
   "nav_menu": {},
   "number_sections": true,
   "sideBar": true,
   "skip_h1_title": false,
   "title_cell": "Table of Contents",
   "title_sidebar": "Contents",
   "toc_cell": false,
   "toc_position": {},
   "toc_section_display": true,
   "toc_window_display": false
  }
 },
 "nbformat": 4,
 "nbformat_minor": 5
}
